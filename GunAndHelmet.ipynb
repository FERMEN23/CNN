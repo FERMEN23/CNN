{
  "nbformat": 4,
  "nbformat_minor": 0,
  "metadata": {
    "colab": {
      "name": "GunAndHelmet.ipynb",
      "provenance": [],
      "collapsed_sections": [],
      "authorship_tag": "ABX9TyNcKDv+/FrbCaTj/kJBU1K7",
      "include_colab_link": true
    },
    "kernelspec": {
      "name": "python3",
      "display_name": "Python 3"
    },
    "language_info": {
      "name": "python"
    },
    "accelerator": "GPU"
  },
  "cells": [
    {
      "cell_type": "markdown",
      "metadata": {
        "id": "view-in-github",
        "colab_type": "text"
      },
      "source": [
        "<a href=\"https://colab.research.google.com/github/FERMEN23/CNN/blob/main/GunAndHelmet.ipynb\" target=\"_parent\"><img src=\"https://colab.research.google.com/assets/colab-badge.svg\" alt=\"Open In Colab\"/></a>"
      ]
    },
    {
      "cell_type": "markdown",
      "metadata": {
        "id": "RI18vo0Pz37A"
      },
      "source": [
        "##Configuración de nuestro entorno de ejecución\n",
        "\n",
        "Nota: Es necesario utilizar la GPU"
      ]
    },
    {
      "cell_type": "code",
      "metadata": {
        "id": "o07XzZ0fUpjG",
        "colab": {
          "base_uri": "https://localhost:8080/"
        },
        "outputId": "14f9305e-967f-418f-ff9b-ba4818c04959"
      },
      "source": [
        "! git clone https://github.com/roboflow-ai/Monk_Object_Detection.git"
      ],
      "execution_count": 1,
      "outputs": [
        {
          "output_type": "stream",
          "name": "stdout",
          "text": [
            "Cloning into 'Monk_Object_Detection'...\n",
            "remote: Enumerating objects: 3747, done.\u001b[K\n",
            "remote: Total 3747 (delta 0), reused 0 (delta 0), pack-reused 3747\u001b[K\n",
            "Receiving objects: 100% (3747/3747), 132.20 MiB | 25.66 MiB/s, done.\n",
            "Resolving deltas: 100% (800/800), done.\n",
            "Checking out files: 100% (4032/4032), done.\n"
          ]
        }
      ]
    },
    {
      "cell_type": "code",
      "metadata": {
        "id": "DIN3c7vCVNnF",
        "colab": {
          "base_uri": "https://localhost:8080/"
        },
        "outputId": "931b32b0-8087-43ae-df33-c5b9843e6320"
      },
      "source": [
        "! cd Monk_Object_Detection/3_mxrcnn/installation && cat requirements_colab.txt | xargs -n 1 -L 1 pip install"
      ],
      "execution_count": 2,
      "outputs": [
        {
          "output_type": "stream",
          "name": "stdout",
          "text": [
            "Collecting mxnet-cu100\n",
            "  Downloading mxnet_cu100-1.8.0.post0-py2.py3-none-manylinux2014_x86_64.whl (352.6 MB)\n",
            "\u001b[K     |████████████████████████████████| 352.6 MB 13 kB/s \n",
            "\u001b[?25hRequirement already satisfied: numpy<2.0.0,>1.16.0 in /usr/local/lib/python3.7/dist-packages (from mxnet-cu100) (1.19.5)\n",
            "Requirement already satisfied: requests<3,>=2.20.0 in /usr/local/lib/python3.7/dist-packages (from mxnet-cu100) (2.23.0)\n",
            "Collecting graphviz<0.9.0,>=0.8.1\n",
            "  Downloading graphviz-0.8.4-py2.py3-none-any.whl (16 kB)\n",
            "Requirement already satisfied: certifi>=2017.4.17 in /usr/local/lib/python3.7/dist-packages (from requests<3,>=2.20.0->mxnet-cu100) (2021.5.30)\n",
            "Requirement already satisfied: idna<3,>=2.5 in /usr/local/lib/python3.7/dist-packages (from requests<3,>=2.20.0->mxnet-cu100) (2.10)\n",
            "Requirement already satisfied: chardet<4,>=3.0.2 in /usr/local/lib/python3.7/dist-packages (from requests<3,>=2.20.0->mxnet-cu100) (3.0.4)\n",
            "Requirement already satisfied: urllib3!=1.25.0,!=1.25.1,<1.26,>=1.21.1 in /usr/local/lib/python3.7/dist-packages (from requests<3,>=2.20.0->mxnet-cu100) (1.24.3)\n",
            "Installing collected packages: graphviz, mxnet-cu100\n",
            "  Attempting uninstall: graphviz\n",
            "    Found existing installation: graphviz 0.10.1\n",
            "    Uninstalling graphviz-0.10.1:\n",
            "      Successfully uninstalled graphviz-0.10.1\n",
            "Successfully installed graphviz-0.8.4 mxnet-cu100-1.8.0.post0\n",
            "Collecting dicttoxml\n",
            "  Downloading dicttoxml-1.7.4.tar.gz (18 kB)\n",
            "Building wheels for collected packages: dicttoxml\n",
            "  Building wheel for dicttoxml (setup.py) ... \u001b[?25l\u001b[?25hdone\n",
            "  Created wheel for dicttoxml: filename=dicttoxml-1.7.4-py3-none-any.whl size=17463 sha256=8599d890251b85aeb84d7007d4ee25b0e4952ca8db5345717ca9509aeb105437\n",
            "  Stored in directory: /root/.cache/pip/wheels/18/44/5a/c7b93703f611ae3b50820efbaf265413e6b183a56cbec6f661\n",
            "Successfully built dicttoxml\n",
            "Installing collected packages: dicttoxml\n",
            "Successfully installed dicttoxml-1.7.4\n",
            "Collecting xmltodict\n",
            "  Downloading xmltodict-0.12.0-py2.py3-none-any.whl (9.2 kB)\n",
            "Installing collected packages: xmltodict\n",
            "Successfully installed xmltodict-0.12.0\n",
            "Collecting pycocotools\n",
            "  Cloning https://github.com/abhi-kumar/cocoapi.git to /tmp/pip-install-12o44k0e/pycocotools_7337b12b502b457397aea43c6c42107d\n",
            "  Running command git clone -q https://github.com/abhi-kumar/cocoapi.git /tmp/pip-install-12o44k0e/pycocotools_7337b12b502b457397aea43c6c42107d\n",
            "Requirement already satisfied: setuptools>=18.0 in /usr/local/lib/python3.7/dist-packages (from pycocotools) (57.4.0)\n",
            "Requirement already satisfied: cython>=0.27.3 in /usr/local/lib/python3.7/dist-packages (from pycocotools) (0.29.24)\n",
            "Requirement already satisfied: matplotlib>=2.1.0 in /usr/local/lib/python3.7/dist-packages (from pycocotools) (3.2.2)\n",
            "Requirement already satisfied: kiwisolver>=1.0.1 in /usr/local/lib/python3.7/dist-packages (from matplotlib>=2.1.0->pycocotools) (1.3.2)\n",
            "Requirement already satisfied: cycler>=0.10 in /usr/local/lib/python3.7/dist-packages (from matplotlib>=2.1.0->pycocotools) (0.10.0)\n",
            "Requirement already satisfied: python-dateutil>=2.1 in /usr/local/lib/python3.7/dist-packages (from matplotlib>=2.1.0->pycocotools) (2.8.2)\n",
            "Requirement already satisfied: numpy>=1.11 in /usr/local/lib/python3.7/dist-packages (from matplotlib>=2.1.0->pycocotools) (1.19.5)\n",
            "Requirement already satisfied: pyparsing!=2.0.4,!=2.1.2,!=2.1.6,>=2.0.1 in /usr/local/lib/python3.7/dist-packages (from matplotlib>=2.1.0->pycocotools) (2.4.7)\n",
            "Requirement already satisfied: six in /usr/local/lib/python3.7/dist-packages (from cycler>=0.10->matplotlib>=2.1.0->pycocotools) (1.15.0)\n",
            "Building wheels for collected packages: pycocotools\n",
            "  Building wheel for pycocotools (setup.py) ... \u001b[?25l\u001b[?25hdone\n",
            "  Created wheel for pycocotools: filename=pycocotools-2.0-cp37-cp37m-linux_x86_64.whl size=263859 sha256=e9e14fb14680ae7fef8ad921243c4c0a412ea86d6bf71cc418c70d25925ce36e\n",
            "  Stored in directory: /tmp/pip-ephem-wheel-cache-8wv3gjw6/wheels/b8/4c/a6/f34b4aa3f634b4461fc1934f6d1dedf20df540f6a028547647\n",
            "Successfully built pycocotools\n",
            "Installing collected packages: pycocotools\n",
            "  Attempting uninstall: pycocotools\n",
            "    Found existing installation: pycocotools 2.0.2\n",
            "    Uninstalling pycocotools-2.0.2:\n",
            "      Successfully uninstalled pycocotools-2.0.2\n",
            "Successfully installed pycocotools-2.0\n"
          ]
        }
      ]
    },
    {
      "cell_type": "code",
      "metadata": {
        "id": "LEdV1tBQVfp8"
      },
      "source": [
        "#Version de tqmd para colab\n",
        "!pip install --force https://github.com/chengs/tqdm/archive/colab.zip\n",
        "\n",
        "#Arquitectura de red Efficeintnet\n",
        "!pip install efficientnet_pytorch\n",
        "!pip install tensorboardX"
      ],
      "execution_count": null,
      "outputs": []
    },
    {
      "cell_type": "markdown",
      "metadata": {
        "id": "XGTHp4Aj7xzV"
      },
      "source": [
        "##Obtener Datos procesador en Roboflow\n",
        "\n",
        "Recuerde que el espacio ENLACE corresponde al código de descarga en el formato COCO Json proporcionado por Roboflow "
      ]
    },
    {
      "cell_type": "code",
      "metadata": {
        "id": "OJKO2njCVmCD"
      },
      "source": [
        "!curl -L \" ENLACE \" > \\\n",
        "roboflow.zip; unzip roboflow.zip; \\\n",
        "rm roboflow.zip"
      ],
      "execution_count": null,
      "outputs": []
    },
    {
      "cell_type": "markdown",
      "metadata": {
        "id": "VCY3a2Zt78rI"
      },
      "source": [
        "##Estructura para los datos \n",
        "\n",
        "En las siguientes tres celdas, movemos los datos a una estructura que la biblioteca de detección de imágenes esperará"
      ]
    },
    {
      "cell_type": "code",
      "metadata": {
        "id": "qrsuPvMoVrAd"
      },
      "source": [
        "\n",
        "!mkdir War\n",
        "!mkdir War/annotations\n",
        "!mkdir War/Annotations\n",
        "!mkdir War/Images"
      ],
      "execution_count": 5,
      "outputs": []
    },
    {
      "cell_type": "code",
      "metadata": {
        "id": "EMmAcRaDVxPj"
      },
      "source": [
        "%cp train/_annotations.coco.json War/annotations/instances_Images.json"
      ],
      "execution_count": 6,
      "outputs": []
    },
    {
      "cell_type": "code",
      "metadata": {
        "id": "kx8EpALXVz0S"
      },
      "source": [
        "%cp train/*.jpg War/Images/"
      ],
      "execution_count": 7,
      "outputs": []
    },
    {
      "cell_type": "markdown",
      "metadata": {
        "id": "JsXicfD78G6a"
      },
      "source": [
        "##Entrenamiento"
      ]
    },
    {
      "cell_type": "code",
      "metadata": {
        "id": "ter8mvlhV4L0"
      },
      "source": [
        "import os\n",
        "import sys\n",
        "sys.path.append(\"Monk_Object_Detection/4_efficientdet/lib/\");"
      ],
      "execution_count": 8,
      "outputs": []
    },
    {
      "cell_type": "code",
      "metadata": {
        "id": "yuEjyrtIWEDW"
      },
      "source": [
        "from train_detector import Detector"
      ],
      "execution_count": 9,
      "outputs": []
    },
    {
      "cell_type": "code",
      "metadata": {
        "id": "m2d2RuyXWLy2"
      },
      "source": [
        "gtf = Detector();"
      ],
      "execution_count": 10,
      "outputs": []
    },
    {
      "cell_type": "code",
      "metadata": {
        "id": "DSHeJ1sfWXN2"
      },
      "source": [
        "#dirige el modelo hacia la estructura de archivos\n",
        "root_dir = \"./\";\n",
        "coco_dir = \"War\";\n",
        "img_dir = \"./\";\n",
        "set_dir = \"Images\";"
      ],
      "execution_count": 11,
      "outputs": []
    },
    {
      "cell_type": "code",
      "metadata": {
        "id": "QtI9oXurWbuH",
        "colab": {
          "base_uri": "https://localhost:8080/"
        },
        "outputId": "46a4459d-236d-461c-bea6-1e07317d0377"
      },
      "source": [
        "#Preparar los datos\n",
        "gtf.Train_Dataset(root_dir, coco_dir, img_dir, set_dir, batch_size=8, image_size=512, use_gpu=True)"
      ],
      "execution_count": 12,
      "outputs": [
        {
          "output_type": "stream",
          "name": "stdout",
          "text": [
            "loading annotations into memory...\n",
            "Done (t=0.01s)\n",
            "creating index...\n",
            "index created!\n"
          ]
        },
        {
          "output_type": "stream",
          "name": "stderr",
          "text": [
            "/usr/local/lib/python3.7/dist-packages/torch/utils/data/dataloader.py:481: UserWarning: This DataLoader will create 3 worker processes in total. Our suggested max number of worker in current system is 2, which is smaller than what this DataLoader is going to create. Please be aware that excessive worker creation might get DataLoader running slow or even freeze, lower the worker number to avoid potential slowness/freeze if necessary.\n",
            "  cpuset_checked))\n"
          ]
        }
      ]
    },
    {
      "cell_type": "code",
      "metadata": {
        "id": "M882XN6xWfaA",
        "colab": {
          "base_uri": "https://localhost:8080/",
          "height": 106
        },
        "outputId": "d4b1b71d-8bdb-4fb9-af73-8a31ffd6a619"
      },
      "source": [
        "gtf.Model();"
      ],
      "execution_count": 13,
      "outputs": [
        {
          "output_type": "stream",
          "name": "stderr",
          "text": [
            "Downloading: \"https://github.com/lukemelas/EfficientNet-PyTorch/releases/download/1.0/efficientnet-b0-355c32eb.pth\" to /root/.cache/torch/hub/checkpoints/efficientnet-b0-355c32eb.pth\n"
          ]
        },
        {
          "output_type": "display_data",
          "data": {
            "text/html": [
              "<div style=\"display:flex;flex-direction:row;\"><span></span><progress style='margin:2px 4px;' max='21388428' value='21388428'></progress>100% 20.4M/20.4M [00:00&lt;00:00, 87.0MB/s]</div>"
            ],
            "text/plain": [
              "<tqdm._fake_ipywidgets.HBox object>"
            ]
          },
          "metadata": {}
        },
        {
          "output_type": "stream",
          "name": "stdout",
          "text": [
            "\n",
            "Loaded pretrained weights for efficientnet-b0\n"
          ]
        }
      ]
    },
    {
      "cell_type": "code",
      "metadata": {
        "id": "AajWJLG6Wnrv"
      },
      "source": [
        "gtf.Set_Hyperparams(lr=0.0001, val_interval=1, es_min_delta=0.0, es_patience=0)"
      ],
      "execution_count": 14,
      "outputs": []
    },
    {
      "cell_type": "code",
      "metadata": {
        "id": "W_1rNOYcWqme",
        "colab": {
          "base_uri": "https://localhost:8080/",
          "height": 1000
        },
        "outputId": "7105e939-d845-4681-c9ac-fa9188346f0b"
      },
      "source": [
        "%%time\n",
        "gtf.Train(num_epochs=100, model_output_dir=\"trained/\");"
      ],
      "execution_count": 16,
      "outputs": [
        {
          "data": {
            "text/html": [
              "<div style=\"display:flex;flex-direction:row;\"><span>Epoch: 1/100. Iteration: 35/35. Cls loss: 0.49808. Reg loss: 0.80262. Batch loss: 1.30070 Total loss: 1.32212</span><progress style='margin:2px 4px;description_width:initial;' max='35' value='35'></progress>100% 35/35 [02:35&lt;00:00,  4.40s/it]</div>"
            ],
            "text/plain": [
              "<tqdm._fake_ipywidgets.HBox object>"
            ]
          },
          "metadata": {},
          "output_type": "display_data"
        },
        {
          "metadata": {
            "tags": null
          },
          "name": "stderr",
          "output_type": "stream",
          "text": [
            "/usr/local/lib/python3.7/dist-packages/torch/utils/data/dataloader.py:481: UserWarning: This DataLoader will create 3 worker processes in total. Our suggested max number of worker in current system is 2, which is smaller than what this DataLoader is going to create. Please be aware that excessive worker creation might get DataLoader running slow or even freeze, lower the worker number to avoid potential slowness/freeze if necessary.\n",
            "  cpuset_checked))\n",
            "Monk_Object_Detection/4_efficientdet/lib/src/model.py:251: TracerWarning: Using len to get tensor shape might cause the trace to be incorrect. Recommended usage would be tensor.shape[0]. Passing a tensor of different shape might lead to errors or silently give incorrect results.\n",
            "  if len(inputs) == 2:\n",
            "Monk_Object_Detection/4_efficientdet/lib/src/utils.py:84: TracerWarning: Converting a tensor to a Python integer might cause the trace to be incorrect. We can't record the data flow of Python values, so this value will be treated as a constant in the future. This means that the trace might not generalize to other inputs!\n",
            "  image_shape = np.array(image_shape)\n",
            "Monk_Object_Detection/4_efficientdet/lib/src/utils.py:96: TracerWarning: torch.from_numpy results are registered as constants in the trace. You can safely ignore this warning if you use this function to create tensors out of constant variables that would be the same every time you call this function. In any other case, this might cause the trace to be incorrect.\n",
            "  anchors = torch.from_numpy(all_anchors.astype(np.float32))\n",
            "Monk_Object_Detection/4_efficientdet/lib/src/model.py:282: TracerWarning: Converting a tensor to a Python boolean might cause the trace to be incorrect. We can't record the data flow of Python values, so this value will be treated as a constant in the future. This means that the trace might not generalize to other inputs!\n",
            "  if scores_over_thresh.sum() == 0:\n"
          ]
        },
        {
          "data": {
            "text/html": [
              "<div style=\"display:flex;flex-direction:row;\"><span>Epoch: 2/100. Iteration: 35/35. Cls loss: 0.60519. Reg loss: 0.67009. Batch loss: 1.27527 Total loss: 1.26162</span><progress style='margin:2px 4px;description_width:initial;' max='35' value='35'></progress>100% 35/35 [02:35&lt;00:00,  4.40s/it]</div>"
            ],
            "text/plain": [
              "<tqdm._fake_ipywidgets.HBox object>"
            ]
          },
          "metadata": {},
          "output_type": "display_data"
        },
        {
          "data": {
            "text/html": [
              "<div style=\"display:flex;flex-direction:row;\"><span>Epoch: 3/100. Iteration: 35/35. Cls loss: 0.38725. Reg loss: 0.62706. Batch loss: 1.01431 Total loss: 1.21106</span><progress style='margin:2px 4px;description_width:initial;' max='35' value='35'></progress>100% 35/35 [02:34&lt;00:00,  4.40s/it]</div>"
            ],
            "text/plain": [
              "<tqdm._fake_ipywidgets.HBox object>"
            ]
          },
          "metadata": {},
          "output_type": "display_data"
        },
        {
          "data": {
            "text/html": [
              "<div style=\"display:flex;flex-direction:row;\"><span>Epoch: 4/100. Iteration: 35/35. Cls loss: 0.45669. Reg loss: 0.73777. Batch loss: 1.19446 Total loss: 1.14212</span><progress style='margin:2px 4px;description_width:initial;' max='35' value='35'></progress>100% 35/35 [02:34&lt;00:00,  4.41s/it]</div>"
            ],
            "text/plain": [
              "<tqdm._fake_ipywidgets.HBox object>"
            ]
          },
          "metadata": {},
          "output_type": "display_data"
        },
        {
          "data": {
            "text/html": [
              "<div style=\"display:flex;flex-direction:row;\"><span>Epoch: 5/100. Iteration: 35/35. Cls loss: 0.42191. Reg loss: 0.60798. Batch loss: 1.02989 Total loss: 1.09799</span><progress style='margin:2px 4px;description_width:initial;' max='35' value='35'></progress>100% 35/35 [02:35&lt;00:00,  4.39s/it]</div>"
            ],
            "text/plain": [
              "<tqdm._fake_ipywidgets.HBox object>"
            ]
          },
          "metadata": {},
          "output_type": "display_data"
        },
        {
          "data": {
            "text/html": [
              "<div style=\"display:flex;flex-direction:row;\"><span>Epoch: 6/100. Iteration: 35/35. Cls loss: 0.34493. Reg loss: 0.53971. Batch loss: 0.88464 Total loss: 1.04116</span><progress style='margin:2px 4px;description_width:initial;' max='35' value='35'></progress>100% 35/35 [02:34&lt;00:00,  4.39s/it]</div>"
            ],
            "text/plain": [
              "<tqdm._fake_ipywidgets.HBox object>"
            ]
          },
          "metadata": {},
          "output_type": "display_data"
        },
        {
          "data": {
            "text/html": [
              "<div style=\"display:flex;flex-direction:row;\"><span>Epoch: 7/100. Iteration: 35/35. Cls loss: 0.33685. Reg loss: 0.59466. Batch loss: 0.93151 Total loss: 0.99456</span><progress style='margin:2px 4px;description_width:initial;' max='35' value='35'></progress>100% 35/35 [02:34&lt;00:00,  4.40s/it]</div>"
            ],
            "text/plain": [
              "<tqdm._fake_ipywidgets.HBox object>"
            ]
          },
          "metadata": {},
          "output_type": "display_data"
        },
        {
          "data": {
            "text/html": [
              "<div style=\"display:flex;flex-direction:row;\"><span>Epoch: 8/100. Iteration: 35/35. Cls loss: 0.30169. Reg loss: 0.47692. Batch loss: 0.77860 Total loss: 0.95669</span><progress style='margin:2px 4px;description_width:initial;' max='35' value='35'></progress>100% 35/35 [02:34&lt;00:00,  4.41s/it]</div>"
            ],
            "text/plain": [
              "<tqdm._fake_ipywidgets.HBox object>"
            ]
          },
          "metadata": {},
          "output_type": "display_data"
        },
        {
          "data": {
            "text/html": [
              "<div style=\"display:flex;flex-direction:row;\"><span>Epoch: 9/100. Iteration: 35/35. Cls loss: 0.35797. Reg loss: 0.52182. Batch loss: 0.87979 Total loss: 0.91006</span><progress style='margin:2px 4px;description_width:initial;' max='35' value='35'></progress>100% 35/35 [02:34&lt;00:00,  4.39s/it]</div>"
            ],
            "text/plain": [
              "<tqdm._fake_ipywidgets.HBox object>"
            ]
          },
          "metadata": {},
          "output_type": "display_data"
        },
        {
          "data": {
            "text/html": [
              "<div style=\"display:flex;flex-direction:row;\"><span>Epoch: 10/100. Iteration: 35/35. Cls loss: 0.21884. Reg loss: 0.44727. Batch loss: 0.66612 Total loss: 0.90590</span><progress style='margin:2px 4px;description_width:initial;' max='35' value='35'></progress>100% 35/35 [02:35&lt;00:00,  4.41s/it]</div>"
            ],
            "text/plain": [
              "<tqdm._fake_ipywidgets.HBox object>"
            ]
          },
          "metadata": {},
          "output_type": "display_data"
        },
        {
          "data": {
            "text/html": [
              "<div style=\"display:flex;flex-direction:row;\"><span>Epoch: 11/100. Iteration: 35/35. Cls loss: 0.39567. Reg loss: 0.60456. Batch loss: 1.00024 Total loss: 0.87451</span><progress style='margin:2px 4px;description_width:initial;' max='35' value='35'></progress>100% 35/35 [02:35&lt;00:00,  4.40s/it]</div>"
            ],
            "text/plain": [
              "<tqdm._fake_ipywidgets.HBox object>"
            ]
          },
          "metadata": {},
          "output_type": "display_data"
        },
        {
          "data": {
            "text/html": [
              "<div style=\"display:flex;flex-direction:row;\"><span>Epoch: 12/100. Iteration: 35/35. Cls loss: 0.28437. Reg loss: 0.63020. Batch loss: 0.91457 Total loss: 0.82784</span><progress style='margin:2px 4px;description_width:initial;' max='35' value='35'></progress>100% 35/35 [02:34&lt;00:00,  4.41s/it]</div>"
            ],
            "text/plain": [
              "<tqdm._fake_ipywidgets.HBox object>"
            ]
          },
          "metadata": {},
          "output_type": "display_data"
        },
        {
          "data": {
            "text/html": [
              "<div style=\"display:flex;flex-direction:row;\"><span>Epoch: 13/100. Iteration: 35/35. Cls loss: 0.41012. Reg loss: 0.41846. Batch loss: 0.82858 Total loss: 0.79795</span><progress style='margin:2px 4px;description_width:initial;' max='35' value='35'></progress>100% 35/35 [02:35&lt;00:00,  4.38s/it]</div>"
            ],
            "text/plain": [
              "<tqdm._fake_ipywidgets.HBox object>"
            ]
          },
          "metadata": {},
          "output_type": "display_data"
        },
        {
          "data": {
            "text/html": [
              "<div style=\"display:flex;flex-direction:row;\"><span>Epoch: 14/100. Iteration: 35/35. Cls loss: 0.29698. Reg loss: 0.36693. Batch loss: 0.66391 Total loss: 0.78889</span><progress style='margin:2px 4px;description_width:initial;' max='35' value='35'></progress>100% 35/35 [02:35&lt;00:00,  4.40s/it]</div>"
            ],
            "text/plain": [
              "<tqdm._fake_ipywidgets.HBox object>"
            ]
          },
          "metadata": {},
          "output_type": "display_data"
        },
        {
          "data": {
            "text/html": [
              "<div style=\"display:flex;flex-direction:row;\"><span>Epoch: 15/100. Iteration: 35/35. Cls loss: 0.27013. Reg loss: 0.57505. Batch loss: 0.84518 Total loss: 0.74766</span><progress style='margin:2px 4px;description_width:initial;' max='35' value='35'></progress>100% 35/35 [02:35&lt;00:00,  4.40s/it]</div>"
            ],
            "text/plain": [
              "<tqdm._fake_ipywidgets.HBox object>"
            ]
          },
          "metadata": {},
          "output_type": "display_data"
        },
        {
          "data": {
            "text/html": [
              "<div style=\"display:flex;flex-direction:row;\"><span>Epoch: 16/100. Iteration: 35/35. Cls loss: 0.17424. Reg loss: 0.35124. Batch loss: 0.52548 Total loss: 0.73911</span><progress style='margin:2px 4px;description_width:initial;' max='35' value='35'></progress>100% 35/35 [02:35&lt;00:00,  4.42s/it]</div>"
            ],
            "text/plain": [
              "<tqdm._fake_ipywidgets.HBox object>"
            ]
          },
          "metadata": {},
          "output_type": "display_data"
        },
        {
          "data": {
            "text/html": [
              "<div style=\"display:flex;flex-direction:row;\"><span>Epoch: 17/100. Iteration: 35/35. Cls loss: 0.19090. Reg loss: 0.41030. Batch loss: 0.60120 Total loss: 0.71378</span><progress style='margin:2px 4px;description_width:initial;' max='35' value='35'></progress>100% 35/35 [02:35&lt;00:00,  4.40s/it]</div>"
            ],
            "text/plain": [
              "<tqdm._fake_ipywidgets.HBox object>"
            ]
          },
          "metadata": {},
          "output_type": "display_data"
        },
        {
          "data": {
            "text/html": [
              "<div style=\"display:flex;flex-direction:row;\"><span>Epoch: 18/100. Iteration: 35/35. Cls loss: 0.27664. Reg loss: 0.47412. Batch loss: 0.75076 Total loss: 0.69000</span><progress style='margin:2px 4px;description_width:initial;' max='35' value='35'></progress>100% 35/35 [02:35&lt;00:00,  4.41s/it]</div>"
            ],
            "text/plain": [
              "<tqdm._fake_ipywidgets.HBox object>"
            ]
          },
          "metadata": {},
          "output_type": "display_data"
        },
        {
          "data": {
            "text/html": [
              "<div style=\"display:flex;flex-direction:row;\"><span>Epoch: 19/100. Iteration: 35/35. Cls loss: 0.17879. Reg loss: 0.39163. Batch loss: 0.57042 Total loss: 0.65711</span><progress style='margin:2px 4px;description_width:initial;' max='35' value='35'></progress>100% 35/35 [02:35&lt;00:00,  4.40s/it]</div>"
            ],
            "text/plain": [
              "<tqdm._fake_ipywidgets.HBox object>"
            ]
          },
          "metadata": {},
          "output_type": "display_data"
        },
        {
          "data": {
            "text/html": [
              "<div style=\"display:flex;flex-direction:row;\"><span>Epoch: 20/100. Iteration: 35/35. Cls loss: 0.19577. Reg loss: 0.44780. Batch loss: 0.64357 Total loss: 0.64599</span><progress style='margin:2px 4px;description_width:initial;' max='35' value='35'></progress>100% 35/35 [02:35&lt;00:00,  4.42s/it]</div>"
            ],
            "text/plain": [
              "<tqdm._fake_ipywidgets.HBox object>"
            ]
          },
          "metadata": {},
          "output_type": "display_data"
        },
        {
          "data": {
            "text/html": [
              "<div style=\"display:flex;flex-direction:row;\"><span>Epoch: 21/100. Iteration: 35/35. Cls loss: 0.22130. Reg loss: 0.54441. Batch loss: 0.76571 Total loss: 0.63192</span><progress style='margin:2px 4px;description_width:initial;' max='35' value='35'></progress>100% 35/35 [02:35&lt;00:00,  4.39s/it]</div>"
            ],
            "text/plain": [
              "<tqdm._fake_ipywidgets.HBox object>"
            ]
          },
          "metadata": {},
          "output_type": "display_data"
        },
        {
          "data": {
            "text/html": [
              "<div style=\"display:flex;flex-direction:row;\"><span>Epoch: 22/100. Iteration: 35/35. Cls loss: 0.13404. Reg loss: 0.34140. Batch loss: 0.47544 Total loss: 0.62725</span><progress style='margin:2px 4px;description_width:initial;' max='35' value='35'></progress>100% 35/35 [02:35&lt;00:00,  4.39s/it]</div>"
            ],
            "text/plain": [
              "<tqdm._fake_ipywidgets.HBox object>"
            ]
          },
          "metadata": {},
          "output_type": "display_data"
        },
        {
          "data": {
            "text/html": [
              "<div style=\"display:flex;flex-direction:row;\"><span>Epoch: 23/100. Iteration: 35/35. Cls loss: 0.15791. Reg loss: 0.37197. Batch loss: 0.52988 Total loss: 0.58677</span><progress style='margin:2px 4px;description_width:initial;' max='35' value='35'></progress>100% 35/35 [02:34&lt;00:00,  4.40s/it]</div>"
            ],
            "text/plain": [
              "<tqdm._fake_ipywidgets.HBox object>"
            ]
          },
          "metadata": {},
          "output_type": "display_data"
        },
        {
          "data": {
            "text/html": [
              "<div style=\"display:flex;flex-direction:row;\"><span>Epoch: 24/100. Iteration: 35/35. Cls loss: 0.17084. Reg loss: 0.40834. Batch loss: 0.57918 Total loss: 0.58353</span><progress style='margin:2px 4px;description_width:initial;' max='35' value='35'></progress>100% 35/35 [02:35&lt;00:00,  4.42s/it]</div>"
            ],
            "text/plain": [
              "<tqdm._fake_ipywidgets.HBox object>"
            ]
          },
          "metadata": {},
          "output_type": "display_data"
        },
        {
          "data": {
            "text/html": [
              "<div style=\"display:flex;flex-direction:row;\"><span>Epoch: 25/100. Iteration: 35/35. Cls loss: 0.12935. Reg loss: 0.33295. Batch loss: 0.46231 Total loss: 0.56492</span><progress style='margin:2px 4px;description_width:initial;' max='35' value='35'></progress>100% 35/35 [02:35&lt;00:00,  4.41s/it]</div>"
            ],
            "text/plain": [
              "<tqdm._fake_ipywidgets.HBox object>"
            ]
          },
          "metadata": {},
          "output_type": "display_data"
        },
        {
          "data": {
            "text/html": [
              "<div style=\"display:flex;flex-direction:row;\"><span>Epoch: 26/100. Iteration: 35/35. Cls loss: 0.27872. Reg loss: 0.45193. Batch loss: 0.73066 Total loss: 0.54969</span><progress style='margin:2px 4px;description_width:initial;' max='35' value='35'></progress>100% 35/35 [02:35&lt;00:00,  4.41s/it]</div>"
            ],
            "text/plain": [
              "<tqdm._fake_ipywidgets.HBox object>"
            ]
          },
          "metadata": {},
          "output_type": "display_data"
        },
        {
          "data": {
            "text/html": [
              "<div style=\"display:flex;flex-direction:row;\"><span>Epoch: 27/100. Iteration: 35/35. Cls loss: 0.20342. Reg loss: 0.42003. Batch loss: 0.62345 Total loss: 0.54676</span><progress style='margin:2px 4px;description_width:initial;' max='35' value='35'></progress>100% 35/35 [02:35&lt;00:00,  4.41s/it]</div>"
            ],
            "text/plain": [
              "<tqdm._fake_ipywidgets.HBox object>"
            ]
          },
          "metadata": {},
          "output_type": "display_data"
        },
        {
          "data": {
            "text/html": [
              "<div style=\"display:flex;flex-direction:row;\"><span>Epoch: 28/100. Iteration: 35/35. Cls loss: 0.14135. Reg loss: 0.35260. Batch loss: 0.49395 Total loss: 0.52792</span><progress style='margin:2px 4px;description_width:initial;' max='35' value='35'></progress>100% 35/35 [02:35&lt;00:00,  4.40s/it]</div>"
            ],
            "text/plain": [
              "<tqdm._fake_ipywidgets.HBox object>"
            ]
          },
          "metadata": {},
          "output_type": "display_data"
        },
        {
          "data": {
            "text/html": [
              "<div style=\"display:flex;flex-direction:row;\"><span>Epoch: 29/100. Iteration: 35/35. Cls loss: 0.12056. Reg loss: 0.29730. Batch loss: 0.41786 Total loss: 0.52655</span><progress style='margin:2px 4px;description_width:initial;' max='35' value='35'></progress>100% 35/35 [02:35&lt;00:00,  4.41s/it]</div>"
            ],
            "text/plain": [
              "<tqdm._fake_ipywidgets.HBox object>"
            ]
          },
          "metadata": {},
          "output_type": "display_data"
        },
        {
          "data": {
            "text/html": [
              "<div style=\"display:flex;flex-direction:row;\"><span>Epoch: 30/100. Iteration: 35/35. Cls loss: 0.21666. Reg loss: 0.42790. Batch loss: 0.64457 Total loss: 0.51212</span><progress style='margin:2px 4px;description_width:initial;' max='35' value='35'></progress>100% 35/35 [02:35&lt;00:00,  4.41s/it]</div>"
            ],
            "text/plain": [
              "<tqdm._fake_ipywidgets.HBox object>"
            ]
          },
          "metadata": {},
          "output_type": "display_data"
        },
        {
          "data": {
            "text/html": [
              "<div style=\"display:flex;flex-direction:row;\"><span>Epoch: 31/100. Iteration: 35/35. Cls loss: 0.21057. Reg loss: 0.47331. Batch loss: 0.68388 Total loss: 0.49960</span><progress style='margin:2px 4px;description_width:initial;' max='35' value='35'></progress>100% 35/35 [02:35&lt;00:00,  4.40s/it]</div>"
            ],
            "text/plain": [
              "<tqdm._fake_ipywidgets.HBox object>"
            ]
          },
          "metadata": {},
          "output_type": "display_data"
        },
        {
          "data": {
            "text/html": [
              "<div style=\"display:flex;flex-direction:row;\"><span>Epoch: 32/100. Iteration: 35/35. Cls loss: 0.15547. Reg loss: 0.36614. Batch loss: 0.52162 Total loss: 0.48756</span><progress style='margin:2px 4px;description_width:initial;' max='35' value='35'></progress>100% 35/35 [02:35&lt;00:00,  4.41s/it]</div>"
            ],
            "text/plain": [
              "<tqdm._fake_ipywidgets.HBox object>"
            ]
          },
          "metadata": {},
          "output_type": "display_data"
        },
        {
          "data": {
            "text/html": [
              "<div style=\"display:flex;flex-direction:row;\"><span>Epoch: 33/100. Iteration: 35/35. Cls loss: 0.11839. Reg loss: 0.32516. Batch loss: 0.44354 Total loss: 0.47842</span><progress style='margin:2px 4px;description_width:initial;' max='35' value='35'></progress>100% 35/35 [02:35&lt;00:00,  4.41s/it]</div>"
            ],
            "text/plain": [
              "<tqdm._fake_ipywidgets.HBox object>"
            ]
          },
          "metadata": {},
          "output_type": "display_data"
        },
        {
          "data": {
            "text/html": [
              "<div style=\"display:flex;flex-direction:row;\"><span>Epoch: 34/100. Iteration: 35/35. Cls loss: 0.14464. Reg loss: 0.29828. Batch loss: 0.44292 Total loss: 0.47032</span><progress style='margin:2px 4px;description_width:initial;' max='35' value='35'></progress>100% 35/35 [02:35&lt;00:00,  4.39s/it]</div>"
            ],
            "text/plain": [
              "<tqdm._fake_ipywidgets.HBox object>"
            ]
          },
          "metadata": {},
          "output_type": "display_data"
        },
        {
          "data": {
            "text/html": [
              "<div style=\"display:flex;flex-direction:row;\"><span>Epoch: 35/100. Iteration: 35/35. Cls loss: 0.10654. Reg loss: 0.33973. Batch loss: 0.44627 Total loss: 0.46661</span><progress style='margin:2px 4px;description_width:initial;' max='35' value='35'></progress>100% 35/35 [02:35&lt;00:00,  4.40s/it]</div>"
            ],
            "text/plain": [
              "<tqdm._fake_ipywidgets.HBox object>"
            ]
          },
          "metadata": {},
          "output_type": "display_data"
        },
        {
          "data": {
            "text/html": [
              "<div style=\"display:flex;flex-direction:row;\"><span>Epoch: 36/100. Iteration: 35/35. Cls loss: 0.10722. Reg loss: 0.31181. Batch loss: 0.41903 Total loss: 0.44825</span><progress style='margin:2px 4px;description_width:initial;' max='35' value='35'></progress>100% 35/35 [02:35&lt;00:00,  4.40s/it]</div>"
            ],
            "text/plain": [
              "<tqdm._fake_ipywidgets.HBox object>"
            ]
          },
          "metadata": {},
          "output_type": "display_data"
        },
        {
          "data": {
            "text/html": [
              "<div style=\"display:flex;flex-direction:row;\"><span>Epoch: 37/100. Iteration: 35/35. Cls loss: 0.12373. Reg loss: 0.33600. Batch loss: 0.45973 Total loss: 0.44702</span><progress style='margin:2px 4px;description_width:initial;' max='35' value='35'></progress>100% 35/35 [02:35&lt;00:00,  4.39s/it]</div>"
            ],
            "text/plain": [
              "<tqdm._fake_ipywidgets.HBox object>"
            ]
          },
          "metadata": {},
          "output_type": "display_data"
        },
        {
          "data": {
            "text/html": [
              "<div style=\"display:flex;flex-direction:row;\"><span>Epoch: 38/100. Iteration: 35/35. Cls loss: 0.13647. Reg loss: 0.33392. Batch loss: 0.47039 Total loss: 0.44302</span><progress style='margin:2px 4px;description_width:initial;' max='35' value='35'></progress>100% 35/35 [02:34&lt;00:00,  4.39s/it]</div>"
            ],
            "text/plain": [
              "<tqdm._fake_ipywidgets.HBox object>"
            ]
          },
          "metadata": {},
          "output_type": "display_data"
        },
        {
          "data": {
            "text/html": [
              "<div style=\"display:flex;flex-direction:row;\"><span>Epoch: 39/100. Iteration: 35/35. Cls loss: 0.07246. Reg loss: 0.24572. Batch loss: 0.31818 Total loss: 0.41850</span><progress style='margin:2px 4px;description_width:initial;' max='35' value='35'></progress>100% 35/35 [02:35&lt;00:00,  4.41s/it]</div>"
            ],
            "text/plain": [
              "<tqdm._fake_ipywidgets.HBox object>"
            ]
          },
          "metadata": {},
          "output_type": "display_data"
        },
        {
          "data": {
            "text/html": [
              "<div style=\"display:flex;flex-direction:row;\"><span>Epoch: 40/100. Iteration: 35/35. Cls loss: 0.07669. Reg loss: 0.22428. Batch loss: 0.30097 Total loss: 0.43003</span><progress style='margin:2px 4px;description_width:initial;' max='35' value='35'></progress>100% 35/35 [02:35&lt;00:00,  4.42s/it]</div>"
            ],
            "text/plain": [
              "<tqdm._fake_ipywidgets.HBox object>"
            ]
          },
          "metadata": {},
          "output_type": "display_data"
        },
        {
          "data": {
            "text/html": [
              "<div style=\"display:flex;flex-direction:row;\"><span>Epoch: 41/100. Iteration: 35/35. Cls loss: 0.08129. Reg loss: 0.25998. Batch loss: 0.34127 Total loss: 0.40183</span><progress style='margin:2px 4px;description_width:initial;' max='35' value='35'></progress>100% 35/35 [02:35&lt;00:00,  4.43s/it]</div>"
            ],
            "text/plain": [
              "<tqdm._fake_ipywidgets.HBox object>"
            ]
          },
          "metadata": {},
          "output_type": "display_data"
        },
        {
          "data": {
            "text/html": [
              "<div style=\"display:flex;flex-direction:row;\"><span>Epoch: 42/100. Iteration: 35/35. Cls loss: 0.25043. Reg loss: 0.41756. Batch loss: 0.66799 Total loss: 0.40808</span><progress style='margin:2px 4px;description_width:initial;' max='35' value='35'></progress>100% 35/35 [02:35&lt;00:00,  4.43s/it]</div>"
            ],
            "text/plain": [
              "<tqdm._fake_ipywidgets.HBox object>"
            ]
          },
          "metadata": {},
          "output_type": "display_data"
        },
        {
          "data": {
            "text/html": [
              "<div style=\"display:flex;flex-direction:row;\"><span>Epoch: 43/100. Iteration: 35/35. Cls loss: 0.16987. Reg loss: 0.35144. Batch loss: 0.52131 Total loss: 0.40395</span><progress style='margin:2px 4px;description_width:initial;' max='35' value='35'></progress>100% 35/35 [02:35&lt;00:00,  4.41s/it]</div>"
            ],
            "text/plain": [
              "<tqdm._fake_ipywidgets.HBox object>"
            ]
          },
          "metadata": {},
          "output_type": "display_data"
        },
        {
          "data": {
            "text/html": [
              "<div style=\"display:flex;flex-direction:row;\"><span>Epoch: 44/100. Iteration: 35/35. Cls loss: 0.11644. Reg loss: 0.32163. Batch loss: 0.43807 Total loss: 0.40237</span><progress style='margin:2px 4px;description_width:initial;' max='35' value='35'></progress>100% 35/35 [02:36&lt;00:00,  4.45s/it]</div>"
            ],
            "text/plain": [
              "<tqdm._fake_ipywidgets.HBox object>"
            ]
          },
          "metadata": {},
          "output_type": "display_data"
        },
        {
          "data": {
            "text/html": [
              "<div style=\"display:flex;flex-direction:row;\"><span>Epoch: 45/100. Iteration: 35/35. Cls loss: 0.07851. Reg loss: 0.24237. Batch loss: 0.32087 Total loss: 0.38028</span><progress style='margin:2px 4px;description_width:initial;' max='35' value='35'></progress>100% 35/35 [02:35&lt;00:00,  4.40s/it]</div>"
            ],
            "text/plain": [
              "<tqdm._fake_ipywidgets.HBox object>"
            ]
          },
          "metadata": {},
          "output_type": "display_data"
        },
        {
          "data": {
            "text/html": [
              "<div style=\"display:flex;flex-direction:row;\"><span>Epoch: 46/100. Iteration: 35/35. Cls loss: 0.14093. Reg loss: 0.32032. Batch loss: 0.46125 Total loss: 0.37927</span><progress style='margin:2px 4px;description_width:initial;' max='35' value='35'></progress>100% 35/35 [02:35&lt;00:00,  4.42s/it]</div>"
            ],
            "text/plain": [
              "<tqdm._fake_ipywidgets.HBox object>"
            ]
          },
          "metadata": {},
          "output_type": "display_data"
        },
        {
          "data": {
            "text/html": [
              "<div style=\"display:flex;flex-direction:row;\"><span>Epoch: 47/100. Iteration: 35/35. Cls loss: 0.05557. Reg loss: 0.23197. Batch loss: 0.28754 Total loss: 0.37559</span><progress style='margin:2px 4px;description_width:initial;' max='35' value='35'></progress>100% 35/35 [02:36&lt;00:00,  4.41s/it]</div>"
            ],
            "text/plain": [
              "<tqdm._fake_ipywidgets.HBox object>"
            ]
          },
          "metadata": {},
          "output_type": "display_data"
        },
        {
          "data": {
            "text/html": [
              "<div style=\"display:flex;flex-direction:row;\"><span>Epoch: 48/100. Iteration: 35/35. Cls loss: 0.06265. Reg loss: 0.23581. Batch loss: 0.29846 Total loss: 0.38144</span><progress style='margin:2px 4px;description_width:initial;' max='35' value='35'></progress>100% 35/35 [02:35&lt;00:00,  4.42s/it]</div>"
            ],
            "text/plain": [
              "<tqdm._fake_ipywidgets.HBox object>"
            ]
          },
          "metadata": {},
          "output_type": "display_data"
        },
        {
          "data": {
            "text/html": [
              "<div style=\"display:flex;flex-direction:row;\"><span>Epoch: 49/100. Iteration: 35/35. Cls loss: 0.09407. Reg loss: 0.32418. Batch loss: 0.41825 Total loss: 0.37066</span><progress style='margin:2px 4px;description_width:initial;' max='35' value='35'></progress>100% 35/35 [02:36&lt;00:00,  4.42s/it]</div>"
            ],
            "text/plain": [
              "<tqdm._fake_ipywidgets.HBox object>"
            ]
          },
          "metadata": {},
          "output_type": "display_data"
        },
        {
          "data": {
            "text/html": [
              "<div style=\"display:flex;flex-direction:row;\"><span>Epoch: 50/100. Iteration: 35/35. Cls loss: 0.21887. Reg loss: 0.29217. Batch loss: 0.51105 Total loss: 0.36345</span><progress style='margin:2px 4px;description_width:initial;' max='35' value='35'></progress>100% 35/35 [02:36&lt;00:00,  4.45s/it]</div>"
            ],
            "text/plain": [
              "<tqdm._fake_ipywidgets.HBox object>"
            ]
          },
          "metadata": {},
          "output_type": "display_data"
        },
        {
          "data": {
            "text/html": [
              "<div style=\"display:flex;flex-direction:row;\"><span>Epoch: 51/100. Iteration: 35/35. Cls loss: 0.07499. Reg loss: 0.24709. Batch loss: 0.32208 Total loss: 0.34644</span><progress style='margin:2px 4px;description_width:initial;' max='35' value='35'></progress>100% 35/35 [02:35&lt;00:00,  4.43s/it]</div>"
            ],
            "text/plain": [
              "<tqdm._fake_ipywidgets.HBox object>"
            ]
          },
          "metadata": {},
          "output_type": "display_data"
        },
        {
          "data": {
            "text/html": [
              "<div style=\"display:flex;flex-direction:row;\"><span>Epoch: 52/100. Iteration: 35/35. Cls loss: 0.06881. Reg loss: 0.24603. Batch loss: 0.31484 Total loss: 0.37028</span><progress style='margin:2px 4px;description_width:initial;' max='35' value='35'></progress>100% 35/35 [02:36&lt;00:00,  4.44s/it]</div>"
            ],
            "text/plain": [
              "<tqdm._fake_ipywidgets.HBox object>"
            ]
          },
          "metadata": {},
          "output_type": "display_data"
        },
        {
          "data": {
            "text/html": [
              "<div style=\"display:flex;flex-direction:row;\"><span>Epoch: 53/100. Iteration: 35/35. Cls loss: 0.09307. Reg loss: 0.27679. Batch loss: 0.36986 Total loss: 0.34151</span><progress style='margin:2px 4px;description_width:initial;' max='35' value='35'></progress>100% 35/35 [02:36&lt;00:00,  4.42s/it]</div>"
            ],
            "text/plain": [
              "<tqdm._fake_ipywidgets.HBox object>"
            ]
          },
          "metadata": {},
          "output_type": "display_data"
        },
        {
          "data": {
            "text/html": [
              "<div style=\"display:flex;flex-direction:row;\"><span>Epoch: 54/100. Iteration: 35/35. Cls loss: 0.07509. Reg loss: 0.24596. Batch loss: 0.32106 Total loss: 0.33195</span><progress style='margin:2px 4px;description_width:initial;' max='35' value='35'></progress>100% 35/35 [02:36&lt;00:00,  4.44s/it]</div>"
            ],
            "text/plain": [
              "<tqdm._fake_ipywidgets.HBox object>"
            ]
          },
          "metadata": {},
          "output_type": "display_data"
        },
        {
          "data": {
            "text/html": [
              "<div style=\"display:flex;flex-direction:row;\"><span>Epoch: 55/100. Iteration: 35/35. Cls loss: 0.08201. Reg loss: 0.22871. Batch loss: 0.31073 Total loss: 0.33922</span><progress style='margin:2px 4px;description_width:initial;' max='35' value='35'></progress>100% 35/35 [02:36&lt;00:00,  4.44s/it]</div>"
            ],
            "text/plain": [
              "<tqdm._fake_ipywidgets.HBox object>"
            ]
          },
          "metadata": {},
          "output_type": "display_data"
        },
        {
          "data": {
            "text/html": [
              "<div style=\"display:flex;flex-direction:row;\"><span>Epoch: 56/100. Iteration: 35/35. Cls loss: 0.12516. Reg loss: 0.23869. Batch loss: 0.36385 Total loss: 0.33617</span><progress style='margin:2px 4px;description_width:initial;' max='35' value='35'></progress>100% 35/35 [02:36&lt;00:00,  4.45s/it]</div>"
            ],
            "text/plain": [
              "<tqdm._fake_ipywidgets.HBox object>"
            ]
          },
          "metadata": {},
          "output_type": "display_data"
        },
        {
          "data": {
            "text/html": [
              "<div style=\"display:flex;flex-direction:row;\"><span>Epoch: 57/100. Iteration: 35/35. Cls loss: 0.06583. Reg loss: 0.23898. Batch loss: 0.30481 Total loss: 0.32503</span><progress style='margin:2px 4px;description_width:initial;' max='35' value='35'></progress>100% 35/35 [02:36&lt;00:00,  4.42s/it]</div>"
            ],
            "text/plain": [
              "<tqdm._fake_ipywidgets.HBox object>"
            ]
          },
          "metadata": {},
          "output_type": "display_data"
        },
        {
          "data": {
            "text/html": [
              "<div style=\"display:flex;flex-direction:row;\"><span>Epoch: 58/100. Iteration: 35/35. Cls loss: 0.09846. Reg loss: 0.24839. Batch loss: 0.34685 Total loss: 0.31264</span><progress style='margin:2px 4px;description_width:initial;' max='35' value='35'></progress>100% 35/35 [02:36&lt;00:00,  4.42s/it]</div>"
            ],
            "text/plain": [
              "<tqdm._fake_ipywidgets.HBox object>"
            ]
          },
          "metadata": {},
          "output_type": "display_data"
        },
        {
          "data": {
            "text/html": [
              "<div style=\"display:flex;flex-direction:row;\"><span>Epoch: 59/100. Iteration: 35/35. Cls loss: 0.04906. Reg loss: 0.21071. Batch loss: 0.25978 Total loss: 0.31739</span><progress style='margin:2px 4px;description_width:initial;' max='35' value='35'></progress>100% 35/35 [02:35&lt;00:00,  4.43s/it]</div>"
            ],
            "text/plain": [
              "<tqdm._fake_ipywidgets.HBox object>"
            ]
          },
          "metadata": {},
          "output_type": "display_data"
        },
        {
          "data": {
            "text/html": [
              "<div style=\"display:flex;flex-direction:row;\"><span>Epoch: 60/100. Iteration: 35/35. Cls loss: 0.09268. Reg loss: 0.28001. Batch loss: 0.37269 Total loss: 0.31161</span><progress style='margin:2px 4px;description_width:initial;' max='35' value='35'></progress>100% 35/35 [02:36&lt;00:00,  4.44s/it]</div>"
            ],
            "text/plain": [
              "<tqdm._fake_ipywidgets.HBox object>"
            ]
          },
          "metadata": {},
          "output_type": "display_data"
        },
        {
          "data": {
            "text/html": [
              "<div style=\"display:flex;flex-direction:row;\"><span>Epoch: 61/100. Iteration: 35/35. Cls loss: 0.05801. Reg loss: 0.21781. Batch loss: 0.27582 Total loss: 0.31381</span><progress style='margin:2px 4px;description_width:initial;' max='35' value='35'></progress>100% 35/35 [02:36&lt;00:00,  4.41s/it]</div>"
            ],
            "text/plain": [
              "<tqdm._fake_ipywidgets.HBox object>"
            ]
          },
          "metadata": {},
          "output_type": "display_data"
        },
        {
          "data": {
            "text/html": [
              "<div style=\"display:flex;flex-direction:row;\"><span>Epoch: 62/100. Iteration: 35/35. Cls loss: 0.08095. Reg loss: 0.27615. Batch loss: 0.35710 Total loss: 0.30293</span><progress style='margin:2px 4px;description_width:initial;' max='35' value='35'></progress>100% 35/35 [02:36&lt;00:00,  4.43s/it]</div>"
            ],
            "text/plain": [
              "<tqdm._fake_ipywidgets.HBox object>"
            ]
          },
          "metadata": {},
          "output_type": "display_data"
        },
        {
          "data": {
            "text/html": [
              "<div style=\"display:flex;flex-direction:row;\"><span>Epoch: 63/100. Iteration: 35/35. Cls loss: 0.11892. Reg loss: 0.26903. Batch loss: 0.38794 Total loss: 0.30775</span><progress style='margin:2px 4px;description_width:initial;' max='35' value='35'></progress>100% 35/35 [02:35&lt;00:00,  4.40s/it]</div>"
            ],
            "text/plain": [
              "<tqdm._fake_ipywidgets.HBox object>"
            ]
          },
          "metadata": {},
          "output_type": "display_data"
        },
        {
          "data": {
            "text/html": [
              "<div style=\"display:flex;flex-direction:row;\"><span>Epoch: 64/100. Iteration: 35/35. Cls loss: 0.10475. Reg loss: 0.32901. Batch loss: 0.43376 Total loss: 0.29899</span><progress style='margin:2px 4px;description_width:initial;' max='35' value='35'></progress>100% 35/35 [02:35&lt;00:00,  4.42s/it]</div>"
            ],
            "text/plain": [
              "<tqdm._fake_ipywidgets.HBox object>"
            ]
          },
          "metadata": {},
          "output_type": "display_data"
        },
        {
          "data": {
            "text/html": [
              "<div style=\"display:flex;flex-direction:row;\"><span>Epoch: 65/100. Iteration: 35/35. Cls loss: 0.06373. Reg loss: 0.25518. Batch loss: 0.31891 Total loss: 0.29493</span><progress style='margin:2px 4px;description_width:initial;' max='35' value='35'></progress>100% 35/35 [02:35&lt;00:00,  4.38s/it]</div>"
            ],
            "text/plain": [
              "<tqdm._fake_ipywidgets.HBox object>"
            ]
          },
          "metadata": {},
          "output_type": "display_data"
        },
        {
          "data": {
            "text/html": [
              "<div style=\"display:flex;flex-direction:row;\"><span>Epoch: 66/100. Iteration: 35/35. Cls loss: 0.05379. Reg loss: 0.19449. Batch loss: 0.24828 Total loss: 0.28877</span><progress style='margin:2px 4px;description_width:initial;' max='35' value='35'></progress>100% 35/35 [02:35&lt;00:00,  4.41s/it]</div>"
            ],
            "text/plain": [
              "<tqdm._fake_ipywidgets.HBox object>"
            ]
          },
          "metadata": {},
          "output_type": "display_data"
        },
        {
          "data": {
            "text/html": [
              "<div style=\"display:flex;flex-direction:row;\"><span>Epoch: 67/100. Iteration: 35/35. Cls loss: 0.06603. Reg loss: 0.26149. Batch loss: 0.32752 Total loss: 0.28590</span><progress style='margin:2px 4px;description_width:initial;' max='35' value='35'></progress>100% 35/35 [02:35&lt;00:00,  4.39s/it]</div>"
            ],
            "text/plain": [
              "<tqdm._fake_ipywidgets.HBox object>"
            ]
          },
          "metadata": {},
          "output_type": "display_data"
        },
        {
          "data": {
            "text/html": [
              "<div style=\"display:flex;flex-direction:row;\"><span>Epoch: 68/100. Iteration: 35/35. Cls loss: 0.05040. Reg loss: 0.17462. Batch loss: 0.22502 Total loss: 0.27559</span><progress style='margin:2px 4px;description_width:initial;' max='35' value='35'></progress>100% 35/35 [02:35&lt;00:00,  4.41s/it]</div>"
            ],
            "text/plain": [
              "<tqdm._fake_ipywidgets.HBox object>"
            ]
          },
          "metadata": {},
          "output_type": "display_data"
        },
        {
          "data": {
            "text/html": [
              "<div style=\"display:flex;flex-direction:row;\"><span>Epoch: 69/100. Iteration: 35/35. Cls loss: 0.10565. Reg loss: 0.28059. Batch loss: 0.38623 Total loss: 0.28174</span><progress style='margin:2px 4px;description_width:initial;' max='35' value='35'></progress>100% 35/35 [02:35&lt;00:00,  4.40s/it]</div>"
            ],
            "text/plain": [
              "<tqdm._fake_ipywidgets.HBox object>"
            ]
          },
          "metadata": {},
          "output_type": "display_data"
        },
        {
          "data": {
            "text/html": [
              "<div style=\"display:flex;flex-direction:row;\"><span>Epoch: 70/100. Iteration: 35/35. Cls loss: 0.04630. Reg loss: 0.20117. Batch loss: 0.24747 Total loss: 0.27323</span><progress style='margin:2px 4px;description_width:initial;' max='35' value='35'></progress>100% 35/35 [02:35&lt;00:00,  4.42s/it]</div>"
            ],
            "text/plain": [
              "<tqdm._fake_ipywidgets.HBox object>"
            ]
          },
          "metadata": {},
          "output_type": "display_data"
        },
        {
          "data": {
            "text/html": [
              "<div style=\"display:flex;flex-direction:row;\"><span>Epoch: 71/100. Iteration: 35/35. Cls loss: 0.05743. Reg loss: 0.21686. Batch loss: 0.27429 Total loss: 0.28411</span><progress style='margin:2px 4px;description_width:initial;' max='35' value='35'></progress>100% 35/35 [02:35&lt;00:00,  4.40s/it]</div>"
            ],
            "text/plain": [
              "<tqdm._fake_ipywidgets.HBox object>"
            ]
          },
          "metadata": {},
          "output_type": "display_data"
        },
        {
          "data": {
            "text/html": [
              "<div style=\"display:flex;flex-direction:row;\"><span>Epoch: 72/100. Iteration: 35/35. Cls loss: 0.08811. Reg loss: 0.31708. Batch loss: 0.40520 Total loss: 0.27762</span><progress style='margin:2px 4px;description_width:initial;' max='35' value='35'></progress>100% 35/35 [02:35&lt;00:00,  4.41s/it]</div>"
            ],
            "text/plain": [
              "<tqdm._fake_ipywidgets.HBox object>"
            ]
          },
          "metadata": {},
          "output_type": "display_data"
        },
        {
          "data": {
            "text/html": [
              "<div style=\"display:flex;flex-direction:row;\"><span>Epoch: 73/100. Iteration: 35/35. Cls loss: 0.06538. Reg loss: 0.26665. Batch loss: 0.33203 Total loss: 0.26443</span><progress style='margin:2px 4px;description_width:initial;' max='35' value='35'></progress>100% 35/35 [02:35&lt;00:00,  4.41s/it]</div>"
            ],
            "text/plain": [
              "<tqdm._fake_ipywidgets.HBox object>"
            ]
          },
          "metadata": {},
          "output_type": "display_data"
        },
        {
          "data": {
            "text/html": [
              "<div style=\"display:flex;flex-direction:row;\"><span>Epoch: 74/100. Iteration: 35/35. Cls loss: 0.06970. Reg loss: 0.20945. Batch loss: 0.27915 Total loss: 0.26254</span><progress style='margin:2px 4px;description_width:initial;' max='35' value='35'></progress>100% 35/35 [02:35&lt;00:00,  4.39s/it]</div>"
            ],
            "text/plain": [
              "<tqdm._fake_ipywidgets.HBox object>"
            ]
          },
          "metadata": {},
          "output_type": "display_data"
        },
        {
          "data": {
            "text/html": [
              "<div style=\"display:flex;flex-direction:row;\"><span>Epoch: 75/100. Iteration: 35/35. Cls loss: 0.04413. Reg loss: 0.16997. Batch loss: 0.21410 Total loss: 0.27012</span><progress style='margin:2px 4px;description_width:initial;' max='35' value='35'></progress>100% 35/35 [02:35&lt;00:00,  4.39s/it]</div>"
            ],
            "text/plain": [
              "<tqdm._fake_ipywidgets.HBox object>"
            ]
          },
          "metadata": {},
          "output_type": "display_data"
        },
        {
          "data": {
            "text/html": [
              "<div style=\"display:flex;flex-direction:row;\"><span>Epoch: 76/100. Iteration: 35/35. Cls loss: 0.06181. Reg loss: 0.18516. Batch loss: 0.24697 Total loss: 0.26206</span><progress style='margin:2px 4px;description_width:initial;' max='35' value='35'></progress>100% 35/35 [02:35&lt;00:00,  4.42s/it]</div>"
            ],
            "text/plain": [
              "<tqdm._fake_ipywidgets.HBox object>"
            ]
          },
          "metadata": {},
          "output_type": "display_data"
        },
        {
          "data": {
            "text/html": [
              "<div style=\"display:flex;flex-direction:row;\"><span>Epoch: 77/100. Iteration: 35/35. Cls loss: 0.06609. Reg loss: 0.19774. Batch loss: 0.26383 Total loss: 0.26309</span><progress style='margin:2px 4px;description_width:initial;' max='35' value='35'></progress>100% 35/35 [02:35&lt;00:00,  4.39s/it]</div>"
            ],
            "text/plain": [
              "<tqdm._fake_ipywidgets.HBox object>"
            ]
          },
          "metadata": {},
          "output_type": "display_data"
        },
        {
          "data": {
            "text/html": [
              "<div style=\"display:flex;flex-direction:row;\"><span>Epoch: 78/100. Iteration: 35/35. Cls loss: 0.03310. Reg loss: 0.17551. Batch loss: 0.20861 Total loss: 0.25598</span><progress style='margin:2px 4px;description_width:initial;' max='35' value='35'></progress>100% 35/35 [02:35&lt;00:00,  4.41s/it]</div>"
            ],
            "text/plain": [
              "<tqdm._fake_ipywidgets.HBox object>"
            ]
          },
          "metadata": {},
          "output_type": "display_data"
        },
        {
          "data": {
            "text/html": [
              "<div style=\"display:flex;flex-direction:row;\"><span>Epoch: 79/100. Iteration: 35/35. Cls loss: 0.03917. Reg loss: 0.15349. Batch loss: 0.19266 Total loss: 0.24872</span><progress style='margin:2px 4px;description_width:initial;' max='35' value='35'></progress>100% 35/35 [02:34&lt;00:00,  4.38s/it]</div>"
            ],
            "text/plain": [
              "<tqdm._fake_ipywidgets.HBox object>"
            ]
          },
          "metadata": {},
          "output_type": "display_data"
        },
        {
          "data": {
            "text/html": [
              "<div style=\"display:flex;flex-direction:row;\"><span>Epoch: 80/100. Iteration: 35/35. Cls loss: 0.07348. Reg loss: 0.22768. Batch loss: 0.30116 Total loss: 0.25510</span><progress style='margin:2px 4px;description_width:initial;' max='35' value='35'></progress>100% 35/35 [02:35&lt;00:00,  4.41s/it]</div>"
            ],
            "text/plain": [
              "<tqdm._fake_ipywidgets.HBox object>"
            ]
          },
          "metadata": {},
          "output_type": "display_data"
        },
        {
          "data": {
            "text/html": [
              "<div style=\"display:flex;flex-direction:row;\"><span>Epoch: 81/100. Iteration: 15/35. Cls loss: 0.03873. Reg loss: 0.19618. Batch loss: 0.23491 Total loss: 0.25207</span><progress style='margin:2px 4px;description_width:initial;' max='35' value='15'></progress> 43% 15/35 [01:06&lt;01:28,  4.43s/it]</div>"
            ],
            "text/plain": [
              "<tqdm._fake_ipywidgets.HBox object>"
            ]
          },
          "metadata": {},
          "output_type": "display_data"
        },
        {
          "output_type": "display_data",
          "data": {
            "text/html": [
              "<div style=\"display:flex;flex-direction:row;\"><span>Epoch: 81/100. Iteration: 35/35. Cls loss: 0.06818. Reg loss: 0.22153. Batch loss: 0.28971 Total loss: 0.25006</span><progress style='margin:2px 4px;description_width:initial;' max='35' value='35'></progress>100% 35/35 [02:35&lt;00:00,  4.42s/it]</div>"
            ],
            "text/plain": [
              "<tqdm._fake_ipywidgets.HBox object>"
            ]
          },
          "metadata": {}
        },
        {
          "output_type": "display_data",
          "data": {
            "text/html": [
              "<div style=\"display:flex;flex-direction:row;\"><span>Epoch: 82/100. Iteration: 35/35. Cls loss: 0.03686. Reg loss: 0.18245. Batch loss: 0.21931 Total loss: 0.25176</span><progress style='margin:2px 4px;description_width:initial;' max='35' value='35'></progress>100% 35/35 [02:36&lt;00:00,  4.45s/it]</div>"
            ],
            "text/plain": [
              "<tqdm._fake_ipywidgets.HBox object>"
            ]
          },
          "metadata": {}
        },
        {
          "output_type": "display_data",
          "data": {
            "text/html": [
              "<div style=\"display:flex;flex-direction:row;\"><span>Epoch: 83/100. Iteration: 35/35. Cls loss: 0.05614. Reg loss: 0.21140. Batch loss: 0.26754 Total loss: 0.24263</span><progress style='margin:2px 4px;description_width:initial;' max='35' value='35'></progress>100% 35/35 [02:36&lt;00:00,  4.42s/it]</div>"
            ],
            "text/plain": [
              "<tqdm._fake_ipywidgets.HBox object>"
            ]
          },
          "metadata": {}
        },
        {
          "output_type": "display_data",
          "data": {
            "text/html": [
              "<div style=\"display:flex;flex-direction:row;\"><span>Epoch: 84/100. Iteration: 35/35. Cls loss: 0.03637. Reg loss: 0.16957. Batch loss: 0.20594 Total loss: 0.24107</span><progress style='margin:2px 4px;description_width:initial;' max='35' value='35'></progress>100% 35/35 [02:36&lt;00:00,  4.44s/it]</div>"
            ],
            "text/plain": [
              "<tqdm._fake_ipywidgets.HBox object>"
            ]
          },
          "metadata": {}
        },
        {
          "output_type": "display_data",
          "data": {
            "text/html": [
              "<div style=\"display:flex;flex-direction:row;\"><span>Epoch: 85/100. Iteration: 35/35. Cls loss: 0.03673. Reg loss: 0.18700. Batch loss: 0.22373 Total loss: 0.24420</span><progress style='margin:2px 4px;description_width:initial;' max='35' value='35'></progress>100% 35/35 [02:36&lt;00:00,  4.42s/it]</div>"
            ],
            "text/plain": [
              "<tqdm._fake_ipywidgets.HBox object>"
            ]
          },
          "metadata": {}
        },
        {
          "output_type": "display_data",
          "data": {
            "text/html": [
              "<div style=\"display:flex;flex-direction:row;\"><span>Epoch: 86/100. Iteration: 35/35. Cls loss: 0.09092. Reg loss: 0.27972. Batch loss: 0.37064 Total loss: 0.23557</span><progress style='margin:2px 4px;description_width:initial;' max='35' value='35'></progress>100% 35/35 [02:36&lt;00:00,  4.43s/it]</div>"
            ],
            "text/plain": [
              "<tqdm._fake_ipywidgets.HBox object>"
            ]
          },
          "metadata": {}
        },
        {
          "output_type": "display_data",
          "data": {
            "text/html": [
              "<div style=\"display:flex;flex-direction:row;\"><span>Epoch: 87/100. Iteration: 35/35. Cls loss: 0.04730. Reg loss: 0.11940. Batch loss: 0.16670 Total loss: 0.24615</span><progress style='margin:2px 4px;description_width:initial;' max='35' value='35'></progress>100% 35/35 [02:35&lt;00:00,  4.40s/it]</div>"
            ],
            "text/plain": [
              "<tqdm._fake_ipywidgets.HBox object>"
            ]
          },
          "metadata": {}
        },
        {
          "output_type": "display_data",
          "data": {
            "text/html": [
              "<div style=\"display:flex;flex-direction:row;\"><span>Epoch: 88/100. Iteration: 35/35. Cls loss: 0.03867. Reg loss: 0.12340. Batch loss: 0.16207 Total loss: 0.22864</span><progress style='margin:2px 4px;description_width:initial;' max='35' value='35'></progress>100% 35/35 [02:35&lt;00:00,  4.43s/it]</div>"
            ],
            "text/plain": [
              "<tqdm._fake_ipywidgets.HBox object>"
            ]
          },
          "metadata": {}
        },
        {
          "output_type": "display_data",
          "data": {
            "text/html": [
              "<div style=\"display:flex;flex-direction:row;\"><span>Epoch: 89/100. Iteration: 35/35. Cls loss: 0.03566. Reg loss: 0.18290. Batch loss: 0.21857 Total loss: 0.23490</span><progress style='margin:2px 4px;description_width:initial;' max='35' value='35'></progress>100% 35/35 [02:36&lt;00:00,  4.44s/it]</div>"
            ],
            "text/plain": [
              "<tqdm._fake_ipywidgets.HBox object>"
            ]
          },
          "metadata": {}
        },
        {
          "output_type": "display_data",
          "data": {
            "text/html": [
              "<div style=\"display:flex;flex-direction:row;\"><span>Epoch: 90/100. Iteration: 35/35. Cls loss: 0.04440. Reg loss: 0.18347. Batch loss: 0.22786 Total loss: 0.23565</span><progress style='margin:2px 4px;description_width:initial;' max='35' value='35'></progress>100% 35/35 [02:36&lt;00:00,  4.43s/it]</div>"
            ],
            "text/plain": [
              "<tqdm._fake_ipywidgets.HBox object>"
            ]
          },
          "metadata": {}
        },
        {
          "output_type": "display_data",
          "data": {
            "text/html": [
              "<div style=\"display:flex;flex-direction:row;\"><span>Epoch: 91/100. Iteration: 35/35. Cls loss: 0.07403. Reg loss: 0.20261. Batch loss: 0.27664 Total loss: 0.22583</span><progress style='margin:2px 4px;description_width:initial;' max='35' value='35'></progress>100% 35/35 [02:36&lt;00:00,  4.42s/it]</div>"
            ],
            "text/plain": [
              "<tqdm._fake_ipywidgets.HBox object>"
            ]
          },
          "metadata": {}
        },
        {
          "output_type": "display_data",
          "data": {
            "text/html": [
              "<div style=\"display:flex;flex-direction:row;\"><span>Epoch: 92/100. Iteration: 35/35. Cls loss: 0.02369. Reg loss: 0.16089. Batch loss: 0.18459 Total loss: 0.22928</span><progress style='margin:2px 4px;description_width:initial;' max='35' value='35'></progress>100% 35/35 [02:35&lt;00:00,  4.44s/it]</div>"
            ],
            "text/plain": [
              "<tqdm._fake_ipywidgets.HBox object>"
            ]
          },
          "metadata": {}
        },
        {
          "output_type": "display_data",
          "data": {
            "text/html": [
              "<div style=\"display:flex;flex-direction:row;\"><span>Epoch: 93/100. Iteration: 35/35. Cls loss: 0.03974. Reg loss: 0.19086. Batch loss: 0.23060 Total loss: 0.23182</span><progress style='margin:2px 4px;description_width:initial;' max='35' value='35'></progress>100% 35/35 [02:36&lt;00:00,  4.42s/it]</div>"
            ],
            "text/plain": [
              "<tqdm._fake_ipywidgets.HBox object>"
            ]
          },
          "metadata": {}
        },
        {
          "output_type": "display_data",
          "data": {
            "text/html": [
              "<div style=\"display:flex;flex-direction:row;\"><span>Epoch: 94/100. Iteration: 35/35. Cls loss: 0.02284. Reg loss: 0.15644. Batch loss: 0.17928 Total loss: 0.22172</span><progress style='margin:2px 4px;description_width:initial;' max='35' value='35'></progress>100% 35/35 [02:36&lt;00:00,  4.44s/it]</div>"
            ],
            "text/plain": [
              "<tqdm._fake_ipywidgets.HBox object>"
            ]
          },
          "metadata": {}
        },
        {
          "output_type": "display_data",
          "data": {
            "text/html": [
              "<div style=\"display:flex;flex-direction:row;\"><span>Epoch: 95/100. Iteration: 35/35. Cls loss: 0.03384. Reg loss: 0.16378. Batch loss: 0.19762 Total loss: 0.22468</span><progress style='margin:2px 4px;description_width:initial;' max='35' value='35'></progress>100% 35/35 [02:35&lt;00:00,  4.41s/it]</div>"
            ],
            "text/plain": [
              "<tqdm._fake_ipywidgets.HBox object>"
            ]
          },
          "metadata": {}
        },
        {
          "output_type": "display_data",
          "data": {
            "text/html": [
              "<div style=\"display:flex;flex-direction:row;\"><span>Epoch: 96/100. Iteration: 35/35. Cls loss: 0.04528. Reg loss: 0.19677. Batch loss: 0.24206 Total loss: 0.22200</span><progress style='margin:2px 4px;description_width:initial;' max='35' value='35'></progress>100% 35/35 [02:36&lt;00:00,  4.44s/it]</div>"
            ],
            "text/plain": [
              "<tqdm._fake_ipywidgets.HBox object>"
            ]
          },
          "metadata": {}
        },
        {
          "output_type": "display_data",
          "data": {
            "text/html": [
              "<div style=\"display:flex;flex-direction:row;\"><span>Epoch: 97/100. Iteration: 35/35. Cls loss: 0.02896. Reg loss: 0.15269. Batch loss: 0.18165 Total loss: 0.22287</span><progress style='margin:2px 4px;description_width:initial;' max='35' value='35'></progress>100% 35/35 [02:36&lt;00:00,  4.42s/it]</div>"
            ],
            "text/plain": [
              "<tqdm._fake_ipywidgets.HBox object>"
            ]
          },
          "metadata": {}
        },
        {
          "output_type": "display_data",
          "data": {
            "text/html": [
              "<div style=\"display:flex;flex-direction:row;\"><span>Epoch: 98/100. Iteration: 35/35. Cls loss: 0.03938. Reg loss: 0.19239. Batch loss: 0.23177 Total loss: 0.21148</span><progress style='margin:2px 4px;description_width:initial;' max='35' value='35'></progress>100% 35/35 [02:36&lt;00:00,  4.43s/it]</div>"
            ],
            "text/plain": [
              "<tqdm._fake_ipywidgets.HBox object>"
            ]
          },
          "metadata": {}
        },
        {
          "output_type": "display_data",
          "data": {
            "text/html": [
              "<div style=\"display:flex;flex-direction:row;\"><span>Epoch: 99/100. Iteration: 35/35. Cls loss: 0.03030. Reg loss: 0.12431. Batch loss: 0.15461 Total loss: 0.22397</span><progress style='margin:2px 4px;description_width:initial;' max='35' value='35'></progress>100% 35/35 [02:35&lt;00:00,  4.42s/it]</div>"
            ],
            "text/plain": [
              "<tqdm._fake_ipywidgets.HBox object>"
            ]
          },
          "metadata": {}
        },
        {
          "output_type": "display_data",
          "data": {
            "text/html": [
              "<div style=\"display:flex;flex-direction:row;\"><span>Epoch: 100/100. Iteration: 35/35. Cls loss: 0.05307. Reg loss: 0.20274. Batch loss: 0.25580 Total loss: 0.20977</span><progress style='margin:2px 4px;description_width:initial;' max='35' value='35'></progress>100% 35/35 [02:36&lt;00:00,  4.44s/it]</div>"
            ],
            "text/plain": [
              "<tqdm._fake_ipywidgets.HBox object>"
            ]
          },
          "metadata": {}
        },
        {
          "output_type": "stream",
          "name": "stdout",
          "text": [
            "CPU times: user 4h 12min 35s, sys: 5min 43s, total: 4h 18min 18s\n",
            "Wall time: 4h 20min 22s\n"
          ]
        }
      ]
    },
    {
      "cell_type": "markdown",
      "metadata": {
        "id": "vBbKECt58NNT"
      },
      "source": [
        "##Resultados"
      ]
    },
    {
      "cell_type": "code",
      "metadata": {
        "id": "ZV8aWR1rV-gf"
      },
      "source": [
        "import os\n",
        "import sys\n",
        "sys.path.append(\"Monk_Object_Detection/4_efficientdet/lib/\");"
      ],
      "execution_count": 17,
      "outputs": []
    },
    {
      "cell_type": "code",
      "metadata": {
        "id": "i55fLiAZWEjL"
      },
      "source": [
        "from infer_detector import Infer"
      ],
      "execution_count": 18,
      "outputs": []
    },
    {
      "cell_type": "code",
      "metadata": {
        "id": "h7ZnWq8YWHGm"
      },
      "source": [
        "gtf2 = Infer();"
      ],
      "execution_count": 19,
      "outputs": []
    },
    {
      "cell_type": "code",
      "metadata": {
        "id": "nsu6TZJdWQHG"
      },
      "source": [
        "gtf2.Model(model_dir=\"trained/\")"
      ],
      "execution_count": 20,
      "outputs": []
    },
    {
      "cell_type": "code",
      "metadata": {
        "id": "BUpNHXcgWUFc",
        "colab": {
          "base_uri": "https://localhost:8080/"
        },
        "outputId": "a4cd3a2e-fce5-4ec0-d098-90ded4d1551b"
      },
      "source": [
        "import json\n",
        "with open('train/_annotations.coco.json') as json_file:\n",
        "    data = json.load(json_file)\n",
        "class_list = []\n",
        "for category in data['categories']:\n",
        "  class_list.append(category['name'])\n",
        "\n",
        "class_list"
      ],
      "execution_count": 21,
      "outputs": [
        {
          "output_type": "execute_result",
          "data": {
            "text/plain": [
              "['all', 'gun', 'helmet']"
            ]
          },
          "metadata": {},
          "execution_count": 21
        }
      ]
    },
    {
      "cell_type": "code",
      "metadata": {
        "id": "1sBlRB4LWVki",
        "colab": {
          "base_uri": "https://localhost:8080/"
        },
        "outputId": "9cfe402c-f69b-42da-b91d-2bd2bf7f2d18"
      },
      "source": [
        "%%time\n",
        "test_images = [f for f in os.listdir('test') if f.endswith('.jpg')]\n",
        "import random\n",
        "img_path = \"test/\" + random.choice(test_images);\n",
        "duration, scores, labels, boxes = gtf2.Predict(img_path, class_list, vis_threshold=0.2);"
      ],
      "execution_count": 96,
      "outputs": [
        {
          "output_type": "stream",
          "name": "stdout",
          "text": [
            "Done. (0.181s)\n",
            "CPU times: user 202 ms, sys: 27 ms, total: 229 ms\n",
            "Wall time: 228 ms\n"
          ]
        }
      ]
    },
    {
      "cell_type": "code",
      "metadata": {
        "colab": {
          "base_uri": "https://localhost:8080/",
          "height": 433
        },
        "id": "XoiNEcCYWhLt",
        "outputId": "6a478669-aa3b-481e-832a-cd8bd2cccbba"
      },
      "source": [
        "from IPython.display import Image\n",
        "Image(filename='output.jpg') "
      ],
      "execution_count": 97,
      "outputs": [
        {
          "output_type": "execute_result",
          "data": {
            "image/jpeg": "[encoded data removed]",
            "text/plain": [
              "<IPython.core.display.Image object>"
            ]
          },
          "metadata": {},
          "execution_count": 97
        }
      ]
    },
    {
      "cell_type": "markdown",
      "metadata": {
        "id": "-m1bzq-t8eK1"
      },
      "source": [
        "##Exportar los pesos de nuestro modelo a nuestra unidad de Google Drive"
      ]
    },
    {
      "cell_type": "code",
      "metadata": {
        "colab": {
          "base_uri": "https://localhost:8080/"
        },
        "id": "m_tXD4cPWwVO",
        "outputId": "a1938949-ddc1-4931-beef-457c6ae95f87"
      },
      "source": [
        "from google.colab import drive\n",
        "drive.mount('/content/drive')"
      ],
      "execution_count": 90,
      "outputs": [
        {
          "output_type": "stream",
          "name": "stdout",
          "text": [
            "Mounted at /content/drive\n"
          ]
        }
      ]
    },
    {
      "cell_type": "code",
      "metadata": {
        "id": "601iCVG4W3x8"
      },
      "source": [
        "%mkdir trained_export\n",
        "%cp ./trained/signatrix_efficientdet_coco.onnx ./trained_export/signatrix_efficientdet_coco_$(date +%F-%H:%M).onnx\n",
        "%cp ./trained/signatrix_efficientdet_coco.pth ./trained_export/signatrix_efficientdet_coco_$(date +%F-%H:%M).pth\n",
        "%mv ./trained_export/* /content/drive/My\\ Drive/"
      ],
      "execution_count": 91,
      "outputs": []
    }
  ]
}