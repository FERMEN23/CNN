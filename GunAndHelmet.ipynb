{
  "nbformat": 4,
  "nbformat_minor": 0,
  "metadata": {
    "colab": {
      "name": "GunAndHelmet.ipynb",
      "provenance": [],
      "collapsed_sections": [],
      "authorship_tag": "ABX9TyOe1G+apMr521yXwvbDOpDU",
      "include_colab_link": true
    },
    "kernelspec": {
      "name": "python3",
      "display_name": "Python 3"
    },
    "language_info": {
      "name": "python"
    },
    "accelerator": "GPU"
  },
  "cells": [
    {
      "cell_type": "markdown",
      "metadata": {
        "id": "view-in-github",
        "colab_type": "text"
      },
      "source": [
        "<a href=\"https://colab.research.google.com/github/FERMEN23/CNN/blob/main/GunAndHelmet.ipynb\" target=\"_parent\"><img src=\"https://colab.research.google.com/assets/colab-badge.svg\" alt=\"Open In Colab\"/></a>"
      ]
    },
    {
      "cell_type": "markdown",
      "metadata": {
        "id": "RI18vo0Pz37A"
      },
      "source": [
        "##Configuración de nuestro entorno de ejecución\n",
        "\n",
        "Nota: Es necesario utilizar la GPU\n",
        "\n",
        "Las celdas que no tienen el módulo time, es dado que su tiempo de ejecución es de milisegundo"
      ]
    },
    {
      "cell_type": "code",
      "metadata": {
        "id": "o07XzZ0fUpjG",
        "colab": {
          "base_uri": "https://localhost:8080/"
        },
        "outputId": "37988762-3c86-4d92-98d5-3486ca9cbef7"
      },
      "source": [
        "%%time\n",
        "! git clone https://github.com/roboflow-ai/Monk_Object_Detection.git"
      ],
      "execution_count": null,
      "outputs": [
        {
          "metadata": {
            "tags": null
          },
          "name": "stdout",
          "output_type": "stream",
          "text": [
            "Cloning into 'Monk_Object_Detection'...\n",
            "remote: Enumerating objects: 3747, done.\u001b[K\n",
            "remote: Total 3747 (delta 0), reused 0 (delta 0), pack-reused 3747\u001b[K\n",
            "Receiving objects: 100% (3747/3747), 132.20 MiB | 24.84 MiB/s, done.\n",
            "Resolving deltas: 100% (800/800), done.\n",
            "Checking out files: 100% (4032/4032), done.\n",
            "CPU times: user 113 ms, sys: 19.5 ms, total: 133 ms\n",
            "Wall time: 12 s\n"
          ]
        }
      ]
    },
    {
      "cell_type": "code",
      "metadata": {
        "id": "DIN3c7vCVNnF",
        "colab": {
          "base_uri": "https://localhost:8080/"
        },
        "outputId": "f3a1150e-e5ad-4948-82ea-afa22fce5021"
      },
      "source": [
        "%%time\n",
        "! cd Monk_Object_Detection/3_mxrcnn/installation && cat requirements_colab.txt | xargs -n 1 -L 1 pip install"
      ],
      "execution_count": null,
      "outputs": [
        {
          "output_type": "stream",
          "name": "stdout",
          "text": [
            "Collecting mxnet-cu100\n",
            "  Downloading mxnet_cu100-1.8.0.post0-py2.py3-none-manylinux2014_x86_64.whl (352.6 MB)\n",
            "\u001b[K     |████████████████████████████████| 352.6 MB 13 kB/s \n",
            "\u001b[?25hRequirement already satisfied: numpy<2.0.0,>1.16.0 in /usr/local/lib/python3.7/dist-packages (from mxnet-cu100) (1.19.5)\n",
            "Collecting graphviz<0.9.0,>=0.8.1\n",
            "  Downloading graphviz-0.8.4-py2.py3-none-any.whl (16 kB)\n",
            "Requirement already satisfied: requests<3,>=2.20.0 in /usr/local/lib/python3.7/dist-packages (from mxnet-cu100) (2.23.0)\n",
            "Requirement already satisfied: chardet<4,>=3.0.2 in /usr/local/lib/python3.7/dist-packages (from requests<3,>=2.20.0->mxnet-cu100) (3.0.4)\n",
            "Requirement already satisfied: urllib3!=1.25.0,!=1.25.1,<1.26,>=1.21.1 in /usr/local/lib/python3.7/dist-packages (from requests<3,>=2.20.0->mxnet-cu100) (1.24.3)\n",
            "Requirement already satisfied: idna<3,>=2.5 in /usr/local/lib/python3.7/dist-packages (from requests<3,>=2.20.0->mxnet-cu100) (2.10)\n",
            "Requirement already satisfied: certifi>=2017.4.17 in /usr/local/lib/python3.7/dist-packages (from requests<3,>=2.20.0->mxnet-cu100) (2021.5.30)\n",
            "Installing collected packages: graphviz, mxnet-cu100\n",
            "  Attempting uninstall: graphviz\n",
            "    Found existing installation: graphviz 0.10.1\n",
            "    Uninstalling graphviz-0.10.1:\n",
            "      Successfully uninstalled graphviz-0.10.1\n",
            "Successfully installed graphviz-0.8.4 mxnet-cu100-1.8.0.post0\n",
            "Collecting dicttoxml\n",
            "  Downloading dicttoxml-1.7.4.tar.gz (18 kB)\n",
            "Building wheels for collected packages: dicttoxml\n",
            "  Building wheel for dicttoxml (setup.py) ... \u001b[?25l\u001b[?25hdone\n",
            "  Created wheel for dicttoxml: filename=dicttoxml-1.7.4-py3-none-any.whl size=17463 sha256=2cfc2f2a5f0e876ee05980183705137363ac10b336dac0ec84c59d9e54deb53f\n",
            "  Stored in directory: /root/.cache/pip/wheels/18/44/5a/c7b93703f611ae3b50820efbaf265413e6b183a56cbec6f661\n",
            "Successfully built dicttoxml\n",
            "Installing collected packages: dicttoxml\n",
            "Successfully installed dicttoxml-1.7.4\n",
            "Collecting xmltodict\n",
            "  Downloading xmltodict-0.12.0-py2.py3-none-any.whl (9.2 kB)\n",
            "Installing collected packages: xmltodict\n",
            "Successfully installed xmltodict-0.12.0\n",
            "Collecting pycocotools\n",
            "  Cloning https://github.com/abhi-kumar/cocoapi.git to /tmp/pip-install-q_cpguc5/pycocotools_125e504ba30e4be188956c53ef7da70c\n",
            "  Running command git clone -q https://github.com/abhi-kumar/cocoapi.git /tmp/pip-install-q_cpguc5/pycocotools_125e504ba30e4be188956c53ef7da70c\n",
            "Requirement already satisfied: setuptools>=18.0 in /usr/local/lib/python3.7/dist-packages (from pycocotools) (57.4.0)\n",
            "Requirement already satisfied: cython>=0.27.3 in /usr/local/lib/python3.7/dist-packages (from pycocotools) (0.29.24)\n",
            "Requirement already satisfied: matplotlib>=2.1.0 in /usr/local/lib/python3.7/dist-packages (from pycocotools) (3.2.2)\n",
            "Requirement already satisfied: pyparsing!=2.0.4,!=2.1.2,!=2.1.6,>=2.0.1 in /usr/local/lib/python3.7/dist-packages (from matplotlib>=2.1.0->pycocotools) (2.4.7)\n",
            "Requirement already satisfied: numpy>=1.11 in /usr/local/lib/python3.7/dist-packages (from matplotlib>=2.1.0->pycocotools) (1.19.5)\n",
            "Requirement already satisfied: kiwisolver>=1.0.1 in /usr/local/lib/python3.7/dist-packages (from matplotlib>=2.1.0->pycocotools) (1.3.2)\n",
            "Requirement already satisfied: python-dateutil>=2.1 in /usr/local/lib/python3.7/dist-packages (from matplotlib>=2.1.0->pycocotools) (2.8.2)\n",
            "Requirement already satisfied: cycler>=0.10 in /usr/local/lib/python3.7/dist-packages (from matplotlib>=2.1.0->pycocotools) (0.10.0)\n",
            "Requirement already satisfied: six in /usr/local/lib/python3.7/dist-packages (from cycler>=0.10->matplotlib>=2.1.0->pycocotools) (1.15.0)\n",
            "Building wheels for collected packages: pycocotools\n",
            "  Building wheel for pycocotools (setup.py) ... \u001b[?25l\u001b[?25hdone\n",
            "  Created wheel for pycocotools: filename=pycocotools-2.0-cp37-cp37m-linux_x86_64.whl size=263844 sha256=b6e60594d84e7b62a7f27790a98639492399db745aa28239580753c11589b121\n",
            "  Stored in directory: /tmp/pip-ephem-wheel-cache-oby_6otb/wheels/b8/4c/a6/f34b4aa3f634b4461fc1934f6d1dedf20df540f6a028547647\n",
            "Successfully built pycocotools\n",
            "Installing collected packages: pycocotools\n",
            "  Attempting uninstall: pycocotools\n",
            "    Found existing installation: pycocotools 2.0.2\n",
            "    Uninstalling pycocotools-2.0.2:\n",
            "      Successfully uninstalled pycocotools-2.0.2\n",
            "Successfully installed pycocotools-2.0\n",
            "CPU times: user 1.08 s, sys: 211 ms, total: 1.29 s\n",
            "Wall time: 54.7 s\n"
          ]
        }
      ]
    },
    {
      "cell_type": "code",
      "metadata": {
        "id": "LEdV1tBQVfp8",
        "colab": {
          "base_uri": "https://localhost:8080/"
        },
        "outputId": "8878feae-cd80-4074-c1ac-e54badda3340"
      },
      "source": [
        "%%time\n",
        "#Version de tqmd para colab\n",
        "!pip install --force https://github.com/chengs/tqdm/archive/colab.zip\n",
        "\n",
        "#Arquitectura de red Efficeintnet\n",
        "!pip install efficientnet_pytorch\n",
        "!pip install tensorboardX"
      ],
      "execution_count": null,
      "outputs": [
        {
          "output_type": "stream",
          "name": "stdout",
          "text": [
            "Collecting https://github.com/chengs/tqdm/archive/colab.zip\n",
            "  Downloading https://github.com/chengs/tqdm/archive/colab.zip\n",
            "\u001b[K     \\ 91 kB 355 kB/s\n",
            "\u001b[?25hBuilding wheels for collected packages: tqdm\n",
            "  Building wheel for tqdm (setup.py) ... \u001b[?25l\u001b[?25hdone\n",
            "  Created wheel for tqdm: filename=tqdm-4.28.1-py2.py3-none-any.whl size=47878 sha256=bba39608fa71f0b1d190e2e05043c1226810d7a6d801d11bcd11a8385c46720f\n",
            "  Stored in directory: /tmp/pip-ephem-wheel-cache-wpultq9q/wheels/b5/36/d9/593e7ac06d343d0a32138fa6c402dc3a0bd31442c9fe53f76c\n",
            "Successfully built tqdm\n",
            "Installing collected packages: tqdm\n",
            "  Attempting uninstall: tqdm\n",
            "    Found existing installation: tqdm 4.62.3\n",
            "    Uninstalling tqdm-4.62.3:\n",
            "      Successfully uninstalled tqdm-4.62.3\n",
            "\u001b[31mERROR: pip's dependency resolver does not currently take into account all the packages that are installed. This behaviour is the source of the following dependency conflicts.\n",
            "spacy 2.2.4 requires tqdm<5.0.0,>=4.38.0, but you have tqdm 4.28.1 which is incompatible.\n",
            "panel 0.12.1 requires tqdm>=4.48.0, but you have tqdm 4.28.1 which is incompatible.\n",
            "fbprophet 0.7.1 requires tqdm>=4.36.1, but you have tqdm 4.28.1 which is incompatible.\u001b[0m\n",
            "Successfully installed tqdm-4.28.1\n",
            "Collecting efficientnet_pytorch\n",
            "  Downloading efficientnet_pytorch-0.7.1.tar.gz (21 kB)\n",
            "Requirement already satisfied: torch in /usr/local/lib/python3.7/dist-packages (from efficientnet_pytorch) (1.9.0+cu111)\n",
            "Requirement already satisfied: typing-extensions in /usr/local/lib/python3.7/dist-packages (from torch->efficientnet_pytorch) (3.7.4.3)\n",
            "Building wheels for collected packages: efficientnet-pytorch\n",
            "  Building wheel for efficientnet-pytorch (setup.py) ... \u001b[?25l\u001b[?25hdone\n",
            "  Created wheel for efficientnet-pytorch: filename=efficientnet_pytorch-0.7.1-py3-none-any.whl size=16446 sha256=333a2b077e09f20382bf9464d1027449bf98ee9f57caac43498e305172028978\n",
            "  Stored in directory: /root/.cache/pip/wheels/0e/cc/b2/49e74588263573ff778da58cc99b9c6349b496636a7e165be6\n",
            "Successfully built efficientnet-pytorch\n",
            "Installing collected packages: efficientnet-pytorch\n",
            "Successfully installed efficientnet-pytorch-0.7.1\n",
            "Collecting tensorboardX\n",
            "  Downloading tensorboardX-2.4-py2.py3-none-any.whl (124 kB)\n",
            "\u001b[K     |████████████████████████████████| 124 kB 13.0 MB/s \n",
            "\u001b[?25hRequirement already satisfied: protobuf>=3.8.0 in /usr/local/lib/python3.7/dist-packages (from tensorboardX) (3.17.3)\n",
            "Requirement already satisfied: numpy in /usr/local/lib/python3.7/dist-packages (from tensorboardX) (1.19.5)\n",
            "Requirement already satisfied: six>=1.9 in /usr/local/lib/python3.7/dist-packages (from protobuf>=3.8.0->tensorboardX) (1.15.0)\n",
            "Installing collected packages: tensorboardX\n",
            "Successfully installed tensorboardX-2.4\n",
            "CPU times: user 130 ms, sys: 41.3 ms, total: 172 ms\n",
            "Wall time: 12.8 s\n"
          ]
        }
      ]
    },
    {
      "cell_type": "markdown",
      "metadata": {
        "id": "XGTHp4Aj7xzV"
      },
      "source": [
        "##Obtener Datos procesador en Roboflow\n",
        "\n",
        "Recuerde que el espacio ENLACE corresponde al código de descarga en el formato COCO Json proporcionado por Roboflow "
      ]
    },
    {
      "cell_type": "code",
      "metadata": {
        "id": "OJKO2njCVmCD",
        "colab": {
          "base_uri": "https://localhost:8080/"
        },
        "outputId": "a9cc4f8b-e4c8-4e9d-92ba-4e1702a76390"
      },
      "source": [
        "%%time\n",
        "!curl -L \"ENLACE\" > \\\n",
        "roboflow.zip; unzip roboflow.zip; \\\n",
        "rm roboflow.zip"
      ],
      "execution_count": null,
      "outputs": [
        {
          "output_type": "stream",
          "name": "stdout",
          "text": [
            "  % Total    % Received % Xferd  Average Speed   Time    Time     Time  Current\n",
            "                                 Dload  Upload   Total   Spent    Left  Speed\n",
            "100   887  100   887    0     0   1586      0 --:--:-- --:--:-- --:--:--  1586\n",
            "100 11.2M  100 11.2M    0     0  5707k      0  0:00:02  0:00:02 --:--:-- 13.8M\n",
            "Archive:  roboflow.zip\n",
            " extracting: README.dataset.txt      \n",
            " extracting: README.roboflow.txt     \n",
            "   creating: test/\n",
            " extracting: test/Captura-de-pantalla-de-2020-09-16-21-51-05_png.rf.e8d187ae9943c81da50943918e96df25.jpg  \n",
            " extracting: test/Captura-de-pantalla-de-2020-09-16-21-51-43_png.rf.fa6898cbf91fa91c09226ea5be0880d0.jpg  \n",
            " extracting: test/Captura-de-pantalla-de-2020-09-16-21-51-48_png.rf.b44ff39a702aaf2d9e6d928ea978e928.jpg  \n",
            " extracting: test/Captura-de-pantalla-de-2020-09-16-21-53-19_png.rf.0ac8b9bb7d0fca1be1b7779926a03b18.jpg  \n",
            " extracting: test/Captura-de-pantalla-de-2020-09-16-22-01-58_png.rf.4be2591abf48a209ed2def39725ad6b0.jpg  \n",
            " extracting: test/Captura-de-pantalla-de-2020-09-16-22-02-43_png.rf.6cc20ffe4611d638a71bcea4d6346e89.jpg  \n",
            " extracting: test/Captura-de-pantalla-de-2020-09-16-22-02-57_png.rf.7a98d13cb92b4a14a46bf064a0092fdb.jpg  \n",
            " extracting: test/Captura-de-pantalla-de-2020-09-16-22-03-54_png.rf.993764a7e465ea58a1598d81d19c0ccb.jpg  \n",
            " extracting: test/Captura-de-pantalla-de-2020-09-16-22-06-32_png.rf.7afd135111725c3c39dce64c323ec65a.jpg  \n",
            " extracting: test/Captura-de-pantalla-de-2020-09-16-22-07-58_png.rf.fe9101b5cdd686ab77282323f7ab6cf7.jpg  \n",
            " extracting: test/Captura-de-pantalla-de-2020-09-16-22-09-29_png.rf.4072fd101e8dfc4553b97512d7f2f3e2.jpg  \n",
            " extracting: test/Captura-de-pantalla-de-2020-09-16-22-21-25_png.rf.eb3ee270d404998f1ca6cb54716c46f8.jpg  \n",
            " extracting: test/Captura-de-pantalla-de-2020-09-16-22-25-09_png.rf.5b57232623b5b669a5e13eda1ec0f964.jpg  \n",
            " extracting: test/Captura-de-pantalla-de-2020-09-16-22-25-55_png.rf.e83fabd254a153c7be229c138ed69552.jpg  \n",
            " extracting: test/Captura-de-pantalla-de-2020-09-16-22-32-00_png.rf.ef8217ff2e5908e99a911342d8a3723e.jpg  \n",
            " extracting: test/Captura-de-pantalla-de-2020-09-16-22-32-07_png.rf.1ccdaa521a95d25930fde52222a6dfe7.jpg  \n",
            " extracting: test/Captura-de-pantalla-de-2020-09-16-22-36-30_png.rf.c1f391ac373f0c33b727effcb1999b82.jpg  \n",
            " extracting: test/Captura-de-pantalla-de-2020-09-16-22-37-22_png.rf.1c061dfe53009c2b89a665a5da45f56e.jpg  \n",
            " extracting: test/Captura-de-pantalla-de-2020-09-16-22-46-20_png.rf.a0c655fda2774d7ec988cd16c8c97f42.jpg  \n",
            " extracting: test/Captura-de-pantalla-de-2020-09-16-22-51-28_png.rf.f652a3eb614d571379998dbd2308eb77.jpg  \n",
            " extracting: test/Captura-de-pantalla-de-2020-09-16-22-51-31_png.rf.16927b4ddfa880b8beb9bb1a4209feef.jpg  \n",
            " extracting: test/Captura-de-pantalla-de-2020-09-16-22-58-27_png.rf.402291ceb262574eaf25c284026fe1fc.jpg  \n",
            " extracting: test/Captura-de-pantalla-de-2020-09-16-23-02-00_png.rf.afa2bdf7cc76e4669f787e32a9cf852d.jpg  \n",
            " extracting: test/Captura-de-pantalla-de-2020-09-16-23-08-10_png.rf.ecb94e2f9025d7598ba34362e78b6c77.jpg  \n",
            " extracting: test/Captura-de-pantalla-de-2020-09-16-23-11-33_png.rf.3691c7ce0e7d6012a130d8ed58b476bd.jpg  \n",
            " extracting: test/Captura-de-pantalla-de-2020-09-16-23-15-40_png.rf.b144939429d8ca934a060385e47a00ca.jpg  \n",
            " extracting: test/Captura-de-pantalla-de-2020-09-17-00-42-44_png.rf.1d7c580f4dbb61077b5d592615c16f10.jpg  \n",
            " extracting: test/Captura-de-pantalla-de-2020-09-17-00-42-46_png.rf.dd47f617f741058e3136d0b7237f946c.jpg  \n",
            " extracting: test/Captura-de-pantalla-de-2020-09-17-00-42-47_png.rf.f9eef95ce088c65ad007f7ac0fc666cb.jpg  \n",
            " extracting: test/Captura-de-pantalla-de-2020-09-17-00-42-49_png.rf.79a7c8505424a80f786932eb60e1914b.jpg  \n",
            " extracting: test/Captura-de-pantalla-de-2020-09-17-00-57-41_png.rf.23c52744b9589c53600fa3b4b8afbc31.jpg  \n",
            " extracting: test/Captura-de-pantalla-de-2020-09-17-02-35-08_png.rf.a5506d9e2c1db0573d4e1bcbc424b3e8.jpg  \n",
            " extracting: test/Captura-de-pantalla-de-2020-09-17-02-40-29_png.rf.8d83dfa5a99963e904337422d0b5fe05.jpg  \n",
            " extracting: test/Captura-de-pantalla-de-2020-09-17-03-24-22_png.rf.a59646faad9475c8638743014d0d2e52.jpg  \n",
            " extracting: test/Captura-de-pantalla-de-2020-09-18-13-19-41_png.rf.1d6a57b4469044d78b9eaa1b05689578.jpg  \n",
            " extracting: test/Captura-de-pantalla-de-2020-09-18-14-29-28_png.rf.81e84f4c1f5e043cce38dd447156d8e1.jpg  \n",
            " extracting: test/Captura-de-pantalla-de-2020-09-18-14-32-18_png.rf.b97198021471c07d86d5ddaccc1a4c60.jpg  \n",
            " extracting: test/Captura-de-pantalla-de-2020-09-18-14-37-57_png.rf.ecd9e6d9cebfb85412afd98eac178263.jpg  \n",
            " extracting: test/Captura-de-pantalla-de-2020-09-18-14-41-42_png.rf.77561e2f9bb2f7520782cd418cec70ce.jpg  \n",
            " extracting: test/Captura-de-pantalla-de-2020-09-18-14-42-21_png.rf.0a93fbe6f9e0a2fd532744ff0a2648e2.jpg  \n",
            " extracting: test/_annotations.coco.json  \n",
            "   creating: train/\n",
            " extracting: train/Captura-de-pantalla-de-2020-09-16-21-21-34_png.rf.cae8ad107f2895841a547bf8c26ee3cd.jpg  \n",
            " extracting: train/Captura-de-pantalla-de-2020-09-16-21-21-38_png.rf.5f3d759ddc58f4ac603763f52f20b9f4.jpg  \n",
            " extracting: train/Captura-de-pantalla-de-2020-09-16-21-22-21_png.rf.653dd62ffc2323d8c2e30b29c0148327.jpg  \n",
            " extracting: train/Captura-de-pantalla-de-2020-09-16-21-22-29_png.rf.d8b3582efd966e25be4be34d91220063.jpg  \n",
            " extracting: train/Captura-de-pantalla-de-2020-09-16-21-30-47_png.rf.4c90c2fc30429414f71b1d2aec1ed8fa.jpg  \n",
            " extracting: train/Captura-de-pantalla-de-2020-09-16-21-30-55_png.rf.23b93a336f3bd8bfa97195db8d368d89.jpg  \n",
            " extracting: train/Captura-de-pantalla-de-2020-09-16-21-31-12_png.rf.eb8f1207da998d83185cd953cf97f65d.jpg  \n",
            " extracting: train/Captura-de-pantalla-de-2020-09-16-21-31-21_png.rf.66acf7007a282eefc74b169b0045d905.jpg  \n",
            " extracting: train/Captura-de-pantalla-de-2020-09-16-21-35-38_png.rf.1ff303fb1f97b4931065c69d9cb49c57.jpg  \n",
            " extracting: train/Captura-de-pantalla-de-2020-09-16-21-45-42_png.rf.0d4b935a9ed491bb7c7c1723db830bf8.jpg  \n",
            " extracting: train/Captura-de-pantalla-de-2020-09-16-21-47-12_png.rf.d69b7d29071302b5ef50f2ebe431c3e0.jpg  \n",
            " extracting: train/Captura-de-pantalla-de-2020-09-16-21-47-19_png.rf.d5ce7f2e548d49e80d6159020bbe9db1.jpg  \n",
            " extracting: train/Captura-de-pantalla-de-2020-09-16-21-47-49_png.rf.b1fc6135736f5624871c5d83370e41e9.jpg  \n",
            " extracting: train/Captura-de-pantalla-de-2020-09-16-21-48-32_png.rf.36e877218b479f944e27f0ab6ca5e28e.jpg  \n",
            " extracting: train/Captura-de-pantalla-de-2020-09-16-21-48-51_png.rf.bb1539298e3110001954d1e0fccaac88.jpg  \n",
            " extracting: train/Captura-de-pantalla-de-2020-09-16-21-49-19_png.rf.8ba675e7b2503ddd5fbfdacddcd8a5ea.jpg  \n",
            " extracting: train/Captura-de-pantalla-de-2020-09-16-21-49-31_png.rf.56428824c44cc92b510980f6e0db59a7.jpg  \n",
            " extracting: train/Captura-de-pantalla-de-2020-09-16-21-49-35_png.rf.d6364ba6b884446877cef3f4c39a19a1.jpg  \n",
            " extracting: train/Captura-de-pantalla-de-2020-09-16-21-49-43_png.rf.f715ac478d0f7bc4773c4e47405cc1b1.jpg  \n",
            " extracting: train/Captura-de-pantalla-de-2020-09-16-21-49-56_png.rf.c87ce84b33e0f9c042dcdc249da63207.jpg  \n",
            " extracting: train/Captura-de-pantalla-de-2020-09-16-21-50-29_png.rf.25943f72b2cf70c5dd9af9a4afb3b217.jpg  \n",
            " extracting: train/Captura-de-pantalla-de-2020-09-16-21-50-41_png.rf.2d040ccb9ee57ab0b1f79d8dfb4dec7c.jpg  \n",
            " extracting: train/Captura-de-pantalla-de-2020-09-16-21-51-02_png.rf.2f4dfe8e79ee38741ec33d2a654b80c6.jpg  \n",
            " extracting: train/Captura-de-pantalla-de-2020-09-16-21-51-09_png.rf.58b1de2de86443f600cc47f8bda31e40.jpg  \n",
            " extracting: train/Captura-de-pantalla-de-2020-09-16-21-51-40_png.rf.205daebd2550ba6b0d2c828ffcafb3c0.jpg  \n",
            " extracting: train/Captura-de-pantalla-de-2020-09-16-21-51-51_png.rf.79a264bbdbf1efe2d1b3a2d12737f039.jpg  \n",
            " extracting: train/Captura-de-pantalla-de-2020-09-16-21-51-54_png.rf.069c2a43bc64992d2fa5cde511f580ba.jpg  \n",
            " extracting: train/Captura-de-pantalla-de-2020-09-16-21-51-59_png.rf.e1eb0ad5320aed80086cfa1066d30496.jpg  \n",
            " extracting: train/Captura-de-pantalla-de-2020-09-16-21-52-12_png.rf.17811495c1b991a3bc50325c1aa792d8.jpg  \n",
            " extracting: train/Captura-de-pantalla-de-2020-09-16-21-53-10_png.rf.b74090e6459a8c9012a7035cb1ee6a21.jpg  \n",
            " extracting: train/Captura-de-pantalla-de-2020-09-16-21-53-17_png.rf.1e3d216335cef0d8215de8ed9d7d0b00.jpg  \n",
            " extracting: train/Captura-de-pantalla-de-2020-09-16-21-53-25_png.rf.804d341866cd155bb11d9fd836db0700.jpg  \n",
            " extracting: train/Captura-de-pantalla-de-2020-09-16-21-53-53_png.rf.4c4f8bf218ba683f3666045d5d4246d9.jpg  \n",
            " extracting: train/Captura-de-pantalla-de-2020-09-16-21-54-08_png.rf.49e675366df008dc87db24e042ebf3b8.jpg  \n",
            " extracting: train/Captura-de-pantalla-de-2020-09-16-21-54-23_png.rf.68bc00d41d04df0884319c0551e8837b.jpg  \n",
            " extracting: train/Captura-de-pantalla-de-2020-09-16-21-54-33_png.rf.4d8a562e1085f8139c7bdf23653fdc6b.jpg  \n",
            " extracting: train/Captura-de-pantalla-de-2020-09-16-21-54-35_png.rf.f5981d0fb258b87890a0d1e23fcfa36b.jpg  \n",
            " extracting: train/Captura-de-pantalla-de-2020-09-16-21-54-48_png.rf.025fda00524465138b89dd4c6e566f48.jpg  \n",
            " extracting: train/Captura-de-pantalla-de-2020-09-16-21-54-52_png.rf.c0f67a3b8a89c24f70535001f87dc904.jpg  \n",
            " extracting: train/Captura-de-pantalla-de-2020-09-16-21-54-55_png.rf.19724d99d0e1d8e17fbebce8a6690194.jpg  \n",
            " extracting: train/Captura-de-pantalla-de-2020-09-16-21-56-16_png.rf.9a60c2c86ed31a5f221de4e42bce5839.jpg  \n",
            " extracting: train/Captura-de-pantalla-de-2020-09-16-21-58-55_png.rf.dc2cbcbde1debed37767cd34aded9291.jpg  \n",
            " extracting: train/Captura-de-pantalla-de-2020-09-16-21-58-59_png.rf.214742310a081899a781893bb46eae1d.jpg  \n",
            " extracting: train/Captura-de-pantalla-de-2020-09-16-21-59-09_png.rf.a253c80b5b7b5d404c27fe978d21a394.jpg  \n",
            " extracting: train/Captura-de-pantalla-de-2020-09-16-21-59-12_png.rf.e42c6bc502d251fc233dc055552962cc.jpg  \n",
            " extracting: train/Captura-de-pantalla-de-2020-09-16-22-01-06_png.rf.e921e163f348f628c8239afb5242702b.jpg  \n",
            " extracting: train/Captura-de-pantalla-de-2020-09-16-22-01-10_png.rf.0ac8b5b69292f6fb86513afcaeb2158a.jpg  \n",
            " extracting: train/Captura-de-pantalla-de-2020-09-16-22-01-24_png.rf.69af6a92eb84de4497c360bd0f5380f4.jpg  \n",
            " extracting: train/Captura-de-pantalla-de-2020-09-16-22-01-28_png.rf.f8b7aeb35b09cadd27b2b8b016db95d6.jpg  \n",
            " extracting: train/Captura-de-pantalla-de-2020-09-16-22-01-38_png.rf.b7c4357e211afdc14b5c36702fde2c6a.jpg  \n",
            " extracting: train/Captura-de-pantalla-de-2020-09-16-22-01-41_png.rf.59d3f010f2d16e1b1479046dd3a4210c.jpg  \n",
            " extracting: train/Captura-de-pantalla-de-2020-09-16-22-01-47_png.rf.94674b8a6926dac7e3ebab9d8618ce17.jpg  \n",
            " extracting: train/Captura-de-pantalla-de-2020-09-16-22-01-53_png.rf.3006397d0188fe0d9d8f663da377c2b2.jpg  \n",
            " extracting: train/Captura-de-pantalla-de-2020-09-16-22-02-34_png.rf.0d38b4cfdea390433459176e049c6254.jpg  \n",
            " extracting: train/Captura-de-pantalla-de-2020-09-16-22-02-40_png.rf.7aeebcca5ac4314972bc7bef29229399.jpg  \n",
            " extracting: train/Captura-de-pantalla-de-2020-09-16-22-03-01_png.rf.fb0409fbab3a45c60862d9892a2ec547.jpg  \n",
            " extracting: train/Captura-de-pantalla-de-2020-09-16-22-03-04_png.rf.41527551b810b0e63bf69fa709f00d39.jpg  \n",
            " extracting: train/Captura-de-pantalla-de-2020-09-16-22-03-11_png.rf.5ab6f6fecf9b359cebd9762bd2d6cc24.jpg  \n",
            " extracting: train/Captura-de-pantalla-de-2020-09-16-22-03-30_png.rf.f1772128a3ccede9208d6e7f608a87d7.jpg  \n",
            " extracting: train/Captura-de-pantalla-de-2020-09-16-22-03-48_png.rf.1836262a7b97864ee22a023bf443eb5b.jpg  \n",
            " extracting: train/Captura-de-pantalla-de-2020-09-16-22-04-34_png.rf.7de47e310f1754201a31e9e27f0080ef.jpg  \n",
            " extracting: train/Captura-de-pantalla-de-2020-09-16-22-04-38_png.rf.a78303665a0ea7a26fae8748f929c403.jpg  \n",
            " extracting: train/Captura-de-pantalla-de-2020-09-16-22-05-00_png.rf.a9db90ea5413325994d09a3bf6ae34be.jpg  \n",
            " extracting: train/Captura-de-pantalla-de-2020-09-16-22-05-03_png.rf.638a0c6456d19b87208be1fa6be17285.jpg  \n",
            " extracting: train/Captura-de-pantalla-de-2020-09-16-22-05-42_png.rf.e707bd383b2ede8bc303b800b9f7f027.jpg  \n",
            " extracting: train/Captura-de-pantalla-de-2020-09-16-22-06-18_png.rf.c6641048ca31e8732cb641252fcf226a.jpg  \n",
            " extracting: train/Captura-de-pantalla-de-2020-09-16-22-06-36_png.rf.73678e6dfab8b07ca2dd69d0548b8727.jpg  \n",
            " extracting: train/Captura-de-pantalla-de-2020-09-16-22-06-47_png.rf.9840d891c33c6c22236116a6a3286123.jpg  \n",
            " extracting: train/Captura-de-pantalla-de-2020-09-16-22-06-53_png.rf.8b37b9a4ea7738ea6ec38db2a56a1b78.jpg  \n",
            " extracting: train/Captura-de-pantalla-de-2020-09-16-22-07-13_png.rf.28726bb5eee35e6b3d1cbfb3fa6e8a45.jpg  \n",
            " extracting: train/Captura-de-pantalla-de-2020-09-16-22-07-16_png.rf.9d684272299ed43158311f3d0f5bff7d.jpg  \n",
            " extracting: train/Captura-de-pantalla-de-2020-09-16-22-07-19_png.rf.88b1e2f88936ca2f2b25523499ff0786.jpg  \n",
            " extracting: train/Captura-de-pantalla-de-2020-09-16-22-08-06_png.rf.03431d3df145096afda0da6ef8bc171c.jpg  \n",
            " extracting: train/Captura-de-pantalla-de-2020-09-16-22-08-24_png.rf.a1d41d29f6030f1f2af6c27d2649c4bf.jpg  \n",
            " extracting: train/Captura-de-pantalla-de-2020-09-16-22-09-25_png.rf.30bc62e36a2e63894ff6372e268af2c6.jpg  \n",
            " extracting: train/Captura-de-pantalla-de-2020-09-16-22-09-36_png.rf.c038c9a084f83a934a1cc0b5b79e74a1.jpg  \n",
            " extracting: train/Captura-de-pantalla-de-2020-09-16-22-09-39_png.rf.a0cae055bf2117e91191a1614dfd80a0.jpg  \n",
            " extracting: train/Captura-de-pantalla-de-2020-09-16-22-09-46_png.rf.510bb2a91b9a482a46278d0f8a5d0c10.jpg  \n",
            " extracting: train/Captura-de-pantalla-de-2020-09-16-22-10-32_png.rf.20bd80a9ad97bf20b9db7a958f7c2cad.jpg  \n",
            " extracting: train/Captura-de-pantalla-de-2020-09-16-22-17-11_png.rf.42c3330b49567e1a1fa21bdbabec5456.jpg  \n",
            " extracting: train/Captura-de-pantalla-de-2020-09-16-22-19-29_png.rf.154640fedf5ab9d102c957a239113e8e.jpg  \n",
            " extracting: train/Captura-de-pantalla-de-2020-09-16-22-22-32_png.rf.16af9db4830fcb000d56c60ba5cee776.jpg  \n",
            " extracting: train/Captura-de-pantalla-de-2020-09-16-22-22-35_png.rf.114f5860b0b6fd2494fe022c2926ddb8.jpg  \n",
            " extracting: train/Captura-de-pantalla-de-2020-09-16-22-24-45_png.rf.9cbe1784792278cba6120f34a4548992.jpg  \n",
            " extracting: train/Captura-de-pantalla-de-2020-09-16-22-25-21_png.rf.7e8b246fe98e086aa00b49af0b5a6feb.jpg  \n",
            " extracting: train/Captura-de-pantalla-de-2020-09-16-22-26-23_png.rf.3f1b64ddda4b307f0e5c8c984094cbf9.jpg  \n",
            " extracting: train/Captura-de-pantalla-de-2020-09-16-22-26-29_png.rf.0480ef5c4266a707912687c5ed8206fb.jpg  \n",
            " extracting: train/Captura-de-pantalla-de-2020-09-16-22-26-34_png.rf.fde538c5dbf7efb3b8b1bb9b793ad6f7.jpg  \n",
            " extracting: train/Captura-de-pantalla-de-2020-09-16-22-26-38_png.rf.0cf7d97b57871560d5680fa77f64a157.jpg  \n",
            " extracting: train/Captura-de-pantalla-de-2020-09-16-22-26-42_png.rf.cd9f81dc1dbf72fd3b3ee5eae26e2394.jpg  \n",
            " extracting: train/Captura-de-pantalla-de-2020-09-16-22-26-56_png.rf.955d5510a0bbf09931df724ca5617bdc.jpg  \n",
            " extracting: train/Captura-de-pantalla-de-2020-09-16-22-27-00_png.rf.d614c86e09d64cf2fb5852f04f430a48.jpg  \n",
            " extracting: train/Captura-de-pantalla-de-2020-09-16-22-27-17_png.rf.ad2fb7eeb997b7a0dd1214995a9d7f57.jpg  \n",
            " extracting: train/Captura-de-pantalla-de-2020-09-16-22-27-29_png.rf.a95569f49fa91ff0cc6b438d41500baa.jpg  \n",
            " extracting: train/Captura-de-pantalla-de-2020-09-16-22-28-49_png.rf.67325c002cb5597d90c17cb581972fc6.jpg  \n",
            " extracting: train/Captura-de-pantalla-de-2020-09-16-22-30-17_png.rf.16baa9a389b382f3dd6872092b06973f.jpg  \n",
            " extracting: train/Captura-de-pantalla-de-2020-09-16-22-30-21_png.rf.b8b59033ef858e792a4ce816e10fce89.jpg  \n",
            " extracting: train/Captura-de-pantalla-de-2020-09-16-22-30-35_png.rf.7ed40a8debd38eaa48f01b8bac883d67.jpg  \n",
            " extracting: train/Captura-de-pantalla-de-2020-09-16-22-30-46_png.rf.597218bd4372d00bb0509918712ec48d.jpg  \n",
            " extracting: train/Captura-de-pantalla-de-2020-09-16-22-31-24_png.rf.8c4bdcd4b651ccdb29fda3764a005753.jpg  \n",
            " extracting: train/Captura-de-pantalla-de-2020-09-16-22-33-07_png.rf.545473b2bf183e7ecc0c41d7e4e1d93c.jpg  \n",
            " extracting: train/Captura-de-pantalla-de-2020-09-16-22-33-16_png.rf.821f09c7b00af0df14c386042cbb014f.jpg  \n",
            " extracting: train/Captura-de-pantalla-de-2020-09-16-22-33-22_png.rf.127b27b4c3133a0b39667e64d286d8fd.jpg  \n",
            " extracting: train/Captura-de-pantalla-de-2020-09-16-22-34-33_png.rf.a30395449d4f7d8f4247eca6b5c9a350.jpg  \n",
            " extracting: train/Captura-de-pantalla-de-2020-09-16-22-34-56_png.rf.ff25f5ed8f9526b325e91c33b1ca4375.jpg  \n",
            " extracting: train/Captura-de-pantalla-de-2020-09-16-22-34-59_png.rf.8639eab76498b6b69163ddd0b7159b87.jpg  \n",
            " extracting: train/Captura-de-pantalla-de-2020-09-16-22-35-01_png.rf.3d119ac47451bc731da6ee9e4a402820.jpg  \n",
            " extracting: train/Captura-de-pantalla-de-2020-09-16-22-35-07_png.rf.7bce48b2ad9d9ee48c1ce4730e05a688.jpg  \n",
            " extracting: train/Captura-de-pantalla-de-2020-09-16-22-35-11_png.rf.b72eb78f7a33042f3c5e0ea094a92473.jpg  \n",
            " extracting: train/Captura-de-pantalla-de-2020-09-16-22-35-52_png.rf.7c37e8e2f01bdb8628d9208ad9fcd7e2.jpg  \n",
            " extracting: train/Captura-de-pantalla-de-2020-09-16-22-35-56_png.rf.4a09d74a157a38559399f8b3d4532e4f.jpg  \n",
            " extracting: train/Captura-de-pantalla-de-2020-09-16-22-36-01_png.rf.b93afda19a590c790ee9303d5b26f89b.jpg  \n",
            " extracting: train/Captura-de-pantalla-de-2020-09-16-22-36-04_png.rf.0dedf950331a5b4d7d560eca2e6be3af.jpg  \n",
            " extracting: train/Captura-de-pantalla-de-2020-09-16-22-36-28_png.rf.1869a61818c4e64e703d7872bd853473.jpg  \n",
            " extracting: train/Captura-de-pantalla-de-2020-09-16-22-36-34_png.rf.4515f5d4467bd3a8904fcbd0b598537a.jpg  \n",
            " extracting: train/Captura-de-pantalla-de-2020-09-16-22-36-41_png.rf.c5bd6dd0e94112dbd543be8a29307d0e.jpg  \n",
            " extracting: train/Captura-de-pantalla-de-2020-09-16-22-36-56_png.rf.da91da443a8755947eeb8d6fbc6b071e.jpg  \n",
            " extracting: train/Captura-de-pantalla-de-2020-09-16-22-36-59_png.rf.a67eaf677fcbcff937ef110132a3dfcc.jpg  \n",
            " extracting: train/Captura-de-pantalla-de-2020-09-16-22-37-17_png.rf.32f4601d9a3a9e0103c7f5c1b921b64a.jpg  \n",
            " extracting: train/Captura-de-pantalla-de-2020-09-16-22-39-19_png.rf.e1df8b38e569d30ab7a2040f7c3009ce.jpg  \n",
            " extracting: train/Captura-de-pantalla-de-2020-09-16-22-39-51_png.rf.82cfc76550bd206e9d18916dffda2c84.jpg  \n",
            " extracting: train/Captura-de-pantalla-de-2020-09-16-22-42-30_png.rf.89d5a89ec27242c168c392cc8df94ca0.jpg  \n",
            " extracting: train/Captura-de-pantalla-de-2020-09-16-22-46-16_png.rf.ffeb835c30768bab54f5e7dfd25f8cd1.jpg  \n",
            " extracting: train/Captura-de-pantalla-de-2020-09-16-22-48-18_png.rf.4d3547be45aad615b9352aa0b06e6ff4.jpg  \n",
            " extracting: train/Captura-de-pantalla-de-2020-09-16-22-48-23_png.rf.99cd9255af52e6e1f8e44beee3a395d4.jpg  \n",
            " extracting: train/Captura-de-pantalla-de-2020-09-16-22-49-02_png.rf.c89fdda7df850ad1f4ea7fa15ccb57b3.jpg  \n",
            " extracting: train/Captura-de-pantalla-de-2020-09-16-22-49-07_png.rf.4b66ffbb9fc4658df8854c6479347397.jpg  \n",
            " extracting: train/Captura-de-pantalla-de-2020-09-16-22-49-14_png.rf.80d8d4e0d31f9ef00256f944f67b3fe9.jpg  \n",
            " extracting: train/Captura-de-pantalla-de-2020-09-16-22-50-18_png.rf.21498a66ca2d6a063cc92fc9d65491ed.jpg  \n",
            " extracting: train/Captura-de-pantalla-de-2020-09-16-22-51-02_png.rf.bcc1ac5985e9a4546a6b23085de8e94c.jpg  \n",
            " extracting: train/Captura-de-pantalla-de-2020-09-16-22-51-25_png.rf.1d1fd4b4a024d80a90865093edf6f90b.jpg  \n",
            " extracting: train/Captura-de-pantalla-de-2020-09-16-22-51-35_png.rf.60eec2d00e614b445973126b660e0577.jpg  \n",
            " extracting: train/Captura-de-pantalla-de-2020-09-16-22-52-06_png.rf.8c5f5afea1eaa282be035be14cfcaf45.jpg  \n",
            " extracting: train/Captura-de-pantalla-de-2020-09-16-22-52-13_png.rf.40217c069fb6ae03b93f6bfdc8258f8a.jpg  \n",
            " extracting: train/Captura-de-pantalla-de-2020-09-16-22-52-17_png.rf.1cba30a995a6a86f4be85ce450c6edb1.jpg  \n",
            " extracting: train/Captura-de-pantalla-de-2020-09-16-22-52-23_png.rf.9d7682e5f72454d8a7c043dc92c55b82.jpg  \n",
            " extracting: train/Captura-de-pantalla-de-2020-09-16-22-52-30_png.rf.c114e37705b8c38963585303b28423c2.jpg  \n",
            " extracting: train/Captura-de-pantalla-de-2020-09-16-22-58-24_png.rf.e2b371b0187d50d1c2c5dfcb467d1ab9.jpg  \n",
            " extracting: train/Captura-de-pantalla-de-2020-09-16-22-58-31_png.rf.35c209f3f613df0079111cf3dd09b8fc.jpg  \n",
            " extracting: train/Captura-de-pantalla-de-2020-09-16-22-58-44_png.rf.04cd1f939ee11201a014c63ca02a1c95.jpg  \n",
            " extracting: train/Captura-de-pantalla-de-2020-09-16-22-58-57_png.rf.e049e90ea36486bcee6a1b781c3512a2.jpg  \n",
            " extracting: train/Captura-de-pantalla-de-2020-09-16-22-59-01_png.rf.4ff8c039f7d5cb917994fa8810b792f3.jpg  \n",
            " extracting: train/Captura-de-pantalla-de-2020-09-16-22-59-05_png.rf.90e6c818cd178268c2d791133355d1fa.jpg  \n",
            " extracting: train/Captura-de-pantalla-de-2020-09-16-22-59-11_png.rf.39d0a2e364c3db369cd267b06817941d.jpg  \n",
            " extracting: train/Captura-de-pantalla-de-2020-09-16-22-59-17_png.rf.02850f5f5f64749264f6b2c8bef87ec8.jpg  \n",
            " extracting: train/Captura-de-pantalla-de-2020-09-16-22-59-39_png.rf.a7edbdc5914b19efe3ac31cf6cacea00.jpg  \n",
            " extracting: train/Captura-de-pantalla-de-2020-09-16-22-59-52_png.rf.e0956b026c8d6446eb40f88bda57daba.jpg  \n",
            " extracting: train/Captura-de-pantalla-de-2020-09-16-23-00-19_png.rf.bd6add5f7ab310a8fb7f2c01d92d0482.jpg  \n",
            " extracting: train/Captura-de-pantalla-de-2020-09-16-23-00-26_png.rf.9323e00d6695bb1651089ef7e3012acf.jpg  \n",
            " extracting: train/Captura-de-pantalla-de-2020-09-16-23-00-29_png.rf.9b4f52849be1e9660c877d842460cac1.jpg  \n",
            " extracting: train/Captura-de-pantalla-de-2020-09-16-23-00-32_png.rf.1c6cfd14a7a4a44358179e80a6d8bb12.jpg  \n",
            " extracting: train/Captura-de-pantalla-de-2020-09-16-23-01-14_png.rf.78b387b5d3a8ad4a2cb0b2091419ab8e.jpg  \n",
            " extracting: train/Captura-de-pantalla-de-2020-09-16-23-01-48_png.rf.a7cbbc04a467759334d588e934c31def.jpg  \n",
            " extracting: train/Captura-de-pantalla-de-2020-09-16-23-01-52_png.rf.abce3570bbd468d243007294f160f68e.jpg  \n",
            " extracting: train/Captura-de-pantalla-de-2020-09-16-23-02-13_png.rf.b9b6824f564cd71354e2e28a68d4c83c.jpg  \n",
            " extracting: train/Captura-de-pantalla-de-2020-09-16-23-02-38_png.rf.7725802072b3fd9ef01581b124ed77e9.jpg  \n",
            " extracting: train/Captura-de-pantalla-de-2020-09-16-23-05-14_png.rf.0fd85d0c6ed796769fd87bd8273d04ee.jpg  \n",
            " extracting: train/Captura-de-pantalla-de-2020-09-16-23-05-25_png.rf.13d8439f0ab042dd62fa1ed8fbec8162.jpg  \n",
            " extracting: train/Captura-de-pantalla-de-2020-09-16-23-05-32_png.rf.c782a18becb162b419a5bba30f2f18a0.jpg  \n",
            " extracting: train/Captura-de-pantalla-de-2020-09-16-23-06-27_png.rf.0ab8cb0a53a086504417b8043c87b012.jpg  \n",
            " extracting: train/Captura-de-pantalla-de-2020-09-16-23-06-31_png.rf.3bf8a4adf09dc268337509d80307b2dd.jpg  \n",
            " extracting: train/Captura-de-pantalla-de-2020-09-16-23-06-34_png.rf.21a157b63f5b28991d194cc9bd5d576a.jpg  \n",
            " extracting: train/Captura-de-pantalla-de-2020-09-16-23-07-26_png.rf.f1678d2b0ed5cbc2ff68f6a78b1b5a19.jpg  \n",
            " extracting: train/Captura-de-pantalla-de-2020-09-16-23-07-29_png.rf.ed30fc4c966f6869b76041ef08de5c79.jpg  \n",
            " extracting: train/Captura-de-pantalla-de-2020-09-16-23-07-37_png.rf.16d41a1fbee5532ee4e79a803f13b34a.jpg  \n",
            " extracting: train/Captura-de-pantalla-de-2020-09-16-23-07-55_png.rf.e948a1e2379b2a42758354fb44dd5cbc.jpg  \n",
            " extracting: train/Captura-de-pantalla-de-2020-09-16-23-08-51_png.rf.95ae16e501696f417bb673b4d2d099d2.jpg  \n",
            " extracting: train/Captura-de-pantalla-de-2020-09-16-23-09-30_png.rf.cb041461419ab292924aa7cca816c5e2.jpg  \n",
            " extracting: train/Captura-de-pantalla-de-2020-09-16-23-10-51_png.rf.797e2f91586b27b46abd41b4d34e8fd1.jpg  \n",
            " extracting: train/Captura-de-pantalla-de-2020-09-16-23-11-40_png.rf.2fc12fd7c1f3dc9ff97be716452bd5c6.jpg  \n",
            " extracting: train/Captura-de-pantalla-de-2020-09-16-23-11-44_png.rf.6158243d149667eb4b56f5f215afc04f.jpg  \n",
            " extracting: train/Captura-de-pantalla-de-2020-09-16-23-11-52_png.rf.0cff19360f8d335748c52f8f4c52a58a.jpg  \n",
            " extracting: train/Captura-de-pantalla-de-2020-09-16-23-11-56_png.rf.a0eb2d26dc1fe61403ff3d56ea923a7a.jpg  \n",
            " extracting: train/Captura-de-pantalla-de-2020-09-16-23-15-27_png.rf.c8f22c35341ecd82bb70a95e2628cf4e.jpg  \n",
            " extracting: train/Captura-de-pantalla-de-2020-09-16-23-15-31_png.rf.2a31552ded94a7af847a42fd9e7e486e.jpg  \n",
            " extracting: train/Captura-de-pantalla-de-2020-09-16-23-16-23_png.rf.ae878c1c66e208ecb7a1994581f6eea9.jpg  \n",
            " extracting: train/Captura-de-pantalla-de-2020-09-16-23-17-19_png.rf.1eaceac14e609b6817b1b5cb091b9d26.jpg  \n",
            " extracting: train/Captura-de-pantalla-de-2020-09-17-00-06-39_png.rf.191d09061aaef9936de6e74d7d43f4f8.jpg  \n",
            " extracting: train/Captura-de-pantalla-de-2020-09-17-00-21-38_png.rf.b659bbec2d645c81f8b971a13b48ec62.jpg  \n",
            " extracting: train/Captura-de-pantalla-de-2020-09-17-00-21-44_png.rf.b567e2d8efde84025ce66a1e6eddc6d3.jpg  \n",
            " extracting: train/Captura-de-pantalla-de-2020-09-17-00-22-58_png.rf.48914846ab1e8847e4d2b6cf6692e27d.jpg  \n",
            " extracting: train/Captura-de-pantalla-de-2020-09-17-00-22-59_png.rf.cce88641aac98dc743d0d1e280ade56e.jpg  \n",
            " extracting: train/Captura-de-pantalla-de-2020-09-17-00-23-02_png.rf.8fadf34c49e1f7bc3182439be648eb46.jpg  \n",
            " extracting: train/Captura-de-pantalla-de-2020-09-17-00-23-09_png.rf.9d00ad205139e000b1eb2895af465669.jpg  \n",
            " extracting: train/Captura-de-pantalla-de-2020-09-17-00-32-21_png.rf.d9f618152a1b704d86bed45eef1a3970.jpg  \n",
            " extracting: train/Captura-de-pantalla-de-2020-09-17-00-32-25_png.rf.fbecfee9c235d03788370feee13f21a0.jpg  \n",
            " extracting: train/Captura-de-pantalla-de-2020-09-17-00-32-27_png.rf.716a399904a16ef041bee036fa773421.jpg  \n",
            " extracting: train/Captura-de-pantalla-de-2020-09-17-00-33-01_png.rf.8ff02817efbb925ef639b6bcd0260da6.jpg  \n",
            " extracting: train/Captura-de-pantalla-de-2020-09-17-00-38-22_png.rf.bdba55a9dfa265326bc62a1baca003f6.jpg  \n",
            " extracting: train/Captura-de-pantalla-de-2020-09-17-00-38-42_png.rf.852d66cdceb07265f209afcc7daa3177.jpg  \n",
            " extracting: train/Captura-de-pantalla-de-2020-09-17-00-38-43_png.rf.f32d78121c464a328786f4b1f5fa2db6.jpg  \n",
            " extracting: train/Captura-de-pantalla-de-2020-09-17-00-38-46_png.rf.36d0997897dfebeb990bf766d8f5d58c.jpg  \n",
            " extracting: train/Captura-de-pantalla-de-2020-09-17-00-40-22_png.rf.3648c15b5c92e3ce9e7937f61d530f6f.jpg  \n",
            " extracting: train/Captura-de-pantalla-de-2020-09-17-00-42-09_png.rf.c05b1c2b49b5a0d70ad860c0ed289be5.jpg  \n",
            " extracting: train/Captura-de-pantalla-de-2020-09-17-00-42-11_png.rf.a9878be2201f3de42769cfe9c9e2f093.jpg  \n",
            " extracting: train/Captura-de-pantalla-de-2020-09-17-00-42-12_png.rf.38d55b2665fd8a08430e3e99c29db931.jpg  \n",
            " extracting: train/Captura-de-pantalla-de-2020-09-17-00-42-13_png.rf.3e7a933d5598fa5474aded58e5447628.jpg  \n",
            " extracting: train/Captura-de-pantalla-de-2020-09-17-00-42-27_png.rf.975db0473c2353d572174945d6c8cdb9.jpg  \n",
            " extracting: train/Captura-de-pantalla-de-2020-09-17-00-42-43_png.rf.c58152ac52aca18ddff6c7ca5baffe6a.jpg  \n",
            " extracting: train/Captura-de-pantalla-de-2020-09-17-00-42-51_png.rf.52653fd23ad78f90005f3b642eafb1aa.jpg  \n",
            " extracting: train/Captura-de-pantalla-de-2020-09-17-00-52-03_png.rf.67ebc594f3fc4a65531ff6dc1163c3e9.jpg  \n",
            " extracting: train/Captura-de-pantalla-de-2020-09-17-00-53-04_png.rf.d075b4e94c8d9f3b858d2aa3672d5fe3.jpg  \n",
            " extracting: train/Captura-de-pantalla-de-2020-09-17-00-53-18_png.rf.6c4179026884d47c76a0b175a28da3c4.jpg  \n",
            " extracting: train/Captura-de-pantalla-de-2020-09-17-00-55-21_png.rf.adc58002b398e04f706aad435e10c506.jpg  \n",
            " extracting: train/Captura-de-pantalla-de-2020-09-17-00-55-28_png.rf.fea4a5cd6ffa20e4cfc16c852564883f.jpg  \n",
            " extracting: train/Captura-de-pantalla-de-2020-09-17-00-55-29_png.rf.87c43570246aae0c54c2708f10aef2c4.jpg  \n",
            " extracting: train/Captura-de-pantalla-de-2020-09-17-00-55-31_png.rf.e3c065ae2c12f73d327fbbe6aaf0fba4.jpg  \n",
            " extracting: train/Captura-de-pantalla-de-2020-09-17-00-57-18_png.rf.4e45808d9e90ed26088e6e63b835d7a6.jpg  \n",
            " extracting: train/Captura-de-pantalla-de-2020-09-17-00-57-19_png.rf.aad14f9a8ae36af37b27bd8196f951b5.jpg  \n",
            " extracting: train/Captura-de-pantalla-de-2020-09-17-00-57-43_png.rf.75308bf226cb1b6f88e001d8e1d044d3.jpg  \n",
            " extracting: train/Captura-de-pantalla-de-2020-09-17-00-57-47_png.rf.bffca3268a9045a1f7beddef76d52cd2.jpg  \n",
            " extracting: train/Captura-de-pantalla-de-2020-09-17-00-57-48_png.rf.ac266d5739120bdbeebebf0cfa1de55f.jpg  \n",
            " extracting: train/Captura-de-pantalla-de-2020-09-17-01-00-13_png.rf.79789c05557b6e4e4cace91aebff53d6.jpg  \n",
            " extracting: train/Captura-de-pantalla-de-2020-09-17-01-00-23_png.rf.566292fa9c013b255327742415cb3d7c.jpg  \n",
            " extracting: train/Captura-de-pantalla-de-2020-09-17-02-31-12_png.rf.8ece4cb84e23fb7270377e9d483cc0e7.jpg  \n",
            " extracting: train/Captura-de-pantalla-de-2020-09-17-02-32-22_png.rf.95f440e439d417f2e01ff57bd845e093.jpg  \n",
            " extracting: train/Captura-de-pantalla-de-2020-09-17-02-34-06_png.rf.2a86a343a246fd8536cb304d9f61184d.jpg  \n",
            " extracting: train/Captura-de-pantalla-de-2020-09-17-02-36-25_png.rf.0dd63334217c16902523c68a87a901d7.jpg  \n",
            " extracting: train/Captura-de-pantalla-de-2020-09-17-02-39-54_png.rf.ccef41721c723f8635d029088c790173.jpg  \n",
            " extracting: train/Captura-de-pantalla-de-2020-09-17-02-40-24_png.rf.f9e95c1af4c219555dbaddd1ae77543d.jpg  \n",
            " extracting: train/Captura-de-pantalla-de-2020-09-17-02-40-37_png.rf.1c6e112b4f3c6a75d8263df45e18ec2e.jpg  \n",
            " extracting: train/Captura-de-pantalla-de-2020-09-17-02-40-40_png.rf.b32e641106a0a089c4ba4b21a52d0a4e.jpg  \n",
            " extracting: train/Captura-de-pantalla-de-2020-09-17-02-40-50_png.rf.14db5963f132f4da9453008d23b504db.jpg  \n",
            " extracting: train/Captura-de-pantalla-de-2020-09-17-02-41-01_png.rf.93e9ca79c296d792e5ea8018d2e8571a.jpg  \n",
            " extracting: train/Captura-de-pantalla-de-2020-09-17-02-41-30_png.rf.0c54a41272ad8ce3ec3e05ec83c216d0.jpg  \n",
            " extracting: train/Captura-de-pantalla-de-2020-09-17-02-41-35_png.rf.f8c5a97c776876b319e6f3d67be6aab8.jpg  \n",
            " extracting: train/Captura-de-pantalla-de-2020-09-17-02-41-52_png.rf.7516707bd7434cb85f684996edd6ced0.jpg  \n",
            " extracting: train/Captura-de-pantalla-de-2020-09-17-03-20-33_png.rf.1a43e5c24d595209c8c2120a8878f65e.jpg  \n",
            " extracting: train/Captura-de-pantalla-de-2020-09-17-03-23-24_png.rf.3656699c1010bebe1b2840602ad60bb1.jpg  \n",
            " extracting: train/Captura-de-pantalla-de-2020-09-17-03-23-32_png.rf.bfd4fd860a26ea4e9f1bc142ce33feb0.jpg  \n",
            " extracting: train/Captura-de-pantalla-de-2020-09-17-03-23-37_png.rf.6b01cfaa74a3f36138dfff5bffe81487.jpg  \n",
            " extracting: train/Captura-de-pantalla-de-2020-09-17-03-23-40_png.rf.df4638518ab5e410379b428d4f265503.jpg  \n",
            " extracting: train/Captura-de-pantalla-de-2020-09-17-03-26-12_png.rf.7cf03937fd40f9850bf9dec68bd4ff30.jpg  \n",
            " extracting: train/Captura-de-pantalla-de-2020-09-17-03-26-15_png.rf.0ad9f5728e2c0882ac682be6557ca6b8.jpg  \n",
            " extracting: train/Captura-de-pantalla-de-2020-09-17-03-27-18_png.rf.66cc089f1efa8d932004e1a460960b9a.jpg  \n",
            " extracting: train/Captura-de-pantalla-de-2020-09-17-03-27-24_png.rf.6c9eac03ef7c1b0b3bae5f20a9fb26b9.jpg  \n",
            " extracting: train/Captura-de-pantalla-de-2020-09-17-03-27-30_png.rf.bf9a4937d5fae7d7396af4bbbaa25ec1.jpg  \n",
            " extracting: train/Captura-de-pantalla-de-2020-09-17-03-28-07_png.rf.8fc7bbe6504dc3cf12fd1b34d357eedd.jpg  \n",
            " extracting: train/Captura-de-pantalla-de-2020-09-17-03-50-18_png.rf.321fba6e934851e4b4f0815444277c4f.jpg  \n",
            " extracting: train/Captura-de-pantalla-de-2020-09-17-04-01-14_png.rf.5c9c47e58ece53b54dad00fe34ff1013.jpg  \n",
            " extracting: train/Captura-de-pantalla-de-2020-09-17-04-01-20_png.rf.82da8d9ca211ef49ef991cfc67ed226a.jpg  \n",
            " extracting: train/Captura-de-pantalla-de-2020-09-17-04-02-10_png.rf.0caacb482b66eb6e25000c562a670518.jpg  \n",
            " extracting: train/Captura-de-pantalla-de-2020-09-17-04-02-33_png.rf.b2280cbaf38021f8071b8357ad406a4f.jpg  \n",
            " extracting: train/Captura-de-pantalla-de-2020-09-17-04-02-39_png.rf.c5636f90ca13d695909b8a4de58a2c71.jpg  \n",
            " extracting: train/Captura-de-pantalla-de-2020-09-17-04-05-11_png.rf.e8e1df6071a83480bdf2dd5f6d80419b.jpg  \n",
            " extracting: train/Captura-de-pantalla-de-2020-09-17-04-05-55_png.rf.286bc6c90ac3bed593a8b3d4fd540240.jpg  \n",
            " extracting: train/Captura-de-pantalla-de-2020-09-17-04-07-37_png.rf.781c953ac24d1a5cd1446ab8dd00e6ff.jpg  \n",
            " extracting: train/Captura-de-pantalla-de-2020-09-17-04-08-16_png.rf.48c5358b0f206c78183152aa5d877801.jpg  \n",
            " extracting: train/Captura-de-pantalla-de-2020-09-17-04-09-54_png.rf.b50a5086088cc70b0408dee6f6f6b11f.jpg  \n",
            " extracting: train/Captura-de-pantalla-de-2020-09-17-04-10-18_png.rf.a547220e60e46476c0fe7484e21015f9.jpg  \n",
            " extracting: train/Captura-de-pantalla-de-2020-09-17-04-11-07_png.rf.8a69d5763b17e09cd0d4e4bff368339b.jpg  \n",
            " extracting: train/Captura-de-pantalla-de-2020-09-17-04-11-33_png.rf.c4460c3f2eedbb08ac1967d2f85a5258.jpg  \n",
            " extracting: train/Captura-de-pantalla-de-2020-09-17-04-11-36_png.rf.ce7b1a115ee6675bb548387ef3591d75.jpg  \n",
            " extracting: train/Captura-de-pantalla-de-2020-09-17-04-11-53_png.rf.7f46aca962438088b42f2c1cd414ce40.jpg  \n",
            " extracting: train/Captura-de-pantalla-de-2020-09-18-13-18-55_png.rf.873db85b1464de18bef8f92f6893241d.jpg  \n",
            " extracting: train/Captura-de-pantalla-de-2020-09-18-13-19-21_png.rf.664118fbb8db85984e250c32a810d542.jpg  \n",
            " extracting: train/Captura-de-pantalla-de-2020-09-18-13-19-33_png.rf.54582bcab00e756b301ccce74dddfad0.jpg  \n",
            " extracting: train/Captura-de-pantalla-de-2020-09-18-13-19-37_png.rf.0b40d8bf5177a4ba47a2953c3b8ec1e5.jpg  \n",
            " extracting: train/Captura-de-pantalla-de-2020-09-18-13-19-40_png.rf.82e660205f95c5dfa5293ae1bd34f8d3.jpg  \n",
            " extracting: train/Captura-de-pantalla-de-2020-09-18-13-20-01_png.rf.6e31cac38be0db9ba96c074701876bed.jpg  \n",
            " extracting: train/Captura-de-pantalla-de-2020-09-18-13-20-03_png.rf.eeee488e4869066f169ac14b7fa8a31f.jpg  \n",
            " extracting: train/Captura-de-pantalla-de-2020-09-18-13-20-32_png.rf.951e0b61417999cda2ec2b7d53ad43ef.jpg  \n",
            " extracting: train/Captura-de-pantalla-de-2020-09-18-13-56-44_png.rf.b489934b3201df9e855ff143057cd9e4.jpg  \n",
            " extracting: train/Captura-de-pantalla-de-2020-09-18-13-57-25_png.rf.1b1d9ee9217cb71c419b89ae31163602.jpg  \n",
            " extracting: train/Captura-de-pantalla-de-2020-09-18-14-02-52_png.rf.ca3d06dcd6b47d79e218ebb467662832.jpg  \n",
            " extracting: train/Captura-de-pantalla-de-2020-09-18-14-02-56_png.rf.b9b774f589b077d1596ffbb8f9e6af87.jpg  \n",
            " extracting: train/Captura-de-pantalla-de-2020-09-18-14-07-21_png.rf.b49b8654ec34705e6cffc05486e0fbcc.jpg  \n",
            " extracting: train/Captura-de-pantalla-de-2020-09-18-14-24-19_png.rf.e659c4e545901625a591abfbf7a5b221.jpg  \n",
            " extracting: train/Captura-de-pantalla-de-2020-09-18-14-24-26_png.rf.77265b87c32926d5ab8bd2c6f1c1f605.jpg  \n",
            " extracting: train/Captura-de-pantalla-de-2020-09-18-14-24-43_png.rf.af320d495f0f53139735edb0040ad135.jpg  \n",
            " extracting: train/Captura-de-pantalla-de-2020-09-18-14-26-30_png.rf.f3e46e431a9f94b75dcf343b7f19f78e.jpg  \n",
            " extracting: train/Captura-de-pantalla-de-2020-09-18-14-26-34_png.rf.2b290948dd2baf98ab3e47ae2b65e4e9.jpg  \n",
            " extracting: train/Captura-de-pantalla-de-2020-09-18-14-29-37_png.rf.6b160040ff4e71c605a6df48193ccd67.jpg  \n",
            " extracting: train/Captura-de-pantalla-de-2020-09-18-14-29-54_png.rf.7226c9aeb8c556820fd3591f76dc243a.jpg  \n",
            " extracting: train/Captura-de-pantalla-de-2020-09-18-14-30-00_png.rf.f7933958dce8d2a5d5fb47b9c6d8e3e1.jpg  \n",
            " extracting: train/Captura-de-pantalla-de-2020-09-18-14-33-44_png.rf.e82fa2add427ecdbcea1cfbb39e61f7b.jpg  \n",
            " extracting: train/Captura-de-pantalla-de-2020-09-18-14-35-42_png.rf.82f64c2a46b574fdcb3ca1b1fbc28046.jpg  \n",
            " extracting: train/Captura-de-pantalla-de-2020-09-18-14-38-42_png.rf.84acad823bbc35f2b11b4154853b4e09.jpg  \n",
            " extracting: train/Captura-de-pantalla-de-2020-09-18-14-39-06_png.rf.50ff144e62a28eb5df35b989167dd3a7.jpg  \n",
            " extracting: train/Captura-de-pantalla-de-2020-09-18-14-39-09_png.rf.0ae53259b7b29d9dc25a9c8ae7979b7b.jpg  \n",
            " extracting: train/_annotations.coco.json  \n",
            "   creating: valid/\n",
            " extracting: valid/Captura-de-pantalla-de-2020-09-16-21-21-47_png.rf.e58c69ac473dfbbf08b8f2314a67a330.jpg  \n",
            " extracting: valid/Captura-de-pantalla-de-2020-09-16-21-30-50_png.rf.18f8df00a4b176550f17402aea05ae65.jpg  \n",
            " extracting: valid/Captura-de-pantalla-de-2020-09-16-21-35-28_png.rf.4924a0625a11f99b547f5826a85373f1.jpg  \n",
            " extracting: valid/Captura-de-pantalla-de-2020-09-16-21-35-34_png.rf.523eba51831e6e8c91272e75be22deb5.jpg  \n",
            " extracting: valid/Captura-de-pantalla-de-2020-09-16-21-35-44_png.rf.1e0127e3c2e356eb32fba55ac8ca217f.jpg  \n",
            " extracting: valid/Captura-de-pantalla-de-2020-09-16-21-48-06_png.rf.adcdc3d7dfe067b2112627713cfff536.jpg  \n",
            " extracting: valid/Captura-de-pantalla-de-2020-09-16-21-48-48_png.rf.01980446430f60b5df7fbf260fe02184.jpg  \n",
            " extracting: valid/Captura-de-pantalla-de-2020-09-16-21-49-22_png.rf.11b205e8815fbbd51d1c27b46f53e28a.jpg  \n",
            " extracting: valid/Captura-de-pantalla-de-2020-09-16-21-49-54_png.rf.fd9ea016ea8078be4fb467e9ffe950f8.jpg  \n",
            " extracting: valid/Captura-de-pantalla-de-2020-09-16-21-50-33_png.rf.ab623e548f2bb5770097e609003be194.jpg  \n",
            " extracting: valid/Captura-de-pantalla-de-2020-09-16-21-51-18_png.rf.53a6ac3635cef768f468a5fa84a386a8.jpg  \n",
            " extracting: valid/Captura-de-pantalla-de-2020-09-16-21-52-19_png.rf.4de8d7f55434669085bd0d130cf84b43.jpg  \n",
            " extracting: valid/Captura-de-pantalla-de-2020-09-16-21-53-28_png.rf.e42580c94cc054a993c8c179889d5d37.jpg  \n",
            " extracting: valid/Captura-de-pantalla-de-2020-09-16-21-53-58_png.rf.9a2ba3b4eefd526c2ad514f8155bb0d0.jpg  \n",
            " extracting: valid/Captura-de-pantalla-de-2020-09-16-21-59-30_png.rf.065848adf5f1330fb2066f6f588f2859.jpg  \n",
            " extracting: valid/Captura-de-pantalla-de-2020-09-16-22-01-14_png.rf.3090bcbe90bc96634cf7b4b68ce0cb4f.jpg  \n",
            " extracting: valid/Captura-de-pantalla-de-2020-09-16-22-01-18_png.rf.de69cd6458cccff262aeae0d5f153bf8.jpg  \n",
            " extracting: valid/Captura-de-pantalla-de-2020-09-16-22-01-34_png.rf.3fea77a4a773f00c39d310383581b50c.jpg  \n",
            " extracting: valid/Captura-de-pantalla-de-2020-09-16-22-01-44_png.rf.20f4068c3f80439229238ba39ceaf3e3.jpg  \n",
            " extracting: valid/Captura-de-pantalla-de-2020-09-16-22-02-51_png.rf.e05a61bf0e37860ea89b49892968ffa8.jpg  \n",
            " extracting: valid/Captura-de-pantalla-de-2020-09-16-22-04-14_png.rf.c0765500c529cda2d5848f8ae86fa984.jpg  \n",
            " extracting: valid/Captura-de-pantalla-de-2020-09-16-22-06-15_png.rf.24964bdc8c3e780fee8bf136e08f933b.jpg  \n",
            " extracting: valid/Captura-de-pantalla-de-2020-09-16-22-06-28_png.rf.26338ef7f477854d8929390346cf25d2.jpg  \n",
            " extracting: valid/Captura-de-pantalla-de-2020-09-16-22-06-40_png.rf.d5abc0882c10bbf3651dbcad3ed6e8b0.jpg  \n",
            " extracting: valid/Captura-de-pantalla-de-2020-09-16-22-07-00_png.rf.e5e7f683943bac52007260ebc94feb8c.jpg  \n",
            " extracting: valid/Captura-de-pantalla-de-2020-09-16-22-07-23_png.rf.7d4f87f7165ade82f8bc50058ed2e558.jpg  \n",
            " extracting: valid/Captura-de-pantalla-de-2020-09-16-22-08-30_png.rf.d50c23f5aaca1d2c8cb5e196e64f83e6.jpg  \n",
            " extracting: valid/Captura-de-pantalla-de-2020-09-16-22-17-05_png.rf.f15e4a220537f341f83dd0049dd56044.jpg  \n",
            " extracting: valid/Captura-de-pantalla-de-2020-09-16-22-19-34_png.rf.7188efff54ac9b24aa0febe4158686ef.jpg  \n",
            " extracting: valid/Captura-de-pantalla-de-2020-09-16-22-24-48_png.rf.a29f6f790a2e09cb7a801cb94b8a8685.jpg  \n",
            " extracting: valid/Captura-de-pantalla-de-2020-09-16-22-27-21_png.rf.85c6d7c0cd52614649dc0aff4a10b298.jpg  \n",
            " extracting: valid/Captura-de-pantalla-de-2020-09-16-22-30-43_png.rf.3a2f91e453388f91a5f27ba78c266c09.jpg  \n",
            " extracting: valid/Captura-de-pantalla-de-2020-09-16-22-31-14_png.rf.30f20bb41f98f18d19d8869c170b6349.jpg  \n",
            " extracting: valid/Captura-de-pantalla-de-2020-09-16-22-34-20_png.rf.00c981a2980dc8b6669a2aa9db2029c3.jpg  \n",
            " extracting: valid/Captura-de-pantalla-de-2020-09-16-22-36-52_png.rf.d2f0f411d5e32f4e6e7cb7bd226c4fc0.jpg  \n",
            " extracting: valid/Captura-de-pantalla-de-2020-09-16-22-37-30_png.rf.286a313afcc3e377c109128fd4822934.jpg  \n",
            " extracting: valid/Captura-de-pantalla-de-2020-09-16-22-45-38_png.rf.0001dbaa6b2c15790ec7b803d2d31cbf.jpg  \n",
            " extracting: valid/Captura-de-pantalla-de-2020-09-16-22-51-05_png.rf.015737f4d7095c302b894382eca910eb.jpg  \n",
            " extracting: valid/Captura-de-pantalla-de-2020-09-16-22-52-34_png.rf.5c8e0be3263444ea0657d37fadc3b1e1.jpg  \n",
            " extracting: valid/Captura-de-pantalla-de-2020-09-16-22-59-48_png.rf.9160445d0b7c6e80176f4dc020b48a6a.jpg  \n",
            " extracting: valid/Captura-de-pantalla-de-2020-09-16-22-59-56_png.rf.f68e3897add80974fa30be8661d89a1d.jpg  \n",
            " extracting: valid/Captura-de-pantalla-de-2020-09-16-23-00-40_png.rf.17ad6564e2e227dd02374e7e52ebf5bf.jpg  \n",
            " extracting: valid/Captura-de-pantalla-de-2020-09-16-23-05-21_png.rf.1295daadf035b1bc72a6cbfb07a83630.jpg  \n",
            " extracting: valid/Captura-de-pantalla-de-2020-09-16-23-08-39_png.rf.ba0556789c47f8ec82ee19e596a325e8.jpg  \n",
            " extracting: valid/Captura-de-pantalla-de-2020-09-16-23-11-29_png.rf.780947f87b70947f8c90f54b060702ac.jpg  \n",
            " extracting: valid/Captura-de-pantalla-de-2020-09-16-23-15-23_png.rf.70c1e2e9cfa2c96cf551714fac01c88b.jpg  \n",
            " extracting: valid/Captura-de-pantalla-de-2020-09-16-23-16-17_png.rf.4757a881e9117c4c3f7d965fa6b9c844.jpg  \n",
            " extracting: valid/Captura-de-pantalla-de-2020-09-17-00-32-22_png.rf.84b9ef8aab704c4cc630209406e5ccdc.jpg  \n",
            " extracting: valid/Captura-de-pantalla-de-2020-09-17-00-42-15_png.rf.6ba07c20bd764054d91805edf2e85df0.jpg  \n",
            " extracting: valid/Captura-de-pantalla-de-2020-09-17-00-52-02_png.rf.6e5f6c6bded2f5955759fd1d8b80548a.jpg  \n",
            " extracting: valid/Captura-de-pantalla-de-2020-09-17-00-54-09_png.rf.56dd103f65f60d5c58ea8eae825ccda8.jpg  \n",
            " extracting: valid/Captura-de-pantalla-de-2020-09-17-00-54-44_png.rf.0c32b5aee8b1ae4a654e6cc587aa0518.jpg  \n",
            " extracting: valid/Captura-de-pantalla-de-2020-09-17-00-54-49_png.rf.19db7b1e4dcc5d1108c92bb2dabe5c3c.jpg  \n",
            " extracting: valid/Captura-de-pantalla-de-2020-09-17-00-57-44_png.rf.d6772fbac0ed8bbaeb228805a37c72f3.jpg  \n",
            " extracting: valid/Captura-de-pantalla-de-2020-09-17-01-43-23_png.rf.f39ba1a898c2503ce468b044ecc669e0.jpg  \n",
            " extracting: valid/Captura-de-pantalla-de-2020-09-17-01-43-24_png.rf.7221edf45fada0b3aaaea9e2626ab60c.jpg  \n",
            " extracting: valid/Captura-de-pantalla-de-2020-09-17-02-31-51_png.rf.8e33911414a60c160f326ccfc705b837.jpg  \n",
            " extracting: valid/Captura-de-pantalla-de-2020-09-17-02-40-00_png.rf.0114a4c69c62d69990c5d14b02c84318.jpg  \n",
            " extracting: valid/Captura-de-pantalla-de-2020-09-17-02-43-11_png.rf.56ae7afc8e325fca30b3a235ed161c39.jpg  \n",
            " extracting: valid/Captura-de-pantalla-de-2020-09-17-02-52-46_png.rf.3e4bc0a5b92fc5c220df4ef80e2c07e2.jpg  \n",
            " extracting: valid/Captura-de-pantalla-de-2020-09-17-03-23-26_png.rf.14308c707df74be4a58512f74da8273e.jpg  \n",
            " extracting: valid/Captura-de-pantalla-de-2020-09-17-03-23-34_png.rf.98b53fc2b50faf45fabc18bcad204573.jpg  \n",
            " extracting: valid/Captura-de-pantalla-de-2020-09-17-03-24-35_png.rf.24bd829457cfcd7e97115a43207086a4.jpg  \n",
            " extracting: valid/Captura-de-pantalla-de-2020-09-17-03-27-48_png.rf.84139fd8c8a4f4cfa6fd8fb3f0712df6.jpg  \n",
            " extracting: valid/Captura-de-pantalla-de-2020-09-17-03-28-10_png.rf.6b2c9e8919927687c75ab5ccd4f81c0d.jpg  \n",
            " extracting: valid/Captura-de-pantalla-de-2020-09-17-03-50-23_png.rf.42c101609ec6203c644b55a25e52aa3d.jpg  \n",
            " extracting: valid/Captura-de-pantalla-de-2020-09-17-03-54-47_png.rf.d181c9e1c161a44f20865859ee679a07.jpg  \n",
            " extracting: valid/Captura-de-pantalla-de-2020-09-17-03-56-46_png.rf.91f48d5ff1e6622e07bdca410b95ca91.jpg  \n",
            " extracting: valid/Captura-de-pantalla-de-2020-09-17-03-59-37_png.rf.fc8349e1c014f6885f18607c13a18a66.jpg  \n",
            " extracting: valid/Captura-de-pantalla-de-2020-09-17-04-05-14_png.rf.038cdea2fe7589f6d986213c5aad8f89.jpg  \n",
            " extracting: valid/Captura-de-pantalla-de-2020-09-17-04-06-53_png.rf.8bba2782fb150c41a10f5983953c8757.jpg  \n",
            " extracting: valid/Captura-de-pantalla-de-2020-09-18-13-19-42_png.rf.6ca331b5285f831ad61c52385cb460ae.jpg  \n",
            " extracting: valid/Captura-de-pantalla-de-2020-09-18-14-02-54_png.rf.a7b522cc5c9a27dea5406d667eb7215f.jpg  \n",
            " extracting: valid/Captura-de-pantalla-de-2020-09-18-14-07-23_png.rf.782d15ea59e6fe183581e7d9b6278f21.jpg  \n",
            " extracting: valid/Captura-de-pantalla-de-2020-09-18-14-24-54_png.rf.06de3f86c91a4a44485f7ce0373c238b.jpg  \n",
            " extracting: valid/Captura-de-pantalla-de-2020-09-18-14-26-19_png.rf.eabc66666af09c9bec8a82d90d5cfc3b.jpg  \n",
            " extracting: valid/Captura-de-pantalla-de-2020-09-18-14-26-24_png.rf.df26cb0e257e258ed11acbd2ac9f153a.jpg  \n",
            " extracting: valid/Captura-de-pantalla-de-2020-09-18-14-34-55_png.rf.da9ce57799d113b262e05fe46870e4cf.jpg  \n",
            " extracting: valid/Captura-de-pantalla-de-2020-09-18-14-35-00_png.rf.336756e7d50168e7a71dc18fca382bb8.jpg  \n",
            " extracting: valid/Captura-de-pantalla-de-2020-09-18-14-36-49_png.rf.6ce0c41ecd49092b2eb3f17b44f1c083.jpg  \n",
            " extracting: valid/_annotations.coco.json  \n",
            "CPU times: user 24.8 ms, sys: 14.1 ms, total: 38.9 ms\n",
            "Wall time: 2.33 s\n"
          ]
        }
      ]
    },
    {
      "cell_type": "markdown",
      "metadata": {
        "id": "VCY3a2Zt78rI"
      },
      "source": [
        "##Estructura para los datos \n",
        "\n",
        "En las siguientes tres celdas, movemos los datos a una estructura que la biblioteca de detección de imágenes esperará"
      ]
    },
    {
      "cell_type": "code",
      "metadata": {
        "id": "qrsuPvMoVrAd"
      },
      "source": [
        "!mkdir War\n",
        "!mkdir War/annotations\n",
        "!mkdir War/Annotations\n",
        "!mkdir War/Images"
      ],
      "execution_count": null,
      "outputs": []
    },
    {
      "cell_type": "code",
      "metadata": {
        "id": "EMmAcRaDVxPj"
      },
      "source": [
        "%cp train/_annotations.coco.json War/annotations/instances_Images.json"
      ],
      "execution_count": null,
      "outputs": []
    },
    {
      "cell_type": "code",
      "metadata": {
        "id": "kx8EpALXVz0S"
      },
      "source": [
        "%cp train/*.jpg War/Images/"
      ],
      "execution_count": null,
      "outputs": []
    },
    {
      "cell_type": "markdown",
      "metadata": {
        "id": "JsXicfD78G6a"
      },
      "source": [
        "##Entrenamiento"
      ]
    },
    {
      "cell_type": "code",
      "metadata": {
        "id": "ter8mvlhV4L0"
      },
      "source": [
        "import os\n",
        "import sys\n",
        "sys.path.append(\"Monk_Object_Detection/4_efficientdet/lib/\");"
      ],
      "execution_count": null,
      "outputs": []
    },
    {
      "cell_type": "code",
      "metadata": {
        "id": "yuEjyrtIWEDW",
        "colab": {
          "base_uri": "https://localhost:8080/"
        },
        "outputId": "49ff55a5-fe87-43a1-a428-161ec095fb08"
      },
      "source": [
        "%%time\n",
        "from train_detector import Detector"
      ],
      "execution_count": null,
      "outputs": [
        {
          "output_type": "stream",
          "name": "stdout",
          "text": [
            "CPU times: user 1.1 s, sys: 774 ms, total: 1.87 s\n",
            "Wall time: 25.9 s\n"
          ]
        }
      ]
    },
    {
      "cell_type": "code",
      "metadata": {
        "id": "m2d2RuyXWLy2"
      },
      "source": [
        "gtf = Detector();"
      ],
      "execution_count": null,
      "outputs": []
    },
    {
      "cell_type": "code",
      "metadata": {
        "id": "DSHeJ1sfWXN2"
      },
      "source": [
        "#dirige el modelo hacia la estructura de archivos\n",
        "root_dir = \"./\";\n",
        "coco_dir = \"War\";\n",
        "img_dir = \"./\";\n",
        "set_dir = \"Images\";"
      ],
      "execution_count": null,
      "outputs": []
    },
    {
      "cell_type": "code",
      "metadata": {
        "id": "QtI9oXurWbuH",
        "colab": {
          "base_uri": "https://localhost:8080/"
        },
        "outputId": "1a613aad-81a1-4397-8a71-e93e1cc01bd9"
      },
      "source": [
        "%%time\n",
        "#Preparar los datos\n",
        "gtf.Train_Dataset(root_dir, coco_dir, img_dir, set_dir, batch_size=8, image_size=512, use_gpu=True)"
      ],
      "execution_count": null,
      "outputs": [
        {
          "output_type": "stream",
          "name": "stdout",
          "text": [
            "loading annotations into memory...\n",
            "Done (t=0.01s)\n",
            "creating index...\n",
            "index created!\n",
            "CPU times: user 11.6 ms, sys: 27.5 ms, total: 39 ms\n",
            "Wall time: 77.8 ms\n"
          ]
        },
        {
          "output_type": "stream",
          "name": "stderr",
          "text": [
            "/usr/local/lib/python3.7/dist-packages/torch/utils/data/dataloader.py:481: UserWarning: This DataLoader will create 3 worker processes in total. Our suggested max number of worker in current system is 2, which is smaller than what this DataLoader is going to create. Please be aware that excessive worker creation might get DataLoader running slow or even freeze, lower the worker number to avoid potential slowness/freeze if necessary.\n",
            "  cpuset_checked))\n"
          ]
        }
      ]
    },
    {
      "cell_type": "code",
      "metadata": {
        "id": "M882XN6xWfaA",
        "colab": {
          "base_uri": "https://localhost:8080/",
          "height": 140
        },
        "outputId": "e4f8fafd-a072-4184-e894-0cfd5bfae252"
      },
      "source": [
        "%%time\n",
        "gtf.Model();"
      ],
      "execution_count": null,
      "outputs": [
        {
          "output_type": "stream",
          "name": "stderr",
          "text": [
            "Downloading: \"https://github.com/lukemelas/EfficientNet-PyTorch/releases/download/1.0/efficientnet-b0-355c32eb.pth\" to /root/.cache/torch/hub/checkpoints/efficientnet-b0-355c32eb.pth\n"
          ]
        },
        {
          "output_type": "display_data",
          "data": {
            "text/html": [
              "<div style=\"display:flex;flex-direction:row;\"><span></span><progress style='margin:2px 4px;' max='21388428' value='21388428'></progress>100% 20.4M/20.4M [00:00&lt;00:00, 64.1MB/s]</div>"
            ],
            "text/plain": [
              "<tqdm._fake_ipywidgets.HBox object>"
            ]
          },
          "metadata": {}
        },
        {
          "output_type": "stream",
          "name": "stdout",
          "text": [
            "\n",
            "Loaded pretrained weights for efficientnet-b0\n",
            "CPU times: user 2.04 s, sys: 1.14 s, total: 3.18 s\n",
            "Wall time: 15.6 s\n"
          ]
        }
      ]
    },
    {
      "cell_type": "code",
      "metadata": {
        "id": "AajWJLG6Wnrv"
      },
      "source": [
        "gtf.Set_Hyperparams(lr=0.0001, val_interval=1, es_min_delta=0.0, es_patience=0)"
      ],
      "execution_count": null,
      "outputs": []
    },
    {
      "cell_type": "code",
      "metadata": {
        "id": "W_1rNOYcWqme",
        "colab": {
          "base_uri": "https://localhost:8080/",
          "height": 1000
        },
        "outputId": "7105e939-d845-4681-c9ac-fa9188346f0b"
      },
      "source": [
        "%%time\n",
        "gtf.Train(num_epochs=100, model_output_dir=\"trained/\");"
      ],
      "execution_count": null,
      "outputs": [
        {
          "data": {
            "text/html": [
              "<div style=\"display:flex;flex-direction:row;\"><span>Epoch: 1/100. Iteration: 35/35. Cls loss: 0.49808. Reg loss: 0.80262. Batch loss: 1.30070 Total loss: 1.32212</span><progress style='margin:2px 4px;description_width:initial;' max='35' value='35'></progress>100% 35/35 [02:35&lt;00:00,  4.40s/it]</div>"
            ],
            "text/plain": [
              "<tqdm._fake_ipywidgets.HBox object>"
            ]
          },
          "metadata": {},
          "output_type": "display_data"
        },
        {
          "metadata": {
            "tags": null
          },
          "name": "stderr",
          "output_type": "stream",
          "text": [
            "/usr/local/lib/python3.7/dist-packages/torch/utils/data/dataloader.py:481: UserWarning: This DataLoader will create 3 worker processes in total. Our suggested max number of worker in current system is 2, which is smaller than what this DataLoader is going to create. Please be aware that excessive worker creation might get DataLoader running slow or even freeze, lower the worker number to avoid potential slowness/freeze if necessary.\n",
            "  cpuset_checked))\n",
            "Monk_Object_Detection/4_efficientdet/lib/src/model.py:251: TracerWarning: Using len to get tensor shape might cause the trace to be incorrect. Recommended usage would be tensor.shape[0]. Passing a tensor of different shape might lead to errors or silently give incorrect results.\n",
            "  if len(inputs) == 2:\n",
            "Monk_Object_Detection/4_efficientdet/lib/src/utils.py:84: TracerWarning: Converting a tensor to a Python integer might cause the trace to be incorrect. We can't record the data flow of Python values, so this value will be treated as a constant in the future. This means that the trace might not generalize to other inputs!\n",
            "  image_shape = np.array(image_shape)\n",
            "Monk_Object_Detection/4_efficientdet/lib/src/utils.py:96: TracerWarning: torch.from_numpy results are registered as constants in the trace. You can safely ignore this warning if you use this function to create tensors out of constant variables that would be the same every time you call this function. In any other case, this might cause the trace to be incorrect.\n",
            "  anchors = torch.from_numpy(all_anchors.astype(np.float32))\n",
            "Monk_Object_Detection/4_efficientdet/lib/src/model.py:282: TracerWarning: Converting a tensor to a Python boolean might cause the trace to be incorrect. We can't record the data flow of Python values, so this value will be treated as a constant in the future. This means that the trace might not generalize to other inputs!\n",
            "  if scores_over_thresh.sum() == 0:\n"
          ]
        },
        {
          "data": {
            "text/html": [
              "<div style=\"display:flex;flex-direction:row;\"><span>Epoch: 2/100. Iteration: 35/35. Cls loss: 0.60519. Reg loss: 0.67009. Batch loss: 1.27527 Total loss: 1.26162</span><progress style='margin:2px 4px;description_width:initial;' max='35' value='35'></progress>100% 35/35 [02:35&lt;00:00,  4.40s/it]</div>"
            ],
            "text/plain": [
              "<tqdm._fake_ipywidgets.HBox object>"
            ]
          },
          "metadata": {},
          "output_type": "display_data"
        },
        {
          "data": {
            "text/html": [
              "<div style=\"display:flex;flex-direction:row;\"><span>Epoch: 3/100. Iteration: 35/35. Cls loss: 0.38725. Reg loss: 0.62706. Batch loss: 1.01431 Total loss: 1.21106</span><progress style='margin:2px 4px;description_width:initial;' max='35' value='35'></progress>100% 35/35 [02:34&lt;00:00,  4.40s/it]</div>"
            ],
            "text/plain": [
              "<tqdm._fake_ipywidgets.HBox object>"
            ]
          },
          "metadata": {},
          "output_type": "display_data"
        },
        {
          "data": {
            "text/html": [
              "<div style=\"display:flex;flex-direction:row;\"><span>Epoch: 4/100. Iteration: 35/35. Cls loss: 0.45669. Reg loss: 0.73777. Batch loss: 1.19446 Total loss: 1.14212</span><progress style='margin:2px 4px;description_width:initial;' max='35' value='35'></progress>100% 35/35 [02:34&lt;00:00,  4.41s/it]</div>"
            ],
            "text/plain": [
              "<tqdm._fake_ipywidgets.HBox object>"
            ]
          },
          "metadata": {},
          "output_type": "display_data"
        },
        {
          "data": {
            "text/html": [
              "<div style=\"display:flex;flex-direction:row;\"><span>Epoch: 5/100. Iteration: 35/35. Cls loss: 0.42191. Reg loss: 0.60798. Batch loss: 1.02989 Total loss: 1.09799</span><progress style='margin:2px 4px;description_width:initial;' max='35' value='35'></progress>100% 35/35 [02:35&lt;00:00,  4.39s/it]</div>"
            ],
            "text/plain": [
              "<tqdm._fake_ipywidgets.HBox object>"
            ]
          },
          "metadata": {},
          "output_type": "display_data"
        },
        {
          "data": {
            "text/html": [
              "<div style=\"display:flex;flex-direction:row;\"><span>Epoch: 6/100. Iteration: 35/35. Cls loss: 0.34493. Reg loss: 0.53971. Batch loss: 0.88464 Total loss: 1.04116</span><progress style='margin:2px 4px;description_width:initial;' max='35' value='35'></progress>100% 35/35 [02:34&lt;00:00,  4.39s/it]</div>"
            ],
            "text/plain": [
              "<tqdm._fake_ipywidgets.HBox object>"
            ]
          },
          "metadata": {},
          "output_type": "display_data"
        },
        {
          "data": {
            "text/html": [
              "<div style=\"display:flex;flex-direction:row;\"><span>Epoch: 7/100. Iteration: 35/35. Cls loss: 0.33685. Reg loss: 0.59466. Batch loss: 0.93151 Total loss: 0.99456</span><progress style='margin:2px 4px;description_width:initial;' max='35' value='35'></progress>100% 35/35 [02:34&lt;00:00,  4.40s/it]</div>"
            ],
            "text/plain": [
              "<tqdm._fake_ipywidgets.HBox object>"
            ]
          },
          "metadata": {},
          "output_type": "display_data"
        },
        {
          "data": {
            "text/html": [
              "<div style=\"display:flex;flex-direction:row;\"><span>Epoch: 8/100. Iteration: 35/35. Cls loss: 0.30169. Reg loss: 0.47692. Batch loss: 0.77860 Total loss: 0.95669</span><progress style='margin:2px 4px;description_width:initial;' max='35' value='35'></progress>100% 35/35 [02:34&lt;00:00,  4.41s/it]</div>"
            ],
            "text/plain": [
              "<tqdm._fake_ipywidgets.HBox object>"
            ]
          },
          "metadata": {},
          "output_type": "display_data"
        },
        {
          "data": {
            "text/html": [
              "<div style=\"display:flex;flex-direction:row;\"><span>Epoch: 9/100. Iteration: 35/35. Cls loss: 0.35797. Reg loss: 0.52182. Batch loss: 0.87979 Total loss: 0.91006</span><progress style='margin:2px 4px;description_width:initial;' max='35' value='35'></progress>100% 35/35 [02:34&lt;00:00,  4.39s/it]</div>"
            ],
            "text/plain": [
              "<tqdm._fake_ipywidgets.HBox object>"
            ]
          },
          "metadata": {},
          "output_type": "display_data"
        },
        {
          "data": {
            "text/html": [
              "<div style=\"display:flex;flex-direction:row;\"><span>Epoch: 10/100. Iteration: 35/35. Cls loss: 0.21884. Reg loss: 0.44727. Batch loss: 0.66612 Total loss: 0.90590</span><progress style='margin:2px 4px;description_width:initial;' max='35' value='35'></progress>100% 35/35 [02:35&lt;00:00,  4.41s/it]</div>"
            ],
            "text/plain": [
              "<tqdm._fake_ipywidgets.HBox object>"
            ]
          },
          "metadata": {},
          "output_type": "display_data"
        },
        {
          "data": {
            "text/html": [
              "<div style=\"display:flex;flex-direction:row;\"><span>Epoch: 11/100. Iteration: 35/35. Cls loss: 0.39567. Reg loss: 0.60456. Batch loss: 1.00024 Total loss: 0.87451</span><progress style='margin:2px 4px;description_width:initial;' max='35' value='35'></progress>100% 35/35 [02:35&lt;00:00,  4.40s/it]</div>"
            ],
            "text/plain": [
              "<tqdm._fake_ipywidgets.HBox object>"
            ]
          },
          "metadata": {},
          "output_type": "display_data"
        },
        {
          "data": {
            "text/html": [
              "<div style=\"display:flex;flex-direction:row;\"><span>Epoch: 12/100. Iteration: 35/35. Cls loss: 0.28437. Reg loss: 0.63020. Batch loss: 0.91457 Total loss: 0.82784</span><progress style='margin:2px 4px;description_width:initial;' max='35' value='35'></progress>100% 35/35 [02:34&lt;00:00,  4.41s/it]</div>"
            ],
            "text/plain": [
              "<tqdm._fake_ipywidgets.HBox object>"
            ]
          },
          "metadata": {},
          "output_type": "display_data"
        },
        {
          "data": {
            "text/html": [
              "<div style=\"display:flex;flex-direction:row;\"><span>Epoch: 13/100. Iteration: 35/35. Cls loss: 0.41012. Reg loss: 0.41846. Batch loss: 0.82858 Total loss: 0.79795</span><progress style='margin:2px 4px;description_width:initial;' max='35' value='35'></progress>100% 35/35 [02:35&lt;00:00,  4.38s/it]</div>"
            ],
            "text/plain": [
              "<tqdm._fake_ipywidgets.HBox object>"
            ]
          },
          "metadata": {},
          "output_type": "display_data"
        },
        {
          "data": {
            "text/html": [
              "<div style=\"display:flex;flex-direction:row;\"><span>Epoch: 14/100. Iteration: 35/35. Cls loss: 0.29698. Reg loss: 0.36693. Batch loss: 0.66391 Total loss: 0.78889</span><progress style='margin:2px 4px;description_width:initial;' max='35' value='35'></progress>100% 35/35 [02:35&lt;00:00,  4.40s/it]</div>"
            ],
            "text/plain": [
              "<tqdm._fake_ipywidgets.HBox object>"
            ]
          },
          "metadata": {},
          "output_type": "display_data"
        },
        {
          "data": {
            "text/html": [
              "<div style=\"display:flex;flex-direction:row;\"><span>Epoch: 15/100. Iteration: 35/35. Cls loss: 0.27013. Reg loss: 0.57505. Batch loss: 0.84518 Total loss: 0.74766</span><progress style='margin:2px 4px;description_width:initial;' max='35' value='35'></progress>100% 35/35 [02:35&lt;00:00,  4.40s/it]</div>"
            ],
            "text/plain": [
              "<tqdm._fake_ipywidgets.HBox object>"
            ]
          },
          "metadata": {},
          "output_type": "display_data"
        },
        {
          "data": {
            "text/html": [
              "<div style=\"display:flex;flex-direction:row;\"><span>Epoch: 16/100. Iteration: 35/35. Cls loss: 0.17424. Reg loss: 0.35124. Batch loss: 0.52548 Total loss: 0.73911</span><progress style='margin:2px 4px;description_width:initial;' max='35' value='35'></progress>100% 35/35 [02:35&lt;00:00,  4.42s/it]</div>"
            ],
            "text/plain": [
              "<tqdm._fake_ipywidgets.HBox object>"
            ]
          },
          "metadata": {},
          "output_type": "display_data"
        },
        {
          "data": {
            "text/html": [
              "<div style=\"display:flex;flex-direction:row;\"><span>Epoch: 17/100. Iteration: 35/35. Cls loss: 0.19090. Reg loss: 0.41030. Batch loss: 0.60120 Total loss: 0.71378</span><progress style='margin:2px 4px;description_width:initial;' max='35' value='35'></progress>100% 35/35 [02:35&lt;00:00,  4.40s/it]</div>"
            ],
            "text/plain": [
              "<tqdm._fake_ipywidgets.HBox object>"
            ]
          },
          "metadata": {},
          "output_type": "display_data"
        },
        {
          "data": {
            "text/html": [
              "<div style=\"display:flex;flex-direction:row;\"><span>Epoch: 18/100. Iteration: 35/35. Cls loss: 0.27664. Reg loss: 0.47412. Batch loss: 0.75076 Total loss: 0.69000</span><progress style='margin:2px 4px;description_width:initial;' max='35' value='35'></progress>100% 35/35 [02:35&lt;00:00,  4.41s/it]</div>"
            ],
            "text/plain": [
              "<tqdm._fake_ipywidgets.HBox object>"
            ]
          },
          "metadata": {},
          "output_type": "display_data"
        },
        {
          "data": {
            "text/html": [
              "<div style=\"display:flex;flex-direction:row;\"><span>Epoch: 19/100. Iteration: 35/35. Cls loss: 0.17879. Reg loss: 0.39163. Batch loss: 0.57042 Total loss: 0.65711</span><progress style='margin:2px 4px;description_width:initial;' max='35' value='35'></progress>100% 35/35 [02:35&lt;00:00,  4.40s/it]</div>"
            ],
            "text/plain": [
              "<tqdm._fake_ipywidgets.HBox object>"
            ]
          },
          "metadata": {},
          "output_type": "display_data"
        },
        {
          "data": {
            "text/html": [
              "<div style=\"display:flex;flex-direction:row;\"><span>Epoch: 20/100. Iteration: 35/35. Cls loss: 0.19577. Reg loss: 0.44780. Batch loss: 0.64357 Total loss: 0.64599</span><progress style='margin:2px 4px;description_width:initial;' max='35' value='35'></progress>100% 35/35 [02:35&lt;00:00,  4.42s/it]</div>"
            ],
            "text/plain": [
              "<tqdm._fake_ipywidgets.HBox object>"
            ]
          },
          "metadata": {},
          "output_type": "display_data"
        },
        {
          "data": {
            "text/html": [
              "<div style=\"display:flex;flex-direction:row;\"><span>Epoch: 21/100. Iteration: 35/35. Cls loss: 0.22130. Reg loss: 0.54441. Batch loss: 0.76571 Total loss: 0.63192</span><progress style='margin:2px 4px;description_width:initial;' max='35' value='35'></progress>100% 35/35 [02:35&lt;00:00,  4.39s/it]</div>"
            ],
            "text/plain": [
              "<tqdm._fake_ipywidgets.HBox object>"
            ]
          },
          "metadata": {},
          "output_type": "display_data"
        },
        {
          "data": {
            "text/html": [
              "<div style=\"display:flex;flex-direction:row;\"><span>Epoch: 22/100. Iteration: 35/35. Cls loss: 0.13404. Reg loss: 0.34140. Batch loss: 0.47544 Total loss: 0.62725</span><progress style='margin:2px 4px;description_width:initial;' max='35' value='35'></progress>100% 35/35 [02:35&lt;00:00,  4.39s/it]</div>"
            ],
            "text/plain": [
              "<tqdm._fake_ipywidgets.HBox object>"
            ]
          },
          "metadata": {},
          "output_type": "display_data"
        },
        {
          "data": {
            "text/html": [
              "<div style=\"display:flex;flex-direction:row;\"><span>Epoch: 23/100. Iteration: 35/35. Cls loss: 0.15791. Reg loss: 0.37197. Batch loss: 0.52988 Total loss: 0.58677</span><progress style='margin:2px 4px;description_width:initial;' max='35' value='35'></progress>100% 35/35 [02:34&lt;00:00,  4.40s/it]</div>"
            ],
            "text/plain": [
              "<tqdm._fake_ipywidgets.HBox object>"
            ]
          },
          "metadata": {},
          "output_type": "display_data"
        },
        {
          "data": {
            "text/html": [
              "<div style=\"display:flex;flex-direction:row;\"><span>Epoch: 24/100. Iteration: 35/35. Cls loss: 0.17084. Reg loss: 0.40834. Batch loss: 0.57918 Total loss: 0.58353</span><progress style='margin:2px 4px;description_width:initial;' max='35' value='35'></progress>100% 35/35 [02:35&lt;00:00,  4.42s/it]</div>"
            ],
            "text/plain": [
              "<tqdm._fake_ipywidgets.HBox object>"
            ]
          },
          "metadata": {},
          "output_type": "display_data"
        },
        {
          "data": {
            "text/html": [
              "<div style=\"display:flex;flex-direction:row;\"><span>Epoch: 25/100. Iteration: 35/35. Cls loss: 0.12935. Reg loss: 0.33295. Batch loss: 0.46231 Total loss: 0.56492</span><progress style='margin:2px 4px;description_width:initial;' max='35' value='35'></progress>100% 35/35 [02:35&lt;00:00,  4.41s/it]</div>"
            ],
            "text/plain": [
              "<tqdm._fake_ipywidgets.HBox object>"
            ]
          },
          "metadata": {},
          "output_type": "display_data"
        },
        {
          "data": {
            "text/html": [
              "<div style=\"display:flex;flex-direction:row;\"><span>Epoch: 26/100. Iteration: 35/35. Cls loss: 0.27872. Reg loss: 0.45193. Batch loss: 0.73066 Total loss: 0.54969</span><progress style='margin:2px 4px;description_width:initial;' max='35' value='35'></progress>100% 35/35 [02:35&lt;00:00,  4.41s/it]</div>"
            ],
            "text/plain": [
              "<tqdm._fake_ipywidgets.HBox object>"
            ]
          },
          "metadata": {},
          "output_type": "display_data"
        },
        {
          "data": {
            "text/html": [
              "<div style=\"display:flex;flex-direction:row;\"><span>Epoch: 27/100. Iteration: 35/35. Cls loss: 0.20342. Reg loss: 0.42003. Batch loss: 0.62345 Total loss: 0.54676</span><progress style='margin:2px 4px;description_width:initial;' max='35' value='35'></progress>100% 35/35 [02:35&lt;00:00,  4.41s/it]</div>"
            ],
            "text/plain": [
              "<tqdm._fake_ipywidgets.HBox object>"
            ]
          },
          "metadata": {},
          "output_type": "display_data"
        },
        {
          "data": {
            "text/html": [
              "<div style=\"display:flex;flex-direction:row;\"><span>Epoch: 28/100. Iteration: 35/35. Cls loss: 0.14135. Reg loss: 0.35260. Batch loss: 0.49395 Total loss: 0.52792</span><progress style='margin:2px 4px;description_width:initial;' max='35' value='35'></progress>100% 35/35 [02:35&lt;00:00,  4.40s/it]</div>"
            ],
            "text/plain": [
              "<tqdm._fake_ipywidgets.HBox object>"
            ]
          },
          "metadata": {},
          "output_type": "display_data"
        },
        {
          "data": {
            "text/html": [
              "<div style=\"display:flex;flex-direction:row;\"><span>Epoch: 29/100. Iteration: 35/35. Cls loss: 0.12056. Reg loss: 0.29730. Batch loss: 0.41786 Total loss: 0.52655</span><progress style='margin:2px 4px;description_width:initial;' max='35' value='35'></progress>100% 35/35 [02:35&lt;00:00,  4.41s/it]</div>"
            ],
            "text/plain": [
              "<tqdm._fake_ipywidgets.HBox object>"
            ]
          },
          "metadata": {},
          "output_type": "display_data"
        },
        {
          "data": {
            "text/html": [
              "<div style=\"display:flex;flex-direction:row;\"><span>Epoch: 30/100. Iteration: 35/35. Cls loss: 0.21666. Reg loss: 0.42790. Batch loss: 0.64457 Total loss: 0.51212</span><progress style='margin:2px 4px;description_width:initial;' max='35' value='35'></progress>100% 35/35 [02:35&lt;00:00,  4.41s/it]</div>"
            ],
            "text/plain": [
              "<tqdm._fake_ipywidgets.HBox object>"
            ]
          },
          "metadata": {},
          "output_type": "display_data"
        },
        {
          "data": {
            "text/html": [
              "<div style=\"display:flex;flex-direction:row;\"><span>Epoch: 31/100. Iteration: 35/35. Cls loss: 0.21057. Reg loss: 0.47331. Batch loss: 0.68388 Total loss: 0.49960</span><progress style='margin:2px 4px;description_width:initial;' max='35' value='35'></progress>100% 35/35 [02:35&lt;00:00,  4.40s/it]</div>"
            ],
            "text/plain": [
              "<tqdm._fake_ipywidgets.HBox object>"
            ]
          },
          "metadata": {},
          "output_type": "display_data"
        },
        {
          "data": {
            "text/html": [
              "<div style=\"display:flex;flex-direction:row;\"><span>Epoch: 32/100. Iteration: 35/35. Cls loss: 0.15547. Reg loss: 0.36614. Batch loss: 0.52162 Total loss: 0.48756</span><progress style='margin:2px 4px;description_width:initial;' max='35' value='35'></progress>100% 35/35 [02:35&lt;00:00,  4.41s/it]</div>"
            ],
            "text/plain": [
              "<tqdm._fake_ipywidgets.HBox object>"
            ]
          },
          "metadata": {},
          "output_type": "display_data"
        },
        {
          "data": {
            "text/html": [
              "<div style=\"display:flex;flex-direction:row;\"><span>Epoch: 33/100. Iteration: 35/35. Cls loss: 0.11839. Reg loss: 0.32516. Batch loss: 0.44354 Total loss: 0.47842</span><progress style='margin:2px 4px;description_width:initial;' max='35' value='35'></progress>100% 35/35 [02:35&lt;00:00,  4.41s/it]</div>"
            ],
            "text/plain": [
              "<tqdm._fake_ipywidgets.HBox object>"
            ]
          },
          "metadata": {},
          "output_type": "display_data"
        },
        {
          "data": {
            "text/html": [
              "<div style=\"display:flex;flex-direction:row;\"><span>Epoch: 34/100. Iteration: 35/35. Cls loss: 0.14464. Reg loss: 0.29828. Batch loss: 0.44292 Total loss: 0.47032</span><progress style='margin:2px 4px;description_width:initial;' max='35' value='35'></progress>100% 35/35 [02:35&lt;00:00,  4.39s/it]</div>"
            ],
            "text/plain": [
              "<tqdm._fake_ipywidgets.HBox object>"
            ]
          },
          "metadata": {},
          "output_type": "display_data"
        },
        {
          "data": {
            "text/html": [
              "<div style=\"display:flex;flex-direction:row;\"><span>Epoch: 35/100. Iteration: 35/35. Cls loss: 0.10654. Reg loss: 0.33973. Batch loss: 0.44627 Total loss: 0.46661</span><progress style='margin:2px 4px;description_width:initial;' max='35' value='35'></progress>100% 35/35 [02:35&lt;00:00,  4.40s/it]</div>"
            ],
            "text/plain": [
              "<tqdm._fake_ipywidgets.HBox object>"
            ]
          },
          "metadata": {},
          "output_type": "display_data"
        },
        {
          "data": {
            "text/html": [
              "<div style=\"display:flex;flex-direction:row;\"><span>Epoch: 36/100. Iteration: 35/35. Cls loss: 0.10722. Reg loss: 0.31181. Batch loss: 0.41903 Total loss: 0.44825</span><progress style='margin:2px 4px;description_width:initial;' max='35' value='35'></progress>100% 35/35 [02:35&lt;00:00,  4.40s/it]</div>"
            ],
            "text/plain": [
              "<tqdm._fake_ipywidgets.HBox object>"
            ]
          },
          "metadata": {},
          "output_type": "display_data"
        },
        {
          "data": {
            "text/html": [
              "<div style=\"display:flex;flex-direction:row;\"><span>Epoch: 37/100. Iteration: 35/35. Cls loss: 0.12373. Reg loss: 0.33600. Batch loss: 0.45973 Total loss: 0.44702</span><progress style='margin:2px 4px;description_width:initial;' max='35' value='35'></progress>100% 35/35 [02:35&lt;00:00,  4.39s/it]</div>"
            ],
            "text/plain": [
              "<tqdm._fake_ipywidgets.HBox object>"
            ]
          },
          "metadata": {},
          "output_type": "display_data"
        },
        {
          "data": {
            "text/html": [
              "<div style=\"display:flex;flex-direction:row;\"><span>Epoch: 38/100. Iteration: 35/35. Cls loss: 0.13647. Reg loss: 0.33392. Batch loss: 0.47039 Total loss: 0.44302</span><progress style='margin:2px 4px;description_width:initial;' max='35' value='35'></progress>100% 35/35 [02:34&lt;00:00,  4.39s/it]</div>"
            ],
            "text/plain": [
              "<tqdm._fake_ipywidgets.HBox object>"
            ]
          },
          "metadata": {},
          "output_type": "display_data"
        },
        {
          "data": {
            "text/html": [
              "<div style=\"display:flex;flex-direction:row;\"><span>Epoch: 39/100. Iteration: 35/35. Cls loss: 0.07246. Reg loss: 0.24572. Batch loss: 0.31818 Total loss: 0.41850</span><progress style='margin:2px 4px;description_width:initial;' max='35' value='35'></progress>100% 35/35 [02:35&lt;00:00,  4.41s/it]</div>"
            ],
            "text/plain": [
              "<tqdm._fake_ipywidgets.HBox object>"
            ]
          },
          "metadata": {},
          "output_type": "display_data"
        },
        {
          "data": {
            "text/html": [
              "<div style=\"display:flex;flex-direction:row;\"><span>Epoch: 40/100. Iteration: 35/35. Cls loss: 0.07669. Reg loss: 0.22428. Batch loss: 0.30097 Total loss: 0.43003</span><progress style='margin:2px 4px;description_width:initial;' max='35' value='35'></progress>100% 35/35 [02:35&lt;00:00,  4.42s/it]</div>"
            ],
            "text/plain": [
              "<tqdm._fake_ipywidgets.HBox object>"
            ]
          },
          "metadata": {},
          "output_type": "display_data"
        },
        {
          "data": {
            "text/html": [
              "<div style=\"display:flex;flex-direction:row;\"><span>Epoch: 41/100. Iteration: 35/35. Cls loss: 0.08129. Reg loss: 0.25998. Batch loss: 0.34127 Total loss: 0.40183</span><progress style='margin:2px 4px;description_width:initial;' max='35' value='35'></progress>100% 35/35 [02:35&lt;00:00,  4.43s/it]</div>"
            ],
            "text/plain": [
              "<tqdm._fake_ipywidgets.HBox object>"
            ]
          },
          "metadata": {},
          "output_type": "display_data"
        },
        {
          "data": {
            "text/html": [
              "<div style=\"display:flex;flex-direction:row;\"><span>Epoch: 42/100. Iteration: 35/35. Cls loss: 0.25043. Reg loss: 0.41756. Batch loss: 0.66799 Total loss: 0.40808</span><progress style='margin:2px 4px;description_width:initial;' max='35' value='35'></progress>100% 35/35 [02:35&lt;00:00,  4.43s/it]</div>"
            ],
            "text/plain": [
              "<tqdm._fake_ipywidgets.HBox object>"
            ]
          },
          "metadata": {},
          "output_type": "display_data"
        },
        {
          "data": {
            "text/html": [
              "<div style=\"display:flex;flex-direction:row;\"><span>Epoch: 43/100. Iteration: 35/35. Cls loss: 0.16987. Reg loss: 0.35144. Batch loss: 0.52131 Total loss: 0.40395</span><progress style='margin:2px 4px;description_width:initial;' max='35' value='35'></progress>100% 35/35 [02:35&lt;00:00,  4.41s/it]</div>"
            ],
            "text/plain": [
              "<tqdm._fake_ipywidgets.HBox object>"
            ]
          },
          "metadata": {},
          "output_type": "display_data"
        },
        {
          "data": {
            "text/html": [
              "<div style=\"display:flex;flex-direction:row;\"><span>Epoch: 44/100. Iteration: 35/35. Cls loss: 0.11644. Reg loss: 0.32163. Batch loss: 0.43807 Total loss: 0.40237</span><progress style='margin:2px 4px;description_width:initial;' max='35' value='35'></progress>100% 35/35 [02:36&lt;00:00,  4.45s/it]</div>"
            ],
            "text/plain": [
              "<tqdm._fake_ipywidgets.HBox object>"
            ]
          },
          "metadata": {},
          "output_type": "display_data"
        },
        {
          "data": {
            "text/html": [
              "<div style=\"display:flex;flex-direction:row;\"><span>Epoch: 45/100. Iteration: 35/35. Cls loss: 0.07851. Reg loss: 0.24237. Batch loss: 0.32087 Total loss: 0.38028</span><progress style='margin:2px 4px;description_width:initial;' max='35' value='35'></progress>100% 35/35 [02:35&lt;00:00,  4.40s/it]</div>"
            ],
            "text/plain": [
              "<tqdm._fake_ipywidgets.HBox object>"
            ]
          },
          "metadata": {},
          "output_type": "display_data"
        },
        {
          "data": {
            "text/html": [
              "<div style=\"display:flex;flex-direction:row;\"><span>Epoch: 46/100. Iteration: 35/35. Cls loss: 0.14093. Reg loss: 0.32032. Batch loss: 0.46125 Total loss: 0.37927</span><progress style='margin:2px 4px;description_width:initial;' max='35' value='35'></progress>100% 35/35 [02:35&lt;00:00,  4.42s/it]</div>"
            ],
            "text/plain": [
              "<tqdm._fake_ipywidgets.HBox object>"
            ]
          },
          "metadata": {},
          "output_type": "display_data"
        },
        {
          "data": {
            "text/html": [
              "<div style=\"display:flex;flex-direction:row;\"><span>Epoch: 47/100. Iteration: 35/35. Cls loss: 0.05557. Reg loss: 0.23197. Batch loss: 0.28754 Total loss: 0.37559</span><progress style='margin:2px 4px;description_width:initial;' max='35' value='35'></progress>100% 35/35 [02:36&lt;00:00,  4.41s/it]</div>"
            ],
            "text/plain": [
              "<tqdm._fake_ipywidgets.HBox object>"
            ]
          },
          "metadata": {},
          "output_type": "display_data"
        },
        {
          "data": {
            "text/html": [
              "<div style=\"display:flex;flex-direction:row;\"><span>Epoch: 48/100. Iteration: 35/35. Cls loss: 0.06265. Reg loss: 0.23581. Batch loss: 0.29846 Total loss: 0.38144</span><progress style='margin:2px 4px;description_width:initial;' max='35' value='35'></progress>100% 35/35 [02:35&lt;00:00,  4.42s/it]</div>"
            ],
            "text/plain": [
              "<tqdm._fake_ipywidgets.HBox object>"
            ]
          },
          "metadata": {},
          "output_type": "display_data"
        },
        {
          "data": {
            "text/html": [
              "<div style=\"display:flex;flex-direction:row;\"><span>Epoch: 49/100. Iteration: 35/35. Cls loss: 0.09407. Reg loss: 0.32418. Batch loss: 0.41825 Total loss: 0.37066</span><progress style='margin:2px 4px;description_width:initial;' max='35' value='35'></progress>100% 35/35 [02:36&lt;00:00,  4.42s/it]</div>"
            ],
            "text/plain": [
              "<tqdm._fake_ipywidgets.HBox object>"
            ]
          },
          "metadata": {},
          "output_type": "display_data"
        },
        {
          "data": {
            "text/html": [
              "<div style=\"display:flex;flex-direction:row;\"><span>Epoch: 50/100. Iteration: 35/35. Cls loss: 0.21887. Reg loss: 0.29217. Batch loss: 0.51105 Total loss: 0.36345</span><progress style='margin:2px 4px;description_width:initial;' max='35' value='35'></progress>100% 35/35 [02:36&lt;00:00,  4.45s/it]</div>"
            ],
            "text/plain": [
              "<tqdm._fake_ipywidgets.HBox object>"
            ]
          },
          "metadata": {},
          "output_type": "display_data"
        },
        {
          "data": {
            "text/html": [
              "<div style=\"display:flex;flex-direction:row;\"><span>Epoch: 51/100. Iteration: 35/35. Cls loss: 0.07499. Reg loss: 0.24709. Batch loss: 0.32208 Total loss: 0.34644</span><progress style='margin:2px 4px;description_width:initial;' max='35' value='35'></progress>100% 35/35 [02:35&lt;00:00,  4.43s/it]</div>"
            ],
            "text/plain": [
              "<tqdm._fake_ipywidgets.HBox object>"
            ]
          },
          "metadata": {},
          "output_type": "display_data"
        },
        {
          "data": {
            "text/html": [
              "<div style=\"display:flex;flex-direction:row;\"><span>Epoch: 52/100. Iteration: 35/35. Cls loss: 0.06881. Reg loss: 0.24603. Batch loss: 0.31484 Total loss: 0.37028</span><progress style='margin:2px 4px;description_width:initial;' max='35' value='35'></progress>100% 35/35 [02:36&lt;00:00,  4.44s/it]</div>"
            ],
            "text/plain": [
              "<tqdm._fake_ipywidgets.HBox object>"
            ]
          },
          "metadata": {},
          "output_type": "display_data"
        },
        {
          "data": {
            "text/html": [
              "<div style=\"display:flex;flex-direction:row;\"><span>Epoch: 53/100. Iteration: 35/35. Cls loss: 0.09307. Reg loss: 0.27679. Batch loss: 0.36986 Total loss: 0.34151</span><progress style='margin:2px 4px;description_width:initial;' max='35' value='35'></progress>100% 35/35 [02:36&lt;00:00,  4.42s/it]</div>"
            ],
            "text/plain": [
              "<tqdm._fake_ipywidgets.HBox object>"
            ]
          },
          "metadata": {},
          "output_type": "display_data"
        },
        {
          "data": {
            "text/html": [
              "<div style=\"display:flex;flex-direction:row;\"><span>Epoch: 54/100. Iteration: 35/35. Cls loss: 0.07509. Reg loss: 0.24596. Batch loss: 0.32106 Total loss: 0.33195</span><progress style='margin:2px 4px;description_width:initial;' max='35' value='35'></progress>100% 35/35 [02:36&lt;00:00,  4.44s/it]</div>"
            ],
            "text/plain": [
              "<tqdm._fake_ipywidgets.HBox object>"
            ]
          },
          "metadata": {},
          "output_type": "display_data"
        },
        {
          "data": {
            "text/html": [
              "<div style=\"display:flex;flex-direction:row;\"><span>Epoch: 55/100. Iteration: 35/35. Cls loss: 0.08201. Reg loss: 0.22871. Batch loss: 0.31073 Total loss: 0.33922</span><progress style='margin:2px 4px;description_width:initial;' max='35' value='35'></progress>100% 35/35 [02:36&lt;00:00,  4.44s/it]</div>"
            ],
            "text/plain": [
              "<tqdm._fake_ipywidgets.HBox object>"
            ]
          },
          "metadata": {},
          "output_type": "display_data"
        },
        {
          "data": {
            "text/html": [
              "<div style=\"display:flex;flex-direction:row;\"><span>Epoch: 56/100. Iteration: 35/35. Cls loss: 0.12516. Reg loss: 0.23869. Batch loss: 0.36385 Total loss: 0.33617</span><progress style='margin:2px 4px;description_width:initial;' max='35' value='35'></progress>100% 35/35 [02:36&lt;00:00,  4.45s/it]</div>"
            ],
            "text/plain": [
              "<tqdm._fake_ipywidgets.HBox object>"
            ]
          },
          "metadata": {},
          "output_type": "display_data"
        },
        {
          "data": {
            "text/html": [
              "<div style=\"display:flex;flex-direction:row;\"><span>Epoch: 57/100. Iteration: 35/35. Cls loss: 0.06583. Reg loss: 0.23898. Batch loss: 0.30481 Total loss: 0.32503</span><progress style='margin:2px 4px;description_width:initial;' max='35' value='35'></progress>100% 35/35 [02:36&lt;00:00,  4.42s/it]</div>"
            ],
            "text/plain": [
              "<tqdm._fake_ipywidgets.HBox object>"
            ]
          },
          "metadata": {},
          "output_type": "display_data"
        },
        {
          "data": {
            "text/html": [
              "<div style=\"display:flex;flex-direction:row;\"><span>Epoch: 58/100. Iteration: 35/35. Cls loss: 0.09846. Reg loss: 0.24839. Batch loss: 0.34685 Total loss: 0.31264</span><progress style='margin:2px 4px;description_width:initial;' max='35' value='35'></progress>100% 35/35 [02:36&lt;00:00,  4.42s/it]</div>"
            ],
            "text/plain": [
              "<tqdm._fake_ipywidgets.HBox object>"
            ]
          },
          "metadata": {},
          "output_type": "display_data"
        },
        {
          "data": {
            "text/html": [
              "<div style=\"display:flex;flex-direction:row;\"><span>Epoch: 59/100. Iteration: 35/35. Cls loss: 0.04906. Reg loss: 0.21071. Batch loss: 0.25978 Total loss: 0.31739</span><progress style='margin:2px 4px;description_width:initial;' max='35' value='35'></progress>100% 35/35 [02:35&lt;00:00,  4.43s/it]</div>"
            ],
            "text/plain": [
              "<tqdm._fake_ipywidgets.HBox object>"
            ]
          },
          "metadata": {},
          "output_type": "display_data"
        },
        {
          "data": {
            "text/html": [
              "<div style=\"display:flex;flex-direction:row;\"><span>Epoch: 60/100. Iteration: 35/35. Cls loss: 0.09268. Reg loss: 0.28001. Batch loss: 0.37269 Total loss: 0.31161</span><progress style='margin:2px 4px;description_width:initial;' max='35' value='35'></progress>100% 35/35 [02:36&lt;00:00,  4.44s/it]</div>"
            ],
            "text/plain": [
              "<tqdm._fake_ipywidgets.HBox object>"
            ]
          },
          "metadata": {},
          "output_type": "display_data"
        },
        {
          "data": {
            "text/html": [
              "<div style=\"display:flex;flex-direction:row;\"><span>Epoch: 61/100. Iteration: 35/35. Cls loss: 0.05801. Reg loss: 0.21781. Batch loss: 0.27582 Total loss: 0.31381</span><progress style='margin:2px 4px;description_width:initial;' max='35' value='35'></progress>100% 35/35 [02:36&lt;00:00,  4.41s/it]</div>"
            ],
            "text/plain": [
              "<tqdm._fake_ipywidgets.HBox object>"
            ]
          },
          "metadata": {},
          "output_type": "display_data"
        },
        {
          "data": {
            "text/html": [
              "<div style=\"display:flex;flex-direction:row;\"><span>Epoch: 62/100. Iteration: 35/35. Cls loss: 0.08095. Reg loss: 0.27615. Batch loss: 0.35710 Total loss: 0.30293</span><progress style='margin:2px 4px;description_width:initial;' max='35' value='35'></progress>100% 35/35 [02:36&lt;00:00,  4.43s/it]</div>"
            ],
            "text/plain": [
              "<tqdm._fake_ipywidgets.HBox object>"
            ]
          },
          "metadata": {},
          "output_type": "display_data"
        },
        {
          "data": {
            "text/html": [
              "<div style=\"display:flex;flex-direction:row;\"><span>Epoch: 63/100. Iteration: 35/35. Cls loss: 0.11892. Reg loss: 0.26903. Batch loss: 0.38794 Total loss: 0.30775</span><progress style='margin:2px 4px;description_width:initial;' max='35' value='35'></progress>100% 35/35 [02:35&lt;00:00,  4.40s/it]</div>"
            ],
            "text/plain": [
              "<tqdm._fake_ipywidgets.HBox object>"
            ]
          },
          "metadata": {},
          "output_type": "display_data"
        },
        {
          "data": {
            "text/html": [
              "<div style=\"display:flex;flex-direction:row;\"><span>Epoch: 64/100. Iteration: 35/35. Cls loss: 0.10475. Reg loss: 0.32901. Batch loss: 0.43376 Total loss: 0.29899</span><progress style='margin:2px 4px;description_width:initial;' max='35' value='35'></progress>100% 35/35 [02:35&lt;00:00,  4.42s/it]</div>"
            ],
            "text/plain": [
              "<tqdm._fake_ipywidgets.HBox object>"
            ]
          },
          "metadata": {},
          "output_type": "display_data"
        },
        {
          "data": {
            "text/html": [
              "<div style=\"display:flex;flex-direction:row;\"><span>Epoch: 65/100. Iteration: 35/35. Cls loss: 0.06373. Reg loss: 0.25518. Batch loss: 0.31891 Total loss: 0.29493</span><progress style='margin:2px 4px;description_width:initial;' max='35' value='35'></progress>100% 35/35 [02:35&lt;00:00,  4.38s/it]</div>"
            ],
            "text/plain": [
              "<tqdm._fake_ipywidgets.HBox object>"
            ]
          },
          "metadata": {},
          "output_type": "display_data"
        },
        {
          "data": {
            "text/html": [
              "<div style=\"display:flex;flex-direction:row;\"><span>Epoch: 66/100. Iteration: 35/35. Cls loss: 0.05379. Reg loss: 0.19449. Batch loss: 0.24828 Total loss: 0.28877</span><progress style='margin:2px 4px;description_width:initial;' max='35' value='35'></progress>100% 35/35 [02:35&lt;00:00,  4.41s/it]</div>"
            ],
            "text/plain": [
              "<tqdm._fake_ipywidgets.HBox object>"
            ]
          },
          "metadata": {},
          "output_type": "display_data"
        },
        {
          "data": {
            "text/html": [
              "<div style=\"display:flex;flex-direction:row;\"><span>Epoch: 67/100. Iteration: 35/35. Cls loss: 0.06603. Reg loss: 0.26149. Batch loss: 0.32752 Total loss: 0.28590</span><progress style='margin:2px 4px;description_width:initial;' max='35' value='35'></progress>100% 35/35 [02:35&lt;00:00,  4.39s/it]</div>"
            ],
            "text/plain": [
              "<tqdm._fake_ipywidgets.HBox object>"
            ]
          },
          "metadata": {},
          "output_type": "display_data"
        },
        {
          "data": {
            "text/html": [
              "<div style=\"display:flex;flex-direction:row;\"><span>Epoch: 68/100. Iteration: 35/35. Cls loss: 0.05040. Reg loss: 0.17462. Batch loss: 0.22502 Total loss: 0.27559</span><progress style='margin:2px 4px;description_width:initial;' max='35' value='35'></progress>100% 35/35 [02:35&lt;00:00,  4.41s/it]</div>"
            ],
            "text/plain": [
              "<tqdm._fake_ipywidgets.HBox object>"
            ]
          },
          "metadata": {},
          "output_type": "display_data"
        },
        {
          "data": {
            "text/html": [
              "<div style=\"display:flex;flex-direction:row;\"><span>Epoch: 69/100. Iteration: 35/35. Cls loss: 0.10565. Reg loss: 0.28059. Batch loss: 0.38623 Total loss: 0.28174</span><progress style='margin:2px 4px;description_width:initial;' max='35' value='35'></progress>100% 35/35 [02:35&lt;00:00,  4.40s/it]</div>"
            ],
            "text/plain": [
              "<tqdm._fake_ipywidgets.HBox object>"
            ]
          },
          "metadata": {},
          "output_type": "display_data"
        },
        {
          "data": {
            "text/html": [
              "<div style=\"display:flex;flex-direction:row;\"><span>Epoch: 70/100. Iteration: 35/35. Cls loss: 0.04630. Reg loss: 0.20117. Batch loss: 0.24747 Total loss: 0.27323</span><progress style='margin:2px 4px;description_width:initial;' max='35' value='35'></progress>100% 35/35 [02:35&lt;00:00,  4.42s/it]</div>"
            ],
            "text/plain": [
              "<tqdm._fake_ipywidgets.HBox object>"
            ]
          },
          "metadata": {},
          "output_type": "display_data"
        },
        {
          "data": {
            "text/html": [
              "<div style=\"display:flex;flex-direction:row;\"><span>Epoch: 71/100. Iteration: 35/35. Cls loss: 0.05743. Reg loss: 0.21686. Batch loss: 0.27429 Total loss: 0.28411</span><progress style='margin:2px 4px;description_width:initial;' max='35' value='35'></progress>100% 35/35 [02:35&lt;00:00,  4.40s/it]</div>"
            ],
            "text/plain": [
              "<tqdm._fake_ipywidgets.HBox object>"
            ]
          },
          "metadata": {},
          "output_type": "display_data"
        },
        {
          "data": {
            "text/html": [
              "<div style=\"display:flex;flex-direction:row;\"><span>Epoch: 72/100. Iteration: 35/35. Cls loss: 0.08811. Reg loss: 0.31708. Batch loss: 0.40520 Total loss: 0.27762</span><progress style='margin:2px 4px;description_width:initial;' max='35' value='35'></progress>100% 35/35 [02:35&lt;00:00,  4.41s/it]</div>"
            ],
            "text/plain": [
              "<tqdm._fake_ipywidgets.HBox object>"
            ]
          },
          "metadata": {},
          "output_type": "display_data"
        },
        {
          "data": {
            "text/html": [
              "<div style=\"display:flex;flex-direction:row;\"><span>Epoch: 73/100. Iteration: 35/35. Cls loss: 0.06538. Reg loss: 0.26665. Batch loss: 0.33203 Total loss: 0.26443</span><progress style='margin:2px 4px;description_width:initial;' max='35' value='35'></progress>100% 35/35 [02:35&lt;00:00,  4.41s/it]</div>"
            ],
            "text/plain": [
              "<tqdm._fake_ipywidgets.HBox object>"
            ]
          },
          "metadata": {},
          "output_type": "display_data"
        },
        {
          "data": {
            "text/html": [
              "<div style=\"display:flex;flex-direction:row;\"><span>Epoch: 74/100. Iteration: 35/35. Cls loss: 0.06970. Reg loss: 0.20945. Batch loss: 0.27915 Total loss: 0.26254</span><progress style='margin:2px 4px;description_width:initial;' max='35' value='35'></progress>100% 35/35 [02:35&lt;00:00,  4.39s/it]</div>"
            ],
            "text/plain": [
              "<tqdm._fake_ipywidgets.HBox object>"
            ]
          },
          "metadata": {},
          "output_type": "display_data"
        },
        {
          "data": {
            "text/html": [
              "<div style=\"display:flex;flex-direction:row;\"><span>Epoch: 75/100. Iteration: 35/35. Cls loss: 0.04413. Reg loss: 0.16997. Batch loss: 0.21410 Total loss: 0.27012</span><progress style='margin:2px 4px;description_width:initial;' max='35' value='35'></progress>100% 35/35 [02:35&lt;00:00,  4.39s/it]</div>"
            ],
            "text/plain": [
              "<tqdm._fake_ipywidgets.HBox object>"
            ]
          },
          "metadata": {},
          "output_type": "display_data"
        },
        {
          "data": {
            "text/html": [
              "<div style=\"display:flex;flex-direction:row;\"><span>Epoch: 76/100. Iteration: 35/35. Cls loss: 0.06181. Reg loss: 0.18516. Batch loss: 0.24697 Total loss: 0.26206</span><progress style='margin:2px 4px;description_width:initial;' max='35' value='35'></progress>100% 35/35 [02:35&lt;00:00,  4.42s/it]</div>"
            ],
            "text/plain": [
              "<tqdm._fake_ipywidgets.HBox object>"
            ]
          },
          "metadata": {},
          "output_type": "display_data"
        },
        {
          "data": {
            "text/html": [
              "<div style=\"display:flex;flex-direction:row;\"><span>Epoch: 77/100. Iteration: 35/35. Cls loss: 0.06609. Reg loss: 0.19774. Batch loss: 0.26383 Total loss: 0.26309</span><progress style='margin:2px 4px;description_width:initial;' max='35' value='35'></progress>100% 35/35 [02:35&lt;00:00,  4.39s/it]</div>"
            ],
            "text/plain": [
              "<tqdm._fake_ipywidgets.HBox object>"
            ]
          },
          "metadata": {},
          "output_type": "display_data"
        },
        {
          "data": {
            "text/html": [
              "<div style=\"display:flex;flex-direction:row;\"><span>Epoch: 78/100. Iteration: 35/35. Cls loss: 0.03310. Reg loss: 0.17551. Batch loss: 0.20861 Total loss: 0.25598</span><progress style='margin:2px 4px;description_width:initial;' max='35' value='35'></progress>100% 35/35 [02:35&lt;00:00,  4.41s/it]</div>"
            ],
            "text/plain": [
              "<tqdm._fake_ipywidgets.HBox object>"
            ]
          },
          "metadata": {},
          "output_type": "display_data"
        },
        {
          "data": {
            "text/html": [
              "<div style=\"display:flex;flex-direction:row;\"><span>Epoch: 79/100. Iteration: 35/35. Cls loss: 0.03917. Reg loss: 0.15349. Batch loss: 0.19266 Total loss: 0.24872</span><progress style='margin:2px 4px;description_width:initial;' max='35' value='35'></progress>100% 35/35 [02:34&lt;00:00,  4.38s/it]</div>"
            ],
            "text/plain": [
              "<tqdm._fake_ipywidgets.HBox object>"
            ]
          },
          "metadata": {},
          "output_type": "display_data"
        },
        {
          "data": {
            "text/html": [
              "<div style=\"display:flex;flex-direction:row;\"><span>Epoch: 80/100. Iteration: 35/35. Cls loss: 0.07348. Reg loss: 0.22768. Batch loss: 0.30116 Total loss: 0.25510</span><progress style='margin:2px 4px;description_width:initial;' max='35' value='35'></progress>100% 35/35 [02:35&lt;00:00,  4.41s/it]</div>"
            ],
            "text/plain": [
              "<tqdm._fake_ipywidgets.HBox object>"
            ]
          },
          "metadata": {},
          "output_type": "display_data"
        },
        {
          "data": {
            "text/html": [
              "<div style=\"display:flex;flex-direction:row;\"><span>Epoch: 81/100. Iteration: 15/35. Cls loss: 0.03873. Reg loss: 0.19618. Batch loss: 0.23491 Total loss: 0.25207</span><progress style='margin:2px 4px;description_width:initial;' max='35' value='15'></progress> 43% 15/35 [01:06&lt;01:28,  4.43s/it]</div>"
            ],
            "text/plain": [
              "<tqdm._fake_ipywidgets.HBox object>"
            ]
          },
          "metadata": {},
          "output_type": "display_data"
        },
        {
          "output_type": "display_data",
          "data": {
            "text/html": [
              "<div style=\"display:flex;flex-direction:row;\"><span>Epoch: 81/100. Iteration: 35/35. Cls loss: 0.06818. Reg loss: 0.22153. Batch loss: 0.28971 Total loss: 0.25006</span><progress style='margin:2px 4px;description_width:initial;' max='35' value='35'></progress>100% 35/35 [02:35&lt;00:00,  4.42s/it]</div>"
            ],
            "text/plain": [
              "<tqdm._fake_ipywidgets.HBox object>"
            ]
          },
          "metadata": {}
        },
        {
          "output_type": "display_data",
          "data": {
            "text/html": [
              "<div style=\"display:flex;flex-direction:row;\"><span>Epoch: 82/100. Iteration: 35/35. Cls loss: 0.03686. Reg loss: 0.18245. Batch loss: 0.21931 Total loss: 0.25176</span><progress style='margin:2px 4px;description_width:initial;' max='35' value='35'></progress>100% 35/35 [02:36&lt;00:00,  4.45s/it]</div>"
            ],
            "text/plain": [
              "<tqdm._fake_ipywidgets.HBox object>"
            ]
          },
          "metadata": {}
        },
        {
          "output_type": "display_data",
          "data": {
            "text/html": [
              "<div style=\"display:flex;flex-direction:row;\"><span>Epoch: 83/100. Iteration: 35/35. Cls loss: 0.05614. Reg loss: 0.21140. Batch loss: 0.26754 Total loss: 0.24263</span><progress style='margin:2px 4px;description_width:initial;' max='35' value='35'></progress>100% 35/35 [02:36&lt;00:00,  4.42s/it]</div>"
            ],
            "text/plain": [
              "<tqdm._fake_ipywidgets.HBox object>"
            ]
          },
          "metadata": {}
        },
        {
          "output_type": "display_data",
          "data": {
            "text/html": [
              "<div style=\"display:flex;flex-direction:row;\"><span>Epoch: 84/100. Iteration: 35/35. Cls loss: 0.03637. Reg loss: 0.16957. Batch loss: 0.20594 Total loss: 0.24107</span><progress style='margin:2px 4px;description_width:initial;' max='35' value='35'></progress>100% 35/35 [02:36&lt;00:00,  4.44s/it]</div>"
            ],
            "text/plain": [
              "<tqdm._fake_ipywidgets.HBox object>"
            ]
          },
          "metadata": {}
        },
        {
          "output_type": "display_data",
          "data": {
            "text/html": [
              "<div style=\"display:flex;flex-direction:row;\"><span>Epoch: 85/100. Iteration: 35/35. Cls loss: 0.03673. Reg loss: 0.18700. Batch loss: 0.22373 Total loss: 0.24420</span><progress style='margin:2px 4px;description_width:initial;' max='35' value='35'></progress>100% 35/35 [02:36&lt;00:00,  4.42s/it]</div>"
            ],
            "text/plain": [
              "<tqdm._fake_ipywidgets.HBox object>"
            ]
          },
          "metadata": {}
        },
        {
          "output_type": "display_data",
          "data": {
            "text/html": [
              "<div style=\"display:flex;flex-direction:row;\"><span>Epoch: 86/100. Iteration: 35/35. Cls loss: 0.09092. Reg loss: 0.27972. Batch loss: 0.37064 Total loss: 0.23557</span><progress style='margin:2px 4px;description_width:initial;' max='35' value='35'></progress>100% 35/35 [02:36&lt;00:00,  4.43s/it]</div>"
            ],
            "text/plain": [
              "<tqdm._fake_ipywidgets.HBox object>"
            ]
          },
          "metadata": {}
        },
        {
          "output_type": "display_data",
          "data": {
            "text/html": [
              "<div style=\"display:flex;flex-direction:row;\"><span>Epoch: 87/100. Iteration: 35/35. Cls loss: 0.04730. Reg loss: 0.11940. Batch loss: 0.16670 Total loss: 0.24615</span><progress style='margin:2px 4px;description_width:initial;' max='35' value='35'></progress>100% 35/35 [02:35&lt;00:00,  4.40s/it]</div>"
            ],
            "text/plain": [
              "<tqdm._fake_ipywidgets.HBox object>"
            ]
          },
          "metadata": {}
        },
        {
          "output_type": "display_data",
          "data": {
            "text/html": [
              "<div style=\"display:flex;flex-direction:row;\"><span>Epoch: 88/100. Iteration: 35/35. Cls loss: 0.03867. Reg loss: 0.12340. Batch loss: 0.16207 Total loss: 0.22864</span><progress style='margin:2px 4px;description_width:initial;' max='35' value='35'></progress>100% 35/35 [02:35&lt;00:00,  4.43s/it]</div>"
            ],
            "text/plain": [
              "<tqdm._fake_ipywidgets.HBox object>"
            ]
          },
          "metadata": {}
        },
        {
          "output_type": "display_data",
          "data": {
            "text/html": [
              "<div style=\"display:flex;flex-direction:row;\"><span>Epoch: 89/100. Iteration: 35/35. Cls loss: 0.03566. Reg loss: 0.18290. Batch loss: 0.21857 Total loss: 0.23490</span><progress style='margin:2px 4px;description_width:initial;' max='35' value='35'></progress>100% 35/35 [02:36&lt;00:00,  4.44s/it]</div>"
            ],
            "text/plain": [
              "<tqdm._fake_ipywidgets.HBox object>"
            ]
          },
          "metadata": {}
        },
        {
          "output_type": "display_data",
          "data": {
            "text/html": [
              "<div style=\"display:flex;flex-direction:row;\"><span>Epoch: 90/100. Iteration: 35/35. Cls loss: 0.04440. Reg loss: 0.18347. Batch loss: 0.22786 Total loss: 0.23565</span><progress style='margin:2px 4px;description_width:initial;' max='35' value='35'></progress>100% 35/35 [02:36&lt;00:00,  4.43s/it]</div>"
            ],
            "text/plain": [
              "<tqdm._fake_ipywidgets.HBox object>"
            ]
          },
          "metadata": {}
        },
        {
          "output_type": "display_data",
          "data": {
            "text/html": [
              "<div style=\"display:flex;flex-direction:row;\"><span>Epoch: 91/100. Iteration: 35/35. Cls loss: 0.07403. Reg loss: 0.20261. Batch loss: 0.27664 Total loss: 0.22583</span><progress style='margin:2px 4px;description_width:initial;' max='35' value='35'></progress>100% 35/35 [02:36&lt;00:00,  4.42s/it]</div>"
            ],
            "text/plain": [
              "<tqdm._fake_ipywidgets.HBox object>"
            ]
          },
          "metadata": {}
        },
        {
          "output_type": "display_data",
          "data": {
            "text/html": [
              "<div style=\"display:flex;flex-direction:row;\"><span>Epoch: 92/100. Iteration: 35/35. Cls loss: 0.02369. Reg loss: 0.16089. Batch loss: 0.18459 Total loss: 0.22928</span><progress style='margin:2px 4px;description_width:initial;' max='35' value='35'></progress>100% 35/35 [02:35&lt;00:00,  4.44s/it]</div>"
            ],
            "text/plain": [
              "<tqdm._fake_ipywidgets.HBox object>"
            ]
          },
          "metadata": {}
        },
        {
          "output_type": "display_data",
          "data": {
            "text/html": [
              "<div style=\"display:flex;flex-direction:row;\"><span>Epoch: 93/100. Iteration: 35/35. Cls loss: 0.03974. Reg loss: 0.19086. Batch loss: 0.23060 Total loss: 0.23182</span><progress style='margin:2px 4px;description_width:initial;' max='35' value='35'></progress>100% 35/35 [02:36&lt;00:00,  4.42s/it]</div>"
            ],
            "text/plain": [
              "<tqdm._fake_ipywidgets.HBox object>"
            ]
          },
          "metadata": {}
        },
        {
          "output_type": "display_data",
          "data": {
            "text/html": [
              "<div style=\"display:flex;flex-direction:row;\"><span>Epoch: 94/100. Iteration: 35/35. Cls loss: 0.02284. Reg loss: 0.15644. Batch loss: 0.17928 Total loss: 0.22172</span><progress style='margin:2px 4px;description_width:initial;' max='35' value='35'></progress>100% 35/35 [02:36&lt;00:00,  4.44s/it]</div>"
            ],
            "text/plain": [
              "<tqdm._fake_ipywidgets.HBox object>"
            ]
          },
          "metadata": {}
        },
        {
          "output_type": "display_data",
          "data": {
            "text/html": [
              "<div style=\"display:flex;flex-direction:row;\"><span>Epoch: 95/100. Iteration: 35/35. Cls loss: 0.03384. Reg loss: 0.16378. Batch loss: 0.19762 Total loss: 0.22468</span><progress style='margin:2px 4px;description_width:initial;' max='35' value='35'></progress>100% 35/35 [02:35&lt;00:00,  4.41s/it]</div>"
            ],
            "text/plain": [
              "<tqdm._fake_ipywidgets.HBox object>"
            ]
          },
          "metadata": {}
        },
        {
          "output_type": "display_data",
          "data": {
            "text/html": [
              "<div style=\"display:flex;flex-direction:row;\"><span>Epoch: 96/100. Iteration: 35/35. Cls loss: 0.04528. Reg loss: 0.19677. Batch loss: 0.24206 Total loss: 0.22200</span><progress style='margin:2px 4px;description_width:initial;' max='35' value='35'></progress>100% 35/35 [02:36&lt;00:00,  4.44s/it]</div>"
            ],
            "text/plain": [
              "<tqdm._fake_ipywidgets.HBox object>"
            ]
          },
          "metadata": {}
        },
        {
          "output_type": "display_data",
          "data": {
            "text/html": [
              "<div style=\"display:flex;flex-direction:row;\"><span>Epoch: 97/100. Iteration: 35/35. Cls loss: 0.02896. Reg loss: 0.15269. Batch loss: 0.18165 Total loss: 0.22287</span><progress style='margin:2px 4px;description_width:initial;' max='35' value='35'></progress>100% 35/35 [02:36&lt;00:00,  4.42s/it]</div>"
            ],
            "text/plain": [
              "<tqdm._fake_ipywidgets.HBox object>"
            ]
          },
          "metadata": {}
        },
        {
          "output_type": "display_data",
          "data": {
            "text/html": [
              "<div style=\"display:flex;flex-direction:row;\"><span>Epoch: 98/100. Iteration: 35/35. Cls loss: 0.03938. Reg loss: 0.19239. Batch loss: 0.23177 Total loss: 0.21148</span><progress style='margin:2px 4px;description_width:initial;' max='35' value='35'></progress>100% 35/35 [02:36&lt;00:00,  4.43s/it]</div>"
            ],
            "text/plain": [
              "<tqdm._fake_ipywidgets.HBox object>"
            ]
          },
          "metadata": {}
        },
        {
          "output_type": "display_data",
          "data": {
            "text/html": [
              "<div style=\"display:flex;flex-direction:row;\"><span>Epoch: 99/100. Iteration: 35/35. Cls loss: 0.03030. Reg loss: 0.12431. Batch loss: 0.15461 Total loss: 0.22397</span><progress style='margin:2px 4px;description_width:initial;' max='35' value='35'></progress>100% 35/35 [02:35&lt;00:00,  4.42s/it]</div>"
            ],
            "text/plain": [
              "<tqdm._fake_ipywidgets.HBox object>"
            ]
          },
          "metadata": {}
        },
        {
          "output_type": "display_data",
          "data": {
            "text/html": [
              "<div style=\"display:flex;flex-direction:row;\"><span>Epoch: 100/100. Iteration: 35/35. Cls loss: 0.05307. Reg loss: 0.20274. Batch loss: 0.25580 Total loss: 0.20977</span><progress style='margin:2px 4px;description_width:initial;' max='35' value='35'></progress>100% 35/35 [02:36&lt;00:00,  4.44s/it]</div>"
            ],
            "text/plain": [
              "<tqdm._fake_ipywidgets.HBox object>"
            ]
          },
          "metadata": {}
        },
        {
          "output_type": "stream",
          "name": "stdout",
          "text": [
            "CPU times: user 4h 12min 35s, sys: 5min 43s, total: 4h 18min 18s\n",
            "Wall time: 4h 20min 22s\n"
          ]
        }
      ]
    },
    {
      "cell_type": "markdown",
      "metadata": {
        "id": "vBbKECt58NNT"
      },
      "source": [
        "##Resultados"
      ]
    },
    {
      "cell_type": "code",
      "metadata": {
        "id": "ZV8aWR1rV-gf"
      },
      "source": [
        "import os\n",
        "import sys\n",
        "sys.path.append(\"Monk_Object_Detection/4_efficientdet/lib/\");"
      ],
      "execution_count": null,
      "outputs": []
    },
    {
      "cell_type": "code",
      "metadata": {
        "id": "i55fLiAZWEjL"
      },
      "source": [
        "from infer_detector import Infer"
      ],
      "execution_count": null,
      "outputs": []
    },
    {
      "cell_type": "code",
      "metadata": {
        "id": "h7ZnWq8YWHGm"
      },
      "source": [
        "gtf2 = Infer();"
      ],
      "execution_count": null,
      "outputs": []
    },
    {
      "cell_type": "code",
      "metadata": {
        "id": "nsu6TZJdWQHG"
      },
      "source": [
        "%%time\n",
        "gtf2.Model(model_dir=\"trained/\")"
      ],
      "execution_count": null,
      "outputs": []
    },
    {
      "cell_type": "code",
      "metadata": {
        "id": "BUpNHXcgWUFc",
        "colab": {
          "base_uri": "https://localhost:8080/"
        },
        "outputId": "a4cd3a2e-fce5-4ec0-d098-90ded4d1551b"
      },
      "source": [
        "%%time\n",
        "import json\n",
        "with open('train/_annotations.coco.json') as json_file:\n",
        "    data = json.load(json_file)\n",
        "class_list = []\n",
        "for category in data['categories']:\n",
        "  class_list.append(category['name'])\n",
        "\n",
        "class_list"
      ],
      "execution_count": null,
      "outputs": [
        {
          "output_type": "execute_result",
          "data": {
            "text/plain": [
              "['all', 'gun', 'helmet']"
            ]
          },
          "metadata": {},
          "execution_count": 21
        }
      ]
    },
    {
      "cell_type": "code",
      "metadata": {
        "id": "1sBlRB4LWVki",
        "colab": {
          "base_uri": "https://localhost:8080/"
        },
        "outputId": "9cfe402c-f69b-42da-b91d-2bd2bf7f2d18"
      },
      "source": [
        "%%time\n",
        "test_images = [f for f in os.listdir('test') if f.endswith('.jpg')]\n",
        "import random\n",
        "img_path = \"test/\" + random.choice(test_images);\n",
        "duration, scores, labels, boxes = gtf2.Predict(img_path, class_list, vis_threshold=0.2);"
      ],
      "execution_count": null,
      "outputs": [
        {
          "output_type": "stream",
          "name": "stdout",
          "text": [
            "Done. (0.181s)\n",
            "CPU times: user 202 ms, sys: 27 ms, total: 229 ms\n",
            "Wall time: 228 ms\n"
          ]
        }
      ]
    },
    {
      "cell_type": "code",
      "metadata": {
        "colab": {
          "base_uri": "https://localhost:8080/",
          "height": 433
        },
        "id": "XoiNEcCYWhLt",
        "outputId": "6a478669-aa3b-481e-832a-cd8bd2cccbba"
      },
      "source": [
        "%%time\n",
        "from IPython.display import Image\n",
        "Image(filename='output.jpg') "
      ],
      "execution_count": null,
      "outputs": [
        {
          "output_type": "execute_result",
          "data": {
            "image/jpeg": "[encoded data removed]",
            "text/plain": [
              "<IPython.core.display.Image object>"
            ]
          },
          "metadata": {},
          "execution_count": 97
        }
      ]
    },
    {
      "cell_type": "markdown",
      "metadata": {
        "id": "-m1bzq-t8eK1"
      },
      "source": [
        "##Exportar los pesos de nuestro modelo a nuestra unidad de Google Drive"
      ]
    },
    {
      "cell_type": "code",
      "metadata": {
        "colab": {
          "base_uri": "https://localhost:8080/"
        },
        "id": "m_tXD4cPWwVO",
        "outputId": "a1938949-ddc1-4931-beef-457c6ae95f87"
      },
      "source": [
        "from google.colab import drive\n",
        "drive.mount('/content/drive')"
      ],
      "execution_count": null,
      "outputs": [
        {
          "output_type": "stream",
          "name": "stdout",
          "text": [
            "Mounted at /content/drive\n"
          ]
        }
      ]
    },
    {
      "cell_type": "code",
      "metadata": {
        "id": "601iCVG4W3x8"
      },
      "source": [
        "%mkdir trained_export\n",
        "%cp ./trained/signatrix_efficientdet_coco.onnx ./trained_export/signatrix_efficientdet_coco_$(date +%F-%H:%M).onnx\n",
        "%cp ./trained/signatrix_efficientdet_coco.pth ./trained_export/signatrix_efficientdet_coco_$(date +%F-%H:%M).pth\n",
        "%mv ./trained_export/* /content/drive/My\\ Drive/"
      ],
      "execution_count": null,
      "outputs": []
    }
  ]
}