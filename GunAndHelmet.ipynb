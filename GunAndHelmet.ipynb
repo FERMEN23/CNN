{
  "nbformat": 4,
  "nbformat_minor": 0,
  "metadata": {
    "colab": {
      "name": "Untitled0.ipynb",
      "provenance": [],
      "authorship_tag": "ABX9TyM9prQRGcyf4r9GXcHhs1kF",
      "include_colab_link": true
    },
    "kernelspec": {
      "name": "python3",
      "display_name": "Python 3"
    },
    "language_info": {
      "name": "python"
    },
    "accelerator": "GPU"
  },
  "cells": [
    {
      "cell_type": "markdown",
      "metadata": {
        "id": "view-in-github",
        "colab_type": "text"
      },
      "source": [
        "<a href=\"https://colab.research.google.com/github/FERMEN23/CNN/blob/main/GunAndHelmet.ipynb\" target=\"_parent\"><img src=\"https://colab.research.google.com/assets/colab-badge.svg\" alt=\"Open In Colab\"/></a>"
      ]
    },
    {
      "cell_type": "markdown",
      "metadata": {
        "id": "RI18vo0Pz37A"
      },
      "source": [
        ""
      ]
    },
    {
      "cell_type": "code",
      "metadata": {
        "id": "o07XzZ0fUpjG"
      },
      "source": [
        "! git clone https://github.com/roboflow-ai/Monk_Object_Detection.git"
      ],
      "execution_count": null,
      "outputs": []
    },
    {
      "cell_type": "code",
      "metadata": {
        "id": "DIN3c7vCVNnF"
      },
      "source": [
        "! cd Monk_Object_Detection/3_mxrcnn/installation && cat requirements_colab.txt | xargs -n 1 -L 1 pip install"
      ],
      "execution_count": null,
      "outputs": []
    },
    {
      "cell_type": "code",
      "metadata": {
        "id": "LEdV1tBQVfp8"
      },
      "source": [
        "#Version de tqmd para colab\n",
        "!pip install --force https://github.com/chengs/tqdm/archive/colab.zip\n",
        "\n",
        "#IGNORE restart runtime warning, it is indeed installed \n",
        "#Arquitectura de red Efficeintnet\n",
        "!pip install efficientnet_pytorch\n",
        "!pip install tensorboardX"
      ],
      "execution_count": null,
      "outputs": []
    },
    {
      "cell_type": "code",
      "metadata": {
        "colab": {
          "base_uri": "https://localhost:8080/"
        },
        "id": "OJKO2njCVmCD",
        "outputId": "05b9adc3-7581-41cc-8bf6-f36a47049e77"
      },
      "source": [
        "!curl -L \"https://app.roboflow.com/ds/FYqnN0SFqi?key=1QO7DUdhb1 \" > \\\n",
        "roboflow.zip; unzip roboflow.zip; \\\n",
        "rm roboflow.zip"
      ],
      "execution_count": 4,
      "outputs": [
        {
          "output_type": "stream",
          "name": "stdout",
          "text": [
            "  % Total    % Received % Xferd  Average Speed   Time    Time     Time  Current\n",
            "                                 Dload  Upload   Total   Spent    Left  Speed\n",
            "100   887  100   887    0     0   1553      0 --:--:-- --:--:-- --:--:--  1556\n",
            "100 6753k  100 6753k    0     0  8452k      0 --:--:-- --:--:-- --:--:-- 8452k\n",
            "Archive:  roboflow.zip\n",
            " extracting: README.dataset.txt      \n",
            " extracting: README.roboflow.txt     \n",
            "   creating: test/\n",
            " extracting: test/Captura-de-pantalla-de-2020-09-16-21-21-34_png.rf.0ffa87dbd3628c18a2108e58542d688f.jpg  \n",
            " extracting: test/Captura-de-pantalla-de-2020-09-16-21-30-50_png.rf.a81c44aca5908b5aa360349f924d99cf.jpg  \n",
            " extracting: test/Captura-de-pantalla-de-2020-09-16-21-45-42_png.rf.c47ea50d7a3f99988eb0cd1367398619.jpg  \n",
            " extracting: test/Captura-de-pantalla-de-2020-09-16-21-47-12_png.rf.daf4313f4646fad64740dc46253e0c14.jpg  \n",
            " extracting: test/Captura-de-pantalla-de-2020-09-16-21-48-32_png.rf.2e4cb2df7f49a56e092f0e3661bb7c65.jpg  \n",
            " extracting: test/Captura-de-pantalla-de-2020-09-16-21-50-29_png.rf.beb5ad8c8ce926f60d0b07dc761e80ff.jpg  \n",
            " extracting: test/Captura-de-pantalla-de-2020-09-16-21-50-41_png.rf.1f21e619cd16506c109defcdbf5941e7.jpg  \n",
            " extracting: test/Captura-de-pantalla-de-2020-09-16-21-51-48_png.rf.5ea53cd7812aeee73d8ff345151d8ee8.jpg  \n",
            " extracting: test/Captura-de-pantalla-de-2020-09-16-21-51-59_png.rf.9e02c4d3b34931a9d8e9a393f19624c5.jpg  \n",
            " extracting: test/Captura-de-pantalla-de-2020-09-16-21-54-33_png.rf.b79e4ab64329a047aa21f6e848fc73ac.jpg  \n",
            " extracting: test/Captura-de-pantalla-de-2020-09-16-21-56-16_png.rf.eac11416fa4c3b08426c6ab2400f4cdc.jpg  \n",
            " extracting: test/Captura-de-pantalla-de-2020-09-16-22-03-48_png.rf.edf48779e7da30f6c583d54d05b39929.jpg  \n",
            " extracting: test/Captura-de-pantalla-de-2020-09-16-22-05-03_png.rf.39b61ad34c2a3966b66feb680d80f095.jpg  \n",
            " extracting: test/Captura-de-pantalla-de-2020-09-16-22-09-46_png.rf.c024e01444ad87a24ec23c077c5a64d2.jpg  \n",
            " extracting: test/Captura-de-pantalla-de-2020-09-16-22-21-25_png.rf.939d877ac4ee2a79e9e0bc835454d85e.jpg  \n",
            " extracting: test/Captura-de-pantalla-de-2020-09-16-22-26-38_png.rf.3817e8ab1524d8b3f26ae4e899a2dc69.jpg  \n",
            " extracting: test/Captura-de-pantalla-de-2020-09-16-22-35-11_png.rf.ed0d441d6a3382f2b84cbd6be25b43c3.jpg  \n",
            " extracting: test/Captura-de-pantalla-de-2020-09-16-22-35-52_png.rf.77dc7b15825b565c80ef749337b21401.jpg  \n",
            " extracting: test/Captura-de-pantalla-de-2020-09-16-22-36-52_png.rf.1c2c49431d8b66e162482c2a5a48cbb7.jpg  \n",
            " extracting: test/Captura-de-pantalla-de-2020-09-16-22-51-28_png.rf.ab4c77d755f2518695ccb7e24c35d8ad.jpg  \n",
            " extracting: test/Captura-de-pantalla-de-2020-09-16-22-51-31_png.rf.ca1cc61a265541965d3c9d18a82a18d3.jpg  \n",
            " extracting: test/Captura-de-pantalla-de-2020-09-16-22-58-27_png.rf.5a2563f968b205eec4674ad28d968058.jpg  \n",
            " extracting: test/Captura-de-pantalla-de-2020-09-16-22-59-05_png.rf.388cc3829b5dbe5e4177a6b84cdec5de.jpg  \n",
            " extracting: test/Captura-de-pantalla-de-2020-09-16-22-59-56_png.rf.45f2c1c424b60956c56f1bc9e215167b.jpg  \n",
            " extracting: test/Captura-de-pantalla-de-2020-09-16-23-10-51_png.rf.01af630043b39de1ceae6668d03b68bc.jpg  \n",
            " extracting: test/Captura-de-pantalla-de-2020-09-16-23-11-52_png.rf.2ba9fadf6f90abd14184ed4a09a06803.jpg  \n",
            " extracting: test/Captura-de-pantalla-de-2020-09-17-00-32-27_png.rf.d5968672ec4e9015d10fef1692777d49.jpg  \n",
            " extracting: test/Captura-de-pantalla-de-2020-09-17-00-42-12_png.rf.3cc62bca9aec03e0a3fc2350acbfc06c.jpg  \n",
            " extracting: test/Captura-de-pantalla-de-2020-09-17-00-42-46_png.rf.01526487ae2311485bfb6174d008459a.jpg  \n",
            " extracting: test/Captura-de-pantalla-de-2020-09-17-00-55-21_png.rf.907f05bb1958c5130ed1e9bb42a1c218.jpg  \n",
            " extracting: test/Captura-de-pantalla-de-2020-09-17-00-57-48_png.rf.3135b1a87dd31a51805d3c277da02bfe.jpg  \n",
            " extracting: test/Captura-de-pantalla-de-2020-09-17-02-34-06_png.rf.a02389eb638cbe0f47ae7803425999e6.jpg  \n",
            " extracting: test/Captura-de-pantalla-de-2020-09-17-03-28-07_png.rf.b1b8a42b2b2df9812edffa8399874f10.jpg  \n",
            " extracting: test/Captura-de-pantalla-de-2020-09-17-04-05-55_png.rf.8f09966923a43b7fa48a1313ee9d50a5.jpg  \n",
            " extracting: test/Captura-de-pantalla-de-2020-09-17-04-09-54_png.rf.f02d8b11fdd267969c26aec39defab51.jpg  \n",
            " extracting: test/Captura-de-pantalla-de-2020-09-18-14-02-54_png.rf.0e932d6d8e4255454cf88a519e560815.jpg  \n",
            " extracting: test/Captura-de-pantalla-de-2020-09-18-14-26-19_png.rf.3ea9cbdb31aa4454a21dde51b1c0a225.jpg  \n",
            " extracting: test/Captura-de-pantalla-de-2020-09-18-14-29-37_png.rf.5edbb86c54f57a089524f568c61281c6.jpg  \n",
            " extracting: test/Captura-de-pantalla-de-2020-09-18-14-30-00_png.rf.f70793721f504928176aa209eb7e2f61.jpg  \n",
            " extracting: test/Captura-de-pantalla-de-2020-09-18-14-37-57_png.rf.2e72d482720e9bfe61f7a4f246fbc315.jpg  \n",
            " extracting: test/_annotations.coco.json  \n",
            "   creating: train/\n",
            " extracting: train/Captura-de-pantalla-de-2020-09-16-21-21-38_png.rf.41311c2c878d30fcbd701ee512d12de5.jpg  \n",
            " extracting: train/Captura-de-pantalla-de-2020-09-16-21-21-47_png.rf.defc0b19012842a44b0adaa8f282fba4.jpg  \n",
            " extracting: train/Captura-de-pantalla-de-2020-09-16-21-22-21_png.rf.610a9544a7852252f6ec89ba2c60bba3.jpg  \n",
            " extracting: train/Captura-de-pantalla-de-2020-09-16-21-22-29_png.rf.e7db237c36323433fbd7608209d47ec9.jpg  \n",
            " extracting: train/Captura-de-pantalla-de-2020-09-16-21-30-47_png.rf.35afdab10ea78ab7cf8a0bc55d6a34cd.jpg  \n",
            " extracting: train/Captura-de-pantalla-de-2020-09-16-21-30-55_png.rf.76aa2afe597ab4e15e313f9eb1db2156.jpg  \n",
            " extracting: train/Captura-de-pantalla-de-2020-09-16-21-31-21_png.rf.4cb398385198c591fed28a21179ecca4.jpg  \n",
            " extracting: train/Captura-de-pantalla-de-2020-09-16-21-35-28_png.rf.3e10fc5fda2a6e46fe4033fee04794c8.jpg  \n",
            " extracting: train/Captura-de-pantalla-de-2020-09-16-21-35-34_png.rf.1da46ea17bdcc3ca0556b0b3b9bc51c1.jpg  \n",
            " extracting: train/Captura-de-pantalla-de-2020-09-16-21-35-38_png.rf.181b776d041dacac282fc0e62f0d8657.jpg  \n",
            " extracting: train/Captura-de-pantalla-de-2020-09-16-21-35-44_png.rf.138113d5c3fe97c43a14e14e6582be5b.jpg  \n",
            " extracting: train/Captura-de-pantalla-de-2020-09-16-21-47-19_png.rf.45a1b7855a385c46f968cda27295b197.jpg  \n",
            " extracting: train/Captura-de-pantalla-de-2020-09-16-21-48-06_png.rf.a337b20b631b8f182a33f76745f89183.jpg  \n",
            " extracting: train/Captura-de-pantalla-de-2020-09-16-21-48-51_png.rf.da5974e9fa41bb0c81b55703bb5ee85d.jpg  \n",
            " extracting: train/Captura-de-pantalla-de-2020-09-16-21-49-31_png.rf.e86b1f14a3691c946a04a04ae6163ffa.jpg  \n",
            " extracting: train/Captura-de-pantalla-de-2020-09-16-21-49-35_png.rf.a18d801dee958098f8731dc8eec62d80.jpg  \n",
            " extracting: train/Captura-de-pantalla-de-2020-09-16-21-49-43_png.rf.94ba19f443fb6107fbdc87ec24820fb1.jpg  \n",
            " extracting: train/Captura-de-pantalla-de-2020-09-16-21-49-54_png.rf.7b075fe6fa306ad27ff3d9a7391cb48d.jpg  \n",
            " extracting: train/Captura-de-pantalla-de-2020-09-16-21-49-56_png.rf.8ff5c685691c9ea680ac945d9f940227.jpg  \n",
            " extracting: train/Captura-de-pantalla-de-2020-09-16-21-50-33_png.rf.85825f8bc7eaf4342e8c5ff3c28de15a.jpg  \n",
            " extracting: train/Captura-de-pantalla-de-2020-09-16-21-51-02_png.rf.7f4219eba602b580fa5eec6b63908207.jpg  \n",
            " extracting: train/Captura-de-pantalla-de-2020-09-16-21-51-05_png.rf.6a173dd5d6227e0b749f81cdac1319ba.jpg  \n",
            " extracting: train/Captura-de-pantalla-de-2020-09-16-21-51-09_png.rf.ca058241a76560b7f6da513e912aceb5.jpg  \n",
            " extracting: train/Captura-de-pantalla-de-2020-09-16-21-51-18_png.rf.125a68862e4532c2787e4d7573eda248.jpg  \n",
            " extracting: train/Captura-de-pantalla-de-2020-09-16-21-51-40_png.rf.f8b708d011aa1cc94f55d5eaca5533ee.jpg  \n",
            " extracting: train/Captura-de-pantalla-de-2020-09-16-21-51-51_png.rf.1b5848122c467cc067bc90831588bb87.jpg  \n",
            " extracting: train/Captura-de-pantalla-de-2020-09-16-21-52-19_png.rf.d56a5b9d6224aacb955197277031d725.jpg  \n",
            " extracting: train/Captura-de-pantalla-de-2020-09-16-21-53-17_png.rf.b55aa631ba54603ba4b7269e2d670979.jpg  \n",
            " extracting: train/Captura-de-pantalla-de-2020-09-16-21-53-19_png.rf.58270fec64fbe92b2603358d2cd376a1.jpg  \n",
            " extracting: train/Captura-de-pantalla-de-2020-09-16-21-53-25_png.rf.0037e4703571a2dea02cbfa08ebf2ff0.jpg  \n",
            " extracting: train/Captura-de-pantalla-de-2020-09-16-21-53-28_png.rf.052435e9f860480e7691e5cdded563bd.jpg  \n",
            " extracting: train/Captura-de-pantalla-de-2020-09-16-21-53-53_png.rf.88fd9719b291d6fb6236d16e9165fe89.jpg  \n",
            " extracting: train/Captura-de-pantalla-de-2020-09-16-21-53-58_png.rf.fb2c38ede02a09cdc8d132a55460bc9f.jpg  \n",
            " extracting: train/Captura-de-pantalla-de-2020-09-16-21-54-23_png.rf.551adc4a144e26835d53bcddf1f6f720.jpg  \n",
            " extracting: train/Captura-de-pantalla-de-2020-09-16-21-54-35_png.rf.2d157fda52b7d2d2456ff0466041754b.jpg  \n",
            " extracting: train/Captura-de-pantalla-de-2020-09-16-21-54-48_png.rf.afa7ef74f4295b867caf55c282d3ed24.jpg  \n",
            " extracting: train/Captura-de-pantalla-de-2020-09-16-21-54-52_png.rf.d6f33f15a3ed73524f49d27ffa5f2cd2.jpg  \n",
            " extracting: train/Captura-de-pantalla-de-2020-09-16-21-54-55_png.rf.d3a74aaa672514a7d49d7c136260dfe2.jpg  \n",
            " extracting: train/Captura-de-pantalla-de-2020-09-16-21-58-59_png.rf.4a557177dff13b326835e811665876c2.jpg  \n",
            " extracting: train/Captura-de-pantalla-de-2020-09-16-21-59-09_png.rf.84edcb55586430823317a0924b4902d2.jpg  \n",
            " extracting: train/Captura-de-pantalla-de-2020-09-16-21-59-12_png.rf.4a60a9f8262beb8d588a6202da5ad6b9.jpg  \n",
            " extracting: train/Captura-de-pantalla-de-2020-09-16-22-01-06_png.rf.ff7d10db101e1230dd78590d1da0d733.jpg  \n",
            " extracting: train/Captura-de-pantalla-de-2020-09-16-22-01-10_png.rf.2ac3cd4760cd110e0f74ef643088d571.jpg  \n",
            " extracting: train/Captura-de-pantalla-de-2020-09-16-22-01-14_png.rf.9947e37d20c25de78b2abb496d9575d8.jpg  \n",
            " extracting: train/Captura-de-pantalla-de-2020-09-16-22-01-18_png.rf.c32010e176714181d03aeec45ecfe801.jpg  \n",
            " extracting: train/Captura-de-pantalla-de-2020-09-16-22-01-28_png.rf.4d592e22c0408fb5a37653df48bc29a0.jpg  \n",
            " extracting: train/Captura-de-pantalla-de-2020-09-16-22-01-34_png.rf.beb16366033373253850ed57cc795364.jpg  \n",
            " extracting: train/Captura-de-pantalla-de-2020-09-16-22-01-38_png.rf.59b28bbab55b31e01e64d5cd81393064.jpg  \n",
            " extracting: train/Captura-de-pantalla-de-2020-09-16-22-01-44_png.rf.97834905222127d8c40ca9c83f690269.jpg  \n",
            " extracting: train/Captura-de-pantalla-de-2020-09-16-22-01-47_png.rf.def64f1db7f00262220aed6b7475558e.jpg  \n",
            " extracting: train/Captura-de-pantalla-de-2020-09-16-22-01-53_png.rf.dd21b85995951afbeb4b36e29fe8066e.jpg  \n",
            " extracting: train/Captura-de-pantalla-de-2020-09-16-22-01-58_png.rf.983d29965d761caad72c23d18e9b36b6.jpg  \n",
            " extracting: train/Captura-de-pantalla-de-2020-09-16-22-02-40_png.rf.73dfc33edc889cfbe8af0167bc375515.jpg  \n",
            " extracting: train/Captura-de-pantalla-de-2020-09-16-22-02-43_png.rf.a1c295137c1577a55f29c134a0ac9d80.jpg  \n",
            " extracting: train/Captura-de-pantalla-de-2020-09-16-22-03-01_png.rf.a400c01ff6d1c9180172ced6b99b4f5f.jpg  \n",
            " extracting: train/Captura-de-pantalla-de-2020-09-16-22-03-04_png.rf.fcaaebd4c64defae3423c0cb379d4bde.jpg  \n",
            " extracting: train/Captura-de-pantalla-de-2020-09-16-22-03-11_png.rf.c323c97d95f84b42933da3e6a8f4b5ba.jpg  \n",
            " extracting: train/Captura-de-pantalla-de-2020-09-16-22-03-30_png.rf.9f2945940f723efb37ff710f896db1c9.jpg  \n",
            " extracting: train/Captura-de-pantalla-de-2020-09-16-22-04-34_png.rf.6a152efded6b3e64f53f4de9779b2bb8.jpg  \n",
            " extracting: train/Captura-de-pantalla-de-2020-09-16-22-04-38_png.rf.e00183be49829a5c9e9a467a9fb4a9d2.jpg  \n",
            " extracting: train/Captura-de-pantalla-de-2020-09-16-22-05-00_png.rf.bcc04c7904ae015f0320c963f6cec059.jpg  \n",
            " extracting: train/Captura-de-pantalla-de-2020-09-16-22-05-42_png.rf.7592ae8fc1013ea4608b0ac93c20e5ef.jpg  \n",
            " extracting: train/Captura-de-pantalla-de-2020-09-16-22-06-15_png.rf.d61dac37a366a9319ecbb738b9fabf57.jpg  \n",
            " extracting: train/Captura-de-pantalla-de-2020-09-16-22-06-32_png.rf.eed1150b79bc809f5902aff67f9ac134.jpg  \n",
            " extracting: train/Captura-de-pantalla-de-2020-09-16-22-06-36_png.rf.4c634623939b95dd97fe7a8d7a1cb805.jpg  \n",
            " extracting: train/Captura-de-pantalla-de-2020-09-16-22-06-40_png.rf.9b828a927594d96e340968523006d719.jpg  \n",
            " extracting: train/Captura-de-pantalla-de-2020-09-16-22-06-53_png.rf.d5f6dafdb796b3576917ef6821e135ad.jpg  \n",
            " extracting: train/Captura-de-pantalla-de-2020-09-16-22-07-19_png.rf.dd485251604c63d6bf87ae5b58b6eea7.jpg  \n",
            " extracting: train/Captura-de-pantalla-de-2020-09-16-22-07-58_png.rf.fd99700383cbffa92a820e977c6dbb62.jpg  \n",
            " extracting: train/Captura-de-pantalla-de-2020-09-16-22-08-06_png.rf.5bead24f442663586f322ac38b3e7a14.jpg  \n",
            " extracting: train/Captura-de-pantalla-de-2020-09-16-22-08-24_png.rf.4f269850ae551c276373a1a1acc44c14.jpg  \n",
            " extracting: train/Captura-de-pantalla-de-2020-09-16-22-08-30_png.rf.1ee5515b6043044b00fa8f6fbbf8174a.jpg  \n",
            " extracting: train/Captura-de-pantalla-de-2020-09-16-22-09-29_png.rf.2bd58933d1eccea95c3d138b0b57a298.jpg  \n",
            " extracting: train/Captura-de-pantalla-de-2020-09-16-22-09-36_png.rf.9942ff4267e14a2f17b2b907ba95d601.jpg  \n",
            " extracting: train/Captura-de-pantalla-de-2020-09-16-22-10-32_png.rf.975cd95675d224c69cb8b08b7e0a825b.jpg  \n",
            " extracting: train/Captura-de-pantalla-de-2020-09-16-22-17-05_png.rf.0a07eae5e5fe9029e1c57ff995688599.jpg  \n",
            " extracting: train/Captura-de-pantalla-de-2020-09-16-22-17-11_png.rf.f103be62ec62c12928138df193035369.jpg  \n",
            " extracting: train/Captura-de-pantalla-de-2020-09-16-22-19-29_png.rf.5961a0df719e47cb6757cf4caca7c398.jpg  \n",
            " extracting: train/Captura-de-pantalla-de-2020-09-16-22-19-34_png.rf.9e0f7a5df15e9a97e58f41904dbebcb0.jpg  \n",
            " extracting: train/Captura-de-pantalla-de-2020-09-16-22-22-32_png.rf.a01aa7034eb8cb29082b2d395f0703f8.jpg  \n",
            " extracting: train/Captura-de-pantalla-de-2020-09-16-22-24-45_png.rf.d9d2d00301d8b763060a86d3c37bb1a7.jpg  \n",
            " extracting: train/Captura-de-pantalla-de-2020-09-16-22-25-09_png.rf.cb8591cf35ed09c61fa5d4e135b6076e.jpg  \n",
            " extracting: train/Captura-de-pantalla-de-2020-09-16-22-25-55_png.rf.9a5a8c44e437485bf757d6ca66dbe6b0.jpg  \n",
            " extracting: train/Captura-de-pantalla-de-2020-09-16-22-26-23_png.rf.34d420131e7cbe2ff3d62a54a44c0445.jpg  \n",
            " extracting: train/Captura-de-pantalla-de-2020-09-16-22-26-34_png.rf.32256bd7d10a27c3f31255ca425e86d4.jpg  \n",
            " extracting: train/Captura-de-pantalla-de-2020-09-16-22-26-56_png.rf.c6c30f4feb00caf83e3847862ea138af.jpg  \n",
            " extracting: train/Captura-de-pantalla-de-2020-09-16-22-27-00_png.rf.08417652424829e6d49bb78f7649e40e.jpg  \n",
            " extracting: train/Captura-de-pantalla-de-2020-09-16-22-27-17_png.rf.ccf60f32a20530ddab4eb78f1a139ed8.jpg  \n",
            " extracting: train/Captura-de-pantalla-de-2020-09-16-22-27-21_png.rf.c6fb8e517212c039cc77bd5932fec973.jpg  \n",
            " extracting: train/Captura-de-pantalla-de-2020-09-16-22-27-29_png.rf.1192e8bab78b48233667a60fd898876c.jpg  \n",
            " extracting: train/Captura-de-pantalla-de-2020-09-16-22-28-49_png.rf.4289aeb7bfc262e1fb765a72e779b3c9.jpg  \n",
            " extracting: train/Captura-de-pantalla-de-2020-09-16-22-30-21_png.rf.c42a5d2ef21b82432916d40a6ffc790d.jpg  \n",
            " extracting: train/Captura-de-pantalla-de-2020-09-16-22-30-35_png.rf.4ba0477de6e5f7aefa6c50062ca2fb18.jpg  \n",
            " extracting: train/Captura-de-pantalla-de-2020-09-16-22-30-43_png.rf.02792f09d6b556f1830d0bb810b70e74.jpg  \n",
            " extracting: train/Captura-de-pantalla-de-2020-09-16-22-30-46_png.rf.0d4ec950ae1a48c73c85e5c3581b1600.jpg  \n",
            " extracting: train/Captura-de-pantalla-de-2020-09-16-22-31-24_png.rf.6c887d69807b8b86f5b327c0add1de21.jpg  \n",
            " extracting: train/Captura-de-pantalla-de-2020-09-16-22-32-00_png.rf.3b3f83c0d0d024835b909880113fd77a.jpg  \n",
            " extracting: train/Captura-de-pantalla-de-2020-09-16-22-32-07_png.rf.20b27149974117c72c43ffefb652b25c.jpg  \n",
            " extracting: train/Captura-de-pantalla-de-2020-09-16-22-33-07_png.rf.1c3077157b4a488b57ba43359c959abe.jpg  \n",
            " extracting: train/Captura-de-pantalla-de-2020-09-16-22-33-16_png.rf.e4accf9fe6f6237132c6baff83936c05.jpg  \n",
            " extracting: train/Captura-de-pantalla-de-2020-09-16-22-33-22_png.rf.7cfb381323fd5a846a0f74c109235594.jpg  \n",
            " extracting: train/Captura-de-pantalla-de-2020-09-16-22-34-20_png.rf.25d07afa029f54823768c9ae34258091.jpg  \n",
            " extracting: train/Captura-de-pantalla-de-2020-09-16-22-34-59_png.rf.54df3f05b2bbedc988f2f3816c49c17c.jpg  \n",
            " extracting: train/Captura-de-pantalla-de-2020-09-16-22-35-01_png.rf.39e12a69b716b92123e61e1b2fd94854.jpg  \n",
            " extracting: train/Captura-de-pantalla-de-2020-09-16-22-35-56_png.rf.654327088f297cda554cfc6a3ceeb65c.jpg  \n",
            " extracting: train/Captura-de-pantalla-de-2020-09-16-22-36-01_png.rf.01eab33eac6b0db79fe59f7bd68dd42f.jpg  \n",
            " extracting: train/Captura-de-pantalla-de-2020-09-16-22-36-04_png.rf.7153bc594213d8502e59d3cd17f8e00b.jpg  \n",
            " extracting: train/Captura-de-pantalla-de-2020-09-16-22-36-28_png.rf.f8e47a34bb1876105576251a9a233281.jpg  \n",
            " extracting: train/Captura-de-pantalla-de-2020-09-16-22-36-30_png.rf.e0b9974f4b7a325af8092d10cae3cae0.jpg  \n",
            " extracting: train/Captura-de-pantalla-de-2020-09-16-22-36-34_png.rf.bbaad536d9c9d48645a15cdcd8105cf5.jpg  \n",
            " extracting: train/Captura-de-pantalla-de-2020-09-16-22-36-41_png.rf.357bb8655749699eee36261218334b1d.jpg  \n",
            " extracting: train/Captura-de-pantalla-de-2020-09-16-22-36-56_png.rf.56ea4fc37370827ac522b267d71997e3.jpg  \n",
            " extracting: train/Captura-de-pantalla-de-2020-09-16-22-36-59_png.rf.69ee5682002df6d6135907613ebe225b.jpg  \n",
            " extracting: train/Captura-de-pantalla-de-2020-09-16-22-37-17_png.rf.8993a19d13aa122adab38dd3560fd018.jpg  \n",
            " extracting: train/Captura-de-pantalla-de-2020-09-16-22-37-30_png.rf.9e60885c0682a703165059302b3c343f.jpg  \n",
            " extracting: train/Captura-de-pantalla-de-2020-09-16-22-39-19_png.rf.0d8d5abd338b20af58bfbb0d42e6febb.jpg  \n",
            " extracting: train/Captura-de-pantalla-de-2020-09-16-22-39-51_png.rf.6464338400fd8d9b2f2fe8a7b73bce8b.jpg  \n",
            " extracting: train/Captura-de-pantalla-de-2020-09-16-22-42-30_png.rf.74a7d8acf3bfa70807e4e4ad657e5824.jpg  \n",
            " extracting: train/Captura-de-pantalla-de-2020-09-16-22-45-38_png.rf.9f18e0bb9163f563d4d29a0e17ef9502.jpg  \n",
            " extracting: train/Captura-de-pantalla-de-2020-09-16-22-46-16_png.rf.4cf2b6c2a208610bc6b0e3e7cadfbbef.jpg  \n",
            " extracting: train/Captura-de-pantalla-de-2020-09-16-22-46-20_png.rf.5f75306673952189a2f424267aa65e26.jpg  \n",
            " extracting: train/Captura-de-pantalla-de-2020-09-16-22-48-23_png.rf.bc026641821c189df44dbe223686ead0.jpg  \n",
            " extracting: train/Captura-de-pantalla-de-2020-09-16-22-49-02_png.rf.e2c70e1439651ed8b11f0040f00ea815.jpg  \n",
            " extracting: train/Captura-de-pantalla-de-2020-09-16-22-49-07_png.rf.0580b10a4ee5bca19df27ca5fab34731.jpg  \n",
            " extracting: train/Captura-de-pantalla-de-2020-09-16-22-49-14_png.rf.a213c0cb08fc6ce6a4cad39d02a07904.jpg  \n",
            " extracting: train/Captura-de-pantalla-de-2020-09-16-22-50-18_png.rf.5080174bf045af5c8734d60eb25ec4b8.jpg  \n",
            " extracting: train/Captura-de-pantalla-de-2020-09-16-22-51-02_png.rf.2d17e4ffff0d26b044da65689921e981.jpg  \n",
            " extracting: train/Captura-de-pantalla-de-2020-09-16-22-51-05_png.rf.fc72811c9f4aa4fdb29169f0f0f874f8.jpg  \n",
            " extracting: train/Captura-de-pantalla-de-2020-09-16-22-51-25_png.rf.3a08d3924d1d3bea8dde73648830d10f.jpg  \n",
            " extracting: train/Captura-de-pantalla-de-2020-09-16-22-51-35_png.rf.9cf425d3bfe2bf10d17cc756a4959ed6.jpg  \n",
            " extracting: train/Captura-de-pantalla-de-2020-09-16-22-52-06_png.rf.404ccc90f92ea10ba32841a2be8e67f2.jpg  \n",
            " extracting: train/Captura-de-pantalla-de-2020-09-16-22-52-13_png.rf.387e1739510ce52c4304af01e2bf9e05.jpg  \n",
            " extracting: train/Captura-de-pantalla-de-2020-09-16-22-52-17_png.rf.9277e3cb8504367a462af36523e701d5.jpg  \n",
            " extracting: train/Captura-de-pantalla-de-2020-09-16-22-52-23_png.rf.2e3ea40d4b619cad8dba1bb13c019161.jpg  \n",
            " extracting: train/Captura-de-pantalla-de-2020-09-16-22-52-30_png.rf.6bbda5f552b5faf6f4da6ecf58d74231.jpg  \n",
            " extracting: train/Captura-de-pantalla-de-2020-09-16-22-52-34_png.rf.9d9cbe4895171a7af9b0a409b093ab1a.jpg  \n",
            " extracting: train/Captura-de-pantalla-de-2020-09-16-22-58-24_png.rf.d017be4887add23b4670a81011a28ef1.jpg  \n",
            " extracting: train/Captura-de-pantalla-de-2020-09-16-22-58-31_png.rf.b772d644d2354b0b2138f91ff9f233b4.jpg  \n",
            " extracting: train/Captura-de-pantalla-de-2020-09-16-22-58-44_png.rf.3de8f17b84cf91b4186abd85340402a1.jpg  \n",
            " extracting: train/Captura-de-pantalla-de-2020-09-16-22-58-57_png.rf.f02929440e5fe0649762bef0e83b1684.jpg  \n",
            " extracting: train/Captura-de-pantalla-de-2020-09-16-22-59-01_png.rf.d280ca09b24d0ef002e1f0a3fad48890.jpg  \n",
            " extracting: train/Captura-de-pantalla-de-2020-09-16-22-59-11_png.rf.69635f044ae8d1bb9f3cbea0a1bdc7ee.jpg  \n",
            " extracting: train/Captura-de-pantalla-de-2020-09-16-22-59-39_png.rf.58600ef6841eaadcce6fbc714ed8e2a3.jpg  \n",
            " extracting: train/Captura-de-pantalla-de-2020-09-16-22-59-52_png.rf.c4a8973d46a246a0a29d06ccadd40223.jpg  \n",
            " extracting: train/Captura-de-pantalla-de-2020-09-16-23-00-19_png.rf.64381a883ab357814ddfac0c019ee618.jpg  \n",
            " extracting: train/Captura-de-pantalla-de-2020-09-16-23-00-29_png.rf.241b09b391db67147ed2bf89ac8defbf.jpg  \n",
            " extracting: train/Captura-de-pantalla-de-2020-09-16-23-00-32_png.rf.8e2892d7623ec24aee389f0210b5e87b.jpg  \n",
            " extracting: train/Captura-de-pantalla-de-2020-09-16-23-00-40_png.rf.c31ea6c94d9a3e9eb8b263253c2dabf6.jpg  \n",
            " extracting: train/Captura-de-pantalla-de-2020-09-16-23-01-14_png.rf.560187d4cc605cd8856252cfadd2c2e8.jpg  \n",
            " extracting: train/Captura-de-pantalla-de-2020-09-16-23-01-48_png.rf.72da4e4fef63b3773cb838e27c7ad989.jpg  \n",
            " extracting: train/Captura-de-pantalla-de-2020-09-16-23-01-52_png.rf.bf24518ad27a8b22bdbca1e5472eba8b.jpg  \n",
            " extracting: train/Captura-de-pantalla-de-2020-09-16-23-02-00_png.rf.d1402a690b9f292ff7689352df982a00.jpg  \n",
            " extracting: train/Captura-de-pantalla-de-2020-09-16-23-02-13_png.rf.ffb31af9156cdc8dfe229b9854416dfc.jpg  \n",
            " extracting: train/Captura-de-pantalla-de-2020-09-16-23-02-38_png.rf.710d0b7a749888f822b9452ffe2b17d7.jpg  \n",
            " extracting: train/Captura-de-pantalla-de-2020-09-16-23-05-21_png.rf.a18dd9aa81a1bba25901c2dd9d8ce633.jpg  \n",
            " extracting: train/Captura-de-pantalla-de-2020-09-16-23-05-25_png.rf.ce6b2f4b19feb0ea4b0b63013bbb68c3.jpg  \n",
            " extracting: train/Captura-de-pantalla-de-2020-09-16-23-05-32_png.rf.887a2cc93096c2658faedb8c96f4692c.jpg  \n",
            " extracting: train/Captura-de-pantalla-de-2020-09-16-23-06-27_png.rf.5423d6adc5bfccd9380f6800fa2c1cce.jpg  \n",
            " extracting: train/Captura-de-pantalla-de-2020-09-16-23-06-31_png.rf.2ffdecb3c10cbddfcbe61cdb790e6d61.jpg  \n",
            " extracting: train/Captura-de-pantalla-de-2020-09-16-23-06-34_png.rf.38b173c7de47339029d532eb6d836cb2.jpg  \n",
            " extracting: train/Captura-de-pantalla-de-2020-09-16-23-07-26_png.rf.59e09013d91914b2144677039038f447.jpg  \n",
            " extracting: train/Captura-de-pantalla-de-2020-09-16-23-07-29_png.rf.6b8d9bc39557f9b315b2b5af8880b712.jpg  \n",
            " extracting: train/Captura-de-pantalla-de-2020-09-16-23-07-37_png.rf.a7b5ca59d288b1844df1f8bf15d12e81.jpg  \n",
            " extracting: train/Captura-de-pantalla-de-2020-09-16-23-07-55_png.rf.a804be53e4997d81177ea883f40b0c41.jpg  \n",
            " extracting: train/Captura-de-pantalla-de-2020-09-16-23-08-10_png.rf.e97a42b887b85842643199d56cd133ad.jpg  \n",
            " extracting: train/Captura-de-pantalla-de-2020-09-16-23-09-30_png.rf.3b8208902481588be5da368c2ecf20a5.jpg  \n",
            " extracting: train/Captura-de-pantalla-de-2020-09-16-23-11-29_png.rf.8d71cd1b5445cc3c98c3c04f221dc495.jpg  \n",
            " extracting: train/Captura-de-pantalla-de-2020-09-16-23-11-40_png.rf.36b1f1813eb74ddd734f314fda92f729.jpg  \n",
            " extracting: train/Captura-de-pantalla-de-2020-09-16-23-11-44_png.rf.f8fff66c5492e16f86c2e767e3eabca9.jpg  \n",
            " extracting: train/Captura-de-pantalla-de-2020-09-16-23-11-56_png.rf.98885bbe08ef8f5608853f088e18febf.jpg  \n",
            " extracting: train/Captura-de-pantalla-de-2020-09-16-23-15-23_png.rf.63037821140c6205d33465caad3093d6.jpg  \n",
            " extracting: train/Captura-de-pantalla-de-2020-09-16-23-15-27_png.rf.5b837d011cc8dd7fc4130fd2d55f6f4e.jpg  \n",
            " extracting: train/Captura-de-pantalla-de-2020-09-16-23-15-31_png.rf.fa6b3845571042800ad8a09e4de0ea58.jpg  \n",
            " extracting: train/Captura-de-pantalla-de-2020-09-16-23-15-40_png.rf.f0ac76cb00c56553b19378dc5eba4783.jpg  \n",
            " extracting: train/Captura-de-pantalla-de-2020-09-16-23-16-17_png.rf.ac47bc329738a635b486df86f08e1f5b.jpg  \n",
            " extracting: train/Captura-de-pantalla-de-2020-09-16-23-17-19_png.rf.8f2903532f05b4b26fa39925b6336626.jpg  \n",
            " extracting: train/Captura-de-pantalla-de-2020-09-17-00-06-39_png.rf.e91a4e1ffdfc166fb9a32028d0b40289.jpg  \n",
            " extracting: train/Captura-de-pantalla-de-2020-09-17-00-21-38_png.rf.0553502f4bede1ed2da4b6259d90d968.jpg  \n",
            " extracting: train/Captura-de-pantalla-de-2020-09-17-00-22-58_png.rf.671b2096b7fb57c047aa81cbf703aa51.jpg  \n",
            " extracting: train/Captura-de-pantalla-de-2020-09-17-00-22-59_png.rf.927b74bd1dfe96d2085e1da27aa755c6.jpg  \n",
            " extracting: train/Captura-de-pantalla-de-2020-09-17-00-23-02_png.rf.8cd2a0f488e4c45ad0846e6702a8688f.jpg  \n",
            " extracting: train/Captura-de-pantalla-de-2020-09-17-00-23-09_png.rf.9ae2a8222e27984204a664bb90ebd0e0.jpg  \n",
            " extracting: train/Captura-de-pantalla-de-2020-09-17-00-33-01_png.rf.beeea43fedb6e22fce74fb42db829623.jpg  \n",
            " extracting: train/Captura-de-pantalla-de-2020-09-17-00-38-22_png.rf.56191f973903f78e083d5a572a95c567.jpg  \n",
            " extracting: train/Captura-de-pantalla-de-2020-09-17-00-38-42_png.rf.430da50db41a67a52273daf5ff1fd4fa.jpg  \n",
            " extracting: train/Captura-de-pantalla-de-2020-09-17-00-38-43_png.rf.d2206b1dc0e3f146bc9295a11f4622aa.jpg  \n",
            " extracting: train/Captura-de-pantalla-de-2020-09-17-00-38-46_png.rf.60d7247ecc0b519cbb929a5afc207c01.jpg  \n",
            " extracting: train/Captura-de-pantalla-de-2020-09-17-00-40-22_png.rf.9f0604cfb35afac47b667d06ec46beca.jpg  \n",
            " extracting: train/Captura-de-pantalla-de-2020-09-17-00-42-09_png.rf.2fcc28b7595663bec13fcd3c00e522b6.jpg  \n",
            " extracting: train/Captura-de-pantalla-de-2020-09-17-00-42-11_png.rf.8b7c40678566cafa151fade7e7ee5c55.jpg  \n",
            " extracting: train/Captura-de-pantalla-de-2020-09-17-00-42-13_png.rf.8cfe591f061cf7121db279509e07bdbc.jpg  \n",
            " extracting: train/Captura-de-pantalla-de-2020-09-17-00-42-27_png.rf.ba12642701a1255045a5a42e57659562.jpg  \n",
            " extracting: train/Captura-de-pantalla-de-2020-09-17-00-42-44_png.rf.63e3717e3d8d05a31972388de91c456d.jpg  \n",
            " extracting: train/Captura-de-pantalla-de-2020-09-17-00-42-47_png.rf.5dd8473d7bf64a4f4f29216b543a81e3.jpg  \n",
            " extracting: train/Captura-de-pantalla-de-2020-09-17-00-42-51_png.rf.7bafded44d14667e9cc11668f41ace1f.jpg  \n",
            " extracting: train/Captura-de-pantalla-de-2020-09-17-00-52-02_png.rf.7cbfd6e32a0a413dcc14131f0a884c08.jpg  \n",
            " extracting: train/Captura-de-pantalla-de-2020-09-17-00-52-03_png.rf.d97fae54933b2aa53b7f7fe0c4300798.jpg  \n",
            " extracting: train/Captura-de-pantalla-de-2020-09-17-00-53-04_png.rf.48d2eb65e45a494075aba32e43f32fa7.jpg  \n",
            " extracting: train/Captura-de-pantalla-de-2020-09-17-00-53-18_png.rf.de92d34bf31b31c127de7696671f8bb8.jpg  \n",
            " extracting: train/Captura-de-pantalla-de-2020-09-17-00-54-09_png.rf.ce368cad4522db2ca6d9141b22854775.jpg  \n",
            " extracting: train/Captura-de-pantalla-de-2020-09-17-00-55-28_png.rf.b080e872f3a8b567a93a4db21c91472e.jpg  \n",
            " extracting: train/Captura-de-pantalla-de-2020-09-17-00-55-29_png.rf.8bcab320296b8bcde89d6ddc1f37398f.jpg  \n",
            " extracting: train/Captura-de-pantalla-de-2020-09-17-00-55-31_png.rf.928723ebc6fd43ddd4b55775d1ce0655.jpg  \n",
            " extracting: train/Captura-de-pantalla-de-2020-09-17-00-57-18_png.rf.244df8ca276b13f3761dec6298cdafca.jpg  \n",
            " extracting: train/Captura-de-pantalla-de-2020-09-17-00-57-19_png.rf.d2295e43a03cfbeddadb2c7327866006.jpg  \n",
            " extracting: train/Captura-de-pantalla-de-2020-09-17-00-57-41_png.rf.b0645326ef31e211caf2ca571c6c233b.jpg  \n",
            " extracting: train/Captura-de-pantalla-de-2020-09-17-00-57-44_png.rf.0e239dd99e1eee0dce576ea9306a4ff2.jpg  \n",
            " extracting: train/Captura-de-pantalla-de-2020-09-17-00-57-47_png.rf.3667a2b6576c89e6535ddb4358b693dd.jpg  \n",
            " extracting: train/Captura-de-pantalla-de-2020-09-17-01-00-13_png.rf.affea171468eb33a144b4e064da82c7e.jpg  \n",
            " extracting: train/Captura-de-pantalla-de-2020-09-17-01-00-23_png.rf.be2f09b8f78317f793fbd1057fdeae3c.jpg  \n",
            " extracting: train/Captura-de-pantalla-de-2020-09-17-01-43-23_png.rf.4ff20dfb31074bc609131a625a954d74.jpg  \n",
            " extracting: train/Captura-de-pantalla-de-2020-09-17-01-43-24_png.rf.20cc02343ef95b3aa8a41fc6cc1a4b1a.jpg  \n",
            " extracting: train/Captura-de-pantalla-de-2020-09-17-02-36-25_png.rf.77f45f146e199536210bfc1d3e784ab8.jpg  \n",
            " extracting: train/Captura-de-pantalla-de-2020-09-17-02-40-00_png.rf.4f3eb299ffcecab86497152057b452c2.jpg  \n",
            " extracting: train/Captura-de-pantalla-de-2020-09-17-02-40-24_png.rf.beb1e1f7120db8970d614222850c3127.jpg  \n",
            " extracting: train/Captura-de-pantalla-de-2020-09-17-02-40-37_png.rf.9d81241d1c97b50be9799247d5828f4a.jpg  \n",
            " extracting: train/Captura-de-pantalla-de-2020-09-17-02-40-40_png.rf.c6aee6cf7ec44029d9bbc847e5aa4068.jpg  \n",
            " extracting: train/Captura-de-pantalla-de-2020-09-17-02-40-50_png.rf.4e43ce912f34aaf2efaace0a4bd42b75.jpg  \n",
            " extracting: train/Captura-de-pantalla-de-2020-09-17-02-41-30_png.rf.e3700c1f480b66849ce5abff29920769.jpg  \n",
            " extracting: train/Captura-de-pantalla-de-2020-09-17-02-41-35_png.rf.521c2fdeb6f764603bbfacc598f19ed1.jpg  \n",
            " extracting: train/Captura-de-pantalla-de-2020-09-17-02-41-52_png.rf.50411fd997d2e19cf8d16323cb479cc1.jpg  \n",
            " extracting: train/Captura-de-pantalla-de-2020-09-17-02-43-11_png.rf.3bab3830e4182497023e101bc40195eb.jpg  \n",
            " extracting: train/Captura-de-pantalla-de-2020-09-17-02-52-46_png.rf.f2159fdd7b07ff1ac3d765ed13d962b9.jpg  \n",
            " extracting: train/Captura-de-pantalla-de-2020-09-17-03-20-33_png.rf.d558a9060b550f7929913a6520a9eae0.jpg  \n",
            " extracting: train/Captura-de-pantalla-de-2020-09-17-03-23-24_png.rf.22c049427896060e162413538a45ce1e.jpg  \n",
            " extracting: train/Captura-de-pantalla-de-2020-09-17-03-23-26_png.rf.9a8ac8ca6bfac88e4fe6096601baa108.jpg  \n",
            " extracting: train/Captura-de-pantalla-de-2020-09-17-03-23-32_png.rf.21c0b2ddb12254ea5eb760e03adc7ac4.jpg  \n",
            " extracting: train/Captura-de-pantalla-de-2020-09-17-03-23-40_png.rf.ade3977c2f7b2ef05c82c3ff1dcaa7c9.jpg  \n",
            " extracting: train/Captura-de-pantalla-de-2020-09-17-03-24-22_png.rf.6e61602c94ec7fcbbc3ad2aab780f670.jpg  \n",
            " extracting: train/Captura-de-pantalla-de-2020-09-17-03-24-35_png.rf.71a21df553069bebf4d4c3c9bbf2f20e.jpg  \n",
            " extracting: train/Captura-de-pantalla-de-2020-09-17-03-27-24_png.rf.192eaa53cee04048ba1a77ad96be7e1c.jpg  \n",
            " extracting: train/Captura-de-pantalla-de-2020-09-17-03-27-30_png.rf.2cffd46412ee0446ec3231d19f753c01.jpg  \n",
            " extracting: train/Captura-de-pantalla-de-2020-09-17-03-27-48_png.rf.cc168b04889661fd20b4434a25efa935.jpg  \n",
            " extracting: train/Captura-de-pantalla-de-2020-09-17-03-28-10_png.rf.5f505a9bcf024635f59895793c604fbe.jpg  \n",
            " extracting: train/Captura-de-pantalla-de-2020-09-17-03-50-23_png.rf.fead86e8430616ddf122eb73170ad4f6.jpg  \n",
            " extracting: train/Captura-de-pantalla-de-2020-09-17-03-54-47_png.rf.1fb027642bbf4c7ea6f70b4ede7117bc.jpg  \n",
            " extracting: train/Captura-de-pantalla-de-2020-09-17-03-56-46_png.rf.24085653f7bcad2784fa1b4977e8ccfe.jpg  \n",
            " extracting: train/Captura-de-pantalla-de-2020-09-17-03-59-37_png.rf.b67332d74ad7925d525fb9bf9e361023.jpg  \n",
            " extracting: train/Captura-de-pantalla-de-2020-09-17-04-01-14_png.rf.524ea3ea9972511e900d518802ab8c16.jpg  \n",
            " extracting: train/Captura-de-pantalla-de-2020-09-17-04-01-20_png.rf.ebc6ec87ce99285defa0bfe930a281d0.jpg  \n",
            " extracting: train/Captura-de-pantalla-de-2020-09-17-04-02-10_png.rf.1b08d93541e6217cc3416f35be91abb9.jpg  \n",
            " extracting: train/Captura-de-pantalla-de-2020-09-17-04-02-33_png.rf.42190b214202b1554e842c8e9705f847.jpg  \n",
            " extracting: train/Captura-de-pantalla-de-2020-09-17-04-02-39_png.rf.85e647d88f2ae5c833af77d1f018068a.jpg  \n",
            " extracting: train/Captura-de-pantalla-de-2020-09-17-04-05-11_png.rf.107fe285ea83d539e32d63686550586f.jpg  \n",
            " extracting: train/Captura-de-pantalla-de-2020-09-17-04-05-14_png.rf.bc2b31bba859ea919b2587c49f08a1ca.jpg  \n",
            " extracting: train/Captura-de-pantalla-de-2020-09-17-04-06-53_png.rf.6942b85b5d54a13e0e6f5c0e76aa1f30.jpg  \n",
            " extracting: train/Captura-de-pantalla-de-2020-09-17-04-07-37_png.rf.d239479af506145b6c7837a07021b018.jpg  \n",
            " extracting: train/Captura-de-pantalla-de-2020-09-17-04-08-16_png.rf.ad92c9b1f8cbe843f2ac8734f5a16e5b.jpg  \n",
            " extracting: train/Captura-de-pantalla-de-2020-09-17-04-10-18_png.rf.173103310c07006f94a960680d538c07.jpg  \n",
            " extracting: train/Captura-de-pantalla-de-2020-09-17-04-11-07_png.rf.56bfa665a14165894c41b221874453aa.jpg  \n",
            " extracting: train/Captura-de-pantalla-de-2020-09-17-04-11-36_png.rf.62c049272f16ae9fa5bb9a4fb1c2734a.jpg  \n",
            " extracting: train/Captura-de-pantalla-de-2020-09-17-04-11-53_png.rf.c00d582690bac1f28afbb4808a239346.jpg  \n",
            " extracting: train/Captura-de-pantalla-de-2020-09-18-13-18-55_png.rf.d4fad36ea4a3bc391e4d891d9589da45.jpg  \n",
            " extracting: train/Captura-de-pantalla-de-2020-09-18-13-19-33_png.rf.b046aedcdcc50b31d49c89e565afcfa2.jpg  \n",
            " extracting: train/Captura-de-pantalla-de-2020-09-18-13-19-41_png.rf.cdd6bdf596fe507c7979638a6fda2da1.jpg  \n",
            " extracting: train/Captura-de-pantalla-de-2020-09-18-13-19-42_png.rf.2b8397fc50086a0336721abfe7bcc26f.jpg  \n",
            " extracting: train/Captura-de-pantalla-de-2020-09-18-13-20-01_png.rf.f58ffb13c977d2b5b2e1a26939d5f6fe.jpg  \n",
            " extracting: train/Captura-de-pantalla-de-2020-09-18-13-20-03_png.rf.f92f25d9b9939a217b4899d723a51c11.jpg  \n",
            " extracting: train/Captura-de-pantalla-de-2020-09-18-13-20-32_png.rf.81885184d5c25fbc6669cc38c57aa1bc.jpg  \n",
            " extracting: train/Captura-de-pantalla-de-2020-09-18-13-56-44_png.rf.da2360dee8d13212706af08b4d33338b.jpg  \n",
            " extracting: train/Captura-de-pantalla-de-2020-09-18-13-57-25_png.rf.85625a9b4a20de451501e07079a32421.jpg  \n",
            " extracting: train/Captura-de-pantalla-de-2020-09-18-14-02-56_png.rf.d90853e7e9cd7ac37da606fb8a27c33b.jpg  \n",
            " extracting: train/Captura-de-pantalla-de-2020-09-18-14-07-21_png.rf.5bea60d8a2e03653931eba67e9c290a0.jpg  \n",
            " extracting: train/Captura-de-pantalla-de-2020-09-18-14-07-23_png.rf.f0ec636cbea9c70385dcca876d4b17a8.jpg  \n",
            " extracting: train/Captura-de-pantalla-de-2020-09-18-14-24-26_png.rf.a160f7a38497539d640929cf26018d57.jpg  \n",
            " extracting: train/Captura-de-pantalla-de-2020-09-18-14-24-43_png.rf.ebb06a088fda100d7cb13134c4920851.jpg  \n",
            " extracting: train/Captura-de-pantalla-de-2020-09-18-14-26-24_png.rf.edc985e1b228d6308059641c978734ed.jpg  \n",
            " extracting: train/Captura-de-pantalla-de-2020-09-18-14-26-30_png.rf.ba08955cb55ce07ef464593b6bac5104.jpg  \n",
            " extracting: train/Captura-de-pantalla-de-2020-09-18-14-26-34_png.rf.39ea270c376fd63064cd5237c46af735.jpg  \n",
            " extracting: train/Captura-de-pantalla-de-2020-09-18-14-29-28_png.rf.6c8a54a17b6b0712398e5fe47a84fa96.jpg  \n",
            " extracting: train/Captura-de-pantalla-de-2020-09-18-14-29-54_png.rf.f2db304f057ec619389e91cc7159dacf.jpg  \n",
            " extracting: train/Captura-de-pantalla-de-2020-09-18-14-33-44_png.rf.75b8b05d9f9d3cdf11cf59cadf6c9d0c.jpg  \n",
            " extracting: train/Captura-de-pantalla-de-2020-09-18-14-34-55_png.rf.497ac54615f909e4e63cd028bd6c3f20.jpg  \n",
            " extracting: train/Captura-de-pantalla-de-2020-09-18-14-35-00_png.rf.c54ee43f9aa72fefc061b180bc3366c9.jpg  \n",
            " extracting: train/Captura-de-pantalla-de-2020-09-18-14-35-42_png.rf.a9ce77b72546cd0b574c03258b8a50c9.jpg  \n",
            " extracting: train/Captura-de-pantalla-de-2020-09-18-14-36-49_png.rf.4733d5a8533f341a6668f7177ec0169d.jpg  \n",
            " extracting: train/Captura-de-pantalla-de-2020-09-18-14-38-42_png.rf.97968c19a1d7e74c3f222d5959dcd043.jpg  \n",
            " extracting: train/Captura-de-pantalla-de-2020-09-18-14-39-06_png.rf.3494ff63dbfb2367ad87fc88c1bd0274.jpg  \n",
            " extracting: train/Captura-de-pantalla-de-2020-09-18-14-41-42_png.rf.9b45da4c51f210b7ed73179201e7d11a.jpg  \n",
            " extracting: train/Captura-de-pantalla-de-2020-09-18-14-42-21_png.rf.56565fa4703a77b595063b91535208ce.jpg  \n",
            " extracting: train/_annotations.coco.json  \n",
            "   creating: valid/\n",
            " extracting: valid/Captura-de-pantalla-de-2020-09-16-21-31-12_png.rf.ec9ab136d8bf25276ad5c603161b5e27.jpg  \n",
            " extracting: valid/Captura-de-pantalla-de-2020-09-16-21-47-49_png.rf.7ada4c9b48169aa7edf5684733009652.jpg  \n",
            " extracting: valid/Captura-de-pantalla-de-2020-09-16-21-48-48_png.rf.6132d3905c13be75a9f5cb483841b9c2.jpg  \n",
            " extracting: valid/Captura-de-pantalla-de-2020-09-16-21-49-19_png.rf.155251c72dec86fc8d8de9410c9328ad.jpg  \n",
            " extracting: valid/Captura-de-pantalla-de-2020-09-16-21-49-22_png.rf.2e7cda1cf3516ce22e84fc5d61f22f52.jpg  \n",
            " extracting: valid/Captura-de-pantalla-de-2020-09-16-21-51-43_png.rf.61cc1df88d00535ff7cb51554572074b.jpg  \n",
            " extracting: valid/Captura-de-pantalla-de-2020-09-16-21-51-54_png.rf.5fbe57d1231177301a943f053c23b666.jpg  \n",
            " extracting: valid/Captura-de-pantalla-de-2020-09-16-21-52-12_png.rf.65f0955aa4a3fd0024e7eba3787fb7f5.jpg  \n",
            " extracting: valid/Captura-de-pantalla-de-2020-09-16-21-53-10_png.rf.7ae0aea3f6b9525c636bb7007ece66a2.jpg  \n",
            " extracting: valid/Captura-de-pantalla-de-2020-09-16-21-54-08_png.rf.3dde1a2f62f913522f29c50f6871b883.jpg  \n",
            " extracting: valid/Captura-de-pantalla-de-2020-09-16-21-58-55_png.rf.ac5106318ff1af7a5f2a10a4a4d68674.jpg  \n",
            " extracting: valid/Captura-de-pantalla-de-2020-09-16-21-59-30_png.rf.2d30160279736e8ac9fa1229a5c83915.jpg  \n",
            " extracting: valid/Captura-de-pantalla-de-2020-09-16-22-01-24_png.rf.2508099808908db5759acdbae776ffe1.jpg  \n",
            " extracting: valid/Captura-de-pantalla-de-2020-09-16-22-01-41_png.rf.c4beccbfd782473005fec5b7fc7897e7.jpg  \n",
            " extracting: valid/Captura-de-pantalla-de-2020-09-16-22-02-34_png.rf.606010baafab2f79d122daf7209b4a4c.jpg  \n",
            " extracting: valid/Captura-de-pantalla-de-2020-09-16-22-02-51_png.rf.41235340b615d2ba46fe694c6619be15.jpg  \n",
            " extracting: valid/Captura-de-pantalla-de-2020-09-16-22-02-57_png.rf.243de1c9e9b49a53ed2f5fa6c693b32d.jpg  \n",
            " extracting: valid/Captura-de-pantalla-de-2020-09-16-22-03-54_png.rf.10014d696933be48c9dd8cf9b9a14e3e.jpg  \n",
            " extracting: valid/Captura-de-pantalla-de-2020-09-16-22-04-14_png.rf.c4ccff5c5baa12d714908e969bcf4728.jpg  \n",
            " extracting: valid/Captura-de-pantalla-de-2020-09-16-22-06-18_png.rf.f28b9a2a1a4be344c7591f1d93631c34.jpg  \n",
            " extracting: valid/Captura-de-pantalla-de-2020-09-16-22-06-28_png.rf.57adef38b5035d6c220544a309269247.jpg  \n",
            " extracting: valid/Captura-de-pantalla-de-2020-09-16-22-06-47_png.rf.0a27a7cf70f3f2ac1ed03d3fe56c02aa.jpg  \n",
            " extracting: valid/Captura-de-pantalla-de-2020-09-16-22-07-00_png.rf.c28f27cc986e90257b41d5386e0f02dd.jpg  \n",
            " extracting: valid/Captura-de-pantalla-de-2020-09-16-22-07-13_png.rf.6da4186638df2e6c25875c2c1293e5e8.jpg  \n",
            " extracting: valid/Captura-de-pantalla-de-2020-09-16-22-07-16_png.rf.64e5f07f3fba7d8720c005d17ca1c6e1.jpg  \n",
            " extracting: valid/Captura-de-pantalla-de-2020-09-16-22-07-23_png.rf.ebe9f9204aaf5dfb050768fe2792c73d.jpg  \n",
            " extracting: valid/Captura-de-pantalla-de-2020-09-16-22-09-25_png.rf.23620bbcae886f33fca176ff506dc649.jpg  \n",
            " extracting: valid/Captura-de-pantalla-de-2020-09-16-22-09-39_png.rf.4f31b1ff9baba89e30164c8a61f72e0e.jpg  \n",
            " extracting: valid/Captura-de-pantalla-de-2020-09-16-22-22-35_png.rf.a49c77617f0feaf091f252c0e0696b99.jpg  \n",
            " extracting: valid/Captura-de-pantalla-de-2020-09-16-22-24-48_png.rf.51038715072fa42c365bb7cca8a8cd97.jpg  \n",
            " extracting: valid/Captura-de-pantalla-de-2020-09-16-22-25-21_png.rf.8070147dd154eddc4fbbcfe4c6ee2d46.jpg  \n",
            " extracting: valid/Captura-de-pantalla-de-2020-09-16-22-26-29_png.rf.988e930426f2c332af39b35b7dda14c0.jpg  \n",
            " extracting: valid/Captura-de-pantalla-de-2020-09-16-22-26-42_png.rf.fce8deb0b406d80505767efb5f804ebd.jpg  \n",
            " extracting: valid/Captura-de-pantalla-de-2020-09-16-22-30-17_png.rf.a6f11172c93e64879f2de6172898d717.jpg  \n",
            " extracting: valid/Captura-de-pantalla-de-2020-09-16-22-31-14_png.rf.b970e876e692e491b4e6216b4342e3ae.jpg  \n",
            " extracting: valid/Captura-de-pantalla-de-2020-09-16-22-34-33_png.rf.876da980d0ea132a75edfb231f91d85d.jpg  \n",
            " extracting: valid/Captura-de-pantalla-de-2020-09-16-22-34-56_png.rf.9361135e91782806a54523b3b366917b.jpg  \n",
            " extracting: valid/Captura-de-pantalla-de-2020-09-16-22-35-07_png.rf.6edbbab7e3105ed484838caca46ae7d7.jpg  \n",
            " extracting: valid/Captura-de-pantalla-de-2020-09-16-22-37-22_png.rf.21a616b1e243bcc0be950006b7e53ca5.jpg  \n",
            " extracting: valid/Captura-de-pantalla-de-2020-09-16-22-48-18_png.rf.a8da409ad8ebbcb7f2428f63137b3424.jpg  \n",
            " extracting: valid/Captura-de-pantalla-de-2020-09-16-22-59-17_png.rf.0c5175573b861d7bfd05c532633ddb9b.jpg  \n",
            " extracting: valid/Captura-de-pantalla-de-2020-09-16-22-59-48_png.rf.cfeab3662e889f1fbbef9154c2d6ba2c.jpg  \n",
            " extracting: valid/Captura-de-pantalla-de-2020-09-16-23-00-26_png.rf.108874cc2d9ee36c9067b46a14f14492.jpg  \n",
            " extracting: valid/Captura-de-pantalla-de-2020-09-16-23-05-14_png.rf.b5df75bbea297e69230d575db0a86ca1.jpg  \n",
            " extracting: valid/Captura-de-pantalla-de-2020-09-16-23-08-39_png.rf.e6f55460a1c3aa65a6cce775968e83f7.jpg  \n",
            " extracting: valid/Captura-de-pantalla-de-2020-09-16-23-08-51_png.rf.22aa21483956c41c89a29b24fe16d69c.jpg  \n",
            " extracting: valid/Captura-de-pantalla-de-2020-09-16-23-11-33_png.rf.7c253cfcdaed861a3bdaa1c9b37543f9.jpg  \n",
            " extracting: valid/Captura-de-pantalla-de-2020-09-16-23-16-23_png.rf.3657b5b07032a195d489dac7e862b28c.jpg  \n",
            " extracting: valid/Captura-de-pantalla-de-2020-09-17-00-21-44_png.rf.56b62448fc9772ddce675a6c03f0f7ef.jpg  \n",
            " extracting: valid/Captura-de-pantalla-de-2020-09-17-00-32-21_png.rf.5212b0e8aaf3d74bfa5bb4e07f0e1547.jpg  \n",
            " extracting: valid/Captura-de-pantalla-de-2020-09-17-00-32-22_png.rf.6f7809e0169bbc1cece1ad68d5d0eada.jpg  \n",
            " extracting: valid/Captura-de-pantalla-de-2020-09-17-00-32-25_png.rf.e0ec83ff1d5004c3b6bde6a771eba772.jpg  \n",
            " extracting: valid/Captura-de-pantalla-de-2020-09-17-00-42-15_png.rf.901ac59b8da5f256da4ac8407c42c5d2.jpg  \n",
            " extracting: valid/Captura-de-pantalla-de-2020-09-17-00-42-43_png.rf.6c29807e473b057a79ffe53184913697.jpg  \n",
            " extracting: valid/Captura-de-pantalla-de-2020-09-17-00-42-49_png.rf.1644d2ce76bdb0d30037e8ca642d82b2.jpg  \n",
            " extracting: valid/Captura-de-pantalla-de-2020-09-17-00-54-44_png.rf.3aa06121531915cb9274c6c01b1a082c.jpg  \n",
            " extracting: valid/Captura-de-pantalla-de-2020-09-17-00-54-49_png.rf.9ad8110f83f4dc45b84c374b013be90b.jpg  \n",
            " extracting: valid/Captura-de-pantalla-de-2020-09-17-00-57-43_png.rf.c4a22f6510617d47098a0ef0479979f8.jpg  \n",
            " extracting: valid/Captura-de-pantalla-de-2020-09-17-02-31-12_png.rf.bfc30c967129ad9482c0a5c0ab5b074a.jpg  \n",
            " extracting: valid/Captura-de-pantalla-de-2020-09-17-02-31-51_png.rf.4d2af9e6cedc629ee99e20f11358b789.jpg  \n",
            " extracting: valid/Captura-de-pantalla-de-2020-09-17-02-32-22_png.rf.54db2ef86c0091d1c3a648c75f97e028.jpg  \n",
            " extracting: valid/Captura-de-pantalla-de-2020-09-17-02-35-08_png.rf.fd98e90e8e6734696a1177023fadb031.jpg  \n",
            " extracting: valid/Captura-de-pantalla-de-2020-09-17-02-39-54_png.rf.70bb0a665ee3fedcef8a1e56429a9292.jpg  \n",
            " extracting: valid/Captura-de-pantalla-de-2020-09-17-02-40-29_png.rf.737c1e6427a70d65dd3ddb7d2d573fba.jpg  \n",
            " extracting: valid/Captura-de-pantalla-de-2020-09-17-02-41-01_png.rf.4eda052bc1f9e12008f27e1c5d6a1e6d.jpg  \n",
            " extracting: valid/Captura-de-pantalla-de-2020-09-17-03-23-34_png.rf.a80b98df3988b782dcd477b074c964f6.jpg  \n",
            " extracting: valid/Captura-de-pantalla-de-2020-09-17-03-23-37_png.rf.4bf72af4c3eaac9cce323fec2255f883.jpg  \n",
            " extracting: valid/Captura-de-pantalla-de-2020-09-17-03-26-12_png.rf.43fa11f54630cb6fc65f077a725edd2a.jpg  \n",
            " extracting: valid/Captura-de-pantalla-de-2020-09-17-03-26-15_png.rf.1af6945b08ad2e87830aedf411eb0075.jpg  \n",
            " extracting: valid/Captura-de-pantalla-de-2020-09-17-03-27-18_png.rf.d3cc4f1c01bd8634547f65660f4158b3.jpg  \n",
            " extracting: valid/Captura-de-pantalla-de-2020-09-17-03-50-18_png.rf.d382e50d46d24c441679084157aabccf.jpg  \n",
            " extracting: valid/Captura-de-pantalla-de-2020-09-17-04-11-33_png.rf.b2e204a9e960e70b4d5badc682333edb.jpg  \n",
            " extracting: valid/Captura-de-pantalla-de-2020-09-18-13-19-21_png.rf.c07a1b533adb482669c0db41ebe93551.jpg  \n",
            " extracting: valid/Captura-de-pantalla-de-2020-09-18-13-19-37_png.rf.7a3de2a05ff20e6965ef99a1b8f470e2.jpg  \n",
            " extracting: valid/Captura-de-pantalla-de-2020-09-18-13-19-40_png.rf.15baf5de469261efba272fa5dff7d6b7.jpg  \n",
            " extracting: valid/Captura-de-pantalla-de-2020-09-18-14-02-52_png.rf.466904da50ff0aba50af697c341e2472.jpg  \n",
            " extracting: valid/Captura-de-pantalla-de-2020-09-18-14-24-19_png.rf.3802a38c11c98ae8d69bdccf572d3856.jpg  \n",
            " extracting: valid/Captura-de-pantalla-de-2020-09-18-14-24-54_png.rf.5c4c590910833625e317da7d0d023819.jpg  \n",
            " extracting: valid/Captura-de-pantalla-de-2020-09-18-14-32-18_png.rf.1164a48e7afd5a8f71d301516fc10cfe.jpg  \n",
            " extracting: valid/Captura-de-pantalla-de-2020-09-18-14-39-09_png.rf.4fb0c54d1a27231fc6abed7c876ecb4d.jpg  \n",
            " extracting: valid/_annotations.coco.json  \n"
          ]
        }
      ]
    },
    {
      "cell_type": "code",
      "metadata": {
        "id": "qrsuPvMoVrAd"
      },
      "source": [
        "#En las siguientes tres celdas, movemos los datos a una estructura que la biblioteca de detección de imágenes esperará\n",
        "!mkdir War\n",
        "!mkdir War/annotations\n",
        "!mkdir War/Annotations\n",
        "!mkdir War/Images"
      ],
      "execution_count": 5,
      "outputs": []
    },
    {
      "cell_type": "code",
      "metadata": {
        "id": "EMmAcRaDVxPj"
      },
      "source": [
        "%cp train/_annotations.coco.json War/annotations/instances_Images.json"
      ],
      "execution_count": 6,
      "outputs": []
    },
    {
      "cell_type": "code",
      "metadata": {
        "id": "kx8EpALXVz0S"
      },
      "source": [
        "%cp train/*.jpg War/Images/"
      ],
      "execution_count": 7,
      "outputs": []
    },
    {
      "cell_type": "code",
      "metadata": {
        "id": "ter8mvlhV4L0"
      },
      "source": [
        "import os\n",
        "import sys\n",
        "sys.path.append(\"Monk_Object_Detection/4_efficientdet/lib/\");"
      ],
      "execution_count": 8,
      "outputs": []
    },
    {
      "cell_type": "code",
      "metadata": {
        "id": "yuEjyrtIWEDW"
      },
      "source": [
        "from train_detector import Detector"
      ],
      "execution_count": 10,
      "outputs": []
    },
    {
      "cell_type": "code",
      "metadata": {
        "id": "m2d2RuyXWLy2"
      },
      "source": [
        "gtf = Detector();"
      ],
      "execution_count": 11,
      "outputs": []
    },
    {
      "cell_type": "code",
      "metadata": {
        "id": "DSHeJ1sfWXN2"
      },
      "source": [
        "#dirige el modelo hacia la estructura de archivos\n",
        "root_dir = \"./\";\n",
        "coco_dir = \"War\";\n",
        "img_dir = \"./\";\n",
        "set_dir = \"Images\";"
      ],
      "execution_count": 12,
      "outputs": []
    },
    {
      "cell_type": "code",
      "metadata": {
        "colab": {
          "base_uri": "https://localhost:8080/"
        },
        "id": "QtI9oXurWbuH",
        "outputId": "067fda7d-51a4-437a-b404-ae35ed31f11d"
      },
      "source": [
        "#Preparar los datos\n",
        "gtf.Train_Dataset(root_dir, coco_dir, img_dir, set_dir, batch_size=8, image_size=512, use_gpu=True)"
      ],
      "execution_count": 53,
      "outputs": [
        {
          "output_type": "stream",
          "name": "stdout",
          "text": [
            "loading annotations into memory...\n",
            "Done (t=0.01s)\n",
            "creating index...\n",
            "index created!\n"
          ]
        },
        {
          "output_type": "stream",
          "name": "stderr",
          "text": [
            "/usr/local/lib/python3.7/dist-packages/torch/utils/data/dataloader.py:481: UserWarning: This DataLoader will create 3 worker processes in total. Our suggested max number of worker in current system is 2, which is smaller than what this DataLoader is going to create. Please be aware that excessive worker creation might get DataLoader running slow or even freeze, lower the worker number to avoid potential slowness/freeze if necessary.\n",
            "  cpuset_checked))\n"
          ]
        }
      ]
    },
    {
      "cell_type": "code",
      "metadata": {
        "colab": {
          "base_uri": "https://localhost:8080/",
          "height": 106
        },
        "id": "M882XN6xWfaA",
        "outputId": "aa968be5-4fbe-4db7-fea2-cb725ea3eece"
      },
      "source": [
        "gtf.Model();"
      ],
      "execution_count": 14,
      "outputs": [
        {
          "output_type": "stream",
          "name": "stderr",
          "text": [
            "Downloading: \"https://github.com/lukemelas/EfficientNet-PyTorch/releases/download/1.0/efficientnet-b0-355c32eb.pth\" to /root/.cache/torch/hub/checkpoints/efficientnet-b0-355c32eb.pth\n"
          ]
        },
        {
          "output_type": "display_data",
          "data": {
            "text/html": [
              "<div style=\"display:flex;flex-direction:row;\"><span></span><progress style='margin:2px 4px;' max='21388428' value='21388428'></progress>100% 20.4M/20.4M [00:00&lt;00:00, 71.0MB/s]</div>"
            ],
            "text/plain": [
              "<tqdm._fake_ipywidgets.HBox object>"
            ]
          },
          "metadata": {}
        },
        {
          "output_type": "stream",
          "name": "stdout",
          "text": [
            "\n",
            "Loaded pretrained weights for efficientnet-b0\n"
          ]
        }
      ]
    },
    {
      "cell_type": "code",
      "metadata": {
        "id": "AajWJLG6Wnrv"
      },
      "source": [
        "gtf.Set_Hyperparams(lr=0.0001, val_interval=1, es_min_delta=0.0, es_patience=0)"
      ],
      "execution_count": 15,
      "outputs": []
    },
    {
      "cell_type": "code",
      "metadata": {
        "colab": {
          "base_uri": "https://localhost:8080/",
          "height": 1000
        },
        "id": "W_1rNOYcWqme",
        "outputId": "740ceb8b-6ee8-49bd-d5ea-d038b1ec50d6"
      },
      "source": [
        "%%time\n",
        "gtf.Train(num_epochs=100, model_output_dir=\"trained/\");"
      ],
      "execution_count": 16,
      "outputs": [
        {
          "output_type": "display_data",
          "data": {
            "text/html": [
              "<div style=\"display:flex;flex-direction:row;\"><span>Epoch: 1/100. Iteration: 35/35. Cls loss: 1.15855. Reg loss: 0.85579. Batch loss: 2.01433 Total loss: 1.96933</span><progress style='margin:2px 4px;description_width:initial;' max='35' value='35'></progress>100% 35/35 [02:33&lt;00:00,  4.33s/it]</div>"
            ],
            "text/plain": [
              "<tqdm._fake_ipywidgets.HBox object>"
            ]
          },
          "metadata": {}
        },
        {
          "output_type": "stream",
          "name": "stderr",
          "text": [
            "/usr/local/lib/python3.7/dist-packages/torch/utils/data/dataloader.py:481: UserWarning: This DataLoader will create 3 worker processes in total. Our suggested max number of worker in current system is 2, which is smaller than what this DataLoader is going to create. Please be aware that excessive worker creation might get DataLoader running slow or even freeze, lower the worker number to avoid potential slowness/freeze if necessary.\n",
            "  cpuset_checked))\n",
            "/usr/local/lib/python3.7/dist-packages/torch/nn/functional.py:718: UserWarning: Named tensors and all their associated APIs are an experimental feature and subject to change. Please do not use them for anything important until they are released as stable. (Triggered internally at  /pytorch/c10/core/TensorImpl.h:1156.)\n",
            "  return torch.max_pool2d(input, kernel_size, stride, padding, dilation, ceil_mode)\n"
          ]
        },
        {
          "output_type": "stream",
          "name": "stdout",
          "text": [
            "\n"
          ]
        },
        {
          "output_type": "stream",
          "name": "stderr",
          "text": [
            "Monk_Object_Detection/4_efficientdet/lib/src/model.py:251: TracerWarning: Using len to get tensor shape might cause the trace to be incorrect. Recommended usage would be tensor.shape[0]. Passing a tensor of different shape might lead to errors or silently give incorrect results.\n",
            "  if len(inputs) == 2:\n",
            "Monk_Object_Detection/4_efficientdet/lib/src/utils.py:84: TracerWarning: Converting a tensor to a Python integer might cause the trace to be incorrect. We can't record the data flow of Python values, so this value will be treated as a constant in the future. This means that the trace might not generalize to other inputs!\n",
            "  image_shape = np.array(image_shape)\n",
            "Monk_Object_Detection/4_efficientdet/lib/src/utils.py:96: TracerWarning: torch.from_numpy results are registered as constants in the trace. You can safely ignore this warning if you use this function to create tensors out of constant variables that would be the same every time you call this function. In any other case, this might cause the trace to be incorrect.\n",
            "  anchors = torch.from_numpy(all_anchors.astype(np.float32))\n",
            "Monk_Object_Detection/4_efficientdet/lib/src/model.py:282: TracerWarning: Converting a tensor to a Python boolean might cause the trace to be incorrect. We can't record the data flow of Python values, so this value will be treated as a constant in the future. This means that the trace might not generalize to other inputs!\n",
            "  if scores_over_thresh.sum() == 0:\n"
          ]
        },
        {
          "output_type": "display_data",
          "data": {
            "text/html": [
              "<div style=\"display:flex;flex-direction:row;\"><span>Epoch: 2/100. Iteration: 35/35. Cls loss: 0.76638. Reg loss: 0.94557. Batch loss: 1.71195 Total loss: 1.76957</span><progress style='margin:2px 4px;description_width:initial;' max='35' value='35'></progress>100% 35/35 [02:32&lt;00:00,  4.34s/it]</div>"
            ],
            "text/plain": [
              "<tqdm._fake_ipywidgets.HBox object>"
            ]
          },
          "metadata": {}
        },
        {
          "output_type": "stream",
          "name": "stdout",
          "text": [
            "\n"
          ]
        },
        {
          "output_type": "display_data",
          "data": {
            "text/html": [
              "<div style=\"display:flex;flex-direction:row;\"><span>Epoch: 3/100. Iteration: 35/35. Cls loss: 0.75616. Reg loss: 0.86527. Batch loss: 1.62143 Total loss: 1.66619</span><progress style='margin:2px 4px;description_width:initial;' max='35' value='35'></progress>100% 35/35 [02:32&lt;00:00,  4.38s/it]</div>"
            ],
            "text/plain": [
              "<tqdm._fake_ipywidgets.HBox object>"
            ]
          },
          "metadata": {}
        },
        {
          "output_type": "stream",
          "name": "stdout",
          "text": [
            "\n"
          ]
        },
        {
          "output_type": "display_data",
          "data": {
            "text/html": [
              "<div style=\"display:flex;flex-direction:row;\"><span>Epoch: 4/100. Iteration: 35/35. Cls loss: 0.72151. Reg loss: 0.99706. Batch loss: 1.71857 Total loss: 1.55779</span><progress style='margin:2px 4px;description_width:initial;' max='35' value='35'></progress>100% 35/35 [02:33&lt;00:00,  4.36s/it]</div>"
            ],
            "text/plain": [
              "<tqdm._fake_ipywidgets.HBox object>"
            ]
          },
          "metadata": {}
        },
        {
          "output_type": "stream",
          "name": "stdout",
          "text": [
            "\n"
          ]
        },
        {
          "output_type": "display_data",
          "data": {
            "text/html": [
              "<div style=\"display:flex;flex-direction:row;\"><span>Epoch: 5/100. Iteration: 35/35. Cls loss: 0.55300. Reg loss: 0.80653. Batch loss: 1.35954 Total loss: 1.45050</span><progress style='margin:2px 4px;description_width:initial;' max='35' value='35'></progress>100% 35/35 [02:33&lt;00:00,  4.37s/it]</div>"
            ],
            "text/plain": [
              "<tqdm._fake_ipywidgets.HBox object>"
            ]
          },
          "metadata": {}
        },
        {
          "output_type": "stream",
          "name": "stdout",
          "text": [
            "\n"
          ]
        },
        {
          "output_type": "display_data",
          "data": {
            "text/html": [
              "<div style=\"display:flex;flex-direction:row;\"><span>Epoch: 6/100. Iteration: 35/35. Cls loss: 0.49564. Reg loss: 0.65356. Batch loss: 1.14920 Total loss: 1.37733</span><progress style='margin:2px 4px;description_width:initial;' max='35' value='35'></progress>100% 35/35 [02:33&lt;00:00,  4.34s/it]</div>"
            ],
            "text/plain": [
              "<tqdm._fake_ipywidgets.HBox object>"
            ]
          },
          "metadata": {}
        },
        {
          "output_type": "stream",
          "name": "stdout",
          "text": [
            "\n"
          ]
        },
        {
          "output_type": "display_data",
          "data": {
            "text/html": [
              "<div style=\"display:flex;flex-direction:row;\"><span>Epoch: 7/100. Iteration: 35/35. Cls loss: 0.45496. Reg loss: 0.74284. Batch loss: 1.19780 Total loss: 1.29972</span><progress style='margin:2px 4px;description_width:initial;' max='35' value='35'></progress>100% 35/35 [02:33&lt;00:00,  4.38s/it]</div>"
            ],
            "text/plain": [
              "<tqdm._fake_ipywidgets.HBox object>"
            ]
          },
          "metadata": {}
        },
        {
          "output_type": "stream",
          "name": "stdout",
          "text": [
            "\n"
          ]
        },
        {
          "output_type": "display_data",
          "data": {
            "text/html": [
              "<div style=\"display:flex;flex-direction:row;\"><span>Epoch: 8/100. Iteration: 35/35. Cls loss: 0.50956. Reg loss: 0.81641. Batch loss: 1.32597 Total loss: 1.25544</span><progress style='margin:2px 4px;description_width:initial;' max='35' value='35'></progress>100% 35/35 [02:33&lt;00:00,  4.33s/it]</div>"
            ],
            "text/plain": [
              "<tqdm._fake_ipywidgets.HBox object>"
            ]
          },
          "metadata": {}
        },
        {
          "output_type": "stream",
          "name": "stdout",
          "text": [
            "\n"
          ]
        },
        {
          "output_type": "display_data",
          "data": {
            "text/html": [
              "<div style=\"display:flex;flex-direction:row;\"><span>Epoch: 9/100. Iteration: 35/35. Cls loss: 0.40403. Reg loss: 0.58771. Batch loss: 0.99173 Total loss: 1.19828</span><progress style='margin:2px 4px;description_width:initial;' max='35' value='35'></progress>100% 35/35 [02:33&lt;00:00,  4.34s/it]</div>"
            ],
            "text/plain": [
              "<tqdm._fake_ipywidgets.HBox object>"
            ]
          },
          "metadata": {}
        },
        {
          "output_type": "stream",
          "name": "stdout",
          "text": [
            "\n"
          ]
        },
        {
          "output_type": "display_data",
          "data": {
            "text/html": [
              "<div style=\"display:flex;flex-direction:row;\"><span>Epoch: 10/100. Iteration: 35/35. Cls loss: 0.50615. Reg loss: 0.74317. Batch loss: 1.24932 Total loss: 1.12821</span><progress style='margin:2px 4px;description_width:initial;' max='35' value='35'></progress>100% 35/35 [02:33&lt;00:00,  4.35s/it]</div>"
            ],
            "text/plain": [
              "<tqdm._fake_ipywidgets.HBox object>"
            ]
          },
          "metadata": {}
        },
        {
          "output_type": "stream",
          "name": "stdout",
          "text": [
            "\n"
          ]
        },
        {
          "output_type": "display_data",
          "data": {
            "text/html": [
              "<div style=\"display:flex;flex-direction:row;\"><span>Epoch: 11/100. Iteration: 35/35. Cls loss: 0.52747. Reg loss: 0.81269. Batch loss: 1.34016 Total loss: 1.09136</span><progress style='margin:2px 4px;description_width:initial;' max='35' value='35'></progress>100% 35/35 [02:32&lt;00:00,  4.35s/it]</div>"
            ],
            "text/plain": [
              "<tqdm._fake_ipywidgets.HBox object>"
            ]
          },
          "metadata": {}
        },
        {
          "output_type": "stream",
          "name": "stdout",
          "text": [
            "\n"
          ]
        },
        {
          "output_type": "stream",
          "name": "stderr",
          "text": [
            "/usr/local/lib/python3.7/dist-packages/torch/onnx/symbolic_opset9.py:2720: UserWarning: Exporting aten::index operator with indices of type Byte. Only 1-D indices are supported. In any other case, this will produce an incorrect ONNX graph.\n",
            "  warnings.warn(\"Exporting aten::index operator with indices of type Byte. \"\n"
          ]
        },
        {
          "output_type": "stream",
          "name": "stdout",
          "text": [
            "faild onnx export\n"
          ]
        },
        {
          "output_type": "stream",
          "name": "stderr",
          "text": [
            "/usr/local/lib/python3.7/dist-packages/torch/onnx/symbolic_opset9.py:701: UserWarning: This model contains a squeeze operation on dimension 1 on an input with unknown shape. Note that if the size of dimension 1 of the input is not 1, the ONNX model will return an error. Opset version 11 supports squeezing on non-singleton dimensions, it is recommended to export this model using opset version 11 or higher.\n",
            "  \"version 11 or higher.\")\n"
          ]
        },
        {
          "output_type": "display_data",
          "data": {
            "text/html": [
              "<div style=\"display:flex;flex-direction:row;\"><span>Epoch: 12/100. Iteration: 35/35. Cls loss: 0.49325. Reg loss: 0.60952. Batch loss: 1.10276 Total loss: 1.04159</span><progress style='margin:2px 4px;description_width:initial;' max='35' value='35'></progress>100% 35/35 [02:27&lt;00:00,  4.18s/it]</div>"
            ],
            "text/plain": [
              "<tqdm._fake_ipywidgets.HBox object>"
            ]
          },
          "metadata": {}
        },
        {
          "output_type": "stream",
          "name": "stdout",
          "text": [
            "\n"
          ]
        },
        {
          "output_type": "display_data",
          "data": {
            "text/html": [
              "<div style=\"display:flex;flex-direction:row;\"><span>Epoch: 13/100. Iteration: 35/35. Cls loss: 0.34775. Reg loss: 0.58963. Batch loss: 0.93739 Total loss: 1.00286</span><progress style='margin:2px 4px;description_width:initial;' max='35' value='35'></progress>100% 35/35 [02:33&lt;00:00,  4.35s/it]</div>"
            ],
            "text/plain": [
              "<tqdm._fake_ipywidgets.HBox object>"
            ]
          },
          "metadata": {}
        },
        {
          "output_type": "stream",
          "name": "stdout",
          "text": [
            "\n"
          ]
        },
        {
          "output_type": "display_data",
          "data": {
            "text/html": [
              "<div style=\"display:flex;flex-direction:row;\"><span>Epoch: 14/100. Iteration: 35/35. Cls loss: 0.31732. Reg loss: 0.59492. Batch loss: 0.91224 Total loss: 0.95333</span><progress style='margin:2px 4px;description_width:initial;' max='35' value='35'></progress>100% 35/35 [02:33&lt;00:00,  4.36s/it]</div>"
            ],
            "text/plain": [
              "<tqdm._fake_ipywidgets.HBox object>"
            ]
          },
          "metadata": {}
        },
        {
          "output_type": "stream",
          "name": "stdout",
          "text": [
            "\n"
          ]
        },
        {
          "output_type": "display_data",
          "data": {
            "text/html": [
              "<div style=\"display:flex;flex-direction:row;\"><span>Epoch: 15/100. Iteration: 35/35. Cls loss: 0.35720. Reg loss: 0.59507. Batch loss: 0.95226 Total loss: 0.92741</span><progress style='margin:2px 4px;description_width:initial;' max='35' value='35'></progress>100% 35/35 [02:32&lt;00:00,  4.33s/it]</div>"
            ],
            "text/plain": [
              "<tqdm._fake_ipywidgets.HBox object>"
            ]
          },
          "metadata": {}
        },
        {
          "output_type": "stream",
          "name": "stdout",
          "text": [
            "\n",
            "faild onnx export\n"
          ]
        },
        {
          "output_type": "display_data",
          "data": {
            "text/html": [
              "<div style=\"display:flex;flex-direction:row;\"><span>Epoch: 16/100. Iteration: 35/35. Cls loss: 0.32717. Reg loss: 0.54408. Batch loss: 0.87125 Total loss: 0.88349</span><progress style='margin:2px 4px;description_width:initial;' max='35' value='35'></progress>100% 35/35 [02:27&lt;00:00,  4.19s/it]</div>"
            ],
            "text/plain": [
              "<tqdm._fake_ipywidgets.HBox object>"
            ]
          },
          "metadata": {}
        },
        {
          "output_type": "stream",
          "name": "stdout",
          "text": [
            "\n"
          ]
        },
        {
          "output_type": "display_data",
          "data": {
            "text/html": [
              "<div style=\"display:flex;flex-direction:row;\"><span>Epoch: 17/100. Iteration: 35/35. Cls loss: 0.35925. Reg loss: 0.47709. Batch loss: 0.83635 Total loss: 0.85518</span><progress style='margin:2px 4px;description_width:initial;' max='35' value='35'></progress>100% 35/35 [02:33&lt;00:00,  4.36s/it]</div>"
            ],
            "text/plain": [
              "<tqdm._fake_ipywidgets.HBox object>"
            ]
          },
          "metadata": {}
        },
        {
          "output_type": "stream",
          "name": "stdout",
          "text": [
            "\n"
          ]
        },
        {
          "output_type": "display_data",
          "data": {
            "text/html": [
              "<div style=\"display:flex;flex-direction:row;\"><span>Epoch: 18/100. Iteration: 35/35. Cls loss: 0.36218. Reg loss: 0.60240. Batch loss: 0.96458 Total loss: 0.83414</span><progress style='margin:2px 4px;description_width:initial;' max='35' value='35'></progress>100% 35/35 [02:33&lt;00:00,  4.37s/it]</div>"
            ],
            "text/plain": [
              "<tqdm._fake_ipywidgets.HBox object>"
            ]
          },
          "metadata": {}
        },
        {
          "output_type": "stream",
          "name": "stdout",
          "text": [
            "\n"
          ]
        },
        {
          "output_type": "display_data",
          "data": {
            "text/html": [
              "<div style=\"display:flex;flex-direction:row;\"><span>Epoch: 19/100. Iteration: 35/35. Cls loss: 0.30734. Reg loss: 0.51311. Batch loss: 0.82046 Total loss: 0.79271</span><progress style='margin:2px 4px;description_width:initial;' max='35' value='35'></progress>100% 35/35 [02:33&lt;00:00,  4.33s/it]</div>"
            ],
            "text/plain": [
              "<tqdm._fake_ipywidgets.HBox object>"
            ]
          },
          "metadata": {}
        },
        {
          "output_type": "stream",
          "name": "stdout",
          "text": [
            "\n"
          ]
        },
        {
          "output_type": "display_data",
          "data": {
            "text/html": [
              "<div style=\"display:flex;flex-direction:row;\"><span>Epoch: 20/100. Iteration: 35/35. Cls loss: 0.26976. Reg loss: 0.54521. Batch loss: 0.81498 Total loss: 0.77005</span><progress style='margin:2px 4px;description_width:initial;' max='35' value='35'></progress>100% 35/35 [02:34&lt;00:00,  4.37s/it]</div>"
            ],
            "text/plain": [
              "<tqdm._fake_ipywidgets.HBox object>"
            ]
          },
          "metadata": {}
        },
        {
          "output_type": "stream",
          "name": "stdout",
          "text": [
            "\n"
          ]
        },
        {
          "output_type": "display_data",
          "data": {
            "text/html": [
              "<div style=\"display:flex;flex-direction:row;\"><span>Epoch: 21/100. Iteration: 35/35. Cls loss: 0.38293. Reg loss: 0.58131. Batch loss: 0.96425 Total loss: 0.74223</span><progress style='margin:2px 4px;description_width:initial;' max='35' value='35'></progress>100% 35/35 [02:33&lt;00:00,  4.34s/it]</div>"
            ],
            "text/plain": [
              "<tqdm._fake_ipywidgets.HBox object>"
            ]
          },
          "metadata": {}
        },
        {
          "output_type": "stream",
          "name": "stdout",
          "text": [
            "\n"
          ]
        },
        {
          "output_type": "display_data",
          "data": {
            "text/html": [
              "<div style=\"display:flex;flex-direction:row;\"><span>Epoch: 22/100. Iteration: 35/35. Cls loss: 0.21114. Reg loss: 0.34870. Batch loss: 0.55984 Total loss: 0.74041</span><progress style='margin:2px 4px;description_width:initial;' max='35' value='35'></progress>100% 35/35 [02:33&lt;00:00,  4.38s/it]</div>"
            ],
            "text/plain": [
              "<tqdm._fake_ipywidgets.HBox object>"
            ]
          },
          "metadata": {}
        },
        {
          "output_type": "stream",
          "name": "stdout",
          "text": [
            "\n"
          ]
        },
        {
          "output_type": "display_data",
          "data": {
            "text/html": [
              "<div style=\"display:flex;flex-direction:row;\"><span>Epoch: 23/100. Iteration: 35/35. Cls loss: 0.23759. Reg loss: 0.43719. Batch loss: 0.67478 Total loss: 0.69409</span><progress style='margin:2px 4px;description_width:initial;' max='35' value='35'></progress>100% 35/35 [02:32&lt;00:00,  4.35s/it]</div>"
            ],
            "text/plain": [
              "<tqdm._fake_ipywidgets.HBox object>"
            ]
          },
          "metadata": {}
        },
        {
          "output_type": "stream",
          "name": "stdout",
          "text": [
            "\n"
          ]
        },
        {
          "output_type": "display_data",
          "data": {
            "text/html": [
              "<div style=\"display:flex;flex-direction:row;\"><span>Epoch: 24/100. Iteration: 35/35. Cls loss: 0.21591. Reg loss: 0.39084. Batch loss: 0.60674 Total loss: 0.67926</span><progress style='margin:2px 4px;description_width:initial;' max='35' value='35'></progress>100% 35/35 [02:33&lt;00:00,  4.35s/it]</div>"
            ],
            "text/plain": [
              "<tqdm._fake_ipywidgets.HBox object>"
            ]
          },
          "metadata": {}
        },
        {
          "output_type": "stream",
          "name": "stdout",
          "text": [
            "\n"
          ]
        },
        {
          "output_type": "display_data",
          "data": {
            "text/html": [
              "<div style=\"display:flex;flex-direction:row;\"><span>Epoch: 25/100. Iteration: 35/35. Cls loss: 0.18449. Reg loss: 0.46088. Batch loss: 0.64537 Total loss: 0.66720</span><progress style='margin:2px 4px;description_width:initial;' max='35' value='35'></progress>100% 35/35 [02:33&lt;00:00,  4.37s/it]</div>"
            ],
            "text/plain": [
              "<tqdm._fake_ipywidgets.HBox object>"
            ]
          },
          "metadata": {}
        },
        {
          "output_type": "stream",
          "name": "stdout",
          "text": [
            "\n"
          ]
        },
        {
          "output_type": "display_data",
          "data": {
            "text/html": [
              "<div style=\"display:flex;flex-direction:row;\"><span>Epoch: 26/100. Iteration: 35/35. Cls loss: 0.23404. Reg loss: 0.43384. Batch loss: 0.66788 Total loss: 0.63506</span><progress style='margin:2px 4px;description_width:initial;' max='35' value='35'></progress>100% 35/35 [02:33&lt;00:00,  4.36s/it]</div>"
            ],
            "text/plain": [
              "<tqdm._fake_ipywidgets.HBox object>"
            ]
          },
          "metadata": {}
        },
        {
          "output_type": "stream",
          "name": "stdout",
          "text": [
            "\n"
          ]
        },
        {
          "output_type": "display_data",
          "data": {
            "text/html": [
              "<div style=\"display:flex;flex-direction:row;\"><span>Epoch: 27/100. Iteration: 35/35. Cls loss: 0.18813. Reg loss: 0.41502. Batch loss: 0.60316 Total loss: 0.61740</span><progress style='margin:2px 4px;description_width:initial;' max='35' value='35'></progress>100% 35/35 [02:33&lt;00:00,  4.36s/it]</div>"
            ],
            "text/plain": [
              "<tqdm._fake_ipywidgets.HBox object>"
            ]
          },
          "metadata": {}
        },
        {
          "output_type": "stream",
          "name": "stdout",
          "text": [
            "\n"
          ]
        },
        {
          "output_type": "display_data",
          "data": {
            "text/html": [
              "<div style=\"display:flex;flex-direction:row;\"><span>Epoch: 28/100. Iteration: 35/35. Cls loss: 0.19008. Reg loss: 0.36279. Batch loss: 0.55287 Total loss: 0.61070</span><progress style='margin:2px 4px;description_width:initial;' max='35' value='35'></progress>100% 35/35 [02:33&lt;00:00,  4.36s/it]</div>"
            ],
            "text/plain": [
              "<tqdm._fake_ipywidgets.HBox object>"
            ]
          },
          "metadata": {}
        },
        {
          "output_type": "stream",
          "name": "stdout",
          "text": [
            "\n"
          ]
        },
        {
          "output_type": "display_data",
          "data": {
            "text/html": [
              "<div style=\"display:flex;flex-direction:row;\"><span>Epoch: 29/100. Iteration: 35/35. Cls loss: 0.20307. Reg loss: 0.40173. Batch loss: 0.60480 Total loss: 0.59157</span><progress style='margin:2px 4px;description_width:initial;' max='35' value='35'></progress>100% 35/35 [02:33&lt;00:00,  4.37s/it]</div>"
            ],
            "text/plain": [
              "<tqdm._fake_ipywidgets.HBox object>"
            ]
          },
          "metadata": {}
        },
        {
          "output_type": "stream",
          "name": "stdout",
          "text": [
            "\n"
          ]
        },
        {
          "output_type": "display_data",
          "data": {
            "text/html": [
              "<div style=\"display:flex;flex-direction:row;\"><span>Epoch: 30/100. Iteration: 35/35. Cls loss: 0.17860. Reg loss: 0.37496. Batch loss: 0.55355 Total loss: 0.59278</span><progress style='margin:2px 4px;description_width:initial;' max='35' value='35'></progress>100% 35/35 [02:34&lt;00:00,  4.38s/it]</div>"
            ],
            "text/plain": [
              "<tqdm._fake_ipywidgets.HBox object>"
            ]
          },
          "metadata": {}
        },
        {
          "output_type": "stream",
          "name": "stdout",
          "text": [
            "\n"
          ]
        },
        {
          "output_type": "display_data",
          "data": {
            "text/html": [
              "<div style=\"display:flex;flex-direction:row;\"><span>Epoch: 31/100. Iteration: 35/35. Cls loss: 0.15531. Reg loss: 0.35645. Batch loss: 0.51177 Total loss: 0.57956</span><progress style='margin:2px 4px;description_width:initial;' max='35' value='35'></progress>100% 35/35 [02:33&lt;00:00,  4.34s/it]</div>"
            ],
            "text/plain": [
              "<tqdm._fake_ipywidgets.HBox object>"
            ]
          },
          "metadata": {}
        },
        {
          "output_type": "stream",
          "name": "stdout",
          "text": [
            "\n"
          ]
        },
        {
          "output_type": "display_data",
          "data": {
            "text/html": [
              "<div style=\"display:flex;flex-direction:row;\"><span>Epoch: 32/100. Iteration: 35/35. Cls loss: 0.15112. Reg loss: 0.36455. Batch loss: 0.51567 Total loss: 0.54956</span><progress style='margin:2px 4px;description_width:initial;' max='35' value='35'></progress>100% 35/35 [02:33&lt;00:00,  4.35s/it]</div>"
            ],
            "text/plain": [
              "<tqdm._fake_ipywidgets.HBox object>"
            ]
          },
          "metadata": {}
        },
        {
          "output_type": "stream",
          "name": "stdout",
          "text": [
            "\n",
            "faild onnx export\n"
          ]
        },
        {
          "output_type": "display_data",
          "data": {
            "text/html": [
              "<div style=\"display:flex;flex-direction:row;\"><span>Epoch: 33/100. Iteration: 35/35. Cls loss: 0.14539. Reg loss: 0.34166. Batch loss: 0.48706 Total loss: 0.55625</span><progress style='margin:2px 4px;description_width:initial;' max='35' value='35'></progress>100% 35/35 [02:28&lt;00:00,  4.20s/it]</div>"
            ],
            "text/plain": [
              "<tqdm._fake_ipywidgets.HBox object>"
            ]
          },
          "metadata": {}
        },
        {
          "output_type": "stream",
          "name": "stdout",
          "text": [
            "\n"
          ]
        },
        {
          "output_type": "display_data",
          "data": {
            "text/html": [
              "<div style=\"display:flex;flex-direction:row;\"><span>Epoch: 34/100. Iteration: 35/35. Cls loss: 0.13019. Reg loss: 0.32571. Batch loss: 0.45590 Total loss: 0.54491</span><progress style='margin:2px 4px;description_width:initial;' max='35' value='35'></progress>100% 35/35 [02:33&lt;00:00,  4.37s/it]</div>"
            ],
            "text/plain": [
              "<tqdm._fake_ipywidgets.HBox object>"
            ]
          },
          "metadata": {}
        },
        {
          "output_type": "stream",
          "name": "stdout",
          "text": [
            "\n"
          ]
        },
        {
          "output_type": "display_data",
          "data": {
            "text/html": [
              "<div style=\"display:flex;flex-direction:row;\"><span>Epoch: 35/100. Iteration: 35/35. Cls loss: 0.17813. Reg loss: 0.38151. Batch loss: 0.55964 Total loss: 0.52898</span><progress style='margin:2px 4px;description_width:initial;' max='35' value='35'></progress>100% 35/35 [02:33&lt;00:00,  4.33s/it]</div>"
            ],
            "text/plain": [
              "<tqdm._fake_ipywidgets.HBox object>"
            ]
          },
          "metadata": {}
        },
        {
          "output_type": "stream",
          "name": "stdout",
          "text": [
            "\n"
          ]
        },
        {
          "output_type": "display_data",
          "data": {
            "text/html": [
              "<div style=\"display:flex;flex-direction:row;\"><span>Epoch: 36/100. Iteration: 35/35. Cls loss: 0.22419. Reg loss: 0.51008. Batch loss: 0.73427 Total loss: 0.53289</span><progress style='margin:2px 4px;description_width:initial;' max='35' value='35'></progress>100% 35/35 [02:33&lt;00:00,  4.35s/it]</div>"
            ],
            "text/plain": [
              "<tqdm._fake_ipywidgets.HBox object>"
            ]
          },
          "metadata": {}
        },
        {
          "output_type": "stream",
          "name": "stdout",
          "text": [
            "\n",
            "faild onnx export\n"
          ]
        },
        {
          "output_type": "display_data",
          "data": {
            "text/html": [
              "<div style=\"display:flex;flex-direction:row;\"><span>Epoch: 37/100. Iteration: 35/35. Cls loss: 0.13848. Reg loss: 0.37931. Batch loss: 0.51778 Total loss: 0.50447</span><progress style='margin:2px 4px;description_width:initial;' max='35' value='35'></progress>100% 35/35 [02:27&lt;00:00,  4.18s/it]</div>"
            ],
            "text/plain": [
              "<tqdm._fake_ipywidgets.HBox object>"
            ]
          },
          "metadata": {}
        },
        {
          "output_type": "stream",
          "name": "stdout",
          "text": [
            "\n",
            "faild onnx export\n"
          ]
        },
        {
          "output_type": "display_data",
          "data": {
            "text/html": [
              "<div style=\"display:flex;flex-direction:row;\"><span>Epoch: 38/100. Iteration: 35/35. Cls loss: 0.22553. Reg loss: 0.44834. Batch loss: 0.67387 Total loss: 0.49639</span><progress style='margin:2px 4px;description_width:initial;' max='35' value='35'></progress>100% 35/35 [02:27&lt;00:00,  4.19s/it]</div>"
            ],
            "text/plain": [
              "<tqdm._fake_ipywidgets.HBox object>"
            ]
          },
          "metadata": {}
        },
        {
          "output_type": "stream",
          "name": "stdout",
          "text": [
            "\n"
          ]
        },
        {
          "output_type": "display_data",
          "data": {
            "text/html": [
              "<div style=\"display:flex;flex-direction:row;\"><span>Epoch: 39/100. Iteration: 35/35. Cls loss: 0.16871. Reg loss: 0.34437. Batch loss: 0.51308 Total loss: 0.47288</span><progress style='margin:2px 4px;description_width:initial;' max='35' value='35'></progress>100% 35/35 [02:33&lt;00:00,  4.36s/it]</div>"
            ],
            "text/plain": [
              "<tqdm._fake_ipywidgets.HBox object>"
            ]
          },
          "metadata": {}
        },
        {
          "output_type": "stream",
          "name": "stdout",
          "text": [
            "\n"
          ]
        },
        {
          "output_type": "display_data",
          "data": {
            "text/html": [
              "<div style=\"display:flex;flex-direction:row;\"><span>Epoch: 40/100. Iteration: 35/35. Cls loss: 0.21540. Reg loss: 0.27696. Batch loss: 0.49236 Total loss: 0.47346</span><progress style='margin:2px 4px;description_width:initial;' max='35' value='35'></progress>100% 35/35 [02:34&lt;00:00,  4.39s/it]</div>"
            ],
            "text/plain": [
              "<tqdm._fake_ipywidgets.HBox object>"
            ]
          },
          "metadata": {}
        },
        {
          "output_type": "stream",
          "name": "stdout",
          "text": [
            "\n"
          ]
        },
        {
          "output_type": "display_data",
          "data": {
            "text/html": [
              "<div style=\"display:flex;flex-direction:row;\"><span>Epoch: 41/100. Iteration: 35/35. Cls loss: 0.11541. Reg loss: 0.31783. Batch loss: 0.43324 Total loss: 0.48495</span><progress style='margin:2px 4px;description_width:initial;' max='35' value='35'></progress>100% 35/35 [02:34&lt;00:00,  4.35s/it]</div>"
            ],
            "text/plain": [
              "<tqdm._fake_ipywidgets.HBox object>"
            ]
          },
          "metadata": {}
        },
        {
          "output_type": "stream",
          "name": "stdout",
          "text": [
            "\n"
          ]
        },
        {
          "output_type": "display_data",
          "data": {
            "text/html": [
              "<div style=\"display:flex;flex-direction:row;\"><span>Epoch: 42/100. Iteration: 35/35. Cls loss: 0.28474. Reg loss: 0.48415. Batch loss: 0.76890 Total loss: 0.45350</span><progress style='margin:2px 4px;description_width:initial;' max='35' value='35'></progress>100% 35/35 [02:33&lt;00:00,  4.38s/it]</div>"
            ],
            "text/plain": [
              "<tqdm._fake_ipywidgets.HBox object>"
            ]
          },
          "metadata": {}
        },
        {
          "output_type": "stream",
          "name": "stdout",
          "text": [
            "\n"
          ]
        },
        {
          "output_type": "display_data",
          "data": {
            "text/html": [
              "<div style=\"display:flex;flex-direction:row;\"><span>Epoch: 43/100. Iteration: 35/35. Cls loss: 0.04531. Reg loss: 0.13809. Batch loss: 0.18340 Total loss: 0.45490</span><progress style='margin:2px 4px;description_width:initial;' max='35' value='35'></progress>100% 35/35 [02:33&lt;00:00,  4.34s/it]</div>"
            ],
            "text/plain": [
              "<tqdm._fake_ipywidgets.HBox object>"
            ]
          },
          "metadata": {}
        },
        {
          "output_type": "stream",
          "name": "stdout",
          "text": [
            "\n",
            "faild onnx export\n"
          ]
        },
        {
          "output_type": "display_data",
          "data": {
            "text/html": [
              "<div style=\"display:flex;flex-direction:row;\"><span>Epoch: 44/100. Iteration: 35/35. Cls loss: 0.13656. Reg loss: 0.33349. Batch loss: 0.47005 Total loss: 0.44272</span><progress style='margin:2px 4px;description_width:initial;' max='35' value='35'></progress>100% 35/35 [02:27&lt;00:00,  4.19s/it]</div>"
            ],
            "text/plain": [
              "<tqdm._fake_ipywidgets.HBox object>"
            ]
          },
          "metadata": {}
        },
        {
          "output_type": "stream",
          "name": "stdout",
          "text": [
            "\n"
          ]
        },
        {
          "output_type": "display_data",
          "data": {
            "text/html": [
              "<div style=\"display:flex;flex-direction:row;\"><span>Epoch: 45/100. Iteration: 35/35. Cls loss: 0.21473. Reg loss: 0.38837. Batch loss: 0.60310 Total loss: 0.44346</span><progress style='margin:2px 4px;description_width:initial;' max='35' value='35'></progress>100% 35/35 [02:33&lt;00:00,  4.34s/it]</div>"
            ],
            "text/plain": [
              "<tqdm._fake_ipywidgets.HBox object>"
            ]
          },
          "metadata": {}
        },
        {
          "output_type": "stream",
          "name": "stdout",
          "text": [
            "\n",
            "faild onnx export\n"
          ]
        },
        {
          "output_type": "display_data",
          "data": {
            "text/html": [
              "<div style=\"display:flex;flex-direction:row;\"><span>Epoch: 46/100. Iteration: 35/35. Cls loss: 0.08462. Reg loss: 0.26804. Batch loss: 0.35266 Total loss: 0.43054</span><progress style='margin:2px 4px;description_width:initial;' max='35' value='35'></progress>100% 35/35 [02:27&lt;00:00,  4.18s/it]</div>"
            ],
            "text/plain": [
              "<tqdm._fake_ipywidgets.HBox object>"
            ]
          },
          "metadata": {}
        },
        {
          "output_type": "stream",
          "name": "stdout",
          "text": [
            "\n",
            "faild onnx export\n"
          ]
        },
        {
          "output_type": "display_data",
          "data": {
            "text/html": [
              "<div style=\"display:flex;flex-direction:row;\"><span>Epoch: 47/100. Iteration: 35/35. Cls loss: 0.11045. Reg loss: 0.30756. Batch loss: 0.41801 Total loss: 0.42911</span><progress style='margin:2px 4px;description_width:initial;' max='35' value='35'></progress>100% 35/35 [02:27&lt;00:00,  4.18s/it]</div>"
            ],
            "text/plain": [
              "<tqdm._fake_ipywidgets.HBox object>"
            ]
          },
          "metadata": {}
        },
        {
          "output_type": "stream",
          "name": "stdout",
          "text": [
            "\n"
          ]
        },
        {
          "output_type": "display_data",
          "data": {
            "text/html": [
              "<div style=\"display:flex;flex-direction:row;\"><span>Epoch: 48/100. Iteration: 35/35. Cls loss: 0.18864. Reg loss: 0.40341. Batch loss: 0.59206 Total loss: 0.42358</span><progress style='margin:2px 4px;description_width:initial;' max='35' value='35'></progress>100% 35/35 [02:34&lt;00:00,  4.39s/it]</div>"
            ],
            "text/plain": [
              "<tqdm._fake_ipywidgets.HBox object>"
            ]
          },
          "metadata": {}
        },
        {
          "output_type": "stream",
          "name": "stdout",
          "text": [
            "\n",
            "faild onnx export\n"
          ]
        },
        {
          "output_type": "display_data",
          "data": {
            "text/html": [
              "<div style=\"display:flex;flex-direction:row;\"><span>Epoch: 49/100. Iteration: 35/35. Cls loss: 0.14826. Reg loss: 0.34855. Batch loss: 0.49681 Total loss: 0.39247</span><progress style='margin:2px 4px;description_width:initial;' max='35' value='35'></progress>100% 35/35 [02:27&lt;00:00,  4.20s/it]</div>"
            ],
            "text/plain": [
              "<tqdm._fake_ipywidgets.HBox object>"
            ]
          },
          "metadata": {}
        },
        {
          "output_type": "stream",
          "name": "stdout",
          "text": [
            "\n"
          ]
        },
        {
          "output_type": "display_data",
          "data": {
            "text/html": [
              "<div style=\"display:flex;flex-direction:row;\"><span>Epoch: 50/100. Iteration: 35/35. Cls loss: 0.07518. Reg loss: 0.25493. Batch loss: 0.33010 Total loss: 0.40790</span><progress style='margin:2px 4px;description_width:initial;' max='35' value='35'></progress>100% 35/35 [02:33&lt;00:00,  4.38s/it]</div>"
            ],
            "text/plain": [
              "<tqdm._fake_ipywidgets.HBox object>"
            ]
          },
          "metadata": {}
        },
        {
          "output_type": "stream",
          "name": "stdout",
          "text": [
            "\n"
          ]
        },
        {
          "output_type": "display_data",
          "data": {
            "text/html": [
              "<div style=\"display:flex;flex-direction:row;\"><span>Epoch: 51/100. Iteration: 35/35. Cls loss: 0.17796. Reg loss: 0.35366. Batch loss: 0.53162 Total loss: 0.39446</span><progress style='margin:2px 4px;description_width:initial;' max='35' value='35'></progress>100% 35/35 [02:33&lt;00:00,  4.35s/it]</div>"
            ],
            "text/plain": [
              "<tqdm._fake_ipywidgets.HBox object>"
            ]
          },
          "metadata": {}
        },
        {
          "output_type": "stream",
          "name": "stdout",
          "text": [
            "\n"
          ]
        },
        {
          "output_type": "display_data",
          "data": {
            "text/html": [
              "<div style=\"display:flex;flex-direction:row;\"><span>Epoch: 52/100. Iteration: 35/35. Cls loss: 0.10514. Reg loss: 0.30180. Batch loss: 0.40694 Total loss: 0.40035</span><progress style='margin:2px 4px;description_width:initial;' max='35' value='35'></progress>100% 35/35 [02:36&lt;00:00,  4.42s/it]</div>"
            ],
            "text/plain": [
              "<tqdm._fake_ipywidgets.HBox object>"
            ]
          },
          "metadata": {}
        },
        {
          "output_type": "stream",
          "name": "stdout",
          "text": [
            "\n"
          ]
        },
        {
          "output_type": "display_data",
          "data": {
            "text/html": [
              "<div style=\"display:flex;flex-direction:row;\"><span>Epoch: 53/100. Iteration: 35/35. Cls loss: 0.07023. Reg loss: 0.22809. Batch loss: 0.29833 Total loss: 0.38839</span><progress style='margin:2px 4px;description_width:initial;' max='35' value='35'></progress>100% 35/35 [02:34&lt;00:00,  4.42s/it]</div>"
            ],
            "text/plain": [
              "<tqdm._fake_ipywidgets.HBox object>"
            ]
          },
          "metadata": {}
        },
        {
          "output_type": "stream",
          "name": "stdout",
          "text": [
            "\n"
          ]
        },
        {
          "output_type": "display_data",
          "data": {
            "text/html": [
              "<div style=\"display:flex;flex-direction:row;\"><span>Epoch: 54/100. Iteration: 35/35. Cls loss: 0.06058. Reg loss: 0.17704. Batch loss: 0.23761 Total loss: 0.38560</span><progress style='margin:2px 4px;description_width:initial;' max='35' value='35'></progress>100% 35/35 [02:37&lt;00:00,  4.44s/it]</div>"
            ],
            "text/plain": [
              "<tqdm._fake_ipywidgets.HBox object>"
            ]
          },
          "metadata": {}
        },
        {
          "output_type": "stream",
          "name": "stdout",
          "text": [
            "\n",
            "faild onnx export\n"
          ]
        },
        {
          "output_type": "display_data",
          "data": {
            "text/html": [
              "<div style=\"display:flex;flex-direction:row;\"><span>Epoch: 55/100. Iteration: 35/35. Cls loss: 0.13153. Reg loss: 0.33024. Batch loss: 0.46177 Total loss: 0.36704</span><progress style='margin:2px 4px;description_width:initial;' max='35' value='35'></progress>100% 35/35 [02:30&lt;00:00,  4.25s/it]</div>"
            ],
            "text/plain": [
              "<tqdm._fake_ipywidgets.HBox object>"
            ]
          },
          "metadata": {}
        },
        {
          "output_type": "stream",
          "name": "stdout",
          "text": [
            "\n"
          ]
        },
        {
          "output_type": "display_data",
          "data": {
            "text/html": [
              "<div style=\"display:flex;flex-direction:row;\"><span>Epoch: 56/100. Iteration: 35/35. Cls loss: 0.08173. Reg loss: 0.23909. Batch loss: 0.32082 Total loss: 0.37746</span><progress style='margin:2px 4px;description_width:initial;' max='35' value='35'></progress>100% 35/35 [02:35&lt;00:00,  4.43s/it]</div>"
            ],
            "text/plain": [
              "<tqdm._fake_ipywidgets.HBox object>"
            ]
          },
          "metadata": {}
        },
        {
          "output_type": "stream",
          "name": "stdout",
          "text": [
            "\n",
            "faild onnx export\n"
          ]
        },
        {
          "output_type": "display_data",
          "data": {
            "text/html": [
              "<div style=\"display:flex;flex-direction:row;\"><span>Epoch: 57/100. Iteration: 35/35. Cls loss: 0.12614. Reg loss: 0.31021. Batch loss: 0.43635 Total loss: 0.36662</span><progress style='margin:2px 4px;description_width:initial;' max='35' value='35'></progress>100% 35/35 [02:30&lt;00:00,  4.28s/it]</div>"
            ],
            "text/plain": [
              "<tqdm._fake_ipywidgets.HBox object>"
            ]
          },
          "metadata": {}
        },
        {
          "output_type": "stream",
          "name": "stdout",
          "text": [
            "\n",
            "faild onnx export\n"
          ]
        },
        {
          "output_type": "display_data",
          "data": {
            "text/html": [
              "<div style=\"display:flex;flex-direction:row;\"><span>Epoch: 58/100. Iteration: 35/35. Cls loss: 0.07852. Reg loss: 0.23641. Batch loss: 0.31493 Total loss: 0.36338</span><progress style='margin:2px 4px;description_width:initial;' max='35' value='35'></progress>100% 35/35 [02:31&lt;00:00,  4.30s/it]</div>"
            ],
            "text/plain": [
              "<tqdm._fake_ipywidgets.HBox object>"
            ]
          },
          "metadata": {}
        },
        {
          "output_type": "stream",
          "name": "stdout",
          "text": [
            "\n"
          ]
        },
        {
          "output_type": "display_data",
          "data": {
            "text/html": [
              "<div style=\"display:flex;flex-direction:row;\"><span>Epoch: 59/100. Iteration: 35/35. Cls loss: 0.05615. Reg loss: 0.26009. Batch loss: 0.31623 Total loss: 0.36017</span><progress style='margin:2px 4px;description_width:initial;' max='35' value='35'></progress>100% 35/35 [02:36&lt;00:00,  4.43s/it]</div>"
            ],
            "text/plain": [
              "<tqdm._fake_ipywidgets.HBox object>"
            ]
          },
          "metadata": {}
        },
        {
          "output_type": "stream",
          "name": "stdout",
          "text": [
            "\n",
            "faild onnx export\n"
          ]
        },
        {
          "output_type": "display_data",
          "data": {
            "text/html": [
              "<div style=\"display:flex;flex-direction:row;\"><span>Epoch: 60/100. Iteration: 35/35. Cls loss: 0.08378. Reg loss: 0.28887. Batch loss: 0.37265 Total loss: 0.35362</span><progress style='margin:2px 4px;description_width:initial;' max='35' value='35'></progress>100% 35/35 [02:30&lt;00:00,  4.27s/it]</div>"
            ],
            "text/plain": [
              "<tqdm._fake_ipywidgets.HBox object>"
            ]
          },
          "metadata": {}
        },
        {
          "output_type": "stream",
          "name": "stdout",
          "text": [
            "\n"
          ]
        },
        {
          "output_type": "display_data",
          "data": {
            "text/html": [
              "<div style=\"display:flex;flex-direction:row;\"><span>Epoch: 61/100. Iteration: 35/35. Cls loss: 0.09350. Reg loss: 0.31332. Batch loss: 0.40683 Total loss: 0.34920</span><progress style='margin:2px 4px;description_width:initial;' max='35' value='35'></progress>100% 35/35 [02:35&lt;00:00,  4.43s/it]</div>"
            ],
            "text/plain": [
              "<tqdm._fake_ipywidgets.HBox object>"
            ]
          },
          "metadata": {}
        },
        {
          "output_type": "stream",
          "name": "stdout",
          "text": [
            "\n"
          ]
        },
        {
          "output_type": "display_data",
          "data": {
            "text/html": [
              "<div style=\"display:flex;flex-direction:row;\"><span>Epoch: 62/100. Iteration: 35/35. Cls loss: 0.11933. Reg loss: 0.32767. Batch loss: 0.44700 Total loss: 0.35462</span><progress style='margin:2px 4px;description_width:initial;' max='35' value='35'></progress>100% 35/35 [02:36&lt;00:00,  4.45s/it]</div>"
            ],
            "text/plain": [
              "<tqdm._fake_ipywidgets.HBox object>"
            ]
          },
          "metadata": {}
        },
        {
          "output_type": "stream",
          "name": "stdout",
          "text": [
            "\n"
          ]
        },
        {
          "output_type": "display_data",
          "data": {
            "text/html": [
              "<div style=\"display:flex;flex-direction:row;\"><span>Epoch: 63/100. Iteration: 35/35. Cls loss: 0.07925. Reg loss: 0.21901. Batch loss: 0.29825 Total loss: 0.32948</span><progress style='margin:2px 4px;description_width:initial;' max='35' value='35'></progress>100% 35/35 [02:36&lt;00:00,  4.43s/it]</div>"
            ],
            "text/plain": [
              "<tqdm._fake_ipywidgets.HBox object>"
            ]
          },
          "metadata": {}
        },
        {
          "output_type": "stream",
          "name": "stdout",
          "text": [
            "\n"
          ]
        },
        {
          "output_type": "display_data",
          "data": {
            "text/html": [
              "<div style=\"display:flex;flex-direction:row;\"><span>Epoch: 64/100. Iteration: 35/35. Cls loss: 0.06698. Reg loss: 0.25690. Batch loss: 0.32388 Total loss: 0.32223</span><progress style='margin:2px 4px;description_width:initial;' max='35' value='35'></progress>100% 35/35 [02:36&lt;00:00,  4.38s/it]</div>"
            ],
            "text/plain": [
              "<tqdm._fake_ipywidgets.HBox object>"
            ]
          },
          "metadata": {}
        },
        {
          "output_type": "stream",
          "name": "stdout",
          "text": [
            "\n"
          ]
        },
        {
          "output_type": "display_data",
          "data": {
            "text/html": [
              "<div style=\"display:flex;flex-direction:row;\"><span>Epoch: 65/100. Iteration: 35/35. Cls loss: 0.05404. Reg loss: 0.18892. Batch loss: 0.24296 Total loss: 0.32887</span><progress style='margin:2px 4px;description_width:initial;' max='35' value='35'></progress>100% 35/35 [02:36&lt;00:00,  4.44s/it]</div>"
            ],
            "text/plain": [
              "<tqdm._fake_ipywidgets.HBox object>"
            ]
          },
          "metadata": {}
        },
        {
          "output_type": "stream",
          "name": "stdout",
          "text": [
            "\n"
          ]
        },
        {
          "output_type": "display_data",
          "data": {
            "text/html": [
              "<div style=\"display:flex;flex-direction:row;\"><span>Epoch: 66/100. Iteration: 35/35. Cls loss: 0.05053. Reg loss: 0.19103. Batch loss: 0.24156 Total loss: 0.32709</span><progress style='margin:2px 4px;description_width:initial;' max='35' value='35'></progress>100% 35/35 [02:36&lt;00:00,  4.44s/it]</div>"
            ],
            "text/plain": [
              "<tqdm._fake_ipywidgets.HBox object>"
            ]
          },
          "metadata": {}
        },
        {
          "output_type": "stream",
          "name": "stdout",
          "text": [
            "\n"
          ]
        },
        {
          "output_type": "display_data",
          "data": {
            "text/html": [
              "<div style=\"display:flex;flex-direction:row;\"><span>Epoch: 67/100. Iteration: 35/35. Cls loss: 0.07785. Reg loss: 0.20955. Batch loss: 0.28739 Total loss: 0.30973</span><progress style='margin:2px 4px;description_width:initial;' max='35' value='35'></progress>100% 35/35 [02:36&lt;00:00,  4.43s/it]</div>"
            ],
            "text/plain": [
              "<tqdm._fake_ipywidgets.HBox object>"
            ]
          },
          "metadata": {}
        },
        {
          "output_type": "stream",
          "name": "stdout",
          "text": [
            "\n"
          ]
        },
        {
          "output_type": "display_data",
          "data": {
            "text/html": [
              "<div style=\"display:flex;flex-direction:row;\"><span>Epoch: 68/100. Iteration: 35/35. Cls loss: 0.04050. Reg loss: 0.20472. Batch loss: 0.24522 Total loss: 0.31618</span><progress style='margin:2px 4px;description_width:initial;' max='35' value='35'></progress>100% 35/35 [02:36&lt;00:00,  4.46s/it]</div>"
            ],
            "text/plain": [
              "<tqdm._fake_ipywidgets.HBox object>"
            ]
          },
          "metadata": {}
        },
        {
          "output_type": "stream",
          "name": "stdout",
          "text": [
            "\n",
            "faild onnx export\n"
          ]
        },
        {
          "output_type": "display_data",
          "data": {
            "text/html": [
              "<div style=\"display:flex;flex-direction:row;\"><span>Epoch: 69/100. Iteration: 35/35. Cls loss: 0.07207. Reg loss: 0.25099. Batch loss: 0.32306 Total loss: 0.31546</span><progress style='margin:2px 4px;description_width:initial;' max='35' value='35'></progress>100% 35/35 [02:29&lt;00:00,  4.23s/it]</div>"
            ],
            "text/plain": [
              "<tqdm._fake_ipywidgets.HBox object>"
            ]
          },
          "metadata": {}
        },
        {
          "output_type": "stream",
          "name": "stdout",
          "text": [
            "\n",
            "faild onnx export\n"
          ]
        },
        {
          "output_type": "display_data",
          "data": {
            "text/html": [
              "<div style=\"display:flex;flex-direction:row;\"><span>Epoch: 70/100. Iteration: 35/35. Cls loss: 0.05585. Reg loss: 0.18363. Batch loss: 0.23947 Total loss: 0.30347</span><progress style='margin:2px 4px;description_width:initial;' max='35' value='35'></progress>100% 35/35 [02:29&lt;00:00,  4.27s/it]</div>"
            ],
            "text/plain": [
              "<tqdm._fake_ipywidgets.HBox object>"
            ]
          },
          "metadata": {}
        },
        {
          "output_type": "stream",
          "name": "stdout",
          "text": [
            "\n"
          ]
        },
        {
          "output_type": "display_data",
          "data": {
            "text/html": [
              "<div style=\"display:flex;flex-direction:row;\"><span>Epoch: 71/100. Iteration: 35/35. Cls loss: 0.09037. Reg loss: 0.25513. Batch loss: 0.34550 Total loss: 0.31348</span><progress style='margin:2px 4px;description_width:initial;' max='35' value='35'></progress>100% 35/35 [02:36&lt;00:00,  4.44s/it]</div>"
            ],
            "text/plain": [
              "<tqdm._fake_ipywidgets.HBox object>"
            ]
          },
          "metadata": {}
        },
        {
          "output_type": "stream",
          "name": "stdout",
          "text": [
            "\n"
          ]
        },
        {
          "output_type": "display_data",
          "data": {
            "text/html": [
              "<div style=\"display:flex;flex-direction:row;\"><span>Epoch: 72/100. Iteration: 35/35. Cls loss: 0.07966. Reg loss: 0.23828. Batch loss: 0.31794 Total loss: 0.29559</span><progress style='margin:2px 4px;description_width:initial;' max='35' value='35'></progress>100% 35/35 [02:36&lt;00:00,  4.44s/it]</div>"
            ],
            "text/plain": [
              "<tqdm._fake_ipywidgets.HBox object>"
            ]
          },
          "metadata": {}
        },
        {
          "output_type": "stream",
          "name": "stdout",
          "text": [
            "\n"
          ]
        },
        {
          "output_type": "display_data",
          "data": {
            "text/html": [
              "<div style=\"display:flex;flex-direction:row;\"><span>Epoch: 73/100. Iteration: 35/35. Cls loss: 0.05127. Reg loss: 0.18121. Batch loss: 0.23248 Total loss: 0.28797</span><progress style='margin:2px 4px;description_width:initial;' max='35' value='35'></progress>100% 35/35 [02:36&lt;00:00,  4.44s/it]</div>"
            ],
            "text/plain": [
              "<tqdm._fake_ipywidgets.HBox object>"
            ]
          },
          "metadata": {}
        },
        {
          "output_type": "stream",
          "name": "stdout",
          "text": [
            "\n"
          ]
        },
        {
          "output_type": "display_data",
          "data": {
            "text/html": [
              "<div style=\"display:flex;flex-direction:row;\"><span>Epoch: 74/100. Iteration: 35/35. Cls loss: 0.07076. Reg loss: 0.20650. Batch loss: 0.27726 Total loss: 0.30119</span><progress style='margin:2px 4px;description_width:initial;' max='35' value='35'></progress>100% 35/35 [02:36&lt;00:00,  4.45s/it]</div>"
            ],
            "text/plain": [
              "<tqdm._fake_ipywidgets.HBox object>"
            ]
          },
          "metadata": {}
        },
        {
          "output_type": "stream",
          "name": "stdout",
          "text": [
            "\n"
          ]
        },
        {
          "output_type": "display_data",
          "data": {
            "text/html": [
              "<div style=\"display:flex;flex-direction:row;\"><span>Epoch: 75/100. Iteration: 35/35. Cls loss: 0.06398. Reg loss: 0.27036. Batch loss: 0.33434 Total loss: 0.29792</span><progress style='margin:2px 4px;description_width:initial;' max='35' value='35'></progress>100% 35/35 [02:35&lt;00:00,  4.35s/it]</div>"
            ],
            "text/plain": [
              "<tqdm._fake_ipywidgets.HBox object>"
            ]
          },
          "metadata": {}
        },
        {
          "output_type": "stream",
          "name": "stdout",
          "text": [
            "\n"
          ]
        },
        {
          "output_type": "display_data",
          "data": {
            "text/html": [
              "<div style=\"display:flex;flex-direction:row;\"><span>Epoch: 76/100. Iteration: 35/35. Cls loss: 0.04551. Reg loss: 0.19270. Batch loss: 0.23820 Total loss: 0.28708</span><progress style='margin:2px 4px;description_width:initial;' max='35' value='35'></progress>100% 35/35 [02:34&lt;00:00,  4.38s/it]</div>"
            ],
            "text/plain": [
              "<tqdm._fake_ipywidgets.HBox object>"
            ]
          },
          "metadata": {}
        },
        {
          "output_type": "stream",
          "name": "stdout",
          "text": [
            "\n"
          ]
        },
        {
          "output_type": "display_data",
          "data": {
            "text/html": [
              "<div style=\"display:flex;flex-direction:row;\"><span>Epoch: 77/100. Iteration: 35/35. Cls loss: 0.09845. Reg loss: 0.20610. Batch loss: 0.30455 Total loss: 0.28330</span><progress style='margin:2px 4px;description_width:initial;' max='35' value='35'></progress>100% 35/35 [02:34&lt;00:00,  4.36s/it]</div>"
            ],
            "text/plain": [
              "<tqdm._fake_ipywidgets.HBox object>"
            ]
          },
          "metadata": {}
        },
        {
          "output_type": "stream",
          "name": "stdout",
          "text": [
            "\n"
          ]
        },
        {
          "output_type": "display_data",
          "data": {
            "text/html": [
              "<div style=\"display:flex;flex-direction:row;\"><span>Epoch: 78/100. Iteration: 35/35. Cls loss: 0.08209. Reg loss: 0.24016. Batch loss: 0.32225 Total loss: 0.28964</span><progress style='margin:2px 4px;description_width:initial;' max='35' value='35'></progress>100% 35/35 [02:34&lt;00:00,  4.38s/it]</div>"
            ],
            "text/plain": [
              "<tqdm._fake_ipywidgets.HBox object>"
            ]
          },
          "metadata": {}
        },
        {
          "output_type": "stream",
          "name": "stdout",
          "text": [
            "\n",
            "faild onnx export\n"
          ]
        },
        {
          "output_type": "display_data",
          "data": {
            "text/html": [
              "<div style=\"display:flex;flex-direction:row;\"><span>Epoch: 79/100. Iteration: 35/35. Cls loss: 0.05775. Reg loss: 0.23142. Batch loss: 0.28917 Total loss: 0.27600</span><progress style='margin:2px 4px;description_width:initial;' max='35' value='35'></progress>100% 35/35 [02:28&lt;00:00,  4.21s/it]</div>"
            ],
            "text/plain": [
              "<tqdm._fake_ipywidgets.HBox object>"
            ]
          },
          "metadata": {}
        },
        {
          "output_type": "stream",
          "name": "stdout",
          "text": [
            "\n",
            "faild onnx export\n"
          ]
        },
        {
          "output_type": "display_data",
          "data": {
            "text/html": [
              "<div style=\"display:flex;flex-direction:row;\"><span>Epoch: 80/100. Iteration: 35/35. Cls loss: 0.06755. Reg loss: 0.21553. Batch loss: 0.28308 Total loss: 0.28048</span><progress style='margin:2px 4px;description_width:initial;' max='35' value='35'></progress>100% 35/35 [02:28&lt;00:00,  4.22s/it]</div>"
            ],
            "text/plain": [
              "<tqdm._fake_ipywidgets.HBox object>"
            ]
          },
          "metadata": {}
        },
        {
          "output_type": "stream",
          "name": "stdout",
          "text": [
            "\n"
          ]
        },
        {
          "output_type": "display_data",
          "data": {
            "text/html": [
              "<div style=\"display:flex;flex-direction:row;\"><span>Epoch: 81/100. Iteration: 35/35. Cls loss: 0.05532. Reg loss: 0.21051. Batch loss: 0.26583 Total loss: 0.27105</span><progress style='margin:2px 4px;description_width:initial;' max='35' value='35'></progress>100% 35/35 [02:34&lt;00:00,  4.35s/it]</div>"
            ],
            "text/plain": [
              "<tqdm._fake_ipywidgets.HBox object>"
            ]
          },
          "metadata": {}
        },
        {
          "output_type": "stream",
          "name": "stdout",
          "text": [
            "\n"
          ]
        },
        {
          "output_type": "display_data",
          "data": {
            "text/html": [
              "<div style=\"display:flex;flex-direction:row;\"><span>Epoch: 82/100. Iteration: 35/35. Cls loss: 0.06004. Reg loss: 0.20388. Batch loss: 0.26392 Total loss: 0.27437</span><progress style='margin:2px 4px;description_width:initial;' max='35' value='35'></progress>100% 35/35 [02:34&lt;00:00,  4.38s/it]</div>"
            ],
            "text/plain": [
              "<tqdm._fake_ipywidgets.HBox object>"
            ]
          },
          "metadata": {}
        },
        {
          "output_type": "stream",
          "name": "stdout",
          "text": [
            "\n",
            "faild onnx export\n"
          ]
        },
        {
          "output_type": "display_data",
          "data": {
            "text/html": [
              "<div style=\"display:flex;flex-direction:row;\"><span>Epoch: 83/100. Iteration: 35/35. Cls loss: 0.05224. Reg loss: 0.19666. Batch loss: 0.24889 Total loss: 0.25968</span><progress style='margin:2px 4px;description_width:initial;' max='35' value='35'></progress>100% 35/35 [02:28&lt;00:00,  4.21s/it]</div>"
            ],
            "text/plain": [
              "<tqdm._fake_ipywidgets.HBox object>"
            ]
          },
          "metadata": {}
        },
        {
          "output_type": "stream",
          "name": "stdout",
          "text": [
            "\n"
          ]
        },
        {
          "output_type": "display_data",
          "data": {
            "text/html": [
              "<div style=\"display:flex;flex-direction:row;\"><span>Epoch: 84/100. Iteration: 35/35. Cls loss: 0.06995. Reg loss: 0.15995. Batch loss: 0.22990 Total loss: 0.26252</span><progress style='margin:2px 4px;description_width:initial;' max='35' value='35'></progress>100% 35/35 [02:34&lt;00:00,  4.38s/it]</div>"
            ],
            "text/plain": [
              "<tqdm._fake_ipywidgets.HBox object>"
            ]
          },
          "metadata": {}
        },
        {
          "output_type": "stream",
          "name": "stdout",
          "text": [
            "\n"
          ]
        },
        {
          "output_type": "display_data",
          "data": {
            "text/html": [
              "<div style=\"display:flex;flex-direction:row;\"><span>Epoch: 85/100. Iteration: 35/35. Cls loss: 0.03929. Reg loss: 0.22403. Batch loss: 0.26332 Total loss: 0.25339</span><progress style='margin:2px 4px;description_width:initial;' max='35' value='35'></progress>100% 35/35 [02:34&lt;00:00,  4.35s/it]</div>"
            ],
            "text/plain": [
              "<tqdm._fake_ipywidgets.HBox object>"
            ]
          },
          "metadata": {}
        },
        {
          "output_type": "stream",
          "name": "stdout",
          "text": [
            "\n"
          ]
        },
        {
          "output_type": "display_data",
          "data": {
            "text/html": [
              "<div style=\"display:flex;flex-direction:row;\"><span>Epoch: 86/100. Iteration: 35/35. Cls loss: 0.06911. Reg loss: 0.24142. Batch loss: 0.31052 Total loss: 0.25736</span><progress style='margin:2px 4px;description_width:initial;' max='35' value='35'></progress>100% 35/35 [02:34&lt;00:00,  4.37s/it]</div>"
            ],
            "text/plain": [
              "<tqdm._fake_ipywidgets.HBox object>"
            ]
          },
          "metadata": {}
        },
        {
          "output_type": "stream",
          "name": "stdout",
          "text": [
            "\n",
            "faild onnx export\n"
          ]
        },
        {
          "output_type": "display_data",
          "data": {
            "text/html": [
              "<div style=\"display:flex;flex-direction:row;\"><span>Epoch: 87/100. Iteration: 35/35. Cls loss: 0.05770. Reg loss: 0.21107. Batch loss: 0.26877 Total loss: 0.24668</span><progress style='margin:2px 4px;description_width:initial;' max='35' value='35'></progress>100% 35/35 [02:28&lt;00:00,  4.21s/it]</div>"
            ],
            "text/plain": [
              "<tqdm._fake_ipywidgets.HBox object>"
            ]
          },
          "metadata": {}
        },
        {
          "output_type": "stream",
          "name": "stdout",
          "text": [
            "\n",
            "faild onnx export\n"
          ]
        },
        {
          "output_type": "display_data",
          "data": {
            "text/html": [
              "<div style=\"display:flex;flex-direction:row;\"><span>Epoch: 88/100. Iteration: 35/35. Cls loss: 0.05558. Reg loss: 0.20852. Batch loss: 0.26410 Total loss: 0.25493</span><progress style='margin:2px 4px;description_width:initial;' max='35' value='35'></progress>100% 35/35 [02:28&lt;00:00,  4.20s/it]</div>"
            ],
            "text/plain": [
              "<tqdm._fake_ipywidgets.HBox object>"
            ]
          },
          "metadata": {}
        },
        {
          "output_type": "stream",
          "name": "stdout",
          "text": [
            "\n"
          ]
        },
        {
          "output_type": "display_data",
          "data": {
            "text/html": [
              "<div style=\"display:flex;flex-direction:row;\"><span>Epoch: 89/100. Iteration: 35/35. Cls loss: 0.03936. Reg loss: 0.18078. Batch loss: 0.22013 Total loss: 0.25275</span><progress style='margin:2px 4px;description_width:initial;' max='35' value='35'></progress>100% 35/35 [02:34&lt;00:00,  4.37s/it]</div>"
            ],
            "text/plain": [
              "<tqdm._fake_ipywidgets.HBox object>"
            ]
          },
          "metadata": {}
        },
        {
          "output_type": "stream",
          "name": "stdout",
          "text": [
            "\n"
          ]
        },
        {
          "output_type": "display_data",
          "data": {
            "text/html": [
              "<div style=\"display:flex;flex-direction:row;\"><span>Epoch: 90/100. Iteration: 35/35. Cls loss: 0.06331. Reg loss: 0.18007. Batch loss: 0.24337 Total loss: 0.25446</span><progress style='margin:2px 4px;description_width:initial;' max='35' value='35'></progress>100% 35/35 [02:34&lt;00:00,  4.38s/it]</div>"
            ],
            "text/plain": [
              "<tqdm._fake_ipywidgets.HBox object>"
            ]
          },
          "metadata": {}
        },
        {
          "output_type": "stream",
          "name": "stdout",
          "text": [
            "\n"
          ]
        },
        {
          "output_type": "display_data",
          "data": {
            "text/html": [
              "<div style=\"display:flex;flex-direction:row;\"><span>Epoch: 91/100. Iteration: 35/35. Cls loss: 0.04940. Reg loss: 0.20464. Batch loss: 0.25404 Total loss: 0.24483</span><progress style='margin:2px 4px;description_width:initial;' max='35' value='35'></progress>100% 35/35 [02:34&lt;00:00,  4.37s/it]</div>"
            ],
            "text/plain": [
              "<tqdm._fake_ipywidgets.HBox object>"
            ]
          },
          "metadata": {}
        },
        {
          "output_type": "stream",
          "name": "stdout",
          "text": [
            "\n",
            "faild onnx export\n"
          ]
        },
        {
          "output_type": "display_data",
          "data": {
            "text/html": [
              "<div style=\"display:flex;flex-direction:row;\"><span>Epoch: 92/100. Iteration: 35/35. Cls loss: 0.06480. Reg loss: 0.23573. Batch loss: 0.30053 Total loss: 0.24543</span><progress style='margin:2px 4px;description_width:initial;' max='35' value='35'></progress>100% 35/35 [02:28&lt;00:00,  4.22s/it]</div>"
            ],
            "text/plain": [
              "<tqdm._fake_ipywidgets.HBox object>"
            ]
          },
          "metadata": {}
        },
        {
          "output_type": "stream",
          "name": "stdout",
          "text": [
            "\n",
            "faild onnx export\n"
          ]
        },
        {
          "output_type": "display_data",
          "data": {
            "text/html": [
              "<div style=\"display:flex;flex-direction:row;\"><span>Epoch: 93/100. Iteration: 35/35. Cls loss: 0.05008. Reg loss: 0.14680. Batch loss: 0.19688 Total loss: 0.24147</span><progress style='margin:2px 4px;description_width:initial;' max='35' value='35'></progress>100% 35/35 [02:28&lt;00:00,  4.22s/it]</div>"
            ],
            "text/plain": [
              "<tqdm._fake_ipywidgets.HBox object>"
            ]
          },
          "metadata": {}
        },
        {
          "output_type": "stream",
          "name": "stdout",
          "text": [
            "\n"
          ]
        },
        {
          "output_type": "display_data",
          "data": {
            "text/html": [
              "<div style=\"display:flex;flex-direction:row;\"><span>Epoch: 94/100. Iteration: 35/35. Cls loss: 0.04554. Reg loss: 0.17198. Batch loss: 0.21752 Total loss: 0.24620</span><progress style='margin:2px 4px;description_width:initial;' max='35' value='35'></progress>100% 35/35 [02:34&lt;00:00,  4.41s/it]</div>"
            ],
            "text/plain": [
              "<tqdm._fake_ipywidgets.HBox object>"
            ]
          },
          "metadata": {}
        },
        {
          "output_type": "stream",
          "name": "stdout",
          "text": [
            "\n"
          ]
        },
        {
          "output_type": "display_data",
          "data": {
            "text/html": [
              "<div style=\"display:flex;flex-direction:row;\"><span>Epoch: 95/100. Iteration: 35/35. Cls loss: 0.04265. Reg loss: 0.16340. Batch loss: 0.20605 Total loss: 0.24806</span><progress style='margin:2px 4px;description_width:initial;' max='35' value='35'></progress>100% 35/35 [02:34&lt;00:00,  4.37s/it]</div>"
            ],
            "text/plain": [
              "<tqdm._fake_ipywidgets.HBox object>"
            ]
          },
          "metadata": {}
        },
        {
          "output_type": "stream",
          "name": "stdout",
          "text": [
            "\n"
          ]
        },
        {
          "output_type": "display_data",
          "data": {
            "text/html": [
              "<div style=\"display:flex;flex-direction:row;\"><span>Epoch: 96/100. Iteration: 35/35. Cls loss: 0.03638. Reg loss: 0.13975. Batch loss: 0.17613 Total loss: 0.23944</span><progress style='margin:2px 4px;description_width:initial;' max='35' value='35'></progress>100% 35/35 [02:34&lt;00:00,  4.41s/it]</div>"
            ],
            "text/plain": [
              "<tqdm._fake_ipywidgets.HBox object>"
            ]
          },
          "metadata": {}
        },
        {
          "output_type": "stream",
          "name": "stdout",
          "text": [
            "\n",
            "faild onnx export\n"
          ]
        },
        {
          "output_type": "display_data",
          "data": {
            "text/html": [
              "<div style=\"display:flex;flex-direction:row;\"><span>Epoch: 97/100. Iteration: 35/35. Cls loss: 0.03047. Reg loss: 0.15196. Batch loss: 0.18243 Total loss: 0.22973</span><progress style='margin:2px 4px;description_width:initial;' max='35' value='35'></progress>100% 35/35 [02:28&lt;00:00,  4.22s/it]</div>"
            ],
            "text/plain": [
              "<tqdm._fake_ipywidgets.HBox object>"
            ]
          },
          "metadata": {}
        },
        {
          "output_type": "stream",
          "name": "stdout",
          "text": [
            "\n"
          ]
        },
        {
          "output_type": "display_data",
          "data": {
            "text/html": [
              "<div style=\"display:flex;flex-direction:row;\"><span>Epoch: 98/100. Iteration: 35/35. Cls loss: 0.05400. Reg loss: 0.19180. Batch loss: 0.24579 Total loss: 0.23652</span><progress style='margin:2px 4px;description_width:initial;' max='35' value='35'></progress>100% 35/35 [02:34&lt;00:00,  4.38s/it]</div>"
            ],
            "text/plain": [
              "<tqdm._fake_ipywidgets.HBox object>"
            ]
          },
          "metadata": {}
        },
        {
          "output_type": "stream",
          "name": "stdout",
          "text": [
            "\n"
          ]
        },
        {
          "output_type": "display_data",
          "data": {
            "text/html": [
              "<div style=\"display:flex;flex-direction:row;\"><span>Epoch: 99/100. Iteration: 35/35. Cls loss: 0.03363. Reg loss: 0.16488. Batch loss: 0.19852 Total loss: 0.22953</span><progress style='margin:2px 4px;description_width:initial;' max='35' value='35'></progress>100% 35/35 [02:34&lt;00:00,  4.40s/it]</div>"
            ],
            "text/plain": [
              "<tqdm._fake_ipywidgets.HBox object>"
            ]
          },
          "metadata": {}
        },
        {
          "output_type": "stream",
          "name": "stdout",
          "text": [
            "\n"
          ]
        },
        {
          "output_type": "display_data",
          "data": {
            "text/html": [
              "<div style=\"display:flex;flex-direction:row;\"><span>Epoch: 100/100. Iteration: 35/35. Cls loss: 0.06048. Reg loss: 0.15445. Batch loss: 0.21493 Total loss: 0.22779</span><progress style='margin:2px 4px;description_width:initial;' max='35' value='35'></progress>100% 35/35 [02:35&lt;00:00,  4.39s/it]</div>"
            ],
            "text/plain": [
              "<tqdm._fake_ipywidgets.HBox object>"
            ]
          },
          "metadata": {}
        },
        {
          "output_type": "stream",
          "name": "stdout",
          "text": [
            "\n",
            "CPU times: user 4h 27min 47s, sys: 5min 48s, total: 4h 33min 35s\n",
            "Wall time: 4h 35min 9s\n"
          ]
        }
      ]
    },
    {
      "cell_type": "code",
      "metadata": {
        "id": "ZV8aWR1rV-gf"
      },
      "source": [
        "import os\n",
        "import sys\n",
        "sys.path.append(\"Monk_Object_Detection/4_efficientdet/lib/\");"
      ],
      "execution_count": 17,
      "outputs": []
    },
    {
      "cell_type": "code",
      "metadata": {
        "id": "i55fLiAZWEjL"
      },
      "source": [
        "from infer_detector import Infer"
      ],
      "execution_count": 18,
      "outputs": []
    },
    {
      "cell_type": "code",
      "metadata": {
        "id": "h7ZnWq8YWHGm"
      },
      "source": [
        "gtf2 = Infer();"
      ],
      "execution_count": 19,
      "outputs": []
    },
    {
      "cell_type": "code",
      "metadata": {
        "id": "nsu6TZJdWQHG"
      },
      "source": [
        "gtf2.Model(model_dir=\"trained/\")"
      ],
      "execution_count": 20,
      "outputs": []
    },
    {
      "cell_type": "code",
      "metadata": {
        "colab": {
          "base_uri": "https://localhost:8080/"
        },
        "id": "BUpNHXcgWUFc",
        "outputId": "9d5e67f4-f3fa-4739-d049-d43477eb4f90"
      },
      "source": [
        "import json\n",
        "with open('train/_annotations.coco.json') as json_file:\n",
        "    data = json.load(json_file)\n",
        "class_list = []\n",
        "for category in data['categories']:\n",
        "  class_list.append(category['name'])\n",
        "\n",
        "class_list"
      ],
      "execution_count": 22,
      "outputs": [
        {
          "output_type": "execute_result",
          "data": {
            "text/plain": [
              "['Objects', 'gun', 'helmet']"
            ]
          },
          "metadata": {},
          "execution_count": 22
        }
      ]
    },
    {
      "cell_type": "code",
      "metadata": {
        "colab": {
          "base_uri": "https://localhost:8080/"
        },
        "id": "1sBlRB4LWVki",
        "outputId": "fbe37204-05c7-45d0-9aaa-f84f91bc43e7"
      },
      "source": [
        "%%time\n",
        "test_images = [f for f in os.listdir('test') if f.endswith('.jpg')]\n",
        "import random\n",
        "img_path = \"test/\" + random.choice(test_images);\n",
        "duration, scores, labels, boxes = gtf2.Predict(img_path, class_list, vis_threshold=0.2);"
      ],
      "execution_count": 74,
      "outputs": [
        {
          "output_type": "stream",
          "name": "stdout",
          "text": [
            "Done. (0.194s)\n",
            "CPU times: user 204 ms, sys: 21 ms, total: 225 ms\n",
            "Wall time: 223 ms\n"
          ]
        }
      ]
    },
    {
      "cell_type": "code",
      "metadata": {
        "colab": {
          "base_uri": "https://localhost:8080/",
          "height": 433
        },
        "id": "XoiNEcCYWhLt",
        "outputId": "746e3340-6edf-43a8-f31d-505f54347c35"
      },
      "source": [
        "from IPython.display import Image\n",
        "Image(filename='output.jpg') "
      ],
      "execution_count": 75,
      "outputs": [
        {
          "output_type": "execute_result",
          "data": {
            "image/jpeg": "[encoded data removed]",
            "text/plain": [
              "<IPython.core.display.Image object>"
            ]
          },
          "metadata": {},
          "execution_count": 75
        }
      ]
    },
    {
      "cell_type": "code",
      "metadata": {
        "colab": {
          "base_uri": "https://localhost:8080/"
        },
        "id": "m_tXD4cPWwVO",
        "outputId": "20b7faa5-891b-4571-91da-6d40d1847b8b"
      },
      "source": [
        "from google.colab import drive\n",
        "drive.mount('/content/drive')"
      ],
      "execution_count": 27,
      "outputs": [
        {
          "output_type": "stream",
          "name": "stdout",
          "text": [
            "Mounted at /content/drive\n"
          ]
        }
      ]
    },
    {
      "cell_type": "code",
      "metadata": {
        "id": "601iCVG4W3x8"
      },
      "source": [
        "%mkdir trained_export\n",
        "%cp ./trained/signatrix_efficientdet_coco.onnx ./trained_export/signatrix_efficientdet_coco_$(date +%F-%H:%M).onnx\n",
        "%cp ./trained/signatrix_efficientdet_coco.pth ./trained_export/signatrix_efficientdet_coco_$(date +%F-%H:%M).pth\n",
        "%mv ./trained_export/* /content/drive/My\\ Drive/"
      ],
      "execution_count": 28,
      "outputs": []
    },
    {
      "cell_type": "code",
      "metadata": {
        "id": "hVQClo-ZfZun"
      },
      "source": [
        ""
      ],
      "execution_count": null,
      "outputs": []
    }
  ]
}