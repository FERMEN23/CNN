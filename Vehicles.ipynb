{
  "nbformat": 4,
  "nbformat_minor": 0,
  "metadata": {
    "colab": {
      "name": "Vehicles.ipynb",
      "provenance": [],
      "collapsed_sections": [],
      "machine_shape": "hm",
      "include_colab_link": true
    },
    "kernelspec": {
      "name": "python3",
      "display_name": "Python 3"
    },
    "language_info": {
      "name": "python"
    },
    "accelerator": "GPU"
  },
  "cells": [
    {
      "cell_type": "markdown",
      "metadata": {
        "id": "view-in-github",
        "colab_type": "text"
      },
      "source": [
        "<a href=\"https://colab.research.google.com/github/FERMEN23/CNN/blob/main/Vehicles.ipynb\" target=\"_parent\"><img src=\"https://colab.research.google.com/assets/colab-badge.svg\" alt=\"Open In Colab\"/></a>"
      ]
    },
    {
      "cell_type": "markdown",
      "metadata": {
        "id": "RI18vo0Pz37A"
      },
      "source": [
        "##Configuración de nuestro entorno de ejecución\n",
        "\n",
        "Nota: Es necesario utilizar la GPU\n",
        "\n",
        "Las celdas que no tienen el módulo time, es dado que su tiempo de ejecución es de milisegundo, en los tiempos de ejecución mostrados en este cuaderno se ha usado la versión de Google Colab Pro\n"
      ]
    },
    {
      "cell_type": "code",
      "metadata": {
        "id": "o07XzZ0fUpjG",
        "colab": {
          "base_uri": "https://localhost:8080/"
        },
        "outputId": "d1681aaf-d5ce-48f5-db63-01ade3c07d50"
      },
      "source": [
        "%%time\n",
        "! git clone https://github.com/roboflow-ai/Monk_Object_Detection.git"
      ],
      "execution_count": 1,
      "outputs": [
        {
          "output_type": "stream",
          "name": "stdout",
          "text": [
            "Cloning into 'Monk_Object_Detection'...\n",
            "remote: Enumerating objects: 3747, done.\u001b[K\n",
            "remote: Total 3747 (delta 0), reused 0 (delta 0), pack-reused 3747\u001b[K\n",
            "Receiving objects: 100% (3747/3747), 132.20 MiB | 19.18 MiB/s, done.\n",
            "Resolving deltas: 100% (800/800), done.\n",
            "Checking out files: 100% (4032/4032), done.\n",
            "CPU times: user 85.3 ms, sys: 27.2 ms, total: 113 ms\n",
            "Wall time: 10.7 s\n"
          ]
        }
      ]
    },
    {
      "cell_type": "code",
      "metadata": {
        "id": "DIN3c7vCVNnF",
        "colab": {
          "base_uri": "https://localhost:8080/"
        },
        "outputId": "6bf30172-4e9b-4994-d275-5864aa88b75a"
      },
      "source": [
        "%%time\n",
        "! cd Monk_Object_Detection/3_mxrcnn/installation && cat requirements_colab.txt | xargs -n 1 -L 1 pip install"
      ],
      "execution_count": 2,
      "outputs": [
        {
          "output_type": "stream",
          "name": "stdout",
          "text": [
            "Collecting mxnet-cu100\n",
            "  Downloading mxnet_cu100-1.8.0.post0-py2.py3-none-manylinux2014_x86_64.whl (352.6 MB)\n",
            "\u001b[K     |████████████████████████████████| 352.6 MB 11 kB/s \n",
            "\u001b[?25hRequirement already satisfied: numpy<2.0.0,>1.16.0 in /usr/local/lib/python3.7/dist-packages (from mxnet-cu100) (1.19.5)\n",
            "Collecting graphviz<0.9.0,>=0.8.1\n",
            "  Downloading graphviz-0.8.4-py2.py3-none-any.whl (16 kB)\n",
            "Requirement already satisfied: requests<3,>=2.20.0 in /usr/local/lib/python3.7/dist-packages (from mxnet-cu100) (2.23.0)\n",
            "Requirement already satisfied: urllib3!=1.25.0,!=1.25.1,<1.26,>=1.21.1 in /usr/local/lib/python3.7/dist-packages (from requests<3,>=2.20.0->mxnet-cu100) (1.24.3)\n",
            "Requirement already satisfied: chardet<4,>=3.0.2 in /usr/local/lib/python3.7/dist-packages (from requests<3,>=2.20.0->mxnet-cu100) (3.0.4)\n",
            "Requirement already satisfied: idna<3,>=2.5 in /usr/local/lib/python3.7/dist-packages (from requests<3,>=2.20.0->mxnet-cu100) (2.10)\n",
            "Requirement already satisfied: certifi>=2017.4.17 in /usr/local/lib/python3.7/dist-packages (from requests<3,>=2.20.0->mxnet-cu100) (2021.5.30)\n",
            "Installing collected packages: graphviz, mxnet-cu100\n",
            "  Attempting uninstall: graphviz\n",
            "    Found existing installation: graphviz 0.10.1\n",
            "    Uninstalling graphviz-0.10.1:\n",
            "      Successfully uninstalled graphviz-0.10.1\n",
            "Successfully installed graphviz-0.8.4 mxnet-cu100-1.8.0.post0\n",
            "Collecting dicttoxml\n",
            "  Downloading dicttoxml-1.7.4.tar.gz (18 kB)\n",
            "Building wheels for collected packages: dicttoxml\n",
            "  Building wheel for dicttoxml (setup.py) ... \u001b[?25l\u001b[?25hdone\n",
            "  Created wheel for dicttoxml: filename=dicttoxml-1.7.4-py3-none-any.whl size=17463 sha256=564577b185d618d6a5922db10a793b2271a1a9d954d39207877e784adfbdeb36\n",
            "  Stored in directory: /root/.cache/pip/wheels/18/44/5a/c7b93703f611ae3b50820efbaf265413e6b183a56cbec6f661\n",
            "Successfully built dicttoxml\n",
            "Installing collected packages: dicttoxml\n",
            "Successfully installed dicttoxml-1.7.4\n",
            "Collecting xmltodict\n",
            "  Downloading xmltodict-0.12.0-py2.py3-none-any.whl (9.2 kB)\n",
            "Installing collected packages: xmltodict\n",
            "Successfully installed xmltodict-0.12.0\n",
            "Collecting pycocotools\n",
            "  Cloning https://github.com/abhi-kumar/cocoapi.git to /tmp/pip-install-zahl9t4t/pycocotools_02917790615142c5b1688805b2e6700c\n",
            "  Running command git clone -q https://github.com/abhi-kumar/cocoapi.git /tmp/pip-install-zahl9t4t/pycocotools_02917790615142c5b1688805b2e6700c\n",
            "Requirement already satisfied: setuptools>=18.0 in /usr/local/lib/python3.7/dist-packages (from pycocotools) (57.4.0)\n",
            "Requirement already satisfied: cython>=0.27.3 in /usr/local/lib/python3.7/dist-packages (from pycocotools) (0.29.24)\n",
            "Requirement already satisfied: matplotlib>=2.1.0 in /usr/local/lib/python3.7/dist-packages (from pycocotools) (3.2.2)\n",
            "Requirement already satisfied: cycler>=0.10 in /usr/local/lib/python3.7/dist-packages (from matplotlib>=2.1.0->pycocotools) (0.10.0)\n",
            "Requirement already satisfied: kiwisolver>=1.0.1 in /usr/local/lib/python3.7/dist-packages (from matplotlib>=2.1.0->pycocotools) (1.3.2)\n",
            "Requirement already satisfied: python-dateutil>=2.1 in /usr/local/lib/python3.7/dist-packages (from matplotlib>=2.1.0->pycocotools) (2.8.2)\n",
            "Requirement already satisfied: pyparsing!=2.0.4,!=2.1.2,!=2.1.6,>=2.0.1 in /usr/local/lib/python3.7/dist-packages (from matplotlib>=2.1.0->pycocotools) (2.4.7)\n",
            "Requirement already satisfied: numpy>=1.11 in /usr/local/lib/python3.7/dist-packages (from matplotlib>=2.1.0->pycocotools) (1.19.5)\n",
            "Requirement already satisfied: six in /usr/local/lib/python3.7/dist-packages (from cycler>=0.10->matplotlib>=2.1.0->pycocotools) (1.15.0)\n",
            "Building wheels for collected packages: pycocotools\n",
            "  Building wheel for pycocotools (setup.py) ... \u001b[?25l\u001b[?25hdone\n",
            "  Created wheel for pycocotools: filename=pycocotools-2.0-cp37-cp37m-linux_x86_64.whl size=263851 sha256=af6c3c06d69c6c4aba5887b927672c82b5cbbf424f9f8eaf10ab988e4b901bde\n",
            "  Stored in directory: /tmp/pip-ephem-wheel-cache-aogow_dt/wheels/b8/4c/a6/f34b4aa3f634b4461fc1934f6d1dedf20df540f6a028547647\n",
            "Successfully built pycocotools\n",
            "Installing collected packages: pycocotools\n",
            "  Attempting uninstall: pycocotools\n",
            "    Found existing installation: pycocotools 2.0.2\n",
            "    Uninstalling pycocotools-2.0.2:\n",
            "      Successfully uninstalled pycocotools-2.0.2\n",
            "Successfully installed pycocotools-2.0\n",
            "CPU times: user 1.16 s, sys: 337 ms, total: 1.49 s\n",
            "Wall time: 44.5 s\n"
          ]
        }
      ]
    },
    {
      "cell_type": "code",
      "metadata": {
        "id": "LEdV1tBQVfp8",
        "colab": {
          "base_uri": "https://localhost:8080/"
        },
        "outputId": "61cec3fb-77f7-48a5-f4cc-7c9a55c47b69"
      },
      "source": [
        "%%time\n",
        "#Version de tqmd para colab\n",
        "!pip install --force https://github.com/chengs/tqdm/archive/colab.zip\n",
        "\n",
        "#Arquitectura de red Efficeintnet\n",
        "!pip install efficientnet_pytorch\n",
        "!pip install tensorboardX"
      ],
      "execution_count": 3,
      "outputs": [
        {
          "output_type": "stream",
          "name": "stdout",
          "text": [
            "Collecting https://github.com/chengs/tqdm/archive/colab.zip\n",
            "  Downloading https://github.com/chengs/tqdm/archive/colab.zip\n",
            "\u001b[K     \\ 91 kB 4.3 MB/s\n",
            "\u001b[?25hBuilding wheels for collected packages: tqdm\n",
            "  Building wheel for tqdm (setup.py) ... \u001b[?25l\u001b[?25hdone\n",
            "  Created wheel for tqdm: filename=tqdm-4.28.1-py2.py3-none-any.whl size=47878 sha256=cd0458fec18c9a9c83fb2d447e23aaa0dd5d5450c5052994b5c683c07a25cec7\n",
            "  Stored in directory: /tmp/pip-ephem-wheel-cache-4rvqtw05/wheels/b5/36/d9/593e7ac06d343d0a32138fa6c402dc3a0bd31442c9fe53f76c\n",
            "Successfully built tqdm\n",
            "Installing collected packages: tqdm\n",
            "  Attempting uninstall: tqdm\n",
            "    Found existing installation: tqdm 4.62.3\n",
            "    Uninstalling tqdm-4.62.3:\n",
            "      Successfully uninstalled tqdm-4.62.3\n",
            "\u001b[31mERROR: pip's dependency resolver does not currently take into account all the packages that are installed. This behaviour is the source of the following dependency conflicts.\n",
            "spacy 2.2.4 requires tqdm<5.0.0,>=4.38.0, but you have tqdm 4.28.1 which is incompatible.\n",
            "panel 0.12.1 requires tqdm>=4.48.0, but you have tqdm 4.28.1 which is incompatible.\n",
            "fbprophet 0.7.1 requires tqdm>=4.36.1, but you have tqdm 4.28.1 which is incompatible.\u001b[0m\n",
            "Successfully installed tqdm-4.28.1\n",
            "Collecting efficientnet_pytorch\n",
            "  Downloading efficientnet_pytorch-0.7.1.tar.gz (21 kB)\n",
            "Requirement already satisfied: torch in /usr/local/lib/python3.7/dist-packages (from efficientnet_pytorch) (1.9.0+cu111)\n",
            "Requirement already satisfied: typing-extensions in /usr/local/lib/python3.7/dist-packages (from torch->efficientnet_pytorch) (3.7.4.3)\n",
            "Building wheels for collected packages: efficientnet-pytorch\n",
            "  Building wheel for efficientnet-pytorch (setup.py) ... \u001b[?25l\u001b[?25hdone\n",
            "  Created wheel for efficientnet-pytorch: filename=efficientnet_pytorch-0.7.1-py3-none-any.whl size=16446 sha256=432deb33ba9a9d95edcdb7d13b98c10395d5befee9bff4fb59a14afe1fc9cad9\n",
            "  Stored in directory: /root/.cache/pip/wheels/0e/cc/b2/49e74588263573ff778da58cc99b9c6349b496636a7e165be6\n",
            "Successfully built efficientnet-pytorch\n",
            "Installing collected packages: efficientnet-pytorch\n",
            "Successfully installed efficientnet-pytorch-0.7.1\n",
            "Collecting tensorboardX\n",
            "  Downloading tensorboardX-2.4-py2.py3-none-any.whl (124 kB)\n",
            "\u001b[K     |████████████████████████████████| 124 kB 6.8 MB/s \n",
            "\u001b[?25hRequirement already satisfied: protobuf>=3.8.0 in /usr/local/lib/python3.7/dist-packages (from tensorboardX) (3.17.3)\n",
            "Requirement already satisfied: numpy in /usr/local/lib/python3.7/dist-packages (from tensorboardX) (1.19.5)\n",
            "Requirement already satisfied: six>=1.9 in /usr/local/lib/python3.7/dist-packages (from protobuf>=3.8.0->tensorboardX) (1.15.0)\n",
            "Installing collected packages: tensorboardX\n",
            "Successfully installed tensorboardX-2.4\n",
            "CPU times: user 68.3 ms, sys: 39.9 ms, total: 108 ms\n",
            "Wall time: 9.37 s\n"
          ]
        }
      ]
    },
    {
      "cell_type": "markdown",
      "metadata": {
        "id": "XGTHp4Aj7xzV"
      },
      "source": [
        "##Obtener Datos de Roboflow\n",
        "\n",
        "Recuerde que el espacio ENLACE corresponde al código de descarga en el formato COCO Json proporcionado por Roboflow "
      ]
    },
    {
      "cell_type": "code",
      "metadata": {
        "id": "OJKO2njCVmCD",
        "colab": {
          "base_uri": "https://localhost:8080/"
        },
        "outputId": "eef4ee5c-b453-4cf3-8428-49ad5e3c76df"
      },
      "source": [
        "%%time\n",
        "!curl -L \"ENLACE\" > \\\n",
        "roboflow.zip; unzip roboflow.zip; \\\n",
        "rm roboflow.zip"
      ],
      "execution_count": 4,
      "outputs": [
        {
          "output_type": "stream",
          "name": "stdout",
          "text": [
            "  % Total    % Received % Xferd  Average Speed   Time    Time     Time  Current\n",
            "                                 Dload  Upload   Total   Spent    Left  Speed\n",
            "100   879  100   879    0     0    725      0  0:00:01  0:00:01 --:--:--   725\n",
            "100 38.9M  100 38.9M    0     0  21.4M      0  0:00:01  0:00:01 --:--:-- 97.6M\n",
            "Archive:  roboflow.zip\n",
            " extracting: README.dataset.txt      \n",
            " extracting: README.roboflow.txt     \n",
            "   creating: test/\n",
            " extracting: test/00dea1edf14f09ab_jpg.rf.3f17c8790a68659d03b1939a59ccda80.jpg  \n",
            " extracting: test/00dea1edf14f09ab_jpg.rf.KJ730oDTFPdXdJxvSLnX.jpg  \n",
            " extracting: test/00e481ea1a520175_jpg.rf.6e6a8b3b45c9a11d106958f88ff714ea.jpg  \n",
            " extracting: test/00e481ea1a520175_jpg.rf.MV6sZ8QCFwFeMYaI2tHm.jpg  \n",
            " extracting: test/08c8b73e0c2e296e_jpg.rf.7IkYAamjZhnwsoXSrwKt.jpg  \n",
            " extracting: test/08c8b73e0c2e296e_jpg.rf.effa65856584463c08848031cab357b9.jpg  \n",
            " extracting: test/10c26c6598677a1f_jpg.rf.USCbBYVcUICkLhuq07Lw.jpg  \n",
            " extracting: test/10c26c6598677a1f_jpg.rf.f72b2b91e750909f68fffeee777e9350.jpg  \n",
            " extracting: test/1ef77c61856d3b4b_jpg.rf.HZMSiUVx3WUcMIooJMZX.jpg  \n",
            " extracting: test/1ef77c61856d3b4b_jpg.rf.a528f50763101224fad39907062c5026.jpg  \n",
            " extracting: test/259ff749ac781352_jpg.rf.8acc4aba3916d2dd58c3acca8890194b.jpg  \n",
            " extracting: test/259ff749ac781352_jpg.rf.CZyKDHyPjIcTpIwNJ2rd.jpg  \n",
            " extracting: test/2c21c734126f9f69_jpg.rf.5b6a30b89f06d6dbe401038cb7caf396.jpg  \n",
            " extracting: test/2c21c734126f9f69_jpg.rf.9G8Ajct2ynuOcQoTES9z.jpg  \n",
            " extracting: test/2eaf88e3156629c6_jpg.rf.2a8LCMIPEihcmaF7wMjX.jpg  \n",
            " extracting: test/2eaf88e3156629c6_jpg.rf.73ce41f3e4820d02eecbb00c405e6e6e.jpg  \n",
            " extracting: test/31d30eccf56cac5f_jpg.rf.DPfttPJtcKnLajb1gulu.jpg  \n",
            " extracting: test/31d30eccf56cac5f_jpg.rf.c8541ffad78068c67ad369640d6c2b47.jpg  \n",
            " extracting: test/3281f85bb3265523_jpg.rf.3d2bbcf2b4bd95523d7be04566ae2565.jpg  \n",
            " extracting: test/3281f85bb3265523_jpg.rf.h2dkv1fIXvgeK5x8f1Te.jpg  \n",
            " extracting: test/3429c6851095a4c3_jpg.rf.2921b5c17bda3bda8b69e0f8b5e44894.jpg  \n",
            " extracting: test/3429c6851095a4c3_jpg.rf.fqPa3xt3eK2RXoQ756m6.jpg  \n",
            " extracting: test/479012386aa308fb_jpg.rf.24d80cdb95dae89bc61b36651306c45f.jpg  \n",
            " extracting: test/479012386aa308fb_jpg.rf.VLWysXm9Sry0kGyATZBb.jpg  \n",
            " extracting: test/47b09b34e24b4039_jpg.rf.9274b35afd28c89ed4221e69e765e71d.jpg  \n",
            " extracting: test/47b09b34e24b4039_jpg.rf.SXhYsnLDkwnvDNU811ds.jpg  \n",
            " extracting: test/4ecafc9a0bae8003_jpg.rf.2UbsFgyK4QxCrSNix6wM.jpg  \n",
            " extracting: test/4ecafc9a0bae8003_jpg.rf.f9f2a4cdc2c519b8feeb3ab0c04a7e1d.jpg  \n",
            " extracting: test/567af04eef831f07_jpg.rf.b4410b0bb9811109a262c377ec82c6bf.jpg  \n",
            " extracting: test/567af04eef831f07_jpg.rf.zOgs6D5m0Qg5DNYOGw83.jpg  \n",
            " extracting: test/58163cb625c30451_jpg.rf.f224c9704e2d5d99e2da9e3815ce4374.jpg  \n",
            " extracting: test/58163cb625c30451_jpg.rf.qzv8RVHFUESFStEECs8Y.jpg  \n",
            " extracting: test/59b1c028bd8b08dc_jpg.rf.7cee04415facc914c97d31374c550472.jpg  \n",
            " extracting: test/59b1c028bd8b08dc_jpg.rf.hZvI4yexc1c6709HMKkq.jpg  \n",
            " extracting: test/61b330a7098fba8b_jpg.rf.PvkjLyR5FqHNWALMC9tR.jpg  \n",
            " extracting: test/61b330a7098fba8b_jpg.rf.d26d49aaf1da085ec08dc3e6cbb030b8.jpg  \n",
            " extracting: test/621edf1632f6f63c_jpg.rf.caa3c8e665a2cccfbaf94d9c70999e94.jpg  \n",
            " extracting: test/621edf1632f6f63c_jpg.rf.mHET2dhSa787SiBvJxBE.jpg  \n",
            " extracting: test/64918de984156adf_jpg.rf.b1255cf890c76ce326916ffcc9e2ca2d.jpg  \n",
            " extracting: test/64918de984156adf_jpg.rf.oG9xHqC6y9JQHQyqJ3y8.jpg  \n",
            " extracting: test/6a16101bb9217422_jpg.rf.3d3f8d8294a272eb9272eaf3fa871751.jpg  \n",
            " extracting: test/6a16101bb9217422_jpg.rf.8WKpVgqqjh9DUhom2WOC.jpg  \n",
            " extracting: test/6bc019fc59fce6bc_jpg.rf.VJAhyBJnfIldtscisZ3p.jpg  \n",
            " extracting: test/6bc019fc59fce6bc_jpg.rf.c948d1ae1b4d24a960336d334ef7b6ea.jpg  \n",
            " extracting: test/6d5d24e86c1ff260_jpg.rf.f7acfa6e4c8049353976699fcd4d515f.jpg  \n",
            " extracting: test/6d5d24e86c1ff260_jpg.rf.xc7Xmsiy5QL5Ux1uJ7Lv.jpg  \n",
            " extracting: test/6dce4caa5b30c32a_jpg.rf.99b1738867fe889250ccde59b52715fb.jpg  \n",
            " extracting: test/6dce4caa5b30c32a_jpg.rf.ptCAjjugxBjYRY2Pe2IP.jpg  \n",
            " extracting: test/6e85d4ef31b5eed3_jpg.rf.01ea5ec813abb42ce956650ad5ea6a35.jpg  \n",
            " extracting: test/6e85d4ef31b5eed3_jpg.rf.AOgdpzbR1UnLQJvr9mfx.jpg  \n",
            " extracting: test/6f6e6ee0f2f3e68a_jpg.rf.5c3fe7658919995026da87e1d5fa6c24.jpg  \n",
            " extracting: test/6f6e6ee0f2f3e68a_jpg.rf.hS7GaqosJzGzkS9RD7Wz.jpg  \n",
            " extracting: test/72e16f7160358c50_jpg.rf.43ab0d7684390f4c28a098404164f5f8.jpg  \n",
            " extracting: test/72e16f7160358c50_jpg.rf.p1glBr5tchCYf248Nu0S.jpg  \n",
            " extracting: test/778f80f86cd35fca_jpg.rf.74dd531b37bb62f4d40e624dcd9d44d3.jpg  \n",
            " extracting: test/778f80f86cd35fca_jpg.rf.rvpvlWkcR8MNONYPfAvI.jpg  \n",
            " extracting: test/7b1c58ed404a2ca1_jpg.rf.79fBvGzcTdK9pFforgXa.jpg  \n",
            " extracting: test/7b1c58ed404a2ca1_jpg.rf.8316aa9e4a9561772111bf4edaca3737.jpg  \n",
            " extracting: test/7baf801decfab71a_jpg.rf.1atdX9M2VU1J7hd8ePoy.jpg  \n",
            " extracting: test/7baf801decfab71a_jpg.rf.21c80f0a2bff5314b583936be2149156.jpg  \n",
            " extracting: test/82a06e5f21d877a5_jpg.rf.0CLEM5oy7jeOH6eRbFBl.jpg  \n",
            " extracting: test/82a06e5f21d877a5_jpg.rf.3669fd7f7e84394cf6a9839ed9a984e3.jpg  \n",
            " extracting: test/861be2a154763b07_jpg.rf.6a7c5056da0a16a78233ed4c49deee25.jpg  \n",
            " extracting: test/861be2a154763b07_jpg.rf.nvXuwhf3jtMFPo9ZSdaA.jpg  \n",
            " extracting: test/86f2efc6efadba44_jpg.rf.0eyOFjUiqZtQ2OxnzB4C.jpg  \n",
            " extracting: test/86f2efc6efadba44_jpg.rf.17b9e1c5386e8cd067f776f95f2139a7.jpg  \n",
            " extracting: test/8ccad0d567bc7aad_jpg.rf.bbeeab003239f3c9854ed0d97fbc3520.jpg  \n",
            " extracting: test/8ccad0d567bc7aad_jpg.rf.c9Avid7rlCLPzDmR8Jm9.jpg  \n",
            " extracting: test/958efc095c686ef6_jpg.rf.56nx09qgfDF5ZntcEzXO.jpg  \n",
            " extracting: test/958efc095c686ef6_jpg.rf.963de21446d75d8452e417c3c262b9a8.jpg  \n",
            " extracting: test/95bf6406c152cf40_jpg.rf.2KlhzCSeifqpfUPfwyW9.jpg  \n",
            " extracting: test/95bf6406c152cf40_jpg.rf.58a7d5b1c4309ad003108642c51ae8b3.jpg  \n",
            " extracting: test/9876c285fe7bc3a0_jpg.rf.7aa68726bc91a7c26d99c23dd79cc833.jpg  \n",
            " extracting: test/9876c285fe7bc3a0_jpg.rf.iBBVQWEpeWVbehE5MJ6Q.jpg  \n",
            " extracting: test/9ca8e20e0869f289_jpg.rf.4bb7001185dba72f41b354c6235e79cb.jpg  \n",
            " extracting: test/9ca8e20e0869f289_jpg.rf.ScBMQ9VslO942N7rh8rz.jpg  \n",
            " extracting: test/9d2d424099458956_jpg.rf.9cc91fddce7c7441e0f085d139b62aac.jpg  \n",
            " extracting: test/9d2d424099458956_jpg.rf.vihT0YRoLD0QuODDlBz7.jpg  \n",
            " extracting: test/9fdf0bf1160fca8e_jpg.rf.183a3d9dfcbbd5ad78f2148712430881.jpg  \n",
            " extracting: test/9fdf0bf1160fca8e_jpg.rf.ERTEMjgijaUbIUeFSoNX.jpg  \n",
            " extracting: test/_annotations.coco.json  \n",
            " extracting: test/a3cffcdbff959432_jpg.rf.1f1f8cfcdfe052a8ec72e63b11889b66.jpg  \n",
            " extracting: test/a3cffcdbff959432_jpg.rf.4MQ1NmvMx33nwLe9QSvu.jpg  \n",
            " extracting: test/a7674f15d9b1f35f_jpg.rf.7bbd38887231affc55a0083cfd2f422e.jpg  \n",
            " extracting: test/a7674f15d9b1f35f_jpg.rf.pL09u0Oz8DRvTB3AnBXT.jpg  \n",
            " extracting: test/aed83d879a22a6c4_jpg.rf.ada6c87c88d32689f79e3a03c9ebd314.jpg  \n",
            " extracting: test/aed83d879a22a6c4_jpg.rf.jXuDPuNwGM96NxEjG3PY.jpg  \n",
            " extracting: test/b3736bcf6bec5308_jpg.rf.988ed2199cddfaecb34a83859649121b.jpg  \n",
            " extracting: test/b3736bcf6bec5308_jpg.rf.U5Fn1b2aP6gpWq3MBgO6.jpg  \n",
            " extracting: test/b3b144afc677916a_jpg.rf.XLqzSaCBgbZw1v09pRTm.jpg  \n",
            " extracting: test/b3b144afc677916a_jpg.rf.ed98057677d7c2972ab5bdd7f2325003.jpg  \n",
            " extracting: test/b52533fcc735c023_jpg.rf.74a2f1bbd4d5714181e21e7ef1296b1b.jpg  \n",
            " extracting: test/b52533fcc735c023_jpg.rf.YRJXvJEWcsvHdbezWTT5.jpg  \n",
            " extracting: test/b778de31063c80ef_jpg.rf.45289b648d6167a0f218c0ac1087b351.jpg  \n",
            " extracting: test/b778de31063c80ef_jpg.rf.wETmgEiHs4taG421vJ6e.jpg  \n",
            " extracting: test/b7cc71d4f2108d9c_jpg.rf.7c0e6624c115812a7ae5a2cabfd915b8.jpg  \n",
            " extracting: test/b7cc71d4f2108d9c_jpg.rf.k85zClsDgxtxBGb6PUbH.jpg  \n",
            " extracting: test/be3f71308b3598e9_jpg.rf.0895dab43842c01bcb8afc8b99d91c21.jpg  \n",
            " extracting: test/be3f71308b3598e9_jpg.rf.u0lWU3LrXooFaQYTPa34.jpg  \n",
            " extracting: test/beb59084f52dcb04_jpg.rf.60bc1675363e3e06d2f30510078d38e8.jpg  \n",
            " extracting: test/beb59084f52dcb04_jpg.rf.nB0qeYmJIl0llnmILG3Q.jpg  \n",
            " extracting: test/c094d0187caf81e3_jpg.rf.0d7e3eb391b1d43b1bdcceea7e1a6ce5.jpg  \n",
            " extracting: test/c094d0187caf81e3_jpg.rf.75K3um7PpnqbqxUwbVSN.jpg  \n",
            " extracting: test/c0a105b4fe3a7c55_jpg.rf.28745179cd0f87dc9cae886872f95263.jpg  \n",
            " extracting: test/c0a105b4fe3a7c55_jpg.rf.TtrieGEGo7xyvdhMBtWt.jpg  \n",
            " extracting: test/c1f88290d602f0e6_jpg.rf.ffe763bba24511dc402dcbac00b9ad34.jpg  \n",
            " extracting: test/c1f88290d602f0e6_jpg.rf.mQMBMSP5KAanVt15Z7Ji.jpg  \n",
            " extracting: test/c6942c8aa585dfeb_jpg.rf.25d55631f85499304e942713bbcd00a2.jpg  \n",
            " extracting: test/c6942c8aa585dfeb_jpg.rf.b19GcwKWIiFhEzZHUAQJ.jpg  \n",
            " extracting: test/c89a75a0fa5c2df9_jpg.rf.8fa102a61822cd10430764e3caf80f94.jpg  \n",
            " extracting: test/c89a75a0fa5c2df9_jpg.rf.Q6UrdVqikAXU96NdIhpL.jpg  \n",
            " extracting: test/cf165ec304d2b2dc_jpg.rf.1038a595a2a468537b6b88d3abeb03c4.jpg  \n",
            " extracting: test/cf165ec304d2b2dc_jpg.rf.EBBLjKokT5TYAEPvd35E.jpg  \n",
            " extracting: test/d66aabbb1f7299cc_jpg.rf.27774c8e4188c1c8b62075beac6af14a.jpg  \n",
            " extracting: test/d66aabbb1f7299cc_jpg.rf.BmdIwlEED5bAslMh9Qib.jpg  \n",
            " extracting: test/e36e433eed49a09d_jpg.rf.8826d7fb567c1288c0188105137f280a.jpg  \n",
            " extracting: test/e36e433eed49a09d_jpg.rf.vp4voN7BUsf5abwtFHbx.jpg  \n",
            " extracting: test/e4029e591e9568b4_jpg.rf.7d1631ccd8fdcc764c4198e44ad121b4.jpg  \n",
            " extracting: test/e4029e591e9568b4_jpg.rf.NmOp4UE6HuJwbOWoMWHY.jpg  \n",
            " extracting: test/f00ec0093e986e99_jpg.rf.788065bc895796a1b381a68bb709d678.jpg  \n",
            " extracting: test/f00ec0093e986e99_jpg.rf.NXMKhuok0UUZl1iUn9IE.jpg  \n",
            " extracting: test/fb70621f1a194c73_jpg.rf.9WDZMyHpWqgrKoWWl23R.jpg  \n",
            " extracting: test/fb70621f1a194c73_jpg.rf.eeb3adf5c549a03fd9f6a0dd099ea05c.jpg  \n",
            " extracting: test/fca5c9c8f0276eff_jpg.rf.e37fa19b7839f09970da3e8c72e6c58e.jpg  \n",
            " extracting: test/fca5c9c8f0276eff_jpg.rf.vA6S9lDbrVuvoA2aoplG.jpg  \n",
            " extracting: test/fcbbda4f0678bfcf_jpg.rf.ba5680ddca55276fe0495e0622f5af0d.jpg  \n",
            " extracting: test/fcbbda4f0678bfcf_jpg.rf.oaHMZCzfjwXi0airgLrZ.jpg  \n",
            "   creating: train/\n",
            " extracting: train/005980b3a5f93085_jpg.rf.2QZCXGReqcBORWQJKQfO.jpg  \n",
            " extracting: train/005980b3a5f93085_jpg.rf.68f1ed44dbca53b707a1d3d82d4b7d9a.jpg  \n",
            " extracting: train/00aaf0a0a9ee7e71_jpg.rf.808b1e59067887493dffad63561c2a9d.jpg  \n",
            " extracting: train/00aaf0a0a9ee7e71_jpg.rf.KBCzX2HtZviBuQY9JDTQ.jpg  \n",
            " extracting: train/00e0422e47cdbeb7_jpg.rf.a8b6f2ef17a14eb8b9228d26366a124d.jpg  \n",
            " extracting: train/00e0422e47cdbeb7_jpg.rf.yHmAn1jB2oy8XzzQPBzc.jpg  \n",
            " extracting: train/00e13aca7d2f904a_jpg.rf.52342966f5a37167f8cfd7ea3f4dacef.jpg  \n",
            " extracting: train/00e13aca7d2f904a_jpg.rf.eQwpgo07vRFeI7SgvXy6.jpg  \n",
            " extracting: train/00e2d9121adc0c20_jpg.rf.50fa25618ccc9f0ebf59f2ffe64cf298.jpg  \n",
            " extracting: train/00e2d9121adc0c20_jpg.rf.rPP5CqB9mOv9wnRTTKR3.jpg  \n",
            " extracting: train/011a8a0a921c2376_jpg.rf.064272f1b667f68b4340d240244ff7e8.jpg  \n",
            " extracting: train/011a8a0a921c2376_jpg.rf.tflPpvQDTaDj9gH1xuDJ.jpg  \n",
            " extracting: train/0133391d627e6df4_jpg.rf.5fb6cc71948fdee8e2e7cbc9bbc5aeb1.jpg  \n",
            " extracting: train/0133391d627e6df4_jpg.rf.xszyOWdyIGCiI2HmiGNr.jpg  \n",
            " extracting: train/013476982d77e380_jpg.rf.3abcf2c4c484148e9e88d3c8c99bc236.jpg  \n",
            " extracting: train/013476982d77e380_jpg.rf.E6oudaF78aSJULyWaSIS.jpg  \n",
            " extracting: train/0158307c4ad94b38_jpg.rf.6VgRLvEWkhSwfdBdY9Fi.jpg  \n",
            " extracting: train/0158307c4ad94b38_jpg.rf.7c3ac0278eaf3a1773359994c4679aca.jpg  \n",
            " extracting: train/020fcce8dd0c0653_jpg.rf.5d56c4b986d3e468e6513d79a34dc211.jpg  \n",
            " extracting: train/020fcce8dd0c0653_jpg.rf.YHXo4M57w09raw4bkB19.jpg  \n",
            " extracting: train/02178f3aa9e8b0d1_jpg.rf.704fc24e41f5f2a604fab8a066f84f8c.jpg  \n",
            " extracting: train/02178f3aa9e8b0d1_jpg.rf.ylUGMmNfzKUMq3VOVyGD.jpg  \n",
            " extracting: train/024a282cdc754de8_jpg.rf.44u6VPjwAgn89uVtquBu.jpg  \n",
            " extracting: train/024a282cdc754de8_jpg.rf.b4951b9370248704b3b1d1c750cc4fba.jpg  \n",
            " extracting: train/02d437a356a7c16e_jpg.rf.a0d37064c126f5e2bf3493b06bb94b4a.jpg  \n",
            " extracting: train/02d437a356a7c16e_jpg.rf.vHLFLzl61byax6BaLMCP.jpg  \n",
            " extracting: train/031a836081712b50_jpg.rf.f82a0c39ba3dfac17be325452c7b2b06.jpg  \n",
            " extracting: train/031a836081712b50_jpg.rf.wZjpl3ylNPHAO9WnRAWH.jpg  \n",
            " extracting: train/040d25a99e7b675b_jpg.rf.UIHiGJcPfPY36egSAJft.jpg  \n",
            " extracting: train/040d25a99e7b675b_jpg.rf.e1b3ced8dbbc7905d4fe5ac30622a419.jpg  \n",
            " extracting: train/041e674d0d9a45ec_jpg.rf.57186db30275039dfd2ce804b9626963.jpg  \n",
            " extracting: train/041e674d0d9a45ec_jpg.rf.LMTUDjIPeUHgU4b68RVZ.jpg  \n",
            " extracting: train/045f8f2e4c2e3077_jpg.rf.107779352cd8cac31411952fc53cf99d.jpg  \n",
            " extracting: train/045f8f2e4c2e3077_jpg.rf.UTYIHRlCuTNPmBhGUQ8A.jpg  \n",
            " extracting: train/04c1d6c2570a7c42_jpg.rf.332b41cd0fd290fd0506dac060c1b7d6.jpg  \n",
            " extracting: train/04c1d6c2570a7c42_jpg.rf.lr5lXwTFgr3zrVckI5ln.jpg  \n",
            " extracting: train/062e230c4506d21d_jpg.rf.49faa5bf56e061d53eaa7bdf92a86e1f.jpg  \n",
            " extracting: train/062e230c4506d21d_jpg.rf.q5Myo3uQH66PI6XvzCpd.jpg  \n",
            " extracting: train/067e7d6c015a431d_jpg.rf.76bce3c01ba4c9d60c0e94b3c01bdca4.jpg  \n",
            " extracting: train/067e7d6c015a431d_jpg.rf.Sc4J72rjXVYLyfPXCLhr.jpg  \n",
            " extracting: train/068868f40fb6dbec_jpg.rf.TuNx4cAV28rilGbgRwVh.jpg  \n",
            " extracting: train/068868f40fb6dbec_jpg.rf.bd6b74811d9dd31a359a15d69dcb3d60.jpg  \n",
            " extracting: train/076317ab4c925aa9_jpg.rf.2eab8692c9e3035eb3c2dfcd2a07e74c.jpg  \n",
            " extracting: train/076317ab4c925aa9_jpg.rf.x5RZRLSFK0S4b63wchyT.jpg  \n",
            " extracting: train/0777838554ecb1eb_jpg.rf.9e11b73a1dae5675124c22e13f73f1f5.jpg  \n",
            " extracting: train/0777838554ecb1eb_jpg.rf.iPYXq2VyMllb4wmHbOmx.jpg  \n",
            " extracting: train/07dfa70d0dfdf4e8_jpg.rf.3c08eaa4c5daa64b0072666a5e1cb090.jpg  \n",
            " extracting: train/07dfa70d0dfdf4e8_jpg.rf.XuHXFyNdWJ2thHIlo1Z2.jpg  \n",
            " extracting: train/089cc41a901b2653_jpg.rf.6743a24c01af44063b9c1968d6402f52.jpg  \n",
            " extracting: train/089cc41a901b2653_jpg.rf.d86qKnK017K3pSWOEpdb.jpg  \n",
            " extracting: train/08ebb1106c5f4799_jpg.rf.7ce43293a263c07c84a9c894f5caba87.jpg  \n",
            " extracting: train/08ebb1106c5f4799_jpg.rf.NhEpevpClnnaJ1dYEL76.jpg  \n",
            " extracting: train/094a36746383c2c9_jpg.rf.WsClMrSP8ZzTrei6Ef3y.jpg  \n",
            " extracting: train/094a36746383c2c9_jpg.rf.adac28dd027835ae6bd5d92c6411f7ee.jpg  \n",
            " extracting: train/09acb63accd06236_jpg.rf.6aDJNzlOrZfQZWhxZBV5.jpg  \n",
            " extracting: train/09acb63accd06236_jpg.rf.fd5e4ac7a031350fb8e7b0d75bc93017.jpg  \n",
            " extracting: train/09fd3f0199f2be7e_jpg.rf.1NoHW56IuJhRAiX5KW2H.jpg  \n",
            " extracting: train/09fd3f0199f2be7e_jpg.rf.afd5e30f9d5d3cae89ecd8aafec6b7f1.jpg  \n",
            " extracting: train/0a03d85b3dcb2a1b_jpg.rf.a00ac9c0b1e0178bd393f049593c73c6.jpg  \n",
            " extracting: train/0a03d85b3dcb2a1b_jpg.rf.gAb723jHV4bglgt4HcyG.jpg  \n",
            " extracting: train/0a56ee41a72480bc_jpg.rf.dbd67f25dc488d617d0b01d65de1584b.jpg  \n",
            " extracting: train/0a56ee41a72480bc_jpg.rf.k0G8JC1qya6UiWGHtQK3.jpg  \n",
            " extracting: train/0b35c604f8a87bd0_jpg.rf.0771220380bd5aa3d252ce58471bf2c7.jpg  \n",
            " extracting: train/0b35c604f8a87bd0_jpg.rf.KMe69WjuxHI5xqZLXJfu.jpg  \n",
            " extracting: train/0ba56949c8eb973e_jpg.rf.ff4a847a18df3833d18cc9d2497af55b.jpg  \n",
            " extracting: train/0ba56949c8eb973e_jpg.rf.fj8T7A1fJkOPja4rYRS5.jpg  \n",
            " extracting: train/0c5138e15c71f741_jpg.rf.KTxRFMsDGLvRWwg9Em64.jpg  \n",
            " extracting: train/0c5138e15c71f741_jpg.rf.f1dddbc942fd2fa7fac0faefabf3486d.jpg  \n",
            " extracting: train/0ca61e55ccf257ba_jpg.rf.83e309021a0dba2861bb3e99824d52be.jpg  \n",
            " extracting: train/0ca61e55ccf257ba_jpg.rf.yVnPtUkAjIzk3ZdBSs6q.jpg  \n",
            " extracting: train/0d829bbd335fe81c_jpg.rf.A2e7sSyZFbUPARnqx7Hp.jpg  \n",
            " extracting: train/0d829bbd335fe81c_jpg.rf.c2a5859613b3f250d19926ba3fb0b22e.jpg  \n",
            " extracting: train/0da0ba0e59845f96_jpg.rf.1e971f58853bc9f66b60785fd0a39791.jpg  \n",
            " extracting: train/0da0ba0e59845f96_jpg.rf.pspJkFPXlBknp0LaQUrr.jpg  \n",
            " extracting: train/0dc6d85a2ba0a534_jpg.rf.798b518c51dafb4c4b87ebc4753089ce.jpg  \n",
            " extracting: train/0dc6d85a2ba0a534_jpg.rf.VzZEm1gYQCNHsenfKQc6.jpg  \n",
            " extracting: train/0dddb5e2bc416a16_jpg.rf.5251d5e30ac2b063ecc31284d512c8c1.jpg  \n",
            " extracting: train/0dddb5e2bc416a16_jpg.rf.LJYWxsjsJb3FcduYHowG.jpg  \n",
            " extracting: train/0df5a680a412fa0b_jpg.rf.6f4eb25b75de66998570ad6e54aef165.jpg  \n",
            " extracting: train/0df5a680a412fa0b_jpg.rf.TAvwaNBqf1CxVWb2bgXP.jpg  \n",
            " extracting: train/0ebb654be1697247_jpg.rf.4PgyE4UaSZWY46uuYR6d.jpg  \n",
            " extracting: train/0ebb654be1697247_jpg.rf.abbc5823dfcfda731702c580ed4a18b1.jpg  \n",
            " extracting: train/0f26dd755f4b5ab6_jpg.rf.cebbe00b82a67f82a870052baa321ea3.jpg  \n",
            " extracting: train/0f26dd755f4b5ab6_jpg.rf.e2BrVvcW749syaWYOa4Q.jpg  \n",
            " extracting: train/0f7f3b82ff9db6e8_jpg.rf.77bd34603ccff62cac2773efbf128032.jpg  \n",
            " extracting: train/0f7f3b82ff9db6e8_jpg.rf.A3TlZJRSD6fLCAAK4JZp.jpg  \n",
            " extracting: train/0ff18bf912a38470_jpg.rf.6d0b73328b83ee17005180d6db9b27fe.jpg  \n",
            " extracting: train/0ff18bf912a38470_jpg.rf.EMxNilgSVL7O0MH03cWw.jpg  \n",
            " extracting: train/10824aeb7449a206_jpg.rf.8VBXGYzGcfjFqxT1XAL6.jpg  \n",
            " extracting: train/10824aeb7449a206_jpg.rf.fb9c1fc359a8897a11adcf26102e6da7.jpg  \n",
            " extracting: train/10e8132f183fcc3e_jpg.rf.bd65cc173ce6f95cfd720b46a04ab9b3.jpg  \n",
            " extracting: train/10e8132f183fcc3e_jpg.rf.nG1G7sDMLXpxGzXxMCPn.jpg  \n",
            " extracting: train/1238d5f7b2820007_jpg.rf.87d6c704a664f3c0ce592d7408ef1c8d.jpg  \n",
            " extracting: train/1238d5f7b2820007_jpg.rf.BLGDJElnJ0staQy433ct.jpg  \n",
            " extracting: train/13ea89974fc5e30b_jpg.rf.5f030335718610642432bb4f65e23b74.jpg  \n",
            " extracting: train/13ea89974fc5e30b_jpg.rf.DhTyqTlIk0J2BqTZ2lgb.jpg  \n",
            " extracting: train/1781ceeba365928b_jpg.rf.BeJOJjojkNZXLd3W7yur.jpg  \n",
            " extracting: train/1781ceeba365928b_jpg.rf.b658668ccefc5b053a17a307e0cd6c11.jpg  \n",
            " extracting: train/179795f3d2775d7c_jpg.rf.24e0b9a601bd283bf74631f1b4378b2d.jpg  \n",
            " extracting: train/179795f3d2775d7c_jpg.rf.gjidZuYXo9VrpckgZRJd.jpg  \n",
            " extracting: train/17d99b801acab230_jpg.rf.OoD9VMNX3qJJVo4MtWBX.jpg  \n",
            " extracting: train/17d99b801acab230_jpg.rf.f074b5569af3bf221a16764ec269eee6.jpg  \n",
            " extracting: train/1987e409c66239ab_jpg.rf.d7678b63733b53ef519f5b2b4929b9b3.jpg  \n",
            " extracting: train/1987e409c66239ab_jpg.rf.koSyKVgWjx4eplEqXo9R.jpg  \n",
            " extracting: train/19ed71affe514276_jpg.rf.9ced048a08b368f1b31440320c254e1d.jpg  \n",
            " extracting: train/19ed71affe514276_jpg.rf.MaXS95uHSrJkcxQNoB9U.jpg  \n",
            " extracting: train/1b43e569dfb2d630_jpg.rf.3mxD27XM3EEYlgrpJVWa.jpg  \n",
            " extracting: train/1b43e569dfb2d630_jpg.rf.686424f841c358ea25f846960f257272.jpg  \n",
            " extracting: train/1b9c5720266a6140_jpg.rf.Z5naVkKrgkjWf9dGUBX8.jpg  \n",
            " extracting: train/1b9c5720266a6140_jpg.rf.a8186fcc7a9506f790202a5fa166c23c.jpg  \n",
            " extracting: train/1c64bff45216007f_jpg.rf.00472dc1dcd49262a84274a23e3a1999.jpg  \n",
            " extracting: train/1c64bff45216007f_jpg.rf.FxyEhepTOcDM9UDmgNpF.jpg  \n",
            " extracting: train/1ce4f78534c54bc2_jpg.rf.6576199f347ddbf94b17e3618e3036d5.jpg  \n",
            " extracting: train/1ce4f78534c54bc2_jpg.rf.s2ZOzXrpO2r5xhUeUaia.jpg  \n",
            " extracting: train/1d26ac4c9e98acc1_jpg.rf.8641817caed666f7a64ce92da5048955.jpg  \n",
            " extracting: train/1d26ac4c9e98acc1_jpg.rf.VzquRYAydWgUVdviiPv7.jpg  \n",
            " extracting: train/1d58456f6d5e9498_jpg.rf.99e8a490fd6b36de59d1548e7e660c59.jpg  \n",
            " extracting: train/1d58456f6d5e9498_jpg.rf.Ha2BDbyjAcYLK6AndEGv.jpg  \n",
            " extracting: train/1d9e2bdfc0ef4f35_jpg.rf.LR0ER7AipXMkoeSIX2zY.jpg  \n",
            " extracting: train/1d9e2bdfc0ef4f35_jpg.rf.d187af648a43d1ccdd62259decd41ad7.jpg  \n",
            " extracting: train/1dbc8d811c800ef7_jpg.rf.0fe7faaa475da74452fb74b9883f7088.jpg  \n",
            " extracting: train/1dbc8d811c800ef7_jpg.rf.5X5S6sH5woR5ul2ERKfy.jpg  \n",
            " extracting: train/1e668423ae32ce6f_jpg.rf.70kBZq8qBqHjRPMoyl5I.jpg  \n",
            " extracting: train/1e668423ae32ce6f_jpg.rf.8fc1bcf11c1a5bb1747a7ec8b3a16746.jpg  \n",
            " extracting: train/1f0ce568a7da5d78_jpg.rf.7e00114aae9d57b5a6ab4201eec63267.jpg  \n",
            " extracting: train/1f0ce568a7da5d78_jpg.rf.ve5JU4DFxXTtyub25Rw9.jpg  \n",
            " extracting: train/1f73c7a77643e224_jpg.rf.3b9866bb17c5521d958b16f9e2002118.jpg  \n",
            " extracting: train/1f73c7a77643e224_jpg.rf.bBv2FpQK1LRbWbSe2SbR.jpg  \n",
            " extracting: train/1fc8576317033787_jpg.rf.8929803280ce2a54ce1c6b40e0e9098b.jpg  \n",
            " extracting: train/1fc8576317033787_jpg.rf.KKBtuw70uV5JaoSPC06n.jpg  \n",
            " extracting: train/1fd80240046ef704_jpg.rf.5972f63ece5a4759973eeee7d391bee2.jpg  \n",
            " extracting: train/1fd80240046ef704_jpg.rf.sjncsXJ8QTNC7Iweo2bL.jpg  \n",
            " extracting: train/20514cfccbb4a2ab_jpg.rf.1rV4IrjXJWiwYzuYnfQc.jpg  \n",
            " extracting: train/20514cfccbb4a2ab_jpg.rf.6b5909905e17e5fae50d43d7d53e9d9f.jpg  \n",
            " extracting: train/20c199ea745dd0de_jpg.rf.d53165d0bd1f118877b90c1eb2a11e79.jpg  \n",
            " extracting: train/20c199ea745dd0de_jpg.rf.tzuHsGv2CfCWjjFgGpZ3.jpg  \n",
            " extracting: train/20db335ae6d55102_jpg.rf.3e6cfef62ff9a25e20e024e40b3d74d4.jpg  \n",
            " extracting: train/20db335ae6d55102_jpg.rf.tMNlMMAheaGznNxJxJAy.jpg  \n",
            " extracting: train/210112c7c8085350_jpg.rf.2A3UPBzlVqeeaf1Ui3j4.jpg  \n",
            " extracting: train/210112c7c8085350_jpg.rf.2b27d2da50f374c5a0e5438f85106d1e.jpg  \n",
            " extracting: train/214e9577f1bc9e1a_jpg.rf.9a99234bb710ce56feec21b827ced326.jpg  \n",
            " extracting: train/214e9577f1bc9e1a_jpg.rf.Sg6TcWCCd4fVWPyssDbb.jpg  \n",
            " extracting: train/230823605bf60c37_jpg.rf.d4caabb0edfc6a41a72b1c590b868f47.jpg  \n",
            " extracting: train/230823605bf60c37_jpg.rf.w5PtSkESUfxwB6p4RVUy.jpg  \n",
            " extracting: train/2364e615592f1fe0_jpg.rf.ddcd0c745851200e6a76bd05ace6ccc0.jpg  \n",
            " extracting: train/2364e615592f1fe0_jpg.rf.ezfbooTgGswcb9pak2Ka.jpg  \n",
            " extracting: train/2430d5e7d680b683_jpg.rf.82c5a0ed4e72587030cac00ebdb687e0.jpg  \n",
            " extracting: train/2430d5e7d680b683_jpg.rf.OyBZncJVddKt93HJUo0d.jpg  \n",
            " extracting: train/26263aba764cf3ed_jpg.rf.0EnVZpaR9duphdjXXiDb.jpg  \n",
            " extracting: train/26263aba764cf3ed_jpg.rf.a14e89d811816f76b883b6aac67559a8.jpg  \n",
            " extracting: train/26513c95488eebdd_jpg.rf.0Ngs4rbrTpLkJdIC6tzs.jpg  \n",
            " extracting: train/26513c95488eebdd_jpg.rf.5772ab3ff445c2586e1aec82fc2298e3.jpg  \n",
            " extracting: train/26775ec6cdcdbc9d_jpg.rf.790f2b5b847fa269c75fb3859dc0a78a.jpg  \n",
            " extracting: train/26775ec6cdcdbc9d_jpg.rf.SrxQQ6ss3w30smaf4U7W.jpg  \n",
            " extracting: train/26a70b16b74ea019_jpg.rf.b45c2e3d28ca44690d56eefca282f2c6.jpg  \n",
            " extracting: train/26a70b16b74ea019_jpg.rf.hsyD9T3gu9y6PaMKka9Y.jpg  \n",
            " extracting: train/27fed64f6e8e0fb1_jpg.rf.365f036b3c5c98218829c2b839a9bbe9.jpg  \n",
            " extracting: train/27fed64f6e8e0fb1_jpg.rf.b50KniIs94RySOnXJ9Un.jpg  \n",
            " extracting: train/28d3c263a66b08f5_jpg.rf.87119d53d243fe3089970774280d5d73.jpg  \n",
            " extracting: train/28d3c263a66b08f5_jpg.rf.PscJGYNL7Kczh6fTHzfD.jpg  \n",
            " extracting: train/28ed22d3254867a6_jpg.rf.5ef4ac6f5b21cb29a79855d67d16600d.jpg  \n",
            " extracting: train/28ed22d3254867a6_jpg.rf.HbFne5hOHufTh5oNhjbX.jpg  \n",
            " extracting: train/2a565728597f77d4_jpg.rf.1231296a821f84bdb13a26525627dd12.jpg  \n",
            " extracting: train/2a565728597f77d4_jpg.rf.fawkvGqw6EoJhpQFcYRV.jpg  \n",
            " extracting: train/2b9ced539656ae78_jpg.rf.09375be44a0f433daca7f5d9d5a69aa1.jpg  \n",
            " extracting: train/2b9ced539656ae78_jpg.rf.z1gYArZRpSVHNALKfiUl.jpg  \n",
            " extracting: train/2bc6989e7421dc9d_jpg.rf.3bb48090000df048edfc8f37254c0efe.jpg  \n",
            " extracting: train/2bc6989e7421dc9d_jpg.rf.GiL440iXDvnivl1PUm07.jpg  \n",
            " extracting: train/2c22bcb9295eacdf_jpg.rf.Ffq2LsNEib2qyrQegkD5.jpg  \n",
            " extracting: train/2c22bcb9295eacdf_jpg.rf.a9deea64a3f990fafb6c5307bf7f50fa.jpg  \n",
            " extracting: train/2d31e0cd26889eaa_jpg.rf.26d7b1b63729dfebbc5db596fe59178f.jpg  \n",
            " extracting: train/2d31e0cd26889eaa_jpg.rf.RGNDuae9QN5hXIpcFcWH.jpg  \n",
            " extracting: train/2d499dab8c71a566_jpg.rf.70cfae41cb9799895a7f14be2faeb437.jpg  \n",
            " extracting: train/2d499dab8c71a566_jpg.rf.dAfOH6Rjadb45ADmUOmq.jpg  \n",
            " extracting: train/2d8f99d3e1b461fe_jpg.rf.ec60218a35f34e9e8b49905f97d01628.jpg  \n",
            " extracting: train/2d8f99d3e1b461fe_jpg.rf.m2H7uQANnuUHuAM0oVTE.jpg  \n",
            " extracting: train/2d94e4aa09c1c7de_jpg.rf.6a167278bce72167ecfaa3ff7a848ec9.jpg  \n",
            " extracting: train/2d94e4aa09c1c7de_jpg.rf.PqpF5J0wmYBef380GjYT.jpg  \n",
            " extracting: train/2e29dd7285110315_jpg.rf.22aaf637e168b3dc960eb35532e3ac1a.jpg  \n",
            " extracting: train/2e29dd7285110315_jpg.rf.yFDM0zX5eq42nNna1rcg.jpg  \n",
            " extracting: train/2f84bd4d0f335907_jpg.rf.7a066d9483567964eb839d86772f3629.jpg  \n",
            " extracting: train/2f84bd4d0f335907_jpg.rf.eqeJ9cp67LRFTk7DOLdZ.jpg  \n",
            " extracting: train/2fbf5f7443d53898_jpg.rf.8eCA69MoFeaVMDNoUuhA.jpg  \n",
            " extracting: train/2fbf5f7443d53898_jpg.rf.92b7294b5ef8335f3136b64266b2d5fb.jpg  \n",
            " extracting: train/302b0d606203f3d2_jpg.rf.40e2a52cfee1ae99d4cddc53e1fde830.jpg  \n",
            " extracting: train/302b0d606203f3d2_jpg.rf.eHMciCNCsn2OcdDVARmh.jpg  \n",
            " extracting: train/3061a0dcab735c59_jpg.rf.1609b71f0a5d7ac932ac81942531b013.jpg  \n",
            " extracting: train/3061a0dcab735c59_jpg.rf.uVvqYvgjzosQ1ERa7HIp.jpg  \n",
            " extracting: train/307f01bd9b5a07ad_jpg.rf.IuHWtLemTKGHKpWDKWBQ.jpg  \n",
            " extracting: train/307f01bd9b5a07ad_jpg.rf.d909397e88dacc60fc47feefcf57116c.jpg  \n",
            " extracting: train/30c34450257afce3_jpg.rf.M4RXCQzzJrDxuoXuc9Mr.jpg  \n",
            " extracting: train/30c34450257afce3_jpg.rf.b83c34f30a3f6cb99199457089eef757.jpg  \n",
            " extracting: train/32a5e22ccdaa8d98_jpg.rf.Rw07TaVeTyjxmMYRGGPM.jpg  \n",
            " extracting: train/32a5e22ccdaa8d98_jpg.rf.b1323390907e7b3b49c716990841af33.jpg  \n",
            " extracting: train/32af44c2a2cfb296_jpg.rf.3813b66f92c72dd943b24814e9894231.jpg  \n",
            " extracting: train/32af44c2a2cfb296_jpg.rf.oGlMaqlSlpoB9iRfn4oV.jpg  \n",
            " extracting: train/32d513726785e781_jpg.rf.7e615f89e7fbd8cd1f0c4e31e9b2f2bb.jpg  \n",
            " extracting: train/32d513726785e781_jpg.rf.SGxqTtxLpEZcq3uzXKC7.jpg  \n",
            " extracting: train/3306489836719c96_jpg.rf.a9ffe2471f824bc00b2ed031a04845cc.jpg  \n",
            " extracting: train/3306489836719c96_jpg.rf.eXIy5lLd68ypNf24SqtM.jpg  \n",
            " extracting: train/33758dc39a63f28f_jpg.rf.7f4de6f98d9c400643e51c9029bde392.jpg  \n",
            " extracting: train/33758dc39a63f28f_jpg.rf.7zhfQPq2QqE6qgQnOWNp.jpg  \n",
            " extracting: train/33982df55de352d9_jpg.rf.1pPpUTs1hrzFsrWygDzG.jpg  \n",
            " extracting: train/33982df55de352d9_jpg.rf.7a51f29e9c77ce970ad26c00052c07cf.jpg  \n",
            " extracting: train/33f44ac135f3aef7_jpg.rf.FebARNww20o70KYoXoJV.jpg  \n",
            " extracting: train/33f44ac135f3aef7_jpg.rf.ce8b19116fee64ae79c2544100d59777.jpg  \n",
            " extracting: train/3434d3efad0adef5_jpg.rf.151496293a6a6d6715979f944f98bd52.jpg  \n",
            " extracting: train/3434d3efad0adef5_jpg.rf.4RSrfUkrTxuESlpH5RCV.jpg  \n",
            " extracting: train/34dfa486fec6e0bc_jpg.rf.4bc3aee60f73d97762500d507ff1d4e4.jpg  \n",
            " extracting: train/34dfa486fec6e0bc_jpg.rf.j5xYFMhpwFuIWcmE4UP9.jpg  \n",
            " extracting: train/352fcffeb445679c_jpg.rf.800ffd538069cfa4fd3d96560e6d9239.jpg  \n",
            " extracting: train/352fcffeb445679c_jpg.rf.9raHlzrB9rYZVqXSLW43.jpg  \n",
            " extracting: train/35d9087aa3e253ac_jpg.rf.9f3022272f1779d6f05ae7bca18492ce.jpg  \n",
            " extracting: train/35d9087aa3e253ac_jpg.rf.bAde5f2YZnhqcBLjA2Om.jpg  \n",
            " extracting: train/3612859ad8f4b8ac_jpg.rf.P8Yfg7wmbFrJzul0c16V.jpg  \n",
            " extracting: train/3612859ad8f4b8ac_jpg.rf.d44d8ebf76fe94b892efbe1c6cca8817.jpg  \n",
            " extracting: train/363720f781ca3c15_jpg.rf.ad29cb8878481417d7734f2d6ad975bc.jpg  \n",
            " extracting: train/363720f781ca3c15_jpg.rf.mhhVLflgmSB0GF73L2An.jpg  \n",
            " extracting: train/366078debdbff8c9_jpg.rf.8ca96ba1b5e5987ae9fe14d4a9d27db9.jpg  \n",
            " extracting: train/366078debdbff8c9_jpg.rf.MRIsCYsN7BjBtfqY9bK2.jpg  \n",
            " extracting: train/379423cf6bfdfa68_jpg.rf.PQM0jh7v8F5pyKV6Ujph.jpg  \n",
            " extracting: train/379423cf6bfdfa68_jpg.rf.ee24f7c1899583c0a199db8dc29b71ad.jpg  \n",
            " extracting: train/3848f783b1a99a6e_jpg.rf.2ODZLncHRpq6yPrwewzq.jpg  \n",
            " extracting: train/3848f783b1a99a6e_jpg.rf.9593d9c8f6e377bd928576928803a31e.jpg  \n",
            " extracting: train/3967e7c4900084d6_jpg.rf.dce2b2d228f329ce8f1296dea53323b1.jpg  \n",
            " extracting: train/3967e7c4900084d6_jpg.rf.eeFty0oFBGjU4nRx6mut.jpg  \n",
            " extracting: train/39fac0e910b58065_jpg.rf.666bfb3fbc0aba4229f957d61f39a5fc.jpg  \n",
            " extracting: train/39fac0e910b58065_jpg.rf.kxmJGQuFtjZOQOvx65Nw.jpg  \n",
            " extracting: train/39fd1bb4a899e0e3_jpg.rf.e985f2b41174b4f56648f936ff4f377e.jpg  \n",
            " extracting: train/39fd1bb4a899e0e3_jpg.rf.h63leVfcv2ceVpEYUhgx.jpg  \n",
            " extracting: train/3a0139f984e673b9_jpg.rf.0d55747152a4fa9ac17bcd1ff8b6fbfd.jpg  \n",
            " extracting: train/3a0139f984e673b9_jpg.rf.eSytVt0OyhsbSSIXIWH2.jpg  \n",
            " extracting: train/3a7cb48aac371b62_jpg.rf.55f56880ca205b6e3ff7750d7ccc93d5.jpg  \n",
            " extracting: train/3a7cb48aac371b62_jpg.rf.QtvC8mnwCkGgGNQK1Npb.jpg  \n",
            " extracting: train/3adea569e0432f6a_jpg.rf.f5ec9f3b918929fd28610ece31f70228.jpg  \n",
            " extracting: train/3adea569e0432f6a_jpg.rf.yDOYJvW95ZY1VLzLMqnk.jpg  \n",
            " extracting: train/3b10eae932548195_jpg.rf.RevOsPk4q0glOKvnD5TO.jpg  \n",
            " extracting: train/3b10eae932548195_jpg.rf.e0fdb001d7d4feec5332ab3715eac83d.jpg  \n",
            " extracting: train/3b53976a94e33073_jpg.rf.4909479cba7818468fd1cbc1c8868d2a.jpg  \n",
            " extracting: train/3b53976a94e33073_jpg.rf.4TuTVltHshqNZA8wpDxI.jpg  \n",
            " extracting: train/3b6986bd37ece365_jpg.rf.627d9ad503d86f14c7010d7e8d6a5ce0.jpg  \n",
            " extracting: train/3b6986bd37ece365_jpg.rf.UIDlleiYysZZZCv1wStD.jpg  \n",
            " extracting: train/3ba18e96c29ab06e_jpg.rf.e1947c3e4d0725264a579aab1934c7c1.jpg  \n",
            " extracting: train/3ba18e96c29ab06e_jpg.rf.yJgc9agfUPCHfpJcfY6l.jpg  \n",
            " extracting: train/3c60f9c54565c925_jpg.rf.609d7df21ccbeaf8a304ce9ac970a3d0.jpg  \n",
            " extracting: train/3c60f9c54565c925_jpg.rf.dt5zWHsTygdX2ErQljnl.jpg  \n",
            " extracting: train/3ded02412ac12d4b_jpg.rf.490b885e535009a03b9c6ebea22efa6e.jpg  \n",
            " extracting: train/3ded02412ac12d4b_jpg.rf.pGfJCgNuD514KHsWDFNc.jpg  \n",
            " extracting: train/3e485b3cb8cb0739_jpg.rf.550ad500da07f3ef54f7d05d9e36f549.jpg  \n",
            " extracting: train/3e485b3cb8cb0739_jpg.rf.ehAWdKGJrXPASYuOY0Z2.jpg  \n",
            " extracting: train/3fd6655efb7421d7_jpg.rf.3c786117517d3a24b1df7b733c5520ed.jpg  \n",
            " extracting: train/3fd6655efb7421d7_jpg.rf.gWem4MaHTgMxm9cZiagO.jpg  \n",
            " extracting: train/402d1470aa6c1962_jpg.rf.6ccc3b3a1c9534e7659e16678a4cb5ca.jpg  \n",
            " extracting: train/402d1470aa6c1962_jpg.rf.d4wXChGgjkkQgDFKNtR0.jpg  \n",
            " extracting: train/4039b64d9f2b5291_jpg.rf.567152c08edc2a1d7f8118551d3e2b74.jpg  \n",
            " extracting: train/4039b64d9f2b5291_jpg.rf.aYdrPQN4sX0ZiVKnT2gv.jpg  \n",
            " extracting: train/40b4b49db4472185_jpg.rf.f50fcacc5ec1589d64a56ae39170590f.jpg  \n",
            " extracting: train/40b4b49db4472185_jpg.rf.rPaRyidH0UQpvwT75EUh.jpg  \n",
            " extracting: train/43dcff50b018f61c_jpg.rf.9eea21aacb74bbce06afad5ecdee43b4.jpg  \n",
            " extracting: train/43dcff50b018f61c_jpg.rf.h6RWPq42FMntvtPh9igF.jpg  \n",
            " extracting: train/43f9dfb36618117e_jpg.rf.M4qVoc5zT12i7UZyeaIZ.jpg  \n",
            " extracting: train/43f9dfb36618117e_jpg.rf.c374950b7a017b990d29dd0de4bf97cb.jpg  \n",
            " extracting: train/4449601908f2515e_jpg.rf.5Jk2EhrY5Osv4YZRuqW4.jpg  \n",
            " extracting: train/4449601908f2515e_jpg.rf.5a2dab27879128d9fabab09c8e6a3f31.jpg  \n",
            " extracting: train/447c9ff274fab842_jpg.rf.249bad218cfdded94198f92b755b33aa.jpg  \n",
            " extracting: train/447c9ff274fab842_jpg.rf.Yzz1UWLTvLeMwXBZTtat.jpg  \n",
            " extracting: train/44e913fc3c81999f_jpg.rf.VLFM5Y5bUgIEYUU7VFJa.jpg  \n",
            " extracting: train/44e913fc3c81999f_jpg.rf.c4ca9965aa32ea5d6c4ec72ab66f57ca.jpg  \n",
            " extracting: train/4589c2d83ce48bae_jpg.rf.6ce68a6e77d463d5492fd8682f82ee0a.jpg  \n",
            " extracting: train/4589c2d83ce48bae_jpg.rf.DbfnPeBvGvMPFWfQEOnX.jpg  \n",
            " extracting: train/469b1bb2ece31056_jpg.rf.5gdHdsuj5Lq4ePSjTrAI.jpg  \n",
            " extracting: train/469b1bb2ece31056_jpg.rf.8070e895f2ebc76a8eae4d6378d10cab.jpg  \n",
            " extracting: train/48763535bbf4e21f_jpg.rf.a54cf5898534d815db2159ffd1b2393b.jpg  \n",
            " extracting: train/48763535bbf4e21f_jpg.rf.ffbsaVj1eAK7t5i2VoYq.jpg  \n",
            " extracting: train/49304cbc80ffb423_jpg.rf.0c5d85d92b825873151942d8283b27b1.jpg  \n",
            " extracting: train/49304cbc80ffb423_jpg.rf.USSzJfRTqKyE4mssKn4W.jpg  \n",
            " extracting: train/4a6fdb56291f3a52_jpg.rf.682753e00a2e98587664eb6c8d09d906.jpg  \n",
            " extracting: train/4a6fdb56291f3a52_jpg.rf.f2FTBjBf53gOp9RvQk8Y.jpg  \n",
            " extracting: train/4b223d28e75b30c4_jpg.rf.5075184bd77162f505b1ec311cf9d44b.jpg  \n",
            " extracting: train/4b223d28e75b30c4_jpg.rf.AjGvszVA6EeWGC7IacNu.jpg  \n",
            " extracting: train/4b48a5de005d5162_jpg.rf.KyOypTt2ILKCDyekg2kx.jpg  \n",
            " extracting: train/4b48a5de005d5162_jpg.rf.cb40d1bc2f076d70b558f6f60373b2d0.jpg  \n",
            " extracting: train/4caf1ee77638a3fd_jpg.rf.CnKFuILNubVVC5MZNWnF.jpg  \n",
            " extracting: train/4caf1ee77638a3fd_jpg.rf.fdec60932fd9a3d65314c851d00483fc.jpg  \n",
            " extracting: train/4e1842c6c439df43_jpg.rf.2qUt4zoudWTO78P4Miuy.jpg  \n",
            " extracting: train/4e1842c6c439df43_jpg.rf.73254c6ab3ff3fb84647a62dcbfa21d3.jpg  \n",
            " extracting: train/4efd242e1c4b204c_jpg.rf.VPjbrymQAsib56vVDF2M.jpg  \n",
            " extracting: train/4efd242e1c4b204c_jpg.rf.c80bacb52c25ce734031d8e8c4a1feb2.jpg  \n",
            " extracting: train/50254d0ed7df5e01_jpg.rf.96644ffe356cf46061ab2eccac3b946c.jpg  \n",
            " extracting: train/50254d0ed7df5e01_jpg.rf.lTrVzO1KXisxheca1EwO.jpg  \n",
            " extracting: train/503173c071165bfb_jpg.rf.bbb967bb78ed693b6857b022efe72b5a.jpg  \n",
            " extracting: train/503173c071165bfb_jpg.rf.rdtpjABaWlEyv6aTYOzV.jpg  \n",
            " extracting: train/5092b95a87fc6615_jpg.rf.7caec4d258bd0d3bc3fec16453bce185.jpg  \n",
            " extracting: train/5092b95a87fc6615_jpg.rf.vN79Mkge8j9CEGRONn8m.jpg  \n",
            " extracting: train/5152a73eea6c7a2e_jpg.rf.e7367a4d4e6c7cc94576c450f675c900.jpg  \n",
            " extracting: train/5152a73eea6c7a2e_jpg.rf.k5fkDuZlp8EqIfbWDOEy.jpg  \n",
            " extracting: train/5180d4b18ca6cef4_jpg.rf.fc7fc762a65edd70daf086312d16e40e.jpg  \n",
            " extracting: train/5180d4b18ca6cef4_jpg.rf.gMEkSAaN8z39trO6HfXy.jpg  \n",
            " extracting: train/52c0ecb1f2fdebd4_jpg.rf.450dcee988874c3f0d66b0a1493bdf5c.jpg  \n",
            " extracting: train/52c0ecb1f2fdebd4_jpg.rf.7OiY4mdvDZnpWItd35mb.jpg  \n",
            " extracting: train/52ecf401e54ac404_jpg.rf.44jBfZ4gSZdkxALgaVhF.jpg  \n",
            " extracting: train/52ecf401e54ac404_jpg.rf.c7ab17609617dfb0ff85fa6712e5f2fd.jpg  \n",
            " extracting: train/5361b369f7a7d183_jpg.rf.1eecf7f5ce9beab3319f8d0a3c108aa5.jpg  \n",
            " extracting: train/5361b369f7a7d183_jpg.rf.9bLjnrsDo1AYzW78zSxs.jpg  \n",
            " extracting: train/53b558dba2201be2_jpg.rf.33749a36ae6eabc4d8b15ec4da8a5be8.jpg  \n",
            " extracting: train/53b558dba2201be2_jpg.rf.5MioCgNbDv3EtMDMsOJb.jpg  \n",
            " extracting: train/5400848ead05f765_jpg.rf.286004eb39ed8d7eca4a05f223a53b82.jpg  \n",
            " extracting: train/5400848ead05f765_jpg.rf.JjbHB73BIQ5rCYQT5sss.jpg  \n",
            " extracting: train/547919acfed4d238_jpg.rf.60vmXL5gkwMtj9mBeaWv.jpg  \n",
            " extracting: train/547919acfed4d238_jpg.rf.b54846dcc2213d01fe36dbcb81fefb79.jpg  \n",
            " extracting: train/547c1b1416d7b64d_jpg.rf.N4nx2lSKxtzgVEUZJ00z.jpg  \n",
            " extracting: train/547c1b1416d7b64d_jpg.rf.bc4e7a779ac5ccc58c74ce55a1218322.jpg  \n",
            " extracting: train/54b9aac8bf5e1a20_jpg.rf.7aff2be97cf17c3a1ed3f71c5b8a0e41.jpg  \n",
            " extracting: train/54b9aac8bf5e1a20_jpg.rf.FkLSPbTF5V3wFU62rfgz.jpg  \n",
            " extracting: train/552a0d9a0fc92dac_jpg.rf.7RMawQ98hW3e6a2fGk0h.jpg  \n",
            " extracting: train/552a0d9a0fc92dac_jpg.rf.c1d215d149e6deb7126925352ac37518.jpg  \n",
            " extracting: train/558029647efc23fb_jpg.rf.f85cb6586f171ac0ebb13aefd47755b7.jpg  \n",
            " extracting: train/558029647efc23fb_jpg.rf.iBQ0nRfb6PnIlqdXAZKy.jpg  \n",
            " extracting: train/559a81baaab7e2df_jpg.rf.8c7b6510f942935082fbf3f2fe52aa15.jpg  \n",
            " extracting: train/559a81baaab7e2df_jpg.rf.GivwgeNUFBPoOfPR2Zp9.jpg  \n",
            " extracting: train/58d3e22c4c0d038d_jpg.rf.3BKrT9RXGGkEwsGyPT4m.jpg  \n",
            " extracting: train/58d3e22c4c0d038d_jpg.rf.df57da2c830c8313b1aa2d55174fe4fc.jpg  \n",
            " extracting: train/58e253c5a17f2ca8_jpg.rf.9e67f9d54251a081f674a281745f8f5b.jpg  \n",
            " extracting: train/58e253c5a17f2ca8_jpg.rf.IyGpXl512PY2UEGwUHq2.jpg  \n",
            " extracting: train/592e3df4fde8793d_jpg.rf.976496d831c40f9941072b214da6aff1.jpg  \n",
            " extracting: train/592e3df4fde8793d_jpg.rf.V8ZfmDZjSJtwLet3s8Ha.jpg  \n",
            " extracting: train/5b0f57b9bad38bc2_jpg.rf.7a9fc6b8d1b6dab10d7244fb653a0fde.jpg  \n",
            " extracting: train/5b0f57b9bad38bc2_jpg.rf.8ZoyARKuT9zOBVtbhPp1.jpg  \n",
            " extracting: train/5be17124d52e2422_jpg.rf.9fe324d5f879d07e09c0844966e088bb.jpg  \n",
            " extracting: train/5be17124d52e2422_jpg.rf.uqT6pZCxaYvPYZC9aKmy.jpg  \n",
            " extracting: train/5be6fbdc2835aa92_jpg.rf.3c40a2205b11743f7a78f1f4570a9c52.jpg  \n",
            " extracting: train/5be6fbdc2835aa92_jpg.rf.75whkppgLuEDeJu2hGHn.jpg  \n",
            " extracting: train/5be78746b65e3113_jpg.rf.6d817c43a127fcbf8f611210df687b8b.jpg  \n",
            " extracting: train/5be78746b65e3113_jpg.rf.qc3I9muAlksMLfOvnhYA.jpg  \n",
            " extracting: train/5c965b7eec9de038_jpg.rf.381fe46aaec59c1ceafd100285218c42.jpg  \n",
            " extracting: train/5c965b7eec9de038_jpg.rf.E9o5RURW82biFyPKCv3f.jpg  \n",
            " extracting: train/5cba43398b2ecbb0_jpg.rf.9309ea0228b710f7766bd83baf07ea63.jpg  \n",
            " extracting: train/5cba43398b2ecbb0_jpg.rf.UDRXLHgyFOVw5HPh58rV.jpg  \n",
            " extracting: train/5d06268dea00edf0_jpg.rf.8e72671126456ac238a5cfcfd5658d16.jpg  \n",
            " extracting: train/5d06268dea00edf0_jpg.rf.RnP85aq2srPwjZJA0yJP.jpg  \n",
            " extracting: train/5d2ed108b18d3897_jpg.rf.OkaLnYKKb5Kd23SV9xHW.jpg  \n",
            " extracting: train/5d2ed108b18d3897_jpg.rf.f87077c3054252f9fbaae81d3e80f0c0.jpg  \n",
            " extracting: train/5e61a07f1d23ec8d_jpg.rf.4aa34423e3852c263687db24ff5037ad.jpg  \n",
            " extracting: train/5e61a07f1d23ec8d_jpg.rf.PbjJNxe2uLsi1apYLyZo.jpg  \n",
            " extracting: train/5e6f7b535e8045e0_jpg.rf.fcc5ff50b57d0dff3db3d9d20b01f140.jpg  \n",
            " extracting: train/5e6f7b535e8045e0_jpg.rf.iuRNm9NEziVsJnPLUxJZ.jpg  \n",
            " extracting: train/6137a6a4591d9977_jpg.rf.5d5e3fb57798f708d9b42922da2b9032.jpg  \n",
            " extracting: train/6137a6a4591d9977_jpg.rf.mfSIP4xctXgBejAAcFRV.jpg  \n",
            " extracting: train/62095bcc48bd06cf_jpg.rf.0e2231a4609bf904e4d4f35ba3cb444c.jpg  \n",
            " extracting: train/62095bcc48bd06cf_jpg.rf.N0JRNsP7kKtTF56RrIOM.jpg  \n",
            " extracting: train/6361620bf0d610ac_jpg.rf.7b8028befa441533f8a69efc71bfc664.jpg  \n",
            " extracting: train/6361620bf0d610ac_jpg.rf.ZueouP7zcaXAYGwVXSHQ.jpg  \n",
            " extracting: train/6369f9d6c2bfab75_jpg.rf.404ceaa387f9997529b187d3aa893a3e.jpg  \n",
            " extracting: train/6369f9d6c2bfab75_jpg.rf.pFHXUaD0AFmCJepgyor1.jpg  \n",
            " extracting: train/63c912059a45468b_jpg.rf.213hdlwamCMKZuC4QTcA.jpg  \n",
            " extracting: train/63c912059a45468b_jpg.rf.6c7b15da595c8692286eacfe8e0eea2b.jpg  \n",
            " extracting: train/63ea081863347bfe_jpg.rf.e31ad4401d5e6e77315b126ff4bc1eca.jpg  \n",
            " extracting: train/63ea081863347bfe_jpg.rf.uXQgyuoKnIs6bxf1VfOa.jpg  \n",
            " extracting: train/63ee0ce9f69bf8e5_jpg.rf.PnRjGBSWtdTYaYCq1Q6z.jpg  \n",
            " extracting: train/63ee0ce9f69bf8e5_jpg.rf.b25ea9d2a6814412b2f0210a10eeb735.jpg  \n",
            " extracting: train/646a24cf7ab571e1_jpg.rf.8053798b9660dcbf9bfeca8c78e8d864.jpg  \n",
            " extracting: train/646a24cf7ab571e1_jpg.rf.LSEfvK3P1T3wsFD64x9K.jpg  \n",
            " extracting: train/648ec06369820594_jpg.rf.97dcde64abb5c4570be55abface692c4.jpg  \n",
            " extracting: train/648ec06369820594_jpg.rf.kORd5yyWXwHRblOCYXVu.jpg  \n",
            " extracting: train/6530d0782d211876_jpg.rf.RINkDLcDSWaxWxZ06CxJ.jpg  \n",
            " extracting: train/6530d0782d211876_jpg.rf.d5b67656cc3aedc1822d8fbaeee6135b.jpg  \n",
            " extracting: train/65e29a38268145a8_jpg.rf.10c30d6ccb1692243ca4eb7d450751a3.jpg  \n",
            " extracting: train/65e29a38268145a8_jpg.rf.eFKs51qslW73LbaZ6K6h.jpg  \n",
            " extracting: train/66f8fb08aec69f56_jpg.rf.404a4d9dd556b274ac93b3cb059e3d37.jpg  \n",
            " extracting: train/66f8fb08aec69f56_jpg.rf.NaMpZi6Ifg9qU1fiZH6d.jpg  \n",
            " extracting: train/6704ff10a79cf50f_jpg.rf.03b95bd8ac711d2eba2e5edaf09318b4.jpg  \n",
            " extracting: train/6704ff10a79cf50f_jpg.rf.HUVMdcaBm0CIvQtZz6YX.jpg  \n",
            " extracting: train/676c200e4e2eb0d3_jpg.rf.f1795599f1e2b6034843ba5ea0dd9e84.jpg  \n",
            " extracting: train/676c200e4e2eb0d3_jpg.rf.hhzXrQrPncANw7KFWlnN.jpg  \n",
            " extracting: train/6815d9cdea3f61d8_jpg.rf.ApOGOqemoPy46oA2VVyU.jpg  \n",
            " extracting: train/6815d9cdea3f61d8_jpg.rf.ce85ecbbfaea49a7a86ad9f23c500a2c.jpg  \n",
            " extracting: train/68caac3407b2275f_jpg.rf.56e5bb756dc420e55757ca4d5f816037.jpg  \n",
            " extracting: train/68caac3407b2275f_jpg.rf.FOPSy0WcdccWVGI3FSvO.jpg  \n",
            " extracting: train/6a04d25b58fe0a27_jpg.rf.19c0986855c876ffadf4cfbc8478ff90.jpg  \n",
            " extracting: train/6a04d25b58fe0a27_jpg.rf.xjDsnty2hIUNgKgC3MH6.jpg  \n",
            " extracting: train/6b08b17e4bd591d8_jpg.rf.13bc2985423afe433b8d9088662b4e71.jpg  \n",
            " extracting: train/6b08b17e4bd591d8_jpg.rf.eLQzrJVHWE9FKIcY4QHu.jpg  \n",
            " extracting: train/6b0ff20bea33a627_jpg.rf.28cc892ffd33c713b1623c269575beb9.jpg  \n",
            " extracting: train/6b0ff20bea33a627_jpg.rf.CWb0AxkbI75N8WGzv9Cv.jpg  \n",
            " extracting: train/6deb06ad4f5642aa_jpg.rf.NGZvQa3bou6dbbPKCDcL.jpg  \n",
            " extracting: train/6deb06ad4f5642aa_jpg.rf.c6a55a83ce296d66634c5c9237ff7a63.jpg  \n",
            " extracting: train/6f264bba4e43a80d_jpg.rf.25f5tB5LhWbaWKY4S4eO.jpg  \n",
            " extracting: train/6f264bba4e43a80d_jpg.rf.dbb7443ef1244f2718b0dd7b17353544.jpg  \n",
            " extracting: train/6f2cc554e1c2a402_jpg.rf.47QdZr1pXaeNToff9sOp.jpg  \n",
            " extracting: train/6f2cc554e1c2a402_jpg.rf.c82054d18cde5f4de867fb8c0b9cc178.jpg  \n",
            " extracting: train/6f6469b661188809_jpg.rf.aHKEwgPjl3iipK6BDAZ8.jpg  \n",
            " extracting: train/6f6469b661188809_jpg.rf.c5f9e3f7559d6aea7840adf1fe55e060.jpg  \n",
            " extracting: train/6f90ee12f14ee50a_jpg.rf.850532392ee43b612c8ac775907038b3.jpg  \n",
            " extracting: train/6f90ee12f14ee50a_jpg.rf.aENErz5PSfFtkNyM8rLH.jpg  \n",
            " extracting: train/6fcb072467002402_jpg.rf.TCEmp6vCEp7CjGS75dq8.jpg  \n",
            " extracting: train/6fcb072467002402_jpg.rf.cee5351b61d58e01bab7f4f3ede4dbd2.jpg  \n",
            " extracting: train/6ff911eff6b2b445_jpg.rf.4d1e4ee4912441f930e8eb572daaa15d.jpg  \n",
            " extracting: train/6ff911eff6b2b445_jpg.rf.JkxZKrCeWiZn41TTzm1w.jpg  \n",
            " extracting: train/709b17bde853983b_jpg.rf.86c45bb93e6435236f9ccfc8890b2e9e.jpg  \n",
            " extracting: train/709b17bde853983b_jpg.rf.fOgt3ZpyWyPLMuLlqTYM.jpg  \n",
            " extracting: train/723f1dec45f28293_jpg.rf.DM58KCGL1nVQ4FIkXlhI.jpg  \n",
            " extracting: train/723f1dec45f28293_jpg.rf.abd3c4254dd4858e64a9e6aa313a6a9d.jpg  \n",
            " extracting: train/73eecdcf3e8b2d0a_jpg.rf.59855509e4ca058cc6355ef60e3cb761.jpg  \n",
            " extracting: train/73eecdcf3e8b2d0a_jpg.rf.ev74INR9KOYZVZH8Qj61.jpg  \n",
            " extracting: train/747cd7852c715967_jpg.rf.3e5e39e7bc67604f07e3616e8fbd7c3e.jpg  \n",
            " extracting: train/747cd7852c715967_jpg.rf.RxcaZkicjT3b039SPuvs.jpg  \n",
            " extracting: train/755429acdd214071_jpg.rf.5a361af3e80c8e4533c45e2d4b29d964.jpg  \n",
            " extracting: train/755429acdd214071_jpg.rf.esxA01GaxuUwd0bukOkT.jpg  \n",
            " extracting: train/7647fd79a316276d_jpg.rf.b09460cbc5931a092b36b3202514f59e.jpg  \n",
            " extracting: train/7647fd79a316276d_jpg.rf.nSkNXN4VR8dRl0BatYZv.jpg  \n",
            " extracting: train/7654aaa60913d6a2_jpg.rf.ed53a1c13f23c046f7d265d90bef3b0e.jpg  \n",
            " extracting: train/7654aaa60913d6a2_jpg.rf.sxmDUinaUJqdtfDZB619.jpg  \n",
            " extracting: train/7693ecc1e8107ba8_jpg.rf.11StsEPjRmQfUeqacthC.jpg  \n",
            " extracting: train/7693ecc1e8107ba8_jpg.rf.717d3f9c52d69eb16f820555a21615ac.jpg  \n",
            " extracting: train/7845ed5a26cb9fd4_jpg.rf.4774c33772ba8a86565de0d4ab90a688.jpg  \n",
            " extracting: train/7845ed5a26cb9fd4_jpg.rf.yC0A3ocskag7uNg55UcR.jpg  \n",
            " extracting: train/7a67044a2e20e055_jpg.rf.1e01e9996dd5ef0f02414eb95e64128a.jpg  \n",
            " extracting: train/7a67044a2e20e055_jpg.rf.Cy2gPjcf00kIdoRz4zjk.jpg  \n",
            " extracting: train/7bb1cf09506080dd_jpg.rf.8c33a77b541e58095b26500da8fc9e62.jpg  \n",
            " extracting: train/7bb1cf09506080dd_jpg.rf.DULBipxtFei5J536SXQq.jpg  \n",
            " extracting: train/7bec73d280fb3fb3_jpg.rf.eaec6eac3321632d7b4ec7f389df3388.jpg  \n",
            " extracting: train/7bec73d280fb3fb3_jpg.rf.hHh73xgZKK55PIh54CVM.jpg  \n",
            " extracting: train/7c4956f09516e64c_jpg.rf.3hDayW18kgEajtxyQ4XM.jpg  \n",
            " extracting: train/7c4956f09516e64c_jpg.rf.c9d36b244792ca020dbfc570ecfef2fc.jpg  \n",
            " extracting: train/7c7fb68e46068c1a_jpg.rf.265e0f90e29490d500561d574a242283.jpg  \n",
            " extracting: train/7c7fb68e46068c1a_jpg.rf.SMMC1hl4muynLoUq3oXA.jpg  \n",
            " extracting: train/7ee15edb0c2a85a3_jpg.rf.b33ea56f7fe0caf8593481936e239399.jpg  \n",
            " extracting: train/7ee15edb0c2a85a3_jpg.rf.xukt3Qh7VjnVITM8KXn7.jpg  \n",
            " extracting: train/7ee812fcba54457d_jpg.rf.1f06d731fc08997c5e6740d5b80142b3.jpg  \n",
            " extracting: train/7ee812fcba54457d_jpg.rf.p2tQF8wvjTa9t0zb1mcY.jpg  \n",
            " extracting: train/7eecf7ff2aaa158b_jpg.rf.3eHXD0wrKKiC21j4psJI.jpg  \n",
            " extracting: train/7eecf7ff2aaa158b_jpg.rf.a782a619ba0f65fd1caf1302faaa5e5f.jpg  \n",
            " extracting: train/7f3819434208d49f_jpg.rf.a203259b622dc244b7152f0a4e8874fe.jpg  \n",
            " extracting: train/7f3819434208d49f_jpg.rf.aDBLWhWFvg0oFZvmzDL3.jpg  \n",
            " extracting: train/7f521593dc5e1d37_jpg.rf.92e08b32b0c6a968875ede7473a7300d.jpg  \n",
            " extracting: train/7f521593dc5e1d37_jpg.rf.mEctpjkQcGeWF4zvheZc.jpg  \n",
            " extracting: train/7fc3bf7ec6900b1e_jpg.rf.570fc7264c40a5f25011e57c74e0a826.jpg  \n",
            " extracting: train/7fc3bf7ec6900b1e_jpg.rf.JPHQ7duFrSI9jR2ikwfz.jpg  \n",
            " extracting: train/7fe975e3425882fe_jpg.rf.43f25c85e5a637020e70388d68b7c0d8.jpg  \n",
            " extracting: train/7fe975e3425882fe_jpg.rf.NZxl7gd0wHuu5bO26ZtW.jpg  \n",
            " extracting: train/8064f777d12332de_jpg.rf.c05c9d18b589ae4fd60386248bbc87e4.jpg  \n",
            " extracting: train/8064f777d12332de_jpg.rf.m8QhsK7JO11kWAF9mifN.jpg  \n",
            " extracting: train/81bd05743ca6aeca_jpg.rf.f21f86be5720ecc6f685a1a04935b6ca.jpg  \n",
            " extracting: train/81bd05743ca6aeca_jpg.rf.qMISjBahaMUKffB97JKx.jpg  \n",
            " extracting: train/81ef85dffa49536c_jpg.rf.f48de1141888c3c5daeb0aa767d25f30.jpg  \n",
            " extracting: train/81ef85dffa49536c_jpg.rf.oIhMmc7XWFB6QFsPXlNE.jpg  \n",
            " extracting: train/823dc9232c0c68f9_jpg.rf.f7822a18c24d4fa2b7d5a8189a4faad0.jpg  \n",
            " extracting: train/823dc9232c0c68f9_jpg.rf.ogCCbVHQnIOfpVkbkAht.jpg  \n",
            " extracting: train/82d3bb8f9d736f88_jpg.rf.61bc6b8d6999a8fb29218163003461a2.jpg  \n",
            " extracting: train/82d3bb8f9d736f88_jpg.rf.igoEij9lPRqX5UZr0Q0a.jpg  \n",
            " extracting: train/82d83aabe4bbc7f5_jpg.rf.55342f25fe964cb9c9b4408e01bd3414.jpg  \n",
            " extracting: train/82d83aabe4bbc7f5_jpg.rf.CCjSNAOjY9jvKg39H0sn.jpg  \n",
            " extracting: train/8448957c4e76c2c4_jpg.rf.eb83702cd97156796c9bbb4bab75b8d2.jpg  \n",
            " extracting: train/8448957c4e76c2c4_jpg.rf.y9QwReTgavWU2sgAuqqk.jpg  \n",
            " extracting: train/846d94cce4386166_jpg.rf.3b93d09a5bc1ac3ff80a9454ce32633b.jpg  \n",
            " extracting: train/846d94cce4386166_jpg.rf.GQzcleq7p9tUiTlulWav.jpg  \n",
            " extracting: train/86300d7134e22a54_jpg.rf.1435f12b92734b1855634564ee030230.jpg  \n",
            " extracting: train/86300d7134e22a54_jpg.rf.JHWznk3a5qzr7zbz4oBn.jpg  \n",
            " extracting: train/878749c0431be08b_jpg.rf.3f4570324e5e409d69f5582256fd0065.jpg  \n",
            " extracting: train/878749c0431be08b_jpg.rf.AxEHzN8hJMJsiy8E1Y86.jpg  \n",
            " extracting: train/87b33e9edd7ccafe_jpg.rf.2e085addf284beae7fa24757a37b9d06.jpg  \n",
            " extracting: train/87b33e9edd7ccafe_jpg.rf.iCVFu1WzOEuQp2rYceDH.jpg  \n",
            " extracting: train/8805768cafea8902_jpg.rf.e8e04d8ed52c2f9206b435c5126efd86.jpg  \n",
            " extracting: train/8805768cafea8902_jpg.rf.svJAszowHc8gpy1Jdw22.jpg  \n",
            " extracting: train/897ab2755c40c9d5_jpg.rf.8vWHR4xgPhHMp2MGuu0v.jpg  \n",
            " extracting: train/897ab2755c40c9d5_jpg.rf.edadcda0d044dd5fd01a83d8b4b6efb4.jpg  \n",
            " extracting: train/8996881c2bf7245a_jpg.rf.0qG3fjtx6XdUVXXQWt8t.jpg  \n",
            " extracting: train/8996881c2bf7245a_jpg.rf.68b4b240368132b39b38641fd1815cd5.jpg  \n",
            " extracting: train/8a72cf2f25b0b187_jpg.rf.WEBUEgyCPVAnG9jcPOBB.jpg  \n",
            " extracting: train/8a72cf2f25b0b187_jpg.rf.b3b5db2be68b1f5a0ec25f30866b494b.jpg  \n",
            " extracting: train/8a82a293c3687273_jpg.rf.2b1e56d5b7fed3a45a890f372b8a4e20.jpg  \n",
            " extracting: train/8a82a293c3687273_jpg.rf.MLQLwxoXybrRyJe8hrXc.jpg  \n",
            " extracting: train/8ab42b1f71d61b19_jpg.rf.d5bcb8d886aec47b4a200d229752a9f3.jpg  \n",
            " extracting: train/8ab42b1f71d61b19_jpg.rf.nCx88F3oEN0GaskAVi70.jpg  \n",
            " extracting: train/8ac16d8c5aed72c7_jpg.rf.f2cbefc3854e418b5c1dbd079d78f503.jpg  \n",
            " extracting: train/8ac16d8c5aed72c7_jpg.rf.vzvJmtflNjMibnvS1GTj.jpg  \n",
            " extracting: train/8ba28eeec6f1a78c_jpg.rf.4TXOeuDTXBzOOyR7RdXP.jpg  \n",
            " extracting: train/8ba28eeec6f1a78c_jpg.rf.d582ea01fbbe0c45297e56d97b474f56.jpg  \n",
            " extracting: train/8bffd89b6cda54fe_jpg.rf.8f863879de507546de26471c06a1a179.jpg  \n",
            " extracting: train/8bffd89b6cda54fe_jpg.rf.A7UhyLdNVl3wIzikaoyp.jpg  \n",
            " extracting: train/8d0f8a2eb446328a_jpg.rf.5396ad3eb475715489428876a6095e9b.jpg  \n",
            " extracting: train/8d0f8a2eb446328a_jpg.rf.e0PkFagKj9OWxI8HGdNy.jpg  \n",
            " extracting: train/8d7a89e438cd9f89_jpg.rf.4efd99c670fac48cc14e38abdfafcc38.jpg  \n",
            " extracting: train/8d7a89e438cd9f89_jpg.rf.XEHORqWAY08fRHbnJx8h.jpg  \n",
            " extracting: train/8d96556cdec8743f_jpg.rf.RaBdm6iZifTgy1CZQ7uQ.jpg  \n",
            " extracting: train/8d96556cdec8743f_jpg.rf.b3e36f3f36339be1fa3fd5d297742692.jpg  \n",
            " extracting: train/8d9eabbbc5f0ef15_jpg.rf.4dXUQLh1Xt2rYnf5PuAR.jpg  \n",
            " extracting: train/8d9eabbbc5f0ef15_jpg.rf.543ae97f969e5e1ef02cb1d740ced403.jpg  \n",
            " extracting: train/8e1ded483cacc175_jpg.rf.5652fefc820cfc42d237b3a5b932cb46.jpg  \n",
            " extracting: train/8e1ded483cacc175_jpg.rf.tMmxM3AXTmAFQGE87dKX.jpg  \n",
            " extracting: train/8e7132bac206401a_jpg.rf.97fc5f32bd21702736b576640a6743ae.jpg  \n",
            " extracting: train/8e7132bac206401a_jpg.rf.VejMFXEIJnTJ9HkB7GtP.jpg  \n",
            " extracting: train/8ee800b43a4797d5_jpg.rf.e2a2f10042859edddd186b45562208f8.jpg  \n",
            " extracting: train/8ee800b43a4797d5_jpg.rf.qosID3oZl92FOKr1pT0f.jpg  \n",
            " extracting: train/8f28dbee29152679_jpg.rf.28e5c9dbeac30592db181bd250ff5e37.jpg  \n",
            " extracting: train/8f28dbee29152679_jpg.rf.5t0m9nzoBwio0AecyWRG.jpg  \n",
            " extracting: train/90ddce2c65dec1cf_jpg.rf.79F0zfZvlUWkTg7hLYRC.jpg  \n",
            " extracting: train/90ddce2c65dec1cf_jpg.rf.8404f3d3f201b1305b44aaa0d5a507b2.jpg  \n",
            " extracting: train/91e11943f15e4b3c_jpg.rf.4501c4497e208272c8c8935dd349cadc.jpg  \n",
            " extracting: train/91e11943f15e4b3c_jpg.rf.9luwWbGyIEfG0TqiyFj7.jpg  \n",
            " extracting: train/933a65f721f20680_jpg.rf.11L26anW0fw4r6sBqAn0.jpg  \n",
            " extracting: train/933a65f721f20680_jpg.rf.d99add22c8383f87346e3facd57c4eac.jpg  \n",
            " extracting: train/93684b17bf1c1b0f_jpg.rf.33a8ac0caa8223dd2b6fcec9b4ae57f7.jpg  \n",
            " extracting: train/93684b17bf1c1b0f_jpg.rf.7OQDW6kzLN6LeoDu3fVX.jpg  \n",
            " extracting: train/944965d358ae7d52_jpg.rf.29cee0a956d0e4297ecabf1cd537baff.jpg  \n",
            " extracting: train/944965d358ae7d52_jpg.rf.moZBwbNBbrpvpXpMbPam.jpg  \n",
            " extracting: train/949779eae219ffbb_jpg.rf.Mgun0jgi0jzP843Eefkz.jpg  \n",
            " extracting: train/949779eae219ffbb_jpg.rf.e727de529b232be1e9e888aab2e1c8f6.jpg  \n",
            " extracting: train/954544f166417294_jpg.rf.D8bdv3zdO1blmjXew7Tu.jpg  \n",
            " extracting: train/954544f166417294_jpg.rf.c8c292b7c7e3a85f2e555859c3c3f0d3.jpg  \n",
            " extracting: train/962a308b6a4b2fbc_jpg.rf.NjbbOgZyJy6UEbcD1WY7.jpg  \n",
            " extracting: train/962a308b6a4b2fbc_jpg.rf.d4e491faa233680153706ebadcad3b73.jpg  \n",
            " extracting: train/9702d272dcc9e1fe_jpg.rf.0ec10b9b18ce5cd7f58d83b992ef4ac3.jpg  \n",
            " extracting: train/9702d272dcc9e1fe_jpg.rf.8BzNSpg6eooEcd1aZf1q.jpg  \n",
            " extracting: train/9854a4a7f8550050_jpg.rf.667ad934f2d0780259bc5cf408c663c9.jpg  \n",
            " extracting: train/9854a4a7f8550050_jpg.rf.da3byj20X7sB0G51ue6r.jpg  \n",
            " extracting: train/99d905d40b37c9a6_jpg.rf.UhUTFxIgkZYcOb66s8bI.jpg  \n",
            " extracting: train/99d905d40b37c9a6_jpg.rf.c392d37141642fbceb40f6a855e46cfe.jpg  \n",
            " extracting: train/9a6f354940e93dd4_jpg.rf.GMMkBiehYeikQm5BU9mr.jpg  \n",
            " extracting: train/9a6f354940e93dd4_jpg.rf.df160bf599c0acfca9126c17d7c357fa.jpg  \n",
            " extracting: train/9b57ee9468a373aa_jpg.rf.FHEqHCrjZlfErWfdkkJV.jpg  \n",
            " extracting: train/9b57ee9468a373aa_jpg.rf.bbeb87a5aa22964216cb150353000505.jpg  \n",
            " extracting: train/9c5cf4fed30054f2_jpg.rf.4c9KkOPfM8k1SOgmUfY3.jpg  \n",
            " extracting: train/9c5cf4fed30054f2_jpg.rf.55e1c3dc00ad0ca230085fd1747b61f6.jpg  \n",
            " extracting: train/9c8ca199afe3eab2_jpg.rf.933ac696ea0e3cd480f83d9067888f92.jpg  \n",
            " extracting: train/9c8ca199afe3eab2_jpg.rf.FCFcPKoYjD1mVPBJB3ZF.jpg  \n",
            " extracting: train/9c8fc20bce80d5d0_jpg.rf.2yhMjwfpktEVgfdD8Me6.jpg  \n",
            " extracting: train/9c8fc20bce80d5d0_jpg.rf.69803d7b6794d32c8b3407c62db952bd.jpg  \n",
            " extracting: train/9d328718dcef1817_jpg.rf.6cee0dd19b22a448e273083e8387c30c.jpg  \n",
            " extracting: train/9d328718dcef1817_jpg.rf.6j1jgDWxskfP1RCfzf04.jpg  \n",
            " extracting: train/9ead2683d36b6457_jpg.rf.79bc938cf74a07d763fcb12ff938f5d3.jpg  \n",
            " extracting: train/9ead2683d36b6457_jpg.rf.hn1yLB9vmFzTKHUiqWBA.jpg  \n",
            " extracting: train/9eb47e708593623d_jpg.rf.7ba16a896b2c30c17fe8b08bea8b80b5.jpg  \n",
            " extracting: train/9eb47e708593623d_jpg.rf.mK7IKhwTFHAjapX34l6I.jpg  \n",
            " extracting: train/9f44fe965d91b697_jpg.rf.DRHw9lktxQCx5ADgjDva.jpg  \n",
            " extracting: train/9f44fe965d91b697_jpg.rf.ebcbf9f33a210130b6ad618aaa0a6c56.jpg  \n",
            " extracting: train/_annotations.coco.json  \n",
            " extracting: train/a0b5db178759f6ca_jpg.rf.ec1614bc60ad693dcde9a777c7e18a79.jpg  \n",
            " extracting: train/a0b5db178759f6ca_jpg.rf.y4r3EQZKQeqDbSRvRh11.jpg  \n",
            " extracting: train/a15cccae5ae7bcb5_jpg.rf.242cdf5ded87d9a0889c4b36e2e188c5.jpg  \n",
            " extracting: train/a15cccae5ae7bcb5_jpg.rf.3aBgLspVnV7n8BCEu1zZ.jpg  \n",
            " extracting: train/a17495d2be501298_jpg.rf.6a81aee31c008a24133721af79a8713d.jpg  \n",
            " extracting: train/a17495d2be501298_jpg.rf.JpMs8bLpRIajKvwCx9nD.jpg  \n",
            " extracting: train/a238a0fee56f0d0c_jpg.rf.6cb17e15fc28f87e49d11244fffdd2cf.jpg  \n",
            " extracting: train/a238a0fee56f0d0c_jpg.rf.yt66zJ1kmNs2RRth4nyn.jpg  \n",
            " extracting: train/a3459377124924f2_jpg.rf.1cb021c038b76d2e9f95fc41a7b3611c.jpg  \n",
            " extracting: train/a3459377124924f2_jpg.rf.the60RwRApi42EQz1J3f.jpg  \n",
            " extracting: train/a37730f43629ed00_jpg.rf.b2NktvrYPF8IJunrKBQV.jpg  \n",
            " extracting: train/a37730f43629ed00_jpg.rf.f82eaff7cc2706caaaaa62b2431925ed.jpg  \n",
            " extracting: train/a3a9d9452578defa_jpg.rf.536bf98fdd94efa93741ed8349c18d03.jpg  \n",
            " extracting: train/a3a9d9452578defa_jpg.rf.dIRPP7YKEfOl6ltUhnoH.jpg  \n",
            " extracting: train/a438cdc02b45c29c_jpg.rf.YLrbRakQOl65LnIs9pt9.jpg  \n",
            " extracting: train/a438cdc02b45c29c_jpg.rf.ad90fa036ee141b87e75721256a2e562.jpg  \n",
            " extracting: train/a6584f0e0dcbf71c_jpg.rf.0cf0d194f8c5d5f0fa50f9f12c7723c9.jpg  \n",
            " extracting: train/a6584f0e0dcbf71c_jpg.rf.48phEzrkG4oJ2npOmMcJ.jpg  \n",
            " extracting: train/a6bae981a16ab9a6_jpg.rf.51773282f8cc4691c58f8f1929949c3b.jpg  \n",
            " extracting: train/a6bae981a16ab9a6_jpg.rf.CMLeHCUdjaXTeSZ5L7YQ.jpg  \n",
            " extracting: train/a70bc382ce075409_jpg.rf.713fc6d5d684a8e6edab4afbdada4cd7.jpg  \n",
            " extracting: train/a70bc382ce075409_jpg.rf.AkFyIldPLgtGAukeIJnq.jpg  \n",
            " extracting: train/a7a0f7d1903a8072_jpg.rf.a0236239a7198d8b959b7b2ab5ef4ad8.jpg  \n",
            " extracting: train/a7a0f7d1903a8072_jpg.rf.oKxbviueGBuXL98IqazT.jpg  \n",
            " extracting: train/a7d33981079f545f_jpg.rf.9bd2e179a81576c858ed8eddfb1958ae.jpg  \n",
            " extracting: train/a7d33981079f545f_jpg.rf.XzJ6xvIOlomqkDUE59rE.jpg  \n",
            " extracting: train/a836b230394abec3_jpg.rf.2421de8703b2476884ce7aaa448f3d4b.jpg  \n",
            " extracting: train/a836b230394abec3_jpg.rf.hTKDXDxNLeskuMEfvYCT.jpg  \n",
            " extracting: train/a86e99068ec8dade_jpg.rf.58f16a1a1d5d498f824c211d143cfb88.jpg  \n",
            " extracting: train/a86e99068ec8dade_jpg.rf.zBz4TFkOzkpchoAdAlP3.jpg  \n",
            " extracting: train/a951528227f53582_jpg.rf.6369c8ab35e842d116314fd61b5d1503.jpg  \n",
            " extracting: train/a951528227f53582_jpg.rf.EpXAOZAT1BLclrz3BrOd.jpg  \n",
            " extracting: train/a95dff91d3ce071a_jpg.rf.c5d29258fac242976928c70868b7ae30.jpg  \n",
            " extracting: train/a95dff91d3ce071a_jpg.rf.yx37y19ahUNCITdd21Ww.jpg  \n",
            " extracting: train/a9cbd4910c5d9086_jpg.rf.745e39167533eb455ed1c48318582467.jpg  \n",
            " extracting: train/a9cbd4910c5d9086_jpg.rf.EQ2m8nu8wBtVKWlFenmS.jpg  \n",
            " extracting: train/aa159f88e636f64c_jpg.rf.7ba73f38aa457ad965f2a3dbfc73de66.jpg  \n",
            " extracting: train/aa159f88e636f64c_jpg.rf.ZDjdESkuzWQEgJG2jj7r.jpg  \n",
            " extracting: train/abbe2d8b6072322a_jpg.rf.48dfa7eadaba905cf0cf2d737267d2ff.jpg  \n",
            " extracting: train/abbe2d8b6072322a_jpg.rf.v8JR2msuSyXCFgFc6o5y.jpg  \n",
            " extracting: train/aeacc12dda099133_jpg.rf.1c582785b3303cab8be3329cac5960ce.jpg  \n",
            " extracting: train/aeacc12dda099133_jpg.rf.UcADgOqQZa0VuaXeTCNP.jpg  \n",
            " extracting: train/aeb050c3f8cd4cd0_jpg.rf.729afccbdfbcef0b8ef050e00ee65ae9.jpg  \n",
            " extracting: train/aeb050c3f8cd4cd0_jpg.rf.RffYhefymbdhcKJS1qRq.jpg  \n",
            " extracting: train/aecd7416f432a683_jpg.rf.1d48c0b9e935f8d2aca6210c04b83a31.jpg  \n",
            " extracting: train/aecd7416f432a683_jpg.rf.TBc607mPUq0PybaJP48d.jpg  \n",
            " extracting: train/aef70378eeebbb14_jpg.rf.OlbOfvRFj8rVyEV0mQy4.jpg  \n",
            " extracting: train/aef70378eeebbb14_jpg.rf.d00a6aeebec5d07977dc2d62ec3e6834.jpg  \n",
            " extracting: train/b00a9478020cf814_jpg.rf.Tl678UkssCBR6QSUivw7.jpg  \n",
            " extracting: train/b00a9478020cf814_jpg.rf.b719caba40fa5531ea5da7043cde58be.jpg  \n",
            " extracting: train/b0c53f5874d27590_jpg.rf.1e49d26ad60eb1aa2995bd7bbedf2d34.jpg  \n",
            " extracting: train/b0c53f5874d27590_jpg.rf.Jn5kTkKVjbHpACkD11OL.jpg  \n",
            " extracting: train/b12f449994380c37_jpg.rf.2e6760490b38c1d8af528a083e144d76.jpg  \n",
            " extracting: train/b12f449994380c37_jpg.rf.XPIjA9HimqX2oRJ3EiQj.jpg  \n",
            " extracting: train/b1e5a16e9c943534_jpg.rf.da641401b7118f9386549e85902205ed.jpg  \n",
            " extracting: train/b1e5a16e9c943534_jpg.rf.vc0uU52Op8h8U773u119.jpg  \n",
            " extracting: train/b2137199558f5219_jpg.rf.72cfd126c86c4a55a3e713510befc55b.jpg  \n",
            " extracting: train/b2137199558f5219_jpg.rf.nZfEUIK0mQVYIArv4HiY.jpg  \n",
            " extracting: train/b26314890a9cc3a8_jpg.rf.4e49e8a724936927f6e4af5c06b9241a.jpg  \n",
            " extracting: train/b26314890a9cc3a8_jpg.rf.7LpKTrN8uPmqfKSNxSvw.jpg  \n",
            " extracting: train/b2a36196721315df_jpg.rf.ee73a73c342a62c7c211a41838751acd.jpg  \n",
            " extracting: train/b2a36196721315df_jpg.rf.j31VteivPpcqRzlcONlb.jpg  \n",
            " extracting: train/b2b2e93f1a010cc6_jpg.rf.6gFaPes57dmCfq4HDzfW.jpg  \n",
            " extracting: train/b2b2e93f1a010cc6_jpg.rf.b90b02256d906e1b068192b638423634.jpg  \n",
            " extracting: train/b31f29967475ce05_jpg.rf.5f5fc8e936a284e202f5ccbaf484bffe.jpg  \n",
            " extracting: train/b31f29967475ce05_jpg.rf.LLiDykcjj0ZYRxi4tMMg.jpg  \n",
            " extracting: train/b55c2626eb8387c4_jpg.rf.51efbc941db668f5d16e2c556cb8991b.jpg  \n",
            " extracting: train/b55c2626eb8387c4_jpg.rf.WyJCmKX0X3yXAqzBOC9g.jpg  \n",
            " extracting: train/b5e9086cb2179adc_jpg.rf.1TSG1n8jaS6qKVJQjijp.jpg  \n",
            " extracting: train/b5e9086cb2179adc_jpg.rf.6ae29336c52413be90291155bbc9b730.jpg  \n",
            " extracting: train/b61201eee8903342_jpg.rf.00edd486466508ba478ce7709da69352.jpg  \n",
            " extracting: train/b61201eee8903342_jpg.rf.CwWPr6hLa7ec5bg7Ckm4.jpg  \n",
            " extracting: train/b63484b53dfcb428_jpg.rf.7jd0xQfAu9ZE71OcOTII.jpg  \n",
            " extracting: train/b63484b53dfcb428_jpg.rf.8516caf7365ae79a21e72bd6bf724712.jpg  \n",
            " extracting: train/b6bab9d58f2b26b8_jpg.rf.4M2dO8riFMlUswkOM25R.jpg  \n",
            " extracting: train/b6bab9d58f2b26b8_jpg.rf.f468de3166e371b6f4de7613c24b56e4.jpg  \n",
            " extracting: train/b76ccf04540bc757_jpg.rf.ce8a87d9c6fcc99322a87a3854156443.jpg  \n",
            " extracting: train/b76ccf04540bc757_jpg.rf.uuU51WVYZmToluP46JK9.jpg  \n",
            " extracting: train/b792b9170353420e_jpg.rf.8a891db98007e382c6760535f51fe697.jpg  \n",
            " extracting: train/b792b9170353420e_jpg.rf.NC8ykMJhQQTV8sRJzTYd.jpg  \n",
            " extracting: train/b813acfbebfda35b_jpg.rf.F3tKeezko38Ks05rm8Za.jpg  \n",
            " extracting: train/b813acfbebfda35b_jpg.rf.df6c94d48da7e5305ed41159db100da2.jpg  \n",
            " extracting: train/b829b619823db831_jpg.rf.a279a395e51e92fdc6f1fff87c3c7229.jpg  \n",
            " extracting: train/b829b619823db831_jpg.rf.fgzguU7SIClpjP5bgGHR.jpg  \n",
            " extracting: train/b856e2f0ec2e5fcc_jpg.rf.D4KjZ69XnSLjW5tYBWbg.jpg  \n",
            " extracting: train/b856e2f0ec2e5fcc_jpg.rf.c4d72233e8631ace37177e308efc13ba.jpg  \n",
            " extracting: train/b8a245cb4571e8fb_jpg.rf.1080d34119681432638b681d97276175.jpg  \n",
            " extracting: train/b8a245cb4571e8fb_jpg.rf.8QcoX7qHorIJUsXQ7LQe.jpg  \n",
            " extracting: train/b8e3cfcdf196bc11_jpg.rf.28ae52d43ea272faaf1bd617dec2184d.jpg  \n",
            " extracting: train/b8e3cfcdf196bc11_jpg.rf.vcsALIXRX8TBIu2mK9gT.jpg  \n",
            " extracting: train/b9e1dcfd07291353_jpg.rf.6901689869f1beca039961a2eb7aef53.jpg  \n",
            " extracting: train/b9e1dcfd07291353_jpg.rf.XkC7OSBXg7QqeCQsfRzn.jpg  \n",
            " extracting: train/b9e2a70f60d7473b_jpg.rf.4e0f351e8a2c402bb137444c45546b10.jpg  \n",
            " extracting: train/b9e2a70f60d7473b_jpg.rf.txriI2EXvW8liwDovVM7.jpg  \n",
            " extracting: train/ba0341a067357bd0_jpg.rf.99373bfdfcebfdae75f9a8a8ae9838df.jpg  \n",
            " extracting: train/ba0341a067357bd0_jpg.rf.v47YXO5dekHqwP8nylXY.jpg  \n",
            " extracting: train/bacb74ab77c5eccf_jpg.rf.7804115a62198801e7aa9a2196b20185.jpg  \n",
            " extracting: train/bacb74ab77c5eccf_jpg.rf.JmRqoOTqcvy8DhP6Eigj.jpg  \n",
            " extracting: train/bad3fff8e9589902_jpg.rf.QLZh2G5Ei2HWJvfECRzP.jpg  \n",
            " extracting: train/bad3fff8e9589902_jpg.rf.e311f73da4502a1bf8638ba87728f104.jpg  \n",
            " extracting: train/bb77a64dbce401ed_jpg.rf.0595e0a7911e709f9e8716977eec3dd2.jpg  \n",
            " extracting: train/bb77a64dbce401ed_jpg.rf.hMuVjFDdKqzzjBuebmLm.jpg  \n",
            " extracting: train/bd83b1913c6b7453_jpg.rf.20e30c867510ece2c17dafa28e8f9af1.jpg  \n",
            " extracting: train/bd83b1913c6b7453_jpg.rf.6Qkj9RRvwFl1Sfssd8oN.jpg  \n",
            " extracting: train/bdb39aad895c90c6_jpg.rf.3d6dbe49dd09f4d6b6c375ac1e9a909f.jpg  \n",
            " extracting: train/bdb39aad895c90c6_jpg.rf.drnPVcACgxX488vaVfgO.jpg  \n",
            " extracting: train/bdc6ddcd3b5129bb_jpg.rf.00da54335aeba68b1d59d976f1f7c3d3.jpg  \n",
            " extracting: train/bdc6ddcd3b5129bb_jpg.rf.vGGKLMAv30Zlex9EOx9X.jpg  \n",
            " extracting: train/beb71a1a1d74af2e_jpg.rf.7bbe99983329917dc4115892a69f1a25.jpg  \n",
            " extracting: train/beb71a1a1d74af2e_jpg.rf.Eoe42A0hGi6qr86BLpz4.jpg  \n",
            " extracting: train/bf0fd1bb683dab7c_jpg.rf.e986a5e8e7b797395b3623cdc2a769a7.jpg  \n",
            " extracting: train/bf0fd1bb683dab7c_jpg.rf.gXEskWLFbjcDoKcjWkoY.jpg  \n",
            " extracting: train/bf9e0fd614ba028d_jpg.rf.2ed4a50d0c8b907241254ee7a14e72c5.jpg  \n",
            " extracting: train/bf9e0fd614ba028d_jpg.rf.ST3RBdT6ishjBCCOxu9P.jpg  \n",
            " extracting: train/bfa31c9efb82129a_jpg.rf.171a6c5bd6b5337fa8d03d2a4d626144.jpg  \n",
            " extracting: train/bfa31c9efb82129a_jpg.rf.PxwZQne4rLEAzKyvd7VH.jpg  \n",
            " extracting: train/c0e2ca0a63cc7aac_jpg.rf.KdU0tXewVj2biN57fXss.jpg  \n",
            " extracting: train/c0e2ca0a63cc7aac_jpg.rf.edc68553c7d21a13defa38cdb7e616bc.jpg  \n",
            " extracting: train/c238ce6250dcd9d7_jpg.rf.MjSQ1CjyBoVLyEJrDKAw.jpg  \n",
            " extracting: train/c238ce6250dcd9d7_jpg.rf.b8b136041ac7d275070491373e31a253.jpg  \n",
            " extracting: train/c27036c5b7baaa04_jpg.rf.58f0352e8f6792ad1df8e037fccae554.jpg  \n",
            " extracting: train/c27036c5b7baaa04_jpg.rf.mBp3gwqq0s0AbtERGgHN.jpg  \n",
            " extracting: train/c350281af5ea9607_jpg.rf.b4496ae6178ccae2b5a0a621a47874b0.jpg  \n",
            " extracting: train/c350281af5ea9607_jpg.rf.f6Lu6ZXgVlpsww6P7Pvt.jpg  \n",
            " extracting: train/c3a9caff83640956_jpg.rf.64e9fd87428afefb184db66feb230461.jpg  \n",
            " extracting: train/c3a9caff83640956_jpg.rf.o3rMe5wSaddLnTn5BxI4.jpg  \n",
            " extracting: train/c52500a14f92ff65_jpg.rf.bac8f96b8928ebabc80a2e39fe5bb650.jpg  \n",
            " extracting: train/c52500a14f92ff65_jpg.rf.q6AKg2MZ6dqQZBH8nqAo.jpg  \n",
            " extracting: train/c645a919dfb54b94_jpg.rf.bbbc2d599509a2570d27a7d1449d2039.jpg  \n",
            " extracting: train/c645a919dfb54b94_jpg.rf.iucuyQp73tI7DGBFrSz7.jpg  \n",
            " extracting: train/c68b78dcd33a89c0_jpg.rf.0f7577d75d5f7aa6293b09ce6949d67d.jpg  \n",
            " extracting: train/c68b78dcd33a89c0_jpg.rf.V10uTZhtbNevRGm3Ctg9.jpg  \n",
            " extracting: train/c6f32b8a12b9a44a_jpg.rf.15aaace0b3b4714b6d0fe3148807d9f8.jpg  \n",
            " extracting: train/c6f32b8a12b9a44a_jpg.rf.HA5yUO5uJFelKZEe6UpT.jpg  \n",
            " extracting: train/c7628592a03f9ff4_jpg.rf.2a18d7e2544e1d7e099a44368a6fff31.jpg  \n",
            " extracting: train/c7628592a03f9ff4_jpg.rf.h08vY1lapgVAgrj5XKUY.jpg  \n",
            " extracting: train/c77be5bb5fb7e75c_jpg.rf.32ef200bcd58b3dc374a78a8d85bc3cf.jpg  \n",
            " extracting: train/c77be5bb5fb7e75c_jpg.rf.aV0M8Njg7icXSWGNtS11.jpg  \n",
            " extracting: train/c7ba731691765c73_jpg.rf.21acc173f0253315c8fda066a0995021.jpg  \n",
            " extracting: train/c7ba731691765c73_jpg.rf.vRJnpcmxRKGlE6wvD7VM.jpg  \n",
            " extracting: train/c7bcb6bf2ea5b289_jpg.rf.98hXzONJ9D2HisCGr4qc.jpg  \n",
            " extracting: train/c7bcb6bf2ea5b289_jpg.rf.e7a1d07d6055e85a43aabf3bd66670d3.jpg  \n",
            " extracting: train/c9c5db9f86740e01_jpg.rf.6441d8b39b5c4feb3977c42341783368.jpg  \n",
            " extracting: train/c9c5db9f86740e01_jpg.rf.6J6hpqmQ8sh0LGLQQgCF.jpg  \n",
            " extracting: train/c9ddb43cf0449556_jpg.rf.3WWxffNF5o0ntslFyc9g.jpg  \n",
            " extracting: train/c9ddb43cf0449556_jpg.rf.9e8dc04872a4da15c6f7c88e87a5c5b0.jpg  \n",
            " extracting: train/ca00cc1e9f910cfa_jpg.rf.050bd662c9b06cd0b9b90bf08ac1247b.jpg  \n",
            " extracting: train/ca00cc1e9f910cfa_jpg.rf.vdLj68Dtm0GhG1bl3H7q.jpg  \n",
            " extracting: train/cb4e0dac761c5e79_jpg.rf.3f328815a9791328053b98a2cf76dc5c.jpg  \n",
            " extracting: train/cb4e0dac761c5e79_jpg.rf.DfkKBW2rGl1FCXRzB7lB.jpg  \n",
            " extracting: train/cc266fd9ac857379_jpg.rf.450c264f0add70543b221aa06cd478b0.jpg  \n",
            " extracting: train/cc266fd9ac857379_jpg.rf.FPj03yFgmeYu4SYkqpUc.jpg  \n",
            " extracting: train/cc9784b20f5059c6_jpg.rf.5703106be433fef45977f1b28977d6f5.jpg  \n",
            " extracting: train/cc9784b20f5059c6_jpg.rf.JyWfZv9SEsqkcwUSmJ67.jpg  \n",
            " extracting: train/ccda9fe055e7fb14_jpg.rf.5b2176e6c3903733bbfb53655f0966b0.jpg  \n",
            " extracting: train/ccda9fe055e7fb14_jpg.rf.qpuvhah7Z8cihR1hXZXD.jpg  \n",
            " extracting: train/cd04413a18fb1790_jpg.rf.3c55fffdf04f655dcf12e9aea60b3ec9.jpg  \n",
            " extracting: train/cd04413a18fb1790_jpg.rf.pfEqv2vaP7fYWBzXlVJU.jpg  \n",
            " extracting: train/cdae08c988feed9d_jpg.rf.2e8cf309113ed2fe67185ce2d98a4354.jpg  \n",
            " extracting: train/cdae08c988feed9d_jpg.rf.OJG2DkJxMGxQYl05jaRQ.jpg  \n",
            " extracting: train/cde55879f441882f_jpg.rf.d1b155fe9675f3f01715b7bb1173679d.jpg  \n",
            " extracting: train/cde55879f441882f_jpg.rf.hkTDwNj7wC8I0Vm4gsDC.jpg  \n",
            " extracting: train/ce21b1595f7f0cfb_jpg.rf.0XnUsIWMYVB9YXgTcVwj.jpg  \n",
            " extracting: train/ce21b1595f7f0cfb_jpg.rf.823d815d6ab44d84cab5855d51cfe17f.jpg  \n",
            " extracting: train/ceaec0f3cdb104c0_jpg.rf.QrPKy9hWiK1MEGOAw8N6.jpg  \n",
            " extracting: train/ceaec0f3cdb104c0_jpg.rf.bbacf3d4ed5518a6d05cf18f03176cb0.jpg  \n",
            " extracting: train/cf8379de677b7911_jpg.rf.52ee6a4a07ef40aa726fc7664ddc48a6.jpg  \n",
            " extracting: train/cf8379de677b7911_jpg.rf.xaQzmM0IUk0w6kyL6OTK.jpg  \n",
            " extracting: train/d0fa518d2d1f9de2_jpg.rf.87adfff15466b9b2859bdf9b87fdd003.jpg  \n",
            " extracting: train/d0fa518d2d1f9de2_jpg.rf.s4BvuNg1aeFu3G7MTcEk.jpg  \n",
            " extracting: train/d19ab46e7433e5b6_jpg.rf.4cef7c9c9dd797510c9660d98ba9f5d4.jpg  \n",
            " extracting: train/d19ab46e7433e5b6_jpg.rf.4yT4Eszbij6IPwCViMGY.jpg  \n",
            " extracting: train/d19f3557d1314817_jpg.rf.84042e0c88f5c7cad23b6db14b7bca7b.jpg  \n",
            " extracting: train/d19f3557d1314817_jpg.rf.iCzUsCGPJLP0r2UgEmNB.jpg  \n",
            " extracting: train/d1d94b2d00fe61ca_jpg.rf.7e63ebaab66ab9ce576fc7ed727a3ce8.jpg  \n",
            " extracting: train/d1d94b2d00fe61ca_jpg.rf.wXpn86q0ZuHmuONLjDj4.jpg  \n",
            " extracting: train/d24ca593fdb348fc_jpg.rf.3d2d0b417e859b078d0a34b23267e7b7.jpg  \n",
            " extracting: train/d24ca593fdb348fc_jpg.rf.WBJZJRTH5grK2LVifWBP.jpg  \n",
            " extracting: train/d31c720e294fee1a_jpg.rf.7dae13b793e31e8c1ab96b8b1915f32f.jpg  \n",
            " extracting: train/d31c720e294fee1a_jpg.rf.Q3mauvLSwT6fHWZUzyDh.jpg  \n",
            " extracting: train/d33229162d822801_jpg.rf.0a2e6308571b40ba2a04cc7899f0b415.jpg  \n",
            " extracting: train/d33229162d822801_jpg.rf.n454OEWbYaVSAFPBHOnl.jpg  \n",
            " extracting: train/d33bb0d6aa206686_jpg.rf.1pHnHb7Ru1DJZgiUd64j.jpg  \n",
            " extracting: train/d33bb0d6aa206686_jpg.rf.8fc6cb78a4fa5003228d5df6ae8229fd.jpg  \n",
            " extracting: train/d3825b2a6074c541_jpg.rf.Nz0gLZeCAmrhNGDOlNyD.jpg  \n",
            " extracting: train/d3825b2a6074c541_jpg.rf.c1bd59678beb04c3ed222062798eaac0.jpg  \n",
            " extracting: train/d3ecf31b6ea93e9c_jpg.rf.83f96a136b7c9beed8b4d459c206e738.jpg  \n",
            " extracting: train/d3ecf31b6ea93e9c_jpg.rf.juYq31VTqKA1710v9L6H.jpg  \n",
            " extracting: train/d42a0bbfe8880627_jpg.rf.FhGVtsUOOndZrT2yLlEB.jpg  \n",
            " extracting: train/d42a0bbfe8880627_jpg.rf.a87415d60fcc1acb827b64b3ccce8a79.jpg  \n",
            " extracting: train/d56b0614c384299d_jpg.rf.28bf2c29c82b84a5ea0acfa3cbd505c6.jpg  \n",
            " extracting: train/d56b0614c384299d_jpg.rf.P7cc3Z47Up3NkPpWqmst.jpg  \n",
            " extracting: train/d5982e8c9f63acc8_jpg.rf.a8b90ac22bcc5c43827d519b8e76ffe0.jpg  \n",
            " extracting: train/d5982e8c9f63acc8_jpg.rf.hMEeo6mcB2PbKE87hBkS.jpg  \n",
            " extracting: train/d5a95b86f4ce76c1_jpg.rf.0fccda34c2ac653732e273966e2ea941.jpg  \n",
            " extracting: train/d5a95b86f4ce76c1_jpg.rf.Nd1bUc0qpMgf5Fcm4U1t.jpg  \n",
            " extracting: train/d5eee03017071328_jpg.rf.49C1MwmsirEBWNkycgWk.jpg  \n",
            " extracting: train/d5eee03017071328_jpg.rf.519ddac135ec9b028391b060be3950df.jpg  \n",
            " extracting: train/d67db4e0e81979e4_jpg.rf.03f00e51721b736dda260928b454e0c5.jpg  \n",
            " extracting: train/d67db4e0e81979e4_jpg.rf.h7tbuN3opFWPHeuvkR68.jpg  \n",
            " extracting: train/d6aff68bbb64a2d7_jpg.rf.5ce94fef91c18510e817a0081bfd8f19.jpg  \n",
            " extracting: train/d6aff68bbb64a2d7_jpg.rf.XhQX5ryhPlgj7w9Jdafw.jpg  \n",
            " extracting: train/d6cb030b80f36d93_jpg.rf.fd7b48b09d83b024283546b619d93b26.jpg  \n",
            " extracting: train/d6cb030b80f36d93_jpg.rf.ksFkgGxBIxHpkzZvO5Uz.jpg  \n",
            " extracting: train/d77b53c86cdbdadf_jpg.rf.OszD9zTOKsG6LblqcDbU.jpg  \n",
            " extracting: train/d77b53c86cdbdadf_jpg.rf.fe6325eb21e29e7f6effcf144c95d1f5.jpg  \n",
            " extracting: train/d79e499c711c6b69_jpg.rf.9404bb29ffe0b2c81b347e483cc77e57.jpg  \n",
            " extracting: train/d79e499c711c6b69_jpg.rf.NtT1oE6X7pFpq6FhMXdl.jpg  \n",
            " extracting: train/d7b4f384da274b4a_jpg.rf.2b565a44ebf3e99d0cfa3994402719ff.jpg  \n",
            " extracting: train/d7b4f384da274b4a_jpg.rf.KMUWqm75iuIIYfOU5kVs.jpg  \n",
            " extracting: train/d7fba63298a3e34e_jpg.rf.91b692d3646195dd6a70703664dc2fbd.jpg  \n",
            " extracting: train/d7fba63298a3e34e_jpg.rf.TO64I6RrM94nz9RbkeHW.jpg  \n",
            " extracting: train/d82e0b91d310037c_jpg.rf.4hCLvTacdtTekK9gtGgb.jpg  \n",
            " extracting: train/d82e0b91d310037c_jpg.rf.e42ca9647c1ee95e82c938da3bb6bf76.jpg  \n",
            " extracting: train/d8457fa9476ca19f_jpg.rf.3ed8724e9eb05417ffc9a0e60eaf2832.jpg  \n",
            " extracting: train/d8457fa9476ca19f_jpg.rf.9nKas2awdQPFsMdlrXzD.jpg  \n",
            " extracting: train/d8b725a5e406bf77_jpg.rf.4a1b8136fd8ff4f981e50ed6ecc18645.jpg  \n",
            " extracting: train/d8b725a5e406bf77_jpg.rf.EKunjNrlRMzJi9uRdXQp.jpg  \n",
            " extracting: train/d900408a3652fdce_jpg.rf.6RJZ5TWr3OBb00Zhy6Oj.jpg  \n",
            " extracting: train/d900408a3652fdce_jpg.rf.d4f5f658763d89b7658ee58fa2620125.jpg  \n",
            " extracting: train/d9bb7fca2b0f4d5e_jpg.rf.f97c26712ff8a7753d4728c819c20ccf.jpg  \n",
            " extracting: train/d9bb7fca2b0f4d5e_jpg.rf.ifCTBprlZyFMqH99HR95.jpg  \n",
            " extracting: train/da20e0a516903791_jpg.rf.1e6efecfca4edfb0b3856c79d46d0ba6.jpg  \n",
            " extracting: train/da20e0a516903791_jpg.rf.3T2ng3umaGIRBlz7GhhB.jpg  \n",
            " extracting: train/da386cf96761ef58_jpg.rf.3fe7704d2d3bb730cf1d6f20a00bb394.jpg  \n",
            " extracting: train/da386cf96761ef58_jpg.rf.R27NNWvN3ZYHN4n3DiH4.jpg  \n",
            " extracting: train/da3a592ffd3c4e23_jpg.rf.88dc9a3b619599c574f19106d2683bc7.jpg  \n",
            " extracting: train/da3a592ffd3c4e23_jpg.rf.JUd9DsLRl5vBqcXlxNiH.jpg  \n",
            " extracting: train/db8edd501003ee7d_jpg.rf.b3192b166ccaa98b8ebf91bc9a7d7f41.jpg  \n",
            " extracting: train/db8edd501003ee7d_jpg.rf.nQDmxqSL0xIOgOjfuZz0.jpg  \n",
            " extracting: train/dc0dbdc656725dc2_jpg.rf.5870800c7872692c1950304883c0a1f1.jpg  \n",
            " extracting: train/dc0dbdc656725dc2_jpg.rf.YjuyJ7f1Nm3h5yQeDkA9.jpg  \n",
            " extracting: train/dc8954c5b6cf6c1d_jpg.rf.3M3BIeHC05wJ6yLtbY27.jpg  \n",
            " extracting: train/dc8954c5b6cf6c1d_jpg.rf.793b41a92766cc3348e1536947089528.jpg  \n",
            " extracting: train/dc8bd5855688ad54_jpg.rf.01614de7d7ff5420962415f25eaa4028.jpg  \n",
            " extracting: train/dc8bd5855688ad54_jpg.rf.3zaQDpaiY623Jd0yrC25.jpg  \n",
            " extracting: train/dc904e3df7290455_jpg.rf.26009aa427781cc11d166df8aab44e43.jpg  \n",
            " extracting: train/dc904e3df7290455_jpg.rf.MQYiSgKz6ZVyX4JtlVTQ.jpg  \n",
            " extracting: train/ddd9751b7335badf_jpg.rf.8GlNeJfvdWFrZEOrfilK.jpg  \n",
            " extracting: train/ddd9751b7335badf_jpg.rf.e92ccdf97890de8dbfc7a71ca74f1036.jpg  \n",
            " extracting: train/df7ae805d8d405f6_jpg.rf.1f417ff6ff03aab38704f4599e7c38f1.jpg  \n",
            " extracting: train/df7ae805d8d405f6_jpg.rf.yfbLILBZcs9joMRYEntb.jpg  \n",
            " extracting: train/e0911bf7f6fa1c50_jpg.rf.YYIhMdsas9UzI44NSK2B.jpg  \n",
            " extracting: train/e0911bf7f6fa1c50_jpg.rf.bd80218310032b8781fd4753c1073ce8.jpg  \n",
            " extracting: train/e3b441115c18fca3_jpg.rf.707be734398dd7cc2a8e40bd6adce592.jpg  \n",
            " extracting: train/e3b441115c18fca3_jpg.rf.SttvhFDxYuGUgQtsJwGQ.jpg  \n",
            " extracting: train/e4c25e53e7f2ee81_jpg.rf.69371e76a5617d0165204694cb8e7985.jpg  \n",
            " extracting: train/e4c25e53e7f2ee81_jpg.rf.FhvTf0I6Wx9hBw89BGYc.jpg  \n",
            " extracting: train/e541b1c93246e2d2_jpg.rf.0cIzIvtBeu1rYqvlJKAe.jpg  \n",
            " extracting: train/e541b1c93246e2d2_jpg.rf.fdef750b9ae942502c744cac026b103b.jpg  \n",
            " extracting: train/e5659578c021aacf_jpg.rf.85367acb7202cfcb70c3fb18c92083fe.jpg  \n",
            " extracting: train/e5659578c021aacf_jpg.rf.RV9EeqdbzByto80mhYFk.jpg  \n",
            " extracting: train/e5c0f9ec07e64e58_jpg.rf.38d96f6c621596f2e8ad273a03ec80bb.jpg  \n",
            " extracting: train/e5c0f9ec07e64e58_jpg.rf.MRC9ZMWn9XXi9HR2KG0y.jpg  \n",
            " extracting: train/e6d5f562f82c5344_jpg.rf.5b4e3f43a8fea6d915c35b06130ae7a6.jpg  \n",
            " extracting: train/e6d5f562f82c5344_jpg.rf.hCWXwuyyEOnbLmqrmoiJ.jpg  \n",
            " extracting: train/e7e8dc4cf52ecc62_jpg.rf.VCNFFHYbgsYI62YaXji3.jpg  \n",
            " extracting: train/e7e8dc4cf52ecc62_jpg.rf.cb6599104a4e9db3fce1358e14ad9efc.jpg  \n",
            " extracting: train/e887c2fbb6a47737_jpg.rf.ItCZNvqg4wMcCvzp0lhm.jpg  \n",
            " extracting: train/e887c2fbb6a47737_jpg.rf.afba00e4c1732a507d0701c3f8339dcc.jpg  \n",
            " extracting: train/e9318ed3c92c142b_jpg.rf.RkCY1MgO5effU8RbdbcJ.jpg  \n",
            " extracting: train/e9318ed3c92c142b_jpg.rf.cae558b683dec62dba091fa432048c0f.jpg  \n",
            " extracting: train/e9817cc6def5f246_jpg.rf.7d6fdaa511ca71002b25d981650ac031.jpg  \n",
            " extracting: train/e9817cc6def5f246_jpg.rf.UiJeWuKxtgrgQVMOH1Bm.jpg  \n",
            " extracting: train/ea4db6d3182a65f7_jpg.rf.bb2a91b249ad8e1a1662a17373561168.jpg  \n",
            " extracting: train/ea4db6d3182a65f7_jpg.rf.gsZOBb4dARTLCrAmYHJG.jpg  \n",
            " extracting: train/ea87ffff22c14e7a_jpg.rf.AZmqhGgS1iUmFlCbaO8e.jpg  \n",
            " extracting: train/ea87ffff22c14e7a_jpg.rf.a3617e737c1eab6b5b7473e03c0e98cf.jpg  \n",
            " extracting: train/eaa621be0a24470e_jpg.rf.1d1a672cdb7bbc87eaa14354aa0b6ef2.jpg  \n",
            " extracting: train/eaa621be0a24470e_jpg.rf.VdyCvji0uKVA5YuzpM2e.jpg  \n",
            " extracting: train/ebac2405f7f51c19_jpg.rf.acddb452a067be17761f1e988019196d.jpg  \n",
            " extracting: train/ebac2405f7f51c19_jpg.rf.dLNMCiDSNo1ynorn4EM3.jpg  \n",
            " extracting: train/ebdb1c5cf58b8a86_jpg.rf.EfI0z3s3CbeZhsXHZGPU.jpg  \n",
            " extracting: train/ebdb1c5cf58b8a86_jpg.rf.fabdd2d8f43118743895eef45f4c4bc9.jpg  \n",
            " extracting: train/ed24483d1c6d977f_jpg.rf.P7ViJg97JbjAi0F4n1R3.jpg  \n",
            " extracting: train/ed24483d1c6d977f_jpg.rf.ef9b0255c61c5d6a6e51f45341f642e3.jpg  \n",
            " extracting: train/edf2794344b68506_jpg.rf.2CaiR7jcPsW6yV1ekEcT.jpg  \n",
            " extracting: train/edf2794344b68506_jpg.rf.421da5c22eec803b8971abc5918e9b58.jpg  \n",
            " extracting: train/ee2cd94b9d7fdba0_jpg.rf.4cf155111e0899701e4938162a4d51f4.jpg  \n",
            " extracting: train/ee2cd94b9d7fdba0_jpg.rf.lzKF7lMc5Ew1qKAsxJ6R.jpg  \n",
            " extracting: train/ee31b3fa576d6ee9_jpg.rf.3bad93d246d9f908e5dce1d440bc9b2a.jpg  \n",
            " extracting: train/ee31b3fa576d6ee9_jpg.rf.4TMmlE0UIg4Y7cGeXa7W.jpg  \n",
            " extracting: train/eeaaa970c01c0f77_jpg.rf.ac8f32cc012ee3f8ceaa1581b4652c8f.jpg  \n",
            " extracting: train/eeaaa970c01c0f77_jpg.rf.vlQz39le8IF31RdAXS1k.jpg  \n",
            " extracting: train/eee9fc95c2437751_jpg.rf.0BcZErMcaM1kVgb1AONC.jpg  \n",
            " extracting: train/eee9fc95c2437751_jpg.rf.1ddf62c320693d33173ca88eaba655db.jpg  \n",
            " extracting: train/ef09acf9d1b77550_jpg.rf.e71f7d6aa0878851fcf5f8b3b659caa8.jpg  \n",
            " extracting: train/ef09acf9d1b77550_jpg.rf.iH86teUHdmU8wSUfsN1q.jpg  \n",
            " extracting: train/ef56d52ee436d7ab_jpg.rf.6tphaMGgH8l5apzsbECE.jpg  \n",
            " extracting: train/ef56d52ee436d7ab_jpg.rf.e1e9dc274fd5a0ee01837f0f7df59fcd.jpg  \n",
            " extracting: train/f0aa9d4ad9fc9e87_jpg.rf.25087bd3072cf2c862c9279dfaab8d67.jpg  \n",
            " extracting: train/f0aa9d4ad9fc9e87_jpg.rf.FtZmGlWRh9kvAD86g8oF.jpg  \n",
            " extracting: train/f0e4f481d71014ab_jpg.rf.641bd2dac5cc2164373ebaf7fe97b751.jpg  \n",
            " extracting: train/f0e4f481d71014ab_jpg.rf.V5oEMJH1zEBVt0dUrZ9y.jpg  \n",
            " extracting: train/f0f681ded8dcb793_jpg.rf.8725204fa6ad585345157cd7c44d9772.jpg  \n",
            " extracting: train/f0f681ded8dcb793_jpg.rf.mTuGGG1ZSh5lQqBJVyGS.jpg  \n",
            " extracting: train/f1200c263667e455_jpg.rf.4aa74a3b3fe23ff79416758e7b48ea9a.jpg  \n",
            " extracting: train/f1200c263667e455_jpg.rf.fnY9QjRYJ0Ed7j4H24ZC.jpg  \n",
            " extracting: train/f1e36e4d71ff6b57_jpg.rf.7wjN677B3UxuK48DarT4.jpg  \n",
            " extracting: train/f1e36e4d71ff6b57_jpg.rf.c03ebd87172fdaf91b176cfb9125481a.jpg  \n",
            " extracting: train/f2463ddabfffc04f_jpg.rf.7838deecd75897ebebdf0b230164e4c9.jpg  \n",
            " extracting: train/f2463ddabfffc04f_jpg.rf.hRurW2FQ2vnYZ6nZrdsx.jpg  \n",
            " extracting: train/f34351bcba59ff09_jpg.rf.9c3e225b184b3f2c36357ae8321b2054.jpg  \n",
            " extracting: train/f34351bcba59ff09_jpg.rf.O5keryA6uMEG3EG5pdsd.jpg  \n",
            " extracting: train/f346d416e5980473_jpg.rf.ENirC5UUIHi1mlYdIep9.jpg  \n",
            " extracting: train/f346d416e5980473_jpg.rf.f6e010ba91611adf938896487bd9c360.jpg  \n",
            " extracting: train/f46ff82400cf2c40_jpg.rf.bba96b761d22387c039487f9924d5130.jpg  \n",
            " extracting: train/f46ff82400cf2c40_jpg.rf.j2E6d7FUZl7RpqwdgZFI.jpg  \n",
            " extracting: train/f5983edffb0122f6_jpg.rf.aHRnTMSMOxumBjFrFozL.jpg  \n",
            " extracting: train/f5983edffb0122f6_jpg.rf.c0b665de748421149c37026aaa84f0fe.jpg  \n",
            " extracting: train/f5eafb239bfa8a30_jpg.rf.19e66d3364097f628749b5de902a385e.jpg  \n",
            " extracting: train/f5eafb239bfa8a30_jpg.rf.2qA4IDvH3gXmyAA4s6WN.jpg  \n",
            " extracting: train/f71f6c1a323b6fa5_jpg.rf.0bf9cccc8dbbc40ef85915eb4a2470ca.jpg  \n",
            " extracting: train/f71f6c1a323b6fa5_jpg.rf.2Vsn4Ov1CQDuccBqnRc3.jpg  \n",
            " extracting: train/f784a8f5b2e0edbc_jpg.rf.8e193a80af145c8d02cd3f6d2f9c8930.jpg  \n",
            " extracting: train/f784a8f5b2e0edbc_jpg.rf.it5ieoNG5AOn4bgTUQSS.jpg  \n",
            " extracting: train/f843e953b9f2d8e1_jpg.rf.0AaONaZLHjWf2c7AwmKd.jpg  \n",
            " extracting: train/f843e953b9f2d8e1_jpg.rf.d29766f9f5e085e1b71c5b6e1d190d97.jpg  \n",
            " extracting: train/f868db46dea5554e_jpg.rf.6e1536a7c7dd76d409334d9c9ef94a61.jpg  \n",
            " extracting: train/f868db46dea5554e_jpg.rf.sHXBodKTikoKZUHtc3V0.jpg  \n",
            " extracting: train/f8c637fc8220a918_jpg.rf.7InkNTlGkJXqHqcTw9ev.jpg  \n",
            " extracting: train/f8c637fc8220a918_jpg.rf.d397424e646d92d8552022a8c65b149c.jpg  \n",
            " extracting: train/f971dfb20ee52e9b_jpg.rf.24f2b59b01e256b4bb2671fe87bb12a0.jpg  \n",
            " extracting: train/f971dfb20ee52e9b_jpg.rf.L99XGB3M7oD1sMk8Y73W.jpg  \n",
            " extracting: train/fa4373131d980682_jpg.rf.fb4066e24ca14b29bcee16051cec2834.jpg  \n",
            " extracting: train/fa4373131d980682_jpg.rf.pB00042vjOPJWhwBgUvq.jpg  \n",
            " extracting: train/fae37ea779ec1c65_jpg.rf.1b1c8dbdf46575e7c91a49ebdfb2092c.jpg  \n",
            " extracting: train/fae37ea779ec1c65_jpg.rf.RS9Y4EUtmES9dzsykqWz.jpg  \n",
            " extracting: train/fb078205fc459cf0_jpg.rf.EkPR1yGtygNF5UPuC7PK.jpg  \n",
            " extracting: train/fb078205fc459cf0_jpg.rf.c4baea948321ec89470b894d2b017d9d.jpg  \n",
            " extracting: train/fb23426a994489c5_jpg.rf.a4eb2c75f0f22e4eb2062bf4c64e343e.jpg  \n",
            " extracting: train/fb23426a994489c5_jpg.rf.kzoHDpiW2HQ8CjscK6c0.jpg  \n",
            " extracting: train/fc89e4a4c0ba33f1_jpg.rf.0rSRqfyQZKYjCfuA5Eix.jpg  \n",
            " extracting: train/fc89e4a4c0ba33f1_jpg.rf.644624f7bbd3273ec41272cfa78b70a7.jpg  \n",
            " extracting: train/fd063bf2b2c9def1_jpg.rf.90Tzl7HlM1QGe2tjgoLD.jpg  \n",
            " extracting: train/fd063bf2b2c9def1_jpg.rf.985934634819454d657ab33d75edc5eb.jpg  \n",
            " extracting: train/fd30ab5d0338b876_jpg.rf.5d116d87389b8bec0030033c36f92a18.jpg  \n",
            " extracting: train/fd30ab5d0338b876_jpg.rf.VRm3YzkXCYnr6egbKnaZ.jpg  \n",
            " extracting: train/fedcf2c1a78c1446_jpg.rf.97d463394d7e15988400d1ac9d9ceacb.jpg  \n",
            " extracting: train/fedcf2c1a78c1446_jpg.rf.jKHFjts8DglEwHYNbghh.jpg  \n",
            " extracting: train/ff5b0ccc9d80b4ca_jpg.rf.2o3y0lxHb6wT4izSgIbb.jpg  \n",
            " extracting: train/ff5b0ccc9d80b4ca_jpg.rf.cac4097d732333daa8bd2da006418d09.jpg  \n",
            "   creating: valid/\n",
            " extracting: valid/0013d97a44c586c0_jpg.rf.QohOjYeZzQhUb4dxfAUr.jpg  \n",
            " extracting: valid/0013d97a44c586c0_jpg.rf.c129e0f75e464334397783e12eeddd69.jpg  \n",
            " extracting: valid/0053860714da4340_jpg.rf.08dfd541dc4fba8e821160c5989f18d7.jpg  \n",
            " extracting: valid/0053860714da4340_jpg.rf.W5imfEtsa9yRvs4xbBiq.jpg  \n",
            " extracting: valid/0060021ac952f49f_jpg.rf.855a8f5f8feac97880cfc2ccc3ebef78.jpg  \n",
            " extracting: valid/0060021ac952f49f_jpg.rf.QJlPSifmfYYjMP2wqmwx.jpg  \n",
            " extracting: valid/041172adfae5695a_jpg.rf.1fbb787bac32648e8bf6dad3d0fe4157.jpg  \n",
            " extracting: valid/041172adfae5695a_jpg.rf.QOUwpAdhK2BU2e1VvIRc.jpg  \n",
            " extracting: valid/05168c8b40707be2_jpg.rf.8d16bc946394e5e3004ab10f7d157334.jpg  \n",
            " extracting: valid/05168c8b40707be2_jpg.rf.C9nVdX7zdvjjs5bb6BTi.jpg  \n",
            " extracting: valid/07a108f07e99070b_jpg.rf.319BfYKHczTQNiU3Rv20.jpg  \n",
            " extracting: valid/07a108f07e99070b_jpg.rf.d095baecacbd548c3bc7dfe08df77368.jpg  \n",
            " extracting: valid/07d61c5699b6f4da_jpg.rf.c91a31a6ac5fcc72f98ba6b6e7585168.jpg  \n",
            " extracting: valid/07d61c5699b6f4da_jpg.rf.glUHyaT2jkNoWjh4hnfU.jpg  \n",
            " extracting: valid/080a59534ba7d557_jpg.rf.7d43b48f7b72a761a19b21e6c3367403.jpg  \n",
            " extracting: valid/080a59534ba7d557_jpg.rf.Ir2vdIUGO39gG21EuUcQ.jpg  \n",
            " extracting: valid/085f98b55ebd3fd7_jpg.rf.SShIhlhBUnlsNqYsmqm4.jpg  \n",
            " extracting: valid/085f98b55ebd3fd7_jpg.rf.fadca3bd8d380e2995abe55e8823f35d.jpg  \n",
            " extracting: valid/0a836954ceeac15f_jpg.rf.7f4bcc9a1e1d2db7dabcd6676a2ac8af.jpg  \n",
            " extracting: valid/0a836954ceeac15f_jpg.rf.RZ21tOD71ejVAsXWFSr1.jpg  \n",
            " extracting: valid/0b5890eed288c58e_jpg.rf.f328eddd47ca0245af243fe116dd26f8.jpg  \n",
            " extracting: valid/0b5890eed288c58e_jpg.rf.h0r4biPTv00KA6fVUWwt.jpg  \n",
            " extracting: valid/0c50d905a9db3118_jpg.rf.42b17615f7055ea54f5c6eb706c91f9c.jpg  \n",
            " extracting: valid/0c50d905a9db3118_jpg.rf.G8X5TeUEj7ElWy0jRCa4.jpg  \n",
            " extracting: valid/11b0e2dddc393e74_jpg.rf.58418e3bb1d6a4f0232dbce9bc7dde39.jpg  \n",
            " extracting: valid/11b0e2dddc393e74_jpg.rf.vphKZwfJIqRHJqmIxPN7.jpg  \n",
            " extracting: valid/1205359f3e1c2930_jpg.rf.2mDdu0aB72VTGYEI4k8n.jpg  \n",
            " extracting: valid/1205359f3e1c2930_jpg.rf.46ed0c1e69711adc78844b57eb1cfa20.jpg  \n",
            " extracting: valid/13b1404f87507b51_jpg.rf.4bf682cfa4c84cff502d30594ce7f6fa.jpg  \n",
            " extracting: valid/13b1404f87507b51_jpg.rf.Bb3wjg8dxJODh9w7ha5p.jpg  \n",
            " extracting: valid/1d3c0507e127f1ea_jpg.rf.2c6a1e3b13c7582a2072e3204c8f010d.jpg  \n",
            " extracting: valid/1d3c0507e127f1ea_jpg.rf.mxR70OXDtPlULcqPgWrn.jpg  \n",
            " extracting: valid/1f133e6ee29e99d0_jpg.rf.LSDdfZGLMPOupotMQr2C.jpg  \n",
            " extracting: valid/1f133e6ee29e99d0_jpg.rf.c3edd22ab67ab12d42c66fc9e14c0a1f.jpg  \n",
            " extracting: valid/2313abe44eba9354_jpg.rf.E1IxK1HeNQ0Qa3V64I3G.jpg  \n",
            " extracting: valid/2313abe44eba9354_jpg.rf.b2fd6c76c152c599f4246b8bdb13c0db.jpg  \n",
            " extracting: valid/239ec3953a0b0bb0_jpg.rf.9ff6984650573da7583ac1859df3851e.jpg  \n",
            " extracting: valid/239ec3953a0b0bb0_jpg.rf.PRvU95hAnF7itR0UHpfo.jpg  \n",
            " extracting: valid/25ceb16e759fbc8e_jpg.rf.868d326b2b6f4aa6a69ecde979206809.jpg  \n",
            " extracting: valid/25ceb16e759fbc8e_jpg.rf.jFlTdqXZzeJaUTW7b1a0.jpg  \n",
            " extracting: valid/26335526c56f84e6_jpg.rf.7799e509cdd73337e1bef5393a31a81c.jpg  \n",
            " extracting: valid/26335526c56f84e6_jpg.rf.v6NM4GzK2sqD8HBhVUjQ.jpg  \n",
            " extracting: valid/28e0b4c029d15510_jpg.rf.a46965768162850af366ec3c676879f1.jpg  \n",
            " extracting: valid/28e0b4c029d15510_jpg.rf.lsUEYlmTp2ESAYfSjEqS.jpg  \n",
            " extracting: valid/290a66481b3c3159_jpg.rf.6cb8bfaf206edda684ba5cfac71f27f7.jpg  \n",
            " extracting: valid/290a66481b3c3159_jpg.rf.7IeXIQCtwQgAMDLgI8fu.jpg  \n",
            " extracting: valid/29d4a1543ff5d6c0_jpg.rf.1b28ae90184fe059773fbe9ded25c135.jpg  \n",
            " extracting: valid/29d4a1543ff5d6c0_jpg.rf.ZzQxOtenPXDe0zqw2TXX.jpg  \n",
            " extracting: valid/2b06ed2955aa861d_jpg.rf.79b1cc8ca28f1097bfd95e086021e7e0.jpg  \n",
            " extracting: valid/2b06ed2955aa861d_jpg.rf.MfBcPAS4Elz1QyZUsQmx.jpg  \n",
            " extracting: valid/2ddd5c87ecbc6060_jpg.rf.34b347e8629726c7485bbec07d2e4a55.jpg  \n",
            " extracting: valid/2ddd5c87ecbc6060_jpg.rf.O8xSaH7Rf5YLRKe5LaIn.jpg  \n",
            " extracting: valid/30de441d49bbeedd_jpg.rf.935b9b0506fda047ef745d1e15803eb5.jpg  \n",
            " extracting: valid/30de441d49bbeedd_jpg.rf.xFHvT6eC2CujBe0FucIe.jpg  \n",
            " extracting: valid/319ec661878d4d74_jpg.rf.ZUsCWVRV5Ubayeo59I0K.jpg  \n",
            " extracting: valid/319ec661878d4d74_jpg.rf.d0765c50221735feae4e1e607695e97b.jpg  \n",
            " extracting: valid/31b1c599fd0f2280_jpg.rf.520f8f5e622e094061858d4a203d0298.jpg  \n",
            " extracting: valid/31b1c599fd0f2280_jpg.rf.9FbyuGPg6vbindnsI6Wz.jpg  \n",
            " extracting: valid/34126ed07ddad6e7_jpg.rf.908e420bc09cfd259923126d4fcd5b77.jpg  \n",
            " extracting: valid/34126ed07ddad6e7_jpg.rf.qwj8CRYpkhfxLHQjHdAi.jpg  \n",
            " extracting: valid/34f6a140cae07ad1_jpg.rf.8e1eecf556d36e027892a2a42634c178.jpg  \n",
            " extracting: valid/34f6a140cae07ad1_jpg.rf.PTlOe1oBTOfqadeQiqrx.jpg  \n",
            " extracting: valid/37f9a68f16667494_jpg.rf.N59rgqGa5uw1tBGeIG6j.jpg  \n",
            " extracting: valid/37f9a68f16667494_jpg.rf.d62bc285ad93f27c813fa6cda6065946.jpg  \n",
            " extracting: valid/3870187e63a7eae5_jpg.rf.803920373ccf5c59a43840e3a6c3625f.jpg  \n",
            " extracting: valid/3870187e63a7eae5_jpg.rf.bXLOHO1Zlttc0SKxenlO.jpg  \n",
            " extracting: valid/38a29a2b08ad3603_jpg.rf.4e1adea755db4ebb84196a9fa73b548b.jpg  \n",
            " extracting: valid/38a29a2b08ad3603_jpg.rf.VEzr25xgqJfUEzpMgeDK.jpg  \n",
            " extracting: valid/3a2a06b1d3705da9_jpg.rf.2d7bec38f174007fdee862e87a0681be.jpg  \n",
            " extracting: valid/3a2a06b1d3705da9_jpg.rf.U4YM4CfD2L5NA0Lsp9KL.jpg  \n",
            " extracting: valid/3dd95762b8a9c4a9_jpg.rf.3647a732c5384fea27fdd145634b9ed6.jpg  \n",
            " extracting: valid/3dd95762b8a9c4a9_jpg.rf.rQsPxREcDYksA86KzcdI.jpg  \n",
            " extracting: valid/4046b4261847fad4_jpg.rf.Pu8ZmWKhSQ9UmJVGH0o4.jpg  \n",
            " extracting: valid/4046b4261847fad4_jpg.rf.cef732c99321a643c7e44e2a6999da84.jpg  \n",
            " extracting: valid/4111db16bc966910_jpg.rf.75d641f152ae13c30c4ac7ab1531f76c.jpg  \n",
            " extracting: valid/4111db16bc966910_jpg.rf.ZNB0AxKYXSEjpxYvt68z.jpg  \n",
            " extracting: valid/41cb68a802f49e98_jpg.rf.7bc31337321906ea304a074b7ce5c62a.jpg  \n",
            " extracting: valid/41cb68a802f49e98_jpg.rf.NM5om6Wlgqe7clhbnY9F.jpg  \n",
            " extracting: valid/426adbabdb49616a_jpg.rf.3fadefb5bca99f69797106c1c86bb868.jpg  \n",
            " extracting: valid/426adbabdb49616a_jpg.rf.EzU5jjG8nbEmRoDPlwQ6.jpg  \n",
            " extracting: valid/44617a73df40c9a4_jpg.rf.SzSDdtgCTUmLo9ltBi2p.jpg  \n",
            " extracting: valid/44617a73df40c9a4_jpg.rf.d5eb31184936cba2d5e2156654936b7f.jpg  \n",
            " extracting: valid/45dc77695b432d4a_jpg.rf.7b401d2e3c830417a2236554a591ee71.jpg  \n",
            " extracting: valid/45dc77695b432d4a_jpg.rf.jM8iOxruIzzDX9VCZejE.jpg  \n",
            " extracting: valid/463a6c0582a8ef59_jpg.rf.36848963922cfa6dc4513bee9046bef2.jpg  \n",
            " extracting: valid/463a6c0582a8ef59_jpg.rf.kkcQwje8JKyidyW02lns.jpg  \n",
            " extracting: valid/4818e6162e7f47e0_jpg.rf.4502b1814e0a6d9540380aaf66d6dfaa.jpg  \n",
            " extracting: valid/4818e6162e7f47e0_jpg.rf.g0HhMdE3HYKZRSMY03hc.jpg  \n",
            " extracting: valid/488b42427e210e88_jpg.rf.8ff0f11d6a27238e5d1e13e630b45380.jpg  \n",
            " extracting: valid/488b42427e210e88_jpg.rf.XTOAH2QvnUw7EEdeUFPn.jpg  \n",
            " extracting: valid/4a11e1503e4317a1_jpg.rf.96844f77383a8af09e82a815f222df0e.jpg  \n",
            " extracting: valid/4a11e1503e4317a1_jpg.rf.xr2mlTpcmvzGODyFyQTf.jpg  \n",
            " extracting: valid/4a132f56869e2ade_jpg.rf.83KWRSVfUPoQaoOtVBGh.jpg  \n",
            " extracting: valid/4a132f56869e2ade_jpg.rf.9166b1c64ea1b328999796c4e204423a.jpg  \n",
            " extracting: valid/4b10429375323247_jpg.rf.2106bb238ada77e354ff4861a532f33d.jpg  \n",
            " extracting: valid/4b10429375323247_jpg.rf.P1mk9bEQhUPrPwIkNOH9.jpg  \n",
            " extracting: valid/4c40c429a5a070e8_jpg.rf.L1Ey33Unmsn2ItPAAJFF.jpg  \n",
            " extracting: valid/4c40c429a5a070e8_jpg.rf.e6b36721b90b2f3b56a43312e59a2eed.jpg  \n",
            " extracting: valid/4d62b3eed8f04f21_jpg.rf.88e97e734086e207cd4845411f5989f4.jpg  \n",
            " extracting: valid/4d62b3eed8f04f21_jpg.rf.mxgarvGPXewa2HLcHp0j.jpg  \n",
            " extracting: valid/5018711812d0dedc_jpg.rf.29bc461dffd7abe85c63611035c2e28b.jpg  \n",
            " extracting: valid/5018711812d0dedc_jpg.rf.owMHluW00BnhPgpah4Sn.jpg  \n",
            " extracting: valid/532953d0fc03d7ac_jpg.rf.3af2ad289a57766b6a093a53134766db.jpg  \n",
            " extracting: valid/532953d0fc03d7ac_jpg.rf.zwev1qoVdbZlhhNFG7Do.jpg  \n",
            " extracting: valid/533ecb00afb6eb50_jpg.rf.81f085ad321cbfd9840ddc419d440290.jpg  \n",
            " extracting: valid/533ecb00afb6eb50_jpg.rf.T8D8i50o89uRjnT0AfP3.jpg  \n",
            " extracting: valid/54b23021927a25d6_jpg.rf.200c77cb99effa0da7ea57d691abbba2.jpg  \n",
            " extracting: valid/54b23021927a25d6_jpg.rf.Qpq1EZQqPe7MhaMug5kx.jpg  \n",
            " extracting: valid/5590428f2b873b65_jpg.rf.0UJgOnC3ZT4TJSbAYT95.jpg  \n",
            " extracting: valid/5590428f2b873b65_jpg.rf.6e674b75bf63e8a4a31671a36b99313d.jpg  \n",
            " extracting: valid/565e7dc789a437be_jpg.rf.EbVD4t4mQFUeebiNfgHi.jpg  \n",
            " extracting: valid/565e7dc789a437be_jpg.rf.eb810c22ca20085f21e256e714589145.jpg  \n",
            " extracting: valid/56eaa673deaa0765_jpg.rf.e8c397bd19bc7451dde8fc4d805d1e35.jpg  \n",
            " extracting: valid/56eaa673deaa0765_jpg.rf.jM9uO1SAKdxUfELrvpBc.jpg  \n",
            " extracting: valid/57543cd50708f4d3_jpg.rf.AlviuxhjG9TmlMeqf5Ap.jpg  \n",
            " extracting: valid/57543cd50708f4d3_jpg.rf.db6fa769ea1e5c5cd99d3e3ccc7202da.jpg  \n",
            " extracting: valid/57876987d6d7944a_jpg.rf.ab69f9bf8dd18b4e04444e9bccb073a1.jpg  \n",
            " extracting: valid/57876987d6d7944a_jpg.rf.yih5PS8JKYUcMxxc3zg6.jpg  \n",
            " extracting: valid/578e78c69be76ff9_jpg.rf.0uiI8LMpU2K3renBLmi9.jpg  \n",
            " extracting: valid/578e78c69be76ff9_jpg.rf.fc83fefce3f7e8fa41ba6114f6267089.jpg  \n",
            " extracting: valid/5dc06abba45063b5_jpg.rf.507ac207d5cbc9895e8a722a9210a722.jpg  \n",
            " extracting: valid/5dc06abba45063b5_jpg.rf.PeOJiuM6aiPTgJ5VrkN3.jpg  \n",
            " extracting: valid/61940061f7f0f8a8_jpg.rf.18dcdaaffe05310df526c1d9ac9405ac.jpg  \n",
            " extracting: valid/61940061f7f0f8a8_jpg.rf.HiFDcCbCKvZznvIJmTEu.jpg  \n",
            " extracting: valid/62cde588a7e31a28_jpg.rf.ZrUp8k1yYn4kSO9Q7TqP.jpg  \n",
            " extracting: valid/62cde588a7e31a28_jpg.rf.affd1288d24e5d69816a8f35c8d770e3.jpg  \n",
            " extracting: valid/632bd6855da8a1ea_jpg.rf.7e1a24e9a34bd44621c9640a49738e91.jpg  \n",
            " extracting: valid/632bd6855da8a1ea_jpg.rf.xb4hXORVi5uOg5tj6FTw.jpg  \n",
            " extracting: valid/64e4fa9ae5bc1603_jpg.rf.3d4ac41608cc04e2fcd0668c85959e70.jpg  \n",
            " extracting: valid/64e4fa9ae5bc1603_jpg.rf.q4ilcrcCFPatpmfE9nKP.jpg  \n",
            " extracting: valid/656e08da323e3b5e_jpg.rf.ece40cdcb8d92174162d33fc35009705.jpg  \n",
            " extracting: valid/656e08da323e3b5e_jpg.rf.lUvsaZOzN4LFJbO6eHkG.jpg  \n",
            " extracting: valid/657d44f93fb646b3_jpg.rf.a3b0e9e3e7a16cc779c647d8e217ce95.jpg  \n",
            " extracting: valid/657d44f93fb646b3_jpg.rf.qVLy2zfDqg5gFXTvlYUB.jpg  \n",
            " extracting: valid/6748012dbea5b042_jpg.rf.52b4ea616d993ee16455c5633832fa8f.jpg  \n",
            " extracting: valid/6748012dbea5b042_jpg.rf.rVqpItCspR7fXGMZNL3U.jpg  \n",
            " extracting: valid/68778b3e66bd53d2_jpg.rf.01ebd16c255002c1fe412a290af571f6.jpg  \n",
            " extracting: valid/68778b3e66bd53d2_jpg.rf.4QKMPflkzPCgrfKWuWQ1.jpg  \n",
            " extracting: valid/6a03dd967d836a19_jpg.rf.1543ee37f3c848ffe8ca2cdd70879783.jpg  \n",
            " extracting: valid/6a03dd967d836a19_jpg.rf.jZiLdhLoUOWPHBD5c666.jpg  \n",
            " extracting: valid/6f276e419bd817e1_jpg.rf.3671f9cb028c749c0caa3d9a71c6e6ff.jpg  \n",
            " extracting: valid/6f276e419bd817e1_jpg.rf.isi7DkKZujwmGNXtrVhO.jpg  \n",
            " extracting: valid/71cc934013f02bfe_jpg.rf.38bd90e5292738c592909a16a2fef79e.jpg  \n",
            " extracting: valid/71cc934013f02bfe_jpg.rf.B3RwXdUB9BVEkJ24bBr7.jpg  \n",
            " extracting: valid/7268f458dc755b0c_jpg.rf.8d1c275a0c1a54c6ac1857da0a94a932.jpg  \n",
            " extracting: valid/7268f458dc755b0c_jpg.rf.mxTH7obMjkZk3srVctve.jpg  \n",
            " extracting: valid/741f24cb0476ebec_jpg.rf.1493c1d785991bad4e460e154530d756.jpg  \n",
            " extracting: valid/741f24cb0476ebec_jpg.rf.9GqGLjIYDZRO3zCzERq3.jpg  \n",
            " extracting: valid/75738d3d8b999eb0_jpg.rf.4KVdv0RzVOCB9Bu6Z31K.jpg  \n",
            " extracting: valid/75738d3d8b999eb0_jpg.rf.bdba42b9707a6005668470bb4194730b.jpg  \n",
            " extracting: valid/7a1305c8e808290c_jpg.rf.07f18985154e78ad5d97a676c44a7ad7.jpg  \n",
            " extracting: valid/7a1305c8e808290c_jpg.rf.170prMOpZ9sq1CgFv9SO.jpg  \n",
            " extracting: valid/7eeea1eb06c7de4f_jpg.rf.0e4af8c2677ba255a1e8180312b6e047.jpg  \n",
            " extracting: valid/7eeea1eb06c7de4f_jpg.rf.4GAdHi7m5KjLwq0Mb62h.jpg  \n",
            " extracting: valid/7fa18bd0fbca2fe8_jpg.rf.4fb47fbdee76df27d26a959dc6121b51.jpg  \n",
            " extracting: valid/7fa18bd0fbca2fe8_jpg.rf.kt4iiRQEx7TtbHNmAht2.jpg  \n",
            " extracting: valid/808ef2923c23e7e5_jpg.rf.LM6hToh0TrkoNHgBsKWc.jpg  \n",
            " extracting: valid/808ef2923c23e7e5_jpg.rf.aa696ac3bc9a7ad6e49ffed634b6b365.jpg  \n",
            " extracting: valid/819003a2f313a857_jpg.rf.975b1354c62379d93032d9ddd3a216c1.jpg  \n",
            " extracting: valid/819003a2f313a857_jpg.rf.QJd2vDZAqD1pPRtYPvNL.jpg  \n",
            " extracting: valid/8426440240c36e50_jpg.rf.DTljEZ5YN68SKKRpDN91.jpg  \n",
            " extracting: valid/8426440240c36e50_jpg.rf.ce6bb9695f47752fe371817ce50fcac4.jpg  \n",
            " extracting: valid/8775622bbafe270a_jpg.rf.f8b3ffa075923cd351c64d514cd90644.jpg  \n",
            " extracting: valid/8775622bbafe270a_jpg.rf.kfFueTwW1twcNyr0w6tw.jpg  \n",
            " extracting: valid/8a5fca0fcf22fed1_jpg.rf.36dff3a6243a3d14eeba97c707db742f.jpg  \n",
            " extracting: valid/8a5fca0fcf22fed1_jpg.rf.AOhaqoj7Thor2pJaz7m4.jpg  \n",
            " extracting: valid/8d425cb54d74abeb_jpg.rf.Xk9MwVdyX316RbQPWRpW.jpg  \n",
            " extracting: valid/8d425cb54d74abeb_jpg.rf.e45716da4984075cbab4546791f0be53.jpg  \n",
            " extracting: valid/91173b5d90e594b4_jpg.rf.NaJmTaK8TLqlnRRBaWBl.jpg  \n",
            " extracting: valid/91173b5d90e594b4_jpg.rf.f19443437a99f20cd070b9f06195ef9e.jpg  \n",
            " extracting: valid/94003454cbe9f9ca_jpg.rf.2d2731321c576ed27a263aedffc2a700.jpg  \n",
            " extracting: valid/94003454cbe9f9ca_jpg.rf.YG0SCNVWZK75Np9eCGAE.jpg  \n",
            " extracting: valid/96fa09e7f79763dc_jpg.rf.9fecf46ca08efc61ea207bcb6c5ef6e9.jpg  \n",
            " extracting: valid/96fa09e7f79763dc_jpg.rf.RzdNdxT5bnlgUfDD9dIW.jpg  \n",
            " extracting: valid/9796bc10908e02b3_jpg.rf.2f2c0e0eb274069af7710c1b87daa6d0.jpg  \n",
            " extracting: valid/9796bc10908e02b3_jpg.rf.IbTC9aZovNxmEYrIJCtO.jpg  \n",
            " extracting: valid/98578c917503867e_jpg.rf.23d7a5ae98961f1def65488c413aeaf1.jpg  \n",
            " extracting: valid/98578c917503867e_jpg.rf.VlvyWmh2z4aaqfXIT4ds.jpg  \n",
            " extracting: valid/98dadcc0a553da24_jpg.rf.2f9a747b51d3d63064e928cac908aed8.jpg  \n",
            " extracting: valid/98dadcc0a553da24_jpg.rf.NJ05dQkr3wkFaW6qzPFW.jpg  \n",
            " extracting: valid/991d4282940eb27a_jpg.rf.972033bc338dae820ec5a2f2c488b3cd.jpg  \n",
            " extracting: valid/991d4282940eb27a_jpg.rf.RZ3ur3ZaFslN01ry6HlD.jpg  \n",
            " extracting: valid/9d3c9b88e091fd93_jpg.rf.IxrcQGvIXzqW3AQSsouh.jpg  \n",
            " extracting: valid/9d3c9b88e091fd93_jpg.rf.edd86aafa1343418632d880febc03b8c.jpg  \n",
            " extracting: valid/_annotations.coco.json  \n",
            " extracting: valid/a24ece83e775a4de_jpg.rf.7Ouu0qNWaimlye6Dgtta.jpg  \n",
            " extracting: valid/a24ece83e775a4de_jpg.rf.dd16ef79720d6fe039773d359e66afbd.jpg  \n",
            " extracting: valid/a427d2734cc7e939_jpg.rf.5d7c2cbb1becb5a06d277640d71b1580.jpg  \n",
            " extracting: valid/a427d2734cc7e939_jpg.rf.mew9bctJDZDUepI9WxXw.jpg  \n",
            " extracting: valid/ac03aa25bc294ae9_jpg.rf.0f773287b32588769a58393dd72900fb.jpg  \n",
            " extracting: valid/ac03aa25bc294ae9_jpg.rf.yhDIMFwNrWa52ylx6Z2I.jpg  \n",
            " extracting: valid/b39ce222d4077e92_jpg.rf.0e9b863de91b9f948aa839c3394d0602.jpg  \n",
            " extracting: valid/b39ce222d4077e92_jpg.rf.dG9MelQmthewmJnOGXBa.jpg  \n",
            " extracting: valid/b3aa29cc695d8bed_jpg.rf.8cb112823e07ea8cfb21bf775cbcc0b0.jpg  \n",
            " extracting: valid/b3aa29cc695d8bed_jpg.rf.OFMbBOuzaGaWCLoBRIkw.jpg  \n",
            " extracting: valid/b5cd0b99c2f9bf15_jpg.rf.EyGI7jJzcPDYodN9oSj5.jpg  \n",
            " extracting: valid/b5cd0b99c2f9bf15_jpg.rf.b20d8ff6435c5057b5a739a7ec596088.jpg  \n",
            " extracting: valid/b7ca8f95ad08cdda_jpg.rf.3751acce55be3b308e918cec95e3ac5e.jpg  \n",
            " extracting: valid/b7ca8f95ad08cdda_jpg.rf.S6zSOtEuKBgZ5xemd06l.jpg  \n",
            " extracting: valid/be613907a0a28d0a_jpg.rf.36ef2c64ce15b8493c719b28b592b114.jpg  \n",
            " extracting: valid/be613907a0a28d0a_jpg.rf.ZdCMQrygPhXUH6NPwbgD.jpg  \n",
            " extracting: valid/c4eeaa22024b4359_jpg.rf.Ly2CmF6i8onnqwfwX8Zn.jpg  \n",
            " extracting: valid/c4eeaa22024b4359_jpg.rf.ab895f04dfef661552c21225c2c1395b.jpg  \n",
            " extracting: valid/c5ba7ff344079f18_jpg.rf.6CeRXFK8HTHyUWAGZZZz.jpg  \n",
            " extracting: valid/c5ba7ff344079f18_jpg.rf.d0aef9c630ab5f2e4cd84e979942ac14.jpg  \n",
            " extracting: valid/cc524d3712a736f1_jpg.rf.9a92918ec3feb186693c7e90d97666bb.jpg  \n",
            " extracting: valid/cc524d3712a736f1_jpg.rf.h9c3YK8ow9hqrJK7YcMO.jpg  \n",
            " extracting: valid/cd06bf3b8dc15646_jpg.rf.46dc6fe2bc450d02309bc0aadfe0aa85.jpg  \n",
            " extracting: valid/cd06bf3b8dc15646_jpg.rf.br8CqYlyL8ghqiwZSWQA.jpg  \n",
            " extracting: valid/cd6745ae4dc907c8_jpg.rf.2c7d8d5333c9461391cf0f9eaf20ca2e.jpg  \n",
            " extracting: valid/cd6745ae4dc907c8_jpg.rf.SMXXKv6BqwwGMVqIOaqh.jpg  \n",
            " extracting: valid/ce14ea02e2b95819_jpg.rf.63dcdb5eac458bcd8ff1a84a672456c1.jpg  \n",
            " extracting: valid/ce14ea02e2b95819_jpg.rf.C4MzC1jLh7p2UKRbRBUS.jpg  \n",
            " extracting: valid/d25391d708f337ce_jpg.rf.866adf256e8a7d959dd8d33729f707b9.jpg  \n",
            " extracting: valid/d25391d708f337ce_jpg.rf.ImHV4MGI4p7qucygMcdj.jpg  \n",
            " extracting: valid/d330b27e8b7e1603_jpg.rf.39afcc8d19f766c7778663572e05416a.jpg  \n",
            " extracting: valid/d330b27e8b7e1603_jpg.rf.SFdOLEgvHDNSJCUQnijN.jpg  \n",
            " extracting: valid/d50d7d05ebcb572c_jpg.rf.54b59ea2c28c40019503da8cdcb0fcb9.jpg  \n",
            " extracting: valid/d50d7d05ebcb572c_jpg.rf.qO1zLNzHCtt8IlrOUAXe.jpg  \n",
            " extracting: valid/d82a9b0d237900a7_jpg.rf.7272063ca6ddd739b84a579850a24fbc.jpg  \n",
            " extracting: valid/d82a9b0d237900a7_jpg.rf.MBwOTXuWzt1Kb2j42Sws.jpg  \n",
            " extracting: valid/d9f305c713b2dadb_jpg.rf.b948327952ccd9518269f9da24cab4b6.jpg  \n",
            " extracting: valid/d9f305c713b2dadb_jpg.rf.dNgU77NzBkEeoushM4bo.jpg  \n",
            " extracting: valid/da73fa913610a8af_jpg.rf.6181575fc32ddcaaf681e116a9f87059.jpg  \n",
            " extracting: valid/da73fa913610a8af_jpg.rf.mCty1w7nDTKvZe2Xa65t.jpg  \n",
            " extracting: valid/de78d94af81bcca3_jpg.rf.6fb03b1959cd7362d6e3e5a1dce849ac.jpg  \n",
            " extracting: valid/de78d94af81bcca3_jpg.rf.WIMJ0RtiyaRQe2yMK8oC.jpg  \n",
            " extracting: valid/dfb39f1fac5cf808_jpg.rf.1Tppe0nEW0DwHxeoZyRC.jpg  \n",
            " extracting: valid/dfb39f1fac5cf808_jpg.rf.da2b4c31b60e65a30bfd7f7e18607bf1.jpg  \n",
            " extracting: valid/e21f6c245f34ddb6_jpg.rf.2f825c0d21bd4c563e3d6970ea203483.jpg  \n",
            " extracting: valid/e21f6c245f34ddb6_jpg.rf.87tAVt69EXlWXHMS6B4x.jpg  \n",
            " extracting: valid/e2389bfbb663fc99_jpg.rf.32aae55f1b198c97fe19b32c7977a468.jpg  \n",
            " extracting: valid/e2389bfbb663fc99_jpg.rf.GlYkFjcE2H5vLjVHX4FF.jpg  \n",
            " extracting: valid/e46a1707296e5434_jpg.rf.720ca33720ad650b9a13649acdf517cd.jpg  \n",
            " extracting: valid/e46a1707296e5434_jpg.rf.7sY10MerI5pFbeYn6szR.jpg  \n",
            " extracting: valid/e5d043adafd7a29f_jpg.rf.f60aba47321aba82fcbae264c121b6b2.jpg  \n",
            " extracting: valid/e5d043adafd7a29f_jpg.rf.wXD1E4AaKEq9Lc7UUBdy.jpg  \n",
            " extracting: valid/e667067350c180f2_jpg.rf.13de5c09063c58a3ba8da92a9bea2715.jpg  \n",
            " extracting: valid/e667067350c180f2_jpg.rf.5ExUN8GBbQqrenIik8rv.jpg  \n",
            " extracting: valid/e6fc8c3669e7c657_jpg.rf.0cc9fcb5fe2ef6bca58a2e51b0ab205b.jpg  \n",
            " extracting: valid/e6fc8c3669e7c657_jpg.rf.nJvS0vFjNd1EkX64Kp4q.jpg  \n",
            " extracting: valid/eb8054a03e86ba71_jpg.rf.13af8fe475a1b59d4a87f9a68d90fb5e.jpg  \n",
            " extracting: valid/eb8054a03e86ba71_jpg.rf.ijvrEHArAZuYiPmwP3Vc.jpg  \n",
            " extracting: valid/f0f3c1c5237b0b1e_jpg.rf.H7tdbczfNewFL1o5a9CC.jpg  \n",
            " extracting: valid/f0f3c1c5237b0b1e_jpg.rf.de1374742842102bf3cde8eb3c32392b.jpg  \n",
            " extracting: valid/fa70802247a2d4a9_jpg.rf.8vq750T8yM0fzONLuEt8.jpg  \n",
            " extracting: valid/fa70802247a2d4a9_jpg.rf.fff2ac4f303eb03bb141a27ac56360b8.jpg  \n",
            " extracting: valid/fac8fc1b78aad66c_jpg.rf.88660a61c120545061ebb82d623516cf.jpg  \n",
            " extracting: valid/fac8fc1b78aad66c_jpg.rf.A0Ru6vIOfdICEcK9z33j.jpg  \n",
            " extracting: valid/fe64277a355adbc1_jpg.rf.9Xsenxwfua0mv9BbVflQ.jpg  \n",
            " extracting: valid/fe64277a355adbc1_jpg.rf.fabff45c8703e6fb44aeca38ef50ea26.jpg  \n",
            "CPU times: user 25.7 ms, sys: 12.4 ms, total: 38 ms\n",
            "Wall time: 2.42 s\n"
          ]
        }
      ]
    },
    {
      "cell_type": "markdown",
      "metadata": {
        "id": "VCY3a2Zt78rI"
      },
      "source": [
        "##Estructura para los datos \n",
        "\n",
        "En las siguientes tres celdas, movemos los datos a una estructura que la biblioteca de detección de imágenes esperará"
      ]
    },
    {
      "cell_type": "code",
      "metadata": {
        "id": "qrsuPvMoVrAd"
      },
      "source": [
        "!mkdir War\n",
        "!mkdir War/annotations\n",
        "!mkdir War/Annotations\n",
        "!mkdir War/Images"
      ],
      "execution_count": null,
      "outputs": []
    },
    {
      "cell_type": "code",
      "metadata": {
        "id": "EMmAcRaDVxPj"
      },
      "source": [
        "%cp train/_annotations.coco.json War/annotations/instances_Images.json"
      ],
      "execution_count": null,
      "outputs": []
    },
    {
      "cell_type": "code",
      "metadata": {
        "id": "kx8EpALXVz0S"
      },
      "source": [
        "%cp train/*.jpg War/Images/"
      ],
      "execution_count": null,
      "outputs": []
    },
    {
      "cell_type": "markdown",
      "metadata": {
        "id": "JsXicfD78G6a"
      },
      "source": [
        "##Entrenamiento"
      ]
    },
    {
      "cell_type": "code",
      "metadata": {
        "id": "ter8mvlhV4L0"
      },
      "source": [
        "import os\n",
        "import sys\n",
        "sys.path.append(\"Monk_Object_Detection/4_efficientdet/lib/\");"
      ],
      "execution_count": null,
      "outputs": []
    },
    {
      "cell_type": "code",
      "metadata": {
        "id": "yuEjyrtIWEDW",
        "colab": {
          "base_uri": "https://localhost:8080/"
        },
        "outputId": "74c42639-e058-4e06-ebcc-e6ea463355ab"
      },
      "source": [
        "%%time\n",
        "from train_detector import Detector"
      ],
      "execution_count": null,
      "outputs": [
        {
          "output_type": "stream",
          "name": "stdout",
          "text": [
            "CPU times: user 813 ms, sys: 515 ms, total: 1.33 s\n",
            "Wall time: 13.5 s\n"
          ]
        }
      ]
    },
    {
      "cell_type": "code",
      "metadata": {
        "id": "m2d2RuyXWLy2"
      },
      "source": [
        "gtf = Detector();"
      ],
      "execution_count": null,
      "outputs": []
    },
    {
      "cell_type": "code",
      "metadata": {
        "id": "DSHeJ1sfWXN2"
      },
      "source": [
        "#dirige el modelo hacia la estructura de archivos\n",
        "root_dir = \"./\";\n",
        "coco_dir = \"War\";\n",
        "img_dir = \"./\";\n",
        "set_dir = \"Images\";"
      ],
      "execution_count": null,
      "outputs": []
    },
    {
      "cell_type": "code",
      "metadata": {
        "id": "QtI9oXurWbuH",
        "colab": {
          "base_uri": "https://localhost:8080/"
        },
        "outputId": "528c205e-5c9e-4887-d40a-1ba1721c5010"
      },
      "source": [
        "#Preparar los datos\n",
        "gtf.Train_Dataset(root_dir, coco_dir, img_dir, set_dir, batch_size=10, image_size=512, use_gpu=True)"
      ],
      "execution_count": null,
      "outputs": [
        {
          "output_type": "stream",
          "name": "stdout",
          "text": [
            "loading annotations into memory...\n",
            "Done (t=0.01s)\n",
            "creating index...\n",
            "index created!\n"
          ]
        }
      ]
    },
    {
      "cell_type": "code",
      "metadata": {
        "id": "M882XN6xWfaA",
        "colab": {
          "base_uri": "https://localhost:8080/",
          "height": 140
        },
        "outputId": "f9646388-eac7-44f4-efed-2079fb6b5562"
      },
      "source": [
        "%%time\n",
        "gtf.Model();"
      ],
      "execution_count": null,
      "outputs": [
        {
          "output_type": "stream",
          "name": "stderr",
          "text": [
            "Downloading: \"https://github.com/lukemelas/EfficientNet-PyTorch/releases/download/1.0/efficientnet-b0-355c32eb.pth\" to /root/.cache/torch/hub/checkpoints/efficientnet-b0-355c32eb.pth\n"
          ]
        },
        {
          "output_type": "display_data",
          "data": {
            "text/html": [
              "<div style=\"display:flex;flex-direction:row;\"><span></span><progress style='margin:2px 4px;' max='21388428' value='21388428'></progress>100% 20.4M/20.4M [00:00&lt;00:00, 26.4MB/s]</div>"
            ],
            "text/plain": [
              "<tqdm._fake_ipywidgets.HBox object>"
            ]
          },
          "metadata": {}
        },
        {
          "output_type": "stream",
          "name": "stdout",
          "text": [
            "\n",
            "Loaded pretrained weights for efficientnet-b0\n",
            "CPU times: user 2.12 s, sys: 1.28 s, total: 3.4 s\n",
            "Wall time: 10.7 s\n"
          ]
        }
      ]
    },
    {
      "cell_type": "code",
      "metadata": {
        "id": "AajWJLG6Wnrv"
      },
      "source": [
        "gtf.Set_Hyperparams(lr=0.0001, val_interval=1, es_min_delta=0.0, es_patience=0)"
      ],
      "execution_count": null,
      "outputs": []
    },
    {
      "cell_type": "code",
      "metadata": {
        "id": "W_1rNOYcWqme",
        "colab": {
          "base_uri": "https://localhost:8080/",
          "height": 1000
        },
        "outputId": "2a5f4dd1-a25a-4bc8-a512-98dc2d79ce5b"
      },
      "source": [
        "%%time\n",
        "gtf.Train(num_epochs=280, model_output_dir=\"trained/\");"
      ],
      "execution_count": null,
      "outputs": [
        {
          "output_type": "display_data",
          "data": {
            "text/html": [
              "<div style=\"display:flex;flex-direction:row;\"><span>Epoch: 1/280. Iteration: 87/87. Cls loss: 0.67314. Reg loss: 0.84975. Batch loss: 1.52289 Total loss: 1.76126</span><progress style='margin:2px 4px;description_width:initial;' max='87' value='87'></progress>100% 87/87 [01:45&lt;00:00,  1.21s/it]</div>"
            ],
            "text/plain": [
              "<tqdm._fake_ipywidgets.HBox object>"
            ]
          },
          "metadata": {}
        },
        {
          "output_type": "stream",
          "name": "stderr",
          "text": [
            "/usr/local/lib/python3.7/dist-packages/torch/nn/functional.py:718: UserWarning: Named tensors and all their associated APIs are an experimental feature and subject to change. Please do not use them for anything important until they are released as stable. (Triggered internally at  /pytorch/c10/core/TensorImpl.h:1156.)\n",
            "  return torch.max_pool2d(input, kernel_size, stride, padding, dilation, ceil_mode)\n"
          ]
        },
        {
          "output_type": "stream",
          "name": "stdout",
          "text": [
            "\n"
          ]
        },
        {
          "output_type": "stream",
          "name": "stderr",
          "text": [
            "Monk_Object_Detection/4_efficientdet/lib/src/model.py:251: TracerWarning: Using len to get tensor shape might cause the trace to be incorrect. Recommended usage would be tensor.shape[0]. Passing a tensor of different shape might lead to errors or silently give incorrect results.\n",
            "  if len(inputs) == 2:\n",
            "Monk_Object_Detection/4_efficientdet/lib/src/utils.py:84: TracerWarning: Converting a tensor to a Python integer might cause the trace to be incorrect. We can't record the data flow of Python values, so this value will be treated as a constant in the future. This means that the trace might not generalize to other inputs!\n",
            "  image_shape = np.array(image_shape)\n",
            "Monk_Object_Detection/4_efficientdet/lib/src/utils.py:96: TracerWarning: torch.from_numpy results are registered as constants in the trace. You can safely ignore this warning if you use this function to create tensors out of constant variables that would be the same every time you call this function. In any other case, this might cause the trace to be incorrect.\n",
            "  anchors = torch.from_numpy(all_anchors.astype(np.float32))\n",
            "Monk_Object_Detection/4_efficientdet/lib/src/model.py:282: TracerWarning: Converting a tensor to a Python boolean might cause the trace to be incorrect. We can't record the data flow of Python values, so this value will be treated as a constant in the future. This means that the trace might not generalize to other inputs!\n",
            "  if scores_over_thresh.sum() == 0:\n"
          ]
        },
        {
          "output_type": "display_data",
          "data": {
            "text/html": [
              "<div style=\"display:flex;flex-direction:row;\"><span>Epoch: 2/280. Iteration: 87/87. Cls loss: 0.62995. Reg loss: 0.84069. Batch loss: 1.47064 Total loss: 1.35087</span><progress style='margin:2px 4px;description_width:initial;' max='87' value='87'></progress>100% 87/87 [01:45&lt;00:00,  1.21s/it]</div>"
            ],
            "text/plain": [
              "<tqdm._fake_ipywidgets.HBox object>"
            ]
          },
          "metadata": {}
        },
        {
          "output_type": "stream",
          "name": "stdout",
          "text": [
            "\n"
          ]
        },
        {
          "output_type": "display_data",
          "data": {
            "text/html": [
              "<div style=\"display:flex;flex-direction:row;\"><span>Epoch: 3/280. Iteration: 87/87. Cls loss: 0.46473. Reg loss: 0.56569. Batch loss: 1.03042 Total loss: 1.17548</span><progress style='margin:2px 4px;description_width:initial;' max='87' value='87'></progress>100% 87/87 [01:45&lt;00:00,  1.21s/it]</div>"
            ],
            "text/plain": [
              "<tqdm._fake_ipywidgets.HBox object>"
            ]
          },
          "metadata": {}
        },
        {
          "output_type": "stream",
          "name": "stdout",
          "text": [
            "\n"
          ]
        },
        {
          "output_type": "display_data",
          "data": {
            "text/html": [
              "<div style=\"display:flex;flex-direction:row;\"><span>Epoch: 4/280. Iteration: 87/87. Cls loss: 0.38937. Reg loss: 0.48586. Batch loss: 0.87522 Total loss: 1.05825</span><progress style='margin:2px 4px;description_width:initial;' max='87' value='87'></progress>100% 87/87 [01:45&lt;00:00,  1.21s/it]</div>"
            ],
            "text/plain": [
              "<tqdm._fake_ipywidgets.HBox object>"
            ]
          },
          "metadata": {}
        },
        {
          "output_type": "stream",
          "name": "stdout",
          "text": [
            "\n"
          ]
        },
        {
          "output_type": "display_data",
          "data": {
            "text/html": [
              "<div style=\"display:flex;flex-direction:row;\"><span>Epoch: 5/280. Iteration: 87/87. Cls loss: 0.33499. Reg loss: 0.48546. Batch loss: 0.82046 Total loss: 0.96470</span><progress style='margin:2px 4px;description_width:initial;' max='87' value='87'></progress>100% 87/87 [01:45&lt;00:00,  1.21s/it]</div>"
            ],
            "text/plain": [
              "<tqdm._fake_ipywidgets.HBox object>"
            ]
          },
          "metadata": {}
        },
        {
          "output_type": "stream",
          "name": "stdout",
          "text": [
            "\n"
          ]
        },
        {
          "output_type": "display_data",
          "data": {
            "text/html": [
              "<div style=\"display:flex;flex-direction:row;\"><span>Epoch: 6/280. Iteration: 87/87. Cls loss: 0.36195. Reg loss: 0.42438. Batch loss: 0.78633 Total loss: 0.89051</span><progress style='margin:2px 4px;description_width:initial;' max='87' value='87'></progress>100% 87/87 [01:45&lt;00:00,  1.21s/it]</div>"
            ],
            "text/plain": [
              "<tqdm._fake_ipywidgets.HBox object>"
            ]
          },
          "metadata": {}
        },
        {
          "output_type": "stream",
          "name": "stdout",
          "text": [
            "\n"
          ]
        },
        {
          "output_type": "display_data",
          "data": {
            "text/html": [
              "<div style=\"display:flex;flex-direction:row;\"><span>Epoch: 7/280. Iteration: 87/87. Cls loss: 0.30295. Reg loss: 0.38001. Batch loss: 0.68296 Total loss: 0.82608</span><progress style='margin:2px 4px;description_width:initial;' max='87' value='87'></progress>100% 87/87 [01:45&lt;00:00,  1.21s/it]</div>"
            ],
            "text/plain": [
              "<tqdm._fake_ipywidgets.HBox object>"
            ]
          },
          "metadata": {}
        },
        {
          "output_type": "stream",
          "name": "stdout",
          "text": [
            "\n"
          ]
        },
        {
          "output_type": "stream",
          "name": "stderr",
          "text": [
            "/usr/local/lib/python3.7/dist-packages/torch/onnx/symbolic_opset9.py:2720: UserWarning: Exporting aten::index operator with indices of type Byte. Only 1-D indices are supported. In any other case, this will produce an incorrect ONNX graph.\n",
            "  warnings.warn(\"Exporting aten::index operator with indices of type Byte. \"\n",
            "/usr/local/lib/python3.7/dist-packages/torch/onnx/symbolic_opset9.py:701: UserWarning: This model contains a squeeze operation on dimension 1 on an input with unknown shape. Note that if the size of dimension 1 of the input is not 1, the ONNX model will return an error. Opset version 11 supports squeezing on non-singleton dimensions, it is recommended to export this model using opset version 11 or higher.\n",
            "  \"version 11 or higher.\")\n"
          ]
        },
        {
          "output_type": "display_data",
          "data": {
            "text/html": [
              "<div style=\"display:flex;flex-direction:row;\"><span>Epoch: 8/280. Iteration: 87/87. Cls loss: 0.29666. Reg loss: 0.42423. Batch loss: 0.72089 Total loss: 0.77112</span><progress style='margin:2px 4px;description_width:initial;' max='87' value='87'></progress>100% 87/87 [01:46&lt;00:00,  1.21s/it]</div>"
            ],
            "text/plain": [
              "<tqdm._fake_ipywidgets.HBox object>"
            ]
          },
          "metadata": {}
        },
        {
          "output_type": "stream",
          "name": "stdout",
          "text": [
            "\n"
          ]
        },
        {
          "output_type": "display_data",
          "data": {
            "text/html": [
              "<div style=\"display:flex;flex-direction:row;\"><span>Epoch: 9/280. Iteration: 87/87. Cls loss: 0.33275. Reg loss: 0.38491. Batch loss: 0.71766 Total loss: 0.71990</span><progress style='margin:2px 4px;description_width:initial;' max='87' value='87'></progress>100% 87/87 [01:45&lt;00:00,  1.21s/it]</div>"
            ],
            "text/plain": [
              "<tqdm._fake_ipywidgets.HBox object>"
            ]
          },
          "metadata": {}
        },
        {
          "output_type": "stream",
          "name": "stdout",
          "text": [
            "\n"
          ]
        },
        {
          "output_type": "display_data",
          "data": {
            "text/html": [
              "<div style=\"display:flex;flex-direction:row;\"><span>Epoch: 10/280. Iteration: 87/87. Cls loss: 0.27400. Reg loss: 0.32209. Batch loss: 0.59609 Total loss: 0.68671</span><progress style='margin:2px 4px;description_width:initial;' max='87' value='87'></progress>100% 87/87 [01:46&lt;00:00,  1.21s/it]</div>"
            ],
            "text/plain": [
              "<tqdm._fake_ipywidgets.HBox object>"
            ]
          },
          "metadata": {}
        },
        {
          "output_type": "stream",
          "name": "stdout",
          "text": [
            "\n"
          ]
        },
        {
          "output_type": "display_data",
          "data": {
            "text/html": [
              "<div style=\"display:flex;flex-direction:row;\"><span>Epoch: 11/280. Iteration: 87/87. Cls loss: 0.26035. Reg loss: 0.45671. Batch loss: 0.71706 Total loss: 0.64753</span><progress style='margin:2px 4px;description_width:initial;' max='87' value='87'></progress>100% 87/87 [01:46&lt;00:00,  1.21s/it]</div>"
            ],
            "text/plain": [
              "<tqdm._fake_ipywidgets.HBox object>"
            ]
          },
          "metadata": {}
        },
        {
          "output_type": "stream",
          "name": "stdout",
          "text": [
            "\n"
          ]
        },
        {
          "output_type": "display_data",
          "data": {
            "text/html": [
              "<div style=\"display:flex;flex-direction:row;\"><span>Epoch: 12/280. Iteration: 87/87. Cls loss: 0.21923. Reg loss: 0.32281. Batch loss: 0.54205 Total loss: 0.61549</span><progress style='margin:2px 4px;description_width:initial;' max='87' value='87'></progress>100% 87/87 [01:46&lt;00:00,  1.21s/it]</div>"
            ],
            "text/plain": [
              "<tqdm._fake_ipywidgets.HBox object>"
            ]
          },
          "metadata": {}
        },
        {
          "output_type": "stream",
          "name": "stdout",
          "text": [
            "\n"
          ]
        },
        {
          "output_type": "display_data",
          "data": {
            "text/html": [
              "<div style=\"display:flex;flex-direction:row;\"><span>Epoch: 13/280. Iteration: 87/87. Cls loss: 0.22996. Reg loss: 0.28520. Batch loss: 0.51515 Total loss: 0.58569</span><progress style='margin:2px 4px;description_width:initial;' max='87' value='87'></progress>100% 87/87 [01:46&lt;00:00,  1.21s/it]</div>"
            ],
            "text/plain": [
              "<tqdm._fake_ipywidgets.HBox object>"
            ]
          },
          "metadata": {}
        },
        {
          "output_type": "stream",
          "name": "stdout",
          "text": [
            "\n"
          ]
        },
        {
          "output_type": "display_data",
          "data": {
            "text/html": [
              "<div style=\"display:flex;flex-direction:row;\"><span>Epoch: 14/280. Iteration: 87/87. Cls loss: 0.18596. Reg loss: 0.28473. Batch loss: 0.47069 Total loss: 0.55247</span><progress style='margin:2px 4px;description_width:initial;' max='87' value='87'></progress>100% 87/87 [01:46&lt;00:00,  1.21s/it]</div>"
            ],
            "text/plain": [
              "<tqdm._fake_ipywidgets.HBox object>"
            ]
          },
          "metadata": {}
        },
        {
          "output_type": "stream",
          "name": "stdout",
          "text": [
            "\n"
          ]
        },
        {
          "output_type": "display_data",
          "data": {
            "text/html": [
              "<div style=\"display:flex;flex-direction:row;\"><span>Epoch: 15/280. Iteration: 87/87. Cls loss: 0.23789. Reg loss: 0.39941. Batch loss: 0.63731 Total loss: 0.52670</span><progress style='margin:2px 4px;description_width:initial;' max='87' value='87'></progress>100% 87/87 [01:46&lt;00:00,  1.21s/it]</div>"
            ],
            "text/plain": [
              "<tqdm._fake_ipywidgets.HBox object>"
            ]
          },
          "metadata": {}
        },
        {
          "output_type": "stream",
          "name": "stdout",
          "text": [
            "\n"
          ]
        },
        {
          "output_type": "display_data",
          "data": {
            "text/html": [
              "<div style=\"display:flex;flex-direction:row;\"><span>Epoch: 16/280. Iteration: 87/87. Cls loss: 0.17033. Reg loss: 0.29650. Batch loss: 0.46684 Total loss: 0.50747</span><progress style='margin:2px 4px;description_width:initial;' max='87' value='87'></progress>100% 87/87 [01:46&lt;00:00,  1.22s/it]</div>"
            ],
            "text/plain": [
              "<tqdm._fake_ipywidgets.HBox object>"
            ]
          },
          "metadata": {}
        },
        {
          "output_type": "stream",
          "name": "stdout",
          "text": [
            "\n"
          ]
        },
        {
          "output_type": "display_data",
          "data": {
            "text/html": [
              "<div style=\"display:flex;flex-direction:row;\"><span>Epoch: 17/280. Iteration: 87/87. Cls loss: 0.18315. Reg loss: 0.27154. Batch loss: 0.45469 Total loss: 0.46668</span><progress style='margin:2px 4px;description_width:initial;' max='87' value='87'></progress>100% 87/87 [01:46&lt;00:00,  1.21s/it]</div>"
            ],
            "text/plain": [
              "<tqdm._fake_ipywidgets.HBox object>"
            ]
          },
          "metadata": {}
        },
        {
          "output_type": "stream",
          "name": "stdout",
          "text": [
            "\n"
          ]
        },
        {
          "output_type": "display_data",
          "data": {
            "text/html": [
              "<div style=\"display:flex;flex-direction:row;\"><span>Epoch: 18/280. Iteration: 87/87. Cls loss: 0.18354. Reg loss: 0.31008. Batch loss: 0.49362 Total loss: 0.45174</span><progress style='margin:2px 4px;description_width:initial;' max='87' value='87'></progress>100% 87/87 [01:46&lt;00:00,  1.21s/it]</div>"
            ],
            "text/plain": [
              "<tqdm._fake_ipywidgets.HBox object>"
            ]
          },
          "metadata": {}
        },
        {
          "output_type": "stream",
          "name": "stdout",
          "text": [
            "\n"
          ]
        },
        {
          "output_type": "display_data",
          "data": {
            "text/html": [
              "<div style=\"display:flex;flex-direction:row;\"><span>Epoch: 19/280. Iteration: 87/87. Cls loss: 0.13905. Reg loss: 0.28680. Batch loss: 0.42585 Total loss: 0.43376</span><progress style='margin:2px 4px;description_width:initial;' max='87' value='87'></progress>100% 87/87 [01:46&lt;00:00,  1.21s/it]</div>"
            ],
            "text/plain": [
              "<tqdm._fake_ipywidgets.HBox object>"
            ]
          },
          "metadata": {}
        },
        {
          "output_type": "stream",
          "name": "stdout",
          "text": [
            "\n"
          ]
        },
        {
          "output_type": "display_data",
          "data": {
            "text/html": [
              "<div style=\"display:flex;flex-direction:row;\"><span>Epoch: 20/280. Iteration: 87/87. Cls loss: 0.15926. Reg loss: 0.25438. Batch loss: 0.41364 Total loss: 0.42372</span><progress style='margin:2px 4px;description_width:initial;' max='87' value='87'></progress>100% 87/87 [01:46&lt;00:00,  1.21s/it]</div>"
            ],
            "text/plain": [
              "<tqdm._fake_ipywidgets.HBox object>"
            ]
          },
          "metadata": {}
        },
        {
          "output_type": "stream",
          "name": "stdout",
          "text": [
            "\n"
          ]
        },
        {
          "output_type": "display_data",
          "data": {
            "text/html": [
              "<div style=\"display:flex;flex-direction:row;\"><span>Epoch: 21/280. Iteration: 87/87. Cls loss: 0.17802. Reg loss: 0.34889. Batch loss: 0.52690 Total loss: 0.40672</span><progress style='margin:2px 4px;description_width:initial;' max='87' value='87'></progress>100% 87/87 [01:46&lt;00:00,  1.21s/it]</div>"
            ],
            "text/plain": [
              "<tqdm._fake_ipywidgets.HBox object>"
            ]
          },
          "metadata": {}
        },
        {
          "output_type": "stream",
          "name": "stdout",
          "text": [
            "\n"
          ]
        },
        {
          "output_type": "display_data",
          "data": {
            "text/html": [
              "<div style=\"display:flex;flex-direction:row;\"><span>Epoch: 22/280. Iteration: 87/87. Cls loss: 0.16008. Reg loss: 0.21530. Batch loss: 0.37537 Total loss: 0.38116</span><progress style='margin:2px 4px;description_width:initial;' max='87' value='87'></progress>100% 87/87 [01:46&lt;00:00,  1.21s/it]</div>"
            ],
            "text/plain": [
              "<tqdm._fake_ipywidgets.HBox object>"
            ]
          },
          "metadata": {}
        },
        {
          "output_type": "stream",
          "name": "stdout",
          "text": [
            "\n"
          ]
        },
        {
          "output_type": "display_data",
          "data": {
            "text/html": [
              "<div style=\"display:flex;flex-direction:row;\"><span>Epoch: 23/280. Iteration: 87/87. Cls loss: 0.17858. Reg loss: 0.24370. Batch loss: 0.42228 Total loss: 0.37813</span><progress style='margin:2px 4px;description_width:initial;' max='87' value='87'></progress>100% 87/87 [01:46&lt;00:00,  1.21s/it]</div>"
            ],
            "text/plain": [
              "<tqdm._fake_ipywidgets.HBox object>"
            ]
          },
          "metadata": {}
        },
        {
          "output_type": "stream",
          "name": "stdout",
          "text": [
            "\n"
          ]
        },
        {
          "output_type": "display_data",
          "data": {
            "text/html": [
              "<div style=\"display:flex;flex-direction:row;\"><span>Epoch: 24/280. Iteration: 87/87. Cls loss: 0.12336. Reg loss: 0.23065. Batch loss: 0.35401 Total loss: 0.35675</span><progress style='margin:2px 4px;description_width:initial;' max='87' value='87'></progress>100% 87/87 [01:46&lt;00:00,  1.21s/it]</div>"
            ],
            "text/plain": [
              "<tqdm._fake_ipywidgets.HBox object>"
            ]
          },
          "metadata": {}
        },
        {
          "output_type": "stream",
          "name": "stdout",
          "text": [
            "\n"
          ]
        },
        {
          "output_type": "display_data",
          "data": {
            "text/html": [
              "<div style=\"display:flex;flex-direction:row;\"><span>Epoch: 25/280. Iteration: 87/87. Cls loss: 0.12038. Reg loss: 0.25434. Batch loss: 0.37472 Total loss: 0.34367</span><progress style='margin:2px 4px;description_width:initial;' max='87' value='87'></progress>100% 87/87 [01:46&lt;00:00,  1.21s/it]</div>"
            ],
            "text/plain": [
              "<tqdm._fake_ipywidgets.HBox object>"
            ]
          },
          "metadata": {}
        },
        {
          "output_type": "stream",
          "name": "stdout",
          "text": [
            "\n",
            "faild onnx export\n"
          ]
        },
        {
          "output_type": "display_data",
          "data": {
            "text/html": [
              "<div style=\"display:flex;flex-direction:row;\"><span>Epoch: 26/280. Iteration: 87/87. Cls loss: 0.06788. Reg loss: 0.19613. Batch loss: 0.26401 Total loss: 0.33771</span><progress style='margin:2px 4px;description_width:initial;' max='87' value='87'></progress>100% 87/87 [01:43&lt;00:00,  1.17s/it]</div>"
            ],
            "text/plain": [
              "<tqdm._fake_ipywidgets.HBox object>"
            ]
          },
          "metadata": {}
        },
        {
          "output_type": "stream",
          "name": "stdout",
          "text": [
            "\n"
          ]
        },
        {
          "output_type": "display_data",
          "data": {
            "text/html": [
              "<div style=\"display:flex;flex-direction:row;\"><span>Epoch: 27/280. Iteration: 87/87. Cls loss: 0.10969. Reg loss: 0.23740. Batch loss: 0.34709 Total loss: 0.32043</span><progress style='margin:2px 4px;description_width:initial;' max='87' value='87'></progress>100% 87/87 [01:46&lt;00:00,  1.21s/it]</div>"
            ],
            "text/plain": [
              "<tqdm._fake_ipywidgets.HBox object>"
            ]
          },
          "metadata": {}
        },
        {
          "output_type": "stream",
          "name": "stdout",
          "text": [
            "\n"
          ]
        },
        {
          "output_type": "display_data",
          "data": {
            "text/html": [
              "<div style=\"display:flex;flex-direction:row;\"><span>Epoch: 28/280. Iteration: 87/87. Cls loss: 0.05903. Reg loss: 0.15986. Batch loss: 0.21889 Total loss: 0.31956</span><progress style='margin:2px 4px;description_width:initial;' max='87' value='87'></progress>100% 87/87 [01:46&lt;00:00,  1.21s/it]</div>"
            ],
            "text/plain": [
              "<tqdm._fake_ipywidgets.HBox object>"
            ]
          },
          "metadata": {}
        },
        {
          "output_type": "stream",
          "name": "stdout",
          "text": [
            "\n"
          ]
        },
        {
          "output_type": "display_data",
          "data": {
            "text/html": [
              "<div style=\"display:flex;flex-direction:row;\"><span>Epoch: 29/280. Iteration: 87/87. Cls loss: 0.06651. Reg loss: 0.19637. Batch loss: 0.26288 Total loss: 0.31323</span><progress style='margin:2px 4px;description_width:initial;' max='87' value='87'></progress>100% 87/87 [01:46&lt;00:00,  1.21s/it]</div>"
            ],
            "text/plain": [
              "<tqdm._fake_ipywidgets.HBox object>"
            ]
          },
          "metadata": {}
        },
        {
          "output_type": "stream",
          "name": "stdout",
          "text": [
            "\n"
          ]
        },
        {
          "output_type": "display_data",
          "data": {
            "text/html": [
              "<div style=\"display:flex;flex-direction:row;\"><span>Epoch: 30/280. Iteration: 87/87. Cls loss: 0.07204. Reg loss: 0.18965. Batch loss: 0.26170 Total loss: 0.30158</span><progress style='margin:2px 4px;description_width:initial;' max='87' value='87'></progress>100% 87/87 [01:46&lt;00:00,  1.21s/it]</div>"
            ],
            "text/plain": [
              "<tqdm._fake_ipywidgets.HBox object>"
            ]
          },
          "metadata": {}
        },
        {
          "output_type": "stream",
          "name": "stdout",
          "text": [
            "\n"
          ]
        },
        {
          "output_type": "display_data",
          "data": {
            "text/html": [
              "<div style=\"display:flex;flex-direction:row;\"><span>Epoch: 31/280. Iteration: 87/87. Cls loss: 0.09571. Reg loss: 0.16838. Batch loss: 0.26409 Total loss: 0.29346</span><progress style='margin:2px 4px;description_width:initial;' max='87' value='87'></progress>100% 87/87 [01:46&lt;00:00,  1.21s/it]</div>"
            ],
            "text/plain": [
              "<tqdm._fake_ipywidgets.HBox object>"
            ]
          },
          "metadata": {}
        },
        {
          "output_type": "stream",
          "name": "stdout",
          "text": [
            "\n"
          ]
        },
        {
          "output_type": "display_data",
          "data": {
            "text/html": [
              "<div style=\"display:flex;flex-direction:row;\"><span>Epoch: 32/280. Iteration: 87/87. Cls loss: 0.10576. Reg loss: 0.19657. Batch loss: 0.30233 Total loss: 0.28883</span><progress style='margin:2px 4px;description_width:initial;' max='87' value='87'></progress>100% 87/87 [01:46&lt;00:00,  1.21s/it]</div>"
            ],
            "text/plain": [
              "<tqdm._fake_ipywidgets.HBox object>"
            ]
          },
          "metadata": {}
        },
        {
          "output_type": "stream",
          "name": "stdout",
          "text": [
            "\n",
            "faild onnx export\n"
          ]
        },
        {
          "output_type": "display_data",
          "data": {
            "text/html": [
              "<div style=\"display:flex;flex-direction:row;\"><span>Epoch: 33/280. Iteration: 87/87. Cls loss: 0.08232. Reg loss: 0.20084. Batch loss: 0.28316 Total loss: 0.27857</span><progress style='margin:2px 4px;description_width:initial;' max='87' value='87'></progress>100% 87/87 [01:43&lt;00:00,  1.18s/it]</div>"
            ],
            "text/plain": [
              "<tqdm._fake_ipywidgets.HBox object>"
            ]
          },
          "metadata": {}
        },
        {
          "output_type": "stream",
          "name": "stdout",
          "text": [
            "\n"
          ]
        },
        {
          "output_type": "display_data",
          "data": {
            "text/html": [
              "<div style=\"display:flex;flex-direction:row;\"><span>Epoch: 34/280. Iteration: 87/87. Cls loss: 0.08271. Reg loss: 0.19129. Batch loss: 0.27400 Total loss: 0.27287</span><progress style='margin:2px 4px;description_width:initial;' max='87' value='87'></progress>100% 87/87 [01:45&lt;00:00,  1.21s/it]</div>"
            ],
            "text/plain": [
              "<tqdm._fake_ipywidgets.HBox object>"
            ]
          },
          "metadata": {}
        },
        {
          "output_type": "stream",
          "name": "stdout",
          "text": [
            "\n"
          ]
        },
        {
          "output_type": "display_data",
          "data": {
            "text/html": [
              "<div style=\"display:flex;flex-direction:row;\"><span>Epoch: 35/280. Iteration: 87/87. Cls loss: 0.08443. Reg loss: 0.17727. Batch loss: 0.26169 Total loss: 0.26151</span><progress style='margin:2px 4px;description_width:initial;' max='87' value='87'></progress>100% 87/87 [01:46&lt;00:00,  1.21s/it]</div>"
            ],
            "text/plain": [
              "<tqdm._fake_ipywidgets.HBox object>"
            ]
          },
          "metadata": {}
        },
        {
          "output_type": "stream",
          "name": "stdout",
          "text": [
            "\n",
            "faild onnx export\n"
          ]
        },
        {
          "output_type": "display_data",
          "data": {
            "text/html": [
              "<div style=\"display:flex;flex-direction:row;\"><span>Epoch: 36/280. Iteration: 87/87. Cls loss: 0.04213. Reg loss: 0.16184. Batch loss: 0.20397 Total loss: 0.26235</span><progress style='margin:2px 4px;description_width:initial;' max='87' value='87'></progress>100% 87/87 [01:43&lt;00:00,  1.18s/it]</div>"
            ],
            "text/plain": [
              "<tqdm._fake_ipywidgets.HBox object>"
            ]
          },
          "metadata": {}
        },
        {
          "output_type": "stream",
          "name": "stdout",
          "text": [
            "\n"
          ]
        },
        {
          "output_type": "display_data",
          "data": {
            "text/html": [
              "<div style=\"display:flex;flex-direction:row;\"><span>Epoch: 37/280. Iteration: 87/87. Cls loss: 0.06323. Reg loss: 0.20681. Batch loss: 0.27003 Total loss: 0.25443</span><progress style='margin:2px 4px;description_width:initial;' max='87' value='87'></progress>100% 87/87 [01:46&lt;00:00,  1.21s/it]</div>"
            ],
            "text/plain": [
              "<tqdm._fake_ipywidgets.HBox object>"
            ]
          },
          "metadata": {}
        },
        {
          "output_type": "stream",
          "name": "stdout",
          "text": [
            "\n"
          ]
        },
        {
          "output_type": "display_data",
          "data": {
            "text/html": [
              "<div style=\"display:flex;flex-direction:row;\"><span>Epoch: 38/280. Iteration: 87/87. Cls loss: 0.03661. Reg loss: 0.14104. Batch loss: 0.17766 Total loss: 0.24674</span><progress style='margin:2px 4px;description_width:initial;' max='87' value='87'></progress>100% 87/87 [01:46&lt;00:00,  1.21s/it]</div>"
            ],
            "text/plain": [
              "<tqdm._fake_ipywidgets.HBox object>"
            ]
          },
          "metadata": {}
        },
        {
          "output_type": "stream",
          "name": "stdout",
          "text": [
            "\n"
          ]
        },
        {
          "output_type": "display_data",
          "data": {
            "text/html": [
              "<div style=\"display:flex;flex-direction:row;\"><span>Epoch: 39/280. Iteration: 87/87. Cls loss: 0.05528. Reg loss: 0.19516. Batch loss: 0.25044 Total loss: 0.23914</span><progress style='margin:2px 4px;description_width:initial;' max='87' value='87'></progress>100% 87/87 [01:46&lt;00:00,  1.21s/it]</div>"
            ],
            "text/plain": [
              "<tqdm._fake_ipywidgets.HBox object>"
            ]
          },
          "metadata": {}
        },
        {
          "output_type": "stream",
          "name": "stdout",
          "text": [
            "\n",
            "faild onnx export\n"
          ]
        },
        {
          "output_type": "display_data",
          "data": {
            "text/html": [
              "<div style=\"display:flex;flex-direction:row;\"><span>Epoch: 40/280. Iteration: 87/87. Cls loss: 0.10643. Reg loss: 0.19806. Batch loss: 0.30449 Total loss: 0.23691</span><progress style='margin:2px 4px;description_width:initial;' max='87' value='87'></progress>100% 87/87 [01:43&lt;00:00,  1.18s/it]</div>"
            ],
            "text/plain": [
              "<tqdm._fake_ipywidgets.HBox object>"
            ]
          },
          "metadata": {}
        },
        {
          "output_type": "stream",
          "name": "stdout",
          "text": [
            "\n"
          ]
        },
        {
          "output_type": "display_data",
          "data": {
            "text/html": [
              "<div style=\"display:flex;flex-direction:row;\"><span>Epoch: 41/280. Iteration: 87/87. Cls loss: 0.04667. Reg loss: 0.15884. Batch loss: 0.20551 Total loss: 0.23321</span><progress style='margin:2px 4px;description_width:initial;' max='87' value='87'></progress>100% 87/87 [01:46&lt;00:00,  1.21s/it]</div>"
            ],
            "text/plain": [
              "<tqdm._fake_ipywidgets.HBox object>"
            ]
          },
          "metadata": {}
        },
        {
          "output_type": "stream",
          "name": "stdout",
          "text": [
            "\n",
            "faild onnx export\n"
          ]
        },
        {
          "output_type": "display_data",
          "data": {
            "text/html": [
              "<div style=\"display:flex;flex-direction:row;\"><span>Epoch: 42/280. Iteration: 87/87. Cls loss: 0.05385. Reg loss: 0.16853. Batch loss: 0.22238 Total loss: 0.22689</span><progress style='margin:2px 4px;description_width:initial;' max='87' value='87'></progress>100% 87/87 [01:43&lt;00:00,  1.18s/it]</div>"
            ],
            "text/plain": [
              "<tqdm._fake_ipywidgets.HBox object>"
            ]
          },
          "metadata": {}
        },
        {
          "output_type": "stream",
          "name": "stdout",
          "text": [
            "\n"
          ]
        },
        {
          "output_type": "display_data",
          "data": {
            "text/html": [
              "<div style=\"display:flex;flex-direction:row;\"><span>Epoch: 43/280. Iteration: 87/87. Cls loss: 0.06272. Reg loss: 0.16600. Batch loss: 0.22872 Total loss: 0.23338</span><progress style='margin:2px 4px;description_width:initial;' max='87' value='87'></progress>100% 87/87 [01:46&lt;00:00,  1.21s/it]</div>"
            ],
            "text/plain": [
              "<tqdm._fake_ipywidgets.HBox object>"
            ]
          },
          "metadata": {}
        },
        {
          "output_type": "stream",
          "name": "stdout",
          "text": [
            "\n"
          ]
        },
        {
          "output_type": "display_data",
          "data": {
            "text/html": [
              "<div style=\"display:flex;flex-direction:row;\"><span>Epoch: 44/280. Iteration: 87/87. Cls loss: 0.03960. Reg loss: 0.14447. Batch loss: 0.18407 Total loss: 0.21402</span><progress style='margin:2px 4px;description_width:initial;' max='87' value='87'></progress>100% 87/87 [01:46&lt;00:00,  1.21s/it]</div>"
            ],
            "text/plain": [
              "<tqdm._fake_ipywidgets.HBox object>"
            ]
          },
          "metadata": {}
        },
        {
          "output_type": "stream",
          "name": "stdout",
          "text": [
            "\n"
          ]
        },
        {
          "output_type": "display_data",
          "data": {
            "text/html": [
              "<div style=\"display:flex;flex-direction:row;\"><span>Epoch: 45/280. Iteration: 87/87. Cls loss: 0.05747. Reg loss: 0.16857. Batch loss: 0.22604 Total loss: 0.21312</span><progress style='margin:2px 4px;description_width:initial;' max='87' value='87'></progress>100% 87/87 [01:46&lt;00:00,  1.21s/it]</div>"
            ],
            "text/plain": [
              "<tqdm._fake_ipywidgets.HBox object>"
            ]
          },
          "metadata": {}
        },
        {
          "output_type": "stream",
          "name": "stdout",
          "text": [
            "\n"
          ]
        },
        {
          "output_type": "display_data",
          "data": {
            "text/html": [
              "<div style=\"display:flex;flex-direction:row;\"><span>Epoch: 46/280. Iteration: 87/87. Cls loss: 0.07207. Reg loss: 0.19316. Batch loss: 0.26523 Total loss: 0.21522</span><progress style='margin:2px 4px;description_width:initial;' max='87' value='87'></progress>100% 87/87 [01:46&lt;00:00,  1.21s/it]</div>"
            ],
            "text/plain": [
              "<tqdm._fake_ipywidgets.HBox object>"
            ]
          },
          "metadata": {}
        },
        {
          "output_type": "stream",
          "name": "stdout",
          "text": [
            "\n"
          ]
        },
        {
          "output_type": "display_data",
          "data": {
            "text/html": [
              "<div style=\"display:flex;flex-direction:row;\"><span>Epoch: 47/280. Iteration: 87/87. Cls loss: 0.05898. Reg loss: 0.15026. Batch loss: 0.20925 Total loss: 0.21086</span><progress style='margin:2px 4px;description_width:initial;' max='87' value='87'></progress>100% 87/87 [01:46&lt;00:00,  1.21s/it]</div>"
            ],
            "text/plain": [
              "<tqdm._fake_ipywidgets.HBox object>"
            ]
          },
          "metadata": {}
        },
        {
          "output_type": "stream",
          "name": "stdout",
          "text": [
            "\n"
          ]
        },
        {
          "output_type": "display_data",
          "data": {
            "text/html": [
              "<div style=\"display:flex;flex-direction:row;\"><span>Epoch: 48/280. Iteration: 87/87. Cls loss: 0.04997. Reg loss: 0.22505. Batch loss: 0.27502 Total loss: 0.20819</span><progress style='margin:2px 4px;description_width:initial;' max='87' value='87'></progress>100% 87/87 [01:46&lt;00:00,  1.21s/it]</div>"
            ],
            "text/plain": [
              "<tqdm._fake_ipywidgets.HBox object>"
            ]
          },
          "metadata": {}
        },
        {
          "output_type": "stream",
          "name": "stdout",
          "text": [
            "\n"
          ]
        },
        {
          "output_type": "display_data",
          "data": {
            "text/html": [
              "<div style=\"display:flex;flex-direction:row;\"><span>Epoch: 49/280. Iteration: 87/87. Cls loss: 0.07091. Reg loss: 0.22963. Batch loss: 0.30054 Total loss: 0.19806</span><progress style='margin:2px 4px;description_width:initial;' max='87' value='87'></progress>100% 87/87 [01:46&lt;00:00,  1.21s/it]</div>"
            ],
            "text/plain": [
              "<tqdm._fake_ipywidgets.HBox object>"
            ]
          },
          "metadata": {}
        },
        {
          "output_type": "stream",
          "name": "stdout",
          "text": [
            "\n"
          ]
        },
        {
          "output_type": "display_data",
          "data": {
            "text/html": [
              "<div style=\"display:flex;flex-direction:row;\"><span>Epoch: 50/280. Iteration: 87/87. Cls loss: 0.05809. Reg loss: 0.19427. Batch loss: 0.25236 Total loss: 0.19665</span><progress style='margin:2px 4px;description_width:initial;' max='87' value='87'></progress>100% 87/87 [01:45&lt;00:00,  1.21s/it]</div>"
            ],
            "text/plain": [
              "<tqdm._fake_ipywidgets.HBox object>"
            ]
          },
          "metadata": {}
        },
        {
          "output_type": "stream",
          "name": "stdout",
          "text": [
            "\n"
          ]
        },
        {
          "output_type": "display_data",
          "data": {
            "text/html": [
              "<div style=\"display:flex;flex-direction:row;\"><span>Epoch: 51/280. Iteration: 87/87. Cls loss: 0.03785. Reg loss: 0.13400. Batch loss: 0.17185 Total loss: 0.19255</span><progress style='margin:2px 4px;description_width:initial;' max='87' value='87'></progress>100% 87/87 [01:46&lt;00:00,  1.21s/it]</div>"
            ],
            "text/plain": [
              "<tqdm._fake_ipywidgets.HBox object>"
            ]
          },
          "metadata": {}
        },
        {
          "output_type": "stream",
          "name": "stdout",
          "text": [
            "\n"
          ]
        },
        {
          "output_type": "display_data",
          "data": {
            "text/html": [
              "<div style=\"display:flex;flex-direction:row;\"><span>Epoch: 52/280. Iteration: 87/87. Cls loss: 0.04702. Reg loss: 0.13143. Batch loss: 0.17845 Total loss: 0.19177</span><progress style='margin:2px 4px;description_width:initial;' max='87' value='87'></progress>100% 87/87 [01:46&lt;00:00,  1.21s/it]</div>"
            ],
            "text/plain": [
              "<tqdm._fake_ipywidgets.HBox object>"
            ]
          },
          "metadata": {}
        },
        {
          "output_type": "stream",
          "name": "stdout",
          "text": [
            "\n"
          ]
        },
        {
          "output_type": "display_data",
          "data": {
            "text/html": [
              "<div style=\"display:flex;flex-direction:row;\"><span>Epoch: 53/280. Iteration: 87/87. Cls loss: 0.06868. Reg loss: 0.19462. Batch loss: 0.26330 Total loss: 0.18846</span><progress style='margin:2px 4px;description_width:initial;' max='87' value='87'></progress>100% 87/87 [01:46&lt;00:00,  1.21s/it]</div>"
            ],
            "text/plain": [
              "<tqdm._fake_ipywidgets.HBox object>"
            ]
          },
          "metadata": {}
        },
        {
          "output_type": "stream",
          "name": "stdout",
          "text": [
            "\n"
          ]
        },
        {
          "output_type": "display_data",
          "data": {
            "text/html": [
              "<div style=\"display:flex;flex-direction:row;\"><span>Epoch: 54/280. Iteration: 87/87. Cls loss: 0.03538. Reg loss: 0.13753. Batch loss: 0.17291 Total loss: 0.18698</span><progress style='margin:2px 4px;description_width:initial;' max='87' value='87'></progress>100% 87/87 [01:46&lt;00:00,  1.21s/it]</div>"
            ],
            "text/plain": [
              "<tqdm._fake_ipywidgets.HBox object>"
            ]
          },
          "metadata": {}
        },
        {
          "output_type": "stream",
          "name": "stdout",
          "text": [
            "\n"
          ]
        },
        {
          "output_type": "display_data",
          "data": {
            "text/html": [
              "<div style=\"display:flex;flex-direction:row;\"><span>Epoch: 55/280. Iteration: 87/87. Cls loss: 0.03128. Reg loss: 0.14613. Batch loss: 0.17741 Total loss: 0.18622</span><progress style='margin:2px 4px;description_width:initial;' max='87' value='87'></progress>100% 87/87 [01:46&lt;00:00,  1.21s/it]</div>"
            ],
            "text/plain": [
              "<tqdm._fake_ipywidgets.HBox object>"
            ]
          },
          "metadata": {}
        },
        {
          "output_type": "stream",
          "name": "stdout",
          "text": [
            "\n"
          ]
        },
        {
          "output_type": "display_data",
          "data": {
            "text/html": [
              "<div style=\"display:flex;flex-direction:row;\"><span>Epoch: 56/280. Iteration: 87/87. Cls loss: 0.03986. Reg loss: 0.18486. Batch loss: 0.22472 Total loss: 0.18181</span><progress style='margin:2px 4px;description_width:initial;' max='87' value='87'></progress>100% 87/87 [01:46&lt;00:00,  1.21s/it]</div>"
            ],
            "text/plain": [
              "<tqdm._fake_ipywidgets.HBox object>"
            ]
          },
          "metadata": {}
        },
        {
          "output_type": "stream",
          "name": "stdout",
          "text": [
            "\n"
          ]
        },
        {
          "output_type": "display_data",
          "data": {
            "text/html": [
              "<div style=\"display:flex;flex-direction:row;\"><span>Epoch: 57/280. Iteration: 87/87. Cls loss: 0.03567. Reg loss: 0.14864. Batch loss: 0.18431 Total loss: 0.17875</span><progress style='margin:2px 4px;description_width:initial;' max='87' value='87'></progress>100% 87/87 [01:46&lt;00:00,  1.21s/it]</div>"
            ],
            "text/plain": [
              "<tqdm._fake_ipywidgets.HBox object>"
            ]
          },
          "metadata": {}
        },
        {
          "output_type": "stream",
          "name": "stdout",
          "text": [
            "\n"
          ]
        },
        {
          "output_type": "display_data",
          "data": {
            "text/html": [
              "<div style=\"display:flex;flex-direction:row;\"><span>Epoch: 58/280. Iteration: 87/87. Cls loss: 0.03475. Reg loss: 0.14218. Batch loss: 0.17693 Total loss: 0.17403</span><progress style='margin:2px 4px;description_width:initial;' max='87' value='87'></progress>100% 87/87 [01:46&lt;00:00,  1.21s/it]</div>"
            ],
            "text/plain": [
              "<tqdm._fake_ipywidgets.HBox object>"
            ]
          },
          "metadata": {}
        },
        {
          "output_type": "stream",
          "name": "stdout",
          "text": [
            "\n"
          ]
        },
        {
          "output_type": "display_data",
          "data": {
            "text/html": [
              "<div style=\"display:flex;flex-direction:row;\"><span>Epoch: 59/280. Iteration: 87/87. Cls loss: 0.02142. Reg loss: 0.09271. Batch loss: 0.11413 Total loss: 0.17367</span><progress style='margin:2px 4px;description_width:initial;' max='87' value='87'></progress>100% 87/87 [01:46&lt;00:00,  1.21s/it]</div>"
            ],
            "text/plain": [
              "<tqdm._fake_ipywidgets.HBox object>"
            ]
          },
          "metadata": {}
        },
        {
          "output_type": "stream",
          "name": "stdout",
          "text": [
            "\n"
          ]
        },
        {
          "output_type": "display_data",
          "data": {
            "text/html": [
              "<div style=\"display:flex;flex-direction:row;\"><span>Epoch: 60/280. Iteration: 87/87. Cls loss: 0.02422. Reg loss: 0.16685. Batch loss: 0.19106 Total loss: 0.17395</span><progress style='margin:2px 4px;description_width:initial;' max='87' value='87'></progress>100% 87/87 [01:46&lt;00:00,  1.21s/it]</div>"
            ],
            "text/plain": [
              "<tqdm._fake_ipywidgets.HBox object>"
            ]
          },
          "metadata": {}
        },
        {
          "output_type": "stream",
          "name": "stdout",
          "text": [
            "\n",
            "faild onnx export\n"
          ]
        },
        {
          "output_type": "display_data",
          "data": {
            "text/html": [
              "<div style=\"display:flex;flex-direction:row;\"><span>Epoch: 61/280. Iteration: 87/87. Cls loss: 0.02286. Reg loss: 0.11483. Batch loss: 0.13769 Total loss: 0.16858</span><progress style='margin:2px 4px;description_width:initial;' max='87' value='87'></progress>100% 87/87 [01:43&lt;00:00,  1.18s/it]</div>"
            ],
            "text/plain": [
              "<tqdm._fake_ipywidgets.HBox object>"
            ]
          },
          "metadata": {}
        },
        {
          "output_type": "stream",
          "name": "stdout",
          "text": [
            "\n"
          ]
        },
        {
          "output_type": "display_data",
          "data": {
            "text/html": [
              "<div style=\"display:flex;flex-direction:row;\"><span>Epoch: 62/280. Iteration: 87/87. Cls loss: 0.03506. Reg loss: 0.14280. Batch loss: 0.17786 Total loss: 0.16439</span><progress style='margin:2px 4px;description_width:initial;' max='87' value='87'></progress>100% 87/87 [01:46&lt;00:00,  1.21s/it]</div>"
            ],
            "text/plain": [
              "<tqdm._fake_ipywidgets.HBox object>"
            ]
          },
          "metadata": {}
        },
        {
          "output_type": "stream",
          "name": "stdout",
          "text": [
            "\n"
          ]
        },
        {
          "output_type": "display_data",
          "data": {
            "text/html": [
              "<div style=\"display:flex;flex-direction:row;\"><span>Epoch: 63/280. Iteration: 87/87. Cls loss: 0.01667. Reg loss: 0.12426. Batch loss: 0.14093 Total loss: 0.15641</span><progress style='margin:2px 4px;description_width:initial;' max='87' value='87'></progress>100% 87/87 [01:46&lt;00:00,  1.21s/it]</div>"
            ],
            "text/plain": [
              "<tqdm._fake_ipywidgets.HBox object>"
            ]
          },
          "metadata": {}
        },
        {
          "output_type": "stream",
          "name": "stdout",
          "text": [
            "\n"
          ]
        },
        {
          "output_type": "display_data",
          "data": {
            "text/html": [
              "<div style=\"display:flex;flex-direction:row;\"><span>Epoch: 64/280. Iteration: 87/87. Cls loss: 0.02458. Reg loss: 0.16650. Batch loss: 0.19107 Total loss: 0.15896</span><progress style='margin:2px 4px;description_width:initial;' max='87' value='87'></progress>100% 87/87 [01:46&lt;00:00,  1.21s/it]</div>"
            ],
            "text/plain": [
              "<tqdm._fake_ipywidgets.HBox object>"
            ]
          },
          "metadata": {}
        },
        {
          "output_type": "stream",
          "name": "stdout",
          "text": [
            "\n"
          ]
        },
        {
          "output_type": "display_data",
          "data": {
            "text/html": [
              "<div style=\"display:flex;flex-direction:row;\"><span>Epoch: 65/280. Iteration: 87/87. Cls loss: 0.01827. Reg loss: 0.13228. Batch loss: 0.15056 Total loss: 0.16370</span><progress style='margin:2px 4px;description_width:initial;' max='87' value='87'></progress>100% 87/87 [01:46&lt;00:00,  1.21s/it]</div>"
            ],
            "text/plain": [
              "<tqdm._fake_ipywidgets.HBox object>"
            ]
          },
          "metadata": {}
        },
        {
          "output_type": "stream",
          "name": "stdout",
          "text": [
            "\n"
          ]
        },
        {
          "output_type": "display_data",
          "data": {
            "text/html": [
              "<div style=\"display:flex;flex-direction:row;\"><span>Epoch: 66/280. Iteration: 87/87. Cls loss: 0.01885. Reg loss: 0.10576. Batch loss: 0.12461 Total loss: 0.15529</span><progress style='margin:2px 4px;description_width:initial;' max='87' value='87'></progress>100% 87/87 [01:46&lt;00:00,  1.21s/it]</div>"
            ],
            "text/plain": [
              "<tqdm._fake_ipywidgets.HBox object>"
            ]
          },
          "metadata": {}
        },
        {
          "output_type": "stream",
          "name": "stdout",
          "text": [
            "\n"
          ]
        },
        {
          "output_type": "display_data",
          "data": {
            "text/html": [
              "<div style=\"display:flex;flex-direction:row;\"><span>Epoch: 67/280. Iteration: 87/87. Cls loss: 0.02383. Reg loss: 0.12111. Batch loss: 0.14494 Total loss: 0.15343</span><progress style='margin:2px 4px;description_width:initial;' max='87' value='87'></progress>100% 87/87 [01:46&lt;00:00,  1.21s/it]</div>"
            ],
            "text/plain": [
              "<tqdm._fake_ipywidgets.HBox object>"
            ]
          },
          "metadata": {}
        },
        {
          "output_type": "stream",
          "name": "stdout",
          "text": [
            "\n"
          ]
        },
        {
          "output_type": "display_data",
          "data": {
            "text/html": [
              "<div style=\"display:flex;flex-direction:row;\"><span>Epoch: 68/280. Iteration: 87/87. Cls loss: 0.02174. Reg loss: 0.09409. Batch loss: 0.11583 Total loss: 0.15974</span><progress style='margin:2px 4px;description_width:initial;' max='87' value='87'></progress>100% 87/87 [01:46&lt;00:00,  1.21s/it]</div>"
            ],
            "text/plain": [
              "<tqdm._fake_ipywidgets.HBox object>"
            ]
          },
          "metadata": {}
        },
        {
          "output_type": "stream",
          "name": "stdout",
          "text": [
            "\n"
          ]
        },
        {
          "output_type": "display_data",
          "data": {
            "text/html": [
              "<div style=\"display:flex;flex-direction:row;\"><span>Epoch: 69/280. Iteration: 87/87. Cls loss: 0.01023. Reg loss: 0.08340. Batch loss: 0.09363 Total loss: 0.15356</span><progress style='margin:2px 4px;description_width:initial;' max='87' value='87'></progress>100% 87/87 [01:46&lt;00:00,  1.21s/it]</div>"
            ],
            "text/plain": [
              "<tqdm._fake_ipywidgets.HBox object>"
            ]
          },
          "metadata": {}
        },
        {
          "output_type": "stream",
          "name": "stdout",
          "text": [
            "\n"
          ]
        },
        {
          "output_type": "display_data",
          "data": {
            "text/html": [
              "<div style=\"display:flex;flex-direction:row;\"><span>Epoch: 70/280. Iteration: 87/87. Cls loss: 0.02816. Reg loss: 0.14752. Batch loss: 0.17567 Total loss: 0.14695</span><progress style='margin:2px 4px;description_width:initial;' max='87' value='87'></progress>100% 87/87 [01:46&lt;00:00,  1.21s/it]</div>"
            ],
            "text/plain": [
              "<tqdm._fake_ipywidgets.HBox object>"
            ]
          },
          "metadata": {}
        },
        {
          "output_type": "stream",
          "name": "stdout",
          "text": [
            "\n"
          ]
        },
        {
          "output_type": "display_data",
          "data": {
            "text/html": [
              "<div style=\"display:flex;flex-direction:row;\"><span>Epoch: 71/280. Iteration: 87/87. Cls loss: 0.01460. Reg loss: 0.10377. Batch loss: 0.11838 Total loss: 0.14736</span><progress style='margin:2px 4px;description_width:initial;' max='87' value='87'></progress>100% 87/87 [01:46&lt;00:00,  1.21s/it]</div>"
            ],
            "text/plain": [
              "<tqdm._fake_ipywidgets.HBox object>"
            ]
          },
          "metadata": {}
        },
        {
          "output_type": "stream",
          "name": "stdout",
          "text": [
            "\n"
          ]
        },
        {
          "output_type": "display_data",
          "data": {
            "text/html": [
              "<div style=\"display:flex;flex-direction:row;\"><span>Epoch: 72/280. Iteration: 87/87. Cls loss: 0.02149. Reg loss: 0.09416. Batch loss: 0.11565 Total loss: 0.15247</span><progress style='margin:2px 4px;description_width:initial;' max='87' value='87'></progress>100% 87/87 [01:46&lt;00:00,  1.21s/it]</div>"
            ],
            "text/plain": [
              "<tqdm._fake_ipywidgets.HBox object>"
            ]
          },
          "metadata": {}
        },
        {
          "output_type": "stream",
          "name": "stdout",
          "text": [
            "\n"
          ]
        },
        {
          "output_type": "display_data",
          "data": {
            "text/html": [
              "<div style=\"display:flex;flex-direction:row;\"><span>Epoch: 73/280. Iteration: 87/87. Cls loss: 0.01472. Reg loss: 0.07900. Batch loss: 0.09372 Total loss: 0.14165</span><progress style='margin:2px 4px;description_width:initial;' max='87' value='87'></progress>100% 87/87 [01:46&lt;00:00,  1.21s/it]</div>"
            ],
            "text/plain": [
              "<tqdm._fake_ipywidgets.HBox object>"
            ]
          },
          "metadata": {}
        },
        {
          "output_type": "stream",
          "name": "stdout",
          "text": [
            "\n"
          ]
        },
        {
          "output_type": "display_data",
          "data": {
            "text/html": [
              "<div style=\"display:flex;flex-direction:row;\"><span>Epoch: 74/280. Iteration: 87/87. Cls loss: 0.02808. Reg loss: 0.12629. Batch loss: 0.15436 Total loss: 0.14417</span><progress style='margin:2px 4px;description_width:initial;' max='87' value='87'></progress>100% 87/87 [01:46&lt;00:00,  1.21s/it]</div>"
            ],
            "text/plain": [
              "<tqdm._fake_ipywidgets.HBox object>"
            ]
          },
          "metadata": {}
        },
        {
          "output_type": "stream",
          "name": "stdout",
          "text": [
            "\n"
          ]
        },
        {
          "output_type": "display_data",
          "data": {
            "text/html": [
              "<div style=\"display:flex;flex-direction:row;\"><span>Epoch: 75/280. Iteration: 87/87. Cls loss: 0.02512. Reg loss: 0.11673. Batch loss: 0.14185 Total loss: 0.13967</span><progress style='margin:2px 4px;description_width:initial;' max='87' value='87'></progress>100% 87/87 [01:46&lt;00:00,  1.21s/it]</div>"
            ],
            "text/plain": [
              "<tqdm._fake_ipywidgets.HBox object>"
            ]
          },
          "metadata": {}
        },
        {
          "output_type": "stream",
          "name": "stdout",
          "text": [
            "\n"
          ]
        },
        {
          "output_type": "display_data",
          "data": {
            "text/html": [
              "<div style=\"display:flex;flex-direction:row;\"><span>Epoch: 76/280. Iteration: 87/87. Cls loss: 0.02825. Reg loss: 0.11667. Batch loss: 0.14492 Total loss: 0.14020</span><progress style='margin:2px 4px;description_width:initial;' max='87' value='87'></progress>100% 87/87 [01:46&lt;00:00,  1.21s/it]</div>"
            ],
            "text/plain": [
              "<tqdm._fake_ipywidgets.HBox object>"
            ]
          },
          "metadata": {}
        },
        {
          "output_type": "stream",
          "name": "stdout",
          "text": [
            "\n"
          ]
        },
        {
          "output_type": "display_data",
          "data": {
            "text/html": [
              "<div style=\"display:flex;flex-direction:row;\"><span>Epoch: 77/280. Iteration: 87/87. Cls loss: 0.02087. Reg loss: 0.08684. Batch loss: 0.10771 Total loss: 0.13559</span><progress style='margin:2px 4px;description_width:initial;' max='87' value='87'></progress>100% 87/87 [01:46&lt;00:00,  1.21s/it]</div>"
            ],
            "text/plain": [
              "<tqdm._fake_ipywidgets.HBox object>"
            ]
          },
          "metadata": {}
        },
        {
          "output_type": "stream",
          "name": "stdout",
          "text": [
            "\n"
          ]
        },
        {
          "output_type": "display_data",
          "data": {
            "text/html": [
              "<div style=\"display:flex;flex-direction:row;\"><span>Epoch: 78/280. Iteration: 87/87. Cls loss: 0.02105. Reg loss: 0.12145. Batch loss: 0.14250 Total loss: 0.13524</span><progress style='margin:2px 4px;description_width:initial;' max='87' value='87'></progress>100% 87/87 [01:46&lt;00:00,  1.21s/it]</div>"
            ],
            "text/plain": [
              "<tqdm._fake_ipywidgets.HBox object>"
            ]
          },
          "metadata": {}
        },
        {
          "output_type": "stream",
          "name": "stdout",
          "text": [
            "\n"
          ]
        },
        {
          "output_type": "display_data",
          "data": {
            "text/html": [
              "<div style=\"display:flex;flex-direction:row;\"><span>Epoch: 79/280. Iteration: 87/87. Cls loss: 0.02006. Reg loss: 0.12562. Batch loss: 0.14568 Total loss: 0.13432</span><progress style='margin:2px 4px;description_width:initial;' max='87' value='87'></progress>100% 87/87 [01:46&lt;00:00,  1.21s/it]</div>"
            ],
            "text/plain": [
              "<tqdm._fake_ipywidgets.HBox object>"
            ]
          },
          "metadata": {}
        },
        {
          "output_type": "stream",
          "name": "stdout",
          "text": [
            "\n"
          ]
        },
        {
          "output_type": "display_data",
          "data": {
            "text/html": [
              "<div style=\"display:flex;flex-direction:row;\"><span>Epoch: 80/280. Iteration: 87/87. Cls loss: 0.02001. Reg loss: 0.11573. Batch loss: 0.13573 Total loss: 0.13277</span><progress style='margin:2px 4px;description_width:initial;' max='87' value='87'></progress>100% 87/87 [01:46&lt;00:00,  1.21s/it]</div>"
            ],
            "text/plain": [
              "<tqdm._fake_ipywidgets.HBox object>"
            ]
          },
          "metadata": {}
        },
        {
          "output_type": "stream",
          "name": "stdout",
          "text": [
            "\n"
          ]
        },
        {
          "output_type": "display_data",
          "data": {
            "text/html": [
              "<div style=\"display:flex;flex-direction:row;\"><span>Epoch: 81/280. Iteration: 87/87. Cls loss: 0.02541. Reg loss: 0.11996. Batch loss: 0.14537 Total loss: 0.13400</span><progress style='margin:2px 4px;description_width:initial;' max='87' value='87'></progress>100% 87/87 [01:46&lt;00:00,  1.21s/it]</div>"
            ],
            "text/plain": [
              "<tqdm._fake_ipywidgets.HBox object>"
            ]
          },
          "metadata": {}
        },
        {
          "output_type": "stream",
          "name": "stdout",
          "text": [
            "\n"
          ]
        },
        {
          "output_type": "display_data",
          "data": {
            "text/html": [
              "<div style=\"display:flex;flex-direction:row;\"><span>Epoch: 82/280. Iteration: 87/87. Cls loss: 0.00999. Reg loss: 0.08343. Batch loss: 0.09343 Total loss: 0.13179</span><progress style='margin:2px 4px;description_width:initial;' max='87' value='87'></progress>100% 87/87 [01:46&lt;00:00,  1.21s/it]</div>"
            ],
            "text/plain": [
              "<tqdm._fake_ipywidgets.HBox object>"
            ]
          },
          "metadata": {}
        },
        {
          "output_type": "stream",
          "name": "stdout",
          "text": [
            "\n",
            "faild onnx export\n"
          ]
        },
        {
          "output_type": "display_data",
          "data": {
            "text/html": [
              "<div style=\"display:flex;flex-direction:row;\"><span>Epoch: 83/280. Iteration: 87/87. Cls loss: 0.03403. Reg loss: 0.13605. Batch loss: 0.17008 Total loss: 0.12913</span><progress style='margin:2px 4px;description_width:initial;' max='87' value='87'></progress>100% 87/87 [01:43&lt;00:00,  1.18s/it]</div>"
            ],
            "text/plain": [
              "<tqdm._fake_ipywidgets.HBox object>"
            ]
          },
          "metadata": {}
        },
        {
          "output_type": "stream",
          "name": "stdout",
          "text": [
            "\n",
            "faild onnx export\n"
          ]
        },
        {
          "output_type": "display_data",
          "data": {
            "text/html": [
              "<div style=\"display:flex;flex-direction:row;\"><span>Epoch: 84/280. Iteration: 87/87. Cls loss: 0.01329. Reg loss: 0.08210. Batch loss: 0.09538 Total loss: 0.12572</span><progress style='margin:2px 4px;description_width:initial;' max='87' value='87'></progress>100% 87/87 [01:43&lt;00:00,  1.18s/it]</div>"
            ],
            "text/plain": [
              "<tqdm._fake_ipywidgets.HBox object>"
            ]
          },
          "metadata": {}
        },
        {
          "output_type": "stream",
          "name": "stdout",
          "text": [
            "\n"
          ]
        },
        {
          "output_type": "display_data",
          "data": {
            "text/html": [
              "<div style=\"display:flex;flex-direction:row;\"><span>Epoch: 85/280. Iteration: 87/87. Cls loss: 0.01964. Reg loss: 0.13020. Batch loss: 0.14985 Total loss: 0.12809</span><progress style='margin:2px 4px;description_width:initial;' max='87' value='87'></progress>100% 87/87 [01:46&lt;00:00,  1.21s/it]</div>"
            ],
            "text/plain": [
              "<tqdm._fake_ipywidgets.HBox object>"
            ]
          },
          "metadata": {}
        },
        {
          "output_type": "stream",
          "name": "stdout",
          "text": [
            "\n"
          ]
        },
        {
          "output_type": "display_data",
          "data": {
            "text/html": [
              "<div style=\"display:flex;flex-direction:row;\"><span>Epoch: 86/280. Iteration: 87/87. Cls loss: 0.01553. Reg loss: 0.10550. Batch loss: 0.12103 Total loss: 0.12334</span><progress style='margin:2px 4px;description_width:initial;' max='87' value='87'></progress>100% 87/87 [01:46&lt;00:00,  1.21s/it]</div>"
            ],
            "text/plain": [
              "<tqdm._fake_ipywidgets.HBox object>"
            ]
          },
          "metadata": {}
        },
        {
          "output_type": "stream",
          "name": "stdout",
          "text": [
            "\n"
          ]
        },
        {
          "output_type": "display_data",
          "data": {
            "text/html": [
              "<div style=\"display:flex;flex-direction:row;\"><span>Epoch: 87/280. Iteration: 87/87. Cls loss: 0.02823. Reg loss: 0.08253. Batch loss: 0.11075 Total loss: 0.12704</span><progress style='margin:2px 4px;description_width:initial;' max='87' value='87'></progress>100% 87/87 [01:46&lt;00:00,  1.21s/it]</div>"
            ],
            "text/plain": [
              "<tqdm._fake_ipywidgets.HBox object>"
            ]
          },
          "metadata": {}
        },
        {
          "output_type": "stream",
          "name": "stdout",
          "text": [
            "\n"
          ]
        },
        {
          "output_type": "display_data",
          "data": {
            "text/html": [
              "<div style=\"display:flex;flex-direction:row;\"><span>Epoch: 88/280. Iteration: 87/87. Cls loss: 0.01632. Reg loss: 0.08461. Batch loss: 0.10093 Total loss: 0.12432</span><progress style='margin:2px 4px;description_width:initial;' max='87' value='87'></progress>100% 87/87 [01:46&lt;00:00,  1.21s/it]</div>"
            ],
            "text/plain": [
              "<tqdm._fake_ipywidgets.HBox object>"
            ]
          },
          "metadata": {}
        },
        {
          "output_type": "stream",
          "name": "stdout",
          "text": [
            "\n"
          ]
        },
        {
          "output_type": "display_data",
          "data": {
            "text/html": [
              "<div style=\"display:flex;flex-direction:row;\"><span>Epoch: 89/280. Iteration: 87/87. Cls loss: 0.01980. Reg loss: 0.07153. Batch loss: 0.09133 Total loss: 0.12464</span><progress style='margin:2px 4px;description_width:initial;' max='87' value='87'></progress>100% 87/87 [01:46&lt;00:00,  1.21s/it]</div>"
            ],
            "text/plain": [
              "<tqdm._fake_ipywidgets.HBox object>"
            ]
          },
          "metadata": {}
        },
        {
          "output_type": "stream",
          "name": "stdout",
          "text": [
            "\n"
          ]
        },
        {
          "output_type": "display_data",
          "data": {
            "text/html": [
              "<div style=\"display:flex;flex-direction:row;\"><span>Epoch: 90/280. Iteration: 87/87. Cls loss: 0.00966. Reg loss: 0.10264. Batch loss: 0.11230 Total loss: 0.11907</span><progress style='margin:2px 4px;description_width:initial;' max='87' value='87'></progress>100% 87/87 [01:46&lt;00:00,  1.21s/it]</div>"
            ],
            "text/plain": [
              "<tqdm._fake_ipywidgets.HBox object>"
            ]
          },
          "metadata": {}
        },
        {
          "output_type": "stream",
          "name": "stdout",
          "text": [
            "\n"
          ]
        },
        {
          "output_type": "display_data",
          "data": {
            "text/html": [
              "<div style=\"display:flex;flex-direction:row;\"><span>Epoch: 91/280. Iteration: 87/87. Cls loss: 0.01941. Reg loss: 0.11908. Batch loss: 0.13849 Total loss: 0.11973</span><progress style='margin:2px 4px;description_width:initial;' max='87' value='87'></progress>100% 87/87 [01:46&lt;00:00,  1.21s/it]</div>"
            ],
            "text/plain": [
              "<tqdm._fake_ipywidgets.HBox object>"
            ]
          },
          "metadata": {}
        },
        {
          "output_type": "stream",
          "name": "stdout",
          "text": [
            "\n"
          ]
        },
        {
          "output_type": "display_data",
          "data": {
            "text/html": [
              "<div style=\"display:flex;flex-direction:row;\"><span>Epoch: 92/280. Iteration: 87/87. Cls loss: 0.00847. Reg loss: 0.09709. Batch loss: 0.10557 Total loss: 0.11489</span><progress style='margin:2px 4px;description_width:initial;' max='87' value='87'></progress>100% 87/87 [01:46&lt;00:00,  1.21s/it]</div>"
            ],
            "text/plain": [
              "<tqdm._fake_ipywidgets.HBox object>"
            ]
          },
          "metadata": {}
        },
        {
          "output_type": "stream",
          "name": "stdout",
          "text": [
            "\n"
          ]
        },
        {
          "output_type": "display_data",
          "data": {
            "text/html": [
              "<div style=\"display:flex;flex-direction:row;\"><span>Epoch: 93/280. Iteration: 87/87. Cls loss: 0.01314. Reg loss: 0.09052. Batch loss: 0.10366 Total loss: 0.11429</span><progress style='margin:2px 4px;description_width:initial;' max='87' value='87'></progress>100% 87/87 [01:46&lt;00:00,  1.21s/it]</div>"
            ],
            "text/plain": [
              "<tqdm._fake_ipywidgets.HBox object>"
            ]
          },
          "metadata": {}
        },
        {
          "output_type": "stream",
          "name": "stdout",
          "text": [
            "\n"
          ]
        },
        {
          "output_type": "display_data",
          "data": {
            "text/html": [
              "<div style=\"display:flex;flex-direction:row;\"><span>Epoch: 94/280. Iteration: 87/87. Cls loss: 0.01258. Reg loss: 0.06582. Batch loss: 0.07839 Total loss: 0.11153</span><progress style='margin:2px 4px;description_width:initial;' max='87' value='87'></progress>100% 87/87 [01:46&lt;00:00,  1.21s/it]</div>"
            ],
            "text/plain": [
              "<tqdm._fake_ipywidgets.HBox object>"
            ]
          },
          "metadata": {}
        },
        {
          "output_type": "stream",
          "name": "stdout",
          "text": [
            "\n"
          ]
        },
        {
          "output_type": "display_data",
          "data": {
            "text/html": [
              "<div style=\"display:flex;flex-direction:row;\"><span>Epoch: 95/280. Iteration: 87/87. Cls loss: 0.00676. Reg loss: 0.06326. Batch loss: 0.07002 Total loss: 0.11144</span><progress style='margin:2px 4px;description_width:initial;' max='87' value='87'></progress>100% 87/87 [01:46&lt;00:00,  1.21s/it]</div>"
            ],
            "text/plain": [
              "<tqdm._fake_ipywidgets.HBox object>"
            ]
          },
          "metadata": {}
        },
        {
          "output_type": "stream",
          "name": "stdout",
          "text": [
            "\n"
          ]
        },
        {
          "output_type": "display_data",
          "data": {
            "text/html": [
              "<div style=\"display:flex;flex-direction:row;\"><span>Epoch: 96/280. Iteration: 87/87. Cls loss: 0.01411. Reg loss: 0.08529. Batch loss: 0.09939 Total loss: 0.11437</span><progress style='margin:2px 4px;description_width:initial;' max='87' value='87'></progress>100% 87/87 [01:46&lt;00:00,  1.21s/it]</div>"
            ],
            "text/plain": [
              "<tqdm._fake_ipywidgets.HBox object>"
            ]
          },
          "metadata": {}
        },
        {
          "output_type": "stream",
          "name": "stdout",
          "text": [
            "\n"
          ]
        },
        {
          "output_type": "display_data",
          "data": {
            "text/html": [
              "<div style=\"display:flex;flex-direction:row;\"><span>Epoch: 97/280. Iteration: 87/87. Cls loss: 0.01905. Reg loss: 0.08641. Batch loss: 0.10546 Total loss: 0.11255</span><progress style='margin:2px 4px;description_width:initial;' max='87' value='87'></progress>100% 87/87 [01:46&lt;00:00,  1.22s/it]</div>"
            ],
            "text/plain": [
              "<tqdm._fake_ipywidgets.HBox object>"
            ]
          },
          "metadata": {}
        },
        {
          "output_type": "stream",
          "name": "stdout",
          "text": [
            "\n"
          ]
        },
        {
          "output_type": "display_data",
          "data": {
            "text/html": [
              "<div style=\"display:flex;flex-direction:row;\"><span>Epoch: 98/280. Iteration: 87/87. Cls loss: 0.00752. Reg loss: 0.07636. Batch loss: 0.08388 Total loss: 0.11275</span><progress style='margin:2px 4px;description_width:initial;' max='87' value='87'></progress>100% 87/87 [01:46&lt;00:00,  1.21s/it]</div>"
            ],
            "text/plain": [
              "<tqdm._fake_ipywidgets.HBox object>"
            ]
          },
          "metadata": {}
        },
        {
          "output_type": "stream",
          "name": "stdout",
          "text": [
            "\n"
          ]
        },
        {
          "output_type": "display_data",
          "data": {
            "text/html": [
              "<div style=\"display:flex;flex-direction:row;\"><span>Epoch: 99/280. Iteration: 87/87. Cls loss: 0.00469. Reg loss: 0.04781. Batch loss: 0.05250 Total loss: 0.10951</span><progress style='margin:2px 4px;description_width:initial;' max='87' value='87'></progress>100% 87/87 [01:46&lt;00:00,  1.21s/it]</div>"
            ],
            "text/plain": [
              "<tqdm._fake_ipywidgets.HBox object>"
            ]
          },
          "metadata": {}
        },
        {
          "output_type": "stream",
          "name": "stdout",
          "text": [
            "\n"
          ]
        },
        {
          "output_type": "display_data",
          "data": {
            "text/html": [
              "<div style=\"display:flex;flex-direction:row;\"><span>Epoch: 100/280. Iteration: 87/87. Cls loss: 0.01057. Reg loss: 0.08332. Batch loss: 0.09389 Total loss: 0.10940</span><progress style='margin:2px 4px;description_width:initial;' max='87' value='87'></progress>100% 87/87 [01:46&lt;00:00,  1.21s/it]</div>"
            ],
            "text/plain": [
              "<tqdm._fake_ipywidgets.HBox object>"
            ]
          },
          "metadata": {}
        },
        {
          "output_type": "stream",
          "name": "stdout",
          "text": [
            "\n"
          ]
        },
        {
          "output_type": "display_data",
          "data": {
            "text/html": [
              "<div style=\"display:flex;flex-direction:row;\"><span>Epoch: 101/280. Iteration: 87/87. Cls loss: 0.01213. Reg loss: 0.10418. Batch loss: 0.11631 Total loss: 0.10431</span><progress style='margin:2px 4px;description_width:initial;' max='87' value='87'></progress>100% 87/87 [01:46&lt;00:00,  1.21s/it]</div>"
            ],
            "text/plain": [
              "<tqdm._fake_ipywidgets.HBox object>"
            ]
          },
          "metadata": {}
        },
        {
          "output_type": "stream",
          "name": "stdout",
          "text": [
            "\n"
          ]
        },
        {
          "output_type": "display_data",
          "data": {
            "text/html": [
              "<div style=\"display:flex;flex-direction:row;\"><span>Epoch: 102/280. Iteration: 87/87. Cls loss: 0.01323. Reg loss: 0.06880. Batch loss: 0.08204 Total loss: 0.10827</span><progress style='margin:2px 4px;description_width:initial;' max='87' value='87'></progress>100% 87/87 [01:46&lt;00:00,  1.21s/it]</div>"
            ],
            "text/plain": [
              "<tqdm._fake_ipywidgets.HBox object>"
            ]
          },
          "metadata": {}
        },
        {
          "output_type": "stream",
          "name": "stdout",
          "text": [
            "\n"
          ]
        },
        {
          "output_type": "display_data",
          "data": {
            "text/html": [
              "<div style=\"display:flex;flex-direction:row;\"><span>Epoch: 103/280. Iteration: 87/87. Cls loss: 0.01106. Reg loss: 0.09351. Batch loss: 0.10457 Total loss: 0.10572</span><progress style='margin:2px 4px;description_width:initial;' max='87' value='87'></progress>100% 87/87 [01:46&lt;00:00,  1.21s/it]</div>"
            ],
            "text/plain": [
              "<tqdm._fake_ipywidgets.HBox object>"
            ]
          },
          "metadata": {}
        },
        {
          "output_type": "stream",
          "name": "stdout",
          "text": [
            "\n"
          ]
        },
        {
          "output_type": "display_data",
          "data": {
            "text/html": [
              "<div style=\"display:flex;flex-direction:row;\"><span>Epoch: 104/280. Iteration: 87/87. Cls loss: 0.01238. Reg loss: 0.08367. Batch loss: 0.09605 Total loss: 0.10476</span><progress style='margin:2px 4px;description_width:initial;' max='87' value='87'></progress>100% 87/87 [01:46&lt;00:00,  1.21s/it]</div>"
            ],
            "text/plain": [
              "<tqdm._fake_ipywidgets.HBox object>"
            ]
          },
          "metadata": {}
        },
        {
          "output_type": "stream",
          "name": "stdout",
          "text": [
            "\n"
          ]
        },
        {
          "output_type": "display_data",
          "data": {
            "text/html": [
              "<div style=\"display:flex;flex-direction:row;\"><span>Epoch: 105/280. Iteration: 87/87. Cls loss: 0.01941. Reg loss: 0.10838. Batch loss: 0.12779 Total loss: 0.10570</span><progress style='margin:2px 4px;description_width:initial;' max='87' value='87'></progress>100% 87/87 [01:46&lt;00:00,  1.21s/it]</div>"
            ],
            "text/plain": [
              "<tqdm._fake_ipywidgets.HBox object>"
            ]
          },
          "metadata": {}
        },
        {
          "output_type": "stream",
          "name": "stdout",
          "text": [
            "\n",
            "Epoch   105: reducing learning rate of group 0 to 1.0000e-05.\n"
          ]
        },
        {
          "output_type": "display_data",
          "data": {
            "text/html": [
              "<div style=\"display:flex;flex-direction:row;\"><span>Epoch: 106/280. Iteration: 87/87. Cls loss: 0.00537. Reg loss: 0.06865. Batch loss: 0.07402 Total loss: 0.09189</span><progress style='margin:2px 4px;description_width:initial;' max='87' value='87'></progress>100% 87/87 [01:46&lt;00:00,  1.21s/it]</div>"
            ],
            "text/plain": [
              "<tqdm._fake_ipywidgets.HBox object>"
            ]
          },
          "metadata": {}
        },
        {
          "output_type": "stream",
          "name": "stdout",
          "text": [
            "\n"
          ]
        },
        {
          "output_type": "display_data",
          "data": {
            "text/html": [
              "<div style=\"display:flex;flex-direction:row;\"><span>Epoch: 107/280. Iteration: 87/87. Cls loss: 0.00719. Reg loss: 0.07718. Batch loss: 0.08437 Total loss: 0.08859</span><progress style='margin:2px 4px;description_width:initial;' max='87' value='87'></progress>100% 87/87 [01:46&lt;00:00,  1.21s/it]</div>"
            ],
            "text/plain": [
              "<tqdm._fake_ipywidgets.HBox object>"
            ]
          },
          "metadata": {}
        },
        {
          "output_type": "stream",
          "name": "stdout",
          "text": [
            "\n"
          ]
        },
        {
          "output_type": "display_data",
          "data": {
            "text/html": [
              "<div style=\"display:flex;flex-direction:row;\"><span>Epoch: 108/280. Iteration: 87/87. Cls loss: 0.00805. Reg loss: 0.08159. Batch loss: 0.08964 Total loss: 0.08497</span><progress style='margin:2px 4px;description_width:initial;' max='87' value='87'></progress>100% 87/87 [01:46&lt;00:00,  1.21s/it]</div>"
            ],
            "text/plain": [
              "<tqdm._fake_ipywidgets.HBox object>"
            ]
          },
          "metadata": {}
        },
        {
          "output_type": "stream",
          "name": "stdout",
          "text": [
            "\n"
          ]
        },
        {
          "output_type": "display_data",
          "data": {
            "text/html": [
              "<div style=\"display:flex;flex-direction:row;\"><span>Epoch: 109/280. Iteration: 87/87. Cls loss: 0.00390. Reg loss: 0.06160. Batch loss: 0.06551 Total loss: 0.08175</span><progress style='margin:2px 4px;description_width:initial;' max='87' value='87'></progress>100% 87/87 [01:46&lt;00:00,  1.21s/it]</div>"
            ],
            "text/plain": [
              "<tqdm._fake_ipywidgets.HBox object>"
            ]
          },
          "metadata": {}
        },
        {
          "output_type": "stream",
          "name": "stdout",
          "text": [
            "\n"
          ]
        },
        {
          "output_type": "display_data",
          "data": {
            "text/html": [
              "<div style=\"display:flex;flex-direction:row;\"><span>Epoch: 110/280. Iteration: 87/87. Cls loss: 0.00868. Reg loss: 0.06708. Batch loss: 0.07576 Total loss: 0.08178</span><progress style='margin:2px 4px;description_width:initial;' max='87' value='87'></progress>100% 87/87 [01:46&lt;00:00,  1.21s/it]</div>"
            ],
            "text/plain": [
              "<tqdm._fake_ipywidgets.HBox object>"
            ]
          },
          "metadata": {}
        },
        {
          "output_type": "stream",
          "name": "stdout",
          "text": [
            "\n"
          ]
        },
        {
          "output_type": "display_data",
          "data": {
            "text/html": [
              "<div style=\"display:flex;flex-direction:row;\"><span>Epoch: 111/280. Iteration: 87/87. Cls loss: 0.00929. Reg loss: 0.07480. Batch loss: 0.08408 Total loss: 0.08142</span><progress style='margin:2px 4px;description_width:initial;' max='87' value='87'></progress>100% 87/87 [01:46&lt;00:00,  1.21s/it]</div>"
            ],
            "text/plain": [
              "<tqdm._fake_ipywidgets.HBox object>"
            ]
          },
          "metadata": {}
        },
        {
          "output_type": "stream",
          "name": "stdout",
          "text": [
            "\n"
          ]
        },
        {
          "output_type": "display_data",
          "data": {
            "text/html": [
              "<div style=\"display:flex;flex-direction:row;\"><span>Epoch: 112/280. Iteration: 87/87. Cls loss: 0.01281. Reg loss: 0.08975. Batch loss: 0.10256 Total loss: 0.07884</span><progress style='margin:2px 4px;description_width:initial;' max='87' value='87'></progress>100% 87/87 [01:46&lt;00:00,  1.21s/it]</div>"
            ],
            "text/plain": [
              "<tqdm._fake_ipywidgets.HBox object>"
            ]
          },
          "metadata": {}
        },
        {
          "output_type": "stream",
          "name": "stdout",
          "text": [
            "\n"
          ]
        },
        {
          "output_type": "display_data",
          "data": {
            "text/html": [
              "<div style=\"display:flex;flex-direction:row;\"><span>Epoch: 113/280. Iteration: 87/87. Cls loss: 0.00842. Reg loss: 0.06415. Batch loss: 0.07257 Total loss: 0.07858</span><progress style='margin:2px 4px;description_width:initial;' max='87' value='87'></progress>100% 87/87 [01:46&lt;00:00,  1.21s/it]</div>"
            ],
            "text/plain": [
              "<tqdm._fake_ipywidgets.HBox object>"
            ]
          },
          "metadata": {}
        },
        {
          "output_type": "stream",
          "name": "stdout",
          "text": [
            "\n"
          ]
        },
        {
          "output_type": "display_data",
          "data": {
            "text/html": [
              "<div style=\"display:flex;flex-direction:row;\"><span>Epoch: 114/280. Iteration: 87/87. Cls loss: 0.00423. Reg loss: 0.04989. Batch loss: 0.05413 Total loss: 0.07678</span><progress style='margin:2px 4px;description_width:initial;' max='87' value='87'></progress>100% 87/87 [01:46&lt;00:00,  1.21s/it]</div>"
            ],
            "text/plain": [
              "<tqdm._fake_ipywidgets.HBox object>"
            ]
          },
          "metadata": {}
        },
        {
          "output_type": "stream",
          "name": "stdout",
          "text": [
            "\n"
          ]
        },
        {
          "output_type": "display_data",
          "data": {
            "text/html": [
              "<div style=\"display:flex;flex-direction:row;\"><span>Epoch: 115/280. Iteration: 87/87. Cls loss: 0.01000. Reg loss: 0.08503. Batch loss: 0.09503 Total loss: 0.07679</span><progress style='margin:2px 4px;description_width:initial;' max='87' value='87'></progress>100% 87/87 [01:46&lt;00:00,  1.21s/it]</div>"
            ],
            "text/plain": [
              "<tqdm._fake_ipywidgets.HBox object>"
            ]
          },
          "metadata": {}
        },
        {
          "output_type": "stream",
          "name": "stdout",
          "text": [
            "\n"
          ]
        },
        {
          "output_type": "display_data",
          "data": {
            "text/html": [
              "<div style=\"display:flex;flex-direction:row;\"><span>Epoch: 116/280. Iteration: 87/87. Cls loss: 0.01220. Reg loss: 0.08088. Batch loss: 0.09309 Total loss: 0.07878</span><progress style='margin:2px 4px;description_width:initial;' max='87' value='87'></progress>100% 87/87 [01:46&lt;00:00,  1.21s/it]</div>"
            ],
            "text/plain": [
              "<tqdm._fake_ipywidgets.HBox object>"
            ]
          },
          "metadata": {}
        },
        {
          "output_type": "stream",
          "name": "stdout",
          "text": [
            "\n"
          ]
        },
        {
          "output_type": "display_data",
          "data": {
            "text/html": [
              "<div style=\"display:flex;flex-direction:row;\"><span>Epoch: 117/280. Iteration: 87/87. Cls loss: 0.00570. Reg loss: 0.05684. Batch loss: 0.06255 Total loss: 0.07605</span><progress style='margin:2px 4px;description_width:initial;' max='87' value='87'></progress>100% 87/87 [01:46&lt;00:00,  1.21s/it]</div>"
            ],
            "text/plain": [
              "<tqdm._fake_ipywidgets.HBox object>"
            ]
          },
          "metadata": {}
        },
        {
          "output_type": "stream",
          "name": "stdout",
          "text": [
            "\n"
          ]
        },
        {
          "output_type": "display_data",
          "data": {
            "text/html": [
              "<div style=\"display:flex;flex-direction:row;\"><span>Epoch: 118/280. Iteration: 87/87. Cls loss: 0.01049. Reg loss: 0.08247. Batch loss: 0.09296 Total loss: 0.07646</span><progress style='margin:2px 4px;description_width:initial;' max='87' value='87'></progress>100% 87/87 [01:46&lt;00:00,  1.21s/it]</div>"
            ],
            "text/plain": [
              "<tqdm._fake_ipywidgets.HBox object>"
            ]
          },
          "metadata": {}
        },
        {
          "output_type": "stream",
          "name": "stdout",
          "text": [
            "\n"
          ]
        },
        {
          "output_type": "display_data",
          "data": {
            "text/html": [
              "<div style=\"display:flex;flex-direction:row;\"><span>Epoch: 119/280. Iteration: 87/87. Cls loss: 0.00811. Reg loss: 0.07905. Batch loss: 0.08716 Total loss: 0.07417</span><progress style='margin:2px 4px;description_width:initial;' max='87' value='87'></progress>100% 87/87 [01:46&lt;00:00,  1.21s/it]</div>"
            ],
            "text/plain": [
              "<tqdm._fake_ipywidgets.HBox object>"
            ]
          },
          "metadata": {}
        },
        {
          "output_type": "stream",
          "name": "stdout",
          "text": [
            "\n"
          ]
        },
        {
          "output_type": "display_data",
          "data": {
            "text/html": [
              "<div style=\"display:flex;flex-direction:row;\"><span>Epoch: 120/280. Iteration: 87/87. Cls loss: 0.00294. Reg loss: 0.05119. Batch loss: 0.05413 Total loss: 0.07566</span><progress style='margin:2px 4px;description_width:initial;' max='87' value='87'></progress>100% 87/87 [01:46&lt;00:00,  1.21s/it]</div>"
            ],
            "text/plain": [
              "<tqdm._fake_ipywidgets.HBox object>"
            ]
          },
          "metadata": {}
        },
        {
          "output_type": "stream",
          "name": "stdout",
          "text": [
            "\n"
          ]
        },
        {
          "output_type": "display_data",
          "data": {
            "text/html": [
              "<div style=\"display:flex;flex-direction:row;\"><span>Epoch: 121/280. Iteration: 87/87. Cls loss: 0.00300. Reg loss: 0.03854. Batch loss: 0.04153 Total loss: 0.07489</span><progress style='margin:2px 4px;description_width:initial;' max='87' value='87'></progress>100% 87/87 [01:46&lt;00:00,  1.21s/it]</div>"
            ],
            "text/plain": [
              "<tqdm._fake_ipywidgets.HBox object>"
            ]
          },
          "metadata": {}
        },
        {
          "output_type": "stream",
          "name": "stdout",
          "text": [
            "\n"
          ]
        },
        {
          "output_type": "display_data",
          "data": {
            "text/html": [
              "<div style=\"display:flex;flex-direction:row;\"><span>Epoch: 122/280. Iteration: 87/87. Cls loss: 0.00522. Reg loss: 0.08385. Batch loss: 0.08907 Total loss: 0.07597</span><progress style='margin:2px 4px;description_width:initial;' max='87' value='87'></progress>100% 87/87 [01:46&lt;00:00,  1.21s/it]</div>"
            ],
            "text/plain": [
              "<tqdm._fake_ipywidgets.HBox object>"
            ]
          },
          "metadata": {}
        },
        {
          "output_type": "stream",
          "name": "stdout",
          "text": [
            "\n"
          ]
        },
        {
          "output_type": "display_data",
          "data": {
            "text/html": [
              "<div style=\"display:flex;flex-direction:row;\"><span>Epoch: 123/280. Iteration: 87/87. Cls loss: 0.00427. Reg loss: 0.07619. Batch loss: 0.08046 Total loss: 0.07360</span><progress style='margin:2px 4px;description_width:initial;' max='87' value='87'></progress>100% 87/87 [01:46&lt;00:00,  1.21s/it]</div>"
            ],
            "text/plain": [
              "<tqdm._fake_ipywidgets.HBox object>"
            ]
          },
          "metadata": {}
        },
        {
          "output_type": "stream",
          "name": "stdout",
          "text": [
            "\n"
          ]
        },
        {
          "output_type": "display_data",
          "data": {
            "text/html": [
              "<div style=\"display:flex;flex-direction:row;\"><span>Epoch: 124/280. Iteration: 87/87. Cls loss: 0.00405. Reg loss: 0.05184. Batch loss: 0.05589 Total loss: 0.07354</span><progress style='margin:2px 4px;description_width:initial;' max='87' value='87'></progress>100% 87/87 [01:46&lt;00:00,  1.21s/it]</div>"
            ],
            "text/plain": [
              "<tqdm._fake_ipywidgets.HBox object>"
            ]
          },
          "metadata": {}
        },
        {
          "output_type": "stream",
          "name": "stdout",
          "text": [
            "\n"
          ]
        },
        {
          "output_type": "display_data",
          "data": {
            "text/html": [
              "<div style=\"display:flex;flex-direction:row;\"><span>Epoch: 125/280. Iteration: 87/87. Cls loss: 0.00357. Reg loss: 0.03740. Batch loss: 0.04097 Total loss: 0.07223</span><progress style='margin:2px 4px;description_width:initial;' max='87' value='87'></progress>100% 87/87 [01:46&lt;00:00,  1.21s/it]</div>"
            ],
            "text/plain": [
              "<tqdm._fake_ipywidgets.HBox object>"
            ]
          },
          "metadata": {}
        },
        {
          "output_type": "stream",
          "name": "stdout",
          "text": [
            "\n"
          ]
        },
        {
          "output_type": "display_data",
          "data": {
            "text/html": [
              "<div style=\"display:flex;flex-direction:row;\"><span>Epoch: 126/280. Iteration: 87/87. Cls loss: 0.00441. Reg loss: 0.06443. Batch loss: 0.06884 Total loss: 0.07273</span><progress style='margin:2px 4px;description_width:initial;' max='87' value='87'></progress>100% 87/87 [01:46&lt;00:00,  1.21s/it]</div>"
            ],
            "text/plain": [
              "<tqdm._fake_ipywidgets.HBox object>"
            ]
          },
          "metadata": {}
        },
        {
          "output_type": "stream",
          "name": "stdout",
          "text": [
            "\n"
          ]
        },
        {
          "output_type": "display_data",
          "data": {
            "text/html": [
              "<div style=\"display:flex;flex-direction:row;\"><span>Epoch: 127/280. Iteration: 87/87. Cls loss: 0.00417. Reg loss: 0.06143. Batch loss: 0.06561 Total loss: 0.07425</span><progress style='margin:2px 4px;description_width:initial;' max='87' value='87'></progress>100% 87/87 [01:46&lt;00:00,  1.21s/it]</div>"
            ],
            "text/plain": [
              "<tqdm._fake_ipywidgets.HBox object>"
            ]
          },
          "metadata": {}
        },
        {
          "output_type": "stream",
          "name": "stdout",
          "text": [
            "\n"
          ]
        },
        {
          "output_type": "display_data",
          "data": {
            "text/html": [
              "<div style=\"display:flex;flex-direction:row;\"><span>Epoch: 128/280. Iteration: 87/87. Cls loss: 0.00227. Reg loss: 0.04597. Batch loss: 0.04824 Total loss: 0.07140</span><progress style='margin:2px 4px;description_width:initial;' max='87' value='87'></progress>100% 87/87 [01:46&lt;00:00,  1.21s/it]</div>"
            ],
            "text/plain": [
              "<tqdm._fake_ipywidgets.HBox object>"
            ]
          },
          "metadata": {}
        },
        {
          "output_type": "stream",
          "name": "stdout",
          "text": [
            "\n"
          ]
        },
        {
          "output_type": "display_data",
          "data": {
            "text/html": [
              "<div style=\"display:flex;flex-direction:row;\"><span>Epoch: 129/280. Iteration: 87/87. Cls loss: 0.02901. Reg loss: 0.10064. Batch loss: 0.12965 Total loss: 0.07395</span><progress style='margin:2px 4px;description_width:initial;' max='87' value='87'></progress>100% 87/87 [01:46&lt;00:00,  1.21s/it]</div>"
            ],
            "text/plain": [
              "<tqdm._fake_ipywidgets.HBox object>"
            ]
          },
          "metadata": {}
        },
        {
          "output_type": "stream",
          "name": "stdout",
          "text": [
            "\n"
          ]
        },
        {
          "output_type": "display_data",
          "data": {
            "text/html": [
              "<div style=\"display:flex;flex-direction:row;\"><span>Epoch: 130/280. Iteration: 87/87. Cls loss: 0.01015. Reg loss: 0.09450. Batch loss: 0.10464 Total loss: 0.07168</span><progress style='margin:2px 4px;description_width:initial;' max='87' value='87'></progress>100% 87/87 [01:46&lt;00:00,  1.21s/it]</div>"
            ],
            "text/plain": [
              "<tqdm._fake_ipywidgets.HBox object>"
            ]
          },
          "metadata": {}
        },
        {
          "output_type": "stream",
          "name": "stdout",
          "text": [
            "\n"
          ]
        },
        {
          "output_type": "display_data",
          "data": {
            "text/html": [
              "<div style=\"display:flex;flex-direction:row;\"><span>Epoch: 131/280. Iteration: 87/87. Cls loss: 0.00664. Reg loss: 0.07046. Batch loss: 0.07710 Total loss: 0.07213</span><progress style='margin:2px 4px;description_width:initial;' max='87' value='87'></progress>100% 87/87 [01:46&lt;00:00,  1.21s/it]</div>"
            ],
            "text/plain": [
              "<tqdm._fake_ipywidgets.HBox object>"
            ]
          },
          "metadata": {}
        },
        {
          "output_type": "stream",
          "name": "stdout",
          "text": [
            "\n"
          ]
        },
        {
          "output_type": "display_data",
          "data": {
            "text/html": [
              "<div style=\"display:flex;flex-direction:row;\"><span>Epoch: 132/280. Iteration: 87/87. Cls loss: 0.00915. Reg loss: 0.08655. Batch loss: 0.09570 Total loss: 0.07219</span><progress style='margin:2px 4px;description_width:initial;' max='87' value='87'></progress>100% 87/87 [01:46&lt;00:00,  1.21s/it]</div>"
            ],
            "text/plain": [
              "<tqdm._fake_ipywidgets.HBox object>"
            ]
          },
          "metadata": {}
        },
        {
          "output_type": "stream",
          "name": "stdout",
          "text": [
            "\n",
            "Epoch   132: reducing learning rate of group 0 to 1.0000e-06.\n"
          ]
        },
        {
          "output_type": "display_data",
          "data": {
            "text/html": [
              "<div style=\"display:flex;flex-direction:row;\"><span>Epoch: 133/280. Iteration: 87/87. Cls loss: 0.00295. Reg loss: 0.05299. Batch loss: 0.05594 Total loss: 0.07138</span><progress style='margin:2px 4px;description_width:initial;' max='87' value='87'></progress>100% 87/87 [01:46&lt;00:00,  1.21s/it]</div>"
            ],
            "text/plain": [
              "<tqdm._fake_ipywidgets.HBox object>"
            ]
          },
          "metadata": {}
        },
        {
          "output_type": "stream",
          "name": "stdout",
          "text": [
            "\n"
          ]
        },
        {
          "output_type": "display_data",
          "data": {
            "text/html": [
              "<div style=\"display:flex;flex-direction:row;\"><span>Epoch: 134/280. Iteration: 87/87. Cls loss: 0.00577. Reg loss: 0.05945. Batch loss: 0.06522 Total loss: 0.07210</span><progress style='margin:2px 4px;description_width:initial;' max='87' value='87'></progress>100% 87/87 [01:46&lt;00:00,  1.21s/it]</div>"
            ],
            "text/plain": [
              "<tqdm._fake_ipywidgets.HBox object>"
            ]
          },
          "metadata": {}
        },
        {
          "output_type": "stream",
          "name": "stdout",
          "text": [
            "\n"
          ]
        },
        {
          "output_type": "display_data",
          "data": {
            "text/html": [
              "<div style=\"display:flex;flex-direction:row;\"><span>Epoch: 135/280. Iteration: 87/87. Cls loss: 0.00415. Reg loss: 0.04738. Batch loss: 0.05152 Total loss: 0.07030</span><progress style='margin:2px 4px;description_width:initial;' max='87' value='87'></progress>100% 87/87 [01:46&lt;00:00,  1.21s/it]</div>"
            ],
            "text/plain": [
              "<tqdm._fake_ipywidgets.HBox object>"
            ]
          },
          "metadata": {}
        },
        {
          "output_type": "stream",
          "name": "stdout",
          "text": [
            "\n"
          ]
        },
        {
          "output_type": "display_data",
          "data": {
            "text/html": [
              "<div style=\"display:flex;flex-direction:row;\"><span>Epoch: 136/280. Iteration: 87/87. Cls loss: 0.00402. Reg loss: 0.06099. Batch loss: 0.06502 Total loss: 0.07147</span><progress style='margin:2px 4px;description_width:initial;' max='87' value='87'></progress>100% 87/87 [01:46&lt;00:00,  1.21s/it]</div>"
            ],
            "text/plain": [
              "<tqdm._fake_ipywidgets.HBox object>"
            ]
          },
          "metadata": {}
        },
        {
          "output_type": "stream",
          "name": "stdout",
          "text": [
            "\n"
          ]
        },
        {
          "output_type": "display_data",
          "data": {
            "text/html": [
              "<div style=\"display:flex;flex-direction:row;\"><span>Epoch: 137/280. Iteration: 87/87. Cls loss: 0.00581. Reg loss: 0.05053. Batch loss: 0.05635 Total loss: 0.07058</span><progress style='margin:2px 4px;description_width:initial;' max='87' value='87'></progress>100% 87/87 [01:46&lt;00:00,  1.21s/it]</div>"
            ],
            "text/plain": [
              "<tqdm._fake_ipywidgets.HBox object>"
            ]
          },
          "metadata": {}
        },
        {
          "output_type": "stream",
          "name": "stdout",
          "text": [
            "\n"
          ]
        },
        {
          "output_type": "display_data",
          "data": {
            "text/html": [
              "<div style=\"display:flex;flex-direction:row;\"><span>Epoch: 138/280. Iteration: 87/87. Cls loss: 0.02554. Reg loss: 0.05440. Batch loss: 0.07995 Total loss: 0.07265</span><progress style='margin:2px 4px;description_width:initial;' max='87' value='87'></progress>100% 87/87 [01:46&lt;00:00,  1.21s/it]</div>"
            ],
            "text/plain": [
              "<tqdm._fake_ipywidgets.HBox object>"
            ]
          },
          "metadata": {}
        },
        {
          "output_type": "stream",
          "name": "stdout",
          "text": [
            "\n"
          ]
        },
        {
          "output_type": "display_data",
          "data": {
            "text/html": [
              "<div style=\"display:flex;flex-direction:row;\"><span>Epoch: 139/280. Iteration: 87/87. Cls loss: 0.00482. Reg loss: 0.07467. Batch loss: 0.07950 Total loss: 0.06838</span><progress style='margin:2px 4px;description_width:initial;' max='87' value='87'></progress>100% 87/87 [01:46&lt;00:00,  1.21s/it]</div>"
            ],
            "text/plain": [
              "<tqdm._fake_ipywidgets.HBox object>"
            ]
          },
          "metadata": {}
        },
        {
          "output_type": "stream",
          "name": "stdout",
          "text": [
            "\n"
          ]
        },
        {
          "output_type": "display_data",
          "data": {
            "text/html": [
              "<div style=\"display:flex;flex-direction:row;\"><span>Epoch: 140/280. Iteration: 87/87. Cls loss: 0.00615. Reg loss: 0.08485. Batch loss: 0.09100 Total loss: 0.07163</span><progress style='margin:2px 4px;description_width:initial;' max='87' value='87'></progress>100% 87/87 [01:46&lt;00:00,  1.21s/it]</div>"
            ],
            "text/plain": [
              "<tqdm._fake_ipywidgets.HBox object>"
            ]
          },
          "metadata": {}
        },
        {
          "output_type": "stream",
          "name": "stdout",
          "text": [
            "\n"
          ]
        },
        {
          "output_type": "display_data",
          "data": {
            "text/html": [
              "<div style=\"display:flex;flex-direction:row;\"><span>Epoch: 141/280. Iteration: 87/87. Cls loss: 0.00178. Reg loss: 0.03618. Batch loss: 0.03797 Total loss: 0.07258</span><progress style='margin:2px 4px;description_width:initial;' max='87' value='87'></progress>100% 87/87 [01:46&lt;00:00,  1.21s/it]</div>"
            ],
            "text/plain": [
              "<tqdm._fake_ipywidgets.HBox object>"
            ]
          },
          "metadata": {}
        },
        {
          "output_type": "stream",
          "name": "stdout",
          "text": [
            "\n"
          ]
        },
        {
          "output_type": "display_data",
          "data": {
            "text/html": [
              "<div style=\"display:flex;flex-direction:row;\"><span>Epoch: 142/280. Iteration: 87/87. Cls loss: 0.00758. Reg loss: 0.06172. Batch loss: 0.06930 Total loss: 0.07351</span><progress style='margin:2px 4px;description_width:initial;' max='87' value='87'></progress>100% 87/87 [01:46&lt;00:00,  1.21s/it]</div>"
            ],
            "text/plain": [
              "<tqdm._fake_ipywidgets.HBox object>"
            ]
          },
          "metadata": {}
        },
        {
          "output_type": "stream",
          "name": "stdout",
          "text": [
            "\n"
          ]
        },
        {
          "output_type": "display_data",
          "data": {
            "text/html": [
              "<div style=\"display:flex;flex-direction:row;\"><span>Epoch: 143/280. Iteration: 87/87. Cls loss: 0.00916. Reg loss: 0.08600. Batch loss: 0.09516 Total loss: 0.07156</span><progress style='margin:2px 4px;description_width:initial;' max='87' value='87'></progress>100% 87/87 [01:46&lt;00:00,  1.21s/it]</div>"
            ],
            "text/plain": [
              "<tqdm._fake_ipywidgets.HBox object>"
            ]
          },
          "metadata": {}
        },
        {
          "output_type": "stream",
          "name": "stdout",
          "text": [
            "\n",
            "Epoch   143: reducing learning rate of group 0 to 1.0000e-07.\n"
          ]
        },
        {
          "output_type": "display_data",
          "data": {
            "text/html": [
              "<div style=\"display:flex;flex-direction:row;\"><span>Epoch: 144/280. Iteration: 87/87. Cls loss: 0.00372. Reg loss: 0.03482. Batch loss: 0.03854 Total loss: 0.07175</span><progress style='margin:2px 4px;description_width:initial;' max='87' value='87'></progress>100% 87/87 [01:46&lt;00:00,  1.21s/it]</div>"
            ],
            "text/plain": [
              "<tqdm._fake_ipywidgets.HBox object>"
            ]
          },
          "metadata": {}
        },
        {
          "output_type": "stream",
          "name": "stdout",
          "text": [
            "\n"
          ]
        },
        {
          "output_type": "display_data",
          "data": {
            "text/html": [
              "<div style=\"display:flex;flex-direction:row;\"><span>Epoch: 145/280. Iteration: 87/87. Cls loss: 0.00331. Reg loss: 0.04368. Batch loss: 0.04698 Total loss: 0.07034</span><progress style='margin:2px 4px;description_width:initial;' max='87' value='87'></progress>100% 87/87 [01:46&lt;00:00,  1.21s/it]</div>"
            ],
            "text/plain": [
              "<tqdm._fake_ipywidgets.HBox object>"
            ]
          },
          "metadata": {}
        },
        {
          "output_type": "stream",
          "name": "stdout",
          "text": [
            "\n"
          ]
        },
        {
          "output_type": "display_data",
          "data": {
            "text/html": [
              "<div style=\"display:flex;flex-direction:row;\"><span>Epoch: 146/280. Iteration: 87/87. Cls loss: 0.00240. Reg loss: 0.04370. Batch loss: 0.04610 Total loss: 0.06825</span><progress style='margin:2px 4px;description_width:initial;' max='87' value='87'></progress>100% 87/87 [01:46&lt;00:00,  1.21s/it]</div>"
            ],
            "text/plain": [
              "<tqdm._fake_ipywidgets.HBox object>"
            ]
          },
          "metadata": {}
        },
        {
          "output_type": "stream",
          "name": "stdout",
          "text": [
            "\n"
          ]
        },
        {
          "output_type": "display_data",
          "data": {
            "text/html": [
              "<div style=\"display:flex;flex-direction:row;\"><span>Epoch: 147/280. Iteration: 87/87. Cls loss: 0.00259. Reg loss: 0.03368. Batch loss: 0.03627 Total loss: 0.07164</span><progress style='margin:2px 4px;description_width:initial;' max='87' value='87'></progress>100% 87/87 [01:46&lt;00:00,  1.21s/it]</div>"
            ],
            "text/plain": [
              "<tqdm._fake_ipywidgets.HBox object>"
            ]
          },
          "metadata": {}
        },
        {
          "output_type": "stream",
          "name": "stdout",
          "text": [
            "\n"
          ]
        },
        {
          "output_type": "display_data",
          "data": {
            "text/html": [
              "<div style=\"display:flex;flex-direction:row;\"><span>Epoch: 148/280. Iteration: 87/87. Cls loss: 0.00614. Reg loss: 0.06767. Batch loss: 0.07382 Total loss: 0.06927</span><progress style='margin:2px 4px;description_width:initial;' max='87' value='87'></progress>100% 87/87 [01:46&lt;00:00,  1.21s/it]</div>"
            ],
            "text/plain": [
              "<tqdm._fake_ipywidgets.HBox object>"
            ]
          },
          "metadata": {}
        },
        {
          "output_type": "stream",
          "name": "stdout",
          "text": [
            "\n"
          ]
        },
        {
          "output_type": "display_data",
          "data": {
            "text/html": [
              "<div style=\"display:flex;flex-direction:row;\"><span>Epoch: 149/280. Iteration: 87/87. Cls loss: 0.00511. Reg loss: 0.06523. Batch loss: 0.07034 Total loss: 0.07212</span><progress style='margin:2px 4px;description_width:initial;' max='87' value='87'></progress>100% 87/87 [01:46&lt;00:00,  1.21s/it]</div>"
            ],
            "text/plain": [
              "<tqdm._fake_ipywidgets.HBox object>"
            ]
          },
          "metadata": {}
        },
        {
          "output_type": "stream",
          "name": "stdout",
          "text": [
            "\n"
          ]
        },
        {
          "output_type": "display_data",
          "data": {
            "text/html": [
              "<div style=\"display:flex;flex-direction:row;\"><span>Epoch: 150/280. Iteration: 87/87. Cls loss: 0.00664. Reg loss: 0.04852. Batch loss: 0.05516 Total loss: 0.06975</span><progress style='margin:2px 4px;description_width:initial;' max='87' value='87'></progress>100% 87/87 [01:46&lt;00:00,  1.21s/it]</div>"
            ],
            "text/plain": [
              "<tqdm._fake_ipywidgets.HBox object>"
            ]
          },
          "metadata": {}
        },
        {
          "output_type": "stream",
          "name": "stdout",
          "text": [
            "\n",
            "Epoch   150: reducing learning rate of group 0 to 1.0000e-08.\n"
          ]
        },
        {
          "output_type": "display_data",
          "data": {
            "text/html": [
              "<div style=\"display:flex;flex-direction:row;\"><span>Epoch: 151/280. Iteration: 87/87. Cls loss: 0.00361. Reg loss: 0.04374. Batch loss: 0.04735 Total loss: 0.06961</span><progress style='margin:2px 4px;description_width:initial;' max='87' value='87'></progress>100% 87/87 [01:46&lt;00:00,  1.21s/it]</div>"
            ],
            "text/plain": [
              "<tqdm._fake_ipywidgets.HBox object>"
            ]
          },
          "metadata": {}
        },
        {
          "output_type": "stream",
          "name": "stdout",
          "text": [
            "\n"
          ]
        },
        {
          "output_type": "display_data",
          "data": {
            "text/html": [
              "<div style=\"display:flex;flex-direction:row;\"><span>Epoch: 152/280. Iteration: 87/87. Cls loss: 0.00949. Reg loss: 0.07597. Batch loss: 0.08546 Total loss: 0.07092</span><progress style='margin:2px 4px;description_width:initial;' max='87' value='87'></progress>100% 87/87 [01:46&lt;00:00,  1.21s/it]</div>"
            ],
            "text/plain": [
              "<tqdm._fake_ipywidgets.HBox object>"
            ]
          },
          "metadata": {}
        },
        {
          "output_type": "stream",
          "name": "stdout",
          "text": [
            "\n"
          ]
        },
        {
          "output_type": "display_data",
          "data": {
            "text/html": [
              "<div style=\"display:flex;flex-direction:row;\"><span>Epoch: 153/280. Iteration: 87/87. Cls loss: 0.00295. Reg loss: 0.03737. Batch loss: 0.04031 Total loss: 0.07096</span><progress style='margin:2px 4px;description_width:initial;' max='87' value='87'></progress>100% 87/87 [01:46&lt;00:00,  1.22s/it]</div>"
            ],
            "text/plain": [
              "<tqdm._fake_ipywidgets.HBox object>"
            ]
          },
          "metadata": {}
        },
        {
          "output_type": "stream",
          "name": "stdout",
          "text": [
            "\n"
          ]
        },
        {
          "output_type": "display_data",
          "data": {
            "text/html": [
              "<div style=\"display:flex;flex-direction:row;\"><span>Epoch: 154/280. Iteration: 87/87. Cls loss: 0.00895. Reg loss: 0.09087. Batch loss: 0.09982 Total loss: 0.07087</span><progress style='margin:2px 4px;description_width:initial;' max='87' value='87'></progress>100% 87/87 [01:46&lt;00:00,  1.21s/it]</div>"
            ],
            "text/plain": [
              "<tqdm._fake_ipywidgets.HBox object>"
            ]
          },
          "metadata": {}
        },
        {
          "output_type": "stream",
          "name": "stdout",
          "text": [
            "\n"
          ]
        },
        {
          "output_type": "display_data",
          "data": {
            "text/html": [
              "<div style=\"display:flex;flex-direction:row;\"><span>Epoch: 155/280. Iteration: 87/87. Cls loss: 0.00202. Reg loss: 0.02835. Batch loss: 0.03036 Total loss: 0.07152</span><progress style='margin:2px 4px;description_width:initial;' max='87' value='87'></progress>100% 87/87 [01:46&lt;00:00,  1.21s/it]</div>"
            ],
            "text/plain": [
              "<tqdm._fake_ipywidgets.HBox object>"
            ]
          },
          "metadata": {}
        },
        {
          "output_type": "stream",
          "name": "stdout",
          "text": [
            "\n"
          ]
        },
        {
          "output_type": "display_data",
          "data": {
            "text/html": [
              "<div style=\"display:flex;flex-direction:row;\"><span>Epoch: 156/280. Iteration: 87/87. Cls loss: 0.00829. Reg loss: 0.07599. Batch loss: 0.08428 Total loss: 0.06848</span><progress style='margin:2px 4px;description_width:initial;' max='87' value='87'></progress>100% 87/87 [01:46&lt;00:00,  1.21s/it]</div>"
            ],
            "text/plain": [
              "<tqdm._fake_ipywidgets.HBox object>"
            ]
          },
          "metadata": {}
        },
        {
          "output_type": "stream",
          "name": "stdout",
          "text": [
            "\n"
          ]
        },
        {
          "output_type": "display_data",
          "data": {
            "text/html": [
              "<div style=\"display:flex;flex-direction:row;\"><span>Epoch: 157/280. Iteration: 87/87. Cls loss: 0.00882. Reg loss: 0.08325. Batch loss: 0.09207 Total loss: 0.07093</span><progress style='margin:2px 4px;description_width:initial;' max='87' value='87'></progress>100% 87/87 [01:46&lt;00:00,  1.21s/it]</div>"
            ],
            "text/plain": [
              "<tqdm._fake_ipywidgets.HBox object>"
            ]
          },
          "metadata": {}
        },
        {
          "output_type": "stream",
          "name": "stdout",
          "text": [
            "\n"
          ]
        },
        {
          "output_type": "display_data",
          "data": {
            "text/html": [
              "<div style=\"display:flex;flex-direction:row;\"><span>Epoch: 158/280. Iteration: 87/87. Cls loss: 0.00283. Reg loss: 0.04454. Batch loss: 0.04738 Total loss: 0.06881</span><progress style='margin:2px 4px;description_width:initial;' max='87' value='87'></progress>100% 87/87 [01:46&lt;00:00,  1.21s/it]</div>"
            ],
            "text/plain": [
              "<tqdm._fake_ipywidgets.HBox object>"
            ]
          },
          "metadata": {}
        },
        {
          "output_type": "stream",
          "name": "stdout",
          "text": [
            "\n"
          ]
        },
        {
          "output_type": "display_data",
          "data": {
            "text/html": [
              "<div style=\"display:flex;flex-direction:row;\"><span>Epoch: 159/280. Iteration: 87/87. Cls loss: 0.00957. Reg loss: 0.08004. Batch loss: 0.08961 Total loss: 0.07060</span><progress style='margin:2px 4px;description_width:initial;' max='87' value='87'></progress>100% 87/87 [01:46&lt;00:00,  1.21s/it]</div>"
            ],
            "text/plain": [
              "<tqdm._fake_ipywidgets.HBox object>"
            ]
          },
          "metadata": {}
        },
        {
          "output_type": "stream",
          "name": "stdout",
          "text": [
            "\n"
          ]
        },
        {
          "output_type": "display_data",
          "data": {
            "text/html": [
              "<div style=\"display:flex;flex-direction:row;\"><span>Epoch: 160/280. Iteration: 87/87. Cls loss: 0.00874. Reg loss: 0.06566. Batch loss: 0.07440 Total loss: 0.06939</span><progress style='margin:2px 4px;description_width:initial;' max='87' value='87'></progress>100% 87/87 [01:46&lt;00:00,  1.21s/it]</div>"
            ],
            "text/plain": [
              "<tqdm._fake_ipywidgets.HBox object>"
            ]
          },
          "metadata": {}
        },
        {
          "output_type": "stream",
          "name": "stdout",
          "text": [
            "\n"
          ]
        },
        {
          "output_type": "display_data",
          "data": {
            "text/html": [
              "<div style=\"display:flex;flex-direction:row;\"><span>Epoch: 161/280. Iteration: 87/87. Cls loss: 0.01008. Reg loss: 0.07663. Batch loss: 0.08671 Total loss: 0.06863</span><progress style='margin:2px 4px;description_width:initial;' max='87' value='87'></progress>100% 87/87 [01:46&lt;00:00,  1.22s/it]</div>"
            ],
            "text/plain": [
              "<tqdm._fake_ipywidgets.HBox object>"
            ]
          },
          "metadata": {}
        },
        {
          "output_type": "stream",
          "name": "stdout",
          "text": [
            "\n"
          ]
        },
        {
          "output_type": "display_data",
          "data": {
            "text/html": [
              "<div style=\"display:flex;flex-direction:row;\"><span>Epoch: 162/280. Iteration: 87/87. Cls loss: 0.00398. Reg loss: 0.06577. Batch loss: 0.06975 Total loss: 0.07053</span><progress style='margin:2px 4px;description_width:initial;' max='87' value='87'></progress>100% 87/87 [01:46&lt;00:00,  1.21s/it]</div>"
            ],
            "text/plain": [
              "<tqdm._fake_ipywidgets.HBox object>"
            ]
          },
          "metadata": {}
        },
        {
          "output_type": "stream",
          "name": "stdout",
          "text": [
            "\n"
          ]
        },
        {
          "output_type": "display_data",
          "data": {
            "text/html": [
              "<div style=\"display:flex;flex-direction:row;\"><span>Epoch: 163/280. Iteration: 87/87. Cls loss: 0.00790. Reg loss: 0.07512. Batch loss: 0.08302 Total loss: 0.07050</span><progress style='margin:2px 4px;description_width:initial;' max='87' value='87'></progress>100% 87/87 [01:46&lt;00:00,  1.21s/it]</div>"
            ],
            "text/plain": [
              "<tqdm._fake_ipywidgets.HBox object>"
            ]
          },
          "metadata": {}
        },
        {
          "output_type": "stream",
          "name": "stdout",
          "text": [
            "\n"
          ]
        },
        {
          "output_type": "display_data",
          "data": {
            "text/html": [
              "<div style=\"display:flex;flex-direction:row;\"><span>Epoch: 164/280. Iteration: 87/87. Cls loss: 0.00224. Reg loss: 0.03460. Batch loss: 0.03684 Total loss: 0.07120</span><progress style='margin:2px 4px;description_width:initial;' max='87' value='87'></progress>100% 87/87 [01:46&lt;00:00,  1.22s/it]</div>"
            ],
            "text/plain": [
              "<tqdm._fake_ipywidgets.HBox object>"
            ]
          },
          "metadata": {}
        },
        {
          "output_type": "stream",
          "name": "stdout",
          "text": [
            "\n"
          ]
        },
        {
          "output_type": "display_data",
          "data": {
            "text/html": [
              "<div style=\"display:flex;flex-direction:row;\"><span>Epoch: 165/280. Iteration: 87/87. Cls loss: 0.00572. Reg loss: 0.06176. Batch loss: 0.06748 Total loss: 0.07038</span><progress style='margin:2px 4px;description_width:initial;' max='87' value='87'></progress>100% 87/87 [01:46&lt;00:00,  1.21s/it]</div>"
            ],
            "text/plain": [
              "<tqdm._fake_ipywidgets.HBox object>"
            ]
          },
          "metadata": {}
        },
        {
          "output_type": "stream",
          "name": "stdout",
          "text": [
            "\n"
          ]
        },
        {
          "output_type": "display_data",
          "data": {
            "text/html": [
              "<div style=\"display:flex;flex-direction:row;\"><span>Epoch: 166/280. Iteration: 87/87. Cls loss: 0.00795. Reg loss: 0.07465. Batch loss: 0.08260 Total loss: 0.07067</span><progress style='margin:2px 4px;description_width:initial;' max='87' value='87'></progress>100% 87/87 [01:46&lt;00:00,  1.21s/it]</div>"
            ],
            "text/plain": [
              "<tqdm._fake_ipywidgets.HBox object>"
            ]
          },
          "metadata": {}
        },
        {
          "output_type": "stream",
          "name": "stdout",
          "text": [
            "\n"
          ]
        },
        {
          "output_type": "display_data",
          "data": {
            "text/html": [
              "<div style=\"display:flex;flex-direction:row;\"><span>Epoch: 167/280. Iteration: 87/87. Cls loss: 0.00252. Reg loss: 0.06492. Batch loss: 0.06745 Total loss: 0.07064</span><progress style='margin:2px 4px;description_width:initial;' max='87' value='87'></progress>100% 87/87 [01:46&lt;00:00,  1.22s/it]</div>"
            ],
            "text/plain": [
              "<tqdm._fake_ipywidgets.HBox object>"
            ]
          },
          "metadata": {}
        },
        {
          "output_type": "stream",
          "name": "stdout",
          "text": [
            "\n"
          ]
        },
        {
          "output_type": "display_data",
          "data": {
            "text/html": [
              "<div style=\"display:flex;flex-direction:row;\"><span>Epoch: 168/280. Iteration: 87/87. Cls loss: 0.00470. Reg loss: 0.06610. Batch loss: 0.07079 Total loss: 0.07139</span><progress style='margin:2px 4px;description_width:initial;' max='87' value='87'></progress>100% 87/87 [01:46&lt;00:00,  1.21s/it]</div>"
            ],
            "text/plain": [
              "<tqdm._fake_ipywidgets.HBox object>"
            ]
          },
          "metadata": {}
        },
        {
          "output_type": "stream",
          "name": "stdout",
          "text": [
            "\n"
          ]
        },
        {
          "output_type": "display_data",
          "data": {
            "text/html": [
              "<div style=\"display:flex;flex-direction:row;\"><span>Epoch: 169/280. Iteration: 87/87. Cls loss: 0.00455. Reg loss: 0.05260. Batch loss: 0.05715 Total loss: 0.07075</span><progress style='margin:2px 4px;description_width:initial;' max='87' value='87'></progress>100% 87/87 [01:46&lt;00:00,  1.21s/it]</div>"
            ],
            "text/plain": [
              "<tqdm._fake_ipywidgets.HBox object>"
            ]
          },
          "metadata": {}
        },
        {
          "output_type": "stream",
          "name": "stdout",
          "text": [
            "\n"
          ]
        },
        {
          "output_type": "display_data",
          "data": {
            "text/html": [
              "<div style=\"display:flex;flex-direction:row;\"><span>Epoch: 170/280. Iteration: 87/87. Cls loss: 0.00496. Reg loss: 0.05465. Batch loss: 0.05962 Total loss: 0.07129</span><progress style='margin:2px 4px;description_width:initial;' max='87' value='87'></progress>100% 87/87 [01:46&lt;00:00,  1.21s/it]</div>"
            ],
            "text/plain": [
              "<tqdm._fake_ipywidgets.HBox object>"
            ]
          },
          "metadata": {}
        },
        {
          "output_type": "stream",
          "name": "stdout",
          "text": [
            "\n"
          ]
        },
        {
          "output_type": "display_data",
          "data": {
            "text/html": [
              "<div style=\"display:flex;flex-direction:row;\"><span>Epoch: 171/280. Iteration: 87/87. Cls loss: 0.01024. Reg loss: 0.05400. Batch loss: 0.06424 Total loss: 0.07214</span><progress style='margin:2px 4px;description_width:initial;' max='87' value='87'></progress>100% 87/87 [01:46&lt;00:00,  1.21s/it]</div>"
            ],
            "text/plain": [
              "<tqdm._fake_ipywidgets.HBox object>"
            ]
          },
          "metadata": {}
        },
        {
          "output_type": "stream",
          "name": "stdout",
          "text": [
            "\n"
          ]
        },
        {
          "output_type": "display_data",
          "data": {
            "text/html": [
              "<div style=\"display:flex;flex-direction:row;\"><span>Epoch: 172/280. Iteration: 87/87. Cls loss: 0.01007. Reg loss: 0.08566. Batch loss: 0.09573 Total loss: 0.07171</span><progress style='margin:2px 4px;description_width:initial;' max='87' value='87'></progress>100% 87/87 [01:46&lt;00:00,  1.21s/it]</div>"
            ],
            "text/plain": [
              "<tqdm._fake_ipywidgets.HBox object>"
            ]
          },
          "metadata": {}
        },
        {
          "output_type": "stream",
          "name": "stdout",
          "text": [
            "\n"
          ]
        },
        {
          "output_type": "display_data",
          "data": {
            "text/html": [
              "<div style=\"display:flex;flex-direction:row;\"><span>Epoch: 173/280. Iteration: 87/87. Cls loss: 0.00678. Reg loss: 0.05172. Batch loss: 0.05851 Total loss: 0.06913</span><progress style='margin:2px 4px;description_width:initial;' max='87' value='87'></progress>100% 87/87 [01:46&lt;00:00,  1.21s/it]</div>"
            ],
            "text/plain": [
              "<tqdm._fake_ipywidgets.HBox object>"
            ]
          },
          "metadata": {}
        },
        {
          "output_type": "stream",
          "name": "stdout",
          "text": [
            "\n"
          ]
        },
        {
          "output_type": "display_data",
          "data": {
            "text/html": [
              "<div style=\"display:flex;flex-direction:row;\"><span>Epoch: 174/280. Iteration: 87/87. Cls loss: 0.00212. Reg loss: 0.04017. Batch loss: 0.04229 Total loss: 0.07111</span><progress style='margin:2px 4px;description_width:initial;' max='87' value='87'></progress>100% 87/87 [01:46&lt;00:00,  1.22s/it]</div>"
            ],
            "text/plain": [
              "<tqdm._fake_ipywidgets.HBox object>"
            ]
          },
          "metadata": {}
        },
        {
          "output_type": "stream",
          "name": "stdout",
          "text": [
            "\n"
          ]
        },
        {
          "output_type": "display_data",
          "data": {
            "text/html": [
              "<div style=\"display:flex;flex-direction:row;\"><span>Epoch: 175/280. Iteration: 87/87. Cls loss: 0.00245. Reg loss: 0.04544. Batch loss: 0.04789 Total loss: 0.07026</span><progress style='margin:2px 4px;description_width:initial;' max='87' value='87'></progress>100% 87/87 [01:46&lt;00:00,  1.22s/it]</div>"
            ],
            "text/plain": [
              "<tqdm._fake_ipywidgets.HBox object>"
            ]
          },
          "metadata": {}
        },
        {
          "output_type": "stream",
          "name": "stdout",
          "text": [
            "\n"
          ]
        },
        {
          "output_type": "display_data",
          "data": {
            "text/html": [
              "<div style=\"display:flex;flex-direction:row;\"><span>Epoch: 176/280. Iteration: 87/87. Cls loss: 0.00745. Reg loss: 0.05727. Batch loss: 0.06472 Total loss: 0.07246</span><progress style='margin:2px 4px;description_width:initial;' max='87' value='87'></progress>100% 87/87 [01:46&lt;00:00,  1.22s/it]</div>"
            ],
            "text/plain": [
              "<tqdm._fake_ipywidgets.HBox object>"
            ]
          },
          "metadata": {}
        },
        {
          "output_type": "stream",
          "name": "stdout",
          "text": [
            "\n"
          ]
        },
        {
          "output_type": "display_data",
          "data": {
            "text/html": [
              "<div style=\"display:flex;flex-direction:row;\"><span>Epoch: 177/280. Iteration: 87/87. Cls loss: 0.00904. Reg loss: 0.07125. Batch loss: 0.08029 Total loss: 0.06933</span><progress style='margin:2px 4px;description_width:initial;' max='87' value='87'></progress>100% 87/87 [01:46&lt;00:00,  1.22s/it]</div>"
            ],
            "text/plain": [
              "<tqdm._fake_ipywidgets.HBox object>"
            ]
          },
          "metadata": {}
        },
        {
          "output_type": "stream",
          "name": "stdout",
          "text": [
            "\n"
          ]
        },
        {
          "output_type": "display_data",
          "data": {
            "text/html": [
              "<div style=\"display:flex;flex-direction:row;\"><span>Epoch: 178/280. Iteration: 87/87. Cls loss: 0.00433. Reg loss: 0.05012. Batch loss: 0.05445 Total loss: 0.07082</span><progress style='margin:2px 4px;description_width:initial;' max='87' value='87'></progress>100% 87/87 [01:46&lt;00:00,  1.22s/it]</div>"
            ],
            "text/plain": [
              "<tqdm._fake_ipywidgets.HBox object>"
            ]
          },
          "metadata": {}
        },
        {
          "output_type": "stream",
          "name": "stdout",
          "text": [
            "\n"
          ]
        },
        {
          "output_type": "display_data",
          "data": {
            "text/html": [
              "<div style=\"display:flex;flex-direction:row;\"><span>Epoch: 179/280. Iteration: 87/87. Cls loss: 0.00815. Reg loss: 0.07477. Batch loss: 0.08292 Total loss: 0.07008</span><progress style='margin:2px 4px;description_width:initial;' max='87' value='87'></progress>100% 87/87 [01:46&lt;00:00,  1.22s/it]</div>"
            ],
            "text/plain": [
              "<tqdm._fake_ipywidgets.HBox object>"
            ]
          },
          "metadata": {}
        },
        {
          "output_type": "stream",
          "name": "stdout",
          "text": [
            "\n"
          ]
        },
        {
          "output_type": "display_data",
          "data": {
            "text/html": [
              "<div style=\"display:flex;flex-direction:row;\"><span>Epoch: 180/280. Iteration: 87/87. Cls loss: 0.00790. Reg loss: 0.07623. Batch loss: 0.08413 Total loss: 0.07118</span><progress style='margin:2px 4px;description_width:initial;' max='87' value='87'></progress>100% 87/87 [01:46&lt;00:00,  1.21s/it]</div>"
            ],
            "text/plain": [
              "<tqdm._fake_ipywidgets.HBox object>"
            ]
          },
          "metadata": {}
        },
        {
          "output_type": "stream",
          "name": "stdout",
          "text": [
            "\n"
          ]
        },
        {
          "output_type": "display_data",
          "data": {
            "text/html": [
              "<div style=\"display:flex;flex-direction:row;\"><span>Epoch: 181/280. Iteration: 87/87. Cls loss: 0.00312. Reg loss: 0.04108. Batch loss: 0.04420 Total loss: 0.07065</span><progress style='margin:2px 4px;description_width:initial;' max='87' value='87'></progress>100% 87/87 [01:46&lt;00:00,  1.22s/it]</div>"
            ],
            "text/plain": [
              "<tqdm._fake_ipywidgets.HBox object>"
            ]
          },
          "metadata": {}
        },
        {
          "output_type": "stream",
          "name": "stdout",
          "text": [
            "\n"
          ]
        },
        {
          "output_type": "display_data",
          "data": {
            "text/html": [
              "<div style=\"display:flex;flex-direction:row;\"><span>Epoch: 182/280. Iteration: 87/87. Cls loss: 0.00377. Reg loss: 0.05085. Batch loss: 0.05462 Total loss: 0.06857</span><progress style='margin:2px 4px;description_width:initial;' max='87' value='87'></progress>100% 87/87 [01:46&lt;00:00,  1.22s/it]</div>"
            ],
            "text/plain": [
              "<tqdm._fake_ipywidgets.HBox object>"
            ]
          },
          "metadata": {}
        },
        {
          "output_type": "stream",
          "name": "stdout",
          "text": [
            "\n"
          ]
        },
        {
          "output_type": "display_data",
          "data": {
            "text/html": [
              "<div style=\"display:flex;flex-direction:row;\"><span>Epoch: 183/280. Iteration: 87/87. Cls loss: 0.00717. Reg loss: 0.05882. Batch loss: 0.06599 Total loss: 0.07096</span><progress style='margin:2px 4px;description_width:initial;' max='87' value='87'></progress>100% 87/87 [01:46&lt;00:00,  1.22s/it]</div>"
            ],
            "text/plain": [
              "<tqdm._fake_ipywidgets.HBox object>"
            ]
          },
          "metadata": {}
        },
        {
          "output_type": "stream",
          "name": "stdout",
          "text": [
            "\n"
          ]
        },
        {
          "output_type": "display_data",
          "data": {
            "text/html": [
              "<div style=\"display:flex;flex-direction:row;\"><span>Epoch: 184/280. Iteration: 87/87. Cls loss: 0.00334. Reg loss: 0.03503. Batch loss: 0.03837 Total loss: 0.06928</span><progress style='margin:2px 4px;description_width:initial;' max='87' value='87'></progress>100% 87/87 [01:46&lt;00:00,  1.22s/it]</div>"
            ],
            "text/plain": [
              "<tqdm._fake_ipywidgets.HBox object>"
            ]
          },
          "metadata": {}
        },
        {
          "output_type": "stream",
          "name": "stdout",
          "text": [
            "\n"
          ]
        },
        {
          "output_type": "display_data",
          "data": {
            "text/html": [
              "<div style=\"display:flex;flex-direction:row;\"><span>Epoch: 185/280. Iteration: 87/87. Cls loss: 0.00586. Reg loss: 0.05290. Batch loss: 0.05876 Total loss: 0.07157</span><progress style='margin:2px 4px;description_width:initial;' max='87' value='87'></progress>100% 87/87 [01:46&lt;00:00,  1.22s/it]</div>"
            ],
            "text/plain": [
              "<tqdm._fake_ipywidgets.HBox object>"
            ]
          },
          "metadata": {}
        },
        {
          "output_type": "stream",
          "name": "stdout",
          "text": [
            "\n"
          ]
        },
        {
          "output_type": "display_data",
          "data": {
            "text/html": [
              "<div style=\"display:flex;flex-direction:row;\"><span>Epoch: 186/280. Iteration: 87/87. Cls loss: 0.00408. Reg loss: 0.05742. Batch loss: 0.06150 Total loss: 0.07053</span><progress style='margin:2px 4px;description_width:initial;' max='87' value='87'></progress>100% 87/87 [01:46&lt;00:00,  1.21s/it]</div>"
            ],
            "text/plain": [
              "<tqdm._fake_ipywidgets.HBox object>"
            ]
          },
          "metadata": {}
        },
        {
          "output_type": "stream",
          "name": "stdout",
          "text": [
            "\n"
          ]
        },
        {
          "output_type": "display_data",
          "data": {
            "text/html": [
              "<div style=\"display:flex;flex-direction:row;\"><span>Epoch: 187/280. Iteration: 87/87. Cls loss: 0.00352. Reg loss: 0.06467. Batch loss: 0.06819 Total loss: 0.07000</span><progress style='margin:2px 4px;description_width:initial;' max='87' value='87'></progress>100% 87/87 [01:46&lt;00:00,  1.22s/it]</div>"
            ],
            "text/plain": [
              "<tqdm._fake_ipywidgets.HBox object>"
            ]
          },
          "metadata": {}
        },
        {
          "output_type": "stream",
          "name": "stdout",
          "text": [
            "\n"
          ]
        },
        {
          "output_type": "display_data",
          "data": {
            "text/html": [
              "<div style=\"display:flex;flex-direction:row;\"><span>Epoch: 188/280. Iteration: 87/87. Cls loss: 0.00392. Reg loss: 0.05125. Batch loss: 0.05517 Total loss: 0.06919</span><progress style='margin:2px 4px;description_width:initial;' max='87' value='87'></progress>100% 87/87 [01:46&lt;00:00,  1.22s/it]</div>"
            ],
            "text/plain": [
              "<tqdm._fake_ipywidgets.HBox object>"
            ]
          },
          "metadata": {}
        },
        {
          "output_type": "stream",
          "name": "stdout",
          "text": [
            "\n"
          ]
        },
        {
          "output_type": "display_data",
          "data": {
            "text/html": [
              "<div style=\"display:flex;flex-direction:row;\"><span>Epoch: 189/280. Iteration: 87/87. Cls loss: 0.00548. Reg loss: 0.05164. Batch loss: 0.05712 Total loss: 0.07028</span><progress style='margin:2px 4px;description_width:initial;' max='87' value='87'></progress>100% 87/87 [01:46&lt;00:00,  1.22s/it]</div>"
            ],
            "text/plain": [
              "<tqdm._fake_ipywidgets.HBox object>"
            ]
          },
          "metadata": {}
        },
        {
          "output_type": "stream",
          "name": "stdout",
          "text": [
            "\n"
          ]
        },
        {
          "output_type": "display_data",
          "data": {
            "text/html": [
              "<div style=\"display:flex;flex-direction:row;\"><span>Epoch: 190/280. Iteration: 87/87. Cls loss: 0.00416. Reg loss: 0.03725. Batch loss: 0.04141 Total loss: 0.07148</span><progress style='margin:2px 4px;description_width:initial;' max='87' value='87'></progress>100% 87/87 [01:46&lt;00:00,  1.22s/it]</div>"
            ],
            "text/plain": [
              "<tqdm._fake_ipywidgets.HBox object>"
            ]
          },
          "metadata": {}
        },
        {
          "output_type": "stream",
          "name": "stdout",
          "text": [
            "\n"
          ]
        },
        {
          "output_type": "display_data",
          "data": {
            "text/html": [
              "<div style=\"display:flex;flex-direction:row;\"><span>Epoch: 191/280. Iteration: 87/87. Cls loss: 0.00360. Reg loss: 0.05274. Batch loss: 0.05635 Total loss: 0.07144</span><progress style='margin:2px 4px;description_width:initial;' max='87' value='87'></progress>100% 87/87 [01:46&lt;00:00,  1.22s/it]</div>"
            ],
            "text/plain": [
              "<tqdm._fake_ipywidgets.HBox object>"
            ]
          },
          "metadata": {}
        },
        {
          "output_type": "stream",
          "name": "stdout",
          "text": [
            "\n"
          ]
        },
        {
          "output_type": "display_data",
          "data": {
            "text/html": [
              "<div style=\"display:flex;flex-direction:row;\"><span>Epoch: 192/280. Iteration: 87/87. Cls loss: 0.00540. Reg loss: 0.05855. Batch loss: 0.06395 Total loss: 0.06994</span><progress style='margin:2px 4px;description_width:initial;' max='87' value='87'></progress>100% 87/87 [01:46&lt;00:00,  1.21s/it]</div>"
            ],
            "text/plain": [
              "<tqdm._fake_ipywidgets.HBox object>"
            ]
          },
          "metadata": {}
        },
        {
          "output_type": "stream",
          "name": "stdout",
          "text": [
            "\n"
          ]
        },
        {
          "output_type": "display_data",
          "data": {
            "text/html": [
              "<div style=\"display:flex;flex-direction:row;\"><span>Epoch: 193/280. Iteration: 87/87. Cls loss: 0.01287. Reg loss: 0.11454. Batch loss: 0.12741 Total loss: 0.06815</span><progress style='margin:2px 4px;description_width:initial;' max='87' value='87'></progress>100% 87/87 [01:46&lt;00:00,  1.22s/it]</div>"
            ],
            "text/plain": [
              "<tqdm._fake_ipywidgets.HBox object>"
            ]
          },
          "metadata": {}
        },
        {
          "output_type": "stream",
          "name": "stdout",
          "text": [
            "\n"
          ]
        },
        {
          "output_type": "display_data",
          "data": {
            "text/html": [
              "<div style=\"display:flex;flex-direction:row;\"><span>Epoch: 194/280. Iteration: 87/87. Cls loss: 0.00321. Reg loss: 0.04551. Batch loss: 0.04872 Total loss: 0.06939</span><progress style='margin:2px 4px;description_width:initial;' max='87' value='87'></progress>100% 87/87 [01:46&lt;00:00,  1.22s/it]</div>"
            ],
            "text/plain": [
              "<tqdm._fake_ipywidgets.HBox object>"
            ]
          },
          "metadata": {}
        },
        {
          "output_type": "stream",
          "name": "stdout",
          "text": [
            "\n"
          ]
        },
        {
          "output_type": "display_data",
          "data": {
            "text/html": [
              "<div style=\"display:flex;flex-direction:row;\"><span>Epoch: 195/280. Iteration: 87/87. Cls loss: 0.00305. Reg loss: 0.04229. Batch loss: 0.04535 Total loss: 0.07252</span><progress style='margin:2px 4px;description_width:initial;' max='87' value='87'></progress>100% 87/87 [01:46&lt;00:00,  1.21s/it]</div>"
            ],
            "text/plain": [
              "<tqdm._fake_ipywidgets.HBox object>"
            ]
          },
          "metadata": {}
        },
        {
          "output_type": "stream",
          "name": "stdout",
          "text": [
            "\n"
          ]
        },
        {
          "output_type": "display_data",
          "data": {
            "text/html": [
              "<div style=\"display:flex;flex-direction:row;\"><span>Epoch: 196/280. Iteration: 87/87. Cls loss: 0.02721. Reg loss: 0.14115. Batch loss: 0.16836 Total loss: 0.07251</span><progress style='margin:2px 4px;description_width:initial;' max='87' value='87'></progress>100% 87/87 [01:46&lt;00:00,  1.22s/it]</div>"
            ],
            "text/plain": [
              "<tqdm._fake_ipywidgets.HBox object>"
            ]
          },
          "metadata": {}
        },
        {
          "output_type": "stream",
          "name": "stdout",
          "text": [
            "\n"
          ]
        },
        {
          "output_type": "display_data",
          "data": {
            "text/html": [
              "<div style=\"display:flex;flex-direction:row;\"><span>Epoch: 197/280. Iteration: 87/87. Cls loss: 0.00287. Reg loss: 0.05603. Batch loss: 0.05889 Total loss: 0.07099</span><progress style='margin:2px 4px;description_width:initial;' max='87' value='87'></progress>100% 87/87 [01:46&lt;00:00,  1.22s/it]</div>"
            ],
            "text/plain": [
              "<tqdm._fake_ipywidgets.HBox object>"
            ]
          },
          "metadata": {}
        },
        {
          "output_type": "stream",
          "name": "stdout",
          "text": [
            "\n"
          ]
        },
        {
          "output_type": "display_data",
          "data": {
            "text/html": [
              "<div style=\"display:flex;flex-direction:row;\"><span>Epoch: 198/280. Iteration: 87/87. Cls loss: 0.01132. Reg loss: 0.08719. Batch loss: 0.09851 Total loss: 0.07104</span><progress style='margin:2px 4px;description_width:initial;' max='87' value='87'></progress>100% 87/87 [01:46&lt;00:00,  1.22s/it]</div>"
            ],
            "text/plain": [
              "<tqdm._fake_ipywidgets.HBox object>"
            ]
          },
          "metadata": {}
        },
        {
          "output_type": "stream",
          "name": "stdout",
          "text": [
            "\n"
          ]
        },
        {
          "output_type": "display_data",
          "data": {
            "text/html": [
              "<div style=\"display:flex;flex-direction:row;\"><span>Epoch: 199/280. Iteration: 87/87. Cls loss: 0.00259. Reg loss: 0.04839. Batch loss: 0.05098 Total loss: 0.07079</span><progress style='margin:2px 4px;description_width:initial;' max='87' value='87'></progress>100% 87/87 [01:46&lt;00:00,  1.21s/it]</div>"
            ],
            "text/plain": [
              "<tqdm._fake_ipywidgets.HBox object>"
            ]
          },
          "metadata": {}
        },
        {
          "output_type": "stream",
          "name": "stdout",
          "text": [
            "\n"
          ]
        },
        {
          "output_type": "display_data",
          "data": {
            "text/html": [
              "<div style=\"display:flex;flex-direction:row;\"><span>Epoch: 200/280. Iteration: 87/87. Cls loss: 0.00397. Reg loss: 0.05260. Batch loss: 0.05657 Total loss: 0.07187</span><progress style='margin:2px 4px;description_width:initial;' max='87' value='87'></progress>100% 87/87 [01:46&lt;00:00,  1.22s/it]</div>"
            ],
            "text/plain": [
              "<tqdm._fake_ipywidgets.HBox object>"
            ]
          },
          "metadata": {}
        },
        {
          "output_type": "stream",
          "name": "stdout",
          "text": [
            "\n"
          ]
        },
        {
          "output_type": "display_data",
          "data": {
            "text/html": [
              "<div style=\"display:flex;flex-direction:row;\"><span>Epoch: 201/280. Iteration: 87/87. Cls loss: 0.00371. Reg loss: 0.04738. Batch loss: 0.05109 Total loss: 0.07331</span><progress style='margin:2px 4px;description_width:initial;' max='87' value='87'></progress>100% 87/87 [01:46&lt;00:00,  1.21s/it]</div>"
            ],
            "text/plain": [
              "<tqdm._fake_ipywidgets.HBox object>"
            ]
          },
          "metadata": {}
        },
        {
          "output_type": "stream",
          "name": "stdout",
          "text": [
            "\n"
          ]
        },
        {
          "output_type": "display_data",
          "data": {
            "text/html": [
              "<div style=\"display:flex;flex-direction:row;\"><span>Epoch: 202/280. Iteration: 87/87. Cls loss: 0.00447. Reg loss: 0.04919. Batch loss: 0.05366 Total loss: 0.07069</span><progress style='margin:2px 4px;description_width:initial;' max='87' value='87'></progress>100% 87/87 [01:46&lt;00:00,  1.21s/it]</div>"
            ],
            "text/plain": [
              "<tqdm._fake_ipywidgets.HBox object>"
            ]
          },
          "metadata": {}
        },
        {
          "output_type": "stream",
          "name": "stdout",
          "text": [
            "\n"
          ]
        },
        {
          "output_type": "display_data",
          "data": {
            "text/html": [
              "<div style=\"display:flex;flex-direction:row;\"><span>Epoch: 203/280. Iteration: 87/87. Cls loss: 0.01035. Reg loss: 0.06218. Batch loss: 0.07254 Total loss: 0.06838</span><progress style='margin:2px 4px;description_width:initial;' max='87' value='87'></progress>100% 87/87 [01:46&lt;00:00,  1.21s/it]</div>"
            ],
            "text/plain": [
              "<tqdm._fake_ipywidgets.HBox object>"
            ]
          },
          "metadata": {}
        },
        {
          "output_type": "stream",
          "name": "stdout",
          "text": [
            "\n"
          ]
        },
        {
          "output_type": "display_data",
          "data": {
            "text/html": [
              "<div style=\"display:flex;flex-direction:row;\"><span>Epoch: 204/280. Iteration: 87/87. Cls loss: 0.00477. Reg loss: 0.05752. Batch loss: 0.06229 Total loss: 0.07085</span><progress style='margin:2px 4px;description_width:initial;' max='87' value='87'></progress>100% 87/87 [01:46&lt;00:00,  1.21s/it]</div>"
            ],
            "text/plain": [
              "<tqdm._fake_ipywidgets.HBox object>"
            ]
          },
          "metadata": {}
        },
        {
          "output_type": "stream",
          "name": "stdout",
          "text": [
            "\n"
          ]
        },
        {
          "output_type": "display_data",
          "data": {
            "text/html": [
              "<div style=\"display:flex;flex-direction:row;\"><span>Epoch: 205/280. Iteration: 87/87. Cls loss: 0.02196. Reg loss: 0.07506. Batch loss: 0.09701 Total loss: 0.07021</span><progress style='margin:2px 4px;description_width:initial;' max='87' value='87'></progress>100% 87/87 [01:46&lt;00:00,  1.21s/it]</div>"
            ],
            "text/plain": [
              "<tqdm._fake_ipywidgets.HBox object>"
            ]
          },
          "metadata": {}
        },
        {
          "output_type": "stream",
          "name": "stdout",
          "text": [
            "\n"
          ]
        },
        {
          "output_type": "display_data",
          "data": {
            "text/html": [
              "<div style=\"display:flex;flex-direction:row;\"><span>Epoch: 206/280. Iteration: 87/87. Cls loss: 0.00449. Reg loss: 0.07845. Batch loss: 0.08294 Total loss: 0.07006</span><progress style='margin:2px 4px;description_width:initial;' max='87' value='87'></progress>100% 87/87 [01:46&lt;00:00,  1.21s/it]</div>"
            ],
            "text/plain": [
              "<tqdm._fake_ipywidgets.HBox object>"
            ]
          },
          "metadata": {}
        },
        {
          "output_type": "stream",
          "name": "stdout",
          "text": [
            "\n"
          ]
        },
        {
          "output_type": "display_data",
          "data": {
            "text/html": [
              "<div style=\"display:flex;flex-direction:row;\"><span>Epoch: 207/280. Iteration: 87/87. Cls loss: 0.02580. Reg loss: 0.10166. Batch loss: 0.12747 Total loss: 0.06986</span><progress style='margin:2px 4px;description_width:initial;' max='87' value='87'></progress>100% 87/87 [01:46&lt;00:00,  1.21s/it]</div>"
            ],
            "text/plain": [
              "<tqdm._fake_ipywidgets.HBox object>"
            ]
          },
          "metadata": {}
        },
        {
          "output_type": "stream",
          "name": "stdout",
          "text": [
            "\n"
          ]
        },
        {
          "output_type": "display_data",
          "data": {
            "text/html": [
              "<div style=\"display:flex;flex-direction:row;\"><span>Epoch: 208/280. Iteration: 87/87. Cls loss: 0.00305. Reg loss: 0.04558. Batch loss: 0.04862 Total loss: 0.06981</span><progress style='margin:2px 4px;description_width:initial;' max='87' value='87'></progress>100% 87/87 [01:46&lt;00:00,  1.21s/it]</div>"
            ],
            "text/plain": [
              "<tqdm._fake_ipywidgets.HBox object>"
            ]
          },
          "metadata": {}
        },
        {
          "output_type": "stream",
          "name": "stdout",
          "text": [
            "\n"
          ]
        },
        {
          "output_type": "display_data",
          "data": {
            "text/html": [
              "<div style=\"display:flex;flex-direction:row;\"><span>Epoch: 209/280. Iteration: 87/87. Cls loss: 0.00763. Reg loss: 0.07693. Batch loss: 0.08456 Total loss: 0.06979</span><progress style='margin:2px 4px;description_width:initial;' max='87' value='87'></progress>100% 87/87 [01:46&lt;00:00,  1.21s/it]</div>"
            ],
            "text/plain": [
              "<tqdm._fake_ipywidgets.HBox object>"
            ]
          },
          "metadata": {}
        },
        {
          "output_type": "stream",
          "name": "stdout",
          "text": [
            "\n"
          ]
        },
        {
          "output_type": "display_data",
          "data": {
            "text/html": [
              "<div style=\"display:flex;flex-direction:row;\"><span>Epoch: 210/280. Iteration: 87/87. Cls loss: 0.00688. Reg loss: 0.07526. Batch loss: 0.08213 Total loss: 0.07253</span><progress style='margin:2px 4px;description_width:initial;' max='87' value='87'></progress>100% 87/87 [01:46&lt;00:00,  1.21s/it]</div>"
            ],
            "text/plain": [
              "<tqdm._fake_ipywidgets.HBox object>"
            ]
          },
          "metadata": {}
        },
        {
          "output_type": "stream",
          "name": "stdout",
          "text": [
            "\n"
          ]
        },
        {
          "output_type": "display_data",
          "data": {
            "text/html": [
              "<div style=\"display:flex;flex-direction:row;\"><span>Epoch: 211/280. Iteration: 87/87. Cls loss: 0.01496. Reg loss: 0.09116. Batch loss: 0.10612 Total loss: 0.07037</span><progress style='margin:2px 4px;description_width:initial;' max='87' value='87'></progress>100% 87/87 [01:46&lt;00:00,  1.21s/it]</div>"
            ],
            "text/plain": [
              "<tqdm._fake_ipywidgets.HBox object>"
            ]
          },
          "metadata": {}
        },
        {
          "output_type": "stream",
          "name": "stdout",
          "text": [
            "\n"
          ]
        },
        {
          "output_type": "display_data",
          "data": {
            "text/html": [
              "<div style=\"display:flex;flex-direction:row;\"><span>Epoch: 212/280. Iteration: 87/87. Cls loss: 0.00973. Reg loss: 0.07632. Batch loss: 0.08605 Total loss: 0.07052</span><progress style='margin:2px 4px;description_width:initial;' max='87' value='87'></progress>100% 87/87 [01:46&lt;00:00,  1.21s/it]</div>"
            ],
            "text/plain": [
              "<tqdm._fake_ipywidgets.HBox object>"
            ]
          },
          "metadata": {}
        },
        {
          "output_type": "stream",
          "name": "stdout",
          "text": [
            "\n"
          ]
        },
        {
          "output_type": "display_data",
          "data": {
            "text/html": [
              "<div style=\"display:flex;flex-direction:row;\"><span>Epoch: 213/280. Iteration: 87/87. Cls loss: 0.01343. Reg loss: 0.07764. Batch loss: 0.09107 Total loss: 0.07179</span><progress style='margin:2px 4px;description_width:initial;' max='87' value='87'></progress>100% 87/87 [01:46&lt;00:00,  1.22s/it]</div>"
            ],
            "text/plain": [
              "<tqdm._fake_ipywidgets.HBox object>"
            ]
          },
          "metadata": {}
        },
        {
          "output_type": "stream",
          "name": "stdout",
          "text": [
            "\n"
          ]
        },
        {
          "output_type": "display_data",
          "data": {
            "text/html": [
              "<div style=\"display:flex;flex-direction:row;\"><span>Epoch: 214/280. Iteration: 87/87. Cls loss: 0.00731. Reg loss: 0.05230. Batch loss: 0.05961 Total loss: 0.07155</span><progress style='margin:2px 4px;description_width:initial;' max='87' value='87'></progress>100% 87/87 [01:46&lt;00:00,  1.22s/it]</div>"
            ],
            "text/plain": [
              "<tqdm._fake_ipywidgets.HBox object>"
            ]
          },
          "metadata": {}
        },
        {
          "output_type": "stream",
          "name": "stdout",
          "text": [
            "\n"
          ]
        },
        {
          "output_type": "display_data",
          "data": {
            "text/html": [
              "<div style=\"display:flex;flex-direction:row;\"><span>Epoch: 215/280. Iteration: 87/87. Cls loss: 0.00249. Reg loss: 0.04660. Batch loss: 0.04908 Total loss: 0.07246</span><progress style='margin:2px 4px;description_width:initial;' max='87' value='87'></progress>100% 87/87 [01:46&lt;00:00,  1.21s/it]</div>"
            ],
            "text/plain": [
              "<tqdm._fake_ipywidgets.HBox object>"
            ]
          },
          "metadata": {}
        },
        {
          "output_type": "stream",
          "name": "stdout",
          "text": [
            "\n"
          ]
        },
        {
          "output_type": "display_data",
          "data": {
            "text/html": [
              "<div style=\"display:flex;flex-direction:row;\"><span>Epoch: 216/280. Iteration: 87/87. Cls loss: 0.00275. Reg loss: 0.04917. Batch loss: 0.05191 Total loss: 0.07267</span><progress style='margin:2px 4px;description_width:initial;' max='87' value='87'></progress>100% 87/87 [01:46&lt;00:00,  1.21s/it]</div>"
            ],
            "text/plain": [
              "<tqdm._fake_ipywidgets.HBox object>"
            ]
          },
          "metadata": {}
        },
        {
          "output_type": "stream",
          "name": "stdout",
          "text": [
            "\n"
          ]
        },
        {
          "output_type": "display_data",
          "data": {
            "text/html": [
              "<div style=\"display:flex;flex-direction:row;\"><span>Epoch: 217/280. Iteration: 87/87. Cls loss: 0.00618. Reg loss: 0.07084. Batch loss: 0.07703 Total loss: 0.07153</span><progress style='margin:2px 4px;description_width:initial;' max='87' value='87'></progress>100% 87/87 [01:46&lt;00:00,  1.21s/it]</div>"
            ],
            "text/plain": [
              "<tqdm._fake_ipywidgets.HBox object>"
            ]
          },
          "metadata": {}
        },
        {
          "output_type": "stream",
          "name": "stdout",
          "text": [
            "\n"
          ]
        },
        {
          "output_type": "display_data",
          "data": {
            "text/html": [
              "<div style=\"display:flex;flex-direction:row;\"><span>Epoch: 218/280. Iteration: 87/87. Cls loss: 0.00621. Reg loss: 0.06073. Batch loss: 0.06694 Total loss: 0.07166</span><progress style='margin:2px 4px;description_width:initial;' max='87' value='87'></progress>100% 87/87 [01:46&lt;00:00,  1.21s/it]</div>"
            ],
            "text/plain": [
              "<tqdm._fake_ipywidgets.HBox object>"
            ]
          },
          "metadata": {}
        },
        {
          "output_type": "stream",
          "name": "stdout",
          "text": [
            "\n"
          ]
        },
        {
          "output_type": "display_data",
          "data": {
            "text/html": [
              "<div style=\"display:flex;flex-direction:row;\"><span>Epoch: 219/280. Iteration: 87/87. Cls loss: 0.00208. Reg loss: 0.04347. Batch loss: 0.04555 Total loss: 0.07150</span><progress style='margin:2px 4px;description_width:initial;' max='87' value='87'></progress>100% 87/87 [01:46&lt;00:00,  1.21s/it]</div>"
            ],
            "text/plain": [
              "<tqdm._fake_ipywidgets.HBox object>"
            ]
          },
          "metadata": {}
        },
        {
          "output_type": "stream",
          "name": "stdout",
          "text": [
            "\n"
          ]
        },
        {
          "output_type": "display_data",
          "data": {
            "text/html": [
              "<div style=\"display:flex;flex-direction:row;\"><span>Epoch: 220/280. Iteration: 87/87. Cls loss: 0.00924. Reg loss: 0.08766. Batch loss: 0.09690 Total loss: 0.06944</span><progress style='margin:2px 4px;description_width:initial;' max='87' value='87'></progress>100% 87/87 [01:46&lt;00:00,  1.21s/it]</div>"
            ],
            "text/plain": [
              "<tqdm._fake_ipywidgets.HBox object>"
            ]
          },
          "metadata": {}
        },
        {
          "output_type": "stream",
          "name": "stdout",
          "text": [
            "\n"
          ]
        },
        {
          "output_type": "display_data",
          "data": {
            "text/html": [
              "<div style=\"display:flex;flex-direction:row;\"><span>Epoch: 221/280. Iteration: 87/87. Cls loss: 0.02117. Reg loss: 0.10431. Batch loss: 0.12548 Total loss: 0.06980</span><progress style='margin:2px 4px;description_width:initial;' max='87' value='87'></progress>100% 87/87 [01:46&lt;00:00,  1.21s/it]</div>"
            ],
            "text/plain": [
              "<tqdm._fake_ipywidgets.HBox object>"
            ]
          },
          "metadata": {}
        },
        {
          "output_type": "stream",
          "name": "stdout",
          "text": [
            "\n"
          ]
        },
        {
          "output_type": "display_data",
          "data": {
            "text/html": [
              "<div style=\"display:flex;flex-direction:row;\"><span>Epoch: 222/280. Iteration: 87/87. Cls loss: 0.01909. Reg loss: 0.09045. Batch loss: 0.10954 Total loss: 0.07101</span><progress style='margin:2px 4px;description_width:initial;' max='87' value='87'></progress>100% 87/87 [01:46&lt;00:00,  1.21s/it]</div>"
            ],
            "text/plain": [
              "<tqdm._fake_ipywidgets.HBox object>"
            ]
          },
          "metadata": {}
        },
        {
          "output_type": "stream",
          "name": "stdout",
          "text": [
            "\n"
          ]
        },
        {
          "output_type": "display_data",
          "data": {
            "text/html": [
              "<div style=\"display:flex;flex-direction:row;\"><span>Epoch: 223/280. Iteration: 87/87. Cls loss: 0.01390. Reg loss: 0.09612. Batch loss: 0.11002 Total loss: 0.06898</span><progress style='margin:2px 4px;description_width:initial;' max='87' value='87'></progress>100% 87/87 [01:46&lt;00:00,  1.21s/it]</div>"
            ],
            "text/plain": [
              "<tqdm._fake_ipywidgets.HBox object>"
            ]
          },
          "metadata": {}
        },
        {
          "output_type": "stream",
          "name": "stdout",
          "text": [
            "\n"
          ]
        },
        {
          "output_type": "display_data",
          "data": {
            "text/html": [
              "<div style=\"display:flex;flex-direction:row;\"><span>Epoch: 224/280. Iteration: 87/87. Cls loss: 0.00956. Reg loss: 0.07529. Batch loss: 0.08486 Total loss: 0.07029</span><progress style='margin:2px 4px;description_width:initial;' max='87' value='87'></progress>100% 87/87 [01:46&lt;00:00,  1.21s/it]</div>"
            ],
            "text/plain": [
              "<tqdm._fake_ipywidgets.HBox object>"
            ]
          },
          "metadata": {}
        },
        {
          "output_type": "stream",
          "name": "stdout",
          "text": [
            "\n"
          ]
        },
        {
          "output_type": "display_data",
          "data": {
            "text/html": [
              "<div style=\"display:flex;flex-direction:row;\"><span>Epoch: 225/280. Iteration: 87/87. Cls loss: 0.00569. Reg loss: 0.05966. Batch loss: 0.06535 Total loss: 0.07450</span><progress style='margin:2px 4px;description_width:initial;' max='87' value='87'></progress>100% 87/87 [01:46&lt;00:00,  1.21s/it]</div>"
            ],
            "text/plain": [
              "<tqdm._fake_ipywidgets.HBox object>"
            ]
          },
          "metadata": {}
        },
        {
          "output_type": "stream",
          "name": "stdout",
          "text": [
            "\n"
          ]
        },
        {
          "output_type": "display_data",
          "data": {
            "text/html": [
              "<div style=\"display:flex;flex-direction:row;\"><span>Epoch: 226/280. Iteration: 87/87. Cls loss: 0.00636. Reg loss: 0.06839. Batch loss: 0.07475 Total loss: 0.06908</span><progress style='margin:2px 4px;description_width:initial;' max='87' value='87'></progress>100% 87/87 [01:46&lt;00:00,  1.21s/it]</div>"
            ],
            "text/plain": [
              "<tqdm._fake_ipywidgets.HBox object>"
            ]
          },
          "metadata": {}
        },
        {
          "output_type": "stream",
          "name": "stdout",
          "text": [
            "\n"
          ]
        },
        {
          "output_type": "display_data",
          "data": {
            "text/html": [
              "<div style=\"display:flex;flex-direction:row;\"><span>Epoch: 227/280. Iteration: 87/87. Cls loss: 0.00355. Reg loss: 0.05508. Batch loss: 0.05863 Total loss: 0.06975</span><progress style='margin:2px 4px;description_width:initial;' max='87' value='87'></progress>100% 87/87 [01:46&lt;00:00,  1.22s/it]</div>"
            ],
            "text/plain": [
              "<tqdm._fake_ipywidgets.HBox object>"
            ]
          },
          "metadata": {}
        },
        {
          "output_type": "stream",
          "name": "stdout",
          "text": [
            "\n"
          ]
        },
        {
          "output_type": "display_data",
          "data": {
            "text/html": [
              "<div style=\"display:flex;flex-direction:row;\"><span>Epoch: 228/280. Iteration: 87/87. Cls loss: 0.00767. Reg loss: 0.08811. Batch loss: 0.09578 Total loss: 0.07003</span><progress style='margin:2px 4px;description_width:initial;' max='87' value='87'></progress>100% 87/87 [01:46&lt;00:00,  1.21s/it]</div>"
            ],
            "text/plain": [
              "<tqdm._fake_ipywidgets.HBox object>"
            ]
          },
          "metadata": {}
        },
        {
          "output_type": "stream",
          "name": "stdout",
          "text": [
            "\n"
          ]
        },
        {
          "output_type": "display_data",
          "data": {
            "text/html": [
              "<div style=\"display:flex;flex-direction:row;\"><span>Epoch: 229/280. Iteration: 87/87. Cls loss: 0.00790. Reg loss: 0.06885. Batch loss: 0.07676 Total loss: 0.07015</span><progress style='margin:2px 4px;description_width:initial;' max='87' value='87'></progress>100% 87/87 [01:46&lt;00:00,  1.21s/it]</div>"
            ],
            "text/plain": [
              "<tqdm._fake_ipywidgets.HBox object>"
            ]
          },
          "metadata": {}
        },
        {
          "output_type": "stream",
          "name": "stdout",
          "text": [
            "\n"
          ]
        },
        {
          "output_type": "display_data",
          "data": {
            "text/html": [
              "<div style=\"display:flex;flex-direction:row;\"><span>Epoch: 230/280. Iteration: 87/87. Cls loss: 0.00707. Reg loss: 0.04760. Batch loss: 0.05467 Total loss: 0.07121</span><progress style='margin:2px 4px;description_width:initial;' max='87' value='87'></progress>100% 87/87 [01:46&lt;00:00,  1.21s/it]</div>"
            ],
            "text/plain": [
              "<tqdm._fake_ipywidgets.HBox object>"
            ]
          },
          "metadata": {}
        },
        {
          "output_type": "stream",
          "name": "stdout",
          "text": [
            "\n"
          ]
        },
        {
          "output_type": "display_data",
          "data": {
            "text/html": [
              "<div style=\"display:flex;flex-direction:row;\"><span>Epoch: 231/280. Iteration: 87/87. Cls loss: 0.00385. Reg loss: 0.05962. Batch loss: 0.06347 Total loss: 0.07006</span><progress style='margin:2px 4px;description_width:initial;' max='87' value='87'></progress>100% 87/87 [01:46&lt;00:00,  1.21s/it]</div>"
            ],
            "text/plain": [
              "<tqdm._fake_ipywidgets.HBox object>"
            ]
          },
          "metadata": {}
        },
        {
          "output_type": "stream",
          "name": "stdout",
          "text": [
            "\n"
          ]
        },
        {
          "output_type": "display_data",
          "data": {
            "text/html": [
              "<div style=\"display:flex;flex-direction:row;\"><span>Epoch: 232/280. Iteration: 87/87. Cls loss: 0.00239. Reg loss: 0.04645. Batch loss: 0.04884 Total loss: 0.07088</span><progress style='margin:2px 4px;description_width:initial;' max='87' value='87'></progress>100% 87/87 [01:46&lt;00:00,  1.21s/it]</div>"
            ],
            "text/plain": [
              "<tqdm._fake_ipywidgets.HBox object>"
            ]
          },
          "metadata": {}
        },
        {
          "output_type": "stream",
          "name": "stdout",
          "text": [
            "\n"
          ]
        },
        {
          "output_type": "display_data",
          "data": {
            "text/html": [
              "<div style=\"display:flex;flex-direction:row;\"><span>Epoch: 233/280. Iteration: 87/87. Cls loss: 0.00649. Reg loss: 0.06180. Batch loss: 0.06829 Total loss: 0.06988</span><progress style='margin:2px 4px;description_width:initial;' max='87' value='87'></progress>100% 87/87 [01:46&lt;00:00,  1.21s/it]</div>"
            ],
            "text/plain": [
              "<tqdm._fake_ipywidgets.HBox object>"
            ]
          },
          "metadata": {}
        },
        {
          "output_type": "stream",
          "name": "stdout",
          "text": [
            "\n"
          ]
        },
        {
          "output_type": "display_data",
          "data": {
            "text/html": [
              "<div style=\"display:flex;flex-direction:row;\"><span>Epoch: 234/280. Iteration: 87/87. Cls loss: 0.00784. Reg loss: 0.07418. Batch loss: 0.08202 Total loss: 0.06906</span><progress style='margin:2px 4px;description_width:initial;' max='87' value='87'></progress>100% 87/87 [01:46&lt;00:00,  1.21s/it]</div>"
            ],
            "text/plain": [
              "<tqdm._fake_ipywidgets.HBox object>"
            ]
          },
          "metadata": {}
        },
        {
          "output_type": "stream",
          "name": "stdout",
          "text": [
            "\n"
          ]
        },
        {
          "output_type": "display_data",
          "data": {
            "text/html": [
              "<div style=\"display:flex;flex-direction:row;\"><span>Epoch: 235/280. Iteration: 87/87. Cls loss: 0.00598. Reg loss: 0.06414. Batch loss: 0.07012 Total loss: 0.07282</span><progress style='margin:2px 4px;description_width:initial;' max='87' value='87'></progress>100% 87/87 [01:46&lt;00:00,  1.21s/it]</div>"
            ],
            "text/plain": [
              "<tqdm._fake_ipywidgets.HBox object>"
            ]
          },
          "metadata": {}
        },
        {
          "output_type": "stream",
          "name": "stdout",
          "text": [
            "\n"
          ]
        },
        {
          "output_type": "display_data",
          "data": {
            "text/html": [
              "<div style=\"display:flex;flex-direction:row;\"><span>Epoch: 236/280. Iteration: 87/87. Cls loss: 0.01194. Reg loss: 0.08578. Batch loss: 0.09772 Total loss: 0.06927</span><progress style='margin:2px 4px;description_width:initial;' max='87' value='87'></progress>100% 87/87 [01:46&lt;00:00,  1.21s/it]</div>"
            ],
            "text/plain": [
              "<tqdm._fake_ipywidgets.HBox object>"
            ]
          },
          "metadata": {}
        },
        {
          "output_type": "stream",
          "name": "stdout",
          "text": [
            "\n"
          ]
        },
        {
          "output_type": "display_data",
          "data": {
            "text/html": [
              "<div style=\"display:flex;flex-direction:row;\"><span>Epoch: 237/280. Iteration: 87/87. Cls loss: 0.00661. Reg loss: 0.07240. Batch loss: 0.07901 Total loss: 0.07059</span><progress style='margin:2px 4px;description_width:initial;' max='87' value='87'></progress>100% 87/87 [01:46&lt;00:00,  1.21s/it]</div>"
            ],
            "text/plain": [
              "<tqdm._fake_ipywidgets.HBox object>"
            ]
          },
          "metadata": {}
        },
        {
          "output_type": "stream",
          "name": "stdout",
          "text": [
            "\n"
          ]
        },
        {
          "output_type": "display_data",
          "data": {
            "text/html": [
              "<div style=\"display:flex;flex-direction:row;\"><span>Epoch: 238/280. Iteration: 87/87. Cls loss: 0.00694. Reg loss: 0.06660. Batch loss: 0.07355 Total loss: 0.07002</span><progress style='margin:2px 4px;description_width:initial;' max='87' value='87'></progress>100% 87/87 [01:46&lt;00:00,  1.21s/it]</div>"
            ],
            "text/plain": [
              "<tqdm._fake_ipywidgets.HBox object>"
            ]
          },
          "metadata": {}
        },
        {
          "output_type": "stream",
          "name": "stdout",
          "text": [
            "\n"
          ]
        },
        {
          "output_type": "display_data",
          "data": {
            "text/html": [
              "<div style=\"display:flex;flex-direction:row;\"><span>Epoch: 239/280. Iteration: 87/87. Cls loss: 0.00470. Reg loss: 0.07972. Batch loss: 0.08442 Total loss: 0.06918</span><progress style='margin:2px 4px;description_width:initial;' max='87' value='87'></progress>100% 87/87 [01:46&lt;00:00,  1.21s/it]</div>"
            ],
            "text/plain": [
              "<tqdm._fake_ipywidgets.HBox object>"
            ]
          },
          "metadata": {}
        },
        {
          "output_type": "stream",
          "name": "stdout",
          "text": [
            "\n"
          ]
        },
        {
          "output_type": "display_data",
          "data": {
            "text/html": [
              "<div style=\"display:flex;flex-direction:row;\"><span>Epoch: 240/280. Iteration: 87/87. Cls loss: 0.00312. Reg loss: 0.03925. Batch loss: 0.04237 Total loss: 0.07141</span><progress style='margin:2px 4px;description_width:initial;' max='87' value='87'></progress>100% 87/87 [01:46&lt;00:00,  1.21s/it]</div>"
            ],
            "text/plain": [
              "<tqdm._fake_ipywidgets.HBox object>"
            ]
          },
          "metadata": {}
        },
        {
          "output_type": "stream",
          "name": "stdout",
          "text": [
            "\n"
          ]
        },
        {
          "output_type": "display_data",
          "data": {
            "text/html": [
              "<div style=\"display:flex;flex-direction:row;\"><span>Epoch: 241/280. Iteration: 87/87. Cls loss: 0.01436. Reg loss: 0.13405. Batch loss: 0.14842 Total loss: 0.07041</span><progress style='margin:2px 4px;description_width:initial;' max='87' value='87'></progress>100% 87/87 [01:46&lt;00:00,  1.22s/it]</div>"
            ],
            "text/plain": [
              "<tqdm._fake_ipywidgets.HBox object>"
            ]
          },
          "metadata": {}
        },
        {
          "output_type": "stream",
          "name": "stdout",
          "text": [
            "\n"
          ]
        },
        {
          "output_type": "display_data",
          "data": {
            "text/html": [
              "<div style=\"display:flex;flex-direction:row;\"><span>Epoch: 242/280. Iteration: 87/87. Cls loss: 0.00458. Reg loss: 0.06214. Batch loss: 0.06672 Total loss: 0.06855</span><progress style='margin:2px 4px;description_width:initial;' max='87' value='87'></progress>100% 87/87 [01:46&lt;00:00,  1.21s/it]</div>"
            ],
            "text/plain": [
              "<tqdm._fake_ipywidgets.HBox object>"
            ]
          },
          "metadata": {}
        },
        {
          "output_type": "stream",
          "name": "stdout",
          "text": [
            "\n"
          ]
        },
        {
          "output_type": "display_data",
          "data": {
            "text/html": [
              "<div style=\"display:flex;flex-direction:row;\"><span>Epoch: 243/280. Iteration: 87/87. Cls loss: 0.00648. Reg loss: 0.06971. Batch loss: 0.07619 Total loss: 0.06829</span><progress style='margin:2px 4px;description_width:initial;' max='87' value='87'></progress>100% 87/87 [01:46&lt;00:00,  1.21s/it]</div>"
            ],
            "text/plain": [
              "<tqdm._fake_ipywidgets.HBox object>"
            ]
          },
          "metadata": {}
        },
        {
          "output_type": "stream",
          "name": "stdout",
          "text": [
            "\n"
          ]
        },
        {
          "output_type": "display_data",
          "data": {
            "text/html": [
              "<div style=\"display:flex;flex-direction:row;\"><span>Epoch: 244/280. Iteration: 87/87. Cls loss: 0.00291. Reg loss: 0.05434. Batch loss: 0.05725 Total loss: 0.07032</span><progress style='margin:2px 4px;description_width:initial;' max='87' value='87'></progress>100% 87/87 [01:46&lt;00:00,  1.21s/it]</div>"
            ],
            "text/plain": [
              "<tqdm._fake_ipywidgets.HBox object>"
            ]
          },
          "metadata": {}
        },
        {
          "output_type": "stream",
          "name": "stdout",
          "text": [
            "\n"
          ]
        },
        {
          "output_type": "display_data",
          "data": {
            "text/html": [
              "<div style=\"display:flex;flex-direction:row;\"><span>Epoch: 245/280. Iteration: 87/87. Cls loss: 0.00454. Reg loss: 0.05231. Batch loss: 0.05685 Total loss: 0.07110</span><progress style='margin:2px 4px;description_width:initial;' max='87' value='87'></progress>100% 87/87 [01:46&lt;00:00,  1.21s/it]</div>"
            ],
            "text/plain": [
              "<tqdm._fake_ipywidgets.HBox object>"
            ]
          },
          "metadata": {}
        },
        {
          "output_type": "stream",
          "name": "stdout",
          "text": [
            "\n"
          ]
        },
        {
          "output_type": "display_data",
          "data": {
            "text/html": [
              "<div style=\"display:flex;flex-direction:row;\"><span>Epoch: 246/280. Iteration: 87/87. Cls loss: 0.00350. Reg loss: 0.04995. Batch loss: 0.05346 Total loss: 0.07079</span><progress style='margin:2px 4px;description_width:initial;' max='87' value='87'></progress>100% 87/87 [01:46&lt;00:00,  1.21s/it]</div>"
            ],
            "text/plain": [
              "<tqdm._fake_ipywidgets.HBox object>"
            ]
          },
          "metadata": {}
        },
        {
          "output_type": "stream",
          "name": "stdout",
          "text": [
            "\n"
          ]
        },
        {
          "output_type": "display_data",
          "data": {
            "text/html": [
              "<div style=\"display:flex;flex-direction:row;\"><span>Epoch: 247/280. Iteration: 87/87. Cls loss: 0.00678. Reg loss: 0.06337. Batch loss: 0.07015 Total loss: 0.07201</span><progress style='margin:2px 4px;description_width:initial;' max='87' value='87'></progress>100% 87/87 [01:46&lt;00:00,  1.21s/it]</div>"
            ],
            "text/plain": [
              "<tqdm._fake_ipywidgets.HBox object>"
            ]
          },
          "metadata": {}
        },
        {
          "output_type": "stream",
          "name": "stdout",
          "text": [
            "\n"
          ]
        },
        {
          "output_type": "display_data",
          "data": {
            "text/html": [
              "<div style=\"display:flex;flex-direction:row;\"><span>Epoch: 248/280. Iteration: 87/87. Cls loss: 0.00581. Reg loss: 0.07509. Batch loss: 0.08090 Total loss: 0.07122</span><progress style='margin:2px 4px;description_width:initial;' max='87' value='87'></progress>100% 87/87 [01:46&lt;00:00,  1.21s/it]</div>"
            ],
            "text/plain": [
              "<tqdm._fake_ipywidgets.HBox object>"
            ]
          },
          "metadata": {}
        },
        {
          "output_type": "stream",
          "name": "stdout",
          "text": [
            "\n",
            "faild onnx export\n"
          ]
        },
        {
          "output_type": "display_data",
          "data": {
            "text/html": [
              "<div style=\"display:flex;flex-direction:row;\"><span>Epoch: 249/280. Iteration: 87/87. Cls loss: 0.00505. Reg loss: 0.05616. Batch loss: 0.06121 Total loss: 0.07039</span><progress style='margin:2px 4px;description_width:initial;' max='87' value='87'></progress>100% 87/87 [01:43&lt;00:00,  1.18s/it]</div>"
            ],
            "text/plain": [
              "<tqdm._fake_ipywidgets.HBox object>"
            ]
          },
          "metadata": {}
        },
        {
          "output_type": "stream",
          "name": "stdout",
          "text": [
            "\n"
          ]
        },
        {
          "output_type": "display_data",
          "data": {
            "text/html": [
              "<div style=\"display:flex;flex-direction:row;\"><span>Epoch: 250/280. Iteration: 87/87. Cls loss: 0.00371. Reg loss: 0.05021. Batch loss: 0.05393 Total loss: 0.07176</span><progress style='margin:2px 4px;description_width:initial;' max='87' value='87'></progress>100% 87/87 [01:46&lt;00:00,  1.21s/it]</div>"
            ],
            "text/plain": [
              "<tqdm._fake_ipywidgets.HBox object>"
            ]
          },
          "metadata": {}
        },
        {
          "output_type": "stream",
          "name": "stdout",
          "text": [
            "\n"
          ]
        },
        {
          "output_type": "display_data",
          "data": {
            "text/html": [
              "<div style=\"display:flex;flex-direction:row;\"><span>Epoch: 251/280. Iteration: 87/87. Cls loss: 0.00669. Reg loss: 0.06847. Batch loss: 0.07516 Total loss: 0.06843</span><progress style='margin:2px 4px;description_width:initial;' max='87' value='87'></progress>100% 87/87 [01:46&lt;00:00,  1.21s/it]</div>"
            ],
            "text/plain": [
              "<tqdm._fake_ipywidgets.HBox object>"
            ]
          },
          "metadata": {}
        },
        {
          "output_type": "stream",
          "name": "stdout",
          "text": [
            "\n"
          ]
        },
        {
          "output_type": "display_data",
          "data": {
            "text/html": [
              "<div style=\"display:flex;flex-direction:row;\"><span>Epoch: 252/280. Iteration: 87/87. Cls loss: 0.00289. Reg loss: 0.04226. Batch loss: 0.04515 Total loss: 0.07014</span><progress style='margin:2px 4px;description_width:initial;' max='87' value='87'></progress>100% 87/87 [01:46&lt;00:00,  1.21s/it]</div>"
            ],
            "text/plain": [
              "<tqdm._fake_ipywidgets.HBox object>"
            ]
          },
          "metadata": {}
        },
        {
          "output_type": "stream",
          "name": "stdout",
          "text": [
            "\n"
          ]
        },
        {
          "output_type": "display_data",
          "data": {
            "text/html": [
              "<div style=\"display:flex;flex-direction:row;\"><span>Epoch: 253/280. Iteration: 87/87. Cls loss: 0.00598. Reg loss: 0.07959. Batch loss: 0.08557 Total loss: 0.07097</span><progress style='margin:2px 4px;description_width:initial;' max='87' value='87'></progress>100% 87/87 [01:46&lt;00:00,  1.21s/it]</div>"
            ],
            "text/plain": [
              "<tqdm._fake_ipywidgets.HBox object>"
            ]
          },
          "metadata": {}
        },
        {
          "output_type": "stream",
          "name": "stdout",
          "text": [
            "\n"
          ]
        },
        {
          "output_type": "display_data",
          "data": {
            "text/html": [
              "<div style=\"display:flex;flex-direction:row;\"><span>Epoch: 254/280. Iteration: 87/87. Cls loss: 0.00214. Reg loss: 0.04742. Batch loss: 0.04956 Total loss: 0.07057</span><progress style='margin:2px 4px;description_width:initial;' max='87' value='87'></progress>100% 87/87 [01:46&lt;00:00,  1.21s/it]</div>"
            ],
            "text/plain": [
              "<tqdm._fake_ipywidgets.HBox object>"
            ]
          },
          "metadata": {}
        },
        {
          "output_type": "stream",
          "name": "stdout",
          "text": [
            "\n"
          ]
        },
        {
          "output_type": "display_data",
          "data": {
            "text/html": [
              "<div style=\"display:flex;flex-direction:row;\"><span>Epoch: 255/280. Iteration: 87/87. Cls loss: 0.00829. Reg loss: 0.09196. Batch loss: 0.10024 Total loss: 0.07023</span><progress style='margin:2px 4px;description_width:initial;' max='87' value='87'></progress>100% 87/87 [01:46&lt;00:00,  1.21s/it]</div>"
            ],
            "text/plain": [
              "<tqdm._fake_ipywidgets.HBox object>"
            ]
          },
          "metadata": {}
        },
        {
          "output_type": "stream",
          "name": "stdout",
          "text": [
            "\n"
          ]
        },
        {
          "output_type": "display_data",
          "data": {
            "text/html": [
              "<div style=\"display:flex;flex-direction:row;\"><span>Epoch: 256/280. Iteration: 87/87. Cls loss: 0.01435. Reg loss: 0.07829. Batch loss: 0.09264 Total loss: 0.06938</span><progress style='margin:2px 4px;description_width:initial;' max='87' value='87'></progress>100% 87/87 [01:46&lt;00:00,  1.21s/it]</div>"
            ],
            "text/plain": [
              "<tqdm._fake_ipywidgets.HBox object>"
            ]
          },
          "metadata": {}
        },
        {
          "output_type": "stream",
          "name": "stdout",
          "text": [
            "\n"
          ]
        },
        {
          "output_type": "display_data",
          "data": {
            "text/html": [
              "<div style=\"display:flex;flex-direction:row;\"><span>Epoch: 257/280. Iteration: 87/87. Cls loss: 0.00371. Reg loss: 0.05733. Batch loss: 0.06104 Total loss: 0.06890</span><progress style='margin:2px 4px;description_width:initial;' max='87' value='87'></progress>100% 87/87 [01:46&lt;00:00,  1.21s/it]</div>"
            ],
            "text/plain": [
              "<tqdm._fake_ipywidgets.HBox object>"
            ]
          },
          "metadata": {}
        },
        {
          "output_type": "stream",
          "name": "stdout",
          "text": [
            "\n"
          ]
        },
        {
          "output_type": "display_data",
          "data": {
            "text/html": [
              "<div style=\"display:flex;flex-direction:row;\"><span>Epoch: 258/280. Iteration: 87/87. Cls loss: 0.00479. Reg loss: 0.05677. Batch loss: 0.06156 Total loss: 0.07004</span><progress style='margin:2px 4px;description_width:initial;' max='87' value='87'></progress>100% 87/87 [01:46&lt;00:00,  1.21s/it]</div>"
            ],
            "text/plain": [
              "<tqdm._fake_ipywidgets.HBox object>"
            ]
          },
          "metadata": {}
        },
        {
          "output_type": "stream",
          "name": "stdout",
          "text": [
            "\n"
          ]
        },
        {
          "output_type": "display_data",
          "data": {
            "text/html": [
              "<div style=\"display:flex;flex-direction:row;\"><span>Epoch: 259/280. Iteration: 87/87. Cls loss: 0.00289. Reg loss: 0.03966. Batch loss: 0.04255 Total loss: 0.06985</span><progress style='margin:2px 4px;description_width:initial;' max='87' value='87'></progress>100% 87/87 [01:46&lt;00:00,  1.21s/it]</div>"
            ],
            "text/plain": [
              "<tqdm._fake_ipywidgets.HBox object>"
            ]
          },
          "metadata": {}
        },
        {
          "output_type": "stream",
          "name": "stdout",
          "text": [
            "\n"
          ]
        },
        {
          "output_type": "display_data",
          "data": {
            "text/html": [
              "<div style=\"display:flex;flex-direction:row;\"><span>Epoch: 260/280. Iteration: 87/87. Cls loss: 0.00434. Reg loss: 0.06320. Batch loss: 0.06754 Total loss: 0.06907</span><progress style='margin:2px 4px;description_width:initial;' max='87' value='87'></progress>100% 87/87 [01:46&lt;00:00,  1.21s/it]</div>"
            ],
            "text/plain": [
              "<tqdm._fake_ipywidgets.HBox object>"
            ]
          },
          "metadata": {}
        },
        {
          "output_type": "stream",
          "name": "stdout",
          "text": [
            "\n"
          ]
        },
        {
          "output_type": "display_data",
          "data": {
            "text/html": [
              "<div style=\"display:flex;flex-direction:row;\"><span>Epoch: 261/280. Iteration: 87/87. Cls loss: 0.04141. Reg loss: 0.06424. Batch loss: 0.10565 Total loss: 0.07152</span><progress style='margin:2px 4px;description_width:initial;' max='87' value='87'></progress>100% 87/87 [01:46&lt;00:00,  1.21s/it]</div>"
            ],
            "text/plain": [
              "<tqdm._fake_ipywidgets.HBox object>"
            ]
          },
          "metadata": {}
        },
        {
          "output_type": "stream",
          "name": "stdout",
          "text": [
            "\n"
          ]
        },
        {
          "output_type": "display_data",
          "data": {
            "text/html": [
              "<div style=\"display:flex;flex-direction:row;\"><span>Epoch: 262/280. Iteration: 87/87. Cls loss: 0.00706. Reg loss: 0.04941. Batch loss: 0.05646 Total loss: 0.07043</span><progress style='margin:2px 4px;description_width:initial;' max='87' value='87'></progress>100% 87/87 [01:46&lt;00:00,  1.21s/it]</div>"
            ],
            "text/plain": [
              "<tqdm._fake_ipywidgets.HBox object>"
            ]
          },
          "metadata": {}
        },
        {
          "output_type": "stream",
          "name": "stdout",
          "text": [
            "\n"
          ]
        },
        {
          "output_type": "display_data",
          "data": {
            "text/html": [
              "<div style=\"display:flex;flex-direction:row;\"><span>Epoch: 263/280. Iteration: 87/87. Cls loss: 0.00500. Reg loss: 0.06132. Batch loss: 0.06632 Total loss: 0.07018</span><progress style='margin:2px 4px;description_width:initial;' max='87' value='87'></progress>100% 87/87 [01:46&lt;00:00,  1.21s/it]</div>"
            ],
            "text/plain": [
              "<tqdm._fake_ipywidgets.HBox object>"
            ]
          },
          "metadata": {}
        },
        {
          "output_type": "stream",
          "name": "stdout",
          "text": [
            "\n"
          ]
        },
        {
          "output_type": "display_data",
          "data": {
            "text/html": [
              "<div style=\"display:flex;flex-direction:row;\"><span>Epoch: 264/280. Iteration: 87/87. Cls loss: 0.00834. Reg loss: 0.08789. Batch loss: 0.09622 Total loss: 0.07029</span><progress style='margin:2px 4px;description_width:initial;' max='87' value='87'></progress>100% 87/87 [01:46&lt;00:00,  1.22s/it]</div>"
            ],
            "text/plain": [
              "<tqdm._fake_ipywidgets.HBox object>"
            ]
          },
          "metadata": {}
        },
        {
          "output_type": "stream",
          "name": "stdout",
          "text": [
            "\n"
          ]
        },
        {
          "output_type": "display_data",
          "data": {
            "text/html": [
              "<div style=\"display:flex;flex-direction:row;\"><span>Epoch: 265/280. Iteration: 87/87. Cls loss: 0.00331. Reg loss: 0.03923. Batch loss: 0.04254 Total loss: 0.07124</span><progress style='margin:2px 4px;description_width:initial;' max='87' value='87'></progress>100% 87/87 [01:46&lt;00:00,  1.21s/it]</div>"
            ],
            "text/plain": [
              "<tqdm._fake_ipywidgets.HBox object>"
            ]
          },
          "metadata": {}
        },
        {
          "output_type": "stream",
          "name": "stdout",
          "text": [
            "\n"
          ]
        },
        {
          "output_type": "display_data",
          "data": {
            "text/html": [
              "<div style=\"display:flex;flex-direction:row;\"><span>Epoch: 266/280. Iteration: 87/87. Cls loss: 0.02518. Reg loss: 0.08519. Batch loss: 0.11037 Total loss: 0.06938</span><progress style='margin:2px 4px;description_width:initial;' max='87' value='87'></progress>100% 87/87 [01:46&lt;00:00,  1.21s/it]</div>"
            ],
            "text/plain": [
              "<tqdm._fake_ipywidgets.HBox object>"
            ]
          },
          "metadata": {}
        },
        {
          "output_type": "stream",
          "name": "stdout",
          "text": [
            "\n"
          ]
        },
        {
          "output_type": "display_data",
          "data": {
            "text/html": [
              "<div style=\"display:flex;flex-direction:row;\"><span>Epoch: 267/280. Iteration: 87/87. Cls loss: 0.00605. Reg loss: 0.07477. Batch loss: 0.08082 Total loss: 0.06817</span><progress style='margin:2px 4px;description_width:initial;' max='87' value='87'></progress>100% 87/87 [01:46&lt;00:00,  1.21s/it]</div>"
            ],
            "text/plain": [
              "<tqdm._fake_ipywidgets.HBox object>"
            ]
          },
          "metadata": {}
        },
        {
          "output_type": "stream",
          "name": "stdout",
          "text": [
            "\n"
          ]
        },
        {
          "output_type": "display_data",
          "data": {
            "text/html": [
              "<div style=\"display:flex;flex-direction:row;\"><span>Epoch: 268/280. Iteration: 87/87. Cls loss: 0.00579. Reg loss: 0.05275. Batch loss: 0.05853 Total loss: 0.06831</span><progress style='margin:2px 4px;description_width:initial;' max='87' value='87'></progress>100% 87/87 [01:46&lt;00:00,  1.21s/it]</div>"
            ],
            "text/plain": [
              "<tqdm._fake_ipywidgets.HBox object>"
            ]
          },
          "metadata": {}
        },
        {
          "output_type": "stream",
          "name": "stdout",
          "text": [
            "\n"
          ]
        },
        {
          "output_type": "display_data",
          "data": {
            "text/html": [
              "<div style=\"display:flex;flex-direction:row;\"><span>Epoch: 269/280. Iteration: 87/87. Cls loss: 0.01038. Reg loss: 0.08607. Batch loss: 0.09645 Total loss: 0.07052</span><progress style='margin:2px 4px;description_width:initial;' max='87' value='87'></progress>100% 87/87 [01:46&lt;00:00,  1.21s/it]</div>"
            ],
            "text/plain": [
              "<tqdm._fake_ipywidgets.HBox object>"
            ]
          },
          "metadata": {}
        },
        {
          "output_type": "stream",
          "name": "stdout",
          "text": [
            "\n"
          ]
        },
        {
          "output_type": "display_data",
          "data": {
            "text/html": [
              "<div style=\"display:flex;flex-direction:row;\"><span>Epoch: 270/280. Iteration: 87/87. Cls loss: 0.00842. Reg loss: 0.07031. Batch loss: 0.07873 Total loss: 0.07103</span><progress style='margin:2px 4px;description_width:initial;' max='87' value='87'></progress>100% 87/87 [01:46&lt;00:00,  1.21s/it]</div>"
            ],
            "text/plain": [
              "<tqdm._fake_ipywidgets.HBox object>"
            ]
          },
          "metadata": {}
        },
        {
          "output_type": "stream",
          "name": "stdout",
          "text": [
            "\n"
          ]
        },
        {
          "output_type": "display_data",
          "data": {
            "text/html": [
              "<div style=\"display:flex;flex-direction:row;\"><span>Epoch: 271/280. Iteration: 87/87. Cls loss: 0.00516. Reg loss: 0.06762. Batch loss: 0.07278 Total loss: 0.06846</span><progress style='margin:2px 4px;description_width:initial;' max='87' value='87'></progress>100% 87/87 [01:46&lt;00:00,  1.21s/it]</div>"
            ],
            "text/plain": [
              "<tqdm._fake_ipywidgets.HBox object>"
            ]
          },
          "metadata": {}
        },
        {
          "output_type": "stream",
          "name": "stdout",
          "text": [
            "\n"
          ]
        },
        {
          "output_type": "display_data",
          "data": {
            "text/html": [
              "<div style=\"display:flex;flex-direction:row;\"><span>Epoch: 272/280. Iteration: 87/87. Cls loss: 0.00417. Reg loss: 0.05185. Batch loss: 0.05602 Total loss: 0.07044</span><progress style='margin:2px 4px;description_width:initial;' max='87' value='87'></progress>100% 87/87 [01:46&lt;00:00,  1.22s/it]</div>"
            ],
            "text/plain": [
              "<tqdm._fake_ipywidgets.HBox object>"
            ]
          },
          "metadata": {}
        },
        {
          "output_type": "stream",
          "name": "stdout",
          "text": [
            "\n"
          ]
        },
        {
          "output_type": "display_data",
          "data": {
            "text/html": [
              "<div style=\"display:flex;flex-direction:row;\"><span>Epoch: 273/280. Iteration: 87/87. Cls loss: 0.00476. Reg loss: 0.05216. Batch loss: 0.05692 Total loss: 0.06971</span><progress style='margin:2px 4px;description_width:initial;' max='87' value='87'></progress>100% 87/87 [01:46&lt;00:00,  1.22s/it]</div>"
            ],
            "text/plain": [
              "<tqdm._fake_ipywidgets.HBox object>"
            ]
          },
          "metadata": {}
        },
        {
          "output_type": "stream",
          "name": "stdout",
          "text": [
            "\n"
          ]
        },
        {
          "output_type": "display_data",
          "data": {
            "text/html": [
              "<div style=\"display:flex;flex-direction:row;\"><span>Epoch: 274/280. Iteration: 87/87. Cls loss: 0.01152. Reg loss: 0.11842. Batch loss: 0.12994 Total loss: 0.07078</span><progress style='margin:2px 4px;description_width:initial;' max='87' value='87'></progress>100% 87/87 [01:46&lt;00:00,  1.21s/it]</div>"
            ],
            "text/plain": [
              "<tqdm._fake_ipywidgets.HBox object>"
            ]
          },
          "metadata": {}
        },
        {
          "output_type": "stream",
          "name": "stdout",
          "text": [
            "\n"
          ]
        },
        {
          "output_type": "display_data",
          "data": {
            "text/html": [
              "<div style=\"display:flex;flex-direction:row;\"><span>Epoch: 275/280. Iteration: 87/87. Cls loss: 0.00878. Reg loss: 0.07307. Batch loss: 0.08185 Total loss: 0.06998</span><progress style='margin:2px 4px;description_width:initial;' max='87' value='87'></progress>100% 87/87 [01:46&lt;00:00,  1.21s/it]</div>"
            ],
            "text/plain": [
              "<tqdm._fake_ipywidgets.HBox object>"
            ]
          },
          "metadata": {}
        },
        {
          "output_type": "stream",
          "name": "stdout",
          "text": [
            "\n"
          ]
        },
        {
          "output_type": "display_data",
          "data": {
            "text/html": [
              "<div style=\"display:flex;flex-direction:row;\"><span>Epoch: 276/280. Iteration: 87/87. Cls loss: 0.01456. Reg loss: 0.07458. Batch loss: 0.08915 Total loss: 0.07245</span><progress style='margin:2px 4px;description_width:initial;' max='87' value='87'></progress>100% 87/87 [01:46&lt;00:00,  1.22s/it]</div>"
            ],
            "text/plain": [
              "<tqdm._fake_ipywidgets.HBox object>"
            ]
          },
          "metadata": {}
        },
        {
          "output_type": "stream",
          "name": "stdout",
          "text": [
            "\n"
          ]
        },
        {
          "output_type": "display_data",
          "data": {
            "text/html": [
              "<div style=\"display:flex;flex-direction:row;\"><span>Epoch: 277/280. Iteration: 87/87. Cls loss: 0.00566. Reg loss: 0.05569. Batch loss: 0.06135 Total loss: 0.07146</span><progress style='margin:2px 4px;description_width:initial;' max='87' value='87'></progress>100% 87/87 [01:46&lt;00:00,  1.22s/it]</div>"
            ],
            "text/plain": [
              "<tqdm._fake_ipywidgets.HBox object>"
            ]
          },
          "metadata": {}
        },
        {
          "output_type": "stream",
          "name": "stdout",
          "text": [
            "\n"
          ]
        },
        {
          "output_type": "display_data",
          "data": {
            "text/html": [
              "<div style=\"display:flex;flex-direction:row;\"><span>Epoch: 278/280. Iteration: 87/87. Cls loss: 0.00496. Reg loss: 0.05947. Batch loss: 0.06443 Total loss: 0.07066</span><progress style='margin:2px 4px;description_width:initial;' max='87' value='87'></progress>100% 87/87 [01:46&lt;00:00,  1.21s/it]</div>"
            ],
            "text/plain": [
              "<tqdm._fake_ipywidgets.HBox object>"
            ]
          },
          "metadata": {}
        },
        {
          "output_type": "stream",
          "name": "stdout",
          "text": [
            "\n"
          ]
        },
        {
          "output_type": "display_data",
          "data": {
            "text/html": [
              "<div style=\"display:flex;flex-direction:row;\"><span>Epoch: 279/280. Iteration: 87/87. Cls loss: 0.00959. Reg loss: 0.07650. Batch loss: 0.08609 Total loss: 0.07236</span><progress style='margin:2px 4px;description_width:initial;' max='87' value='87'></progress>100% 87/87 [01:46&lt;00:00,  1.21s/it]</div>"
            ],
            "text/plain": [
              "<tqdm._fake_ipywidgets.HBox object>"
            ]
          },
          "metadata": {}
        },
        {
          "output_type": "stream",
          "name": "stdout",
          "text": [
            "\n"
          ]
        },
        {
          "output_type": "display_data",
          "data": {
            "text/html": [
              "<div style=\"display:flex;flex-direction:row;\"><span>Epoch: 280/280. Iteration: 87/87. Cls loss: 0.00720. Reg loss: 0.06253. Batch loss: 0.06972 Total loss: 0.06965</span><progress style='margin:2px 4px;description_width:initial;' max='87' value='87'></progress>100% 87/87 [01:46&lt;00:00,  1.21s/it]</div>"
            ],
            "text/plain": [
              "<tqdm._fake_ipywidgets.HBox object>"
            ]
          },
          "metadata": {}
        },
        {
          "output_type": "stream",
          "name": "stdout",
          "text": [
            "\n",
            "CPU times: user 8h 31min 21s, sys: 14min 38s, total: 8h 46min\n",
            "Wall time: 8h 24min 10s\n"
          ]
        }
      ]
    },
    {
      "cell_type": "markdown",
      "metadata": {
        "id": "vBbKECt58NNT"
      },
      "source": [
        "##Resultados"
      ]
    },
    {
      "cell_type": "code",
      "metadata": {
        "id": "ZV8aWR1rV-gf"
      },
      "source": [
        "import os\n",
        "import sys\n",
        "sys.path.append(\"Monk_Object_Detection/4_efficientdet/lib/\");"
      ],
      "execution_count": null,
      "outputs": []
    },
    {
      "cell_type": "code",
      "metadata": {
        "id": "i55fLiAZWEjL"
      },
      "source": [
        "from infer_detector import Infer"
      ],
      "execution_count": null,
      "outputs": []
    },
    {
      "cell_type": "code",
      "metadata": {
        "id": "h7ZnWq8YWHGm"
      },
      "source": [
        "gtf2 = Infer();"
      ],
      "execution_count": null,
      "outputs": []
    },
    {
      "cell_type": "code",
      "metadata": {
        "id": "nsu6TZJdWQHG",
        "colab": {
          "base_uri": "https://localhost:8080/"
        },
        "outputId": "70ccf074-4ff1-40da-d778-525825873613"
      },
      "source": [
        "%%time\n",
        "gtf2.Model(model_dir=\"trained/\")"
      ],
      "execution_count": null,
      "outputs": [
        {
          "output_type": "stream",
          "name": "stdout",
          "text": [
            "CPU times: user 70.3 ms, sys: 6.09 ms, total: 76.4 ms\n",
            "Wall time: 78 ms\n"
          ]
        }
      ]
    },
    {
      "cell_type": "code",
      "metadata": {
        "id": "BUpNHXcgWUFc",
        "colab": {
          "base_uri": "https://localhost:8080/"
        },
        "outputId": "ced351af-19b7-40bb-89af-35fdc8a51f8c"
      },
      "source": [
        "%%time\n",
        "import json\n",
        "with open('train/_annotations.coco.json') as json_file:\n",
        "    data = json.load(json_file)\n",
        "class_list = []\n",
        "for category in data['categories']:\n",
        "  class_list.append(category['name'])\n",
        "\n",
        "print(class_list)"
      ],
      "execution_count": null,
      "outputs": [
        {
          "output_type": "stream",
          "name": "stdout",
          "text": [
            "['vehicles', 'Ambulance', 'Bus', 'Car', 'Motorcycle', 'Truck']\n",
            "CPU times: user 7.7 ms, sys: 1.98 ms, total: 9.68 ms\n",
            "Wall time: 9.05 ms\n"
          ]
        }
      ]
    },
    {
      "cell_type": "code",
      "metadata": {
        "id": "1sBlRB4LWVki",
        "colab": {
          "base_uri": "https://localhost:8080/"
        },
        "outputId": "c08e0220-a2d6-4ab7-9318-ea87e6d6162c"
      },
      "source": [
        "%%time\n",
        "test_images = [f for f in os.listdir('test') if f.endswith('.jpg')]\n",
        "import random\n",
        "img_path = \"test/\" + random.choice(test_images);\n",
        "duration, scores, labels, boxes = gtf2.Predict(img_path, class_list, vis_threshold=0.2);"
      ],
      "execution_count": null,
      "outputs": [
        {
          "output_type": "stream",
          "name": "stdout",
          "text": [
            "Done. (0.049s)\n",
            "CPU times: user 75.7 ms, sys: 1.95 ms, total: 77.7 ms\n",
            "Wall time: 71.1 ms\n"
          ]
        }
      ]
    },
    {
      "cell_type": "code",
      "metadata": {
        "colab": {
          "base_uri": "https://localhost:8080/",
          "height": 433
        },
        "id": "XoiNEcCYWhLt",
        "outputId": "a775e760-eaef-4cd9-cf1f-ce327d7bb1c8"
      },
      "source": [
        "from IPython.display import Image\n",
        "Image(filename='output.jpg') "
      ],
      "execution_count": null,
      "outputs": [
        {
          "output_type": "execute_result",
          "data": {
            "image/jpeg": "[encoded data removed]",
            "text/plain": [
              "<IPython.core.display.Image object>"
            ]
          },
          "metadata": {},
          "execution_count": 72
        }
      ]
    },
    {
      "cell_type": "markdown",
      "metadata": {
        "id": "-m1bzq-t8eK1"
      },
      "source": [
        "##Exportar los pesos de nuestro modelo a nuestra unidad de Google Drive"
      ]
    },
    {
      "cell_type": "code",
      "metadata": {
        "id": "m_tXD4cPWwVO",
        "colab": {
          "base_uri": "https://localhost:8080/"
        },
        "outputId": "5587e088-2fa5-41cc-b15b-3a085dd8e885"
      },
      "source": [
        "from google.colab import drive\n",
        "drive.mount('/content/drive')"
      ],
      "execution_count": null,
      "outputs": [
        {
          "output_type": "stream",
          "name": "stdout",
          "text": [
            "Mounted at /content/drive\n"
          ]
        }
      ]
    },
    {
      "cell_type": "code",
      "metadata": {
        "id": "601iCVG4W3x8"
      },
      "source": [
        "%mkdir trained_export\n",
        "%cp ./trained/signatrix_efficientdet_coco.onnx ./trained_export/signatrix_efficientdet_coco_$(date +%F-%H:%M).onnx\n",
        "%cp ./trained/signatrix_efficientdet_coco.pth ./trained_export/signatrix_efficientdet_coco_$(date +%F-%H:%M).pth\n",
        "%mv ./trained_export/* /content/drive/My\\ Drive/"
      ],
      "execution_count": null,
      "outputs": []
    }
  ]
}