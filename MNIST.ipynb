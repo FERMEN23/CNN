{
  "nbformat": 4,
  "nbformat_minor": 0,
  "metadata": {
    "colab": {
      "name": "Untitled0.ipynb",
      "provenance": [],
      "collapsed_sections": [],
      "authorship_tag": "ABX9TyO4u+nc+ggDZxl9EDUWZDcA",
      "include_colab_link": true
    },
    "kernelspec": {
      "name": "python3",
      "display_name": "Python 3"
    },
    "language_info": {
      "name": "python"
    }
  },
  "cells": [
    {
      "cell_type": "markdown",
      "metadata": {
        "id": "view-in-github",
        "colab_type": "text"
      },
      "source": [
        "<a href=\"https://colab.research.google.com/github/FERMEN23/CNN/blob/main/MNIST.ipynb\" target=\"_parent\"><img src=\"https://colab.research.google.com/assets/colab-badge.svg\" alt=\"Open In Colab\"/></a>"
      ]
    },
    {
      "cell_type": "markdown",
      "metadata": {
        "id": "elpfmFFp4snf"
      },
      "source": [
        "##**Importar Libreria**"
      ]
    },
    {
      "cell_type": "code",
      "metadata": {
        "id": "v5PRLXUWl4se"
      },
      "source": [
        "import torch"
      ],
      "execution_count": 18,
      "outputs": []
    },
    {
      "cell_type": "markdown",
      "metadata": {
        "id": "pstRvt_n4ycq"
      },
      "source": [
        "##**Comprobar el dispositivo Disponible**"
      ]
    },
    {
      "cell_type": "code",
      "metadata": {
        "colab": {
          "base_uri": "https://localhost:8080/"
        },
        "id": "6R0pHHsrmDhV",
        "outputId": "8939a641-cfb5-4d36-c763-713302284842"
      },
      "source": [
        "device = torch.device('cuda' if torch.cuda.is_available() else 'cpu')\n",
        "device"
      ],
      "execution_count": 19,
      "outputs": [
        {
          "output_type": "execute_result",
          "data": {
            "text/plain": [
              "device(type='cpu')"
            ]
          },
          "metadata": {},
          "execution_count": 19
        }
      ]
    },
    {
      "cell_type": "markdown",
      "metadata": {
        "id": "TlLNsCFU5P-4"
      },
      "source": [
        "##**Descargar la Base de Datos MNIST**"
      ]
    },
    {
      "cell_type": "code",
      "metadata": {
        "id": "JJNNqd3CmIXn"
      },
      "source": [
        "from torchvision import datasets\n",
        "from torchvision.transforms import ToTensor\n",
        "train_data = datasets.MNIST(\n",
        "    root = 'data',\n",
        "    train = True,                         \n",
        "    transform = ToTensor(), \n",
        "    download = True,            \n",
        ")\n",
        "test_data = datasets.MNIST(\n",
        "    root = 'data', \n",
        "    train = False, \n",
        "    transform = ToTensor()\n",
        ")"
      ],
      "execution_count": 20,
      "outputs": []
    },
    {
      "cell_type": "code",
      "metadata": {
        "colab": {
          "base_uri": "https://localhost:8080/"
        },
        "id": "oKdh0Y06mb7T",
        "outputId": "57cc50dc-73de-481b-daa6-73860c5c45db"
      },
      "source": [
        "print(train_data)"
      ],
      "execution_count": 21,
      "outputs": [
        {
          "output_type": "stream",
          "name": "stdout",
          "text": [
            "Dataset MNIST\n",
            "    Number of datapoints: 60000\n",
            "    Root location: data\n",
            "    Split: Train\n",
            "    StandardTransform\n",
            "Transform: ToTensor()\n"
          ]
        }
      ]
    },
    {
      "cell_type": "code",
      "metadata": {
        "colab": {
          "base_uri": "https://localhost:8080/"
        },
        "id": "RhPgo7wsmhC0",
        "outputId": "7fd6cd87-ccee-4fb7-8761-eea7466159cb"
      },
      "source": [
        "print(test_data)"
      ],
      "execution_count": 22,
      "outputs": [
        {
          "output_type": "stream",
          "name": "stdout",
          "text": [
            "Dataset MNIST\n",
            "    Number of datapoints: 10000\n",
            "    Root location: data\n",
            "    Split: Test\n",
            "    StandardTransform\n",
            "Transform: ToTensor()\n"
          ]
        }
      ]
    },
    {
      "cell_type": "code",
      "metadata": {
        "colab": {
          "base_uri": "https://localhost:8080/"
        },
        "id": "GakT8XYAm64u",
        "outputId": "845cc8bf-bb0f-45b4-9ca0-cd913689856e"
      },
      "source": [
        "print(train_data.data.size())"
      ],
      "execution_count": 23,
      "outputs": [
        {
          "output_type": "stream",
          "name": "stdout",
          "text": [
            "torch.Size([60000, 28, 28])\n"
          ]
        }
      ]
    },
    {
      "cell_type": "code",
      "metadata": {
        "colab": {
          "base_uri": "https://localhost:8080/"
        },
        "id": "CbCqd8XGxXbq",
        "outputId": "f8aaf192-2933-4549-f558-eef1ed54dbd4"
      },
      "source": [
        "print(train_data.targets.size())"
      ],
      "execution_count": 24,
      "outputs": [
        {
          "output_type": "stream",
          "name": "stdout",
          "text": [
            "torch.Size([60000])\n"
          ]
        }
      ]
    },
    {
      "cell_type": "markdown",
      "metadata": {
        "id": "GiFQxKWh5vTb"
      },
      "source": [
        "**Imprimir un objeto de la data de entrenamiento train_data**"
      ]
    },
    {
      "cell_type": "code",
      "metadata": {
        "colab": {
          "base_uri": "https://localhost:8080/",
          "height": 281
        },
        "id": "SjwjFzrgxc7y",
        "outputId": "111d2476-5ebd-4dfd-ce98-f9a0ac75ac3a"
      },
      "source": [
        "import matplotlib.pyplot as plt\n",
        "plt.imshow(train_data.data[0], cmap='gray')\n",
        "plt.title('%i' % train_data.targets[0])\n",
        "plt.show()"
      ],
      "execution_count": 25,
      "outputs": [
        {
          "output_type": "display_data",
          "data": {
            "image/png": "[encoded data removed]",
            "text/plain": [
              "<Figure size 432x288 with 1 Axes>"
            ]
          },
          "metadata": {
            "needs_background": "light"
          }
        }
      ]
    },
    {
      "cell_type": "markdown",
      "metadata": {
        "id": "uHU8AUog6MHb"
      },
      "source": [
        "**Imprimir algunos elementos aleatorios de la data de entrenamiento**"
      ]
    },
    {
      "cell_type": "code",
      "metadata": {
        "colab": {
          "base_uri": "https://localhost:8080/",
          "height": 482
        },
        "id": "jHQVPt_YxlGA",
        "outputId": "58e80f8f-8800-48bf-c838-b00eb1738bbb"
      },
      "source": [
        "figure = plt.figure(figsize=(10, 8))\n",
        "cols, rows = 5, 5\n",
        "for i in range(1, cols * rows + 1):\n",
        "    sample_idx = torch.randint(len(train_data), size=(1,)).item()\n",
        "    img, label = train_data[sample_idx]\n",
        "    figure.add_subplot(rows, cols, i)\n",
        "    plt.title(label)\n",
        "    plt.axis(\"off\")\n",
        "    plt.imshow(img.squeeze(), cmap=\"gray\")\n",
        "plt.show()"
      ],
      "execution_count": 26,
      "outputs": [
        {
          "output_type": "display_data",
          "data": {
            "image/png": "[encoded data removed]",
            "text/plain": [
              "<Figure size 720x576 with 25 Axes>"
            ]
          },
          "metadata": {
            "needs_background": "light"
          }
        }
      ]
    },
    {
      "cell_type": "markdown",
      "metadata": {
        "id": "Zbdd1hpQ6b9n"
      },
      "source": [
        "##**Preparación de datos para el entrenamiento con DataLoaders**"
      ]
    },
    {
      "cell_type": "code",
      "metadata": {
        "colab": {
          "base_uri": "https://localhost:8080/"
        },
        "id": "Pog4xfoKx2Pu",
        "outputId": "8da98a2b-b68f-46d0-ebc2-b4055fcc49f3"
      },
      "source": [
        "from torch.utils.data import DataLoader\n",
        "loaders = {\n",
        "    'train' : torch.utils.data.DataLoader(train_data, \n",
        "                                          batch_size=100, \n",
        "                                          shuffle=True, \n",
        "                                          num_workers=1),\n",
        "    \n",
        "    'test'  : torch.utils.data.DataLoader(test_data, \n",
        "                                          batch_size=100, \n",
        "                                          shuffle=True, \n",
        "                                          num_workers=1),\n",
        "}\n",
        "loaders"
      ],
      "execution_count": 27,
      "outputs": [
        {
          "output_type": "execute_result",
          "data": {
            "text/plain": [
              "{'test': <torch.utils.data.dataloader.DataLoader at 0x7f1dc1610510>,\n",
              " 'train': <torch.utils.data.dataloader.DataLoader at 0x7f1dc0d1e310>}"
            ]
          },
          "metadata": {},
          "execution_count": 27
        }
      ]
    },
    {
      "cell_type": "markdown",
      "metadata": {
        "id": "OTgkin3E6sOG"
      },
      "source": [
        "##**Definir el modelo de red neuronal convolucional**"
      ]
    },
    {
      "cell_type": "code",
      "metadata": {
        "id": "qGKPFqQWyEOL"
      },
      "source": [
        "import torch.nn as nn\n",
        "class CNN(nn.Module):\n",
        "    def __init__(self):\n",
        "        super(CNN, self).__init__()\n",
        "        self.conv1 = nn.Sequential(         \n",
        "            nn.Conv2d(\n",
        "                in_channels=1,              \n",
        "                out_channels=16,            \n",
        "                kernel_size=5,              \n",
        "                stride=1,                   \n",
        "                padding=2,                  \n",
        "            ),                              \n",
        "            nn.ReLU(),                      \n",
        "            nn.MaxPool2d(kernel_size=2),    \n",
        "        )\n",
        "        self.conv2 = nn.Sequential(         \n",
        "            nn.Conv2d(16, 32, 5, 1, 2),     \n",
        "            nn.ReLU(),                      \n",
        "            nn.MaxPool2d(2),                \n",
        "        )\n",
        "        # fully connected layer, output 10 classes\n",
        "        self.out = nn.Linear(32 * 7 * 7, 10)\n",
        "    def forward(self, x):\n",
        "        x = self.conv1(x)\n",
        "        x = self.conv2(x)\n",
        "        # flatten the output of conv2 to (batch_size, 32 * 7 * 7)\n",
        "        x = x.view(x.size(0), -1)       \n",
        "        output = self.out(x)\n",
        "        return output, x    # return x for visualization"
      ],
      "execution_count": 28,
      "outputs": []
    },
    {
      "cell_type": "code",
      "metadata": {
        "colab": {
          "base_uri": "https://localhost:8080/"
        },
        "id": "uhcViCHhyLUM",
        "outputId": "94ac80ce-6a0b-4109-fb10-2e801ebd77ba"
      },
      "source": [
        "cnn = CNN()\n",
        "print(cnn)"
      ],
      "execution_count": 29,
      "outputs": [
        {
          "output_type": "stream",
          "name": "stdout",
          "text": [
            "CNN(\n",
            "  (conv1): Sequential(\n",
            "    (0): Conv2d(1, 16, kernel_size=(5, 5), stride=(1, 1), padding=(2, 2))\n",
            "    (1): ReLU()\n",
            "    (2): MaxPool2d(kernel_size=2, stride=2, padding=0, dilation=1, ceil_mode=False)\n",
            "  )\n",
            "  (conv2): Sequential(\n",
            "    (0): Conv2d(16, 32, kernel_size=(5, 5), stride=(1, 1), padding=(2, 2))\n",
            "    (1): ReLU()\n",
            "    (2): MaxPool2d(kernel_size=2, stride=2, padding=0, dilation=1, ceil_mode=False)\n",
            "  )\n",
            "  (out): Linear(in_features=1568, out_features=10, bias=True)\n",
            ")\n"
          ]
        }
      ]
    },
    {
      "cell_type": "markdown",
      "metadata": {
        "id": "x6r0LZ1C62Gd"
      },
      "source": [
        "##**Definir función de pérdida**"
      ]
    },
    {
      "cell_type": "code",
      "metadata": {
        "colab": {
          "base_uri": "https://localhost:8080/"
        },
        "id": "b0SmtNjtyRkM",
        "outputId": "99e3f72a-831b-407d-d84f-d293562f7548"
      },
      "source": [
        "loss_func = nn.CrossEntropyLoss()   \n",
        "loss_func"
      ],
      "execution_count": 30,
      "outputs": [
        {
          "output_type": "execute_result",
          "data": {
            "text/plain": [
              "CrossEntropyLoss()"
            ]
          },
          "metadata": {},
          "execution_count": 30
        }
      ]
    },
    {
      "cell_type": "markdown",
      "metadata": {
        "id": "UcEPShPi7AYW"
      },
      "source": [
        "##**Definir una función de optimización**"
      ]
    },
    {
      "cell_type": "code",
      "metadata": {
        "colab": {
          "base_uri": "https://localhost:8080/"
        },
        "id": "2VgM8e9dyVS1",
        "outputId": "2211fc78-1887-4ae5-f0ce-b0019675406f"
      },
      "source": [
        "from torch import optim\n",
        "optimizer = optim.Adam(cnn.parameters(), lr = 0.01)   \n",
        "optimizer"
      ],
      "execution_count": 31,
      "outputs": [
        {
          "output_type": "execute_result",
          "data": {
            "text/plain": [
              "Adam (\n",
              "Parameter Group 0\n",
              "    amsgrad: False\n",
              "    betas: (0.9, 0.999)\n",
              "    eps: 1e-08\n",
              "    lr: 0.01\n",
              "    weight_decay: 0\n",
              ")"
            ]
          },
          "metadata": {},
          "execution_count": 31
        }
      ]
    },
    {
      "cell_type": "markdown",
      "metadata": {
        "id": "Hsr1rEYG7IL_"
      },
      "source": [
        "##**Entrenar el modelo**  \n",
        "\n",
        "**Función de entrenamiento: train()**"
      ]
    },
    {
      "cell_type": "code",
      "metadata": {
        "colab": {
          "base_uri": "https://localhost:8080/"
        },
        "id": "xsRERmkGyZzp",
        "outputId": "53af5e19-5aed-4d7b-a6c5-b87774c9a5a3"
      },
      "source": [
        "from torch.autograd import Variable\n",
        "num_epochs = 10\n",
        "def train(num_epochs, cnn, loaders):\n",
        "    \n",
        "    cnn.train()\n",
        "        \n",
        "    # Train the model\n",
        "    total_step = len(loaders['train'])\n",
        "        \n",
        "    for epoch in range(num_epochs):\n",
        "        for i, (images, labels) in enumerate(loaders['train']):\n",
        "            \n",
        "            # gives batch data, normalize x when iterate train_loader\n",
        "            b_x = Variable(images)   # batch x\n",
        "            b_y = Variable(labels)   # batch y\n",
        "            output = cnn(b_x)[0]               \n",
        "            loss = loss_func(output, b_y)\n",
        "            \n",
        "            # clear gradients for this training step   \n",
        "            optimizer.zero_grad()           \n",
        "            \n",
        "            # backpropagation, compute gradients \n",
        "            loss.backward()    \n",
        "            # apply gradients             \n",
        "            optimizer.step()                \n",
        "            \n",
        "            if (i+1) % 100 == 0:\n",
        "                print ('Epoch [{}/{}], Step [{}/{}], Loss: {:.4f}' \n",
        "                       .format(epoch + 1, num_epochs, i + 1, total_step, loss.item()))\n",
        "                pass\n",
        "        \n",
        "        pass\n",
        "    \n",
        "    \n",
        "    pass\n",
        "train(num_epochs, cnn, loaders)"
      ],
      "execution_count": 32,
      "outputs": [
        {
          "output_type": "stream",
          "name": "stdout",
          "text": [
            "Epoch [1/10], Step [100/600], Loss: 0.1723\n",
            "Epoch [1/10], Step [200/600], Loss: 0.0738\n",
            "Epoch [1/10], Step [300/600], Loss: 0.0252\n",
            "Epoch [1/10], Step [400/600], Loss: 0.0686\n",
            "Epoch [1/10], Step [500/600], Loss: 0.0550\n",
            "Epoch [1/10], Step [600/600], Loss: 0.0944\n",
            "Epoch [2/10], Step [100/600], Loss: 0.0432\n",
            "Epoch [2/10], Step [200/600], Loss: 0.0281\n",
            "Epoch [2/10], Step [300/600], Loss: 0.0336\n",
            "Epoch [2/10], Step [400/600], Loss: 0.0562\n",
            "Epoch [2/10], Step [500/600], Loss: 0.0622\n",
            "Epoch [2/10], Step [600/600], Loss: 0.0418\n",
            "Epoch [3/10], Step [100/600], Loss: 0.0272\n",
            "Epoch [3/10], Step [200/600], Loss: 0.0040\n",
            "Epoch [3/10], Step [300/600], Loss: 0.0431\n",
            "Epoch [3/10], Step [400/600], Loss: 0.1479\n",
            "Epoch [3/10], Step [500/600], Loss: 0.1506\n",
            "Epoch [3/10], Step [600/600], Loss: 0.0495\n",
            "Epoch [4/10], Step [100/600], Loss: 0.0712\n",
            "Epoch [4/10], Step [200/600], Loss: 0.0445\n",
            "Epoch [4/10], Step [300/600], Loss: 0.0264\n",
            "Epoch [4/10], Step [400/600], Loss: 0.0338\n",
            "Epoch [4/10], Step [500/600], Loss: 0.0921\n",
            "Epoch [4/10], Step [600/600], Loss: 0.0413\n",
            "Epoch [5/10], Step [100/600], Loss: 0.0268\n",
            "Epoch [5/10], Step [200/600], Loss: 0.0180\n",
            "Epoch [5/10], Step [300/600], Loss: 0.0143\n",
            "Epoch [5/10], Step [400/600], Loss: 0.0320\n",
            "Epoch [5/10], Step [500/600], Loss: 0.0048\n",
            "Epoch [5/10], Step [600/600], Loss: 0.0486\n",
            "Epoch [6/10], Step [100/600], Loss: 0.0104\n",
            "Epoch [6/10], Step [200/600], Loss: 0.0407\n",
            "Epoch [6/10], Step [300/600], Loss: 0.0972\n",
            "Epoch [6/10], Step [400/600], Loss: 0.0519\n",
            "Epoch [6/10], Step [500/600], Loss: 0.0503\n",
            "Epoch [6/10], Step [600/600], Loss: 0.0246\n",
            "Epoch [7/10], Step [100/600], Loss: 0.0546\n",
            "Epoch [7/10], Step [200/600], Loss: 0.0192\n",
            "Epoch [7/10], Step [300/600], Loss: 0.0492\n",
            "Epoch [7/10], Step [400/600], Loss: 0.0172\n",
            "Epoch [7/10], Step [500/600], Loss: 0.0191\n",
            "Epoch [7/10], Step [600/600], Loss: 0.0061\n",
            "Epoch [8/10], Step [100/600], Loss: 0.0442\n",
            "Epoch [8/10], Step [200/600], Loss: 0.0122\n",
            "Epoch [8/10], Step [300/600], Loss: 0.0798\n",
            "Epoch [8/10], Step [400/600], Loss: 0.0194\n",
            "Epoch [8/10], Step [500/600], Loss: 0.0159\n",
            "Epoch [8/10], Step [600/600], Loss: 0.0025\n",
            "Epoch [9/10], Step [100/600], Loss: 0.0241\n",
            "Epoch [9/10], Step [200/600], Loss: 0.0189\n",
            "Epoch [9/10], Step [300/600], Loss: 0.0157\n",
            "Epoch [9/10], Step [400/600], Loss: 0.0317\n",
            "Epoch [9/10], Step [500/600], Loss: 0.0105\n",
            "Epoch [9/10], Step [600/600], Loss: 0.0566\n",
            "Epoch [10/10], Step [100/600], Loss: 0.0474\n",
            "Epoch [10/10], Step [200/600], Loss: 0.1881\n",
            "Epoch [10/10], Step [300/600], Loss: 0.0385\n",
            "Epoch [10/10], Step [400/600], Loss: 0.0024\n",
            "Epoch [10/10], Step [500/600], Loss: 0.0125\n",
            "Epoch [10/10], Step [600/600], Loss: 0.0116\n"
          ]
        }
      ]
    },
    {
      "cell_type": "markdown",
      "metadata": {
        "id": "iAvZsoslD3FH"
      },
      "source": [
        "##**Evaluar el modelo en los datos de prueba**"
      ]
    },
    {
      "cell_type": "code",
      "metadata": {
        "colab": {
          "base_uri": "https://localhost:8080/"
        },
        "id": "bdvqVQej06Gh",
        "outputId": "3a3cd9c2-fcb1-4d66-e214-983884c27ed9"
      },
      "source": [
        "def test():\n",
        "    # Test the model\n",
        "    cnn.eval()\n",
        "    with torch.no_grad():\n",
        "        correct = 0\n",
        "        total = 0\n",
        "        for images, labels in loaders['test']:\n",
        "            test_output, last_layer = cnn(images)\n",
        "            pred_y = torch.max(test_output, 1)[1].data.squeeze()\n",
        "            accuracy = (pred_y == labels).sum().item() / float(labels.size(0))\n",
        "            pass\n",
        "        print('Exactitud de prueba del modelo en las 10000 imágenes de prueba: %.2f' % accuracy)\n",
        "        pass\n",
        "test()"
      ],
      "execution_count": 34,
      "outputs": [
        {
          "output_type": "stream",
          "name": "stdout",
          "text": [
            "Exactitud de prueba del modelo en las 10000 imágenes de prueba: 1.00\n"
          ]
        }
      ]
    },
    {
      "cell_type": "markdown",
      "metadata": {
        "id": "0QRaJ6kFD_zl"
      },
      "source": [
        "**Imprimir 10 predicciones a partir de datos de prueba**"
      ]
    },
    {
      "cell_type": "code",
      "metadata": {
        "id": "rPz1FEB12AN1"
      },
      "source": [
        "sample = next(iter(loaders['test']))\n",
        "imgs, lbls = sample\n"
      ],
      "execution_count": 39,
      "outputs": []
    },
    {
      "cell_type": "code",
      "metadata": {
        "colab": {
          "base_uri": "https://localhost:8080/"
        },
        "id": "eSDt4NBd2Dny",
        "outputId": "1d9987b0-4ed1-4d65-ec1c-853f418fd486"
      },
      "source": [
        "actual_number = lbls[:10].numpy()\n",
        "actual_number"
      ],
      "execution_count": 40,
      "outputs": [
        {
          "output_type": "execute_result",
          "data": {
            "text/plain": [
              "array([5, 4, 6, 4, 7, 5, 0, 4, 9, 3])"
            ]
          },
          "metadata": {},
          "execution_count": 40
        }
      ]
    },
    {
      "cell_type": "code",
      "metadata": {
        "colab": {
          "base_uri": "https://localhost:8080/"
        },
        "id": "TrlddGA52j3J",
        "outputId": "84b6f05b-626d-41ea-add5-309c5586942f"
      },
      "source": [
        "test_output, last_layer = cnn(imgs[:10])\n",
        "pred_y = torch.max(test_output, 1)[1].data.numpy().squeeze()\n",
        "print(f'Numero de prediccion: {pred_y}')\n",
        "print(f'Numero correcto: {actual_number}')"
      ],
      "execution_count": 42,
      "outputs": [
        {
          "output_type": "stream",
          "name": "stdout",
          "text": [
            "Numero de prediccion: [5 4 6 4 7 5 0 4 9 3]\n",
            "Numero correcto: [5 4 6 4 7 5 0 4 9 3]\n"
          ]
        }
      ]
    }
  ]
}