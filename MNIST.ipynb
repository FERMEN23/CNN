{
  "nbformat": 4,
  "nbformat_minor": 0,
  "metadata": {
    "colab": {
      "name": "Untitled0.ipynb",
      "provenance": [],
      "authorship_tag": "ABX9TyMI8a5R+u3D3Svw48w6zM1u",
      "include_colab_link": true
    },
    "kernelspec": {
      "name": "python3",
      "display_name": "Python 3"
    },
    "language_info": {
      "name": "python"
    }
  },
  "cells": [
    {
      "cell_type": "markdown",
      "metadata": {
        "id": "view-in-github",
        "colab_type": "text"
      },
      "source": [
        "<a href=\"https://colab.research.google.com/github/FERMEN23/CNN/blob/main/MNIST.ipynb\" target=\"_parent\"><img src=\"https://colab.research.google.com/assets/colab-badge.svg\" alt=\"Open In Colab\"/></a>"
      ]
    },
    {
      "cell_type": "code",
      "metadata": {
        "id": "v5PRLXUWl4se"
      },
      "source": [
        "import torch"
      ],
      "execution_count": 33,
      "outputs": []
    },
    {
      "cell_type": "code",
      "metadata": {
        "colab": {
          "base_uri": "https://localhost:8080/"
        },
        "id": "6R0pHHsrmDhV",
        "outputId": "38e2cf7f-64fb-4442-d494-df24eae4a7a8"
      },
      "source": [
        "device = torch.device('cuda' if torch.cuda.is_available() else 'cpu')\n",
        "device"
      ],
      "execution_count": 34,
      "outputs": [
        {
          "output_type": "execute_result",
          "data": {
            "text/plain": [
              "device(type='cpu')"
            ]
          },
          "metadata": {},
          "execution_count": 34
        }
      ]
    },
    {
      "cell_type": "code",
      "metadata": {
        "id": "JJNNqd3CmIXn"
      },
      "source": [
        "from torchvision import datasets\n",
        "from torchvision.transforms import ToTensor\n",
        "train_data = datasets.MNIST(\n",
        "    root = 'data',\n",
        "    train = True,                         \n",
        "    transform = ToTensor(), \n",
        "    download = True,            \n",
        ")\n",
        "test_data = datasets.MNIST(\n",
        "    root = 'data', \n",
        "    train = False, \n",
        "    transform = ToTensor()\n",
        ")"
      ],
      "execution_count": 35,
      "outputs": []
    },
    {
      "cell_type": "code",
      "metadata": {
        "colab": {
          "base_uri": "https://localhost:8080/"
        },
        "id": "oKdh0Y06mb7T",
        "outputId": "9aba4080-249c-43a3-c815-c12ceef8c0c0"
      },
      "source": [
        "print(train_data)"
      ],
      "execution_count": 36,
      "outputs": [
        {
          "output_type": "stream",
          "name": "stdout",
          "text": [
            "Dataset MNIST\n",
            "    Number of datapoints: 60000\n",
            "    Root location: data\n",
            "    Split: Train\n",
            "    StandardTransform\n",
            "Transform: ToTensor()\n"
          ]
        }
      ]
    },
    {
      "cell_type": "code",
      "metadata": {
        "colab": {
          "base_uri": "https://localhost:8080/"
        },
        "id": "RhPgo7wsmhC0",
        "outputId": "0220f29b-c02f-4656-bdd3-10abe4cb6099"
      },
      "source": [
        "print(test_data)"
      ],
      "execution_count": 37,
      "outputs": [
        {
          "output_type": "stream",
          "name": "stdout",
          "text": [
            "Dataset MNIST\n",
            "    Number of datapoints: 10000\n",
            "    Root location: data\n",
            "    Split: Test\n",
            "    StandardTransform\n",
            "Transform: ToTensor()\n"
          ]
        }
      ]
    },
    {
      "cell_type": "code",
      "metadata": {
        "colab": {
          "base_uri": "https://localhost:8080/"
        },
        "id": "GakT8XYAm64u",
        "outputId": "43ca2c6c-5163-402b-d121-4f1d3cca99f4"
      },
      "source": [
        "print(train_data.data.size())"
      ],
      "execution_count": 38,
      "outputs": [
        {
          "output_type": "stream",
          "name": "stdout",
          "text": [
            "torch.Size([60000, 28, 28])\n"
          ]
        }
      ]
    },
    {
      "cell_type": "code",
      "metadata": {
        "colab": {
          "base_uri": "https://localhost:8080/"
        },
        "id": "CbCqd8XGxXbq",
        "outputId": "f20bc69e-9d61-416e-b7ea-b48460ef0240"
      },
      "source": [
        "print(train_data.targets.size())"
      ],
      "execution_count": 39,
      "outputs": [
        {
          "output_type": "stream",
          "name": "stdout",
          "text": [
            "torch.Size([60000])\n"
          ]
        }
      ]
    },
    {
      "cell_type": "code",
      "metadata": {
        "colab": {
          "base_uri": "https://localhost:8080/",
          "height": 281
        },
        "id": "SjwjFzrgxc7y",
        "outputId": "f0fd4b91-ea9a-46dd-fed3-f7d7ee6064f6"
      },
      "source": [
        "import matplotlib.pyplot as plt\n",
        "plt.imshow(test_data.data[1], cmap='gray')\n",
        "plt.title('%i' % test_data.targets[1])\n",
        "plt.show()"
      ],
      "execution_count": 40,
      "outputs": [
        {
          "output_type": "display_data",
          "data": {
            "image/png": "[encoded data removed]",
            "text/plain": [
              "<Figure size 432x288 with 1 Axes>"
            ]
          },
          "metadata": {
            "needs_background": "light"
          }
        }
      ]
    },
    {
      "cell_type": "code",
      "metadata": {
        "colab": {
          "base_uri": "https://localhost:8080/",
          "height": 482
        },
        "id": "jHQVPt_YxlGA",
        "outputId": "64842ca9-2cef-41ed-9b83-cc3ab3488990"
      },
      "source": [
        "figure = plt.figure(figsize=(10, 8))\n",
        "cols, rows = 5, 5\n",
        "for i in range(1, cols * rows + 1):\n",
        "    sample_idx = torch.randint(len(train_data), size=(1,)).item()\n",
        "    img, label = train_data[sample_idx]\n",
        "    figure.add_subplot(rows, cols, i)\n",
        "    plt.title(label)\n",
        "    plt.axis(\"off\")\n",
        "    plt.imshow(img.squeeze(), cmap=\"gray\")\n",
        "plt.show()"
      ],
      "execution_count": 44,
      "outputs": [
        {
          "output_type": "display_data",
          "data": {
            "image/png": "[encoded data removed]",
            "text/plain": [
              "<Figure size 720x576 with 25 Axes>"
            ]
          },
          "metadata": {
            "needs_background": "light"
          }
        }
      ]
    },
    {
      "cell_type": "code",
      "metadata": {
        "colab": {
          "base_uri": "https://localhost:8080/"
        },
        "id": "Pog4xfoKx2Pu",
        "outputId": "c44b6648-5bb1-4969-f655-e40933d828dc"
      },
      "source": [
        "from torch.utils.data import DataLoader\n",
        "loaders = {\n",
        "    'train' : torch.utils.data.DataLoader(train_data, \n",
        "                                          batch_size=100, \n",
        "                                          shuffle=True, \n",
        "                                          num_workers=1),\n",
        "    \n",
        "    'test'  : torch.utils.data.DataLoader(test_data, \n",
        "                                          batch_size=100, \n",
        "                                          shuffle=True, \n",
        "                                          num_workers=1),\n",
        "}\n",
        "loaders"
      ],
      "execution_count": 45,
      "outputs": [
        {
          "output_type": "execute_result",
          "data": {
            "text/plain": [
              "{'test': <torch.utils.data.dataloader.DataLoader at 0x7f6917692d50>,\n",
              " 'train': <torch.utils.data.dataloader.DataLoader at 0x7f6917692e10>}"
            ]
          },
          "metadata": {},
          "execution_count": 45
        }
      ]
    },
    {
      "cell_type": "code",
      "metadata": {
        "id": "qGKPFqQWyEOL"
      },
      "source": [
        "import torch.nn as nn\n",
        "class CNN(nn.Module):\n",
        "    def __init__(self):\n",
        "        super(CNN, self).__init__()\n",
        "        self.conv1 = nn.Sequential(         \n",
        "            nn.Conv2d(\n",
        "                in_channels=1,              \n",
        "                out_channels=16,            \n",
        "                kernel_size=5,              \n",
        "                stride=1,                   \n",
        "                padding=2,                  \n",
        "            ),                              \n",
        "            nn.ReLU(),                      \n",
        "            nn.MaxPool2d(kernel_size=2),    \n",
        "        )\n",
        "        self.conv2 = nn.Sequential(         \n",
        "            nn.Conv2d(16, 32, 5, 1, 2),     \n",
        "            nn.ReLU(),                      \n",
        "            nn.MaxPool2d(2),                \n",
        "        )\n",
        "        # fully connected layer, output 10 classes\n",
        "        self.out = nn.Linear(32 * 7 * 7, 10)\n",
        "    def forward(self, x):\n",
        "        x = self.conv1(x)\n",
        "        x = self.conv2(x)\n",
        "        # flatten the output of conv2 to (batch_size, 32 * 7 * 7)\n",
        "        x = x.view(x.size(0), -1)       \n",
        "        output = self.out(x)\n",
        "        return output, x    # return x for visualization"
      ],
      "execution_count": 46,
      "outputs": []
    },
    {
      "cell_type": "code",
      "metadata": {
        "colab": {
          "base_uri": "https://localhost:8080/"
        },
        "id": "uhcViCHhyLUM",
        "outputId": "824f8589-5006-49fa-bb00-a08717c9579d"
      },
      "source": [
        "cnn = CNN()\n",
        "print(cnn)"
      ],
      "execution_count": 47,
      "outputs": [
        {
          "output_type": "stream",
          "name": "stdout",
          "text": [
            "CNN(\n",
            "  (conv1): Sequential(\n",
            "    (0): Conv2d(1, 16, kernel_size=(5, 5), stride=(1, 1), padding=(2, 2))\n",
            "    (1): ReLU()\n",
            "    (2): MaxPool2d(kernel_size=2, stride=2, padding=0, dilation=1, ceil_mode=False)\n",
            "  )\n",
            "  (conv2): Sequential(\n",
            "    (0): Conv2d(16, 32, kernel_size=(5, 5), stride=(1, 1), padding=(2, 2))\n",
            "    (1): ReLU()\n",
            "    (2): MaxPool2d(kernel_size=2, stride=2, padding=0, dilation=1, ceil_mode=False)\n",
            "  )\n",
            "  (out): Linear(in_features=1568, out_features=10, bias=True)\n",
            ")\n"
          ]
        }
      ]
    },
    {
      "cell_type": "code",
      "metadata": {
        "colab": {
          "base_uri": "https://localhost:8080/"
        },
        "id": "b0SmtNjtyRkM",
        "outputId": "40b3a433-d4d7-4f24-eebe-f6a4b270ef86"
      },
      "source": [
        "loss_func = nn.CrossEntropyLoss()   \n",
        "loss_func"
      ],
      "execution_count": 48,
      "outputs": [
        {
          "output_type": "execute_result",
          "data": {
            "text/plain": [
              "CrossEntropyLoss()"
            ]
          },
          "metadata": {},
          "execution_count": 48
        }
      ]
    },
    {
      "cell_type": "code",
      "metadata": {
        "colab": {
          "base_uri": "https://localhost:8080/"
        },
        "id": "2VgM8e9dyVS1",
        "outputId": "26a1e265-e408-4470-c78d-3f41105a1bf3"
      },
      "source": [
        "from torch import optim\n",
        "optimizer = optim.Adam(cnn.parameters(), lr = 0.01)   \n",
        "optimizer"
      ],
      "execution_count": 49,
      "outputs": [
        {
          "output_type": "execute_result",
          "data": {
            "text/plain": [
              "Adam (\n",
              "Parameter Group 0\n",
              "    amsgrad: False\n",
              "    betas: (0.9, 0.999)\n",
              "    eps: 1e-08\n",
              "    lr: 0.01\n",
              "    weight_decay: 0\n",
              ")"
            ]
          },
          "metadata": {},
          "execution_count": 49
        }
      ]
    },
    {
      "cell_type": "code",
      "metadata": {
        "colab": {
          "base_uri": "https://localhost:8080/"
        },
        "id": "xsRERmkGyZzp",
        "outputId": "e1ad087d-9515-409c-c7fd-c8b95b81539e"
      },
      "source": [
        "from torch.autograd import Variable\n",
        "num_epochs = 10\n",
        "def train(num_epochs, cnn, loaders):\n",
        "    \n",
        "    cnn.train()\n",
        "        \n",
        "    # Train the model\n",
        "    total_step = len(loaders['train'])\n",
        "        \n",
        "    for epoch in range(num_epochs):\n",
        "        for i, (images, labels) in enumerate(loaders['train']):\n",
        "            \n",
        "            # gives batch data, normalize x when iterate train_loader\n",
        "            b_x = Variable(images)   # batch x\n",
        "            b_y = Variable(labels)   # batch y\n",
        "            output = cnn(b_x)[0]               \n",
        "            loss = loss_func(output, b_y)\n",
        "            \n",
        "            # clear gradients for this training step   \n",
        "            optimizer.zero_grad()           \n",
        "            \n",
        "            # backpropagation, compute gradients \n",
        "            loss.backward()    \n",
        "            # apply gradients             \n",
        "            optimizer.step()                \n",
        "            \n",
        "            if (i+1) % 100 == 0:\n",
        "                print ('Epoch [{}/{}], Step [{}/{}], Loss: {:.4f}' \n",
        "                       .format(epoch + 1, num_epochs, i + 1, total_step, loss.item()))\n",
        "                pass\n",
        "        \n",
        "        pass\n",
        "    \n",
        "    \n",
        "    pass\n",
        "train(num_epochs, cnn, loaders)"
      ],
      "execution_count": 50,
      "outputs": [
        {
          "output_type": "stream",
          "name": "stdout",
          "text": [
            "Epoch [1/10], Step [100/600], Loss: 0.1341\n",
            "Epoch [1/10], Step [200/600], Loss: 0.0800\n",
            "Epoch [1/10], Step [300/600], Loss: 0.0771\n",
            "Epoch [1/10], Step [400/600], Loss: 0.1201\n",
            "Epoch [1/10], Step [500/600], Loss: 0.0687\n",
            "Epoch [1/10], Step [600/600], Loss: 0.0430\n",
            "Epoch [2/10], Step [100/600], Loss: 0.1138\n",
            "Epoch [2/10], Step [200/600], Loss: 0.0273\n",
            "Epoch [2/10], Step [300/600], Loss: 0.0337\n",
            "Epoch [2/10], Step [400/600], Loss: 0.0046\n",
            "Epoch [2/10], Step [500/600], Loss: 0.0039\n",
            "Epoch [2/10], Step [600/600], Loss: 0.0338\n",
            "Epoch [3/10], Step [100/600], Loss: 0.0361\n",
            "Epoch [3/10], Step [200/600], Loss: 0.1702\n",
            "Epoch [3/10], Step [300/600], Loss: 0.1186\n",
            "Epoch [3/10], Step [400/600], Loss: 0.0046\n",
            "Epoch [3/10], Step [500/600], Loss: 0.0188\n",
            "Epoch [3/10], Step [600/600], Loss: 0.0415\n",
            "Epoch [4/10], Step [100/600], Loss: 0.0492\n",
            "Epoch [4/10], Step [200/600], Loss: 0.0025\n",
            "Epoch [4/10], Step [300/600], Loss: 0.0986\n",
            "Epoch [4/10], Step [400/600], Loss: 0.0273\n",
            "Epoch [4/10], Step [500/600], Loss: 0.0672\n",
            "Epoch [4/10], Step [600/600], Loss: 0.0600\n",
            "Epoch [5/10], Step [100/600], Loss: 0.1025\n",
            "Epoch [5/10], Step [200/600], Loss: 0.0048\n",
            "Epoch [5/10], Step [300/600], Loss: 0.0933\n",
            "Epoch [5/10], Step [400/600], Loss: 0.0093\n",
            "Epoch [5/10], Step [500/600], Loss: 0.0267\n",
            "Epoch [5/10], Step [600/600], Loss: 0.0252\n",
            "Epoch [6/10], Step [100/600], Loss: 0.0069\n",
            "Epoch [6/10], Step [200/600], Loss: 0.0140\n",
            "Epoch [6/10], Step [300/600], Loss: 0.1168\n",
            "Epoch [6/10], Step [400/600], Loss: 0.1506\n",
            "Epoch [6/10], Step [500/600], Loss: 0.0017\n",
            "Epoch [6/10], Step [600/600], Loss: 0.0081\n",
            "Epoch [7/10], Step [100/600], Loss: 0.0243\n",
            "Epoch [7/10], Step [200/600], Loss: 0.1048\n",
            "Epoch [7/10], Step [300/600], Loss: 0.0557\n",
            "Epoch [7/10], Step [400/600], Loss: 0.2032\n",
            "Epoch [7/10], Step [500/600], Loss: 0.0683\n",
            "Epoch [7/10], Step [600/600], Loss: 0.0346\n",
            "Epoch [8/10], Step [100/600], Loss: 0.1130\n",
            "Epoch [8/10], Step [200/600], Loss: 0.0606\n",
            "Epoch [8/10], Step [300/600], Loss: 0.0892\n",
            "Epoch [8/10], Step [400/600], Loss: 0.0378\n",
            "Epoch [8/10], Step [500/600], Loss: 0.0023\n",
            "Epoch [8/10], Step [600/600], Loss: 0.0004\n",
            "Epoch [9/10], Step [100/600], Loss: 0.0695\n",
            "Epoch [9/10], Step [200/600], Loss: 0.0504\n",
            "Epoch [9/10], Step [300/600], Loss: 0.0119\n",
            "Epoch [9/10], Step [400/600], Loss: 0.0049\n",
            "Epoch [9/10], Step [500/600], Loss: 0.0349\n",
            "Epoch [9/10], Step [600/600], Loss: 0.1583\n",
            "Epoch [10/10], Step [100/600], Loss: 0.0001\n",
            "Epoch [10/10], Step [200/600], Loss: 0.0005\n",
            "Epoch [10/10], Step [300/600], Loss: 0.0604\n",
            "Epoch [10/10], Step [400/600], Loss: 0.0099\n",
            "Epoch [10/10], Step [500/600], Loss: 0.1204\n",
            "Epoch [10/10], Step [600/600], Loss: 0.0035\n"
          ]
        }
      ]
    },
    {
      "cell_type": "code",
      "metadata": {
        "colab": {
          "base_uri": "https://localhost:8080/"
        },
        "id": "bdvqVQej06Gh",
        "outputId": "d7fddf43-48c3-4017-9fdc-7cb2f307f861"
      },
      "source": [
        "def test():\n",
        "    # Test the model\n",
        "    cnn.eval()\n",
        "    with torch.no_grad():\n",
        "        correct = 0\n",
        "        total = 0\n",
        "        for images, labels in loaders['test']:\n",
        "            test_output, last_layer = cnn(images)\n",
        "            pred_y = torch.max(test_output, 1)[1].data.squeeze()\n",
        "            accuracy = (pred_y == labels).sum().item() / float(labels.size(0))\n",
        "            pass\n",
        "            print('Test Accuracy of the model on the 10000 test images: %.2f' % accuracy)\n",
        "            pass\n",
        "test()"
      ],
      "execution_count": 51,
      "outputs": [
        {
          "output_type": "stream",
          "name": "stdout",
          "text": [
            "Test Accuracy of the model on the 10000 test images: 0.98\n",
            "Test Accuracy of the model on the 10000 test images: 0.99\n",
            "Test Accuracy of the model on the 10000 test images: 0.99\n",
            "Test Accuracy of the model on the 10000 test images: 1.00\n",
            "Test Accuracy of the model on the 10000 test images: 0.99\n",
            "Test Accuracy of the model on the 10000 test images: 0.99\n",
            "Test Accuracy of the model on the 10000 test images: 1.00\n",
            "Test Accuracy of the model on the 10000 test images: 0.99\n",
            "Test Accuracy of the model on the 10000 test images: 0.97\n",
            "Test Accuracy of the model on the 10000 test images: 0.98\n",
            "Test Accuracy of the model on the 10000 test images: 1.00\n",
            "Test Accuracy of the model on the 10000 test images: 1.00\n",
            "Test Accuracy of the model on the 10000 test images: 1.00\n",
            "Test Accuracy of the model on the 10000 test images: 0.99\n",
            "Test Accuracy of the model on the 10000 test images: 0.98\n",
            "Test Accuracy of the model on the 10000 test images: 0.98\n",
            "Test Accuracy of the model on the 10000 test images: 1.00\n",
            "Test Accuracy of the model on the 10000 test images: 0.98\n",
            "Test Accuracy of the model on the 10000 test images: 0.98\n",
            "Test Accuracy of the model on the 10000 test images: 0.99\n",
            "Test Accuracy of the model on the 10000 test images: 1.00\n",
            "Test Accuracy of the model on the 10000 test images: 0.99\n",
            "Test Accuracy of the model on the 10000 test images: 0.98\n",
            "Test Accuracy of the model on the 10000 test images: 1.00\n",
            "Test Accuracy of the model on the 10000 test images: 1.00\n",
            "Test Accuracy of the model on the 10000 test images: 0.99\n",
            "Test Accuracy of the model on the 10000 test images: 0.99\n",
            "Test Accuracy of the model on the 10000 test images: 0.99\n",
            "Test Accuracy of the model on the 10000 test images: 0.99\n",
            "Test Accuracy of the model on the 10000 test images: 0.97\n",
            "Test Accuracy of the model on the 10000 test images: 0.98\n",
            "Test Accuracy of the model on the 10000 test images: 0.98\n",
            "Test Accuracy of the model on the 10000 test images: 0.98\n",
            "Test Accuracy of the model on the 10000 test images: 1.00\n",
            "Test Accuracy of the model on the 10000 test images: 0.98\n",
            "Test Accuracy of the model on the 10000 test images: 1.00\n",
            "Test Accuracy of the model on the 10000 test images: 0.98\n",
            "Test Accuracy of the model on the 10000 test images: 0.99\n",
            "Test Accuracy of the model on the 10000 test images: 1.00\n",
            "Test Accuracy of the model on the 10000 test images: 0.99\n",
            "Test Accuracy of the model on the 10000 test images: 0.96\n",
            "Test Accuracy of the model on the 10000 test images: 0.99\n",
            "Test Accuracy of the model on the 10000 test images: 0.98\n",
            "Test Accuracy of the model on the 10000 test images: 0.99\n",
            "Test Accuracy of the model on the 10000 test images: 1.00\n",
            "Test Accuracy of the model on the 10000 test images: 0.99\n",
            "Test Accuracy of the model on the 10000 test images: 0.99\n",
            "Test Accuracy of the model on the 10000 test images: 1.00\n",
            "Test Accuracy of the model on the 10000 test images: 0.99\n",
            "Test Accuracy of the model on the 10000 test images: 1.00\n",
            "Test Accuracy of the model on the 10000 test images: 0.99\n",
            "Test Accuracy of the model on the 10000 test images: 0.99\n",
            "Test Accuracy of the model on the 10000 test images: 0.98\n",
            "Test Accuracy of the model on the 10000 test images: 0.99\n",
            "Test Accuracy of the model on the 10000 test images: 0.99\n",
            "Test Accuracy of the model on the 10000 test images: 1.00\n",
            "Test Accuracy of the model on the 10000 test images: 1.00\n",
            "Test Accuracy of the model on the 10000 test images: 0.98\n",
            "Test Accuracy of the model on the 10000 test images: 0.97\n",
            "Test Accuracy of the model on the 10000 test images: 0.98\n",
            "Test Accuracy of the model on the 10000 test images: 0.98\n",
            "Test Accuracy of the model on the 10000 test images: 1.00\n",
            "Test Accuracy of the model on the 10000 test images: 0.99\n",
            "Test Accuracy of the model on the 10000 test images: 0.97\n",
            "Test Accuracy of the model on the 10000 test images: 0.99\n",
            "Test Accuracy of the model on the 10000 test images: 1.00\n",
            "Test Accuracy of the model on the 10000 test images: 0.97\n",
            "Test Accuracy of the model on the 10000 test images: 0.98\n",
            "Test Accuracy of the model on the 10000 test images: 0.99\n",
            "Test Accuracy of the model on the 10000 test images: 1.00\n",
            "Test Accuracy of the model on the 10000 test images: 1.00\n",
            "Test Accuracy of the model on the 10000 test images: 0.97\n",
            "Test Accuracy of the model on the 10000 test images: 1.00\n",
            "Test Accuracy of the model on the 10000 test images: 0.97\n",
            "Test Accuracy of the model on the 10000 test images: 0.99\n",
            "Test Accuracy of the model on the 10000 test images: 0.99\n",
            "Test Accuracy of the model on the 10000 test images: 0.98\n",
            "Test Accuracy of the model on the 10000 test images: 0.98\n",
            "Test Accuracy of the model on the 10000 test images: 0.99\n",
            "Test Accuracy of the model on the 10000 test images: 0.98\n",
            "Test Accuracy of the model on the 10000 test images: 0.98\n",
            "Test Accuracy of the model on the 10000 test images: 0.98\n",
            "Test Accuracy of the model on the 10000 test images: 0.99\n",
            "Test Accuracy of the model on the 10000 test images: 0.99\n",
            "Test Accuracy of the model on the 10000 test images: 0.97\n",
            "Test Accuracy of the model on the 10000 test images: 1.00\n",
            "Test Accuracy of the model on the 10000 test images: 1.00\n",
            "Test Accuracy of the model on the 10000 test images: 0.98\n",
            "Test Accuracy of the model on the 10000 test images: 0.99\n",
            "Test Accuracy of the model on the 10000 test images: 0.97\n",
            "Test Accuracy of the model on the 10000 test images: 1.00\n",
            "Test Accuracy of the model on the 10000 test images: 0.99\n",
            "Test Accuracy of the model on the 10000 test images: 0.99\n",
            "Test Accuracy of the model on the 10000 test images: 0.99\n",
            "Test Accuracy of the model on the 10000 test images: 0.97\n",
            "Test Accuracy of the model on the 10000 test images: 1.00\n",
            "Test Accuracy of the model on the 10000 test images: 0.98\n",
            "Test Accuracy of the model on the 10000 test images: 0.98\n",
            "Test Accuracy of the model on the 10000 test images: 0.98\n",
            "Test Accuracy of the model on the 10000 test images: 0.98\n"
          ]
        }
      ]
    },
    {
      "cell_type": "code",
      "metadata": {
        "id": "rPz1FEB12AN1"
      },
      "source": [
        "sample = next(iter(loaders['test']))\n",
        "imgs, lbls = sample"
      ],
      "execution_count": 52,
      "outputs": []
    },
    {
      "cell_type": "code",
      "metadata": {
        "colab": {
          "base_uri": "https://localhost:8080/"
        },
        "id": "eSDt4NBd2Dny",
        "outputId": "7477de59-c51b-4d9c-c802-69d3d6758c90"
      },
      "source": [
        "actual_number = lbls[:10].numpy()\n",
        "actual_number"
      ],
      "execution_count": 53,
      "outputs": [
        {
          "output_type": "execute_result",
          "data": {
            "text/plain": [
              "array([4, 1, 0, 9, 8, 7, 0, 9, 6, 2])"
            ]
          },
          "metadata": {},
          "execution_count": 53
        }
      ]
    },
    {
      "cell_type": "code",
      "metadata": {
        "colab": {
          "base_uri": "https://localhost:8080/"
        },
        "id": "TrlddGA52j3J",
        "outputId": "1617eb0a-20ed-4864-b3d7-5734d94e72f1"
      },
      "source": [
        "test_output, last_layer = cnn(imgs[:10])\n",
        "pred_y = torch.max(test_output, 1)[1].data.numpy().squeeze()\n",
        "print(f'Prediction number: {pred_y}')\n",
        "print(f'Actual number: {actual_number}')"
      ],
      "execution_count": 54,
      "outputs": [
        {
          "output_type": "stream",
          "name": "stdout",
          "text": [
            "Prediction number: [4 1 0 9 8 7 0 9 6 2]\n",
            "Actual number: [4 1 0 9 8 7 0 9 6 2]\n"
          ]
        }
      ]
    }
  ]
}